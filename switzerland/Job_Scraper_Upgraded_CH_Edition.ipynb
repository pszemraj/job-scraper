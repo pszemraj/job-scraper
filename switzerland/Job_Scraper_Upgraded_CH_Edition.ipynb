{
  "nbformat": 4,
  "nbformat_minor": 0,
  "metadata": {
    "kernelspec": {
      "display_name": "Python 3",
      "language": "python",
      "name": "python3"
    },
    "language_info": {
      "codemirror_mode": {
        "name": "ipython",
        "version": 3
      },
      "file_extension": ".py",
      "mimetype": "text/x-python",
      "name": "python",
      "nbconvert_exporter": "python",
      "pygments_lexer": "ipython3",
      "version": "3.7.3"
    },
    "colab": {
      "name": "Job Scraper Upgraded - CH Edition",
      "provenance": [],
      "collapsed_sections": [],
      "machine_shape": "hm",
      "include_colab_link": true
    }
  },
  "cells": [
    {
      "cell_type": "markdown",
      "metadata": {
        "id": "view-in-github",
        "colab_type": "text"
      },
      "source": [
        "<a href=\"https://colab.research.google.com/github/pszemraj/job-scraper/blob/master/switzerland/Job_Scraper_Upgraded_CH_Edition.ipynb\" target=\"_parent\"><img src=\"https://colab.research.google.com/assets/colab-badge.svg\" alt=\"Open In Colab\"/></a>"
      ]
    },
    {
      "cell_type": "markdown",
      "metadata": {
        "id": "-PjVjR8lmmQx"
      },
      "source": [
        "# Job Scraping + Viz: Modified for CH\n",
        "\n",
        "---\n",
        "Created by: [Peter Szemraj](https://peterszemraj.ch/)\n",
        "\n",
        "1. [link](https://github.com/pszemraj/job-scraper) to the repo of this project\n",
        "\n",
        "*Date 26.05.2021*\n",
        "\n",
        "---\n",
        "original code forked from [this article](https://towardsdatascience.com/automating-my-job-search-with-python-ee2b465c6a8f) on medium\n",
        "\n",
        "Key Features:\n",
        "1. connects to your google drive and saves the search files there\n",
        "2. clusters and visualizes job postings for faster \"find what I actually care about\"\n",
        "\n",
        "\n",
        "**Note**\n",
        "\n",
        "If you are editing this code / adapting to a different country/site for Indeed, sections that likely need to be changed are described with comments <font color='orange'>**in orange font**</font>\n",
        "\n",
        "---\n"
      ]
    },
    {
      "cell_type": "markdown",
      "metadata": {
        "id": "-Hhorcuihr-u"
      },
      "source": [
        "# Setup"
      ]
    },
    {
      "cell_type": "markdown",
      "metadata": {
        "id": "zEigMy50jJ4h"
      },
      "source": [
        "### Google Drive\n",
        "\n",
        "- If you don't wish to use this part, you can skip it. The below should still work on the virtual machine local directory, but files will likely need to be downloaded manually\n",
        "- To manually download files, click on the folder on the left side of your colab window (in the navigation pane)\n"
      ]
    },
    {
      "cell_type": "code",
      "metadata": {
        "id": "bIyU8N7fjKzV",
        "colab": {
          "base_uri": "https://localhost:8080/"
        },
        "outputId": "4a37b218-2712-4ed7-f4ca-93b07ab16cc0"
      },
      "source": [
        "# create interface to upload / interact with google drive and video files\n",
        "from google.colab import files\n",
        "from google.colab import drive\n",
        "drive.mount('/content/drive')\n",
        "\n",
        "# after you allow the authentication, you can work using the path \"/content/drive/My Drive\"\n",
        "# if it works it will say \"Mounted at /content/drive\""
      ],
      "execution_count": 1,
      "outputs": [
        {
          "output_type": "stream",
          "text": [
            "Mounted at /content/drive\n"
          ],
          "name": "stdout"
        }
      ]
    },
    {
      "cell_type": "markdown",
      "metadata": {
        "id": "_yZvUCO1jj4Y"
      },
      "source": [
        "### Filepaths on Drive\n",
        "\n",
        "saves all runs to a folder in your google drive with today's date. Folder is created if it doesn't exist \n",
        "\n",
        "<font color='orange'> update the **directory** variable to a custom filepath if desired  </font>"
      ]
    },
    {
      "cell_type": "code",
      "metadata": {
        "id": "yXTiNdwKjdK5",
        "colab": {
          "base_uri": "https://localhost:8080/"
        },
        "outputId": "cbe75780-c139-4c43-c24e-4307db3232ce"
      },
      "source": [
        "from datetime import date\n",
        "import os\n",
        "from os.path import join, isdir\n",
        "today = date.today()\n",
        "# Month abbreviation, day and year\t\n",
        "td_date = today.strftime(\"%b-%d-%Y\")\n",
        "\n",
        "folder_name = \"job_search_results_\" + td_date\n",
        "directory = \"/content/drive/MyDrive/Career/job_search_repo\"\n",
        "\n",
        "# check if transcription folder exists. If not, create it\n",
        "output_folder_path = join(directory, folder_name)\n",
        "\n",
        "try:\n",
        "    # set working directory (WD) to output_folder_path as defined\n",
        "    if not isdir(output_folder_path):\n",
        "        os.mkdir(output_folder_path)  # make a place to store outputs if one does not exist\n",
        "\n",
        "        print(\"needed to create the folder: {}. Its location is: \\n\".format(folder_name),\n",
        "            output_folder_path)\n",
        "\n",
        "    os.chdir(output_folder_path)\n",
        "except:\n",
        "    # failsafe in case drive does not work\n",
        "    print(\"warning - unable to set drive as WD, using local VM\")\n",
        "    output_folder_path = os.getcwd()\n",
        "print(\"\\n\\n the current working directory is: \\n\", output_folder_path)"
      ],
      "execution_count": 2,
      "outputs": [
        {
          "output_type": "stream",
          "text": [
            "needed to create the folder: job_search_results_Jun-15-2021. Its location is: \n",
            " /content/drive/MyDrive/Career/job_search_repo/job_search_results_Jun-15-2021\n",
            "\n",
            "\n",
            " the current working directory is: \n",
            " /content/drive/MyDrive/Career/job_search_repo/job_search_results_Jun-15-2021\n"
          ],
          "name": "stdout"
        }
      ]
    },
    {
      "cell_type": "markdown",
      "metadata": {
        "id": "QDAk9c3TjKM0"
      },
      "source": [
        "### Install & Import\n"
      ]
    },
    {
      "cell_type": "code",
      "metadata": {
        "id": "tffFYWQPi-KF"
      },
      "source": [
        "%%capture\n",
        "\"\"\"\n",
        "libraries added / installed by Peter\n",
        "\n",
        "\"\"\"\n",
        "\n",
        "!pip install -U selenium\n",
        "!pip install -U bs4\n",
        "!pip install -U texthero\n",
        "!pip install -U plotly\n",
        "!pip install pyshorteners\n",
        "!pip install sister\n",
        "!pip install -U kneed\n",
        "\n",
        "from os.path import join\n",
        "from google.colab import data_table\n",
        "import texthero as hero\n",
        "import pprint as pp\n",
        "import sister\n",
        "\n",
        "%load_ext google.colab.data_table\n"
      ],
      "execution_count": 3,
      "outputs": []
    },
    {
      "cell_type": "code",
      "metadata": {
        "id": "L1Xu5tlXhpC8"
      },
      "source": [
        "\"\"\"\n",
        "libraries imported in the originally forked version of this code. \n",
        "\n",
        "Created on Tue Apr 28 11:35:04 2020\n",
        "@author: chrislovejoy\n",
        "\"\"\"\n",
        "import urllib\n",
        "import requests\n",
        "from bs4 import BeautifulSoup\n",
        "import selenium\n",
        "from selenium import webdriver\n",
        "from selenium.webdriver.support.ui import WebDriverWait\n",
        "import pandas as pd\n",
        "import os"
      ],
      "execution_count": 4,
      "outputs": []
    },
    {
      "cell_type": "markdown",
      "metadata": {
        "id": "2amAUOM5piqT"
      },
      "source": [
        "formats jupyter notebook / colab"
      ]
    },
    {
      "cell_type": "code",
      "metadata": {
        "id": "gFxtFF3Ql_4W"
      },
      "source": [
        "from IPython.display import HTML, display\n",
        "def set_css():\n",
        "  display(HTML('''\n",
        "  <style>\n",
        "    pre {\n",
        "        white-space: pre-wrap;\n",
        "    }\n",
        "  </style>\n",
        "  '''))\n",
        "get_ipython().events.register('pre_run_cell', set_css)"
      ],
      "execution_count": 5,
      "outputs": []
    },
    {
      "cell_type": "markdown",
      "metadata": {
        "id": "F3JHDcx3hrsR"
      },
      "source": [
        "# Job Search Functions\n"
      ]
    },
    {
      "cell_type": "markdown",
      "metadata": {
        "id": "dOvrznfs46rr"
      },
      "source": [
        "## generic\n",
        "\n",
        "cuttly [website](https://cutt.ly/edit)\n",
        "cuttly tutorial w/ Python [here](https://towardsdatascience.com/best-apis-for-url-shortening-using-python-2db09d1f86f0)\n",
        "\n",
        "\n",
        "pyshorteners [docs](https://pyshorteners.readthedocs.io/en/latest/)\n"
      ]
    },
    {
      "cell_type": "markdown",
      "metadata": {
        "id": "4Zpez9VIrXaL"
      },
      "source": [
        "### misc.\n",
        "\n",
        "<font color='orange'> add own API key for link shortening as needed</font>\n"
      ]
    },
    {
      "cell_type": "code",
      "metadata": {
        "id": "Mkf4LMbS2Ex6",
        "colab": {
          "base_uri": "https://localhost:8080/",
          "height": 17
        },
        "outputId": "e6af8ea9-38ef-48b4-cba3-78113b6efb09"
      },
      "source": [
        "import requests\n",
        "import time, random\n",
        "import pyshorteners\n",
        "\n",
        "def save_jobs_to_excel(jobs_list, filename, verbose=False):\n",
        "    # i have no idea what this function does\n",
        "    jobs = pd.DataFrame(jobs_list)\n",
        "    jobs.to_excel(filename)\n",
        "\n",
        "    if verbose:\n",
        "        print(\"saved the following to excel with filename {}: \\n\".format(filename))\n",
        "\n",
        "        print(jobs.info())\n",
        "    return jobs\n",
        "\n",
        "def shorten_URL_bitly(long_url, verbose=False):\n",
        "    # requires free account / API token. https://bitly.com/\n",
        "    # generate short URLs from the ones scraped \n",
        "\n",
        "    time.sleep(random.randint(1,5)) # don't overload API\n",
        "\n",
        "    ACCESS_TOKEN = \"hahah_get_ur_own\"\n",
        "\n",
        "    # Shorten long URL\n",
        "    try:\n",
        "        s = pyshorteners.Shortener(api_key=ACCESS_TOKEN)\n",
        "        short_url = s.bitly.short(long_url)\n",
        "\n",
        "        if verbose:\n",
        "            print (\"Short URL is {}\".format(short_url))\n",
        "    except:\n",
        "        print(\"Error accessing API for key {} and fn shorten_URL_bitly\".format(ACCESS_TOKEN))\n",
        "        print(\"Try updating API key / checking fn. Returning original url\")\n",
        "        short_url = long_url\n",
        "        \n",
        "    return short_url\n",
        "\n",
        "\n",
        "def text_first_N(text, num=40):\n",
        "    # returns the first N chars in text, i.e. for long job descriptions\n",
        "    # for use with Pandas .apply() function\n",
        "\n",
        "    text = str(text) #convert to string\n",
        "\n",
        "    if isinstance(text, list):\n",
        "        text = \" \".join(text)\n",
        "\n",
        "    if len(text) <= num:\n",
        "        return text\n",
        "    else:\n",
        "        short_text = text[:num]\n",
        "        return short_text + \"..\""
      ],
      "execution_count": 6,
      "outputs": [
        {
          "output_type": "display_data",
          "data": {
            "text/html": [
              "\n",
              "  <style>\n",
              "    pre {\n",
              "        white-space: pre-wrap;\n",
              "    }\n",
              "  </style>\n",
              "  "
            ],
            "text/plain": [
              "<IPython.core.display.HTML object>"
            ]
          },
          "metadata": {
            "tags": []
          }
        }
      ]
    },
    {
      "cell_type": "markdown",
      "metadata": {
        "id": "iKpVSo1HFMV-"
      },
      "source": [
        "### optimize k-means no.\n",
        "\n",
        "stole this snippet from a different project of mine - was written several months ago, don't judge the efficiency"
      ]
    },
    {
      "cell_type": "code",
      "metadata": {
        "id": "6FdgV9BNAF5n",
        "colab": {
          "base_uri": "https://localhost:8080/",
          "height": 17
        },
        "outputId": "a92f4d43-329c-45da-8bd7-0936a2059ae9"
      },
      "source": [
        "from kneed import KneeLocator\n",
        "from sklearn.cluster import KMeans\n",
        "from sklearn.preprocessing import StandardScaler\n",
        "\n",
        "def optimal_num_clustas(input_matrix, d_title, top_end=11, show_plot=False,\n",
        "                        write_image=False):\n",
        "    # given 'input_matrix' as a pandas series containing a list / vector in each\n",
        "    # row, find the optimal number of k_means clusters to cluster them using \n",
        "    # the elbow method\n",
        "\n",
        "    # 'top_end' is the max number of clusters. If having issues, look at the plot\n",
        "    # and adjust accordingly\n",
        "\n",
        "    scaler = StandardScaler()\n",
        "    # texthero input data structure is weird.\n",
        "    #  stole the below if/else from the source code behind TH kmeans fn\n",
        "    # https://github.com/jbesomi/texthero/blob/master/texthero/representation.py\n",
        "\n",
        "    if isinstance(input_matrix, pd.DataFrame):\n",
        "        # fixes weird issues parsing a texthero edited text pd series\n",
        "        input_matrix_coo = input_matrix.sparse.to_coo()\n",
        "        input_matrix_for_vectorization = input_matrix_coo.astype(\"float64\")\n",
        "    else:\n",
        "        input_matrix_for_vectorization = list(input_matrix)\n",
        "\n",
        "    scaled_features = scaler.fit_transform(input_matrix_for_vectorization)\n",
        "    kmeans_kwargs = {\n",
        "        \"init\": \"random\",\n",
        "        \"n_init\": 30,\n",
        "        \"max_iter\": 300,\n",
        "        \"random_state\": 42\n",
        "    }\n",
        "    # A list holds the SSE values for each k\n",
        "    sse = []\n",
        "    for k in range(1, top_end):\n",
        "        kmeans = KMeans(n_clusters=k, **kmeans_kwargs)\n",
        "        kmeans.fit(scaled_features)\n",
        "        sse.append(kmeans.inertia_)\n",
        "\n",
        "    # plot to illustrate (viewing it is optional)\n",
        "    title_k = 'Optimal k-means for' + d_title\n",
        "    kmeans_opt_df = pd.DataFrame(list(zip(range(1, top_end), sse)), columns=['Number of Clusters', 'SSE'])\n",
        "    f_k = px.line(kmeans_opt_df, x='Number of Clusters', y='SSE', title=title_k)\n",
        "    # find optimum\n",
        "    kl = KneeLocator(range(1, top_end), sse, \n",
        "                     curve=\"convex\", direction=\"decreasing\")\n",
        "    onk = kl.elbow\n",
        "\n",
        "    if onk is None:\n",
        "        print(\"Warning - {} has no solution for optimal k-means\".format(d_title))\n",
        "        print(\"Returning # of clusters as max allowed ( {} )\".format(top_end))\n",
        "        return top_end\n",
        "\n",
        "    if onk == top_end:\n",
        "        print(\"Warning - {} opt. # equals max value searched ({})\".format(d_title,\n",
        "                                                                          top_end))\n",
        "\n",
        "    print(\"\\nFor {}: opt. # of k-means clusters is {} \\n\".format(d_title, onk))\n",
        "    f_k.add_vline(x=onk) # add vertical line to plotly \n",
        "\n",
        "    if show_plot:\n",
        "        f_k.show() \n",
        "\n",
        "    if write_image:\n",
        "        f_k.write_image(join(output_path_full, title_k + \".png\"))\n",
        "\n",
        "    return onk"
      ],
      "execution_count": 7,
      "outputs": [
        {
          "output_type": "display_data",
          "data": {
            "text/html": [
              "\n",
              "  <style>\n",
              "    pre {\n",
              "        white-space: pre-wrap;\n",
              "    }\n",
              "  </style>\n",
              "  "
            ],
            "text/plain": [
              "<IPython.core.display.HTML object>"
            ]
          },
          "metadata": {
            "tags": []
          }
        }
      ]
    },
    {
      "cell_type": "markdown",
      "metadata": {
        "id": "jNYJN5pwsP9z"
      },
      "source": [
        "---"
      ]
    },
    {
      "cell_type": "markdown",
      "metadata": {
        "id": "KBiXnF2jzou_"
      },
      "source": [
        "## visualization \n",
        "\n",
        "Use texthero built-in visualization methods and then plot them *explicitly* in Plotly because it has dark mode and TextHero's plotly wrapper function does not\n",
        "\n",
        "- texthero represendation [docs](https://texthero.org/docs/api-representation)\n",
        "\n",
        "- plotly [scatterplot overview](https://plotly.com/python/line-and-scatter/)\n",
        "    - px.scatter() detailed [documentation](https://plotly.com/python-api-reference/generated/plotly.express.scatter)\n",
        "\n",
        "### Options:\n",
        "1. ```viz_job_data(df)``` is the OG version, vectorizes text with TFIDF and plots with PCA. \n",
        "    - Uses k-means nclusters as 5\n",
        "2. ```viz_job_data_word2vec(df)``` vectorizes text with word2vec (*computing \"average\" 300-d vector*) and plots with PCA\n",
        "    - computes optimal # of kmeans clusters (max set to 15)\n",
        "\n",
        "---"
      ]
    },
    {
      "cell_type": "markdown",
      "metadata": {
        "id": "AyYd-hdx7YWb"
      },
      "source": [
        "### standard\n",
        "\n",
        "\n",
        "uses everything built-in to the texthero package:\n",
        "- keeps kmeans clusters @ 5\n",
        "- text is converted to vector based on tf-idf\n",
        "    - (anecdotally this doesn't seem to work well if your \"document\" is short like these job listings)"
      ]
    },
    {
      "cell_type": "code",
      "metadata": {
        "id": "nlpav-ahzo07",
        "colab": {
          "base_uri": "https://localhost:8080/",
          "height": 17
        },
        "outputId": "31a01af6-ea14-4d9f-a390-2252627b2d2c"
      },
      "source": [
        "from datetime import datetime, date\n",
        "import plotly.express as px\n",
        "\n",
        "plots_made = 0\n",
        "\n",
        "def viz_job_data(viz_df, text_col_name, save_plot=False, h=720):\n",
        "\n",
        "    today = date.today()\n",
        "    # Month abbreviation, day and year\t\n",
        "    td_str = today.strftime(\"%b-%d-%Y\")\n",
        "\n",
        "    viz_df['tfidf'] = (\n",
        "        viz_df[text_col_name]\n",
        "        .pipe(hero.clean)\n",
        "        .pipe(hero.tfidf)\n",
        "    )\n",
        "\n",
        "    viz_df['kmeans'] = (\n",
        "        viz_df['tfidf']\n",
        "        .pipe(hero.kmeans, n_clusters=5)\n",
        "        .astype(str)\n",
        "    )\n",
        "\n",
        "    viz_df['pca'] = (\n",
        "        viz_df['tfidf']\n",
        "        .pipe(hero.pca)\n",
        "    )\n",
        "\n",
        "    hv_list = list(viz_df.columns)\n",
        "    hv_list.remove('tfidf')\n",
        "    hv_list.remove('pca')\n",
        "    hv_list.remove('summary')\n",
        "\n",
        "    plot_title = td_str + \" Vizualize Companies by {} Data\".format(text_col_name)\n",
        "\n",
        "    # reformat data so don't have to use built-in plotting \n",
        "\n",
        "    df_split_pca = pd.DataFrame(viz_df[\"pca\"].to_list(), columns=['pca_x', 'pca_y'])\n",
        "    viz_df.drop(columns=\"pca\", inplace=True) # drop original PCA column\n",
        "    viz_df = pd.concat([viz_df, df_split_pca], axis=1) # merge dataframes\n",
        "\n",
        "    # plot pca data\n",
        "    # texthero also features pther ways to reduce dimensions besides pca, see docs\n",
        "\n",
        "    w = int(h * (4/3))\n",
        "\n",
        "    fig_s = px.scatter(viz_df, x= \"pca_x\", y=\"pca_y\", color=\"kmeans\", \n",
        "                     hover_data=hv_list, title=plot_title, height=h, width=w,\n",
        "                     template=\"plotly_dark\")\n",
        "    fig_s.show()\n",
        "\n",
        "    if save_plot:\n",
        "        plots_made += 1\n",
        "\n",
        "        fig.write_html(plot_title + str(plots_made) + \".html\", \n",
        "                       include_plotlyjs=True)\n",
        "\n",
        "    print(\"plot generated - \", datetime.now())"
      ],
      "execution_count": 8,
      "outputs": [
        {
          "output_type": "display_data",
          "data": {
            "text/html": [
              "\n",
              "  <style>\n",
              "    pre {\n",
              "        white-space: pre-wrap;\n",
              "    }\n",
              "  </style>\n",
              "  "
            ],
            "text/plain": [
              "<IPython.core.display.HTML object>"
            ]
          },
          "metadata": {
            "tags": []
          }
        }
      ]
    },
    {
      "cell_type": "markdown",
      "metadata": {
        "id": "Ywbr89TOwiRp"
      },
      "source": [
        "### word2vec viz\n",
        "\n",
        "- word2vec [explanation](https://towardsdatascience.com/introduction-to-word-embedding-and-word2vec-652d0c2060fa) for those uninitiated\n",
        "-gensim [link](https://radimrehurek.com/gensim/auto_examples/tutorials/run_doc2vec_lee.html)\n",
        "\n",
        "Re: using word2vec in a basic way for sentence embedding\n",
        "\n",
        "> With the Word2Vec model, we can calculate the vectors for each word in a document. But what if we want to calculate a vector for the entire document? We could average the vectors for each word in the document - while this is quick and crude, it can often be useful. However, there is a better way… \n",
        "> *goes on to discuss doc2vec which does not have pretrained models*\n",
        "\n",
        "---\n",
        "\n",
        "re: ^ I am not doing the better way. Load the word2vec-google-news-300 dataset from gensim, then iterate through all words in the input text, generate the vector for that word, then take the mean of those. Only words with length 3 or greater are considered. \n",
        "\n",
        "---\n",
        "<font color='orange'>**DISCLAIMER: IT TAKES A BIT TO DOWNLOAD THE GENSIM / GOOGLE MODEL**</font>\n",
        "- <font color='orange'>possible to save the model locally (on disk/gdrive) if desired</font>\n"
      ]
    },
    {
      "cell_type": "code",
      "metadata": {
        "id": "Uk4Pi_PFwhkL",
        "colab": {
          "base_uri": "https://localhost:8080/",
          "height": 176
        },
        "outputId": "7ff93321-3bdc-4dce-a8ce-bd45abf6c840"
      },
      "source": [
        "import gensim.downloader as api\n",
        "\n",
        "# model = api.load(\"word2vec-ruscorpora-300\")\n",
        "model = api.load(\"word2vec-google-news-300\")\n",
        "print(\"loaded data for word2vec - \", datetime.now())\n",
        "\n",
        "print(\"test the model\")\n",
        "test_string = \"computer\"\n",
        "vector = model.wv[test_string]\n",
        "\n",
        "print(\"The shape of string {} is: \\n {}\".format(test_string, vector.shape))\n",
        "pp.pprint(vector.shape, compact=True)"
      ],
      "execution_count": 9,
      "outputs": [
        {
          "output_type": "display_data",
          "data": {
            "text/html": [
              "\n",
              "  <style>\n",
              "    pre {\n",
              "        white-space: pre-wrap;\n",
              "    }\n",
              "  </style>\n",
              "  "
            ],
            "text/plain": [
              "<IPython.core.display.HTML object>"
            ]
          },
          "metadata": {
            "tags": []
          }
        },
        {
          "output_type": "stream",
          "text": [
            "[==================================================] 100.0% 1662.8/1662.8MB downloaded\n",
            "loaded data for word2vec -  2021-06-15 22:20:41.360822\n",
            "test the model\n",
            "The shape of string computer is: \n",
            " (300,)\n",
            "(300,)\n"
          ],
          "name": "stdout"
        },
        {
          "output_type": "stream",
          "text": [
            "/usr/local/lib/python3.7/dist-packages/ipykernel_launcher.py:9: DeprecationWarning: Call to deprecated `wv` (Attribute will be removed in 4.0.0, use self instead).\n",
            "  if __name__ == '__main__':\n"
          ],
          "name": "stderr"
        }
      ]
    },
    {
      "cell_type": "markdown",
      "metadata": {
        "id": "v9Ji5Lg9ELit"
      },
      "source": [
        "iterate through all words in the input text generate the word2vec vector for that word, then take the mean of those. Only words with length 3 or greater are considered.\n",
        "\n",
        "**note that if a word is not in the google news dataset, it is just skipped. If you think the graphs / representations are not good enough, you should check to ensure that a large amount of words (or fraction rather) are not being skipped)**\n",
        "* the verbose parameter helps with that"
      ]
    },
    {
      "cell_type": "code",
      "metadata": {
        "id": "Vn7CHPJZwhAv",
        "colab": {
          "base_uri": "https://localhost:8080/",
          "height": 17
        },
        "outputId": "3675af22-c42e-4936-a46c-7ffa1f7d87d7"
      },
      "source": [
        "import numpy as np\n",
        "\n",
        "def get_vector_freetext(input_text, verbose=0, cutoff=2):\n",
        "    # always uses locally initialized model, i.e. \"model\" variable (see above cells)\n",
        "\n",
        "    # verbose = 1 shows you how many words were skipped\n",
        "    # verbose = 2 tells you each individual skipped word and ^\n",
        "    # 'cutoff' removes all words with length N or less from the rep. vector\n",
        "\n",
        "    lower_it = input_text.lower()\n",
        "    input_words = lower_it.split(\" \") # yes, this is an assumption\n",
        "    usable_words = [word for word in input_words if len(word) > cutoff]\n",
        "\n",
        "    list_of_vectors = []\n",
        "    num_words_total = len(usable_words)\n",
        "    num_excluded = 0\n",
        "\n",
        "    for word in usable_words:\n",
        "        try:\n",
        "            this_vector = model.wv[word]\n",
        "            list_of_vectors.append(this_vector)\n",
        "        except:\n",
        "            num_excluded += 1\n",
        "            if verbose == 2:\n",
        "                print(\"\\nThe word/term {} is not in the model vocab.\".format(word))\n",
        "                print(\"Excluding from representative vector\")\n",
        "\n",
        "    rep_vec = np.mean(list_of_vectors, axis=0)\n",
        "\n",
        "    if verbose > 0:\n",
        "        print(\"Computed representative vector. Excluded {} words out of {}\".format(num_excluded,\n",
        "                                                                            num_words_total))\n",
        "\n",
        "    return rep_vec"
      ],
      "execution_count": 10,
      "outputs": [
        {
          "output_type": "display_data",
          "data": {
            "text/html": [
              "\n",
              "  <style>\n",
              "    pre {\n",
              "        white-space: pre-wrap;\n",
              "    }\n",
              "  </style>\n",
              "  "
            ],
            "text/plain": [
              "<IPython.core.display.HTML object>"
            ]
          },
          "metadata": {
            "tags": []
          }
        }
      ]
    },
    {
      "cell_type": "markdown",
      "metadata": {
        "id": "-8NdBrCiyAnt"
      },
      "source": [
        "#### Plotting function"
      ]
    },
    {
      "cell_type": "code",
      "metadata": {
        "id": "VinUUQ7uwFqZ",
        "colab": {
          "base_uri": "https://localhost:8080/",
          "height": 17
        },
        "outputId": "dede4b50-9d74-4a7e-af3f-04be69d5f65c"
      },
      "source": [
        "from datetime import datetime, date\n",
        "import plotly.express as px\n",
        "\n",
        "def viz_job_data_word2vec(viz_df, text_col_name, save_plot=False, h=720,\n",
        "                          query_name=\"\", show_text=False):\n",
        "\n",
        "    today = date.today()\n",
        "    # Month abbreviation, day and year\t\n",
        "    td_str = today.strftime(\"%b-%d-%Y\")\n",
        "\n",
        "    # compute word2vec avg vector for each row of text\n",
        "    viz_df['avg_vec'] = viz_df[text_col_name].apply(get_vector_freetext)\n",
        "\n",
        "    # get optimal number of kmeans. limit max to 15 for interpretability\n",
        "    max_clusters = 15\n",
        "    if len(viz_df['avg_vec']) < max_clusters: max_clusters = len(viz_df['avg_vec'])\n",
        "\n",
        "    kmeans_numC = optimal_num_clustas(viz_df['avg_vec'], \n",
        "                                      d_title='word2vec-' + query_name, \n",
        "                                      top_end=max_clusters)\n",
        "    \n",
        "    # complete k-means clustering + pca dim red. w/ avg_vec\n",
        "    if kmeans_numC is None:\n",
        "        kmeans_numC = 5 \n",
        "\n",
        "    viz_df['kmeans'] = (\n",
        "        viz_df['avg_vec']\n",
        "        .pipe(hero.kmeans, n_clusters=kmeans_numC, \n",
        "              algorithm=\"elkan\", random_state=42, n_init=30)\n",
        "        .astype(str)\n",
        "    )\n",
        "    # texthero has other algs to reduce dimensions besides pca, see docs\n",
        "    viz_df['pca'] = (\n",
        "        viz_df['avg_vec']\n",
        "        .pipe(hero.pca)\n",
        "    )\n",
        "\n",
        "    # generate list of column names for hover_data\n",
        "    hv_list = list(viz_df.columns)\n",
        "    hv_list.remove('avg_vec')\n",
        "    hv_list.remove('pca')\n",
        "    if \"tfidf\" in hv_list:\n",
        "        hv_list.remove('tfidf')\n",
        "    if \"summary\" in hv_list:\n",
        "        hv_list.remove('summary')\n",
        "\n",
        "    # reformat data so don't have to use texthero built-in plotting \n",
        "    df_split_pca = pd.DataFrame(viz_df[\"pca\"].to_list(), \n",
        "                                columns=['pca_x', 'pca_y'])\n",
        "    viz_df.drop(columns=\"pca\", inplace=True) # drop original PCA column\n",
        "    viz_df = pd.concat([viz_df, df_split_pca], axis=1) # merge dataframes\n",
        "\n",
        "    # set up plot pars (width, title, text)\n",
        "    w = int(h * (4/3))\n",
        "\n",
        "    if len(query_name) > 0:\n",
        "        # user provided query_name so include\n",
        "        plot_title = td_str + \" Vizualize Companies by {} text w word2vec\".format(text_col_name) + \" | \" + query_name\n",
        "    else:\n",
        "        plot_title = td_str + \" Vizualize Companies by {} text w word2vec\".format(text_col_name)\n",
        "\n",
        "    if show_text:\n",
        "        # adds company names to the plot if you want\n",
        "        viz_df[\"companies_abbrev\"] = viz_df[\"companies\"].apply(text_first_N, num=15)\n",
        "        graph_text_label = \"companies_abbrev\"\n",
        "    else:\n",
        "        graph_text_label = None\n",
        "    \n",
        "    # plot dimension-reduced data\n",
        "    fig_w2v = px.scatter(viz_df, x= \"pca_x\", y=\"pca_y\", color=\"kmeans\", \n",
        "                     hover_data=hv_list, title=plot_title, height=h, width=w,\n",
        "                     template=\"plotly_dark\", text=graph_text_label)\n",
        "    fig_w2v.show()\n",
        "\n",
        "    # save if requested \n",
        "    \n",
        "    if save_plot:\n",
        "        # saves the HTML file \n",
        "        # auto-saving as a static image is a lil difficult so just click on the interactive\n",
        "        # plot it generates \n",
        "        fig_w2v.write_html(plot_title + query_name + \"_\" + text_col_name + \".html\", \n",
        "                       include_plotlyjs=True)\n",
        "\n",
        "    print(\"plot generated - \", datetime.now())"
      ],
      "execution_count": 11,
      "outputs": [
        {
          "output_type": "display_data",
          "data": {
            "text/html": [
              "\n",
              "  <style>\n",
              "    pre {\n",
              "        white-space: pre-wrap;\n",
              "    }\n",
              "  </style>\n",
              "  "
            ],
            "text/plain": [
              "<IPython.core.display.HTML object>"
            ]
          },
          "metadata": {
            "tags": []
          }
        }
      ]
    },
    {
      "cell_type": "markdown",
      "metadata": {
        "id": "uXL23kllsMn8"
      },
      "source": [
        "---"
      ]
    },
    {
      "cell_type": "markdown",
      "metadata": {
        "id": "rC593SxF473a"
      },
      "source": [
        "## CH get_jobs() general fn\n",
        "\n",
        "The main function find_jobs_from() adjusted to work for CH\n",
        "\n",
        "\n",
        "<font color='orange'>if customizing this code, you need to change this</font>"
      ]
    },
    {
      "cell_type": "code",
      "metadata": {
        "id": "6ujVfjl91mVh",
        "colab": {
          "base_uri": "https://localhost:8080/",
          "height": 17
        },
        "outputId": "18abc612-390d-4f39-ed8f-754a18952209"
      },
      "source": [
        "from datetime import date\n",
        "import pprint as pp\n",
        "\n",
        "today = date.today()\n",
        "# Month abbreviation, day and year\t\n",
        "d4 = today.strftime(\"%b-%d-%Y\")\n",
        "\n",
        "default_filename = d4 + \"_[raw]_scraped_jobs_CH.xls\"\n",
        "\n",
        "def find_CHjobs_from(website, desired_characs, job_query, job_type=None, \n",
        "                   language=None, filename=default_filename, verbose=False):    \n",
        "    \"\"\"\n",
        "    This function extracts all the desired characteristics of all new job postings\n",
        "    of the title and location specified and returns them in single file.\n",
        "    The arguments it takes are:\n",
        "        - Website: to specify which website to search (options: 'indeed' or 'indeed_default')\n",
        "        - job_query: words that you want to narrow down the jobs to. for example 'data'\n",
        "        - job_type: 'internship' or 'fulltime' or 'permanent'\n",
        "        - language: 'en' or 'de' or leave blank\n",
        "        - Desired_characs: this is a list of the job characteristics of interest,\n",
        "            from titles, companies, links and date_listed.\n",
        "        - Filename: default is \"JS_test_results.xls\", can be changed to whatever \n",
        "    \"\"\"\n",
        "    \n",
        "    if website == 'indeed':\n",
        "        sp_search = load_indeed_jobs_CH(job_query, \n",
        "                                       job_type=job_type, language=language)\n",
        "        job_soup = sp_search.get(\"job_soup\")\n",
        "        URL_used = sp_search.get(\"query_URL\")\n",
        "\n",
        "        if verbose:\n",
        "            print(\"\\n The full HTML docs are: \\n\")\n",
        "            pp.pprint(job_soup, compact=True)\n",
        "        jobs_list, num_listings = extract_job_information_indeedCH(job_soup, \n",
        "                                                                   desired_characs,\n",
        "                                                                   uURL=URL_used)\n",
        "    elif website == 'indeed_default':\n",
        "        sp_search = load_indeed_jobs_CH(job_query, run_default=True)\n",
        "        job_soup = sp_search.get(\"job_soup\")\n",
        "        URL_used = sp_search.get(\"query_URL\")\n",
        "        if verbose:\n",
        "            print(\"\\n The full HTML docs are: \\n\")\n",
        "            pp.pprint(job_soup, compact=True)\n",
        "\n",
        "        jobs_list, num_listings = extract_job_information_indeedCH(job_soup, \n",
        "                                                                   desired_characs,\n",
        "                                                                   uURL=URL_used)\n",
        "\n",
        "    job_df = save_jobs_to_excel(jobs_list, filename)\n",
        " \n",
        "    print('{} new job postings retrieved from {}. Stored in {}.'.format(num_listings, \n",
        "                                                                          website, filename))\n",
        "    \n",
        "    return job_df\n",
        "        "
      ],
      "execution_count": 12,
      "outputs": [
        {
          "output_type": "display_data",
          "data": {
            "text/html": [
              "\n",
              "  <style>\n",
              "    pre {\n",
              "        white-space: pre-wrap;\n",
              "    }\n",
              "  </style>\n",
              "  "
            ],
            "text/plain": [
              "<IPython.core.display.HTML object>"
            ]
          },
          "metadata": {
            "tags": []
          }
        }
      ]
    },
    {
      "cell_type": "markdown",
      "metadata": {
        "id": "OLwW1mEe2P9F"
      },
      "source": [
        "## Indeed-scraping\n",
        "\n",
        "<font color='orange'>if customizing this code, you *may* need to change these </font>"
      ]
    },
    {
      "cell_type": "markdown",
      "metadata": {
        "id": "WViuK5h3eDFc"
      },
      "source": [
        "### main job scraping fn\n",
        "\n",
        "\n",
        "links used for testing / figuring out URL structure\n",
        "\n",
        "```\n",
        "website = \"https://ch.indeed.com/Switzerland-English-Jobs\"\n",
        "base ->\n",
        "example search https://ch.indeed.com/Stellen?q=Switzerland+English&jt=internship\n",
        "data job, language = EN, no others: https://ch.indeed.com/Stellen?q=data&lang=en\n",
        "^ but internship https://ch.indeed.com/Stellen?q=data&jt=internship&lang=en\n",
        "```"
      ]
    },
    {
      "cell_type": "code",
      "metadata": {
        "id": "rNpH9i8awJNX",
        "colab": {
          "base_uri": "https://localhost:8080/",
          "height": 17
        },
        "outputId": "dafcb599-5f9a-4bae-f558-4213706239f0"
      },
      "source": [
        "## added by Peter\n",
        "\n",
        "## indeed switzerland -------------------------------------------------------\n",
        "\n",
        "def load_indeed_jobs_CH(job_query, job_type=None, language=None, \n",
        "                        run_default=False):\n",
        "    i_website = \"https://ch.indeed.com/Stellen?\"\n",
        "    def_website = \"https://ch.indeed.com/Stellen?q=Switzerland+English&jt=internship\"\n",
        "    if run_default:\n",
        "        # switzerland has a unique page shown below, can run by default\n",
        "        # website = \"https://ch.indeed.com/Switzerland-English-Jobs\"\n",
        "\n",
        "        getVars = {'fromage' : 'last', \"limit\": '50', 'sort' : 'date'}\n",
        "\n",
        "        url = (def_website + urllib.parse.urlencode(getVars))\n",
        "        page = requests.get(url)\n",
        "        soup = BeautifulSoup(page.content, \"html.parser\")\n",
        "        job_soup = soup.find(id=\"resultsCol\")\n",
        "    else:\n",
        "        getVars = {'q' : job_query, 'jt' : job_type, 'lang' : language,\n",
        "                'fromage' : 'last', \"limit\": '50', 'sort' : 'date'}\n",
        "\n",
        "        # if values are not specified, then remove them from the dict (and URL)\n",
        "        if job_query is None:\n",
        "            del getVars['q']\n",
        "        if job_type is None:\n",
        "            del getVars['jt']\n",
        "        if language is None:\n",
        "            del getVars['lang']\n",
        "\n",
        "        url = (i_website + urllib.parse.urlencode(getVars))\n",
        "        page = requests.get(url)\n",
        "        soup = BeautifulSoup(page.content, \"html.parser\")\n",
        "        job_soup = soup.find(id=\"resultsCol\")\n",
        "\n",
        "    # return the job soup\n",
        "\n",
        "    soup_results = {\n",
        "        \"job_soup\": job_soup,\n",
        "        \"query_URL\": url\n",
        "\n",
        "    }\n",
        "    return soup_results\n",
        "\n",
        "\n"
      ],
      "execution_count": 13,
      "outputs": [
        {
          "output_type": "display_data",
          "data": {
            "text/html": [
              "\n",
              "  <style>\n",
              "    pre {\n",
              "        white-space: pre-wrap;\n",
              "    }\n",
              "  </style>\n",
              "  "
            ],
            "text/plain": [
              "<IPython.core.display.HTML object>"
            ]
          },
          "metadata": {
            "tags": []
          }
        }
      ]
    },
    {
      "cell_type": "markdown",
      "metadata": {
        "id": "1JtsmHpceIly"
      },
      "source": [
        "### helper / parsing functions\n"
      ]
    },
    {
      "cell_type": "code",
      "metadata": {
        "id": "dCZ31s1R2RJ-",
        "colab": {
          "base_uri": "https://localhost:8080/",
          "height": 17
        },
        "outputId": "45709cd7-c212-411a-8624-a6f411464391"
      },
      "source": [
        "import pprint as pp\n",
        "\n",
        "def_URL = \"https://ch.indeed.com/Stellen?\" + \"ADD_queries_here\" \n",
        "\n",
        "def extract_job_information_indeedCH(job_soup, desired_characs, uURL=def_URL, \n",
        "                                     verbose=False):\n",
        "    job_elems = job_soup.find_all('div', class_='jobsearch-SerpJobCard')\n",
        "\n",
        "    if verbose:\n",
        "        print(\"\\nAll found 'job elements' are as follows: \\n\")\n",
        "        pp.pprint(job_elems, compact=True)\n",
        "    \n",
        "    with open('job_elements.txt', 'w') as f:\n",
        "        # save to text file for investigation\n",
        "        print(job_elems, file=f)\n",
        "    \n",
        "    cols = []\n",
        "    extracted_info = []\n",
        "    \n",
        "    \n",
        "    if 'titles' in desired_characs:\n",
        "        titles = []\n",
        "        cols.append('titles')\n",
        "        for job_elem in job_elems:\n",
        "            titles.append(extract_job_title_indeed(job_elem))\n",
        "        extracted_info.append(titles)                    \n",
        "    \n",
        "    if 'companies' in desired_characs:\n",
        "        companies = []\n",
        "        cols.append('companies')\n",
        "        for job_elem in job_elems:\n",
        "            companies.append(extract_company_indeed(job_elem))\n",
        "        extracted_info.append(companies)\n",
        "    \n",
        "    if 'date_listed' in desired_characs:\n",
        "        dates = []\n",
        "        cols.append('date_listed')\n",
        "        for job_elem in job_elems:\n",
        "            dates.append(extract_date_indeed(job_elem))\n",
        "        extracted_info.append(dates)\n",
        "    \n",
        "    if 'summary' in desired_characs:\n",
        "        summaries = []\n",
        "        cols.append('summary')\n",
        "        for job_elem in job_elems:\n",
        "            summaries.append(extract_summary_indeed(job_elem))\n",
        "        extracted_info.append(summaries)\n",
        "\n",
        "    if 'links' in desired_characs:\n",
        "        links = []\n",
        "        cols.append('links')\n",
        "        for job_elem in job_elems:\n",
        "            links.append(extract_link_indeedCH(job_elem, uURL))\n",
        "        extracted_info.append(links)\n",
        "    \n",
        "    jobs_list = {}\n",
        "    \n",
        "    for j in range(len(cols)):\n",
        "        jobs_list[cols[j]] = extracted_info[j]\n",
        "    \n",
        "    num_listings = len(extracted_info[0])\n",
        "    \n",
        "    return jobs_list, num_listings\n",
        "\n",
        "\n",
        "def extract_job_title_indeed(job_elem):\n",
        "    title_elem = job_elem.find('h2', class_='title')\n",
        "    title = title_elem.text.strip()\n",
        "    return title\n",
        "\n",
        "def extract_company_indeed(job_elem):\n",
        "    company_elem = job_elem.find('span', class_='company')\n",
        "    company = company_elem.text.strip()\n",
        "    return company\n",
        "\n",
        "def extract_link_indeedCH(job_elem, uURL):\n",
        "    # some manual shenanigans occur here\n",
        "    # working example https://ch.indeed.com/Stellen?q=data&jt=internship&lang=en&vjk=49ed864bd5e422fb\n",
        "\n",
        "    link = job_elem.find('a')['href']\n",
        "    uURL_list = uURL.split(\"&fromage=last\")\n",
        "    link = uURL_list[0] + \"&\" + link\n",
        "    # replace some text so that the link has a virtual job key. Found via trial and error\n",
        "    return link.replace(\"/rc/clk?jk=\", \"vjk=\")\n",
        "\n",
        "def extract_date_indeed(job_elem):\n",
        "    date_elem = job_elem.find('span', class_='date')\n",
        "    date = date_elem.text.strip()\n",
        "    return date\n",
        "\n",
        "def extract_summary_indeed(job_elem):\n",
        "    summary_elem = job_elem.find('div', class_='summary')\n",
        "    summary = summary_elem.text.strip()\n",
        "    return summary\n",
        "\n"
      ],
      "execution_count": 14,
      "outputs": [
        {
          "output_type": "display_data",
          "data": {
            "text/html": [
              "\n",
              "  <style>\n",
              "    pre {\n",
              "        white-space: pre-wrap;\n",
              "    }\n",
              "  </style>\n",
              "  "
            ],
            "text/plain": [
              "<IPython.core.display.HTML object>"
            ]
          },
          "metadata": {
            "tags": []
          }
        }
      ]
    },
    {
      "cell_type": "markdown",
      "metadata": {
        "id": "9x8_xHCyeMVy"
      },
      "source": [
        "### postprocess\n",
        "\n",
        "1. input dataframe of scraped jobs from indeed\n",
        "2. ???\n",
        "3. output sexy_df"
      ]
    },
    {
      "cell_type": "code",
      "metadata": {
        "id": "MKrodaoTeaRU",
        "colab": {
          "base_uri": "https://localhost:8080/",
          "height": 17
        },
        "outputId": "3b9f77a2-5b12-4839-d2b4-c4504eba04e8"
      },
      "source": [
        "from google.colab import files\n",
        "from datetime import datetime\n",
        "\n",
        "def indeed_postprocess(i_df, query_term, query_jobtype, verbose=False,\n",
        "                       shorten_links=False, download_excel=False):\n",
        "    print(\"Starting postprocess - \", datetime.now())\n",
        "\n",
        "    # apply texthero cleaning\n",
        "    i_df[\"titles\"] = hero.clean(i_df[\"titles\"])\n",
        "    i_df[\"summary\"] = hero.clean(i_df[\"summary\"])\n",
        "\n",
        "    # use bit.ly to shorten links\n",
        "    if shorten_links:\n",
        "        try:\n",
        "            len(i_df[\"short_link\"])\n",
        "            print(\"found values for short_link, not-recreating\")\n",
        "        except:\n",
        "            print(\"no values exist for short_link, creating them now\")\n",
        "            # there is a random delay to not overload APIs, max rt is 5s * num_rows\n",
        "            i_df[\"short_link\"] = i_df[\"links\"].apply(shorten_URL_bitly) \n",
        "    else:\n",
        "        i_df[\"short_link\"] = \"not_created\"\n",
        "\n",
        "    # save file to excel\n",
        "    rn = datetime.now()\n",
        "    i_PP_date = rn.strftime(\"_%m.%d.%Y-%H-%M_\")\n",
        "    i_df[\"date_pulled\"] = rn.strftime(\"%m.%d.%Y\")\n",
        "    i_df[\"time_pulled\"] = rn.strftime(\"%H:%M:%S\")\n",
        "    out_name = \"JS_DB_\" + \"query=[term(s)=\" + query_term + \", type=\" + query_jobtype + \"]\" + i_PP_date + \".xlsx\"\n",
        "    i_df.to_excel(out_name)\n",
        "    if verbose: print(\"Saved {} - \".format(out_name), datetime.now())\n",
        "\n",
        "    # download if requested\n",
        "    if download_excel:\n",
        "        files.download(out_name)\n",
        "        if verbose: print(\"Downloaded {} - \".format(out_name), datetime.now())\n",
        "\n",
        "\n",
        "    return i_df"
      ],
      "execution_count": 15,
      "outputs": [
        {
          "output_type": "display_data",
          "data": {
            "text/html": [
              "\n",
              "  <style>\n",
              "    pre {\n",
              "        white-space: pre-wrap;\n",
              "    }\n",
              "  </style>\n",
              "  "
            ],
            "text/plain": [
              "<IPython.core.display.HTML object>"
            ]
          },
          "metadata": {
            "tags": []
          }
        }
      ]
    },
    {
      "cell_type": "markdown",
      "metadata": {
        "id": "WEfJ6a8Plg4l"
      },
      "source": [
        "quick printout of the datatable"
      ]
    },
    {
      "cell_type": "code",
      "metadata": {
        "id": "3CzjUiTkikDa",
        "colab": {
          "base_uri": "https://localhost:8080/",
          "height": 17
        },
        "outputId": "ad0fbf03-74ed-44d2-e222-75997d8bbeab"
      },
      "source": [
        "def indeed_datatable(i_df, count_what=\"companies\", freq_n=10):\n",
        "    # basically just wrote this to reduce code down below\n",
        "    # depends on the colab data_table.DataTable()\n",
        "    \n",
        "    print(\"Count of column '{}' appearances in search:\\n\".format(count_what))\n",
        "    comp_list_1 = i_df[count_what].value_counts()\n",
        "    pp.pprint(comp_list_1.head(freq_n), compact=True)  \n",
        "\n",
        "    i_df_disp = i_df.copy()\n",
        "    i_df_disp[\"summary_short\"] = i_df_disp[\"summary\"].apply(text_first_N)\n",
        "    i_df_disp.drop(columns=[\"links\", \"summary\"], inplace=True) # drop verbose columns\n",
        "\n",
        "    return i_df_disp \n",
        "\n",
        "    # i_df_disp for use inside \n",
        "    # data_table.DataTable(i_df_disp, \n",
        "                        #  include_index=False, num_rows_per_page=table_n)\n"
      ],
      "execution_count": 16,
      "outputs": [
        {
          "output_type": "display_data",
          "data": {
            "text/html": [
              "\n",
              "  <style>\n",
              "    pre {\n",
              "        white-space: pre-wrap;\n",
              "    }\n",
              "  </style>\n",
              "  "
            ],
            "text/plain": [
              "<IPython.core.display.HTML object>"
            ]
          },
          "metadata": {
            "tags": []
          }
        }
      ]
    },
    {
      "cell_type": "markdown",
      "metadata": {
        "id": "GhZ8o2jrsTIQ"
      },
      "source": [
        "---"
      ]
    },
    {
      "cell_type": "markdown",
      "metadata": {
        "id": "hV_apCm-iUXu"
      },
      "source": [
        "# Main"
      ]
    },
    {
      "cell_type": "markdown",
      "metadata": {
        "id": "RHCmgk5Hm4yj"
      },
      "source": [
        "## parameters"
      ]
    },
    {
      "cell_type": "code",
      "metadata": {
        "id": "mWGKOn2qcXhY",
        "colab": {
          "base_uri": "https://localhost:8080/",
          "height": 17
        },
        "outputId": "01de002e-5918-4e14-df3a-b5b8250f7f09"
      },
      "source": [
        "# determines columns in output dataframe post-scraping\n",
        "desired_characs = ['titles', 'companies', 'links', 'date_listed', 'summary']\n",
        "\n",
        "# TODO - add other parameters used in functions below here."
      ],
      "execution_count": 17,
      "outputs": [
        {
          "output_type": "display_data",
          "data": {
            "text/html": [
              "\n",
              "  <style>\n",
              "    pre {\n",
              "        white-space: pre-wrap;\n",
              "    }\n",
              "  </style>\n",
              "  "
            ],
            "text/plain": [
              "<IPython.core.display.HTML object>"
            ]
          },
          "metadata": {
            "tags": []
          }
        }
      ]
    },
    {
      "cell_type": "markdown",
      "metadata": {
        "id": "3IMX9kI95Awh"
      },
      "source": [
        "## Swiss Jobs - Indeed\n",
        "\n",
        "```\n",
        "This function extracts all the desired characteristics of all new job postings\n",
        "    of the title and location specified and returns them in single file.\n",
        "The arguments it takes are:\n",
        "\n",
        "    - Website: to specify which website to search \n",
        "        - (options: 'indeed' or 'indeed_default')\n",
        "    - job_query: words that you want to narrow down the jobs to. \n",
        "        - for example 'data'\n",
        "    - job_type: \n",
        "        - 'internship' or 'fulltime' or 'permanent'\n",
        "    - language: \n",
        "        - 'en' or 'de' or other languages.. 'fr'? ew\n",
        "    - Desired_characs: what columns of data do you want to extract? options are:\n",
        "        - 'titles', 'companies', 'links', 'date_listed', 'summary'\n",
        "    - Filename: default is \"JS_test_results.xls\", can be changed to whatever \n",
        "```\n"
      ]
    },
    {
      "cell_type": "markdown",
      "metadata": {
        "id": "h9RngcapfT9D"
      },
      "source": [
        "### query 1 - internship in \"data\""
      ]
    },
    {
      "cell_type": "code",
      "metadata": {
        "id": "nLme2DE05A8J",
        "colab": {
          "base_uri": "https://localhost:8080/",
          "height": 1091
        },
        "outputId": "75d5f704-e8ce-4e1c-ed5b-d3a59c648662"
      },
      "source": [
        "\n",
        "from google.colab import data_table\n",
        "\n",
        "jq1=\"data\"\n",
        "jt1 = \"internship\"\n",
        "lan = \"en\"\n",
        "\n",
        "chdf1 = find_CHjobs_from(website=\"indeed\", desired_characs=desired_characs, \n",
        "                         job_query=jq1, job_type=jt1, language=lan)\n",
        "\n",
        "q1_processed = indeed_postprocess(chdf1, query_term=jq1, query_jobtype=jt1,\n",
        "                       shorten_links=False, download_excel=True)\n",
        "\n",
        "data_table.DataTable(indeed_datatable(q1_processed), \n",
        "                     include_index=False, num_rows_per_page=20)"
      ],
      "execution_count": 20,
      "outputs": [
        {
          "output_type": "display_data",
          "data": {
            "text/html": [
              "\n",
              "  <style>\n",
              "    pre {\n",
              "        white-space: pre-wrap;\n",
              "    }\n",
              "  </style>\n",
              "  "
            ],
            "text/plain": [
              "<IPython.core.display.HTML object>"
            ]
          },
          "metadata": {
            "tags": []
          }
        },
        {
          "output_type": "stream",
          "text": [
            "50 new job postings retrieved from indeed. Stored in Jun-15-2021_[raw]_scraped_jobs_CH.xls.\n",
            "Starting postprocess -  2021-06-15 22:21:00.495721\n"
          ],
          "name": "stdout"
        },
        {
          "output_type": "display_data",
          "data": {
            "application/javascript": [
              "\n",
              "    async function download(id, filename, size) {\n",
              "      if (!google.colab.kernel.accessAllowed) {\n",
              "        return;\n",
              "      }\n",
              "      const div = document.createElement('div');\n",
              "      const label = document.createElement('label');\n",
              "      label.textContent = `Downloading \"${filename}\": `;\n",
              "      div.appendChild(label);\n",
              "      const progress = document.createElement('progress');\n",
              "      progress.max = size;\n",
              "      div.appendChild(progress);\n",
              "      document.body.appendChild(div);\n",
              "\n",
              "      const buffers = [];\n",
              "      let downloaded = 0;\n",
              "\n",
              "      const channel = await google.colab.kernel.comms.open(id);\n",
              "      // Send a message to notify the kernel that we're ready.\n",
              "      channel.send({})\n",
              "\n",
              "      for await (const message of channel.messages) {\n",
              "        // Send a message to notify the kernel that we're ready.\n",
              "        channel.send({})\n",
              "        if (message.buffers) {\n",
              "          for (const buffer of message.buffers) {\n",
              "            buffers.push(buffer);\n",
              "            downloaded += buffer.byteLength;\n",
              "            progress.value = downloaded;\n",
              "          }\n",
              "        }\n",
              "      }\n",
              "      const blob = new Blob(buffers, {type: 'application/binary'});\n",
              "      const a = document.createElement('a');\n",
              "      a.href = window.URL.createObjectURL(blob);\n",
              "      a.download = filename;\n",
              "      div.appendChild(a);\n",
              "      a.click();\n",
              "      div.remove();\n",
              "    }\n",
              "  "
            ],
            "text/plain": [
              "<IPython.core.display.Javascript object>"
            ]
          },
          "metadata": {
            "tags": []
          }
        },
        {
          "output_type": "display_data",
          "data": {
            "application/javascript": [
              "download(\"download_f07422e0-d621-40e6-a9ee-5d2c643414a1\", \"JS_DB_query=[term(s)=data, type=internship]_06.15.2021-22-21_.xlsx\", 12075)"
            ],
            "text/plain": [
              "<IPython.core.display.Javascript object>"
            ]
          },
          "metadata": {
            "tags": []
          }
        },
        {
          "output_type": "stream",
          "text": [
            "Count of column 'companies' appearances in search:\n",
            "\n",
            "United Nations          6\n",
            "Novartis                5\n",
            "EY                      3\n",
            "greenTEG AG             2\n",
            "Credit Suisse Campus    2\n",
            "Ernst & Young           2\n",
            "Yova                    2\n",
            "Cartier                 2\n",
            "Yova AG                 2\n",
            "Eternit                 1\n",
            "Name: companies, dtype: int64\n"
          ],
          "name": "stdout"
        },
        {
          "output_type": "execute_result",
          "data": {
            "application/vnd.google.colaboratory.module+javascript": "\n      import \"https://ssl.gstatic.com/colaboratory/data_table/a6224c040fa35dcf/data_table.js\";\n\n      window.createDataTable({\n        data: [[\"impact research intern neu\",\n\"Yova AG\",\n\"Gerade ver\\u00f6ffentlicht\",\n\"not_created\",\n\"06.15.2021\",\n\"22:21:00\",\n\"good numbers able analyse large data set..\"],\n [\"customer success intern neu\",\n\"Yova AG\",\n\"Gerade ver\\u00f6ffentlicht\",\n\"not_created\",\n\"06.15.2021\",\n\"22:21:00\",\n\"learn important soft skills problem solv..\"],\n [\"internship sales business development support zurich neu\",\n\"CANDRIAM\",\n\"Heute\",\n\"not_created\",\n\"06.15.2021\",\n\"22:21:00\",\n\"act salesforce expert data base cleaning..\"],\n [\"internship data scientist algorithm development core neu\",\n\"greenTEG AG\",\n\"Heute\",\n\"not_created\",\n\"06.15.2021\",\n\"22:21:00\",\n\"working physiological time series data p..\"],\n [\"intern environment affairs temporary neu\",\n\"United Nations\",\n\"Heute\",\n\"not_created\",\n\"06.15.2021\",\n\"22:21:00\",\n\"experience data analysis data visualizat..\"],\n [\"practical trainee internship audiological development neu\",\n\"Sonova\",\n\"vor 1 Tag\",\n\"not_created\",\n\"06.15.2021\",\n\"22:21:00\",\n\"support data management statistical anal..\"],\n [\"internship risk management neu\",\n\"Credit Suisse Campus\",\n\"vor 1 Tag\",\n\"not_created\",\n\"06.15.2021\",\n\"22:21:00\",\n\"models used daily traders pricing potent..\"],\n [\"unctad remote internship knowledge development branch neu\",\n\"United Nations\",\n\"vor 1 Tag\",\n\"not_created\",\n\"06.15.2021\",\n\"22:21:00\",\n\"assist compiling information data educat..\"],\n [\"postdoc bioprocess modelling new tech neu\",\n\"Novartis\",\n\"vor 1 Tag\",\n\"not_created\",\n\"06.15.2021\",\n\"22:21:00\",\n\"explore power digital data act subject m..\"],\n [\"unctad remote internship transport section div neu\",\n\"United Nations\",\n\"vor 1 Tag\",\n\"not_created\",\n\"06.15.2021\",\n\"22:21:00\",\n\"insights gained information generated da..\"],\n [\"unctad remote internship office director division neu\",\n\"United Nations\",\n\"vor 1 Tag\",\n\"not_created\",\n\"06.15.2021\",\n\"22:21:00\",\n\"participating survey initiatives assists..\"],\n [\"junior controller - intern neu\",\n\"Ermenegildo Zegna\",\n\"vor 1 Tag\",\n\"not_created\",\n\"06.15.2021\",\n\"22:21:00\",\n\"ensure accuracy accounting data company ..\"],\n [\"diversity inclusion consultant intern months neu\",\n\"Alvicus AG\",\n\"vor 1 Tag\",\n\"not_created\",\n\"06.15.2021\",\n\"22:21:00\",\n\"like analyse data basis making decisions..\"],\n [\"internship data scientist algorithm development core neu\",\n\"greenTEG AG\",\n\"vor 2 Tagen\",\n\"not_created\",\n\"06.15.2021\",\n\"22:21:00\",\n\"working physiological time series data d..\"],\n [\"translational data science intern neu\",\n\"Novartis\",\n\"vor 4 Tagen\",\n\"not_created\",\n\"06.15.2021\",\n\"22:21:00\",\n\"proficient programming r python good kno..\"],\n [\"corporate social responsibility intern neu\",\n\"Cartier\",\n\"vor 4 Tagen\",\n\"not_created\",\n\"06.15.2021\",\n\"22:21:00\",\n\"support environmental data analysis assi..\"],\n [\"environmental performance intern neu\",\n\"Richemont\",\n\"vor 4 Tagen\",\n\"not_created\",\n\"06.15.2021\",\n\"22:21:00\",\n\"help build solution store organize lca d..\"],\n [\"intern economic affairs temporary neu\",\n\"United Nations\",\n\"vor 4 Tagen\",\n\"not_created\",\n\"06.15.2021\",\n\"22:21:00\",\n\"assist gathering data official unofficia..\"],\n [\"praktikantin praktikant pflege und therapien neu\",\n\"Zuger Kantonsspital AG\",\n\"vor 4 Tagen\",\n\"not_created\",\n\"06.15.2021\",\n\"22:21:00\",\n\"ihre aufgabenspontanbewerbung praktikant..\"],\n [\"marketing communication intern f neu\",\n\"GOWAGO AG\",\n\"vor 4 Tagen\",\n\"not_created\",\n\"06.15.2021\",\n\"22:21:00\",\n\"personas target audience optimization qu..\"],\n [\"data engineer intern months internship neu\",\n\"MET International AG\",\n\"vor 5 Tagen\",\n\"not_created\",\n\"06.15.2021\",\n\"22:21:00\",\n\"experience interest data management big ..\"],\n [\"intern sustainability f months neu\",\n\"DSM\",\n\"vor 5 Tagen\",\n\"not_created\",\n\"06.15.2021\",\n\"22:21:00\",\n\"implement develop sustainability data ma..\"],\n [\"competitor safety engineer trainee neu\",\n\"FEDERATION INTERNATIONALE AUTOMOBILE\",\n\"vor 5 Tagen\",\n\"not_created\",\n\"06.15.2021\",\n\"22:21:00\",\n\"provide support establish new safety sta..\"],\n [\"forensic consultant investigations compliance financ neu\",\n\"EY\",\n\"vor 5 Tagen\",\n\"not_created\",\n\"06.15.2021\",\n\"22:21:00\",\n\"supporting technology driven approaches ..\"],\n [\"manager forensic investigations financial crime complian neu\",\n\"EY\",\n\"vor 5 Tagen\",\n\"not_created\",\n\"06.15.2021\",\n\"22:21:00\",\n\"forensics team multidisciplinary group p..\"],\n [\"impact research intern neu\",\n\"Yova\",\n\"vor 5 Tagen\",\n\"not_created\",\n\"06.15.2021\",\n\"22:21:00\",\n\"good numbers able analyse large data set..\"],\n [\"internship innovation pmo f months neu\",\n\"Georg Fischer\",\n\"vor 6 Tagen\",\n\"not_created\",\n\"06.15.2021\",\n\"22:21:00\",\n\"create comprehensive portfolio dashboard..\"],\n [\"internship innovation pmo f months neu\",\n\"Georg Fischer Rohrleitungssysteme AG, Schaffhausen\",\n\"vor 6 Tagen\",\n\"not_created\",\n\"06.15.2021\",\n\"22:21:00\",\n\"create comprehensive portfolio dashboard..\"],\n [\"audit analytics data delivery consultant neu\",\n\"EY\",\n\"vor 6 Tagen\",\n\"not_created\",\n\"06.15.2021\",\n\"22:21:00\",\n\"working client engagement teams carrying..\"],\n [\"c software development internship neu\",\n\"Verity\",\n\"vor 6 Tagen\",\n\"not_created\",\n\"06.15.2021\",\n\"22:21:00\",\n\"depth understanding algorithms data stru..\"],\n [\"strategic assistant group ceo neu\",\n\"Eternit\",\n\"vor 7 Tagen\",\n\"not_created\",\n\"06.15.2021\",\n\"22:21:00\",\n\"market research analysis systematic data..\"],\n [\"internship operations controlling\",\n\"Axpo\",\n\"vor 11 Tagen\",\n\"not_created\",\n\"06.15.2021\",\n\"22:21:00\",\n\"assure invoicing validation aspects coll..\"],\n [\"principal statistician neu\",\n\"Johnson & Johnson Family of Companies\",\n\"vor 7 Tagen\",\n\"not_created\",\n\"06.15.2021\",\n\"22:21:00\",\n\"expertise demonstrates advanced data ana..\"],\n [\"internship global brand development months\",\n\"La Prairie Group\",\n\"vor 11 Tagen\",\n\"not_created\",\n\"06.15.2021\",\n\"22:21:00\",\n\"analytical mindset data driven person gr..\"],\n [\"digital trade marketing intern\",\n\"On AG\",\n\"vor 13 Tagen\",\n\"not_created\",\n\"06.15.2021\",\n\"22:21:00\",\n\"trade marketing team consisting trade de..\"],\n [\"internship analytics\",\n\"Novartis\",\n\"vor 11 Tagen\",\n\"not_created\",\n\"06.15.2021\",\n\"22:21:00\",\n\"support analytical development data inno..\"],\n [\"internship geodesy f\",\n\"Leica Geosystems AG - Part of Hexagon\",\n\"vor 13 Tagen\",\n\"not_created\",\n\"06.15.2021\",\n\"22:21:00\",\n\"analyze evaluate quality validity measur..\"],\n [\"internship health care systems evidence\",\n\"Novartis\",\n\"vor 11 Tagen\",\n\"not_created\",\n\"06.15.2021\",\n\"22:21:00\",\n\"consolidate internal external evidence g..\"],\n [\"intern information technology systems posts tempor\",\n\"United Nations\",\n\"vor 11 Tagen\",\n\"not_created\",\n\"06.15.2021\",\n\"22:21:00\",\n\"analyzing qualitative data e g site visi..\"],\n [\"senior consultant financial services risk emeia financial\",\n\"Ernst & Young\",\n\"vor 11 Tagen\",\n\"not_created\",\n\"06.15.2021\",\n\"22:21:00\",\n\"encouraged investigate new risk areas ex..\"],\n [\"senior manager hr transactions people advisory service\",\n\"Ernst & Young\",\n\"vor 12 Tagen\",\n\"not_created\",\n\"06.15.2021\",\n\"22:21:00\",\n\"qualitative quantitative data analysis s..\"],\n [\"internship confidential computing\",\n\"decentriq\",\n\"vor 10 Tagen\",\n\"not_created\",\n\"06.15.2021\",\n\"22:21:00\",\n\"cutting edge development cryptography tr..\"],\n [\"customer success intern\",\n\"Yova\",\n\"vor 11 Tagen\",\n\"not_created\",\n\"06.15.2021\",\n\"22:21:00\",\n\"learn important soft skills problem solv..\"],\n [\"internship - technology data scientist\",\n\"Credit Suisse Campus\",\n\"vor 18 Tagen\",\n\"not_created\",\n\"06.15.2021\",\n\"22:21:00\",\n\"ideally master degree computer science d..\"],\n [\"private debt portfolio investment team intern\",\n\"StepStone Group LP\",\n\"vor 17 Tagen\",\n\"not_created\",\n\"06.15.2021\",\n\"22:21:00\",\n\"good data management analytical skills t..\"],\n [\"ocean transportation academy trainee\",\n\"Cargill\",\n\"vor 19 Tagen\",\n\"not_created\",\n\"06.15.2021\",\n\"22:21:00\",\n\"analyze supply demand data market econom..\"],\n [\"graduate program position organization pedestrian\",\n\"Assa Abloy\",\n\"vor 15 Tagen\",\n\"not_created\",\n\"06.15.2021\",\n\"22:21:00\",\n\"focus throughout program areas like busi..\"],\n [\"catastrophe modeling analyst - - limited internshi\",\n\"PartnerRe\",\n\"vor 15 Tagen\",\n\"not_created\",\n\"06.15.2021\",\n\"22:21:00\",\n\"run propriety vendor cat models single r..\"],\n [\"internship cbt nibr\",\n\"Novartis\",\n\"vor 19 Tagen\",\n\"not_created\",\n\"06.15.2021\",\n\"22:21:00\",\n\"integrated core department novartis inst..\"],\n [\"project intern business support operations\",\n\"Cartier\",\n\"vor 18 Tagen\",\n\"not_created\",\n\"06.15.2021\",\n\"22:21:00\",\n\"ensure deployment workflows business pro..\"]],\n        columns: [[\"string\", \"titles\"], [\"string\", \"companies\"], [\"string\", \"date_listed\"], [\"string\", \"short_link\"], [\"string\", \"date_pulled\"], [\"string\", \"time_pulled\"], [\"string\", \"summary_short\"]],\n        columnOptions: [],\n        rowsPerPage: 20,\n        helpUrl: \"https://colab.research.google.com/notebooks/data_table.ipynb\",\n        suppressOutputScrolling: true,\n        minimumWidth: undefined,\n      });\n    ",
            "text/plain": [
              "<google.colab.data_table.DataTable object>"
            ],
            "text/html": [
              "<div>\n",
              "<style scoped>\n",
              "    .dataframe tbody tr th:only-of-type {\n",
              "        vertical-align: middle;\n",
              "    }\n",
              "\n",
              "    .dataframe tbody tr th {\n",
              "        vertical-align: top;\n",
              "    }\n",
              "\n",
              "    .dataframe thead th {\n",
              "        text-align: right;\n",
              "    }\n",
              "</style>\n",
              "<table border=\"1\" class=\"dataframe\">\n",
              "  <thead>\n",
              "    <tr style=\"text-align: right;\">\n",
              "      <th></th>\n",
              "      <th>titles</th>\n",
              "      <th>companies</th>\n",
              "      <th>date_listed</th>\n",
              "      <th>short_link</th>\n",
              "      <th>date_pulled</th>\n",
              "      <th>time_pulled</th>\n",
              "      <th>summary_short</th>\n",
              "    </tr>\n",
              "  </thead>\n",
              "  <tbody>\n",
              "    <tr>\n",
              "      <th>0</th>\n",
              "      <td>impact research intern neu</td>\n",
              "      <td>Yova AG</td>\n",
              "      <td>Gerade veröffentlicht</td>\n",
              "      <td>not_created</td>\n",
              "      <td>06.15.2021</td>\n",
              "      <td>22:21:00</td>\n",
              "      <td>good numbers able analyse large data set..</td>\n",
              "    </tr>\n",
              "    <tr>\n",
              "      <th>1</th>\n",
              "      <td>customer success intern neu</td>\n",
              "      <td>Yova AG</td>\n",
              "      <td>Gerade veröffentlicht</td>\n",
              "      <td>not_created</td>\n",
              "      <td>06.15.2021</td>\n",
              "      <td>22:21:00</td>\n",
              "      <td>learn important soft skills problem solv..</td>\n",
              "    </tr>\n",
              "    <tr>\n",
              "      <th>2</th>\n",
              "      <td>internship sales business development support ...</td>\n",
              "      <td>CANDRIAM</td>\n",
              "      <td>Heute</td>\n",
              "      <td>not_created</td>\n",
              "      <td>06.15.2021</td>\n",
              "      <td>22:21:00</td>\n",
              "      <td>act salesforce expert data base cleaning..</td>\n",
              "    </tr>\n",
              "    <tr>\n",
              "      <th>3</th>\n",
              "      <td>internship data scientist algorithm developmen...</td>\n",
              "      <td>greenTEG AG</td>\n",
              "      <td>Heute</td>\n",
              "      <td>not_created</td>\n",
              "      <td>06.15.2021</td>\n",
              "      <td>22:21:00</td>\n",
              "      <td>working physiological time series data p..</td>\n",
              "    </tr>\n",
              "    <tr>\n",
              "      <th>4</th>\n",
              "      <td>intern environment affairs temporary neu</td>\n",
              "      <td>United Nations</td>\n",
              "      <td>Heute</td>\n",
              "      <td>not_created</td>\n",
              "      <td>06.15.2021</td>\n",
              "      <td>22:21:00</td>\n",
              "      <td>experience data analysis data visualizat..</td>\n",
              "    </tr>\n",
              "    <tr>\n",
              "      <th>5</th>\n",
              "      <td>practical trainee internship audiological deve...</td>\n",
              "      <td>Sonova</td>\n",
              "      <td>vor 1 Tag</td>\n",
              "      <td>not_created</td>\n",
              "      <td>06.15.2021</td>\n",
              "      <td>22:21:00</td>\n",
              "      <td>support data management statistical anal..</td>\n",
              "    </tr>\n",
              "    <tr>\n",
              "      <th>6</th>\n",
              "      <td>internship risk management neu</td>\n",
              "      <td>Credit Suisse Campus</td>\n",
              "      <td>vor 1 Tag</td>\n",
              "      <td>not_created</td>\n",
              "      <td>06.15.2021</td>\n",
              "      <td>22:21:00</td>\n",
              "      <td>models used daily traders pricing potent..</td>\n",
              "    </tr>\n",
              "    <tr>\n",
              "      <th>7</th>\n",
              "      <td>unctad remote internship knowledge development...</td>\n",
              "      <td>United Nations</td>\n",
              "      <td>vor 1 Tag</td>\n",
              "      <td>not_created</td>\n",
              "      <td>06.15.2021</td>\n",
              "      <td>22:21:00</td>\n",
              "      <td>assist compiling information data educat..</td>\n",
              "    </tr>\n",
              "    <tr>\n",
              "      <th>8</th>\n",
              "      <td>postdoc bioprocess modelling new tech neu</td>\n",
              "      <td>Novartis</td>\n",
              "      <td>vor 1 Tag</td>\n",
              "      <td>not_created</td>\n",
              "      <td>06.15.2021</td>\n",
              "      <td>22:21:00</td>\n",
              "      <td>explore power digital data act subject m..</td>\n",
              "    </tr>\n",
              "    <tr>\n",
              "      <th>9</th>\n",
              "      <td>unctad remote internship transport section div...</td>\n",
              "      <td>United Nations</td>\n",
              "      <td>vor 1 Tag</td>\n",
              "      <td>not_created</td>\n",
              "      <td>06.15.2021</td>\n",
              "      <td>22:21:00</td>\n",
              "      <td>insights gained information generated da..</td>\n",
              "    </tr>\n",
              "    <tr>\n",
              "      <th>10</th>\n",
              "      <td>unctad remote internship office director divis...</td>\n",
              "      <td>United Nations</td>\n",
              "      <td>vor 1 Tag</td>\n",
              "      <td>not_created</td>\n",
              "      <td>06.15.2021</td>\n",
              "      <td>22:21:00</td>\n",
              "      <td>participating survey initiatives assists..</td>\n",
              "    </tr>\n",
              "    <tr>\n",
              "      <th>11</th>\n",
              "      <td>junior controller - intern neu</td>\n",
              "      <td>Ermenegildo Zegna</td>\n",
              "      <td>vor 1 Tag</td>\n",
              "      <td>not_created</td>\n",
              "      <td>06.15.2021</td>\n",
              "      <td>22:21:00</td>\n",
              "      <td>ensure accuracy accounting data company ..</td>\n",
              "    </tr>\n",
              "    <tr>\n",
              "      <th>12</th>\n",
              "      <td>diversity inclusion consultant intern months neu</td>\n",
              "      <td>Alvicus AG</td>\n",
              "      <td>vor 1 Tag</td>\n",
              "      <td>not_created</td>\n",
              "      <td>06.15.2021</td>\n",
              "      <td>22:21:00</td>\n",
              "      <td>like analyse data basis making decisions..</td>\n",
              "    </tr>\n",
              "    <tr>\n",
              "      <th>13</th>\n",
              "      <td>internship data scientist algorithm developmen...</td>\n",
              "      <td>greenTEG AG</td>\n",
              "      <td>vor 2 Tagen</td>\n",
              "      <td>not_created</td>\n",
              "      <td>06.15.2021</td>\n",
              "      <td>22:21:00</td>\n",
              "      <td>working physiological time series data d..</td>\n",
              "    </tr>\n",
              "    <tr>\n",
              "      <th>14</th>\n",
              "      <td>translational data science intern neu</td>\n",
              "      <td>Novartis</td>\n",
              "      <td>vor 4 Tagen</td>\n",
              "      <td>not_created</td>\n",
              "      <td>06.15.2021</td>\n",
              "      <td>22:21:00</td>\n",
              "      <td>proficient programming r python good kno..</td>\n",
              "    </tr>\n",
              "    <tr>\n",
              "      <th>15</th>\n",
              "      <td>corporate social responsibility intern neu</td>\n",
              "      <td>Cartier</td>\n",
              "      <td>vor 4 Tagen</td>\n",
              "      <td>not_created</td>\n",
              "      <td>06.15.2021</td>\n",
              "      <td>22:21:00</td>\n",
              "      <td>support environmental data analysis assi..</td>\n",
              "    </tr>\n",
              "    <tr>\n",
              "      <th>16</th>\n",
              "      <td>environmental performance intern neu</td>\n",
              "      <td>Richemont</td>\n",
              "      <td>vor 4 Tagen</td>\n",
              "      <td>not_created</td>\n",
              "      <td>06.15.2021</td>\n",
              "      <td>22:21:00</td>\n",
              "      <td>help build solution store organize lca d..</td>\n",
              "    </tr>\n",
              "    <tr>\n",
              "      <th>17</th>\n",
              "      <td>intern economic affairs temporary neu</td>\n",
              "      <td>United Nations</td>\n",
              "      <td>vor 4 Tagen</td>\n",
              "      <td>not_created</td>\n",
              "      <td>06.15.2021</td>\n",
              "      <td>22:21:00</td>\n",
              "      <td>assist gathering data official unofficia..</td>\n",
              "    </tr>\n",
              "    <tr>\n",
              "      <th>18</th>\n",
              "      <td>praktikantin praktikant pflege und therapien neu</td>\n",
              "      <td>Zuger Kantonsspital AG</td>\n",
              "      <td>vor 4 Tagen</td>\n",
              "      <td>not_created</td>\n",
              "      <td>06.15.2021</td>\n",
              "      <td>22:21:00</td>\n",
              "      <td>ihre aufgabenspontanbewerbung praktikant..</td>\n",
              "    </tr>\n",
              "    <tr>\n",
              "      <th>19</th>\n",
              "      <td>marketing communication intern f neu</td>\n",
              "      <td>GOWAGO AG</td>\n",
              "      <td>vor 4 Tagen</td>\n",
              "      <td>not_created</td>\n",
              "      <td>06.15.2021</td>\n",
              "      <td>22:21:00</td>\n",
              "      <td>personas target audience optimization qu..</td>\n",
              "    </tr>\n",
              "    <tr>\n",
              "      <th>20</th>\n",
              "      <td>data engineer intern months internship neu</td>\n",
              "      <td>MET International AG</td>\n",
              "      <td>vor 5 Tagen</td>\n",
              "      <td>not_created</td>\n",
              "      <td>06.15.2021</td>\n",
              "      <td>22:21:00</td>\n",
              "      <td>experience interest data management big ..</td>\n",
              "    </tr>\n",
              "    <tr>\n",
              "      <th>21</th>\n",
              "      <td>intern sustainability f months neu</td>\n",
              "      <td>DSM</td>\n",
              "      <td>vor 5 Tagen</td>\n",
              "      <td>not_created</td>\n",
              "      <td>06.15.2021</td>\n",
              "      <td>22:21:00</td>\n",
              "      <td>implement develop sustainability data ma..</td>\n",
              "    </tr>\n",
              "    <tr>\n",
              "      <th>22</th>\n",
              "      <td>competitor safety engineer trainee neu</td>\n",
              "      <td>FEDERATION INTERNATIONALE AUTOMOBILE</td>\n",
              "      <td>vor 5 Tagen</td>\n",
              "      <td>not_created</td>\n",
              "      <td>06.15.2021</td>\n",
              "      <td>22:21:00</td>\n",
              "      <td>provide support establish new safety sta..</td>\n",
              "    </tr>\n",
              "    <tr>\n",
              "      <th>23</th>\n",
              "      <td>forensic consultant investigations compliance ...</td>\n",
              "      <td>EY</td>\n",
              "      <td>vor 5 Tagen</td>\n",
              "      <td>not_created</td>\n",
              "      <td>06.15.2021</td>\n",
              "      <td>22:21:00</td>\n",
              "      <td>supporting technology driven approaches ..</td>\n",
              "    </tr>\n",
              "    <tr>\n",
              "      <th>24</th>\n",
              "      <td>manager forensic investigations financial crim...</td>\n",
              "      <td>EY</td>\n",
              "      <td>vor 5 Tagen</td>\n",
              "      <td>not_created</td>\n",
              "      <td>06.15.2021</td>\n",
              "      <td>22:21:00</td>\n",
              "      <td>forensics team multidisciplinary group p..</td>\n",
              "    </tr>\n",
              "    <tr>\n",
              "      <th>25</th>\n",
              "      <td>impact research intern neu</td>\n",
              "      <td>Yova</td>\n",
              "      <td>vor 5 Tagen</td>\n",
              "      <td>not_created</td>\n",
              "      <td>06.15.2021</td>\n",
              "      <td>22:21:00</td>\n",
              "      <td>good numbers able analyse large data set..</td>\n",
              "    </tr>\n",
              "    <tr>\n",
              "      <th>26</th>\n",
              "      <td>internship innovation pmo f months neu</td>\n",
              "      <td>Georg Fischer</td>\n",
              "      <td>vor 6 Tagen</td>\n",
              "      <td>not_created</td>\n",
              "      <td>06.15.2021</td>\n",
              "      <td>22:21:00</td>\n",
              "      <td>create comprehensive portfolio dashboard..</td>\n",
              "    </tr>\n",
              "    <tr>\n",
              "      <th>27</th>\n",
              "      <td>internship innovation pmo f months neu</td>\n",
              "      <td>Georg Fischer Rohrleitungssysteme AG, Schaffha...</td>\n",
              "      <td>vor 6 Tagen</td>\n",
              "      <td>not_created</td>\n",
              "      <td>06.15.2021</td>\n",
              "      <td>22:21:00</td>\n",
              "      <td>create comprehensive portfolio dashboard..</td>\n",
              "    </tr>\n",
              "    <tr>\n",
              "      <th>28</th>\n",
              "      <td>audit analytics data delivery consultant neu</td>\n",
              "      <td>EY</td>\n",
              "      <td>vor 6 Tagen</td>\n",
              "      <td>not_created</td>\n",
              "      <td>06.15.2021</td>\n",
              "      <td>22:21:00</td>\n",
              "      <td>working client engagement teams carrying..</td>\n",
              "    </tr>\n",
              "    <tr>\n",
              "      <th>29</th>\n",
              "      <td>c software development internship neu</td>\n",
              "      <td>Verity</td>\n",
              "      <td>vor 6 Tagen</td>\n",
              "      <td>not_created</td>\n",
              "      <td>06.15.2021</td>\n",
              "      <td>22:21:00</td>\n",
              "      <td>depth understanding algorithms data stru..</td>\n",
              "    </tr>\n",
              "    <tr>\n",
              "      <th>30</th>\n",
              "      <td>strategic assistant group ceo neu</td>\n",
              "      <td>Eternit</td>\n",
              "      <td>vor 7 Tagen</td>\n",
              "      <td>not_created</td>\n",
              "      <td>06.15.2021</td>\n",
              "      <td>22:21:00</td>\n",
              "      <td>market research analysis systematic data..</td>\n",
              "    </tr>\n",
              "    <tr>\n",
              "      <th>31</th>\n",
              "      <td>internship operations controlling</td>\n",
              "      <td>Axpo</td>\n",
              "      <td>vor 11 Tagen</td>\n",
              "      <td>not_created</td>\n",
              "      <td>06.15.2021</td>\n",
              "      <td>22:21:00</td>\n",
              "      <td>assure invoicing validation aspects coll..</td>\n",
              "    </tr>\n",
              "    <tr>\n",
              "      <th>32</th>\n",
              "      <td>principal statistician neu</td>\n",
              "      <td>Johnson &amp; Johnson Family of Companies</td>\n",
              "      <td>vor 7 Tagen</td>\n",
              "      <td>not_created</td>\n",
              "      <td>06.15.2021</td>\n",
              "      <td>22:21:00</td>\n",
              "      <td>expertise demonstrates advanced data ana..</td>\n",
              "    </tr>\n",
              "    <tr>\n",
              "      <th>33</th>\n",
              "      <td>internship global brand development months</td>\n",
              "      <td>La Prairie Group</td>\n",
              "      <td>vor 11 Tagen</td>\n",
              "      <td>not_created</td>\n",
              "      <td>06.15.2021</td>\n",
              "      <td>22:21:00</td>\n",
              "      <td>analytical mindset data driven person gr..</td>\n",
              "    </tr>\n",
              "    <tr>\n",
              "      <th>34</th>\n",
              "      <td>digital trade marketing intern</td>\n",
              "      <td>On AG</td>\n",
              "      <td>vor 13 Tagen</td>\n",
              "      <td>not_created</td>\n",
              "      <td>06.15.2021</td>\n",
              "      <td>22:21:00</td>\n",
              "      <td>trade marketing team consisting trade de..</td>\n",
              "    </tr>\n",
              "    <tr>\n",
              "      <th>35</th>\n",
              "      <td>internship analytics</td>\n",
              "      <td>Novartis</td>\n",
              "      <td>vor 11 Tagen</td>\n",
              "      <td>not_created</td>\n",
              "      <td>06.15.2021</td>\n",
              "      <td>22:21:00</td>\n",
              "      <td>support analytical development data inno..</td>\n",
              "    </tr>\n",
              "    <tr>\n",
              "      <th>36</th>\n",
              "      <td>internship geodesy f</td>\n",
              "      <td>Leica Geosystems AG - Part of Hexagon</td>\n",
              "      <td>vor 13 Tagen</td>\n",
              "      <td>not_created</td>\n",
              "      <td>06.15.2021</td>\n",
              "      <td>22:21:00</td>\n",
              "      <td>analyze evaluate quality validity measur..</td>\n",
              "    </tr>\n",
              "    <tr>\n",
              "      <th>37</th>\n",
              "      <td>internship health care systems evidence</td>\n",
              "      <td>Novartis</td>\n",
              "      <td>vor 11 Tagen</td>\n",
              "      <td>not_created</td>\n",
              "      <td>06.15.2021</td>\n",
              "      <td>22:21:00</td>\n",
              "      <td>consolidate internal external evidence g..</td>\n",
              "    </tr>\n",
              "    <tr>\n",
              "      <th>38</th>\n",
              "      <td>intern information technology systems posts te...</td>\n",
              "      <td>United Nations</td>\n",
              "      <td>vor 11 Tagen</td>\n",
              "      <td>not_created</td>\n",
              "      <td>06.15.2021</td>\n",
              "      <td>22:21:00</td>\n",
              "      <td>analyzing qualitative data e g site visi..</td>\n",
              "    </tr>\n",
              "    <tr>\n",
              "      <th>39</th>\n",
              "      <td>senior consultant financial services risk emei...</td>\n",
              "      <td>Ernst &amp; Young</td>\n",
              "      <td>vor 11 Tagen</td>\n",
              "      <td>not_created</td>\n",
              "      <td>06.15.2021</td>\n",
              "      <td>22:21:00</td>\n",
              "      <td>encouraged investigate new risk areas ex..</td>\n",
              "    </tr>\n",
              "    <tr>\n",
              "      <th>40</th>\n",
              "      <td>senior manager hr transactions people advisory...</td>\n",
              "      <td>Ernst &amp; Young</td>\n",
              "      <td>vor 12 Tagen</td>\n",
              "      <td>not_created</td>\n",
              "      <td>06.15.2021</td>\n",
              "      <td>22:21:00</td>\n",
              "      <td>qualitative quantitative data analysis s..</td>\n",
              "    </tr>\n",
              "    <tr>\n",
              "      <th>41</th>\n",
              "      <td>internship confidential computing</td>\n",
              "      <td>decentriq</td>\n",
              "      <td>vor 10 Tagen</td>\n",
              "      <td>not_created</td>\n",
              "      <td>06.15.2021</td>\n",
              "      <td>22:21:00</td>\n",
              "      <td>cutting edge development cryptography tr..</td>\n",
              "    </tr>\n",
              "    <tr>\n",
              "      <th>42</th>\n",
              "      <td>customer success intern</td>\n",
              "      <td>Yova</td>\n",
              "      <td>vor 11 Tagen</td>\n",
              "      <td>not_created</td>\n",
              "      <td>06.15.2021</td>\n",
              "      <td>22:21:00</td>\n",
              "      <td>learn important soft skills problem solv..</td>\n",
              "    </tr>\n",
              "    <tr>\n",
              "      <th>43</th>\n",
              "      <td>internship - technology data scientist</td>\n",
              "      <td>Credit Suisse Campus</td>\n",
              "      <td>vor 18 Tagen</td>\n",
              "      <td>not_created</td>\n",
              "      <td>06.15.2021</td>\n",
              "      <td>22:21:00</td>\n",
              "      <td>ideally master degree computer science d..</td>\n",
              "    </tr>\n",
              "    <tr>\n",
              "      <th>44</th>\n",
              "      <td>private debt portfolio investment team intern</td>\n",
              "      <td>StepStone Group LP</td>\n",
              "      <td>vor 17 Tagen</td>\n",
              "      <td>not_created</td>\n",
              "      <td>06.15.2021</td>\n",
              "      <td>22:21:00</td>\n",
              "      <td>good data management analytical skills t..</td>\n",
              "    </tr>\n",
              "    <tr>\n",
              "      <th>45</th>\n",
              "      <td>ocean transportation academy trainee</td>\n",
              "      <td>Cargill</td>\n",
              "      <td>vor 19 Tagen</td>\n",
              "      <td>not_created</td>\n",
              "      <td>06.15.2021</td>\n",
              "      <td>22:21:00</td>\n",
              "      <td>analyze supply demand data market econom..</td>\n",
              "    </tr>\n",
              "    <tr>\n",
              "      <th>46</th>\n",
              "      <td>graduate program position organization pedestrian</td>\n",
              "      <td>Assa Abloy</td>\n",
              "      <td>vor 15 Tagen</td>\n",
              "      <td>not_created</td>\n",
              "      <td>06.15.2021</td>\n",
              "      <td>22:21:00</td>\n",
              "      <td>focus throughout program areas like busi..</td>\n",
              "    </tr>\n",
              "    <tr>\n",
              "      <th>47</th>\n",
              "      <td>catastrophe modeling analyst - - limited inter...</td>\n",
              "      <td>PartnerRe</td>\n",
              "      <td>vor 15 Tagen</td>\n",
              "      <td>not_created</td>\n",
              "      <td>06.15.2021</td>\n",
              "      <td>22:21:00</td>\n",
              "      <td>run propriety vendor cat models single r..</td>\n",
              "    </tr>\n",
              "    <tr>\n",
              "      <th>48</th>\n",
              "      <td>internship cbt nibr</td>\n",
              "      <td>Novartis</td>\n",
              "      <td>vor 19 Tagen</td>\n",
              "      <td>not_created</td>\n",
              "      <td>06.15.2021</td>\n",
              "      <td>22:21:00</td>\n",
              "      <td>integrated core department novartis inst..</td>\n",
              "    </tr>\n",
              "    <tr>\n",
              "      <th>49</th>\n",
              "      <td>project intern business support operations</td>\n",
              "      <td>Cartier</td>\n",
              "      <td>vor 18 Tagen</td>\n",
              "      <td>not_created</td>\n",
              "      <td>06.15.2021</td>\n",
              "      <td>22:21:00</td>\n",
              "      <td>ensure deployment workflows business pro..</td>\n",
              "    </tr>\n",
              "  </tbody>\n",
              "</table>\n",
              "</div>"
            ]
          },
          "metadata": {
            "tags": []
          },
          "execution_count": 20
        }
      ]
    },
    {
      "cell_type": "markdown",
      "metadata": {
        "id": "oly6RmkVvKkv"
      },
      "source": [
        "**Viz Query 1**"
      ]
    },
    {
      "cell_type": "code",
      "metadata": {
        "id": "D8g-Vivnvaso",
        "colab": {
          "base_uri": "https://localhost:8080/",
          "height": 1000
        },
        "outputId": "010574aa-a6da-46de-bffc-2dfeacc03c9a"
      },
      "source": [
        "viz1 = q1_processed.copy()\n",
        "viz1.drop(columns=[\"links\", \"short_link\"], inplace=True)\n",
        "\n",
        "viz_job_data_word2vec(viz1, \"summary\", save_plot=True, show_text=True,\n",
        "                      query_name=jt1 + \" in \" + jq1)\n",
        "viz_job_data_word2vec(viz1, \"titles\", save_plot=True, show_text=False,\n",
        "                      query_name=\"internships in -data-\")"
      ],
      "execution_count": 21,
      "outputs": [
        {
          "output_type": "display_data",
          "data": {
            "text/html": [
              "\n",
              "  <style>\n",
              "    pre {\n",
              "        white-space: pre-wrap;\n",
              "    }\n",
              "  </style>\n",
              "  "
            ],
            "text/plain": [
              "<IPython.core.display.HTML object>"
            ]
          },
          "metadata": {
            "tags": []
          }
        },
        {
          "output_type": "stream",
          "text": [
            "/usr/local/lib/python3.7/dist-packages/ipykernel_launcher.py:20: DeprecationWarning: Call to deprecated `wv` (Attribute will be removed in 4.0.0, use self instead).\n"
          ],
          "name": "stderr"
        },
        {
          "output_type": "stream",
          "text": [
            "Warning - word2vec-internship in data has no solution for optimal k-means\n",
            "Returning # of clusters as max allowed ( 15 )\n"
          ],
          "name": "stdout"
        },
        {
          "output_type": "stream",
          "text": [
            "/usr/local/lib/python3.7/dist-packages/kneed/knee_locator.py:304: UserWarning:\n",
            "\n",
            "No knee/elbow found\n",
            "\n"
          ],
          "name": "stderr"
        },
        {
          "output_type": "display_data",
          "data": {
            "text/html": [
              "<html>\n",
              "<head><meta charset=\"utf-8\" /></head>\n",
              "<body>\n",
              "    <div>            <script src=\"https://cdnjs.cloudflare.com/ajax/libs/mathjax/2.7.5/MathJax.js?config=TeX-AMS-MML_SVG\"></script><script type=\"text/javascript\">if (window.MathJax) {MathJax.Hub.Config({SVG: {font: \"STIX-Web\"}});}</script>                <script type=\"text/javascript\">window.PlotlyConfig = {MathJaxConfig: 'local'};</script>\n",
              "        <script src=\"https://cdn.plot.ly/plotly-latest.min.js\"></script>                <div id=\"d05e63bd-383a-40f4-ad79-e0a447c5145a\" class=\"plotly-graph-div\" style=\"height:720px; width:960px;\"></div>            <script type=\"text/javascript\">                                    window.PLOTLYENV=window.PLOTLYENV || {};                                    if (document.getElementById(\"d05e63bd-383a-40f4-ad79-e0a447c5145a\")) {                    Plotly.newPlot(                        \"d05e63bd-383a-40f4-ad79-e0a447c5145a\",                        [{\"customdata\": [[\"impact research intern neu\", \"Yova AG\", \"Gerade ver\\u00f6ffentlicht\", \"06.15.2021\", \"22:21:00\", \"2\"], [\"internship risk management neu\", \"Credit Suisse Campus\", \"vor 1 Tag\", \"06.15.2021\", \"22:21:00\", \"2\"], [\"impact research intern neu\", \"Yova\", \"vor 5 Tagen\", \"06.15.2021\", \"22:21:00\", \"2\"], [\"strategic assistant group ceo neu\", \"Eternit\", \"vor 7 Tagen\", \"06.15.2021\", \"22:21:00\", \"2\"], [\"principal statistician neu\", \"Johnson & Johnson Family of Companies\", \"vor 7 Tagen\", \"06.15.2021\", \"22:21:00\", \"2\"], [\"senior consultant financial services risk emeia financial\", \"Ernst & Young\", \"vor 11 Tagen\", \"06.15.2021\", \"22:21:00\", \"2\"], [\"ocean transportation academy trainee\", \"Cargill\", \"vor 19 Tagen\", \"06.15.2021\", \"22:21:00\", \"2\"]], \"hovertemplate\": \"kmeans=%{customdata[5]}<br>pca_x=%{x}<br>pca_y=%{y}<br>companies_abbrev=%{text}<br>titles=%{customdata[0]}<br>companies=%{customdata[1]}<br>date_listed=%{customdata[2]}<br>date_pulled=%{customdata[3]}<br>time_pulled=%{customdata[4]}<extra></extra>\", \"legendgroup\": \"2\", \"marker\": {\"color\": \"#636efa\", \"symbol\": \"circle\"}, \"mode\": \"markers+text\", \"name\": \"2\", \"orientation\": \"v\", \"showlegend\": true, \"text\": [\"Yova AG\", \"Credit Suisse C..\", \"Yova\", \"Eternit\", \"Johnson & Johns..\", \"Ernst & Young\", \"Cargill\"], \"type\": \"scatter\", \"x\": [-0.08338022374107311, -0.120893623172026, -0.0833802237410731, 0.06824778845646597, 0.01357766429353171, -0.16584931744446083, 0.17530389144322106], \"xaxis\": \"x\", \"y\": [-0.0020664207744139425, -0.2654169543897028, -0.002066420774413986, -0.010224566656082698, 0.23999659741505056, -0.07515405414245933, -0.2823881548393745], \"yaxis\": \"y\"}, {\"customdata\": [[\"customer success intern neu\", \"Yova AG\", \"Gerade ver\\u00f6ffentlicht\", \"06.15.2021\", \"22:21:00\", \"12\"], [\"internship global brand development months\", \"La Prairie Group\", \"vor 11 Tagen\", \"06.15.2021\", \"22:21:00\", \"12\"], [\"customer success intern\", \"Yova\", \"vor 11 Tagen\", \"06.15.2021\", \"22:21:00\", \"12\"]], \"hovertemplate\": \"kmeans=%{customdata[5]}<br>pca_x=%{x}<br>pca_y=%{y}<br>companies_abbrev=%{text}<br>titles=%{customdata[0]}<br>companies=%{customdata[1]}<br>date_listed=%{customdata[2]}<br>date_pulled=%{customdata[3]}<br>time_pulled=%{customdata[4]}<extra></extra>\", \"legendgroup\": \"12\", \"marker\": {\"color\": \"#EF553B\", \"symbol\": \"circle\"}, \"mode\": \"markers+text\", \"name\": \"12\", \"orientation\": \"v\", \"showlegend\": true, \"text\": [\"Yova AG\", \"La Prairie Grou..\", \"Yova\"], \"type\": \"scatter\", \"x\": [-0.21085865009515048, -0.0779719204487481, -0.2108586500951508], \"xaxis\": \"x\", \"y\": [0.13131646775352734, 0.02225153707073409, 0.13131646775352715], \"yaxis\": \"y\"}, {\"customdata\": [[\"internship sales business development support zurich neu\", \"CANDRIAM\", \"Heute\", \"06.15.2021\", \"22:21:00\", \"9\"], [\"diversity inclusion consultant intern months neu\", \"Alvicus AG\", \"vor 1 Tag\", \"06.15.2021\", \"22:21:00\", \"9\"]], \"hovertemplate\": \"kmeans=%{customdata[5]}<br>pca_x=%{x}<br>pca_y=%{y}<br>companies_abbrev=%{text}<br>titles=%{customdata[0]}<br>companies=%{customdata[1]}<br>date_listed=%{customdata[2]}<br>date_pulled=%{customdata[3]}<br>time_pulled=%{customdata[4]}<extra></extra>\", \"legendgroup\": \"9\", \"marker\": {\"color\": \"#00cc96\", \"symbol\": \"circle\"}, \"mode\": \"markers+text\", \"name\": \"9\", \"orientation\": \"v\", \"showlegend\": true, \"text\": [\"CANDRIAM\", \"Alvicus AG\"], \"type\": \"scatter\", \"x\": [-0.2353134813041978, -0.344383509791017], \"xaxis\": \"x\", \"y\": [-0.021031629331535275, 0.014736059007755443], \"yaxis\": \"y\"}, {\"customdata\": [[\"internship data scientist algorithm development core neu\", \"greenTEG AG\", \"Heute\", \"06.15.2021\", \"22:21:00\", \"13\"], [\"intern environment affairs temporary neu\", \"United Nations\", \"Heute\", \"06.15.2021\", \"22:21:00\", \"13\"], [\"unctad remote internship office director division neu\", \"United Nations\", \"vor 1 Tag\", \"06.15.2021\", \"22:21:00\", \"13\"], [\"translational data science intern neu\", \"Novartis\", \"vor 4 Tagen\", \"06.15.2021\", \"22:21:00\", \"13\"], [\"data engineer intern months internship neu\", \"MET International AG\", \"vor 5 Tagen\", \"06.15.2021\", \"22:21:00\", \"13\"], [\"audit analytics data delivery consultant neu\", \"EY\", \"vor 6 Tagen\", \"06.15.2021\", \"22:21:00\", \"13\"], [\"c software development internship neu\", \"Verity\", \"vor 6 Tagen\", \"06.15.2021\", \"22:21:00\", \"13\"], [\"intern information technology systems posts tempor\", \"United Nations\", \"vor 11 Tagen\", \"06.15.2021\", \"22:21:00\", \"13\"], [\"private debt portfolio investment team intern\", \"StepStone Group LP\", \"vor 17 Tagen\", \"06.15.2021\", \"22:21:00\", \"13\"]], \"hovertemplate\": \"kmeans=%{customdata[5]}<br>pca_x=%{x}<br>pca_y=%{y}<br>companies_abbrev=%{text}<br>titles=%{customdata[0]}<br>companies=%{customdata[1]}<br>date_listed=%{customdata[2]}<br>date_pulled=%{customdata[3]}<br>time_pulled=%{customdata[4]}<extra></extra>\", \"legendgroup\": \"13\", \"marker\": {\"color\": \"#ab63fa\", \"symbol\": \"circle\"}, \"mode\": \"markers+text\", \"name\": \"13\", \"orientation\": \"v\", \"showlegend\": true, \"text\": [\"greenTEG AG\", \"United Nations\", \"United Nations\", \"Novartis\", \"MET Internation..\", \"EY\", \"Verity\", \"United Nations\", \"StepStone Group..\"], \"type\": \"scatter\", \"x\": [0.46726867851076875, 0.4794440819355091, 0.310400293021784, 0.47689810494334506, 0.1848173206911056, 0.1399694209301239, 0.15530202862632564, 0.06222765242420193, 0.1262708773562115], \"xaxis\": \"x\", \"y\": [0.01938743308291754, -0.12086812379667905, -0.05424179216895846, 0.2075804505902524, -0.06384858138435985, -0.07163510238529057, 0.10678954435740472, 0.08753845571841935, 0.013937786195987466], \"yaxis\": \"y\"}, {\"customdata\": [[\"practical trainee internship audiological development neu\", \"Sonova\", \"vor 1 Tag\", \"06.15.2021\", \"22:21:00\", \"4\"], [\"junior controller - intern neu\", \"Ermenegildo Zegna\", \"vor 1 Tag\", \"06.15.2021\", \"22:21:00\", \"4\"], [\"internship data scientist algorithm development core neu\", \"greenTEG AG\", \"vor 2 Tagen\", \"06.15.2021\", \"22:21:00\", \"4\"], [\"catastrophe modeling analyst - - limited internshi\", \"PartnerRe\", \"vor 15 Tagen\", \"06.15.2021\", \"22:21:00\", \"4\"]], \"hovertemplate\": \"kmeans=%{customdata[5]}<br>pca_x=%{x}<br>pca_y=%{y}<br>companies_abbrev=%{text}<br>titles=%{customdata[0]}<br>companies=%{customdata[1]}<br>date_listed=%{customdata[2]}<br>date_pulled=%{customdata[3]}<br>time_pulled=%{customdata[4]}<extra></extra>\", \"legendgroup\": \"4\", \"marker\": {\"color\": \"#FFA15A\", \"symbol\": \"circle\"}, \"mode\": \"markers+text\", \"name\": \"4\", \"orientation\": \"v\", \"showlegend\": true, \"text\": [\"Sonova\", \"Ermenegildo Zeg..\", \"greenTEG AG\", \"PartnerRe\"], \"type\": \"scatter\", \"x\": [-0.0104311920504674, -0.23570539104797728, 0.43308839637830754, 0.1422706431738025], \"xaxis\": \"x\", \"y\": [0.014452702581822836, -0.24028027304794905, -0.05330156506796071, -0.08389062071934018], \"yaxis\": \"y\"}, {\"customdata\": [[\"unctad remote internship knowledge development branch neu\", \"United Nations\", \"vor 1 Tag\", \"06.15.2021\", \"22:21:00\", \"6\"], [\"unctad remote internship transport section div neu\", \"United Nations\", \"vor 1 Tag\", \"06.15.2021\", \"22:21:00\", \"6\"], [\"intern economic affairs temporary neu\", \"United Nations\", \"vor 4 Tagen\", \"06.15.2021\", \"22:21:00\", \"6\"], [\"intern sustainability f months neu\", \"DSM\", \"vor 5 Tagen\", \"06.15.2021\", \"22:21:00\", \"6\"]], \"hovertemplate\": \"kmeans=%{customdata[5]}<br>pca_x=%{x}<br>pca_y=%{y}<br>companies_abbrev=%{text}<br>titles=%{customdata[0]}<br>companies=%{customdata[1]}<br>date_listed=%{customdata[2]}<br>date_pulled=%{customdata[3]}<br>time_pulled=%{customdata[4]}<extra></extra>\", \"legendgroup\": \"6\", \"marker\": {\"color\": \"#19d3f3\", \"symbol\": \"circle\"}, \"mode\": \"markers+text\", \"name\": \"6\", \"orientation\": \"v\", \"showlegend\": true, \"text\": [\"United Nations\", \"United Nations\", \"United Nations\", \"DSM\"], \"type\": \"scatter\", \"x\": [-0.2607930782999234, -0.07545416639287393, -0.18500358886137525, -0.470920795570891], \"xaxis\": \"x\", \"y\": [0.13547027178177737, 0.19478604044649034, 0.14853292981584004, -0.1265621784257952], \"yaxis\": \"y\"}, {\"customdata\": [[\"postdoc bioprocess modelling new tech neu\", \"Novartis\", \"vor 1 Tag\", \"06.15.2021\", \"22:21:00\", \"1\"], [\"corporate social responsibility intern neu\", \"Cartier\", \"vor 4 Tagen\", \"06.15.2021\", \"22:21:00\", \"1\"], [\"forensic consultant investigations compliance financ neu\", \"EY\", \"vor 5 Tagen\", \"06.15.2021\", \"22:21:00\", \"1\"], [\"internship analytics\", \"Novartis\", \"vor 11 Tagen\", \"06.15.2021\", \"22:21:00\", \"1\"], [\"internship geodesy f\", \"Leica Geosystems AG - Part of Hexagon\", \"vor 13 Tagen\", \"06.15.2021\", \"22:21:00\", \"1\"], [\"internship health care systems evidence\", \"Novartis\", \"vor 11 Tagen\", \"06.15.2021\", \"22:21:00\", \"1\"], [\"project intern business support operations\", \"Cartier\", \"vor 18 Tagen\", \"06.15.2021\", \"22:21:00\", \"1\"]], \"hovertemplate\": \"kmeans=%{customdata[5]}<br>pca_x=%{x}<br>pca_y=%{y}<br>companies_abbrev=%{text}<br>titles=%{customdata[0]}<br>companies=%{customdata[1]}<br>date_listed=%{customdata[2]}<br>date_pulled=%{customdata[3]}<br>time_pulled=%{customdata[4]}<extra></extra>\", \"legendgroup\": \"1\", \"marker\": {\"color\": \"#FF6692\", \"symbol\": \"circle\"}, \"mode\": \"markers+text\", \"name\": \"1\", \"orientation\": \"v\", \"showlegend\": true, \"text\": [\"Novartis\", \"Cartier\", \"EY\", \"Novartis\", \"Leica Geosystem..\", \"Novartis\", \"Cartier\"], \"type\": \"scatter\", \"x\": [0.06802448056620476, 0.13750563374131608, -0.09845871229755632, 0.12861044754879739, -0.03773745909883019, -0.04802014733401921, 0.05893988938741241], \"xaxis\": \"x\", \"y\": [0.10768960312503775, -0.10704590216693677, 0.12725213822925782, -0.0934639099535388, -0.18629967128072739, -0.2688067946020589, -0.49059224179131405], \"yaxis\": \"y\"}, {\"customdata\": [[\"environmental performance intern neu\", \"Richemont\", \"vor 4 Tagen\", \"06.15.2021\", \"22:21:00\", \"7\"], [\"internship operations controlling\", \"Axpo\", \"vor 11 Tagen\", \"06.15.2021\", \"22:21:00\", \"7\"]], \"hovertemplate\": \"kmeans=%{customdata[5]}<br>pca_x=%{x}<br>pca_y=%{y}<br>companies_abbrev=%{text}<br>titles=%{customdata[0]}<br>companies=%{customdata[1]}<br>date_listed=%{customdata[2]}<br>date_pulled=%{customdata[3]}<br>time_pulled=%{customdata[4]}<extra></extra>\", \"legendgroup\": \"7\", \"marker\": {\"color\": \"#B6E880\", \"symbol\": \"circle\"}, \"mode\": \"markers+text\", \"name\": \"7\", \"orientation\": \"v\", \"showlegend\": true, \"text\": [\"Richemont\", \"Axpo\"], \"type\": \"scatter\", \"x\": [0.006371621234995645, -0.1620378228182539], \"xaxis\": \"x\", \"y\": [-0.2833478126396579, -0.4388114758709471], \"yaxis\": \"y\"}, {\"customdata\": [[\"praktikantin praktikant pflege und therapien neu\", \"Zuger Kantonsspital AG\", \"vor 4 Tagen\", \"06.15.2021\", \"22:21:00\", \"10\"]], \"hovertemplate\": \"kmeans=%{customdata[5]}<br>pca_x=%{x}<br>pca_y=%{y}<br>companies_abbrev=%{text}<br>titles=%{customdata[0]}<br>companies=%{customdata[1]}<br>date_listed=%{customdata[2]}<br>date_pulled=%{customdata[3]}<br>time_pulled=%{customdata[4]}<extra></extra>\", \"legendgroup\": \"10\", \"marker\": {\"color\": \"#FF97FF\", \"symbol\": \"circle\"}, \"mode\": \"markers+text\", \"name\": \"10\", \"orientation\": \"v\", \"showlegend\": true, \"text\": [\"Zuger Kantonssp..\"], \"type\": \"scatter\", \"x\": [0.17193872945044725], \"xaxis\": \"x\", \"y\": [0.04152971564962195], \"yaxis\": \"y\"}, {\"customdata\": [[\"marketing communication intern f neu\", \"GOWAGO AG\", \"vor 4 Tagen\", \"06.15.2021\", \"22:21:00\", \"11\"], [\"senior manager hr transactions people advisory service\", \"Ernst & Young\", \"vor 12 Tagen\", \"06.15.2021\", \"22:21:00\", \"11\"]], \"hovertemplate\": \"kmeans=%{customdata[5]}<br>pca_x=%{x}<br>pca_y=%{y}<br>companies_abbrev=%{text}<br>titles=%{customdata[0]}<br>companies=%{customdata[1]}<br>date_listed=%{customdata[2]}<br>date_pulled=%{customdata[3]}<br>time_pulled=%{customdata[4]}<extra></extra>\", \"legendgroup\": \"11\", \"marker\": {\"color\": \"#FECB52\", \"symbol\": \"circle\"}, \"mode\": \"markers+text\", \"name\": \"11\", \"orientation\": \"v\", \"showlegend\": true, \"text\": [\"GOWAGO AG\", \"Ernst & Young\"], \"type\": \"scatter\", \"x\": [0.2982313863019746, 0.6046672243387954], \"xaxis\": \"x\", \"y\": [0.32024532075551426, 0.20064174501179452], \"yaxis\": \"y\"}, {\"customdata\": [[\"competitor safety engineer trainee neu\", \"FEDERATION INTERNATIONALE AUTOMOBILE\", \"vor 5 Tagen\", \"06.15.2021\", \"22:21:00\", \"3\"], [\"digital trade marketing intern\", \"On AG\", \"vor 13 Tagen\", \"06.15.2021\", \"22:21:00\", \"3\"], [\"graduate program position organization pedestrian\", \"Assa Abloy\", \"vor 15 Tagen\", \"06.15.2021\", \"22:21:00\", \"3\"], [\"internship cbt nibr\", \"Novartis\", \"vor 19 Tagen\", \"06.15.2021\", \"22:21:00\", \"3\"]], \"hovertemplate\": \"kmeans=%{customdata[5]}<br>pca_x=%{x}<br>pca_y=%{y}<br>companies_abbrev=%{text}<br>titles=%{customdata[0]}<br>companies=%{customdata[1]}<br>date_listed=%{customdata[2]}<br>date_pulled=%{customdata[3]}<br>time_pulled=%{customdata[4]}<extra></extra>\", \"legendgroup\": \"3\", \"marker\": {\"color\": \"#636efa\", \"symbol\": \"circle\"}, \"mode\": \"markers+text\", \"name\": \"3\", \"orientation\": \"v\", \"showlegend\": true, \"text\": [\"FEDERATION INTE..\", \"On AG\", \"Assa Abloy\", \"Novartis\"], \"type\": \"scatter\", \"x\": [-0.34353608377968736, -0.4214676910812667, -0.4638957365807314, -0.2985925792384091], \"xaxis\": \"x\", \"y\": [0.03079519241247642, 0.14446633793707125, -0.05791390610231295, 0.26261149870818035], \"yaxis\": \"y\"}, {\"customdata\": [[\"manager forensic investigations financial crime complian neu\", \"EY\", \"vor 5 Tagen\", \"06.15.2021\", \"22:21:00\", \"5\"]], \"hovertemplate\": \"kmeans=%{customdata[5]}<br>pca_x=%{x}<br>pca_y=%{y}<br>companies_abbrev=%{text}<br>titles=%{customdata[0]}<br>companies=%{customdata[1]}<br>date_listed=%{customdata[2]}<br>date_pulled=%{customdata[3]}<br>time_pulled=%{customdata[4]}<extra></extra>\", \"legendgroup\": \"5\", \"marker\": {\"color\": \"#EF553B\", \"symbol\": \"circle\"}, \"mode\": \"markers+text\", \"name\": \"5\", \"orientation\": \"v\", \"showlegend\": true, \"text\": [\"EY\"], \"type\": \"scatter\", \"x\": [-0.16090348986456737], \"xaxis\": \"x\", \"y\": [0.7171223551046721], \"yaxis\": \"y\"}, {\"customdata\": [[\"internship innovation pmo f months neu\", \"Georg Fischer\", \"vor 6 Tagen\", \"06.15.2021\", \"22:21:00\", \"0\"], [\"internship innovation pmo f months neu\", \"Georg Fischer Rohrleitungssysteme AG, Schaffhausen\", \"vor 6 Tagen\", \"06.15.2021\", \"22:21:00\", \"0\"]], \"hovertemplate\": \"kmeans=%{customdata[5]}<br>pca_x=%{x}<br>pca_y=%{y}<br>companies_abbrev=%{text}<br>titles=%{customdata[0]}<br>companies=%{customdata[1]}<br>date_listed=%{customdata[2]}<br>date_pulled=%{customdata[3]}<br>time_pulled=%{customdata[4]}<extra></extra>\", \"legendgroup\": \"0\", \"marker\": {\"color\": \"#00cc96\", \"symbol\": \"circle\"}, \"mode\": \"markers+text\", \"name\": \"0\", \"orientation\": \"v\", \"showlegend\": true, \"text\": [\"Georg Fischer\", \"Georg Fischer R..\"], \"type\": \"scatter\", \"x\": [0.06501999203632357, 0.06501999203632355], \"xaxis\": \"x\", \"y\": [-0.3102835382519101, -0.3102835382519101], \"yaxis\": \"y\"}, {\"customdata\": [[\"internship confidential computing\", \"decentriq\", \"vor 10 Tagen\", \"06.15.2021\", \"22:21:00\", \"14\"]], \"hovertemplate\": \"kmeans=%{customdata[5]}<br>pca_x=%{x}<br>pca_y=%{y}<br>companies_abbrev=%{text}<br>titles=%{customdata[0]}<br>companies=%{customdata[1]}<br>date_listed=%{customdata[2]}<br>date_pulled=%{customdata[3]}<br>time_pulled=%{customdata[4]}<extra></extra>\", \"legendgroup\": \"14\", \"marker\": {\"color\": \"#ab63fa\", \"symbol\": \"circle\"}, \"mode\": \"markers+text\", \"name\": \"14\", \"orientation\": \"v\", \"showlegend\": true, \"text\": [\"decentriq\"], \"type\": \"scatter\", \"x\": [-0.1061533276888953], \"xaxis\": \"x\", \"y\": [-0.018979471526542457], \"yaxis\": \"y\"}, {\"customdata\": [[\"internship - technology data scientist\", \"Credit Suisse Campus\", \"vor 18 Tagen\", \"06.15.2021\", \"22:21:00\", \"8\"]], \"hovertemplate\": \"kmeans=%{customdata[5]}<br>pca_x=%{x}<br>pca_y=%{y}<br>companies_abbrev=%{text}<br>titles=%{customdata[0]}<br>companies=%{customdata[1]}<br>date_listed=%{customdata[2]}<br>date_pulled=%{customdata[3]}<br>time_pulled=%{customdata[4]}<extra></extra>\", \"legendgroup\": \"8\", \"marker\": {\"color\": \"#FFA15A\", \"symbol\": \"circle\"}, \"mode\": \"markers+text\", \"name\": \"8\", \"orientation\": \"v\", \"showlegend\": true, \"text\": [\"Credit Suisse C..\"], \"type\": \"scatter\", \"x\": [0.07258462301132694], \"xaxis\": \"x\", \"y\": [0.6183580498370411], \"yaxis\": \"y\"}],                        {\"height\": 720, \"legend\": {\"title\": {\"text\": \"kmeans\"}, \"tracegroupgap\": 0}, \"template\": {\"data\": {\"bar\": [{\"error_x\": {\"color\": \"#f2f5fa\"}, \"error_y\": {\"color\": \"#f2f5fa\"}, \"marker\": {\"line\": {\"color\": \"rgb(17,17,17)\", \"width\": 0.5}}, \"type\": \"bar\"}], \"barpolar\": [{\"marker\": {\"line\": {\"color\": \"rgb(17,17,17)\", \"width\": 0.5}}, \"type\": \"barpolar\"}], \"carpet\": [{\"aaxis\": {\"endlinecolor\": \"#A2B1C6\", \"gridcolor\": \"#506784\", \"linecolor\": \"#506784\", \"minorgridcolor\": \"#506784\", \"startlinecolor\": \"#A2B1C6\"}, \"baxis\": {\"endlinecolor\": \"#A2B1C6\", \"gridcolor\": \"#506784\", \"linecolor\": \"#506784\", \"minorgridcolor\": \"#506784\", \"startlinecolor\": \"#A2B1C6\"}, \"type\": \"carpet\"}], \"choropleth\": [{\"colorbar\": {\"outlinewidth\": 0, \"ticks\": \"\"}, \"type\": \"choropleth\"}], \"contour\": [{\"colorbar\": {\"outlinewidth\": 0, \"ticks\": \"\"}, \"colorscale\": [[0.0, \"#0d0887\"], [0.1111111111111111, \"#46039f\"], [0.2222222222222222, \"#7201a8\"], [0.3333333333333333, \"#9c179e\"], [0.4444444444444444, \"#bd3786\"], [0.5555555555555556, \"#d8576b\"], [0.6666666666666666, \"#ed7953\"], [0.7777777777777778, \"#fb9f3a\"], [0.8888888888888888, \"#fdca26\"], [1.0, \"#f0f921\"]], \"type\": \"contour\"}], \"contourcarpet\": [{\"colorbar\": {\"outlinewidth\": 0, \"ticks\": \"\"}, \"type\": \"contourcarpet\"}], \"heatmap\": [{\"colorbar\": {\"outlinewidth\": 0, \"ticks\": \"\"}, \"colorscale\": [[0.0, \"#0d0887\"], [0.1111111111111111, \"#46039f\"], [0.2222222222222222, \"#7201a8\"], [0.3333333333333333, \"#9c179e\"], [0.4444444444444444, \"#bd3786\"], [0.5555555555555556, \"#d8576b\"], [0.6666666666666666, \"#ed7953\"], [0.7777777777777778, \"#fb9f3a\"], [0.8888888888888888, \"#fdca26\"], [1.0, \"#f0f921\"]], \"type\": \"heatmap\"}], \"heatmapgl\": [{\"colorbar\": {\"outlinewidth\": 0, \"ticks\": \"\"}, \"colorscale\": [[0.0, \"#0d0887\"], [0.1111111111111111, \"#46039f\"], [0.2222222222222222, \"#7201a8\"], [0.3333333333333333, \"#9c179e\"], [0.4444444444444444, \"#bd3786\"], [0.5555555555555556, \"#d8576b\"], [0.6666666666666666, \"#ed7953\"], [0.7777777777777778, \"#fb9f3a\"], [0.8888888888888888, \"#fdca26\"], [1.0, \"#f0f921\"]], \"type\": \"heatmapgl\"}], \"histogram\": [{\"marker\": {\"colorbar\": {\"outlinewidth\": 0, \"ticks\": \"\"}}, \"type\": \"histogram\"}], \"histogram2d\": [{\"colorbar\": {\"outlinewidth\": 0, \"ticks\": \"\"}, \"colorscale\": [[0.0, \"#0d0887\"], [0.1111111111111111, \"#46039f\"], [0.2222222222222222, \"#7201a8\"], [0.3333333333333333, \"#9c179e\"], [0.4444444444444444, \"#bd3786\"], [0.5555555555555556, \"#d8576b\"], [0.6666666666666666, \"#ed7953\"], [0.7777777777777778, \"#fb9f3a\"], [0.8888888888888888, \"#fdca26\"], [1.0, \"#f0f921\"]], \"type\": \"histogram2d\"}], \"histogram2dcontour\": [{\"colorbar\": {\"outlinewidth\": 0, \"ticks\": \"\"}, \"colorscale\": [[0.0, \"#0d0887\"], [0.1111111111111111, \"#46039f\"], [0.2222222222222222, \"#7201a8\"], [0.3333333333333333, \"#9c179e\"], [0.4444444444444444, \"#bd3786\"], [0.5555555555555556, \"#d8576b\"], [0.6666666666666666, \"#ed7953\"], [0.7777777777777778, \"#fb9f3a\"], [0.8888888888888888, \"#fdca26\"], [1.0, \"#f0f921\"]], \"type\": \"histogram2dcontour\"}], \"mesh3d\": [{\"colorbar\": {\"outlinewidth\": 0, \"ticks\": \"\"}, \"type\": \"mesh3d\"}], \"parcoords\": [{\"line\": {\"colorbar\": {\"outlinewidth\": 0, \"ticks\": \"\"}}, \"type\": \"parcoords\"}], \"pie\": [{\"automargin\": true, \"type\": \"pie\"}], \"scatter\": [{\"marker\": {\"line\": {\"color\": \"#283442\"}}, \"type\": \"scatter\"}], \"scatter3d\": [{\"line\": {\"colorbar\": {\"outlinewidth\": 0, \"ticks\": \"\"}}, \"marker\": {\"colorbar\": {\"outlinewidth\": 0, \"ticks\": \"\"}}, \"type\": \"scatter3d\"}], \"scattercarpet\": [{\"marker\": {\"colorbar\": {\"outlinewidth\": 0, \"ticks\": \"\"}}, \"type\": \"scattercarpet\"}], \"scattergeo\": [{\"marker\": {\"colorbar\": {\"outlinewidth\": 0, \"ticks\": \"\"}}, \"type\": \"scattergeo\"}], \"scattergl\": [{\"marker\": {\"line\": {\"color\": \"#283442\"}}, \"type\": \"scattergl\"}], \"scattermapbox\": [{\"marker\": {\"colorbar\": {\"outlinewidth\": 0, \"ticks\": \"\"}}, \"type\": \"scattermapbox\"}], \"scatterpolar\": [{\"marker\": {\"colorbar\": {\"outlinewidth\": 0, \"ticks\": \"\"}}, \"type\": \"scatterpolar\"}], \"scatterpolargl\": [{\"marker\": {\"colorbar\": {\"outlinewidth\": 0, \"ticks\": \"\"}}, \"type\": \"scatterpolargl\"}], \"scatterternary\": [{\"marker\": {\"colorbar\": {\"outlinewidth\": 0, \"ticks\": \"\"}}, \"type\": \"scatterternary\"}], \"surface\": [{\"colorbar\": {\"outlinewidth\": 0, \"ticks\": \"\"}, \"colorscale\": [[0.0, \"#0d0887\"], [0.1111111111111111, \"#46039f\"], [0.2222222222222222, \"#7201a8\"], [0.3333333333333333, \"#9c179e\"], [0.4444444444444444, \"#bd3786\"], [0.5555555555555556, \"#d8576b\"], [0.6666666666666666, \"#ed7953\"], [0.7777777777777778, \"#fb9f3a\"], [0.8888888888888888, \"#fdca26\"], [1.0, \"#f0f921\"]], \"type\": \"surface\"}], \"table\": [{\"cells\": {\"fill\": {\"color\": \"#506784\"}, \"line\": {\"color\": \"rgb(17,17,17)\"}}, \"header\": {\"fill\": {\"color\": \"#2a3f5f\"}, \"line\": {\"color\": \"rgb(17,17,17)\"}}, \"type\": \"table\"}]}, \"layout\": {\"annotationdefaults\": {\"arrowcolor\": \"#f2f5fa\", \"arrowhead\": 0, \"arrowwidth\": 1}, \"autotypenumbers\": \"strict\", \"coloraxis\": {\"colorbar\": {\"outlinewidth\": 0, \"ticks\": \"\"}}, \"colorscale\": {\"diverging\": [[0, \"#8e0152\"], [0.1, \"#c51b7d\"], [0.2, \"#de77ae\"], [0.3, \"#f1b6da\"], [0.4, \"#fde0ef\"], [0.5, \"#f7f7f7\"], [0.6, \"#e6f5d0\"], [0.7, \"#b8e186\"], [0.8, \"#7fbc41\"], [0.9, \"#4d9221\"], [1, \"#276419\"]], \"sequential\": [[0.0, \"#0d0887\"], [0.1111111111111111, \"#46039f\"], [0.2222222222222222, \"#7201a8\"], [0.3333333333333333, \"#9c179e\"], [0.4444444444444444, \"#bd3786\"], [0.5555555555555556, \"#d8576b\"], [0.6666666666666666, \"#ed7953\"], [0.7777777777777778, \"#fb9f3a\"], [0.8888888888888888, \"#fdca26\"], [1.0, \"#f0f921\"]], \"sequentialminus\": [[0.0, \"#0d0887\"], [0.1111111111111111, \"#46039f\"], [0.2222222222222222, \"#7201a8\"], [0.3333333333333333, \"#9c179e\"], [0.4444444444444444, \"#bd3786\"], [0.5555555555555556, \"#d8576b\"], [0.6666666666666666, \"#ed7953\"], [0.7777777777777778, \"#fb9f3a\"], [0.8888888888888888, \"#fdca26\"], [1.0, \"#f0f921\"]]}, \"colorway\": [\"#636efa\", \"#EF553B\", \"#00cc96\", \"#ab63fa\", \"#FFA15A\", \"#19d3f3\", \"#FF6692\", \"#B6E880\", \"#FF97FF\", \"#FECB52\"], \"font\": {\"color\": \"#f2f5fa\"}, \"geo\": {\"bgcolor\": \"rgb(17,17,17)\", \"lakecolor\": \"rgb(17,17,17)\", \"landcolor\": \"rgb(17,17,17)\", \"showlakes\": true, \"showland\": true, \"subunitcolor\": \"#506784\"}, \"hoverlabel\": {\"align\": \"left\"}, \"hovermode\": \"closest\", \"mapbox\": {\"style\": \"dark\"}, \"paper_bgcolor\": \"rgb(17,17,17)\", \"plot_bgcolor\": \"rgb(17,17,17)\", \"polar\": {\"angularaxis\": {\"gridcolor\": \"#506784\", \"linecolor\": \"#506784\", \"ticks\": \"\"}, \"bgcolor\": \"rgb(17,17,17)\", \"radialaxis\": {\"gridcolor\": \"#506784\", \"linecolor\": \"#506784\", \"ticks\": \"\"}}, \"scene\": {\"xaxis\": {\"backgroundcolor\": \"rgb(17,17,17)\", \"gridcolor\": \"#506784\", \"gridwidth\": 2, \"linecolor\": \"#506784\", \"showbackground\": true, \"ticks\": \"\", \"zerolinecolor\": \"#C8D4E3\"}, \"yaxis\": {\"backgroundcolor\": \"rgb(17,17,17)\", \"gridcolor\": \"#506784\", \"gridwidth\": 2, \"linecolor\": \"#506784\", \"showbackground\": true, \"ticks\": \"\", \"zerolinecolor\": \"#C8D4E3\"}, \"zaxis\": {\"backgroundcolor\": \"rgb(17,17,17)\", \"gridcolor\": \"#506784\", \"gridwidth\": 2, \"linecolor\": \"#506784\", \"showbackground\": true, \"ticks\": \"\", \"zerolinecolor\": \"#C8D4E3\"}}, \"shapedefaults\": {\"line\": {\"color\": \"#f2f5fa\"}}, \"sliderdefaults\": {\"bgcolor\": \"#C8D4E3\", \"bordercolor\": \"rgb(17,17,17)\", \"borderwidth\": 1, \"tickwidth\": 0}, \"ternary\": {\"aaxis\": {\"gridcolor\": \"#506784\", \"linecolor\": \"#506784\", \"ticks\": \"\"}, \"baxis\": {\"gridcolor\": \"#506784\", \"linecolor\": \"#506784\", \"ticks\": \"\"}, \"bgcolor\": \"rgb(17,17,17)\", \"caxis\": {\"gridcolor\": \"#506784\", \"linecolor\": \"#506784\", \"ticks\": \"\"}}, \"title\": {\"x\": 0.05}, \"updatemenudefaults\": {\"bgcolor\": \"#506784\", \"borderwidth\": 0}, \"xaxis\": {\"automargin\": true, \"gridcolor\": \"#283442\", \"linecolor\": \"#506784\", \"ticks\": \"\", \"title\": {\"standoff\": 15}, \"zerolinecolor\": \"#283442\", \"zerolinewidth\": 2}, \"yaxis\": {\"automargin\": true, \"gridcolor\": \"#283442\", \"linecolor\": \"#506784\", \"ticks\": \"\", \"title\": {\"standoff\": 15}, \"zerolinecolor\": \"#283442\", \"zerolinewidth\": 2}}}, \"title\": {\"text\": \"Jun-15-2021 Vizualize Companies by summary text w word2vec | internship in data\"}, \"width\": 960, \"xaxis\": {\"anchor\": \"y\", \"domain\": [0.0, 1.0], \"title\": {\"text\": \"pca_x\"}}, \"yaxis\": {\"anchor\": \"x\", \"domain\": [0.0, 1.0], \"title\": {\"text\": \"pca_y\"}}},                        {\"responsive\": true}                    ).then(function(){\n",
              "                            \n",
              "var gd = document.getElementById('d05e63bd-383a-40f4-ad79-e0a447c5145a');\n",
              "var x = new MutationObserver(function (mutations, observer) {{\n",
              "        var display = window.getComputedStyle(gd).display;\n",
              "        if (!display || display === 'none') {{\n",
              "            console.log([gd, 'removed!']);\n",
              "            Plotly.purge(gd);\n",
              "            observer.disconnect();\n",
              "        }}\n",
              "}});\n",
              "\n",
              "// Listen for the removal of the full notebook cells\n",
              "var notebookContainer = gd.closest('#notebook-container');\n",
              "if (notebookContainer) {{\n",
              "    x.observe(notebookContainer, {childList: true});\n",
              "}}\n",
              "\n",
              "// Listen for the clearing of the current output cell\n",
              "var outputEl = gd.closest('.output');\n",
              "if (outputEl) {{\n",
              "    x.observe(outputEl, {childList: true});\n",
              "}}\n",
              "\n",
              "                        })                };                            </script>        </div>\n",
              "</body>\n",
              "</html>"
            ]
          },
          "metadata": {
            "tags": []
          }
        },
        {
          "output_type": "stream",
          "text": [
            "plot generated -  2021-06-15 22:21:11.705371\n"
          ],
          "name": "stdout"
        },
        {
          "output_type": "stream",
          "text": [
            "/usr/local/lib/python3.7/dist-packages/ipykernel_launcher.py:20: DeprecationWarning:\n",
            "\n",
            "Call to deprecated `wv` (Attribute will be removed in 4.0.0, use self instead).\n",
            "\n"
          ],
          "name": "stderr"
        },
        {
          "output_type": "stream",
          "text": [
            "\n",
            "For word2vec-internships in -data-: opt. # of k-means clusters is 7 \n",
            "\n"
          ],
          "name": "stdout"
        },
        {
          "output_type": "display_data",
          "data": {
            "text/html": [
              "<html>\n",
              "<head><meta charset=\"utf-8\" /></head>\n",
              "<body>\n",
              "    <div>            <script src=\"https://cdnjs.cloudflare.com/ajax/libs/mathjax/2.7.5/MathJax.js?config=TeX-AMS-MML_SVG\"></script><script type=\"text/javascript\">if (window.MathJax) {MathJax.Hub.Config({SVG: {font: \"STIX-Web\"}});}</script>                <script type=\"text/javascript\">window.PlotlyConfig = {MathJaxConfig: 'local'};</script>\n",
              "        <script src=\"https://cdn.plot.ly/plotly-latest.min.js\"></script>                <div id=\"1acd5085-e5bc-4633-bc40-a55e9c915f34\" class=\"plotly-graph-div\" style=\"height:720px; width:960px;\"></div>            <script type=\"text/javascript\">                                    window.PLOTLYENV=window.PLOTLYENV || {};                                    if (document.getElementById(\"1acd5085-e5bc-4633-bc40-a55e9c915f34\")) {                    Plotly.newPlot(                        \"1acd5085-e5bc-4633-bc40-a55e9c915f34\",                        [{\"customdata\": [[\"impact research intern neu\", \"Yova AG\", \"Gerade ver\\u00f6ffentlicht\", \"06.15.2021\", \"22:21:00\", \"1\"], [\"customer success intern neu\", \"Yova AG\", \"Gerade ver\\u00f6ffentlicht\", \"06.15.2021\", \"22:21:00\", \"1\"], [\"internship sales business development support zurich neu\", \"CANDRIAM\", \"Heute\", \"06.15.2021\", \"22:21:00\", \"1\"], [\"internship data scientist algorithm development core neu\", \"greenTEG AG\", \"Heute\", \"06.15.2021\", \"22:21:00\", \"1\"], [\"intern environment affairs temporary neu\", \"United Nations\", \"Heute\", \"06.15.2021\", \"22:21:00\", \"1\"], [\"practical trainee internship audiological development neu\", \"Sonova\", \"vor 1 Tag\", \"06.15.2021\", \"22:21:00\", \"1\"], [\"internship risk management neu\", \"Credit Suisse Campus\", \"vor 1 Tag\", \"06.15.2021\", \"22:21:00\", \"1\"], [\"unctad remote internship knowledge development branch neu\", \"United Nations\", \"vor 1 Tag\", \"06.15.2021\", \"22:21:00\", \"1\"], [\"postdoc bioprocess modelling new tech neu\", \"Novartis\", \"vor 1 Tag\", \"06.15.2021\", \"22:21:00\", \"1\"], [\"unctad remote internship transport section div neu\", \"United Nations\", \"vor 1 Tag\", \"06.15.2021\", \"22:21:00\", \"1\"], [\"unctad remote internship office director division neu\", \"United Nations\", \"vor 1 Tag\", \"06.15.2021\", \"22:21:00\", \"1\"], [\"junior controller - intern neu\", \"Ermenegildo Zegna\", \"vor 1 Tag\", \"06.15.2021\", \"22:21:00\", \"1\"], [\"diversity inclusion consultant intern months neu\", \"Alvicus AG\", \"vor 1 Tag\", \"06.15.2021\", \"22:21:00\", \"1\"], [\"internship data scientist algorithm development core neu\", \"greenTEG AG\", \"vor 2 Tagen\", \"06.15.2021\", \"22:21:00\", \"1\"], [\"translational data science intern neu\", \"Novartis\", \"vor 4 Tagen\", \"06.15.2021\", \"22:21:00\", \"1\"], [\"corporate social responsibility intern neu\", \"Cartier\", \"vor 4 Tagen\", \"06.15.2021\", \"22:21:00\", \"1\"], [\"environmental performance intern neu\", \"Richemont\", \"vor 4 Tagen\", \"06.15.2021\", \"22:21:00\", \"1\"], [\"intern economic affairs temporary neu\", \"United Nations\", \"vor 4 Tagen\", \"06.15.2021\", \"22:21:00\", \"1\"], [\"marketing communication intern f neu\", \"GOWAGO AG\", \"vor 4 Tagen\", \"06.15.2021\", \"22:21:00\", \"1\"], [\"data engineer intern months internship neu\", \"MET International AG\", \"vor 5 Tagen\", \"06.15.2021\", \"22:21:00\", \"1\"], [\"intern sustainability f months neu\", \"DSM\", \"vor 5 Tagen\", \"06.15.2021\", \"22:21:00\", \"1\"], [\"competitor safety engineer trainee neu\", \"FEDERATION INTERNATIONALE AUTOMOBILE\", \"vor 5 Tagen\", \"06.15.2021\", \"22:21:00\", \"1\"], [\"impact research intern neu\", \"Yova\", \"vor 5 Tagen\", \"06.15.2021\", \"22:21:00\", \"1\"], [\"internship innovation pmo f months neu\", \"Georg Fischer\", \"vor 6 Tagen\", \"06.15.2021\", \"22:21:00\", \"1\"], [\"internship innovation pmo f months neu\", \"Georg Fischer Rohrleitungssysteme AG, Schaffhausen\", \"vor 6 Tagen\", \"06.15.2021\", \"22:21:00\", \"1\"], [\"c software development internship neu\", \"Verity\", \"vor 6 Tagen\", \"06.15.2021\", \"22:21:00\", \"1\"], [\"strategic assistant group ceo neu\", \"Eternit\", \"vor 7 Tagen\", \"06.15.2021\", \"22:21:00\", \"1\"], [\"principal statistician neu\", \"Johnson & Johnson Family of Companies\", \"vor 7 Tagen\", \"06.15.2021\", \"22:21:00\", \"1\"]], \"hovertemplate\": \"kmeans=%{customdata[5]}<br>pca_x=%{x}<br>pca_y=%{y}<br>titles=%{customdata[0]}<br>companies=%{customdata[1]}<br>date_listed=%{customdata[2]}<br>date_pulled=%{customdata[3]}<br>time_pulled=%{customdata[4]}<extra></extra>\", \"legendgroup\": \"1\", \"marker\": {\"color\": \"#636efa\", \"symbol\": \"circle\"}, \"mode\": \"markers\", \"name\": \"1\", \"orientation\": \"v\", \"showlegend\": true, \"type\": \"scatter\", \"x\": [-0.21125091340031432, -0.18437493610496092, -0.05505687475411892, -0.10764224415992599, -0.21776590259596101, 0.08852106245054707, -0.018389069103635875, 0.008078867236566027, -0.4537899259380088, -0.22556061960495538, -0.051120696785436764, -0.21656539548200657, -0.20256192508395904, -0.1076422441599259, -0.1428317522961458, -0.29020244729830535, -0.3526006056564392, -0.22971472798869996, -0.17119329382493773, 0.2660596280698619, -0.1645826113665837, -0.4510049469002055, -0.21125091340031507, 0.09843048856863464, 0.09843048856863462, 0.0802057999572535, -0.6932930068881613, -0.8844770362834465], \"xaxis\": \"x\", \"y\": [0.3023235973865907, 0.2639264346407467, -0.002709713684689196, 0.06666389766292857, 0.049332630780917465, 0.15712096482521645, 0.22082336582038892, 0.0161930027081211, 0.24496422596066952, 0.08115307421161062, 0.015165483709698033, 0.31688918457789583, 0.08298199849176056, 0.06666389766292875, 0.35567008782182447, -0.017250153649810546, 0.24231850551889433, -0.025871941038587035, 0.23633644549915525, 0.23075563801743468, 0.3344940307468368, -0.14486707901467843, 0.3023235973865881, 0.45308761763463035, 0.45308761763463024, 0.371446579820598, 0.024410314950776484, 0.2110010350674872], \"yaxis\": \"y\"}, {\"customdata\": [[\"praktikantin praktikant pflege und therapien neu\", \"Zuger Kantonsspital AG\", \"vor 4 Tagen\", \"06.15.2021\", \"22:21:00\", \"3\"]], \"hovertemplate\": \"kmeans=%{customdata[5]}<br>pca_x=%{x}<br>pca_y=%{y}<br>titles=%{customdata[0]}<br>companies=%{customdata[1]}<br>date_listed=%{customdata[2]}<br>date_pulled=%{customdata[3]}<br>time_pulled=%{customdata[4]}<extra></extra>\", \"legendgroup\": \"3\", \"marker\": {\"color\": \"#EF553B\", \"symbol\": \"circle\"}, \"mode\": \"markers\", \"name\": \"3\", \"orientation\": \"v\", \"showlegend\": true, \"type\": \"scatter\", \"x\": [-1.7789177109152188], \"xaxis\": \"x\", \"y\": [1.678692131107838], \"yaxis\": \"y\"}, {\"customdata\": [[\"forensic consultant investigations compliance financ neu\", \"EY\", \"vor 5 Tagen\", \"06.15.2021\", \"22:21:00\", \"0\"], [\"manager forensic investigations financial crime complian neu\", \"EY\", \"vor 5 Tagen\", \"06.15.2021\", \"22:21:00\", \"0\"], [\"audit analytics data delivery consultant neu\", \"EY\", \"vor 6 Tagen\", \"06.15.2021\", \"22:21:00\", \"0\"], [\"senior consultant financial services risk emeia financial\", \"Ernst & Young\", \"vor 11 Tagen\", \"06.15.2021\", \"22:21:00\", \"0\"], [\"senior manager hr transactions people advisory service\", \"Ernst & Young\", \"vor 12 Tagen\", \"06.15.2021\", \"22:21:00\", \"0\"], [\"catastrophe modeling analyst - - limited internshi\", \"PartnerRe\", \"vor 15 Tagen\", \"06.15.2021\", \"22:21:00\", \"0\"]], \"hovertemplate\": \"kmeans=%{customdata[5]}<br>pca_x=%{x}<br>pca_y=%{y}<br>titles=%{customdata[0]}<br>companies=%{customdata[1]}<br>date_listed=%{customdata[2]}<br>date_pulled=%{customdata[3]}<br>time_pulled=%{customdata[4]}<extra></extra>\", \"legendgroup\": \"0\", \"marker\": {\"color\": \"#00cc96\", \"symbol\": \"circle\"}, \"mode\": \"markers\", \"name\": \"0\", \"orientation\": \"v\", \"showlegend\": true, \"type\": \"scatter\", \"x\": [-0.5174683656522481, -0.5336197298457391, -0.37401840165091776, -0.24948100139361323, -0.24976396241185178, -0.2745508503659109], \"xaxis\": \"x\", \"y\": [-0.25159301450619226, -0.46577621671727487, -0.2680151546349838, -0.9481273725191597, -0.8183989833267369, -0.7254806334519316], \"yaxis\": \"y\"}, {\"customdata\": [[\"internship operations controlling\", \"Axpo\", \"vor 11 Tagen\", \"06.15.2021\", \"22:21:00\", \"5\"], [\"internship global brand development months\", \"La Prairie Group\", \"vor 11 Tagen\", \"06.15.2021\", \"22:21:00\", \"5\"], [\"digital trade marketing intern\", \"On AG\", \"vor 13 Tagen\", \"06.15.2021\", \"22:21:00\", \"5\"], [\"internship health care systems evidence\", \"Novartis\", \"vor 11 Tagen\", \"06.15.2021\", \"22:21:00\", \"5\"], [\"intern information technology systems posts tempor\", \"United Nations\", \"vor 11 Tagen\", \"06.15.2021\", \"22:21:00\", \"5\"], [\"internship confidential computing\", \"decentriq\", \"vor 10 Tagen\", \"06.15.2021\", \"22:21:00\", \"5\"], [\"customer success intern\", \"Yova\", \"vor 11 Tagen\", \"06.15.2021\", \"22:21:00\", \"5\"], [\"internship - technology data scientist\", \"Credit Suisse Campus\", \"vor 18 Tagen\", \"06.15.2021\", \"22:21:00\", \"5\"], [\"private debt portfolio investment team intern\", \"StepStone Group LP\", \"vor 17 Tagen\", \"06.15.2021\", \"22:21:00\", \"5\"], [\"ocean transportation academy trainee\", \"Cargill\", \"vor 19 Tagen\", \"06.15.2021\", \"22:21:00\", \"5\"], [\"graduate program position organization pedestrian\", \"Assa Abloy\", \"vor 15 Tagen\", \"06.15.2021\", \"22:21:00\", \"5\"], [\"project intern business support operations\", \"Cartier\", \"vor 18 Tagen\", \"06.15.2021\", \"22:21:00\", \"5\"]], \"hovertemplate\": \"kmeans=%{customdata[5]}<br>pca_x=%{x}<br>pca_y=%{y}<br>titles=%{customdata[0]}<br>companies=%{customdata[1]}<br>date_listed=%{customdata[2]}<br>date_pulled=%{customdata[3]}<br>time_pulled=%{customdata[4]}<extra></extra>\", \"legendgroup\": \"5\", \"marker\": {\"color\": \"#ab63fa\", \"symbol\": \"circle\"}, \"mode\": \"markers\", \"name\": \"5\", \"orientation\": \"v\", \"showlegend\": true, \"type\": \"scatter\", \"x\": [0.7272655647067793, 0.2840676608528915, 0.23708081348658352, 0.20766572399682962, -0.07158448473831229, 0.8792993439177998, 0.3798753587631843, 0.4811283755626723, 0.10813185620974732, 0.0187916953923452, 0.07007436523617426, 0.15345633890040625], \"xaxis\": \"x\", \"y\": [-0.22987370312444233, -0.27523688238847144, -0.3163802642866626, -0.4729891818959688, -0.3991464668456153, -0.2522231808639961, -0.211231350487091, -0.19080001277555125, -0.6268788832561444, -0.7258905460382143, -0.5672125397261095, -0.4279339288881086], \"yaxis\": \"y\"}, {\"customdata\": [[\"internship analytics\", \"Novartis\", \"vor 11 Tagen\", \"06.15.2021\", \"22:21:00\", \"2\"]], \"hovertemplate\": \"kmeans=%{customdata[5]}<br>pca_x=%{x}<br>pca_y=%{y}<br>titles=%{customdata[0]}<br>companies=%{customdata[1]}<br>date_listed=%{customdata[2]}<br>date_pulled=%{customdata[3]}<br>time_pulled=%{customdata[4]}<extra></extra>\", \"legendgroup\": \"2\", \"marker\": {\"color\": \"#FFA15A\", \"symbol\": \"circle\"}, \"mode\": \"markers\", \"name\": \"2\", \"orientation\": \"v\", \"showlegend\": true, \"type\": \"scatter\", \"x\": [1.4452807990466203], \"xaxis\": \"x\", \"y\": [0.21824651155561686], \"yaxis\": \"y\"}, {\"customdata\": [[\"internship geodesy f\", \"Leica Geosystems AG - Part of Hexagon\", \"vor 13 Tagen\", \"06.15.2021\", \"22:21:00\", \"6\"]], \"hovertemplate\": \"kmeans=%{customdata[5]}<br>pca_x=%{x}<br>pca_y=%{y}<br>titles=%{customdata[0]}<br>companies=%{customdata[1]}<br>date_listed=%{customdata[2]}<br>date_pulled=%{customdata[3]}<br>time_pulled=%{customdata[4]}<extra></extra>\", \"legendgroup\": \"6\", \"marker\": {\"color\": \"#19d3f3\", \"symbol\": \"circle\"}, \"mode\": \"markers\", \"name\": \"6\", \"orientation\": \"v\", \"showlegend\": true, \"type\": \"scatter\", \"x\": [1.3392641272408872], \"xaxis\": \"x\", \"y\": [0.4442965545089564], \"yaxis\": \"y\"}, {\"customdata\": [[\"internship cbt nibr\", \"Novartis\", \"vor 19 Tagen\", \"06.15.2021\", \"22:21:00\", \"4\"]], \"hovertemplate\": \"kmeans=%{customdata[5]}<br>pca_x=%{x}<br>pca_y=%{y}<br>titles=%{customdata[0]}<br>companies=%{customdata[1]}<br>date_listed=%{customdata[2]}<br>date_pulled=%{customdata[3]}<br>time_pulled=%{customdata[4]}<extra></extra>\", \"legendgroup\": \"4\", \"marker\": {\"color\": \"#FF6692\", \"symbol\": \"circle\"}, \"mode\": \"markers\", \"name\": \"4\", \"orientation\": \"v\", \"showlegend\": true, \"type\": \"scatter\", \"x\": [2.721168237885845], \"xaxis\": \"x\", \"y\": [0.9235187774096818], \"yaxis\": \"y\"}],                        {\"height\": 720, \"legend\": {\"title\": {\"text\": \"kmeans\"}, \"tracegroupgap\": 0}, \"template\": {\"data\": {\"bar\": [{\"error_x\": {\"color\": \"#f2f5fa\"}, \"error_y\": {\"color\": \"#f2f5fa\"}, \"marker\": {\"line\": {\"color\": \"rgb(17,17,17)\", \"width\": 0.5}}, \"type\": \"bar\"}], \"barpolar\": [{\"marker\": {\"line\": {\"color\": \"rgb(17,17,17)\", \"width\": 0.5}}, \"type\": \"barpolar\"}], \"carpet\": [{\"aaxis\": {\"endlinecolor\": \"#A2B1C6\", \"gridcolor\": \"#506784\", \"linecolor\": \"#506784\", \"minorgridcolor\": \"#506784\", \"startlinecolor\": \"#A2B1C6\"}, \"baxis\": {\"endlinecolor\": \"#A2B1C6\", \"gridcolor\": \"#506784\", \"linecolor\": \"#506784\", \"minorgridcolor\": \"#506784\", \"startlinecolor\": \"#A2B1C6\"}, \"type\": \"carpet\"}], \"choropleth\": [{\"colorbar\": {\"outlinewidth\": 0, \"ticks\": \"\"}, \"type\": \"choropleth\"}], \"contour\": [{\"colorbar\": {\"outlinewidth\": 0, \"ticks\": \"\"}, \"colorscale\": [[0.0, \"#0d0887\"], [0.1111111111111111, \"#46039f\"], [0.2222222222222222, \"#7201a8\"], [0.3333333333333333, \"#9c179e\"], [0.4444444444444444, \"#bd3786\"], [0.5555555555555556, \"#d8576b\"], [0.6666666666666666, \"#ed7953\"], [0.7777777777777778, \"#fb9f3a\"], [0.8888888888888888, \"#fdca26\"], [1.0, \"#f0f921\"]], \"type\": \"contour\"}], \"contourcarpet\": [{\"colorbar\": {\"outlinewidth\": 0, \"ticks\": \"\"}, \"type\": \"contourcarpet\"}], \"heatmap\": [{\"colorbar\": {\"outlinewidth\": 0, \"ticks\": \"\"}, \"colorscale\": [[0.0, \"#0d0887\"], [0.1111111111111111, \"#46039f\"], [0.2222222222222222, \"#7201a8\"], [0.3333333333333333, \"#9c179e\"], [0.4444444444444444, \"#bd3786\"], [0.5555555555555556, \"#d8576b\"], [0.6666666666666666, \"#ed7953\"], [0.7777777777777778, \"#fb9f3a\"], [0.8888888888888888, \"#fdca26\"], [1.0, \"#f0f921\"]], \"type\": \"heatmap\"}], \"heatmapgl\": [{\"colorbar\": {\"outlinewidth\": 0, \"ticks\": \"\"}, \"colorscale\": [[0.0, \"#0d0887\"], [0.1111111111111111, \"#46039f\"], [0.2222222222222222, \"#7201a8\"], [0.3333333333333333, \"#9c179e\"], [0.4444444444444444, \"#bd3786\"], [0.5555555555555556, \"#d8576b\"], [0.6666666666666666, \"#ed7953\"], [0.7777777777777778, \"#fb9f3a\"], [0.8888888888888888, \"#fdca26\"], [1.0, \"#f0f921\"]], \"type\": \"heatmapgl\"}], \"histogram\": [{\"marker\": {\"colorbar\": {\"outlinewidth\": 0, \"ticks\": \"\"}}, \"type\": \"histogram\"}], \"histogram2d\": [{\"colorbar\": {\"outlinewidth\": 0, \"ticks\": \"\"}, \"colorscale\": [[0.0, \"#0d0887\"], [0.1111111111111111, \"#46039f\"], [0.2222222222222222, \"#7201a8\"], [0.3333333333333333, \"#9c179e\"], [0.4444444444444444, \"#bd3786\"], [0.5555555555555556, \"#d8576b\"], [0.6666666666666666, \"#ed7953\"], [0.7777777777777778, \"#fb9f3a\"], [0.8888888888888888, \"#fdca26\"], [1.0, \"#f0f921\"]], \"type\": \"histogram2d\"}], \"histogram2dcontour\": [{\"colorbar\": {\"outlinewidth\": 0, \"ticks\": \"\"}, \"colorscale\": [[0.0, \"#0d0887\"], [0.1111111111111111, \"#46039f\"], [0.2222222222222222, \"#7201a8\"], [0.3333333333333333, \"#9c179e\"], [0.4444444444444444, \"#bd3786\"], [0.5555555555555556, \"#d8576b\"], [0.6666666666666666, \"#ed7953\"], [0.7777777777777778, \"#fb9f3a\"], [0.8888888888888888, \"#fdca26\"], [1.0, \"#f0f921\"]], \"type\": \"histogram2dcontour\"}], \"mesh3d\": [{\"colorbar\": {\"outlinewidth\": 0, \"ticks\": \"\"}, \"type\": \"mesh3d\"}], \"parcoords\": [{\"line\": {\"colorbar\": {\"outlinewidth\": 0, \"ticks\": \"\"}}, \"type\": \"parcoords\"}], \"pie\": [{\"automargin\": true, \"type\": \"pie\"}], \"scatter\": [{\"marker\": {\"line\": {\"color\": \"#283442\"}}, \"type\": \"scatter\"}], \"scatter3d\": [{\"line\": {\"colorbar\": {\"outlinewidth\": 0, \"ticks\": \"\"}}, \"marker\": {\"colorbar\": {\"outlinewidth\": 0, \"ticks\": \"\"}}, \"type\": \"scatter3d\"}], \"scattercarpet\": [{\"marker\": {\"colorbar\": {\"outlinewidth\": 0, \"ticks\": \"\"}}, \"type\": \"scattercarpet\"}], \"scattergeo\": [{\"marker\": {\"colorbar\": {\"outlinewidth\": 0, \"ticks\": \"\"}}, \"type\": \"scattergeo\"}], \"scattergl\": [{\"marker\": {\"line\": {\"color\": \"#283442\"}}, \"type\": \"scattergl\"}], \"scattermapbox\": [{\"marker\": {\"colorbar\": {\"outlinewidth\": 0, \"ticks\": \"\"}}, \"type\": \"scattermapbox\"}], \"scatterpolar\": [{\"marker\": {\"colorbar\": {\"outlinewidth\": 0, \"ticks\": \"\"}}, \"type\": \"scatterpolar\"}], \"scatterpolargl\": [{\"marker\": {\"colorbar\": {\"outlinewidth\": 0, \"ticks\": \"\"}}, \"type\": \"scatterpolargl\"}], \"scatterternary\": [{\"marker\": {\"colorbar\": {\"outlinewidth\": 0, \"ticks\": \"\"}}, \"type\": \"scatterternary\"}], \"surface\": [{\"colorbar\": {\"outlinewidth\": 0, \"ticks\": \"\"}, \"colorscale\": [[0.0, \"#0d0887\"], [0.1111111111111111, \"#46039f\"], [0.2222222222222222, \"#7201a8\"], [0.3333333333333333, \"#9c179e\"], [0.4444444444444444, \"#bd3786\"], [0.5555555555555556, \"#d8576b\"], [0.6666666666666666, \"#ed7953\"], [0.7777777777777778, \"#fb9f3a\"], [0.8888888888888888, \"#fdca26\"], [1.0, \"#f0f921\"]], \"type\": \"surface\"}], \"table\": [{\"cells\": {\"fill\": {\"color\": \"#506784\"}, \"line\": {\"color\": \"rgb(17,17,17)\"}}, \"header\": {\"fill\": {\"color\": \"#2a3f5f\"}, \"line\": {\"color\": \"rgb(17,17,17)\"}}, \"type\": \"table\"}]}, \"layout\": {\"annotationdefaults\": {\"arrowcolor\": \"#f2f5fa\", \"arrowhead\": 0, \"arrowwidth\": 1}, \"autotypenumbers\": \"strict\", \"coloraxis\": {\"colorbar\": {\"outlinewidth\": 0, \"ticks\": \"\"}}, \"colorscale\": {\"diverging\": [[0, \"#8e0152\"], [0.1, \"#c51b7d\"], [0.2, \"#de77ae\"], [0.3, \"#f1b6da\"], [0.4, \"#fde0ef\"], [0.5, \"#f7f7f7\"], [0.6, \"#e6f5d0\"], [0.7, \"#b8e186\"], [0.8, \"#7fbc41\"], [0.9, \"#4d9221\"], [1, \"#276419\"]], \"sequential\": [[0.0, \"#0d0887\"], [0.1111111111111111, \"#46039f\"], [0.2222222222222222, \"#7201a8\"], [0.3333333333333333, \"#9c179e\"], [0.4444444444444444, \"#bd3786\"], [0.5555555555555556, \"#d8576b\"], [0.6666666666666666, \"#ed7953\"], [0.7777777777777778, \"#fb9f3a\"], [0.8888888888888888, \"#fdca26\"], [1.0, \"#f0f921\"]], \"sequentialminus\": [[0.0, \"#0d0887\"], [0.1111111111111111, \"#46039f\"], [0.2222222222222222, \"#7201a8\"], [0.3333333333333333, \"#9c179e\"], [0.4444444444444444, \"#bd3786\"], [0.5555555555555556, \"#d8576b\"], [0.6666666666666666, \"#ed7953\"], [0.7777777777777778, \"#fb9f3a\"], [0.8888888888888888, \"#fdca26\"], [1.0, \"#f0f921\"]]}, \"colorway\": [\"#636efa\", \"#EF553B\", \"#00cc96\", \"#ab63fa\", \"#FFA15A\", \"#19d3f3\", \"#FF6692\", \"#B6E880\", \"#FF97FF\", \"#FECB52\"], \"font\": {\"color\": \"#f2f5fa\"}, \"geo\": {\"bgcolor\": \"rgb(17,17,17)\", \"lakecolor\": \"rgb(17,17,17)\", \"landcolor\": \"rgb(17,17,17)\", \"showlakes\": true, \"showland\": true, \"subunitcolor\": \"#506784\"}, \"hoverlabel\": {\"align\": \"left\"}, \"hovermode\": \"closest\", \"mapbox\": {\"style\": \"dark\"}, \"paper_bgcolor\": \"rgb(17,17,17)\", \"plot_bgcolor\": \"rgb(17,17,17)\", \"polar\": {\"angularaxis\": {\"gridcolor\": \"#506784\", \"linecolor\": \"#506784\", \"ticks\": \"\"}, \"bgcolor\": \"rgb(17,17,17)\", \"radialaxis\": {\"gridcolor\": \"#506784\", \"linecolor\": \"#506784\", \"ticks\": \"\"}}, \"scene\": {\"xaxis\": {\"backgroundcolor\": \"rgb(17,17,17)\", \"gridcolor\": \"#506784\", \"gridwidth\": 2, \"linecolor\": \"#506784\", \"showbackground\": true, \"ticks\": \"\", \"zerolinecolor\": \"#C8D4E3\"}, \"yaxis\": {\"backgroundcolor\": \"rgb(17,17,17)\", \"gridcolor\": \"#506784\", \"gridwidth\": 2, \"linecolor\": \"#506784\", \"showbackground\": true, \"ticks\": \"\", \"zerolinecolor\": \"#C8D4E3\"}, \"zaxis\": {\"backgroundcolor\": \"rgb(17,17,17)\", \"gridcolor\": \"#506784\", \"gridwidth\": 2, \"linecolor\": \"#506784\", \"showbackground\": true, \"ticks\": \"\", \"zerolinecolor\": \"#C8D4E3\"}}, \"shapedefaults\": {\"line\": {\"color\": \"#f2f5fa\"}}, \"sliderdefaults\": {\"bgcolor\": \"#C8D4E3\", \"bordercolor\": \"rgb(17,17,17)\", \"borderwidth\": 1, \"tickwidth\": 0}, \"ternary\": {\"aaxis\": {\"gridcolor\": \"#506784\", \"linecolor\": \"#506784\", \"ticks\": \"\"}, \"baxis\": {\"gridcolor\": \"#506784\", \"linecolor\": \"#506784\", \"ticks\": \"\"}, \"bgcolor\": \"rgb(17,17,17)\", \"caxis\": {\"gridcolor\": \"#506784\", \"linecolor\": \"#506784\", \"ticks\": \"\"}}, \"title\": {\"x\": 0.05}, \"updatemenudefaults\": {\"bgcolor\": \"#506784\", \"borderwidth\": 0}, \"xaxis\": {\"automargin\": true, \"gridcolor\": \"#283442\", \"linecolor\": \"#506784\", \"ticks\": \"\", \"title\": {\"standoff\": 15}, \"zerolinecolor\": \"#283442\", \"zerolinewidth\": 2}, \"yaxis\": {\"automargin\": true, \"gridcolor\": \"#283442\", \"linecolor\": \"#506784\", \"ticks\": \"\", \"title\": {\"standoff\": 15}, \"zerolinecolor\": \"#283442\", \"zerolinewidth\": 2}}}, \"title\": {\"text\": \"Jun-15-2021 Vizualize Companies by titles text w word2vec | internships in -data-\"}, \"width\": 960, \"xaxis\": {\"anchor\": \"y\", \"domain\": [0.0, 1.0], \"title\": {\"text\": \"pca_x\"}}, \"yaxis\": {\"anchor\": \"x\", \"domain\": [0.0, 1.0], \"title\": {\"text\": \"pca_y\"}}},                        {\"responsive\": true}                    ).then(function(){\n",
              "                            \n",
              "var gd = document.getElementById('1acd5085-e5bc-4633-bc40-a55e9c915f34');\n",
              "var x = new MutationObserver(function (mutations, observer) {{\n",
              "        var display = window.getComputedStyle(gd).display;\n",
              "        if (!display || display === 'none') {{\n",
              "            console.log([gd, 'removed!']);\n",
              "            Plotly.purge(gd);\n",
              "            observer.disconnect();\n",
              "        }}\n",
              "}});\n",
              "\n",
              "// Listen for the removal of the full notebook cells\n",
              "var notebookContainer = gd.closest('#notebook-container');\n",
              "if (notebookContainer) {{\n",
              "    x.observe(notebookContainer, {childList: true});\n",
              "}}\n",
              "\n",
              "// Listen for the clearing of the current output cell\n",
              "var outputEl = gd.closest('.output');\n",
              "if (outputEl) {{\n",
              "    x.observe(outputEl, {childList: true});\n",
              "}}\n",
              "\n",
              "                        })                };                            </script>        </div>\n",
              "</body>\n",
              "</html>"
            ]
          },
          "metadata": {
            "tags": []
          }
        },
        {
          "output_type": "stream",
          "text": [
            "plot generated -  2021-06-15 22:21:12.970681\n"
          ],
          "name": "stdout"
        }
      ]
    },
    {
      "cell_type": "markdown",
      "metadata": {
        "id": "hl1s68pygQNa"
      },
      "source": [
        "### query 2 - all jobs in Switzerland for English Speakers\n",
        "\n",
        "*This is the special case where Indeed shows you all CH-English jobs and it doesn't follow standard search query logic / HTML (has its own page)*"
      ]
    },
    {
      "cell_type": "code",
      "metadata": {
        "id": "9abIK_KOgVqW",
        "colab": {
          "base_uri": "https://localhost:8080/",
          "height": 1107
        },
        "outputId": "56b1efcc-143d-4607-9bff-a188ca445cea"
      },
      "source": [
        "jq2 = \"indeed_default\"\n",
        "jt2 = \"all\"\n",
        "# in the case of \"run the special case on Indeed\" query terms don't matter\n",
        "chdf2 = find_CHjobs_from(website=\"indeed_default\", job_query=\"gimme\", \n",
        "                         desired_characs=desired_characs)\n",
        "    \n",
        "jq2 = \"indeed_default\"\n",
        "jt2 = \"all\"\n",
        "\n",
        "q2_processed = indeed_postprocess(chdf2, query_term=jq2, query_jobtype=jt2,\n",
        "                       shorten_links=False, download_excel=False)\n",
        "\n",
        "data_table.DataTable(indeed_datatable(q2_processed), \n",
        "                     include_index=False, num_rows_per_page=20)"
      ],
      "execution_count": 22,
      "outputs": [
        {
          "output_type": "display_data",
          "data": {
            "text/html": [
              "\n",
              "  <style>\n",
              "    pre {\n",
              "        white-space: pre-wrap;\n",
              "    }\n",
              "  </style>\n",
              "  "
            ],
            "text/plain": [
              "<IPython.core.display.HTML object>"
            ]
          },
          "metadata": {
            "tags": []
          }
        },
        {
          "output_type": "stream",
          "text": [
            "50 new job postings retrieved from indeed_default. Stored in Jun-15-2021_[raw]_scraped_jobs_CH.xls.\n",
            "Starting postprocess -  2021-06-15 22:21:13.700112\n",
            "Count of column 'companies' appearances in search:\n",
            "\n",
            "VF Corporation               15\n",
            "Medtronic                     3\n",
            "World Health Organization     3\n",
            "Swisslinx                     2\n",
            "Bitcoin Suisse AG             2\n",
            "AFRY                          2\n",
            "ICHNOS SCIENCES INC.          2\n",
            "Roger Dubuis                  1\n",
            "Swiss TPH                     1\n",
            "Medair                        1\n",
            "Name: companies, dtype: int64\n"
          ],
          "name": "stdout"
        },
        {
          "output_type": "execute_result",
          "data": {
            "application/vnd.google.colaboratory.module+javascript": "\n      import \"https://ssl.gstatic.com/colaboratory/data_table/a6224c040fa35dcf/data_table.js\";\n\n      window.createDataTable({\n        data: [[\"junior service designer genders - fjord switzerland neu\",\n\"Accenture\",\n\"Gerade ver\\u00f6ffentlicht\",\n\"not_created\",\n\"06.15.2021\",\n\"22:21:13\",\n\"passion service design design generally ..\"],\n [\"client service representative neu\",\n\"Christie's\",\n\"Gerade ver\\u00f6ffentlicht\",\n\"not_created\",\n\"06.15.2021\",\n\"22:21:13\",\n\"client service representative represents..\"],\n [\"global copywriter neu\",\n\"VF Corporation\",\n\"Gerade ver\\u00f6ffentlicht\",\n\"not_created\",\n\"06.15.2021\",\n\"22:21:13\",\n\"part global brand marketing department r..\"],\n [\"coordinator global social media neu\",\n\"VF Corporation\",\n\"Gerade ver\\u00f6ffentlicht\",\n\"not_created\",\n\"06.15.2021\",\n\"22:21:13\",\n\"social media coordinator help support gr..\"],\n [\"grant officer neu\",\n\"Swiss TPH\",\n\"Gerade ver\\u00f6ffentlicht\",\n\"not_created\",\n\"06.15.2021\",\n\"22:21:13\",\n\"within swiss tph directorate project gra..\"],\n [\"global planner neu\",\n\"VF Corporation\",\n\"Gerade ver\\u00f6ffentlicht\",\n\"not_created\",\n\"06.15.2021\",\n\"22:21:13\",\n\"coordinate prepare track global icebreak..\"],\n [\"junior merchandiser dickies neu\",\n\"VF Corporation\",\n\"Gerade ver\\u00f6ffentlicht\",\n\"not_created\",\n\"06.15.2021\",\n\"22:21:13\",\n\"\\\"colonel\\\" dickie began vehicle harness b..\"],\n [\"project officer neu\",\n\"World Health Organization\",\n\"Gerade ver\\u00f6ffentlicht\",\n\"not_created\",\n\"06.15.2021\",\n\"22:21:13\",\n\"contractual arrangement temporary appoin..\"],\n [\"analyst global ecom web neu\",\n\"VF Corporation\",\n\"Gerade ver\\u00f6ffentlicht\",\n\"not_created\",\n\"06.15.2021\",\n\"22:21:13\",\n\"ecom web analyst' responsibilities inclu..\"],\n [\"brand communication manager roger dubuis neu\",\n\"Roger Dubuis\",\n\"Gerade ver\\u00f6ffentlicht\",\n\"not_created\",\n\"06.15.2021\",\n\"22:21:13\",\n\"reporting head branding communication re..\"],\n [\"finance director neu\",\n\"Medair\",\n\"Gerade ver\\u00f6ffentlicht\",\n\"not_created\",\n\"06.15.2021\",\n\"22:21:13\",\n\"close cooperation elt finance director l..\"],\n [\"equity analyst thematic investing neu\",\n\"Robeco\",\n\"Gerade ver\\u00f6ffentlicht\",\n\"not_created\",\n\"06.15.2021\",\n\"22:21:13\",\n\"analyse financial statements research re..\"],\n [\"project manager integration specialist w neu\",\n\"AFRY\",\n\"Gerade ver\\u00f6ffentlicht\",\n\"not_created\",\n\"06.15.2021\",\n\"22:21:13\",\n\"looking support drive continued developm..\"],\n [\"data management officer neu\",\n\"World Health Organization\",\n\"Gerade ver\\u00f6ffentlicht\",\n\"not_created\",\n\"06.15.2021\",\n\"22:21:13\",\n\"contractual arrangement temporary appoin..\"],\n [\"coordinator global brand marketing neu\",\n\"VF Corporation\",\n\"Gerade ver\\u00f6ffentlicht\",\n\"not_created\",\n\"06.15.2021\",\n\"22:21:13\",\n\"global brand communication coordinator r..\"],\n [\"ship operating cost controller neu\",\n\"MSC Cruises\",\n\"Gerade ver\\u00f6ffentlicht\",\n\"not_created\",\n\"06.15.2021\",\n\"22:21:13\",\n\"position ship operating cost controller ..\"],\n [\"project manager comparator neu\",\n\"Thermo Fisher Scientific\",\n\"Gerade ver\\u00f6ffentlicht\",\n\"not_created\",\n\"06.15.2021\",\n\"22:21:13\",\n\"act voice customer ensuring needs client..\"],\n [\"key account manager neu\",\n\"Genedata\",\n\"Gerade ver\\u00f6ffentlicht\",\n\"not_created\",\n\"06.15.2021\",\n\"22:21:13\",\n\"account manager genedata expressionist m..\"],\n [\"lead buyer hlks neu\",\n\"Implenia\",\n\"Gerade ver\\u00f6ffentlicht\",\n\"not_created\",\n\"06.15.2021\",\n\"22:21:13\",\n\"implenia also plans builds complex infra..\"],\n [\"field service representative cardiac rhythm management crm neu\",\n\"Medtronic\",\n\"Gerade ver\\u00f6ffentlicht\",\n\"not_created\",\n\"06.15.2021\",\n\"22:21:13\",\n\"field service representative w support c..\"],\n [\"engineer neu\",\n\"S\\u00e9cheron\",\n\"Gerade ver\\u00f6ffentlicht\",\n\"not_created\",\n\"06.15.2021\",\n\"22:21:13\",\n\"become plm web apps expert developing we..\"],\n [\"rf engineer physicist timing synchronization neu\",\n\"Paul Scherrer Institut\",\n\"Gerade ver\\u00f6ffentlicht\",\n\"not_created\",\n\"06.15.2021\",\n\"22:21:13\",\n\"rf engineer physicist timing synchroniza..\"],\n [\"swiss litigation investigations attorney neu\",\n\"Credit Suisse\",\n\"Gerade ver\\u00f6ffentlicht\",\n\"not_created\",\n\"06.15.2021\",\n\"22:21:13\",\n\"member team manage broad spectrum litiga..\"],\n [\"therapy specialist french speaking part switzerland neu\",\n\"Medtronic\",\n\"Gerade ver\\u00f6ffentlicht\",\n\"not_created\",\n\"06.15.2021\",\n\"22:21:13\",\n\"part cardiovascular cv therapy group med..\"],\n [\"project coordinator neu\",\n\"Crypto Finance AG\",\n\"Gerade ver\\u00f6ffentlicht\",\n\"not_created\",\n\"06.15.2021\",\n\"22:21:13\",\n\"project work focus core processes framew..\"],\n [\"manager merchandising emea neu\",\n\"VF Corporation\",\n\"Gerade ver\\u00f6ffentlicht\",\n\"not_created\",\n\"06.15.2021\",\n\"22:21:13\",\n\"merchandising manager role dynamic posit..\"],\n [\"product merchandiser global performance neu\",\n\"VF Corporation\",\n\"Gerade ver\\u00f6ffentlicht\",\n\"not_created\",\n\"06.15.2021\",\n\"22:21:13\",\n\"primary responsibility merchandiser supp..\"],\n [\"p associate programme officer non tariff measures dmd neu\",\n\"International Trade Center Intracen\",\n\"Gerade ver\\u00f6ffentlicht\",\n\"not_created\",\n\"06.15.2021\",\n\"22:21:13\",\n\"kind itc also offers attractive flexible..\"],\n [\"junior project manager compliance neu\",\n\"Bitcoin Suisse AG\",\n\"Gerade ver\\u00f6ffentlicht\",\n\"not_created\",\n\"06.15.2021\",\n\"22:21:13\",\n\"help create project handbooks roadmaps a..\"],\n [\"health economist data management analysis neu\",\n\"World Health Organization\",\n\"Gerade ver\\u00f6ffentlicht\",\n\"not_created\",\n\"06.15.2021\",\n\"22:21:13\",\n\"contractual arrangement temporary appoin..\"],\n [\"senior investigator immuno oncology solid tumors neu\",\n\"ICHNOS SCIENCES INC.\",\n\"Gerade ver\\u00f6ffentlicht\",\n\"not_created\",\n\"06.15.2021\",\n\"22:21:13\",\n\"successful candidate integrate dynamic t..\"],\n [\"structured products specialist neu\",\n\"EFG International\",\n\"Gerade ver\\u00f6ffentlicht\",\n\"not_created\",\n\"06.15.2021\",\n\"22:21:13\",\n\"design advise promote structured product..\"],\n [\"manager global brand marketing neu\",\n\"VF Corporation\",\n\"Gerade ver\\u00f6ffentlicht\",\n\"not_created\",\n\"06.15.2021\",\n\"22:21:13\",\n\"global brand marketing manager responsib..\"],\n [\"manager global visual merchandising neu\",\n\"VF Corporation\",\n\"Gerade ver\\u00f6ffentlicht\",\n\"not_created\",\n\"06.15.2021\",\n\"22:21:13\",\n\"global visual merchandiser manager respo..\"],\n [\"senior project manager renewable energy thermal power neu\",\n\"AFRY\",\n\"Gerade ver\\u00f6ffentlicht\",\n\"not_created\",\n\"06.15.2021\",\n\"22:21:13\",\n\"develop commercially lead project execut..\"],\n [\"director global product design neu\",\n\"VF Corporation\",\n\"Gerade ver\\u00f6ffentlicht\",\n\"not_created\",\n\"06.15.2021\",\n\"22:21:13\",\n\"leader product design team icebreaker dr..\"],\n [\"emea sales marketing campaign manager neu\",\n\"Proceq\",\n\"Gerade ver\\u00f6ffentlicht\",\n\"not_created\",\n\"06.15.2021\",\n\"22:21:13\",\n\"formulate implement run marketing integr..\"],\n [\"workday hcm consultant contractor neu\",\n\"Oliver James Associates\",\n\"Gerade ver\\u00f6ffentlicht\",\n\"not_created\",\n\"06.15.2021\",\n\"22:21:13\",\n\"workday hcm consultant contractor integr..\"],\n [\"manager global wholesale retail marketing neu\",\n\"VF Corporation\",\n\"Gerade ver\\u00f6ffentlicht\",\n\"not_created\",\n\"06.15.2021\",\n\"22:21:13\",\n\"global retail wholesale marketing manage..\"],\n [\"business project manager client services neu\",\n\"Bitcoin Suisse AG\",\n\"Gerade ver\\u00f6ffentlicht\",\n\"not_created\",\n\"06.15.2021\",\n\"22:21:13\",\n\"part project management team within clie..\"],\n [\"solutions architect global financial services neu\",\n\"AWS EMEA SARL (Switzerland)\",\n\"Gerade ver\\u00f6ffentlicht\",\n\"not_created\",\n\"06.15.2021\",\n\"22:21:13\",\n\"experience working financial services or..\"],\n [\"therapy service specialist german speaking part switzer neu\",\n\"Medtronic\",\n\"Gerade ver\\u00f6ffentlicht\",\n\"not_created\",\n\"06.15.2021\",\n\"22:21:13\",\n\"part cardiovascular cv therapy group med..\"],\n [\"operations analyst contract - neu\",\n\"IT Di-Visions\",\n\"Gerade ver\\u00f6ffentlicht\",\n\"not_created\",\n\"06.15.2021\",\n\"22:21:13\",\n\"operations analyst contract - data model..\"],\n [\"senior manager global gtm brand marketing neu\",\n\"VF Corporation\",\n\"Gerade ver\\u00f6ffentlicht\",\n\"not_created\",\n\"06.15.2021\",\n\"22:21:13\",\n\"global senior gtm brand marketing manage..\"],\n [\"senior manager global retail wholesale marketing neu\",\n\"VF Corporation\",\n\"Gerade ver\\u00f6ffentlicht\",\n\"not_created\",\n\"06.15.2021\",\n\"22:21:13\",\n\"global senior retail wholesale marketing..\"],\n [\"senior manager global digital marketing neu\",\n\"VF Corporation\",\n\"Gerade ver\\u00f6ffentlicht\",\n\"not_created\",\n\"06.15.2021\",\n\"22:21:13\",\n\"senior digital marketing manager respons..\"],\n [\"devops engineer neu\",\n\"Swisslinx\",\n\"Gerade ver\\u00f6ffentlicht\",\n\"not_created\",\n\"06.15.2021\",\n\"22:21:13\",\n\"premier supplier client one established ..\"],\n [\"z os websphere engineer f neu\",\n\"BdU Consulting AG\",\n\"Gerade ver\\u00f6ffentlicht\",\n\"not_created\",\n\"06.15.2021\",\n\"22:21:13\",\n\"periodically join location situated zuri..\"],\n [\"director senior director head program management str neu\",\n\"ICHNOS SCIENCES INC.\",\n\"Gerade ver\\u00f6ffentlicht\",\n\"not_created\",\n\"06.15.2021\",\n\"22:21:13\",\n\"director senior director head program ma..\"],\n [\"pm scrum master pharma experience neu\",\n\"Swisslinx\",\n\"Gerade ver\\u00f6ffentlicht\",\n\"not_created\",\n\"06.15.2021\",\n\"22:21:13\",\n\"responsible managing day day operational..\"]],\n        columns: [[\"string\", \"titles\"], [\"string\", \"companies\"], [\"string\", \"date_listed\"], [\"string\", \"short_link\"], [\"string\", \"date_pulled\"], [\"string\", \"time_pulled\"], [\"string\", \"summary_short\"]],\n        columnOptions: [],\n        rowsPerPage: 20,\n        helpUrl: \"https://colab.research.google.com/notebooks/data_table.ipynb\",\n        suppressOutputScrolling: true,\n        minimumWidth: undefined,\n      });\n    ",
            "text/plain": [
              "<google.colab.data_table.DataTable object>"
            ],
            "text/html": [
              "<div>\n",
              "<style scoped>\n",
              "    .dataframe tbody tr th:only-of-type {\n",
              "        vertical-align: middle;\n",
              "    }\n",
              "\n",
              "    .dataframe tbody tr th {\n",
              "        vertical-align: top;\n",
              "    }\n",
              "\n",
              "    .dataframe thead th {\n",
              "        text-align: right;\n",
              "    }\n",
              "</style>\n",
              "<table border=\"1\" class=\"dataframe\">\n",
              "  <thead>\n",
              "    <tr style=\"text-align: right;\">\n",
              "      <th></th>\n",
              "      <th>titles</th>\n",
              "      <th>companies</th>\n",
              "      <th>date_listed</th>\n",
              "      <th>short_link</th>\n",
              "      <th>date_pulled</th>\n",
              "      <th>time_pulled</th>\n",
              "      <th>summary_short</th>\n",
              "    </tr>\n",
              "  </thead>\n",
              "  <tbody>\n",
              "    <tr>\n",
              "      <th>0</th>\n",
              "      <td>junior service designer genders - fjord switze...</td>\n",
              "      <td>Accenture</td>\n",
              "      <td>Gerade veröffentlicht</td>\n",
              "      <td>not_created</td>\n",
              "      <td>06.15.2021</td>\n",
              "      <td>22:21:13</td>\n",
              "      <td>passion service design design generally ..</td>\n",
              "    </tr>\n",
              "    <tr>\n",
              "      <th>1</th>\n",
              "      <td>client service representative neu</td>\n",
              "      <td>Christie's</td>\n",
              "      <td>Gerade veröffentlicht</td>\n",
              "      <td>not_created</td>\n",
              "      <td>06.15.2021</td>\n",
              "      <td>22:21:13</td>\n",
              "      <td>client service representative represents..</td>\n",
              "    </tr>\n",
              "    <tr>\n",
              "      <th>2</th>\n",
              "      <td>global copywriter neu</td>\n",
              "      <td>VF Corporation</td>\n",
              "      <td>Gerade veröffentlicht</td>\n",
              "      <td>not_created</td>\n",
              "      <td>06.15.2021</td>\n",
              "      <td>22:21:13</td>\n",
              "      <td>part global brand marketing department r..</td>\n",
              "    </tr>\n",
              "    <tr>\n",
              "      <th>3</th>\n",
              "      <td>coordinator global social media neu</td>\n",
              "      <td>VF Corporation</td>\n",
              "      <td>Gerade veröffentlicht</td>\n",
              "      <td>not_created</td>\n",
              "      <td>06.15.2021</td>\n",
              "      <td>22:21:13</td>\n",
              "      <td>social media coordinator help support gr..</td>\n",
              "    </tr>\n",
              "    <tr>\n",
              "      <th>4</th>\n",
              "      <td>grant officer neu</td>\n",
              "      <td>Swiss TPH</td>\n",
              "      <td>Gerade veröffentlicht</td>\n",
              "      <td>not_created</td>\n",
              "      <td>06.15.2021</td>\n",
              "      <td>22:21:13</td>\n",
              "      <td>within swiss tph directorate project gra..</td>\n",
              "    </tr>\n",
              "    <tr>\n",
              "      <th>5</th>\n",
              "      <td>global planner neu</td>\n",
              "      <td>VF Corporation</td>\n",
              "      <td>Gerade veröffentlicht</td>\n",
              "      <td>not_created</td>\n",
              "      <td>06.15.2021</td>\n",
              "      <td>22:21:13</td>\n",
              "      <td>coordinate prepare track global icebreak..</td>\n",
              "    </tr>\n",
              "    <tr>\n",
              "      <th>6</th>\n",
              "      <td>junior merchandiser dickies neu</td>\n",
              "      <td>VF Corporation</td>\n",
              "      <td>Gerade veröffentlicht</td>\n",
              "      <td>not_created</td>\n",
              "      <td>06.15.2021</td>\n",
              "      <td>22:21:13</td>\n",
              "      <td>\"colonel\" dickie began vehicle harness b..</td>\n",
              "    </tr>\n",
              "    <tr>\n",
              "      <th>7</th>\n",
              "      <td>project officer neu</td>\n",
              "      <td>World Health Organization</td>\n",
              "      <td>Gerade veröffentlicht</td>\n",
              "      <td>not_created</td>\n",
              "      <td>06.15.2021</td>\n",
              "      <td>22:21:13</td>\n",
              "      <td>contractual arrangement temporary appoin..</td>\n",
              "    </tr>\n",
              "    <tr>\n",
              "      <th>8</th>\n",
              "      <td>analyst global ecom web neu</td>\n",
              "      <td>VF Corporation</td>\n",
              "      <td>Gerade veröffentlicht</td>\n",
              "      <td>not_created</td>\n",
              "      <td>06.15.2021</td>\n",
              "      <td>22:21:13</td>\n",
              "      <td>ecom web analyst' responsibilities inclu..</td>\n",
              "    </tr>\n",
              "    <tr>\n",
              "      <th>9</th>\n",
              "      <td>brand communication manager roger dubuis neu</td>\n",
              "      <td>Roger Dubuis</td>\n",
              "      <td>Gerade veröffentlicht</td>\n",
              "      <td>not_created</td>\n",
              "      <td>06.15.2021</td>\n",
              "      <td>22:21:13</td>\n",
              "      <td>reporting head branding communication re..</td>\n",
              "    </tr>\n",
              "    <tr>\n",
              "      <th>10</th>\n",
              "      <td>finance director neu</td>\n",
              "      <td>Medair</td>\n",
              "      <td>Gerade veröffentlicht</td>\n",
              "      <td>not_created</td>\n",
              "      <td>06.15.2021</td>\n",
              "      <td>22:21:13</td>\n",
              "      <td>close cooperation elt finance director l..</td>\n",
              "    </tr>\n",
              "    <tr>\n",
              "      <th>11</th>\n",
              "      <td>equity analyst thematic investing neu</td>\n",
              "      <td>Robeco</td>\n",
              "      <td>Gerade veröffentlicht</td>\n",
              "      <td>not_created</td>\n",
              "      <td>06.15.2021</td>\n",
              "      <td>22:21:13</td>\n",
              "      <td>analyse financial statements research re..</td>\n",
              "    </tr>\n",
              "    <tr>\n",
              "      <th>12</th>\n",
              "      <td>project manager integration specialist w neu</td>\n",
              "      <td>AFRY</td>\n",
              "      <td>Gerade veröffentlicht</td>\n",
              "      <td>not_created</td>\n",
              "      <td>06.15.2021</td>\n",
              "      <td>22:21:13</td>\n",
              "      <td>looking support drive continued developm..</td>\n",
              "    </tr>\n",
              "    <tr>\n",
              "      <th>13</th>\n",
              "      <td>data management officer neu</td>\n",
              "      <td>World Health Organization</td>\n",
              "      <td>Gerade veröffentlicht</td>\n",
              "      <td>not_created</td>\n",
              "      <td>06.15.2021</td>\n",
              "      <td>22:21:13</td>\n",
              "      <td>contractual arrangement temporary appoin..</td>\n",
              "    </tr>\n",
              "    <tr>\n",
              "      <th>14</th>\n",
              "      <td>coordinator global brand marketing neu</td>\n",
              "      <td>VF Corporation</td>\n",
              "      <td>Gerade veröffentlicht</td>\n",
              "      <td>not_created</td>\n",
              "      <td>06.15.2021</td>\n",
              "      <td>22:21:13</td>\n",
              "      <td>global brand communication coordinator r..</td>\n",
              "    </tr>\n",
              "    <tr>\n",
              "      <th>15</th>\n",
              "      <td>ship operating cost controller neu</td>\n",
              "      <td>MSC Cruises</td>\n",
              "      <td>Gerade veröffentlicht</td>\n",
              "      <td>not_created</td>\n",
              "      <td>06.15.2021</td>\n",
              "      <td>22:21:13</td>\n",
              "      <td>position ship operating cost controller ..</td>\n",
              "    </tr>\n",
              "    <tr>\n",
              "      <th>16</th>\n",
              "      <td>project manager comparator neu</td>\n",
              "      <td>Thermo Fisher Scientific</td>\n",
              "      <td>Gerade veröffentlicht</td>\n",
              "      <td>not_created</td>\n",
              "      <td>06.15.2021</td>\n",
              "      <td>22:21:13</td>\n",
              "      <td>act voice customer ensuring needs client..</td>\n",
              "    </tr>\n",
              "    <tr>\n",
              "      <th>17</th>\n",
              "      <td>key account manager neu</td>\n",
              "      <td>Genedata</td>\n",
              "      <td>Gerade veröffentlicht</td>\n",
              "      <td>not_created</td>\n",
              "      <td>06.15.2021</td>\n",
              "      <td>22:21:13</td>\n",
              "      <td>account manager genedata expressionist m..</td>\n",
              "    </tr>\n",
              "    <tr>\n",
              "      <th>18</th>\n",
              "      <td>lead buyer hlks neu</td>\n",
              "      <td>Implenia</td>\n",
              "      <td>Gerade veröffentlicht</td>\n",
              "      <td>not_created</td>\n",
              "      <td>06.15.2021</td>\n",
              "      <td>22:21:13</td>\n",
              "      <td>implenia also plans builds complex infra..</td>\n",
              "    </tr>\n",
              "    <tr>\n",
              "      <th>19</th>\n",
              "      <td>field service representative cardiac rhythm ma...</td>\n",
              "      <td>Medtronic</td>\n",
              "      <td>Gerade veröffentlicht</td>\n",
              "      <td>not_created</td>\n",
              "      <td>06.15.2021</td>\n",
              "      <td>22:21:13</td>\n",
              "      <td>field service representative w support c..</td>\n",
              "    </tr>\n",
              "    <tr>\n",
              "      <th>20</th>\n",
              "      <td>engineer neu</td>\n",
              "      <td>Sécheron</td>\n",
              "      <td>Gerade veröffentlicht</td>\n",
              "      <td>not_created</td>\n",
              "      <td>06.15.2021</td>\n",
              "      <td>22:21:13</td>\n",
              "      <td>become plm web apps expert developing we..</td>\n",
              "    </tr>\n",
              "    <tr>\n",
              "      <th>21</th>\n",
              "      <td>rf engineer physicist timing synchronization neu</td>\n",
              "      <td>Paul Scherrer Institut</td>\n",
              "      <td>Gerade veröffentlicht</td>\n",
              "      <td>not_created</td>\n",
              "      <td>06.15.2021</td>\n",
              "      <td>22:21:13</td>\n",
              "      <td>rf engineer physicist timing synchroniza..</td>\n",
              "    </tr>\n",
              "    <tr>\n",
              "      <th>22</th>\n",
              "      <td>swiss litigation investigations attorney neu</td>\n",
              "      <td>Credit Suisse</td>\n",
              "      <td>Gerade veröffentlicht</td>\n",
              "      <td>not_created</td>\n",
              "      <td>06.15.2021</td>\n",
              "      <td>22:21:13</td>\n",
              "      <td>member team manage broad spectrum litiga..</td>\n",
              "    </tr>\n",
              "    <tr>\n",
              "      <th>23</th>\n",
              "      <td>therapy specialist french speaking part switze...</td>\n",
              "      <td>Medtronic</td>\n",
              "      <td>Gerade veröffentlicht</td>\n",
              "      <td>not_created</td>\n",
              "      <td>06.15.2021</td>\n",
              "      <td>22:21:13</td>\n",
              "      <td>part cardiovascular cv therapy group med..</td>\n",
              "    </tr>\n",
              "    <tr>\n",
              "      <th>24</th>\n",
              "      <td>project coordinator neu</td>\n",
              "      <td>Crypto Finance AG</td>\n",
              "      <td>Gerade veröffentlicht</td>\n",
              "      <td>not_created</td>\n",
              "      <td>06.15.2021</td>\n",
              "      <td>22:21:13</td>\n",
              "      <td>project work focus core processes framew..</td>\n",
              "    </tr>\n",
              "    <tr>\n",
              "      <th>25</th>\n",
              "      <td>manager merchandising emea neu</td>\n",
              "      <td>VF Corporation</td>\n",
              "      <td>Gerade veröffentlicht</td>\n",
              "      <td>not_created</td>\n",
              "      <td>06.15.2021</td>\n",
              "      <td>22:21:13</td>\n",
              "      <td>merchandising manager role dynamic posit..</td>\n",
              "    </tr>\n",
              "    <tr>\n",
              "      <th>26</th>\n",
              "      <td>product merchandiser global performance neu</td>\n",
              "      <td>VF Corporation</td>\n",
              "      <td>Gerade veröffentlicht</td>\n",
              "      <td>not_created</td>\n",
              "      <td>06.15.2021</td>\n",
              "      <td>22:21:13</td>\n",
              "      <td>primary responsibility merchandiser supp..</td>\n",
              "    </tr>\n",
              "    <tr>\n",
              "      <th>27</th>\n",
              "      <td>p associate programme officer non tariff measu...</td>\n",
              "      <td>International Trade Center Intracen</td>\n",
              "      <td>Gerade veröffentlicht</td>\n",
              "      <td>not_created</td>\n",
              "      <td>06.15.2021</td>\n",
              "      <td>22:21:13</td>\n",
              "      <td>kind itc also offers attractive flexible..</td>\n",
              "    </tr>\n",
              "    <tr>\n",
              "      <th>28</th>\n",
              "      <td>junior project manager compliance neu</td>\n",
              "      <td>Bitcoin Suisse AG</td>\n",
              "      <td>Gerade veröffentlicht</td>\n",
              "      <td>not_created</td>\n",
              "      <td>06.15.2021</td>\n",
              "      <td>22:21:13</td>\n",
              "      <td>help create project handbooks roadmaps a..</td>\n",
              "    </tr>\n",
              "    <tr>\n",
              "      <th>29</th>\n",
              "      <td>health economist data management analysis neu</td>\n",
              "      <td>World Health Organization</td>\n",
              "      <td>Gerade veröffentlicht</td>\n",
              "      <td>not_created</td>\n",
              "      <td>06.15.2021</td>\n",
              "      <td>22:21:13</td>\n",
              "      <td>contractual arrangement temporary appoin..</td>\n",
              "    </tr>\n",
              "    <tr>\n",
              "      <th>30</th>\n",
              "      <td>senior investigator immuno oncology solid tumo...</td>\n",
              "      <td>ICHNOS SCIENCES INC.</td>\n",
              "      <td>Gerade veröffentlicht</td>\n",
              "      <td>not_created</td>\n",
              "      <td>06.15.2021</td>\n",
              "      <td>22:21:13</td>\n",
              "      <td>successful candidate integrate dynamic t..</td>\n",
              "    </tr>\n",
              "    <tr>\n",
              "      <th>31</th>\n",
              "      <td>structured products specialist neu</td>\n",
              "      <td>EFG International</td>\n",
              "      <td>Gerade veröffentlicht</td>\n",
              "      <td>not_created</td>\n",
              "      <td>06.15.2021</td>\n",
              "      <td>22:21:13</td>\n",
              "      <td>design advise promote structured product..</td>\n",
              "    </tr>\n",
              "    <tr>\n",
              "      <th>32</th>\n",
              "      <td>manager global brand marketing neu</td>\n",
              "      <td>VF Corporation</td>\n",
              "      <td>Gerade veröffentlicht</td>\n",
              "      <td>not_created</td>\n",
              "      <td>06.15.2021</td>\n",
              "      <td>22:21:13</td>\n",
              "      <td>global brand marketing manager responsib..</td>\n",
              "    </tr>\n",
              "    <tr>\n",
              "      <th>33</th>\n",
              "      <td>manager global visual merchandising neu</td>\n",
              "      <td>VF Corporation</td>\n",
              "      <td>Gerade veröffentlicht</td>\n",
              "      <td>not_created</td>\n",
              "      <td>06.15.2021</td>\n",
              "      <td>22:21:13</td>\n",
              "      <td>global visual merchandiser manager respo..</td>\n",
              "    </tr>\n",
              "    <tr>\n",
              "      <th>34</th>\n",
              "      <td>senior project manager renewable energy therma...</td>\n",
              "      <td>AFRY</td>\n",
              "      <td>Gerade veröffentlicht</td>\n",
              "      <td>not_created</td>\n",
              "      <td>06.15.2021</td>\n",
              "      <td>22:21:13</td>\n",
              "      <td>develop commercially lead project execut..</td>\n",
              "    </tr>\n",
              "    <tr>\n",
              "      <th>35</th>\n",
              "      <td>director global product design neu</td>\n",
              "      <td>VF Corporation</td>\n",
              "      <td>Gerade veröffentlicht</td>\n",
              "      <td>not_created</td>\n",
              "      <td>06.15.2021</td>\n",
              "      <td>22:21:13</td>\n",
              "      <td>leader product design team icebreaker dr..</td>\n",
              "    </tr>\n",
              "    <tr>\n",
              "      <th>36</th>\n",
              "      <td>emea sales marketing campaign manager neu</td>\n",
              "      <td>Proceq</td>\n",
              "      <td>Gerade veröffentlicht</td>\n",
              "      <td>not_created</td>\n",
              "      <td>06.15.2021</td>\n",
              "      <td>22:21:13</td>\n",
              "      <td>formulate implement run marketing integr..</td>\n",
              "    </tr>\n",
              "    <tr>\n",
              "      <th>37</th>\n",
              "      <td>workday hcm consultant contractor neu</td>\n",
              "      <td>Oliver James Associates</td>\n",
              "      <td>Gerade veröffentlicht</td>\n",
              "      <td>not_created</td>\n",
              "      <td>06.15.2021</td>\n",
              "      <td>22:21:13</td>\n",
              "      <td>workday hcm consultant contractor integr..</td>\n",
              "    </tr>\n",
              "    <tr>\n",
              "      <th>38</th>\n",
              "      <td>manager global wholesale retail marketing neu</td>\n",
              "      <td>VF Corporation</td>\n",
              "      <td>Gerade veröffentlicht</td>\n",
              "      <td>not_created</td>\n",
              "      <td>06.15.2021</td>\n",
              "      <td>22:21:13</td>\n",
              "      <td>global retail wholesale marketing manage..</td>\n",
              "    </tr>\n",
              "    <tr>\n",
              "      <th>39</th>\n",
              "      <td>business project manager client services neu</td>\n",
              "      <td>Bitcoin Suisse AG</td>\n",
              "      <td>Gerade veröffentlicht</td>\n",
              "      <td>not_created</td>\n",
              "      <td>06.15.2021</td>\n",
              "      <td>22:21:13</td>\n",
              "      <td>part project management team within clie..</td>\n",
              "    </tr>\n",
              "    <tr>\n",
              "      <th>40</th>\n",
              "      <td>solutions architect global financial services neu</td>\n",
              "      <td>AWS EMEA SARL (Switzerland)</td>\n",
              "      <td>Gerade veröffentlicht</td>\n",
              "      <td>not_created</td>\n",
              "      <td>06.15.2021</td>\n",
              "      <td>22:21:13</td>\n",
              "      <td>experience working financial services or..</td>\n",
              "    </tr>\n",
              "    <tr>\n",
              "      <th>41</th>\n",
              "      <td>therapy service specialist german speaking par...</td>\n",
              "      <td>Medtronic</td>\n",
              "      <td>Gerade veröffentlicht</td>\n",
              "      <td>not_created</td>\n",
              "      <td>06.15.2021</td>\n",
              "      <td>22:21:13</td>\n",
              "      <td>part cardiovascular cv therapy group med..</td>\n",
              "    </tr>\n",
              "    <tr>\n",
              "      <th>42</th>\n",
              "      <td>operations analyst contract - neu</td>\n",
              "      <td>IT Di-Visions</td>\n",
              "      <td>Gerade veröffentlicht</td>\n",
              "      <td>not_created</td>\n",
              "      <td>06.15.2021</td>\n",
              "      <td>22:21:13</td>\n",
              "      <td>operations analyst contract - data model..</td>\n",
              "    </tr>\n",
              "    <tr>\n",
              "      <th>43</th>\n",
              "      <td>senior manager global gtm brand marketing neu</td>\n",
              "      <td>VF Corporation</td>\n",
              "      <td>Gerade veröffentlicht</td>\n",
              "      <td>not_created</td>\n",
              "      <td>06.15.2021</td>\n",
              "      <td>22:21:13</td>\n",
              "      <td>global senior gtm brand marketing manage..</td>\n",
              "    </tr>\n",
              "    <tr>\n",
              "      <th>44</th>\n",
              "      <td>senior manager global retail wholesale marketi...</td>\n",
              "      <td>VF Corporation</td>\n",
              "      <td>Gerade veröffentlicht</td>\n",
              "      <td>not_created</td>\n",
              "      <td>06.15.2021</td>\n",
              "      <td>22:21:13</td>\n",
              "      <td>global senior retail wholesale marketing..</td>\n",
              "    </tr>\n",
              "    <tr>\n",
              "      <th>45</th>\n",
              "      <td>senior manager global digital marketing neu</td>\n",
              "      <td>VF Corporation</td>\n",
              "      <td>Gerade veröffentlicht</td>\n",
              "      <td>not_created</td>\n",
              "      <td>06.15.2021</td>\n",
              "      <td>22:21:13</td>\n",
              "      <td>senior digital marketing manager respons..</td>\n",
              "    </tr>\n",
              "    <tr>\n",
              "      <th>46</th>\n",
              "      <td>devops engineer neu</td>\n",
              "      <td>Swisslinx</td>\n",
              "      <td>Gerade veröffentlicht</td>\n",
              "      <td>not_created</td>\n",
              "      <td>06.15.2021</td>\n",
              "      <td>22:21:13</td>\n",
              "      <td>premier supplier client one established ..</td>\n",
              "    </tr>\n",
              "    <tr>\n",
              "      <th>47</th>\n",
              "      <td>z os websphere engineer f neu</td>\n",
              "      <td>BdU Consulting AG</td>\n",
              "      <td>Gerade veröffentlicht</td>\n",
              "      <td>not_created</td>\n",
              "      <td>06.15.2021</td>\n",
              "      <td>22:21:13</td>\n",
              "      <td>periodically join location situated zuri..</td>\n",
              "    </tr>\n",
              "    <tr>\n",
              "      <th>48</th>\n",
              "      <td>director senior director head program manageme...</td>\n",
              "      <td>ICHNOS SCIENCES INC.</td>\n",
              "      <td>Gerade veröffentlicht</td>\n",
              "      <td>not_created</td>\n",
              "      <td>06.15.2021</td>\n",
              "      <td>22:21:13</td>\n",
              "      <td>director senior director head program ma..</td>\n",
              "    </tr>\n",
              "    <tr>\n",
              "      <th>49</th>\n",
              "      <td>pm scrum master pharma experience neu</td>\n",
              "      <td>Swisslinx</td>\n",
              "      <td>Gerade veröffentlicht</td>\n",
              "      <td>not_created</td>\n",
              "      <td>06.15.2021</td>\n",
              "      <td>22:21:13</td>\n",
              "      <td>responsible managing day day operational..</td>\n",
              "    </tr>\n",
              "  </tbody>\n",
              "</table>\n",
              "</div>"
            ]
          },
          "metadata": {
            "tags": []
          },
          "execution_count": 22
        }
      ]
    },
    {
      "cell_type": "markdown",
      "metadata": {
        "id": "8SOoPK-9uTcY"
      },
      "source": [
        "**Viz Query 2**"
      ]
    },
    {
      "cell_type": "code",
      "metadata": {
        "id": "3SB27BEB0yux",
        "colab": {
          "base_uri": "https://localhost:8080/",
          "height": 1000
        },
        "outputId": "94f06e8d-ef42-4e13-ee20-2221a07fd7e9"
      },
      "source": [
        "viz_q2 = q2_processed.copy()\n",
        "viz_q2.drop(columns=\"links\", inplace=True)\n",
        "viz_job_data_word2vec(viz_q2, \"summary\", save_plot=False, show_text=True,\n",
        "                      query_name=\"all lan='en' jobs in CH\")\n",
        "viz_job_data_word2vec(viz_q2, \"titles\", save_plot=False, show_text=False,\n",
        "                      query_name=\"all lan='en' jobs in CH\")"
      ],
      "execution_count": 23,
      "outputs": [
        {
          "output_type": "display_data",
          "data": {
            "text/html": [
              "\n",
              "  <style>\n",
              "    pre {\n",
              "        white-space: pre-wrap;\n",
              "    }\n",
              "  </style>\n",
              "  "
            ],
            "text/plain": [
              "<IPython.core.display.HTML object>"
            ]
          },
          "metadata": {
            "tags": []
          }
        },
        {
          "output_type": "stream",
          "text": [
            "/usr/local/lib/python3.7/dist-packages/ipykernel_launcher.py:20: DeprecationWarning:\n",
            "\n",
            "Call to deprecated `wv` (Attribute will be removed in 4.0.0, use self instead).\n",
            "\n"
          ],
          "name": "stderr"
        },
        {
          "output_type": "stream",
          "text": [
            "\n",
            "For word2vec-all lan='en' jobs in CH: opt. # of k-means clusters is 6 \n",
            "\n"
          ],
          "name": "stdout"
        },
        {
          "output_type": "display_data",
          "data": {
            "text/html": [
              "<html>\n",
              "<head><meta charset=\"utf-8\" /></head>\n",
              "<body>\n",
              "    <div>            <script src=\"https://cdnjs.cloudflare.com/ajax/libs/mathjax/2.7.5/MathJax.js?config=TeX-AMS-MML_SVG\"></script><script type=\"text/javascript\">if (window.MathJax) {MathJax.Hub.Config({SVG: {font: \"STIX-Web\"}});}</script>                <script type=\"text/javascript\">window.PlotlyConfig = {MathJaxConfig: 'local'};</script>\n",
              "        <script src=\"https://cdn.plot.ly/plotly-latest.min.js\"></script>                <div id=\"74990620-a4ab-4cef-91c0-fd75ed1ac980\" class=\"plotly-graph-div\" style=\"height:720px; width:960px;\"></div>            <script type=\"text/javascript\">                                    window.PLOTLYENV=window.PLOTLYENV || {};                                    if (document.getElementById(\"74990620-a4ab-4cef-91c0-fd75ed1ac980\")) {                    Plotly.newPlot(                        \"74990620-a4ab-4cef-91c0-fd75ed1ac980\",                        [{\"customdata\": [[\"junior service designer genders - fjord switzerland neu\", \"Accenture\", \"Gerade ver\\u00f6ffentlicht\", \"not_created\", \"06.15.2021\", \"22:21:13\", \"1\"], [\"global planner neu\", \"VF Corporation\", \"Gerade ver\\u00f6ffentlicht\", \"not_created\", \"06.15.2021\", \"22:21:13\", \"1\"], [\"junior merchandiser dickies neu\", \"VF Corporation\", \"Gerade ver\\u00f6ffentlicht\", \"not_created\", \"06.15.2021\", \"22:21:13\", \"1\"], [\"analyst global ecom web neu\", \"VF Corporation\", \"Gerade ver\\u00f6ffentlicht\", \"not_created\", \"06.15.2021\", \"22:21:13\", \"1\"], [\"project manager integration specialist w neu\", \"AFRY\", \"Gerade ver\\u00f6ffentlicht\", \"not_created\", \"06.15.2021\", \"22:21:13\", \"1\"], [\"lead buyer hlks neu\", \"Implenia\", \"Gerade ver\\u00f6ffentlicht\", \"not_created\", \"06.15.2021\", \"22:21:13\", \"1\"], [\"engineer neu\", \"S\\u00e9cheron\", \"Gerade ver\\u00f6ffentlicht\", \"not_created\", \"06.15.2021\", \"22:21:13\", \"1\"], [\"rf engineer physicist timing synchronization neu\", \"Paul Scherrer Institut\", \"Gerade ver\\u00f6ffentlicht\", \"not_created\", \"06.15.2021\", \"22:21:13\", \"1\"], [\"swiss litigation investigations attorney neu\", \"Credit Suisse\", \"Gerade ver\\u00f6ffentlicht\", \"not_created\", \"06.15.2021\", \"22:21:13\", \"1\"], [\"project coordinator neu\", \"Crypto Finance AG\", \"Gerade ver\\u00f6ffentlicht\", \"not_created\", \"06.15.2021\", \"22:21:13\", \"1\"], [\"p associate programme officer non tariff measures dmd neu\", \"International Trade Center Intracen\", \"Gerade ver\\u00f6ffentlicht\", \"not_created\", \"06.15.2021\", \"22:21:13\", \"1\"], [\"junior project manager compliance neu\", \"Bitcoin Suisse AG\", \"Gerade ver\\u00f6ffentlicht\", \"not_created\", \"06.15.2021\", \"22:21:13\", \"1\"], [\"senior investigator immuno oncology solid tumors neu\", \"ICHNOS SCIENCES INC.\", \"Gerade ver\\u00f6ffentlicht\", \"not_created\", \"06.15.2021\", \"22:21:13\", \"1\"], [\"structured products specialist neu\", \"EFG International\", \"Gerade ver\\u00f6ffentlicht\", \"not_created\", \"06.15.2021\", \"22:21:13\", \"1\"], [\"solutions architect global financial services neu\", \"AWS EMEA SARL (Switzerland)\", \"Gerade ver\\u00f6ffentlicht\", \"not_created\", \"06.15.2021\", \"22:21:13\", \"1\"]], \"hovertemplate\": \"kmeans=%{customdata[6]}<br>pca_x=%{x}<br>pca_y=%{y}<br>companies_abbrev=%{text}<br>titles=%{customdata[0]}<br>companies=%{customdata[1]}<br>date_listed=%{customdata[2]}<br>short_link=%{customdata[3]}<br>date_pulled=%{customdata[4]}<br>time_pulled=%{customdata[5]}<extra></extra>\", \"legendgroup\": \"1\", \"marker\": {\"color\": \"#636efa\", \"symbol\": \"circle\"}, \"mode\": \"markers+text\", \"name\": \"1\", \"orientation\": \"v\", \"showlegend\": true, \"text\": [\"Accenture\", \"VF Corporation\", \"VF Corporation\", \"VF Corporation\", \"AFRY\", \"Implenia\", \"S\\u00e9cheron\", \"Paul Scherrer I..\", \"Credit Suisse\", \"Crypto Finance ..\", \"International T..\", \"Bitcoin Suisse ..\", \"ICHNOS SCIENCES..\", \"EFG Internation..\", \"AWS EMEA SARL (..\"], \"type\": \"scatter\", \"x\": [-0.03062976111868016, -0.03131334500904743, 0.035638688818644175, -0.06690527621974447, -0.13956492754989464, 0.018560329942144498, -0.028457507305032777, 0.247550542253429, 0.017356719778891673, 0.048123858678890366, 0.0505838579672152, 0.02853369052876517, 0.19574176533895654, -0.06262792016938633, -0.030774412155935193], \"xaxis\": \"x\", \"y\": [0.011300330174263051, 0.10572007902704757, 0.08589617028400265, -0.15158479101827374, -0.11274691544097941, 0.15138898737925022, -0.0958030983742034, 0.08594881844221412, 0.11890546945308432, 0.09427244666589325, 0.11327441988658431, 0.0703435519459036, -0.34563505100634445, -0.20648915923111744, -0.03453715942708215], \"yaxis\": \"y\"}, {\"customdata\": [[\"client service representative neu\", \"Christie's\", \"Gerade ver\\u00f6ffentlicht\", \"not_created\", \"06.15.2021\", \"22:21:13\", \"4\"], [\"grant officer neu\", \"Swiss TPH\", \"Gerade ver\\u00f6ffentlicht\", \"not_created\", \"06.15.2021\", \"22:21:13\", \"4\"], [\"finance director neu\", \"Medair\", \"Gerade ver\\u00f6ffentlicht\", \"not_created\", \"06.15.2021\", \"22:21:13\", \"4\"], [\"equity analyst thematic investing neu\", \"Robeco\", \"Gerade ver\\u00f6ffentlicht\", \"not_created\", \"06.15.2021\", \"22:21:13\", \"4\"], [\"ship operating cost controller neu\", \"MSC Cruises\", \"Gerade ver\\u00f6ffentlicht\", \"not_created\", \"06.15.2021\", \"22:21:13\", \"4\"], [\"project manager comparator neu\", \"Thermo Fisher Scientific\", \"Gerade ver\\u00f6ffentlicht\", \"not_created\", \"06.15.2021\", \"22:21:13\", \"4\"], [\"key account manager neu\", \"Genedata\", \"Gerade ver\\u00f6ffentlicht\", \"not_created\", \"06.15.2021\", \"22:21:13\", \"4\"], [\"field service representative cardiac rhythm management crm neu\", \"Medtronic\", \"Gerade ver\\u00f6ffentlicht\", \"not_created\", \"06.15.2021\", \"22:21:13\", \"4\"], [\"workday hcm consultant contractor neu\", \"Oliver James Associates\", \"Gerade ver\\u00f6ffentlicht\", \"not_created\", \"06.15.2021\", \"22:21:13\", \"4\"], [\"business project manager client services neu\", \"Bitcoin Suisse AG\", \"Gerade ver\\u00f6ffentlicht\", \"not_created\", \"06.15.2021\", \"22:21:13\", \"4\"], [\"operations analyst contract - neu\", \"IT Di-Visions\", \"Gerade ver\\u00f6ffentlicht\", \"not_created\", \"06.15.2021\", \"22:21:13\", \"4\"], [\"devops engineer neu\", \"Swisslinx\", \"Gerade ver\\u00f6ffentlicht\", \"not_created\", \"06.15.2021\", \"22:21:13\", \"4\"], [\"z os websphere engineer f neu\", \"BdU Consulting AG\", \"Gerade ver\\u00f6ffentlicht\", \"not_created\", \"06.15.2021\", \"22:21:13\", \"4\"], [\"director senior director head program management str neu\", \"ICHNOS SCIENCES INC.\", \"Gerade ver\\u00f6ffentlicht\", \"not_created\", \"06.15.2021\", \"22:21:13\", \"4\"], [\"pm scrum master pharma experience neu\", \"Swisslinx\", \"Gerade ver\\u00f6ffentlicht\", \"not_created\", \"06.15.2021\", \"22:21:13\", \"4\"]], \"hovertemplate\": \"kmeans=%{customdata[6]}<br>pca_x=%{x}<br>pca_y=%{y}<br>companies_abbrev=%{text}<br>titles=%{customdata[0]}<br>companies=%{customdata[1]}<br>date_listed=%{customdata[2]}<br>short_link=%{customdata[3]}<br>date_pulled=%{customdata[4]}<br>time_pulled=%{customdata[5]}<extra></extra>\", \"legendgroup\": \"4\", \"marker\": {\"color\": \"#EF553B\", \"symbol\": \"circle\"}, \"mode\": \"markers+text\", \"name\": \"4\", \"orientation\": \"v\", \"showlegend\": true, \"text\": [\"Christie's\", \"Swiss TPH\", \"Medair\", \"Robeco\", \"MSC Cruises\", \"Thermo Fisher S..\", \"Genedata\", \"Medtronic\", \"Oliver James As..\", \"Bitcoin Suisse ..\", \"IT Di-Visions\", \"Swisslinx\", \"BdU Consulting ..\", \"ICHNOS SCIENCES..\", \"Swisslinx\"], \"type\": \"scatter\", \"x\": [-0.07281117484913263, 0.061483770105252904, -0.0564492360041549, 0.010872476463436682, -0.03813160943504112, -0.06264344103553379, -0.022681140461099463, 0.081240734000713, -0.04099718022504688, -0.022284331909694536, -0.020310686616032813, -0.0032059656439303876, -0.02258042282958817, -0.18977466618030048, 0.020314281700287918], \"xaxis\": \"x\", \"y\": [0.036194235393109675, 0.20328265974461238, 0.11970438530166484, 0.12135042393448284, 0.10903338024660174, 0.031747138543380266, 0.05061545704704824, 0.05093928329875222, 0.28142319726762516, 0.22576931037167666, 0.0942339104899966, 0.028057423175137312, 0.15632475632309686, -0.033029299117248195, 0.2652645346685514], \"yaxis\": \"y\"}, {\"customdata\": [[\"global copywriter neu\", \"VF Corporation\", \"Gerade ver\\u00f6ffentlicht\", \"not_created\", \"06.15.2021\", \"22:21:13\", \"0\"], [\"coordinator global social media neu\", \"VF Corporation\", \"Gerade ver\\u00f6ffentlicht\", \"not_created\", \"06.15.2021\", \"22:21:13\", \"0\"], [\"brand communication manager roger dubuis neu\", \"Roger Dubuis\", \"Gerade ver\\u00f6ffentlicht\", \"not_created\", \"06.15.2021\", \"22:21:13\", \"0\"], [\"coordinator global brand marketing neu\", \"VF Corporation\", \"Gerade ver\\u00f6ffentlicht\", \"not_created\", \"06.15.2021\", \"22:21:13\", \"0\"], [\"manager merchandising emea neu\", \"VF Corporation\", \"Gerade ver\\u00f6ffentlicht\", \"not_created\", \"06.15.2021\", \"22:21:13\", \"0\"], [\"product merchandiser global performance neu\", \"VF Corporation\", \"Gerade ver\\u00f6ffentlicht\", \"not_created\", \"06.15.2021\", \"22:21:13\", \"0\"], [\"manager global brand marketing neu\", \"VF Corporation\", \"Gerade ver\\u00f6ffentlicht\", \"not_created\", \"06.15.2021\", \"22:21:13\", \"0\"], [\"manager global visual merchandising neu\", \"VF Corporation\", \"Gerade ver\\u00f6ffentlicht\", \"not_created\", \"06.15.2021\", \"22:21:13\", \"0\"], [\"director global product design neu\", \"VF Corporation\", \"Gerade ver\\u00f6ffentlicht\", \"not_created\", \"06.15.2021\", \"22:21:13\", \"0\"], [\"emea sales marketing campaign manager neu\", \"Proceq\", \"Gerade ver\\u00f6ffentlicht\", \"not_created\", \"06.15.2021\", \"22:21:13\", \"0\"], [\"manager global wholesale retail marketing neu\", \"VF Corporation\", \"Gerade ver\\u00f6ffentlicht\", \"not_created\", \"06.15.2021\", \"22:21:13\", \"0\"], [\"senior manager global gtm brand marketing neu\", \"VF Corporation\", \"Gerade ver\\u00f6ffentlicht\", \"not_created\", \"06.15.2021\", \"22:21:13\", \"0\"], [\"senior manager global retail wholesale marketing neu\", \"VF Corporation\", \"Gerade ver\\u00f6ffentlicht\", \"not_created\", \"06.15.2021\", \"22:21:13\", \"0\"], [\"senior manager global digital marketing neu\", \"VF Corporation\", \"Gerade ver\\u00f6ffentlicht\", \"not_created\", \"06.15.2021\", \"22:21:13\", \"0\"]], \"hovertemplate\": \"kmeans=%{customdata[6]}<br>pca_x=%{x}<br>pca_y=%{y}<br>companies_abbrev=%{text}<br>titles=%{customdata[0]}<br>companies=%{customdata[1]}<br>date_listed=%{customdata[2]}<br>short_link=%{customdata[3]}<br>date_pulled=%{customdata[4]}<br>time_pulled=%{customdata[5]}<extra></extra>\", \"legendgroup\": \"0\", \"marker\": {\"color\": \"#00cc96\", \"symbol\": \"circle\"}, \"mode\": \"markers+text\", \"name\": \"0\", \"orientation\": \"v\", \"showlegend\": true, \"text\": [\"VF Corporation\", \"VF Corporation\", \"Roger Dubuis\", \"VF Corporation\", \"VF Corporation\", \"VF Corporation\", \"VF Corporation\", \"VF Corporation\", \"VF Corporation\", \"Proceq\", \"VF Corporation\", \"VF Corporation\", \"VF Corporation\", \"VF Corporation\"], \"type\": \"scatter\", \"x\": [-0.23544272616851117, -0.19144719435423818, -0.2589977579121863, -0.338525369877217, -0.22811288409347533, -0.19348876692599698, -0.3356902279454845, -0.2890374238800562, -0.03260487293619848, -0.24776017312100015, -0.40754331349095174, -0.2563350088074245, -0.3553163301860592, -0.3171113505032034], \"xaxis\": \"x\", \"y\": [-0.2623925651547547, -0.2853505905536934, -0.3388365401491847, -0.4286146823627642, -0.2096502392067827, -0.06783925578865242, -0.2274260342719963, -0.319655441518144, -0.21728142381731652, -0.2711790366516228, -0.3946725854367222, -0.2658228263100389, -0.2841131829779854, -0.3722879188141157], \"yaxis\": \"y\"}, {\"customdata\": [[\"project officer neu\", \"World Health Organization\", \"Gerade ver\\u00f6ffentlicht\", \"not_created\", \"06.15.2021\", \"22:21:13\", \"2\"], [\"data management officer neu\", \"World Health Organization\", \"Gerade ver\\u00f6ffentlicht\", \"not_created\", \"06.15.2021\", \"22:21:13\", \"2\"], [\"health economist data management analysis neu\", \"World Health Organization\", \"Gerade ver\\u00f6ffentlicht\", \"not_created\", \"06.15.2021\", \"22:21:13\", \"2\"]], \"hovertemplate\": \"kmeans=%{customdata[6]}<br>pca_x=%{x}<br>pca_y=%{y}<br>companies_abbrev=%{text}<br>titles=%{customdata[0]}<br>companies=%{customdata[1]}<br>date_listed=%{customdata[2]}<br>short_link=%{customdata[3]}<br>date_pulled=%{customdata[4]}<br>time_pulled=%{customdata[5]}<extra></extra>\", \"legendgroup\": \"2\", \"marker\": {\"color\": \"#ab63fa\", \"symbol\": \"circle\"}, \"mode\": \"markers+text\", \"name\": \"2\", \"orientation\": \"v\", \"showlegend\": true, \"text\": [\"World Health Or..\", \"World Health Or..\", \"World Health Or..\"], \"type\": \"scatter\", \"x\": [0.14847163266296917, 0.14847163266296912, 0.14847163266296917], \"xaxis\": \"x\", \"y\": [1.0726837912770677, 1.0726837912770673, 1.0726837912770675], \"yaxis\": \"y\"}, {\"customdata\": [[\"therapy specialist french speaking part switzerland neu\", \"Medtronic\", \"Gerade ver\\u00f6ffentlicht\", \"not_created\", \"06.15.2021\", \"22:21:13\", \"5\"], [\"therapy service specialist german speaking part switzer neu\", \"Medtronic\", \"Gerade ver\\u00f6ffentlicht\", \"not_created\", \"06.15.2021\", \"22:21:13\", \"5\"]], \"hovertemplate\": \"kmeans=%{customdata[6]}<br>pca_x=%{x}<br>pca_y=%{y}<br>companies_abbrev=%{text}<br>titles=%{customdata[0]}<br>companies=%{customdata[1]}<br>date_listed=%{customdata[2]}<br>short_link=%{customdata[3]}<br>date_pulled=%{customdata[4]}<br>time_pulled=%{customdata[5]}<extra></extra>\", \"legendgroup\": \"5\", \"marker\": {\"color\": \"#FFA15A\", \"symbol\": \"circle\"}, \"mode\": \"markers+text\", \"name\": \"5\", \"orientation\": \"v\", \"showlegend\": true, \"text\": [\"Medtronic\", \"Medtronic\"], \"type\": \"scatter\", \"x\": [1.6090026700649602, 1.6090026700649596], \"xaxis\": \"x\", \"y\": [-0.49588574536569346, -0.4958857453656933], \"yaxis\": \"y\"}, {\"customdata\": [[\"senior project manager renewable energy thermal power neu\", \"AFRY\", \"Gerade ver\\u00f6ffentlicht\", \"not_created\", \"06.15.2021\", \"22:21:13\", \"3\"]], \"hovertemplate\": \"kmeans=%{customdata[6]}<br>pca_x=%{x}<br>pca_y=%{y}<br>companies_abbrev=%{text}<br>titles=%{customdata[0]}<br>companies=%{customdata[1]}<br>date_listed=%{customdata[2]}<br>short_link=%{customdata[3]}<br>date_pulled=%{customdata[4]}<br>time_pulled=%{customdata[5]}<extra></extra>\", \"legendgroup\": \"3\", \"marker\": {\"color\": \"#19d3f3\", \"symbol\": \"circle\"}, \"mode\": \"markers+text\", \"name\": \"3\", \"orientation\": \"v\", \"showlegend\": true, \"text\": [\"AFRY\"], \"type\": \"scatter\", \"x\": [0.1501354512238243], \"xaxis\": \"x\", \"y\": [0.08767754446522867], \"yaxis\": \"y\"}],                        {\"height\": 720, \"legend\": {\"title\": {\"text\": \"kmeans\"}, \"tracegroupgap\": 0}, \"template\": {\"data\": {\"bar\": [{\"error_x\": {\"color\": \"#f2f5fa\"}, \"error_y\": {\"color\": \"#f2f5fa\"}, \"marker\": {\"line\": {\"color\": \"rgb(17,17,17)\", \"width\": 0.5}}, \"type\": \"bar\"}], \"barpolar\": [{\"marker\": {\"line\": {\"color\": \"rgb(17,17,17)\", \"width\": 0.5}}, \"type\": \"barpolar\"}], \"carpet\": [{\"aaxis\": {\"endlinecolor\": \"#A2B1C6\", \"gridcolor\": \"#506784\", \"linecolor\": \"#506784\", \"minorgridcolor\": \"#506784\", \"startlinecolor\": \"#A2B1C6\"}, \"baxis\": {\"endlinecolor\": \"#A2B1C6\", \"gridcolor\": \"#506784\", \"linecolor\": \"#506784\", \"minorgridcolor\": \"#506784\", \"startlinecolor\": \"#A2B1C6\"}, \"type\": \"carpet\"}], \"choropleth\": [{\"colorbar\": {\"outlinewidth\": 0, \"ticks\": \"\"}, \"type\": \"choropleth\"}], \"contour\": [{\"colorbar\": {\"outlinewidth\": 0, \"ticks\": \"\"}, \"colorscale\": [[0.0, \"#0d0887\"], [0.1111111111111111, \"#46039f\"], [0.2222222222222222, \"#7201a8\"], [0.3333333333333333, \"#9c179e\"], [0.4444444444444444, \"#bd3786\"], [0.5555555555555556, \"#d8576b\"], [0.6666666666666666, \"#ed7953\"], [0.7777777777777778, \"#fb9f3a\"], [0.8888888888888888, \"#fdca26\"], [1.0, \"#f0f921\"]], \"type\": \"contour\"}], \"contourcarpet\": [{\"colorbar\": {\"outlinewidth\": 0, \"ticks\": \"\"}, \"type\": \"contourcarpet\"}], \"heatmap\": [{\"colorbar\": {\"outlinewidth\": 0, \"ticks\": \"\"}, \"colorscale\": [[0.0, \"#0d0887\"], [0.1111111111111111, \"#46039f\"], [0.2222222222222222, \"#7201a8\"], [0.3333333333333333, \"#9c179e\"], [0.4444444444444444, \"#bd3786\"], [0.5555555555555556, \"#d8576b\"], [0.6666666666666666, \"#ed7953\"], [0.7777777777777778, \"#fb9f3a\"], [0.8888888888888888, \"#fdca26\"], [1.0, \"#f0f921\"]], \"type\": \"heatmap\"}], \"heatmapgl\": [{\"colorbar\": {\"outlinewidth\": 0, \"ticks\": \"\"}, \"colorscale\": [[0.0, \"#0d0887\"], [0.1111111111111111, \"#46039f\"], [0.2222222222222222, \"#7201a8\"], [0.3333333333333333, \"#9c179e\"], [0.4444444444444444, \"#bd3786\"], [0.5555555555555556, \"#d8576b\"], [0.6666666666666666, \"#ed7953\"], [0.7777777777777778, \"#fb9f3a\"], [0.8888888888888888, \"#fdca26\"], [1.0, \"#f0f921\"]], \"type\": \"heatmapgl\"}], \"histogram\": [{\"marker\": {\"colorbar\": {\"outlinewidth\": 0, \"ticks\": \"\"}}, \"type\": \"histogram\"}], \"histogram2d\": [{\"colorbar\": {\"outlinewidth\": 0, \"ticks\": \"\"}, \"colorscale\": [[0.0, \"#0d0887\"], [0.1111111111111111, \"#46039f\"], [0.2222222222222222, \"#7201a8\"], [0.3333333333333333, \"#9c179e\"], [0.4444444444444444, \"#bd3786\"], [0.5555555555555556, \"#d8576b\"], [0.6666666666666666, \"#ed7953\"], [0.7777777777777778, \"#fb9f3a\"], [0.8888888888888888, \"#fdca26\"], [1.0, \"#f0f921\"]], \"type\": \"histogram2d\"}], \"histogram2dcontour\": [{\"colorbar\": {\"outlinewidth\": 0, \"ticks\": \"\"}, \"colorscale\": [[0.0, \"#0d0887\"], [0.1111111111111111, \"#46039f\"], [0.2222222222222222, \"#7201a8\"], [0.3333333333333333, \"#9c179e\"], [0.4444444444444444, \"#bd3786\"], [0.5555555555555556, \"#d8576b\"], [0.6666666666666666, \"#ed7953\"], [0.7777777777777778, \"#fb9f3a\"], [0.8888888888888888, \"#fdca26\"], [1.0, \"#f0f921\"]], \"type\": \"histogram2dcontour\"}], \"mesh3d\": [{\"colorbar\": {\"outlinewidth\": 0, \"ticks\": \"\"}, \"type\": \"mesh3d\"}], \"parcoords\": [{\"line\": {\"colorbar\": {\"outlinewidth\": 0, \"ticks\": \"\"}}, \"type\": \"parcoords\"}], \"pie\": [{\"automargin\": true, \"type\": \"pie\"}], \"scatter\": [{\"marker\": {\"line\": {\"color\": \"#283442\"}}, \"type\": \"scatter\"}], \"scatter3d\": [{\"line\": {\"colorbar\": {\"outlinewidth\": 0, \"ticks\": \"\"}}, \"marker\": {\"colorbar\": {\"outlinewidth\": 0, \"ticks\": \"\"}}, \"type\": \"scatter3d\"}], \"scattercarpet\": [{\"marker\": {\"colorbar\": {\"outlinewidth\": 0, \"ticks\": \"\"}}, \"type\": \"scattercarpet\"}], \"scattergeo\": [{\"marker\": {\"colorbar\": {\"outlinewidth\": 0, \"ticks\": \"\"}}, \"type\": \"scattergeo\"}], \"scattergl\": [{\"marker\": {\"line\": {\"color\": \"#283442\"}}, \"type\": \"scattergl\"}], \"scattermapbox\": [{\"marker\": {\"colorbar\": {\"outlinewidth\": 0, \"ticks\": \"\"}}, \"type\": \"scattermapbox\"}], \"scatterpolar\": [{\"marker\": {\"colorbar\": {\"outlinewidth\": 0, \"ticks\": \"\"}}, \"type\": \"scatterpolar\"}], \"scatterpolargl\": [{\"marker\": {\"colorbar\": {\"outlinewidth\": 0, \"ticks\": \"\"}}, \"type\": \"scatterpolargl\"}], \"scatterternary\": [{\"marker\": {\"colorbar\": {\"outlinewidth\": 0, \"ticks\": \"\"}}, \"type\": \"scatterternary\"}], \"surface\": [{\"colorbar\": {\"outlinewidth\": 0, \"ticks\": \"\"}, \"colorscale\": [[0.0, \"#0d0887\"], [0.1111111111111111, \"#46039f\"], [0.2222222222222222, \"#7201a8\"], [0.3333333333333333, \"#9c179e\"], [0.4444444444444444, \"#bd3786\"], [0.5555555555555556, \"#d8576b\"], [0.6666666666666666, \"#ed7953\"], [0.7777777777777778, \"#fb9f3a\"], [0.8888888888888888, \"#fdca26\"], [1.0, \"#f0f921\"]], \"type\": \"surface\"}], \"table\": [{\"cells\": {\"fill\": {\"color\": \"#506784\"}, \"line\": {\"color\": \"rgb(17,17,17)\"}}, \"header\": {\"fill\": {\"color\": \"#2a3f5f\"}, \"line\": {\"color\": \"rgb(17,17,17)\"}}, \"type\": \"table\"}]}, \"layout\": {\"annotationdefaults\": {\"arrowcolor\": \"#f2f5fa\", \"arrowhead\": 0, \"arrowwidth\": 1}, \"autotypenumbers\": \"strict\", \"coloraxis\": {\"colorbar\": {\"outlinewidth\": 0, \"ticks\": \"\"}}, \"colorscale\": {\"diverging\": [[0, \"#8e0152\"], [0.1, \"#c51b7d\"], [0.2, \"#de77ae\"], [0.3, \"#f1b6da\"], [0.4, \"#fde0ef\"], [0.5, \"#f7f7f7\"], [0.6, \"#e6f5d0\"], [0.7, \"#b8e186\"], [0.8, \"#7fbc41\"], [0.9, \"#4d9221\"], [1, \"#276419\"]], \"sequential\": [[0.0, \"#0d0887\"], [0.1111111111111111, \"#46039f\"], [0.2222222222222222, \"#7201a8\"], [0.3333333333333333, \"#9c179e\"], [0.4444444444444444, \"#bd3786\"], [0.5555555555555556, \"#d8576b\"], [0.6666666666666666, \"#ed7953\"], [0.7777777777777778, \"#fb9f3a\"], [0.8888888888888888, \"#fdca26\"], [1.0, \"#f0f921\"]], \"sequentialminus\": [[0.0, \"#0d0887\"], [0.1111111111111111, \"#46039f\"], [0.2222222222222222, \"#7201a8\"], [0.3333333333333333, \"#9c179e\"], [0.4444444444444444, \"#bd3786\"], [0.5555555555555556, \"#d8576b\"], [0.6666666666666666, \"#ed7953\"], [0.7777777777777778, \"#fb9f3a\"], [0.8888888888888888, \"#fdca26\"], [1.0, \"#f0f921\"]]}, \"colorway\": [\"#636efa\", \"#EF553B\", \"#00cc96\", \"#ab63fa\", \"#FFA15A\", \"#19d3f3\", \"#FF6692\", \"#B6E880\", \"#FF97FF\", \"#FECB52\"], \"font\": {\"color\": \"#f2f5fa\"}, \"geo\": {\"bgcolor\": \"rgb(17,17,17)\", \"lakecolor\": \"rgb(17,17,17)\", \"landcolor\": \"rgb(17,17,17)\", \"showlakes\": true, \"showland\": true, \"subunitcolor\": \"#506784\"}, \"hoverlabel\": {\"align\": \"left\"}, \"hovermode\": \"closest\", \"mapbox\": {\"style\": \"dark\"}, \"paper_bgcolor\": \"rgb(17,17,17)\", \"plot_bgcolor\": \"rgb(17,17,17)\", \"polar\": {\"angularaxis\": {\"gridcolor\": \"#506784\", \"linecolor\": \"#506784\", \"ticks\": \"\"}, \"bgcolor\": \"rgb(17,17,17)\", \"radialaxis\": {\"gridcolor\": \"#506784\", \"linecolor\": \"#506784\", \"ticks\": \"\"}}, \"scene\": {\"xaxis\": {\"backgroundcolor\": \"rgb(17,17,17)\", \"gridcolor\": \"#506784\", \"gridwidth\": 2, \"linecolor\": \"#506784\", \"showbackground\": true, \"ticks\": \"\", \"zerolinecolor\": \"#C8D4E3\"}, \"yaxis\": {\"backgroundcolor\": \"rgb(17,17,17)\", \"gridcolor\": \"#506784\", \"gridwidth\": 2, \"linecolor\": \"#506784\", \"showbackground\": true, \"ticks\": \"\", \"zerolinecolor\": \"#C8D4E3\"}, \"zaxis\": {\"backgroundcolor\": \"rgb(17,17,17)\", \"gridcolor\": \"#506784\", \"gridwidth\": 2, \"linecolor\": \"#506784\", \"showbackground\": true, \"ticks\": \"\", \"zerolinecolor\": \"#C8D4E3\"}}, \"shapedefaults\": {\"line\": {\"color\": \"#f2f5fa\"}}, \"sliderdefaults\": {\"bgcolor\": \"#C8D4E3\", \"bordercolor\": \"rgb(17,17,17)\", \"borderwidth\": 1, \"tickwidth\": 0}, \"ternary\": {\"aaxis\": {\"gridcolor\": \"#506784\", \"linecolor\": \"#506784\", \"ticks\": \"\"}, \"baxis\": {\"gridcolor\": \"#506784\", \"linecolor\": \"#506784\", \"ticks\": \"\"}, \"bgcolor\": \"rgb(17,17,17)\", \"caxis\": {\"gridcolor\": \"#506784\", \"linecolor\": \"#506784\", \"ticks\": \"\"}}, \"title\": {\"x\": 0.05}, \"updatemenudefaults\": {\"bgcolor\": \"#506784\", \"borderwidth\": 0}, \"xaxis\": {\"automargin\": true, \"gridcolor\": \"#283442\", \"linecolor\": \"#506784\", \"ticks\": \"\", \"title\": {\"standoff\": 15}, \"zerolinecolor\": \"#283442\", \"zerolinewidth\": 2}, \"yaxis\": {\"automargin\": true, \"gridcolor\": \"#283442\", \"linecolor\": \"#506784\", \"ticks\": \"\", \"title\": {\"standoff\": 15}, \"zerolinecolor\": \"#283442\", \"zerolinewidth\": 2}}}, \"title\": {\"text\": \"Jun-15-2021 Vizualize Companies by summary text w word2vec | all lan='en' jobs in CH\"}, \"width\": 960, \"xaxis\": {\"anchor\": \"y\", \"domain\": [0.0, 1.0], \"title\": {\"text\": \"pca_x\"}}, \"yaxis\": {\"anchor\": \"x\", \"domain\": [0.0, 1.0], \"title\": {\"text\": \"pca_y\"}}},                        {\"responsive\": true}                    ).then(function(){\n",
              "                            \n",
              "var gd = document.getElementById('74990620-a4ab-4cef-91c0-fd75ed1ac980');\n",
              "var x = new MutationObserver(function (mutations, observer) {{\n",
              "        var display = window.getComputedStyle(gd).display;\n",
              "        if (!display || display === 'none') {{\n",
              "            console.log([gd, 'removed!']);\n",
              "            Plotly.purge(gd);\n",
              "            observer.disconnect();\n",
              "        }}\n",
              "}});\n",
              "\n",
              "// Listen for the removal of the full notebook cells\n",
              "var notebookContainer = gd.closest('#notebook-container');\n",
              "if (notebookContainer) {{\n",
              "    x.observe(notebookContainer, {childList: true});\n",
              "}}\n",
              "\n",
              "// Listen for the clearing of the current output cell\n",
              "var outputEl = gd.closest('.output');\n",
              "if (outputEl) {{\n",
              "    x.observe(outputEl, {childList: true});\n",
              "}}\n",
              "\n",
              "                        })                };                            </script>        </div>\n",
              "</body>\n",
              "</html>"
            ]
          },
          "metadata": {
            "tags": []
          }
        },
        {
          "output_type": "stream",
          "text": [
            "plot generated -  2021-06-15 22:21:15.049797\n"
          ],
          "name": "stdout"
        },
        {
          "output_type": "stream",
          "text": [
            "/usr/local/lib/python3.7/dist-packages/ipykernel_launcher.py:20: DeprecationWarning:\n",
            "\n",
            "Call to deprecated `wv` (Attribute will be removed in 4.0.0, use self instead).\n",
            "\n"
          ],
          "name": "stderr"
        },
        {
          "output_type": "stream",
          "text": [
            "\n",
            "For word2vec-all lan='en' jobs in CH: opt. # of k-means clusters is 5 \n",
            "\n"
          ],
          "name": "stdout"
        },
        {
          "output_type": "display_data",
          "data": {
            "text/html": [
              "<html>\n",
              "<head><meta charset=\"utf-8\" /></head>\n",
              "<body>\n",
              "    <div>            <script src=\"https://cdnjs.cloudflare.com/ajax/libs/mathjax/2.7.5/MathJax.js?config=TeX-AMS-MML_SVG\"></script><script type=\"text/javascript\">if (window.MathJax) {MathJax.Hub.Config({SVG: {font: \"STIX-Web\"}});}</script>                <script type=\"text/javascript\">window.PlotlyConfig = {MathJaxConfig: 'local'};</script>\n",
              "        <script src=\"https://cdn.plot.ly/plotly-latest.min.js\"></script>                <div id=\"35fcf063-6005-40a8-a6df-f79f9e719c65\" class=\"plotly-graph-div\" style=\"height:720px; width:960px;\"></div>            <script type=\"text/javascript\">                                    window.PLOTLYENV=window.PLOTLYENV || {};                                    if (document.getElementById(\"35fcf063-6005-40a8-a6df-f79f9e719c65\")) {                    Plotly.newPlot(                        \"35fcf063-6005-40a8-a6df-f79f9e719c65\",                        [{\"customdata\": [[\"junior service designer genders - fjord switzerland neu\", \"Accenture\", \"Gerade ver\\u00f6ffentlicht\", \"not_created\", \"06.15.2021\", \"22:21:13\", \"4\"], [\"field service representative cardiac rhythm management crm neu\", \"Medtronic\", \"Gerade ver\\u00f6ffentlicht\", \"not_created\", \"06.15.2021\", \"22:21:13\", \"4\"], [\"swiss litigation investigations attorney neu\", \"Credit Suisse\", \"Gerade ver\\u00f6ffentlicht\", \"not_created\", \"06.15.2021\", \"22:21:13\", \"4\"], [\"therapy specialist french speaking part switzerland neu\", \"Medtronic\", \"Gerade ver\\u00f6ffentlicht\", \"not_created\", \"06.15.2021\", \"22:21:13\", \"4\"], [\"senior investigator immuno oncology solid tumors neu\", \"ICHNOS SCIENCES INC.\", \"Gerade ver\\u00f6ffentlicht\", \"not_created\", \"06.15.2021\", \"22:21:13\", \"4\"], [\"structured products specialist neu\", \"EFG International\", \"Gerade ver\\u00f6ffentlicht\", \"not_created\", \"06.15.2021\", \"22:21:13\", \"4\"], [\"therapy service specialist german speaking part switzer neu\", \"Medtronic\", \"Gerade ver\\u00f6ffentlicht\", \"not_created\", \"06.15.2021\", \"22:21:13\", \"4\"], [\"pm scrum master pharma experience neu\", \"Swisslinx\", \"Gerade ver\\u00f6ffentlicht\", \"not_created\", \"06.15.2021\", \"22:21:13\", \"4\"]], \"hovertemplate\": \"kmeans=%{customdata[6]}<br>pca_x=%{x}<br>pca_y=%{y}<br>titles=%{customdata[0]}<br>companies=%{customdata[1]}<br>date_listed=%{customdata[2]}<br>short_link=%{customdata[3]}<br>date_pulled=%{customdata[4]}<br>time_pulled=%{customdata[5]}<extra></extra>\", \"legendgroup\": \"4\", \"marker\": {\"color\": \"#636efa\", \"symbol\": \"circle\"}, \"mode\": \"markers\", \"name\": \"4\", \"orientation\": \"v\", \"showlegend\": true, \"type\": \"scatter\", \"x\": [0.037269666837005506, -0.14607649181812302, 0.13672961411399157, 0.05055293365452383, 0.009601280153594918, -0.08509301780966548, 0.06780312679696852, -0.15373696335235298], \"xaxis\": \"x\", \"y\": [0.3922320964236641, 0.44597491709327014, 0.694428006418136, 0.5403479606542926, 0.6447440224412772, 0.1951041116344525, 0.5724041160456534, 0.4197725961712139], \"yaxis\": \"y\"}, {\"customdata\": [[\"client service representative neu\", \"Christie's\", \"Gerade ver\\u00f6ffentlicht\", \"not_created\", \"06.15.2021\", \"22:21:13\", \"2\"], [\"analyst global ecom web neu\", \"VF Corporation\", \"Gerade ver\\u00f6ffentlicht\", \"not_created\", \"06.15.2021\", \"22:21:13\", \"2\"], [\"brand communication manager roger dubuis neu\", \"Roger Dubuis\", \"Gerade ver\\u00f6ffentlicht\", \"not_created\", \"06.15.2021\", \"22:21:13\", \"2\"], [\"equity analyst thematic investing neu\", \"Robeco\", \"Gerade ver\\u00f6ffentlicht\", \"not_created\", \"06.15.2021\", \"22:21:13\", \"2\"], [\"data management officer neu\", \"World Health Organization\", \"Gerade ver\\u00f6ffentlicht\", \"not_created\", \"06.15.2021\", \"22:21:13\", \"2\"], [\"ship operating cost controller neu\", \"MSC Cruises\", \"Gerade ver\\u00f6ffentlicht\", \"not_created\", \"06.15.2021\", \"22:21:13\", \"2\"], [\"key account manager neu\", \"Genedata\", \"Gerade ver\\u00f6ffentlicht\", \"not_created\", \"06.15.2021\", \"22:21:13\", \"2\"], [\"lead buyer hlks neu\", \"Implenia\", \"Gerade ver\\u00f6ffentlicht\", \"not_created\", \"06.15.2021\", \"22:21:13\", \"2\"], [\"p associate programme officer non tariff measures dmd neu\", \"International Trade Center Intracen\", \"Gerade ver\\u00f6ffentlicht\", \"not_created\", \"06.15.2021\", \"22:21:13\", \"2\"], [\"junior project manager compliance neu\", \"Bitcoin Suisse AG\", \"Gerade ver\\u00f6ffentlicht\", \"not_created\", \"06.15.2021\", \"22:21:13\", \"2\"], [\"health economist data management analysis neu\", \"World Health Organization\", \"Gerade ver\\u00f6ffentlicht\", \"not_created\", \"06.15.2021\", \"22:21:13\", \"2\"], [\"senior project manager renewable energy thermal power neu\", \"AFRY\", \"Gerade ver\\u00f6ffentlicht\", \"not_created\", \"06.15.2021\", \"22:21:13\", \"2\"], [\"workday hcm consultant contractor neu\", \"Oliver James Associates\", \"Gerade ver\\u00f6ffentlicht\", \"not_created\", \"06.15.2021\", \"22:21:13\", \"2\"], [\"business project manager client services neu\", \"Bitcoin Suisse AG\", \"Gerade ver\\u00f6ffentlicht\", \"not_created\", \"06.15.2021\", \"22:21:13\", \"2\"], [\"solutions architect global financial services neu\", \"AWS EMEA SARL (Switzerland)\", \"Gerade ver\\u00f6ffentlicht\", \"not_created\", \"06.15.2021\", \"22:21:13\", \"2\"], [\"operations analyst contract - neu\", \"IT Di-Visions\", \"Gerade ver\\u00f6ffentlicht\", \"not_created\", \"06.15.2021\", \"22:21:13\", \"2\"], [\"director senior director head program management str neu\", \"ICHNOS SCIENCES INC.\", \"Gerade ver\\u00f6ffentlicht\", \"not_created\", \"06.15.2021\", \"22:21:13\", \"2\"]], \"hovertemplate\": \"kmeans=%{customdata[6]}<br>pca_x=%{x}<br>pca_y=%{y}<br>titles=%{customdata[0]}<br>companies=%{customdata[1]}<br>date_listed=%{customdata[2]}<br>short_link=%{customdata[3]}<br>date_pulled=%{customdata[4]}<br>time_pulled=%{customdata[5]}<extra></extra>\", \"legendgroup\": \"2\", \"marker\": {\"color\": \"#EF553B\", \"symbol\": \"circle\"}, \"mode\": \"markers\", \"name\": \"2\", \"orientation\": \"v\", \"showlegend\": true, \"type\": \"scatter\", \"x\": [0.02752842178456603, -0.17349173482861444, -0.1870680525107171, -0.18795677858122445, 0.10114165862875721, 0.11162342800962971, -0.10833993162494042, 0.04099360017789068, 0.027880730995838404, 0.01346762304032309, -0.052098301040348655, -0.05697055060786337, 0.577144475552171, -0.1325977690908228, -0.1467982793049568, 0.13121699779905951, -0.06244770340644586], \"xaxis\": \"x\", \"y\": [0.34515856250683236, -0.1339194547811756, -0.022885235698447054, 0.1967770681314331, 0.20927285098793025, 0.38579633438216043, 0.06864817515129983, 0.2589395397717292, 0.4528215779279975, 0.11915431662498079, 0.37312920483299045, 0.30185743480328325, 0.14873651054021106, 0.17965612039963416, 0.09516315537427875, 0.1542072878783348, 0.039116583136789555], \"yaxis\": \"y\"}, {\"customdata\": [[\"global copywriter neu\", \"VF Corporation\", \"Gerade ver\\u00f6ffentlicht\", \"not_created\", \"06.15.2021\", \"22:21:13\", \"3\"], [\"coordinator global social media neu\", \"VF Corporation\", \"Gerade ver\\u00f6ffentlicht\", \"not_created\", \"06.15.2021\", \"22:21:13\", \"3\"], [\"global planner neu\", \"VF Corporation\", \"Gerade ver\\u00f6ffentlicht\", \"not_created\", \"06.15.2021\", \"22:21:13\", \"3\"], [\"junior merchandiser dickies neu\", \"VF Corporation\", \"Gerade ver\\u00f6ffentlicht\", \"not_created\", \"06.15.2021\", \"22:21:13\", \"3\"], [\"coordinator global brand marketing neu\", \"VF Corporation\", \"Gerade ver\\u00f6ffentlicht\", \"not_created\", \"06.15.2021\", \"22:21:13\", \"3\"], [\"manager merchandising emea neu\", \"VF Corporation\", \"Gerade ver\\u00f6ffentlicht\", \"not_created\", \"06.15.2021\", \"22:21:13\", \"3\"], [\"product merchandiser global performance neu\", \"VF Corporation\", \"Gerade ver\\u00f6ffentlicht\", \"not_created\", \"06.15.2021\", \"22:21:13\", \"3\"], [\"manager global brand marketing neu\", \"VF Corporation\", \"Gerade ver\\u00f6ffentlicht\", \"not_created\", \"06.15.2021\", \"22:21:13\", \"3\"], [\"manager global visual merchandising neu\", \"VF Corporation\", \"Gerade ver\\u00f6ffentlicht\", \"not_created\", \"06.15.2021\", \"22:21:13\", \"3\"], [\"director global product design neu\", \"VF Corporation\", \"Gerade ver\\u00f6ffentlicht\", \"not_created\", \"06.15.2021\", \"22:21:13\", \"3\"], [\"emea sales marketing campaign manager neu\", \"Proceq\", \"Gerade ver\\u00f6ffentlicht\", \"not_created\", \"06.15.2021\", \"22:21:13\", \"3\"], [\"manager global wholesale retail marketing neu\", \"VF Corporation\", \"Gerade ver\\u00f6ffentlicht\", \"not_created\", \"06.15.2021\", \"22:21:13\", \"3\"], [\"senior manager global gtm brand marketing neu\", \"VF Corporation\", \"Gerade ver\\u00f6ffentlicht\", \"not_created\", \"06.15.2021\", \"22:21:13\", \"3\"], [\"senior manager global retail wholesale marketing neu\", \"VF Corporation\", \"Gerade ver\\u00f6ffentlicht\", \"not_created\", \"06.15.2021\", \"22:21:13\", \"3\"], [\"senior manager global digital marketing neu\", \"VF Corporation\", \"Gerade ver\\u00f6ffentlicht\", \"not_created\", \"06.15.2021\", \"22:21:13\", \"3\"]], \"hovertemplate\": \"kmeans=%{customdata[6]}<br>pca_x=%{x}<br>pca_y=%{y}<br>titles=%{customdata[0]}<br>companies=%{customdata[1]}<br>date_listed=%{customdata[2]}<br>short_link=%{customdata[3]}<br>date_pulled=%{customdata[4]}<br>time_pulled=%{customdata[5]}<extra></extra>\", \"legendgroup\": \"3\", \"marker\": {\"color\": \"#00cc96\", \"symbol\": \"circle\"}, \"mode\": \"markers\", \"name\": \"3\", \"orientation\": \"v\", \"showlegend\": true, \"type\": \"scatter\", \"x\": [-0.12924232098732952, -0.3254780632735071, 0.10412830683884379, -0.05410422262675052, -0.5800727776635868, -0.31290558638280175, -0.4169692864955598, -0.6449533280385593, -0.4987304857004735, -0.21463003929033492, -0.4431859313336982, -0.6871034344807353, -0.6147644360344856, -0.6552057994378547, -0.5091526466180933], \"xaxis\": \"x\", \"y\": [-0.6346871147331224, -0.09649527660483712, -0.4457870941835559, -0.24308754959895984, -0.4686419767356521, -0.4359204682980513, -0.18124670096974405, -0.5148887434085466, -0.45024080025375923, -0.25846888418048675, -0.2569103070151177, -0.2872175977176667, -0.38301466162155595, -0.20670712444501038, -0.3373640453749192], \"yaxis\": \"y\"}, {\"customdata\": [[\"grant officer neu\", \"Swiss TPH\", \"Gerade ver\\u00f6ffentlicht\", \"not_created\", \"06.15.2021\", \"22:21:13\", \"0\"], [\"project officer neu\", \"World Health Organization\", \"Gerade ver\\u00f6ffentlicht\", \"not_created\", \"06.15.2021\", \"22:21:13\", \"0\"], [\"finance director neu\", \"Medair\", \"Gerade ver\\u00f6ffentlicht\", \"not_created\", \"06.15.2021\", \"22:21:13\", \"0\"], [\"project manager integration specialist w neu\", \"AFRY\", \"Gerade ver\\u00f6ffentlicht\", \"not_created\", \"06.15.2021\", \"22:21:13\", \"0\"], [\"project manager comparator neu\", \"Thermo Fisher Scientific\", \"Gerade ver\\u00f6ffentlicht\", \"not_created\", \"06.15.2021\", \"22:21:13\", \"0\"], [\"project coordinator neu\", \"Crypto Finance AG\", \"Gerade ver\\u00f6ffentlicht\", \"not_created\", \"06.15.2021\", \"22:21:13\", \"0\"]], \"hovertemplate\": \"kmeans=%{customdata[6]}<br>pca_x=%{x}<br>pca_y=%{y}<br>titles=%{customdata[0]}<br>companies=%{customdata[1]}<br>date_listed=%{customdata[2]}<br>short_link=%{customdata[3]}<br>date_pulled=%{customdata[4]}<br>time_pulled=%{customdata[5]}<extra></extra>\", \"legendgroup\": \"0\", \"marker\": {\"color\": \"#ab63fa\", \"symbol\": \"circle\"}, \"mode\": \"markers\", \"name\": \"0\", \"orientation\": \"v\", \"showlegend\": true, \"type\": \"scatter\", \"x\": [0.4764233630957205, 0.5274706530262507, 0.08146174253696993, 0.10156566575813138, 0.16231928426578499, 0.38431479677761243], \"xaxis\": \"x\", \"y\": [0.2424885495925119, 0.07443909967109434, -0.27952225382005097, -0.024474835498277923, 0.041343036997717554, -0.1535031922307339], \"yaxis\": \"y\"}, {\"customdata\": [[\"engineer neu\", \"S\\u00e9cheron\", \"Gerade ver\\u00f6ffentlicht\", \"not_created\", \"06.15.2021\", \"22:21:13\", \"1\"], [\"rf engineer physicist timing synchronization neu\", \"Paul Scherrer Institut\", \"Gerade ver\\u00f6ffentlicht\", \"not_created\", \"06.15.2021\", \"22:21:13\", \"1\"], [\"devops engineer neu\", \"Swisslinx\", \"Gerade ver\\u00f6ffentlicht\", \"not_created\", \"06.15.2021\", \"22:21:13\", \"1\"], [\"z os websphere engineer f neu\", \"BdU Consulting AG\", \"Gerade ver\\u00f6ffentlicht\", \"not_created\", \"06.15.2021\", \"22:21:13\", \"1\"]], \"hovertemplate\": \"kmeans=%{customdata[6]}<br>pca_x=%{x}<br>pca_y=%{y}<br>titles=%{customdata[0]}<br>companies=%{customdata[1]}<br>date_listed=%{customdata[2]}<br>short_link=%{customdata[3]}<br>date_pulled=%{customdata[4]}<br>time_pulled=%{customdata[5]}<extra></extra>\", \"legendgroup\": \"1\", \"marker\": {\"color\": \"#FFA15A\", \"symbol\": \"circle\"}, \"mode\": \"markers\", \"name\": \"1\", \"orientation\": \"v\", \"showlegend\": true, \"type\": \"scatter\", \"x\": [1.3887089140357403, 0.7315582111062265, 1.3887089140357403, 0.8995605233185031], \"xaxis\": \"x\", \"y\": [-0.6826341738271424, -0.07377903465871105, -0.6826341738271424, -0.33768253611050175], \"yaxis\": \"y\"}],                        {\"height\": 720, \"legend\": {\"title\": {\"text\": \"kmeans\"}, \"tracegroupgap\": 0}, \"template\": {\"data\": {\"bar\": [{\"error_x\": {\"color\": \"#f2f5fa\"}, \"error_y\": {\"color\": \"#f2f5fa\"}, \"marker\": {\"line\": {\"color\": \"rgb(17,17,17)\", \"width\": 0.5}}, \"type\": \"bar\"}], \"barpolar\": [{\"marker\": {\"line\": {\"color\": \"rgb(17,17,17)\", \"width\": 0.5}}, \"type\": \"barpolar\"}], \"carpet\": [{\"aaxis\": {\"endlinecolor\": \"#A2B1C6\", \"gridcolor\": \"#506784\", \"linecolor\": \"#506784\", \"minorgridcolor\": \"#506784\", \"startlinecolor\": \"#A2B1C6\"}, \"baxis\": {\"endlinecolor\": \"#A2B1C6\", \"gridcolor\": \"#506784\", \"linecolor\": \"#506784\", \"minorgridcolor\": \"#506784\", \"startlinecolor\": \"#A2B1C6\"}, \"type\": \"carpet\"}], \"choropleth\": [{\"colorbar\": {\"outlinewidth\": 0, \"ticks\": \"\"}, \"type\": \"choropleth\"}], \"contour\": [{\"colorbar\": {\"outlinewidth\": 0, \"ticks\": \"\"}, \"colorscale\": [[0.0, \"#0d0887\"], [0.1111111111111111, \"#46039f\"], [0.2222222222222222, \"#7201a8\"], [0.3333333333333333, \"#9c179e\"], [0.4444444444444444, \"#bd3786\"], [0.5555555555555556, \"#d8576b\"], [0.6666666666666666, \"#ed7953\"], [0.7777777777777778, \"#fb9f3a\"], [0.8888888888888888, \"#fdca26\"], [1.0, \"#f0f921\"]], \"type\": \"contour\"}], \"contourcarpet\": [{\"colorbar\": {\"outlinewidth\": 0, \"ticks\": \"\"}, \"type\": \"contourcarpet\"}], \"heatmap\": [{\"colorbar\": {\"outlinewidth\": 0, \"ticks\": \"\"}, \"colorscale\": [[0.0, \"#0d0887\"], [0.1111111111111111, \"#46039f\"], [0.2222222222222222, \"#7201a8\"], [0.3333333333333333, \"#9c179e\"], [0.4444444444444444, \"#bd3786\"], [0.5555555555555556, \"#d8576b\"], [0.6666666666666666, \"#ed7953\"], [0.7777777777777778, \"#fb9f3a\"], [0.8888888888888888, \"#fdca26\"], [1.0, \"#f0f921\"]], \"type\": \"heatmap\"}], \"heatmapgl\": [{\"colorbar\": {\"outlinewidth\": 0, \"ticks\": \"\"}, \"colorscale\": [[0.0, \"#0d0887\"], [0.1111111111111111, \"#46039f\"], [0.2222222222222222, \"#7201a8\"], [0.3333333333333333, \"#9c179e\"], [0.4444444444444444, \"#bd3786\"], [0.5555555555555556, \"#d8576b\"], [0.6666666666666666, \"#ed7953\"], [0.7777777777777778, \"#fb9f3a\"], [0.8888888888888888, \"#fdca26\"], [1.0, \"#f0f921\"]], \"type\": \"heatmapgl\"}], \"histogram\": [{\"marker\": {\"colorbar\": {\"outlinewidth\": 0, \"ticks\": \"\"}}, \"type\": \"histogram\"}], \"histogram2d\": [{\"colorbar\": {\"outlinewidth\": 0, \"ticks\": \"\"}, \"colorscale\": [[0.0, \"#0d0887\"], [0.1111111111111111, \"#46039f\"], [0.2222222222222222, \"#7201a8\"], [0.3333333333333333, \"#9c179e\"], [0.4444444444444444, \"#bd3786\"], [0.5555555555555556, \"#d8576b\"], [0.6666666666666666, \"#ed7953\"], [0.7777777777777778, \"#fb9f3a\"], [0.8888888888888888, \"#fdca26\"], [1.0, \"#f0f921\"]], \"type\": \"histogram2d\"}], \"histogram2dcontour\": [{\"colorbar\": {\"outlinewidth\": 0, \"ticks\": \"\"}, \"colorscale\": [[0.0, \"#0d0887\"], [0.1111111111111111, \"#46039f\"], [0.2222222222222222, \"#7201a8\"], [0.3333333333333333, \"#9c179e\"], [0.4444444444444444, \"#bd3786\"], [0.5555555555555556, \"#d8576b\"], [0.6666666666666666, \"#ed7953\"], [0.7777777777777778, \"#fb9f3a\"], [0.8888888888888888, \"#fdca26\"], [1.0, \"#f0f921\"]], \"type\": \"histogram2dcontour\"}], \"mesh3d\": [{\"colorbar\": {\"outlinewidth\": 0, \"ticks\": \"\"}, \"type\": \"mesh3d\"}], \"parcoords\": [{\"line\": {\"colorbar\": {\"outlinewidth\": 0, \"ticks\": \"\"}}, \"type\": \"parcoords\"}], \"pie\": [{\"automargin\": true, \"type\": \"pie\"}], \"scatter\": [{\"marker\": {\"line\": {\"color\": \"#283442\"}}, \"type\": \"scatter\"}], \"scatter3d\": [{\"line\": {\"colorbar\": {\"outlinewidth\": 0, \"ticks\": \"\"}}, \"marker\": {\"colorbar\": {\"outlinewidth\": 0, \"ticks\": \"\"}}, \"type\": \"scatter3d\"}], \"scattercarpet\": [{\"marker\": {\"colorbar\": {\"outlinewidth\": 0, \"ticks\": \"\"}}, \"type\": \"scattercarpet\"}], \"scattergeo\": [{\"marker\": {\"colorbar\": {\"outlinewidth\": 0, \"ticks\": \"\"}}, \"type\": \"scattergeo\"}], \"scattergl\": [{\"marker\": {\"line\": {\"color\": \"#283442\"}}, \"type\": \"scattergl\"}], \"scattermapbox\": [{\"marker\": {\"colorbar\": {\"outlinewidth\": 0, \"ticks\": \"\"}}, \"type\": \"scattermapbox\"}], \"scatterpolar\": [{\"marker\": {\"colorbar\": {\"outlinewidth\": 0, \"ticks\": \"\"}}, \"type\": \"scatterpolar\"}], \"scatterpolargl\": [{\"marker\": {\"colorbar\": {\"outlinewidth\": 0, \"ticks\": \"\"}}, \"type\": \"scatterpolargl\"}], \"scatterternary\": [{\"marker\": {\"colorbar\": {\"outlinewidth\": 0, \"ticks\": \"\"}}, \"type\": \"scatterternary\"}], \"surface\": [{\"colorbar\": {\"outlinewidth\": 0, \"ticks\": \"\"}, \"colorscale\": [[0.0, \"#0d0887\"], [0.1111111111111111, \"#46039f\"], [0.2222222222222222, \"#7201a8\"], [0.3333333333333333, \"#9c179e\"], [0.4444444444444444, \"#bd3786\"], [0.5555555555555556, \"#d8576b\"], [0.6666666666666666, \"#ed7953\"], [0.7777777777777778, \"#fb9f3a\"], [0.8888888888888888, \"#fdca26\"], [1.0, \"#f0f921\"]], \"type\": \"surface\"}], \"table\": [{\"cells\": {\"fill\": {\"color\": \"#506784\"}, \"line\": {\"color\": \"rgb(17,17,17)\"}}, \"header\": {\"fill\": {\"color\": \"#2a3f5f\"}, \"line\": {\"color\": \"rgb(17,17,17)\"}}, \"type\": \"table\"}]}, \"layout\": {\"annotationdefaults\": {\"arrowcolor\": \"#f2f5fa\", \"arrowhead\": 0, \"arrowwidth\": 1}, \"autotypenumbers\": \"strict\", \"coloraxis\": {\"colorbar\": {\"outlinewidth\": 0, \"ticks\": \"\"}}, \"colorscale\": {\"diverging\": [[0, \"#8e0152\"], [0.1, \"#c51b7d\"], [0.2, \"#de77ae\"], [0.3, \"#f1b6da\"], [0.4, \"#fde0ef\"], [0.5, \"#f7f7f7\"], [0.6, \"#e6f5d0\"], [0.7, \"#b8e186\"], [0.8, \"#7fbc41\"], [0.9, \"#4d9221\"], [1, \"#276419\"]], \"sequential\": [[0.0, \"#0d0887\"], [0.1111111111111111, \"#46039f\"], [0.2222222222222222, \"#7201a8\"], [0.3333333333333333, \"#9c179e\"], [0.4444444444444444, \"#bd3786\"], [0.5555555555555556, \"#d8576b\"], [0.6666666666666666, \"#ed7953\"], [0.7777777777777778, \"#fb9f3a\"], [0.8888888888888888, \"#fdca26\"], [1.0, \"#f0f921\"]], \"sequentialminus\": [[0.0, \"#0d0887\"], [0.1111111111111111, \"#46039f\"], [0.2222222222222222, \"#7201a8\"], [0.3333333333333333, \"#9c179e\"], [0.4444444444444444, \"#bd3786\"], [0.5555555555555556, \"#d8576b\"], [0.6666666666666666, \"#ed7953\"], [0.7777777777777778, \"#fb9f3a\"], [0.8888888888888888, \"#fdca26\"], [1.0, \"#f0f921\"]]}, \"colorway\": [\"#636efa\", \"#EF553B\", \"#00cc96\", \"#ab63fa\", \"#FFA15A\", \"#19d3f3\", \"#FF6692\", \"#B6E880\", \"#FF97FF\", \"#FECB52\"], \"font\": {\"color\": \"#f2f5fa\"}, \"geo\": {\"bgcolor\": \"rgb(17,17,17)\", \"lakecolor\": \"rgb(17,17,17)\", \"landcolor\": \"rgb(17,17,17)\", \"showlakes\": true, \"showland\": true, \"subunitcolor\": \"#506784\"}, \"hoverlabel\": {\"align\": \"left\"}, \"hovermode\": \"closest\", \"mapbox\": {\"style\": \"dark\"}, \"paper_bgcolor\": \"rgb(17,17,17)\", \"plot_bgcolor\": \"rgb(17,17,17)\", \"polar\": {\"angularaxis\": {\"gridcolor\": \"#506784\", \"linecolor\": \"#506784\", \"ticks\": \"\"}, \"bgcolor\": \"rgb(17,17,17)\", \"radialaxis\": {\"gridcolor\": \"#506784\", \"linecolor\": \"#506784\", \"ticks\": \"\"}}, \"scene\": {\"xaxis\": {\"backgroundcolor\": \"rgb(17,17,17)\", \"gridcolor\": \"#506784\", \"gridwidth\": 2, \"linecolor\": \"#506784\", \"showbackground\": true, \"ticks\": \"\", \"zerolinecolor\": \"#C8D4E3\"}, \"yaxis\": {\"backgroundcolor\": \"rgb(17,17,17)\", \"gridcolor\": \"#506784\", \"gridwidth\": 2, \"linecolor\": \"#506784\", \"showbackground\": true, \"ticks\": \"\", \"zerolinecolor\": \"#C8D4E3\"}, \"zaxis\": {\"backgroundcolor\": \"rgb(17,17,17)\", \"gridcolor\": \"#506784\", \"gridwidth\": 2, \"linecolor\": \"#506784\", \"showbackground\": true, \"ticks\": \"\", \"zerolinecolor\": \"#C8D4E3\"}}, \"shapedefaults\": {\"line\": {\"color\": \"#f2f5fa\"}}, \"sliderdefaults\": {\"bgcolor\": \"#C8D4E3\", \"bordercolor\": \"rgb(17,17,17)\", \"borderwidth\": 1, \"tickwidth\": 0}, \"ternary\": {\"aaxis\": {\"gridcolor\": \"#506784\", \"linecolor\": \"#506784\", \"ticks\": \"\"}, \"baxis\": {\"gridcolor\": \"#506784\", \"linecolor\": \"#506784\", \"ticks\": \"\"}, \"bgcolor\": \"rgb(17,17,17)\", \"caxis\": {\"gridcolor\": \"#506784\", \"linecolor\": \"#506784\", \"ticks\": \"\"}}, \"title\": {\"x\": 0.05}, \"updatemenudefaults\": {\"bgcolor\": \"#506784\", \"borderwidth\": 0}, \"xaxis\": {\"automargin\": true, \"gridcolor\": \"#283442\", \"linecolor\": \"#506784\", \"ticks\": \"\", \"title\": {\"standoff\": 15}, \"zerolinecolor\": \"#283442\", \"zerolinewidth\": 2}, \"yaxis\": {\"automargin\": true, \"gridcolor\": \"#283442\", \"linecolor\": \"#506784\", \"ticks\": \"\", \"title\": {\"standoff\": 15}, \"zerolinecolor\": \"#283442\", \"zerolinewidth\": 2}}}, \"title\": {\"text\": \"Jun-15-2021 Vizualize Companies by titles text w word2vec | all lan='en' jobs in CH\"}, \"width\": 960, \"xaxis\": {\"anchor\": \"y\", \"domain\": [0.0, 1.0], \"title\": {\"text\": \"pca_x\"}}, \"yaxis\": {\"anchor\": \"x\", \"domain\": [0.0, 1.0], \"title\": {\"text\": \"pca_y\"}}},                        {\"responsive\": true}                    ).then(function(){\n",
              "                            \n",
              "var gd = document.getElementById('35fcf063-6005-40a8-a6df-f79f9e719c65');\n",
              "var x = new MutationObserver(function (mutations, observer) {{\n",
              "        var display = window.getComputedStyle(gd).display;\n",
              "        if (!display || display === 'none') {{\n",
              "            console.log([gd, 'removed!']);\n",
              "            Plotly.purge(gd);\n",
              "            observer.disconnect();\n",
              "        }}\n",
              "}});\n",
              "\n",
              "// Listen for the removal of the full notebook cells\n",
              "var notebookContainer = gd.closest('#notebook-container');\n",
              "if (notebookContainer) {{\n",
              "    x.observe(notebookContainer, {childList: true});\n",
              "}}\n",
              "\n",
              "// Listen for the clearing of the current output cell\n",
              "var outputEl = gd.closest('.output');\n",
              "if (outputEl) {{\n",
              "    x.observe(outputEl, {childList: true});\n",
              "}}\n",
              "\n",
              "                        })                };                            </script>        </div>\n",
              "</body>\n",
              "</html>"
            ]
          },
          "metadata": {
            "tags": []
          }
        },
        {
          "output_type": "stream",
          "text": [
            "plot generated -  2021-06-15 22:21:16.330233\n"
          ],
          "name": "stdout"
        }
      ]
    }
  ]
}