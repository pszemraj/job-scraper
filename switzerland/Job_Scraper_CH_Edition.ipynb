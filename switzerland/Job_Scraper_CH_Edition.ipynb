{
  "nbformat": 4,
  "nbformat_minor": 0,
  "metadata": {
    "kernelspec": {
      "display_name": "Python 3",
      "language": "python",
      "name": "python3"
    },
    "language_info": {
      "codemirror_mode": {
        "name": "ipython",
        "version": 3
      },
      "file_extension": ".py",
      "mimetype": "text/x-python",
      "name": "python",
      "nbconvert_exporter": "python",
      "pygments_lexer": "ipython3",
      "version": "3.7.3"
    },
    "colab": {
      "name": "Job Scraper Upgraded - CH Edition",
      "provenance": [],
      "collapsed_sections": [
        "QDAk9c3TjKM0",
        "F3JHDcx3hrsR"
      ],
      "toc_visible": true,
      "include_colab_link": true
    }
  },
  "cells": [
    {
      "cell_type": "markdown",
      "metadata": {
        "id": "view-in-github",
        "colab_type": "text"
      },
      "source": [
        "<a href=\"https://colab.research.google.com/github/pszemraj/scrape-viz-jobs/blob/master/switzerland/Job_Scraper_CH_Edition.ipynb\" target=\"_parent\"><img src=\"https://colab.research.google.com/assets/colab-badge.svg\" alt=\"Open In Colab\"/></a>"
      ]
    },
    {
      "cell_type": "markdown",
      "metadata": {
        "id": "-PjVjR8lmmQx"
      },
      "source": [
        "# Job Scraping + Viz: Modified for CH\n",
        "\n",
        "---\n",
        "Created by: [Peter Szemraj](https://peterszemraj.ch/)\n",
        "\n",
        "1. [link](https://github.com/pszemraj/job-scraper) to the repo of this project\n",
        "\n",
        "*Latest updates: 07.07.2021*\n",
        "**tested for functionality 14.11.2021**\n",
        "\n",
        "---\n",
        "original code forked from [this article](https://towardsdatascience.com/automating-my-job-search-with-python-ee2b465c6a8f) on medium\n",
        "\n",
        "Key Features:\n",
        "1. connects to your google drive and saves the search files there\n",
        "2. clusters and visualizes job postings for faster \"find what I actually care about\"\n",
        "\n",
        "\n",
        "**Note**\n",
        "\n",
        "If you are editing this code / adapting to a different country/site for Indeed, sections that likely need to be changed are described with comments <font color='orange'>**in orange font**</font>\n",
        "\n",
        "---\n"
      ]
    },
    {
      "cell_type": "markdown",
      "metadata": {
        "id": "-Hhorcuihr-u"
      },
      "source": [
        "# Setup"
      ]
    },
    {
      "cell_type": "markdown",
      "metadata": {
        "id": "zEigMy50jJ4h"
      },
      "source": [
        "### Google Drive\n",
        "\n",
        "- If you don't wish to use this part, you can skip it. The below should still work on the virtual machine local directory, but files will likely need to be downloaded manually\n",
        "- To manually download files, click on the folder on the left side of your colab window (in the navigation pane)\n"
      ]
    },
    {
      "cell_type": "code",
      "metadata": {
        "id": "IvjZxeerD-uV"
      },
      "source": [
        "from datetime import date\n",
        "from google.colab import files\n",
        "from google.colab import drive\n",
        "import os\n",
        "from os.path import join"
      ],
      "execution_count": 1,
      "outputs": []
    },
    {
      "cell_type": "markdown",
      "metadata": {
        "id": "_yZvUCO1jj4Y"
      },
      "source": [
        "### Filepaths on Drive\n",
        "\n",
        "saves all runs to a folder in your google drive with today's date. Folder is created if it doesn't exist (run cell below)\n",
        "\n",
        "<font color='orange'> update the **directory** variable to a custom filepath if desired (only relevant if using google drive) </font>"
      ]
    },
    {
      "cell_type": "code",
      "metadata": {
        "id": "bIyU8N7fjKzV",
        "colab": {
          "base_uri": "https://localhost:8080/"
        },
        "cellView": "form",
        "outputId": "b7538028-2924-495d-c8bd-4a40bb93e2ef"
      },
      "source": [
        "use_google_drive = True #@param {type:\"boolean\"}\n",
        "gdrive_directory = \"/content/drive/MyDrive/Career/job_search_repo\" #@param {type:\"string\"}\n",
        "os.makedirs(gdrive_directory, exist_ok=True)\n",
        "today = date.today()\n",
        "# Month abbreviation, day and year\t\n",
        "td_date = today.strftime(\"_%b-%d-%Y_\")\n",
        "folder_name = \"job_search_results_\" + td_date\n",
        "\n",
        "output_folder_path = join(gdrive_directory, folder_name)\n",
        "\n",
        "# create interface to upload / interact with google drive and video files\n",
        "if use_google_drive:\n",
        "    drive.mount('/content/drive')\n",
        "    os.makedirs(gdrive_directory, exist_ok=True)\n",
        "    os.chdir(output_folder_path)\n",
        "else:\n",
        "    output_folder_path = os.getcwd()\n",
        "    print(\"Not using google drive. will save files to google colab VM at {}\".format(output_folder_path))\n",
        "# after you allow the authentication, you can work using the path \"/content/drive/My Drive\"\n",
        "# if it works it will say \"Mounted at /content/drive\""
      ],
      "execution_count": 2,
      "outputs": [
        {
          "output_type": "stream",
          "name": "stdout",
          "text": [
            "Not using google drive. will save files to google colab VM at /content\n"
          ]
        }
      ]
    },
    {
      "cell_type": "markdown",
      "metadata": {
        "id": "QDAk9c3TjKM0"
      },
      "source": [
        "### Install & Import\n"
      ]
    },
    {
      "cell_type": "code",
      "metadata": {
        "id": "tffFYWQPi-KF"
      },
      "source": [
        "%%capture\n",
        "\"\"\"\n",
        "libraries added / installed by Peter\n",
        "\n",
        "\"\"\"\n",
        "\n",
        "!pip install -U selenium\n",
        "!pip install -U bs4\n",
        "!pip install -U texthero\n",
        "!pip install -U plotly\n",
        "!pip install pyshorteners\n",
        "!pip install -U kneed\n",
        "!pip install -U tensorflow_hub\n",
        "\n",
        "from os.path import join\n",
        "from google.colab import data_table\n",
        "from datetime import datetime, date\n",
        "import plotly.express as px\n",
        "import texthero as hero\n",
        "import pprint as pp\n",
        "import time\n",
        "\n",
        "%load_ext google.colab.data_table\n"
      ],
      "execution_count": 3,
      "outputs": []
    },
    {
      "cell_type": "code",
      "metadata": {
        "id": "L1Xu5tlXhpC8"
      },
      "source": [
        "\"\"\"\n",
        "libraries imported in the originally forked version of this code. \n",
        "\n",
        "Created on Tue Apr 28 11:35:04 2020\n",
        "@author: chrislovejoy\n",
        "\"\"\"\n",
        "import urllib\n",
        "import requests\n",
        "from bs4 import BeautifulSoup\n",
        "import selenium\n",
        "from selenium import webdriver\n",
        "from selenium.webdriver.support.ui import WebDriverWait\n",
        "import pandas as pd\n",
        "import os"
      ],
      "execution_count": 4,
      "outputs": []
    },
    {
      "cell_type": "markdown",
      "metadata": {
        "id": "2amAUOM5piqT"
      },
      "source": [
        "formats jupyter notebook / colab"
      ]
    },
    {
      "cell_type": "code",
      "metadata": {
        "id": "gFxtFF3Ql_4W"
      },
      "source": [
        "from IPython.display import HTML, display\n",
        "def set_css():\n",
        "  display(HTML('''\n",
        "  <style>\n",
        "    pre {\n",
        "        white-space: pre-wrap;\n",
        "    }\n",
        "  </style>\n",
        "  '''))\n",
        "get_ipython().events.register('pre_run_cell', set_css)"
      ],
      "execution_count": 5,
      "outputs": []
    },
    {
      "cell_type": "markdown",
      "metadata": {
        "id": "F3JHDcx3hrsR"
      },
      "source": [
        "# Job Search Functions\n"
      ]
    },
    {
      "cell_type": "markdown",
      "metadata": {
        "id": "dOvrznfs46rr"
      },
      "source": [
        "## generic\n",
        "\n",
        "cuttly [website](https://cutt.ly/edit)\n",
        "cuttly tutorial w/ Python [here](https://towardsdatascience.com/best-apis-for-url-shortening-using-python-2db09d1f86f0)\n",
        "\n",
        "\n",
        "pyshorteners [docs](https://pyshorteners.readthedocs.io/en/latest/)\n"
      ]
    },
    {
      "cell_type": "markdown",
      "metadata": {
        "id": "4Zpez9VIrXaL"
      },
      "source": [
        "### misc.\n",
        "\n",
        "<font color='orange'> add own API key for link shortening as needed</font>\n"
      ]
    },
    {
      "cell_type": "code",
      "metadata": {
        "id": "Mkf4LMbS2Ex6",
        "colab": {
          "base_uri": "https://localhost:8080/",
          "height": 0
        },
        "outputId": "c35a5b25-223f-46f0-f6e7-6fdcc86c78d2"
      },
      "source": [
        "import requests\n",
        "import time, random\n",
        "import pyshorteners\n",
        "\n",
        "def save_jobs_to_excel(jobs_list, filename, verbose=False):\n",
        "    # i have no idea what this function does\n",
        "    jobs = pd.DataFrame(jobs_list)\n",
        "    jobs.to_excel(filename)\n",
        "\n",
        "    if verbose:\n",
        "        print(\"saved the following to excel with filename {}: \\n\".format(filename))\n",
        "\n",
        "        print(jobs.info())\n",
        "    return jobs\n",
        "\n",
        "def shorten_URL_bitly(long_url, verbose=False):\n",
        "    # requires free account / API token. https://bitly.com/\n",
        "    # generate short URLs from the ones scraped \n",
        "\n",
        "    time.sleep(random.randint(1,5)) # don't overload API\n",
        "\n",
        "    ACCESS_TOKEN = \"hahah_get_ur_own\"\n",
        "\n",
        "    # Shorten long URL\n",
        "    try:\n",
        "        s = pyshorteners.Shortener(api_key=ACCESS_TOKEN)\n",
        "        short_url = s.bitly.short(long_url)\n",
        "\n",
        "        if verbose:\n",
        "            print (\"Short URL is {}\".format(short_url))\n",
        "    except:\n",
        "        print(\"Error accessing API for key {} and fn shorten_URL_bitly\".format(ACCESS_TOKEN))\n",
        "        print(\"Try updating API key / checking fn. Returning original url\")\n",
        "        short_url = long_url\n",
        "        \n",
        "    return short_url\n",
        "\n",
        "\n",
        "def text_first_N(text, num=40):\n",
        "    # returns the first N chars in text, i.e. for long job descriptions\n",
        "    # for use with Pandas .apply() function\n",
        "\n",
        "    text = str(text) #convert to string\n",
        "\n",
        "    if isinstance(text, list):\n",
        "        text = \" \".join(text)\n",
        "\n",
        "    if len(text) <= num:\n",
        "        return text\n",
        "    else:\n",
        "        short_text = text[:num]\n",
        "        return short_text + \"..\""
      ],
      "execution_count": 6,
      "outputs": [
        {
          "output_type": "display_data",
          "data": {
            "text/html": [
              "\n",
              "  <style>\n",
              "    pre {\n",
              "        white-space: pre-wrap;\n",
              "    }\n",
              "  </style>\n",
              "  "
            ],
            "text/plain": [
              "<IPython.core.display.HTML object>"
            ]
          },
          "metadata": {}
        }
      ]
    },
    {
      "cell_type": "markdown",
      "metadata": {
        "id": "iKpVSo1HFMV-"
      },
      "source": [
        "### optimize k-means no.\n",
        "\n",
        "stole this snippet from a different project of mine - was written several months ago, don't judge the efficiency"
      ]
    },
    {
      "cell_type": "code",
      "metadata": {
        "id": "6FdgV9BNAF5n",
        "colab": {
          "base_uri": "https://localhost:8080/",
          "height": 0
        },
        "outputId": "a1925c28-8e89-4535-8b61-22b4391c1e4d"
      },
      "source": [
        "from kneed import KneeLocator\n",
        "from sklearn.cluster import KMeans\n",
        "from sklearn.preprocessing import StandardScaler\n",
        "\n",
        "def optimal_num_clustas(input_matrix, d_title, top_end=11, show_plot=False,\n",
        "                        write_image=False):\n",
        "    # given 'input_matrix' as a pandas series containing a list / vector in each\n",
        "    # row, find the optimal number of k_means clusters to cluster them using \n",
        "    # the elbow method\n",
        "\n",
        "    # 'top_end' is the max number of clusters. If having issues, look at the plot\n",
        "    # and adjust accordingly\n",
        "\n",
        "    scaler = StandardScaler()\n",
        "    # texthero input data structure is weird.\n",
        "    #  stole the below if/else from the source code behind TH kmeans fn\n",
        "    # https://github.com/jbesomi/texthero/blob/master/texthero/representation.py\n",
        "\n",
        "    if isinstance(input_matrix, pd.DataFrame):\n",
        "        # fixes weird issues parsing a texthero edited text pd series\n",
        "        input_matrix_coo = input_matrix.sparse.to_coo()\n",
        "        input_matrix_for_vectorization = input_matrix_coo.astype(\"float64\")\n",
        "    else:\n",
        "        input_matrix_for_vectorization = list(input_matrix)\n",
        "\n",
        "    scaled_features = scaler.fit_transform(input_matrix_for_vectorization)\n",
        "    kmeans_kwargs = {\n",
        "        \"init\": \"random\",\n",
        "        \"n_init\": 30,\n",
        "        \"max_iter\": 300,\n",
        "        \"random_state\": 42\n",
        "    }\n",
        "    # A list holds the SSE values for each k\n",
        "    sse = []\n",
        "    for k in range(1, top_end):\n",
        "        kmeans = KMeans(n_clusters=k, **kmeans_kwargs)\n",
        "        kmeans.fit(scaled_features)\n",
        "        sse.append(kmeans.inertia_)\n",
        "\n",
        "    # plot to illustrate (viewing it is optional)\n",
        "    title_k = 'Optimal k-means for' + d_title\n",
        "    kmeans_opt_df = pd.DataFrame(list(zip(range(1, top_end), sse)), columns=['Number of Clusters', 'SSE'])\n",
        "    f_k = px.line(kmeans_opt_df, x='Number of Clusters', y='SSE', title=title_k)\n",
        "    # find optimum\n",
        "    kl = KneeLocator(range(1, top_end), sse, \n",
        "                     curve=\"convex\", direction=\"decreasing\")\n",
        "    onk = kl.elbow\n",
        "\n",
        "    if onk is None:\n",
        "        print(\"Warning - {} has no solution for optimal k-means\".format(d_title))\n",
        "        print(\"Returning # of clusters as max allowed ( {} )\".format(top_end))\n",
        "        return top_end\n",
        "\n",
        "    if onk == top_end:\n",
        "        print(\"Warning - {} opt. # equals max value searched ({})\".format(d_title,\n",
        "                                                                          top_end))\n",
        "\n",
        "    print(\"\\nFor {}: opt. # of k-means clusters is {} \\n\".format(d_title, onk))\n",
        "    f_k.add_vline(x=onk) # add vertical line to plotly \n",
        "\n",
        "    if show_plot:\n",
        "        f_k.show() \n",
        "\n",
        "    if write_image:\n",
        "        f_k.write_image(join(output_path_full, title_k + \".png\"))\n",
        "\n",
        "    return onk"
      ],
      "execution_count": 7,
      "outputs": [
        {
          "output_type": "display_data",
          "data": {
            "text/html": [
              "\n",
              "  <style>\n",
              "    pre {\n",
              "        white-space: pre-wrap;\n",
              "    }\n",
              "  </style>\n",
              "  "
            ],
            "text/plain": [
              "<IPython.core.display.HTML object>"
            ]
          },
          "metadata": {}
        }
      ]
    },
    {
      "cell_type": "markdown",
      "metadata": {
        "id": "jNYJN5pwsP9z"
      },
      "source": [
        "---"
      ]
    },
    {
      "cell_type": "markdown",
      "metadata": {
        "id": "KBiXnF2jzou_"
      },
      "source": [
        "## visualization \n",
        "\n",
        "Use texthero built-in visualization methods and then plot them *explicitly* in Plotly because it has dark mode and TextHero's plotly wrapper function does not\n",
        "\n",
        "- texthero represendation [docs](https://texthero.org/docs/api-representation)\n",
        "\n",
        "- plotly [scatterplot overview](https://plotly.com/python/line-and-scatter/)\n",
        "    - px.scatter() detailed [documentation](https://plotly.com/python-api-reference/generated/plotly.express.scatter)\n",
        "\n",
        "### Options:\n",
        "1. ```viz_job_data(df)``` is the OG version, vectorizes text with TFIDF and plots with PCA. \n",
        "    - Uses k-means nclusters as 5\n",
        "2. ```viz_job_data_word2vec(df)``` vectorizes text with word2vec (*computing \"average\" 300-d vector*) and plots with PCA\n",
        "    - computes optimal # of kmeans clusters (max set to 15)\n",
        "\n",
        "---"
      ]
    },
    {
      "cell_type": "markdown",
      "metadata": {
        "id": "AyYd-hdx7YWb"
      },
      "source": [
        "### standard\n",
        "\n",
        "\n",
        "uses everything built-in to the texthero package:\n",
        "- keeps kmeans clusters @ 5\n",
        "- text is converted to vector based on tf-idf\n",
        "    - (anecdotally this doesn't seem to work well if your \"document\" is short like these job listings)"
      ]
    },
    {
      "cell_type": "code",
      "metadata": {
        "id": "nlpav-ahzo07",
        "colab": {
          "base_uri": "https://localhost:8080/",
          "height": 0
        },
        "outputId": "833d4981-188a-4aa0-8196-f34bbc81f24e"
      },
      "source": [
        "from datetime import datetime, date\n",
        "import plotly.express as px\n",
        "\n",
        "plots_made = 0\n",
        "\n",
        "def viz_job_data(viz_df, text_col_name, save_plot=False, h=720):\n",
        "\n",
        "    today = date.today()\n",
        "    # Month abbreviation, day and year\t\n",
        "    td_str = today.strftime(\"%b-%d-%Y\")\n",
        "\n",
        "    viz_df['tfidf'] = (\n",
        "        viz_df[text_col_name]\n",
        "        .pipe(hero.clean)\n",
        "        .pipe(hero.tfidf)\n",
        "    )\n",
        "\n",
        "    viz_df['kmeans'] = (\n",
        "        viz_df['tfidf']\n",
        "        .pipe(hero.kmeans, n_clusters=5)\n",
        "        .astype(str)\n",
        "    )\n",
        "\n",
        "    viz_df['pca'] = (\n",
        "        viz_df['tfidf']\n",
        "        .pipe(hero.pca)\n",
        "    )\n",
        "\n",
        "    hv_list = list(viz_df.columns)\n",
        "    hv_list.remove('tfidf')\n",
        "    hv_list.remove('pca')\n",
        "    hv_list.remove('summary')\n",
        "\n",
        "    plot_title = td_str + \" Vizualize Companies by {} Data\".format(text_col_name)\n",
        "\n",
        "    # reformat data so don't have to use built-in plotting \n",
        "\n",
        "    df_split_pca = pd.DataFrame(viz_df[\"pca\"].to_list(), columns=['pca_x', 'pca_y'])\n",
        "    viz_df.drop(columns=\"pca\", inplace=True) # drop original PCA column\n",
        "    viz_df = pd.concat([viz_df, df_split_pca], axis=1) # merge dataframes\n",
        "\n",
        "    # plot pca data\n",
        "    # texthero also features pther ways to reduce dimensions besides pca, see docs\n",
        "\n",
        "    w = int(h * (4/3))\n",
        "\n",
        "    fig_s = px.scatter(viz_df, x= \"pca_x\", y=\"pca_y\", color=\"kmeans\", \n",
        "                     hover_data=hv_list, title=plot_title, height=h, width=w,\n",
        "                     template=\"plotly_dark\")\n",
        "    fig_s.show()\n",
        "\n",
        "    if save_plot:\n",
        "        plots_made += 1\n",
        "\n",
        "        fig.write_html(plot_title + str(plots_made) + \".html\", \n",
        "                       include_plotlyjs=True)\n",
        "\n",
        "    print(\"plot generated - \", datetime.now())"
      ],
      "execution_count": 8,
      "outputs": [
        {
          "output_type": "display_data",
          "data": {
            "text/html": [
              "\n",
              "  <style>\n",
              "    pre {\n",
              "        white-space: pre-wrap;\n",
              "    }\n",
              "  </style>\n",
              "  "
            ],
            "text/plain": [
              "<IPython.core.display.HTML object>"
            ]
          },
          "metadata": {}
        }
      ]
    },
    {
      "cell_type": "markdown",
      "metadata": {
        "id": "Ywbr89TOwiRp"
      },
      "source": [
        "### word2vec viz\n",
        "\n",
        "- word2vec [explanation](https://towardsdatascience.com/introduction-to-word-embedding-and-word2vec-652d0c2060fa) for those uninitiated\n",
        "-gensim [link](https://radimrehurek.com/gensim/auto_examples/tutorials/run_doc2vec_lee.html)\n",
        "\n",
        "Re: using word2vec in a basic way for sentence embedding\n",
        "\n",
        "> With the Word2Vec model, we can calculate the vectors for each word in a document. But what if we want to calculate a vector for the entire document? We could average the vectors for each word in the document - while this is quick and crude, it can often be useful. However, there is a better way… \n",
        "> *goes on to discuss doc2vec which does not have pretrained models*\n",
        "\n",
        "---\n",
        "\n",
        "re: ^ I am not doing the better way. Load the word2vec-google-news-300 dataset from gensim, then iterate through all words in the input text, generate the vector for that word, then take the mean of those. Only words with length 3 or greater are considered. \n",
        "\n",
        "---\n",
        "<font color='orange'>**DISCLAIMER: IT TAKES A BIT TO DOWNLOAD THE GENSIM / GOOGLE MODEL**</font>\n",
        "- <font color='orange'>possible to save the model locally (on disk/gdrive) if desired</font>\n"
      ]
    },
    {
      "cell_type": "code",
      "metadata": {
        "id": "Uk4Pi_PFwhkL",
        "colab": {
          "base_uri": "https://localhost:8080/",
          "height": 0
        },
        "outputId": "ca24f3de-cbea-4f65-d1d2-ccc8b9a19cb1"
      },
      "source": [
        "import gensim.downloader as api\n",
        "\n",
        "def load_gensim_word2vec(wvmodel=\"word2vec-google-news-300\", verbose=False):\n",
        "    # another option is the smaller: api.load(\"word2vec-ruscorpora-300\")\n",
        "    loaded_model = api.load(wvmodel)\n",
        "\n",
        "    print(\"loaded data for word2vec - \", datetime.now())\n",
        "\n",
        "    if verbose:\n",
        "        # for more info or bug fixing\n",
        "        wrdvecs = pd.DataFrame(loaded_model.vectors, \n",
        "                               index=loaded_model.key_to_index)\n",
        "        print(\"created dataframe from word2vec data- \", datetime.now())\n",
        "        print('dimensions of the df: \\n', wrdvecs.shape)\n",
        "\n",
        "    print(\"testing gensim model...\")\n",
        "    test_string = \"computer\"\n",
        "    vector = loaded_model.wv[test_string]\n",
        "\n",
        "    print(\"The shape of string {} is: \\n {}\".format(test_string, vector.shape))\n",
        "    print(\"test complete - \", datetime.now())\n",
        "\n",
        "    return loaded_model\n"
      ],
      "execution_count": 9,
      "outputs": [
        {
          "output_type": "display_data",
          "data": {
            "text/html": [
              "\n",
              "  <style>\n",
              "    pre {\n",
              "        white-space: pre-wrap;\n",
              "    }\n",
              "  </style>\n",
              "  "
            ],
            "text/plain": [
              "<IPython.core.display.HTML object>"
            ]
          },
          "metadata": {}
        }
      ]
    },
    {
      "cell_type": "markdown",
      "metadata": {
        "id": "v9Ji5Lg9ELit"
      },
      "source": [
        "iterate through all words in the input text generate the word2vec vector for that word, then take the mean of those. Only words with length 3 or greater are considered.\n",
        "\n",
        "**note that if a word is not in the google news dataset, it is just skipped. If you think the graphs / representations are not good enough, you should check to ensure that a large amount of words (or fraction rather) are not being skipped)**\n",
        "* the verbose parameter helps with that"
      ]
    },
    {
      "cell_type": "code",
      "metadata": {
        "id": "Vn7CHPJZwhAv",
        "colab": {
          "base_uri": "https://localhost:8080/",
          "height": 0
        },
        "outputId": "369db2d8-69be-4753-8a04-dfe41b6135d2"
      },
      "source": [
        "import numpy as np\n",
        "\n",
        "def get_vector_freetext(input_text, model, verbose=0, cutoff=2):\n",
        "\n",
        "    # verbose = 1 shows you how many words were skipped\n",
        "    # verbose = 2 tells you each individual skipped word and ^\n",
        "    # 'cutoff' removes all words with length N or less from the rep. vector\n",
        "\n",
        "    lower_it = input_text.lower()\n",
        "    input_words = lower_it.split(\" \") # yes, this is an assumption\n",
        "    usable_words = [word for word in input_words if len(word) > cutoff]\n",
        "\n",
        "    list_of_vectors = []\n",
        "    num_words_total = len(usable_words)\n",
        "    num_excluded = 0\n",
        "\n",
        "    for word in usable_words:\n",
        "        try:\n",
        "            this_vector = model.wv[word]\n",
        "            list_of_vectors.append(this_vector)\n",
        "        except:\n",
        "            num_excluded += 1\n",
        "            if verbose == 2:\n",
        "                print(\"\\nThe word/term {} is not in the model vocab.\".format(word))\n",
        "                print(\"Excluding from representative vector\")\n",
        "\n",
        "    rep_vec = np.mean(list_of_vectors, axis=0)\n",
        "\n",
        "    if verbose > 0:\n",
        "        print(\"Computed representative vector. Excluded {} words out of {}\".format(num_excluded,\n",
        "                                                                            num_words_total))\n",
        "\n",
        "    return rep_vec"
      ],
      "execution_count": 10,
      "outputs": [
        {
          "output_type": "display_data",
          "data": {
            "text/html": [
              "\n",
              "  <style>\n",
              "    pre {\n",
              "        white-space: pre-wrap;\n",
              "    }\n",
              "  </style>\n",
              "  "
            ],
            "text/plain": [
              "<IPython.core.display.HTML object>"
            ]
          },
          "metadata": {}
        }
      ]
    },
    {
      "cell_type": "markdown",
      "metadata": {
        "id": "-8NdBrCiyAnt"
      },
      "source": [
        "#### Plotting function"
      ]
    },
    {
      "cell_type": "code",
      "metadata": {
        "id": "VinUUQ7uwFqZ",
        "colab": {
          "base_uri": "https://localhost:8080/",
          "height": 0
        },
        "outputId": "05c4e29c-6bf0-4383-92ec-5bd1fb1d1d9a"
      },
      "source": [
        "\n",
        "def viz_job_data_word2vec(viz_df, text_col_name, save_plot=False, h=720,\n",
        "                          query_name=\"\", show_text=False):\n",
        "\n",
        "    today = date.today()\n",
        "    # Month abbreviation, day and year\t\n",
        "    td_str = today.strftime(\"%b-%d-%Y\")\n",
        "\n",
        "    # compute word2vec avg vector for each row of text\n",
        "    viz_df['avg_vec'] = viz_df[text_col_name].apply(get_vector_freetext, \n",
        "                                                    args=(w2v_model,))\n",
        "\n",
        "    # get optimal number of kmeans. limit max to 15 for interpretability\n",
        "    max_clusters = 15\n",
        "    if len(viz_df['avg_vec']) < max_clusters: max_clusters = len(viz_df['avg_vec'])\n",
        "\n",
        "    kmeans_numC = optimal_num_clustas(viz_df['avg_vec'], \n",
        "                                      d_title='word2vec-' + query_name, \n",
        "                                      top_end=max_clusters)\n",
        "    \n",
        "    # complete k-means clustering + pca dim red. w/ avg_vec\n",
        "    if kmeans_numC is None:\n",
        "        kmeans_numC = 5 \n",
        "\n",
        "    viz_df['kmeans'] = (\n",
        "        viz_df['avg_vec']\n",
        "        .pipe(hero.kmeans, n_clusters=kmeans_numC, \n",
        "              algorithm=\"elkan\", random_state=42, n_init=30)\n",
        "        .astype(str)\n",
        "    )\n",
        "    # texthero has other algs to reduce dimensions besides pca, see docs\n",
        "    viz_df['pca'] = (\n",
        "        viz_df['avg_vec']\n",
        "        .pipe(hero.pca)\n",
        "    )\n",
        "\n",
        "    # generate list of column names for hover_data\n",
        "    hv_list = list(viz_df.columns)\n",
        "    hv_list.remove('avg_vec')\n",
        "    hv_list.remove('pca')\n",
        "    if \"tfidf\" in hv_list:\n",
        "        hv_list.remove('tfidf')\n",
        "    if \"summary\" in hv_list:\n",
        "        hv_list.remove('summary')\n",
        "\n",
        "    # reformat data so don't have to use texthero built-in plotting \n",
        "    df_split_pca = pd.DataFrame(viz_df[\"pca\"].to_list(), \n",
        "                                columns=['pca_x', 'pca_y'])\n",
        "    viz_df.drop(columns=\"pca\", inplace=True) # drop original PCA column\n",
        "    viz_df = pd.concat([viz_df, df_split_pca], axis=1) # merge dataframes\n",
        "\n",
        "    # set up plot pars (width, title, text)\n",
        "    w = int(h * (4/3))\n",
        "\n",
        "    if len(query_name) > 0:\n",
        "        # user provided query_name so include\n",
        "        plot_title = td_str + \" viz Jobs by '{}' via word2vec + pca\".format(text_col_name) + \" | \" + query_name\n",
        "    else:\n",
        "        plot_title = td_str + \" viz Jobs by '{}' via word2vec + pca\".format(text_col_name)\n",
        "\n",
        "    if show_text:\n",
        "        # adds company names to the plot if you want\n",
        "        viz_df[\"companies_abbrev\"] = viz_df[\"companies\"].apply(text_first_N, num=15)\n",
        "        graph_text_label = \"companies_abbrev\"\n",
        "    else:\n",
        "        graph_text_label = None\n",
        "    \n",
        "    # plot dimension-reduced data\n",
        "    fig_w2v = px.scatter(viz_df, x= \"pca_x\", y=\"pca_y\", color=\"kmeans\", \n",
        "                     hover_data=hv_list, title=plot_title, height=h, width=w,\n",
        "                     template=\"plotly_dark\", text=graph_text_label)\n",
        "    fig_w2v.show()\n",
        "\n",
        "    # save if requested \n",
        "    \n",
        "    if save_plot:\n",
        "        # saves the HTML file \n",
        "        # auto-saving as a static image is a lil difficult so just click on the interactive\n",
        "        # plot it generates \n",
        "        fig_w2v.write_html(plot_title + query_name + \"_\" + text_col_name + \".html\", \n",
        "                       include_plotlyjs=True)\n",
        "\n",
        "    print(\"plot generated - \", datetime.now())"
      ],
      "execution_count": 11,
      "outputs": [
        {
          "output_type": "display_data",
          "data": {
            "text/html": [
              "\n",
              "  <style>\n",
              "    pre {\n",
              "        white-space: pre-wrap;\n",
              "    }\n",
              "  </style>\n",
              "  "
            ],
            "text/plain": [
              "<IPython.core.display.HTML object>"
            ]
          },
          "metadata": {}
        }
      ]
    },
    {
      "cell_type": "markdown",
      "metadata": {
        "id": "QTUHe7MeqDK9"
      },
      "source": [
        "### google USE"
      ]
    },
    {
      "cell_type": "markdown",
      "metadata": {
        "id": "FPvdyB01rVIQ"
      },
      "source": [
        "**Google Universal Sentence Encoder**\n",
        "\n",
        "```\n",
        "# Load model from TensorFlow Site\n",
        "# embed = hub.load(\"https://tfhub.dev/google/universal-sentence-encoder-large/5\")  # Large\n",
        "# embed = hub.load(\"https://tfhub.dev/google/universal-sentence-encoder-lite/2\") # Lite\n",
        "```"
      ]
    },
    {
      "cell_type": "code",
      "metadata": {
        "id": "f1adbZYpqILk",
        "colab": {
          "base_uri": "https://localhost:8080/",
          "height": 0
        },
        "outputId": "c34563be-65a6-4175-8750-aa3975534f30"
      },
      "source": [
        "import tensorflow_hub as hub\n",
        " \n",
        "def load_google_USE():\n",
        "    st = time.time()\n",
        "    embed = hub.load(\"https://tfhub.dev/google/universal-sentence-encoder/4\")\n",
        "    rt = (time.time() - st) / 60\n",
        "    print(\"loaded google USE embeddings in {} minutes\".format(round(rt,2)))\n",
        "\n",
        "    return embed\n"
      ],
      "execution_count": 12,
      "outputs": [
        {
          "output_type": "display_data",
          "data": {
            "text/html": [
              "\n",
              "  <style>\n",
              "    pre {\n",
              "        white-space: pre-wrap;\n",
              "    }\n",
              "  </style>\n",
              "  "
            ],
            "text/plain": [
              "<IPython.core.display.HTML object>"
            ]
          },
          "metadata": {}
        }
      ]
    },
    {
      "cell_type": "markdown",
      "metadata": {
        "id": "ftJt9auUxi8-"
      },
      "source": [
        "#### USE plotting fn"
      ]
    },
    {
      "cell_type": "code",
      "metadata": {
        "id": "WdstTTr5rdL5",
        "colab": {
          "base_uri": "https://localhost:8080/",
          "height": 0
        },
        "outputId": "694b6ab9-a01a-40fe-f133-55e3b248760d"
      },
      "source": [
        "\n",
        "def vizjobs_googleUSE(viz_df, text_col_name, USE_embedding, save_plot=False, h=720,\n",
        "                          query_name=\"\", show_text=False, viz_type=\"TSNE\"):\n",
        "\n",
        "    today = date.today()\n",
        "    # Month abbreviation, day and year\t\n",
        "    td_str = today.strftime(\"%b-%d-%Y\")\n",
        "\n",
        "    # generate embeddings for google USE. USE_embedding MUST be passed in\n",
        "    embeddings = USE_embedding(viz_df[text_col_name])  # create list from np arrays\n",
        "    use = np.array(embeddings).tolist()  # add lists as dataframe column\n",
        "    viz_df['use_vec'] = use\n",
        "\n",
        "    # get optimal number of kmeans. limit max to 15 for interpretability\n",
        "    max_clusters = 15\n",
        "    if len(viz_df['use_vec']) < max_clusters: max_clusters = len(viz_df['use_vec'])\n",
        "\n",
        "    kmeans_numC = optimal_num_clustas(viz_df['use_vec'], \n",
        "                                      d_title='google_USE-' + query_name, \n",
        "                                      top_end=max_clusters)\n",
        "    \n",
        "    # complete k-means clustering + pca dim red. w/ use_vec\n",
        "    if kmeans_numC is None:\n",
        "        kmeans_numC = 5 \n",
        "\n",
        "    viz_df['kmeans'] = (\n",
        "        viz_df['use_vec']\n",
        "        .pipe(hero.kmeans, n_clusters=kmeans_numC, \n",
        "              algorithm=\"elkan\", random_state=42, n_init=30)\n",
        "        .astype(str)\n",
        "    )\n",
        "\n",
        "    # use the vector for dimensionality reduction\n",
        "\n",
        "    if viz_type.lower() == \"tsne\":\n",
        "        viz_df['TSNE'] = (\n",
        "                        viz_df['use_vec']\n",
        "                                        .pipe(hero.tsne, random_state=42)\n",
        "        )\n",
        "    else:\n",
        "        viz_df['pca'] = (\n",
        "                        viz_df['use_vec']\n",
        "                                        .pipe(hero.pca)\n",
        "        )\n",
        "\n",
        "\n",
        "    # generate list of column names for hover_data in the html plot\n",
        "\n",
        "    hv_list = list(viz_df.columns)\n",
        "    hv_list.remove('use_vec')\n",
        "\n",
        "    if \"tfidf\" in hv_list:\n",
        "        hv_list.remove('tfidf')\n",
        "    if \"pca\" in hv_list:\n",
        "        hv_list.remove('pca')\n",
        "    if \"TSNE\" in hv_list:\n",
        "        hv_list.remove('TSNE')\n",
        "    if \"summary\" in hv_list:\n",
        "        hv_list.remove('summary')\n",
        "\n",
        "    # reformat data so don't have to use texthero built-in plotting \n",
        "\n",
        "    if viz_type.lower() == \"tsne\":\n",
        "        # TSNE reformat\n",
        "        df_split_tsne = pd.DataFrame(viz_df[\"TSNE\"].to_list(), \n",
        "                                    columns=['tsne_x', 'tsne_y'])\n",
        "        viz_df.drop(columns=\"TSNE\", inplace=True) # drop original PCA column\n",
        "        viz_df = pd.concat([viz_df, df_split_tsne], axis=1) # merge dataframes\n",
        "    else:\n",
        "        # PCA reformat\n",
        "        df_split_pca = pd.DataFrame(viz_df[\"pca\"].to_list(), \n",
        "                                    columns=['pca_x', 'pca_y'])\n",
        "        viz_df.drop(columns=\"pca\", inplace=True) # drop original PCA column\n",
        "        viz_df = pd.concat([viz_df, df_split_pca], axis=1) # merge dataframes\n",
        "\n",
        "    # set up plot pars (width, title, text)\n",
        "    w = int(h * (4/3))\n",
        "\n",
        "    if len(query_name) > 0:\n",
        "        # user provided query_name so include\n",
        "        plot_title = td_str + \" viz Jobs by '{}' via google USE + {}\".format(text_col_name, \n",
        "                                                                              viz_type) + \" | \" + query_name\n",
        "    else:\n",
        "        plot_title = td_str + \" viz Jobs by '{}' via google USE {}\".format(text_col_name,\n",
        "                                                                              viz_type)\n",
        "    if show_text:\n",
        "        # adds company names to the plot if you want\n",
        "        viz_df[\"companies_abbrev\"] = viz_df[\"companies\"].apply(text_first_N, num=15)\n",
        "        graph_text_label = \"companies_abbrev\"\n",
        "    else:\n",
        "        graph_text_label = None\n",
        "\n",
        "    # setup labels (decides pca or tsne)\n",
        "    if viz_type.lower() == \"tsne\":\n",
        "        plt_coords = ['tsne_x', 'tsne_y']\n",
        "    else:\n",
        "        plt_coords = ['pca_x', 'pca_y']\n",
        "    \n",
        "    # plot dimension-reduced data\n",
        "\n",
        "    viz_df.dropna(inplace=True)\n",
        "\n",
        "    fig_use = px.scatter(viz_df, x= plt_coords[0], y=plt_coords[1], color=\"kmeans\", \n",
        "                     hover_data=hv_list, title=plot_title, height=h, width=w,\n",
        "                     template=\"plotly_dark\", text=graph_text_label)\n",
        "    fig_use.show()\n",
        "\n",
        "    # save if requested \n",
        "    \n",
        "    if save_plot:\n",
        "        # saves the HTML file \n",
        "        # auto-saving as a static image is a lil difficult so just click on the interactive\n",
        "        # plot it generates \n",
        "        fig_use.write_html(plot_title + query_name + \"_\" + text_col_name + \".html\", \n",
        "                       include_plotlyjs=True)\n",
        "\n",
        "    print(\"plot generated - \", datetime.now())"
      ],
      "execution_count": 13,
      "outputs": [
        {
          "output_type": "display_data",
          "data": {
            "text/html": [
              "\n",
              "  <style>\n",
              "    pre {\n",
              "        white-space: pre-wrap;\n",
              "    }\n",
              "  </style>\n",
              "  "
            ],
            "text/plain": [
              "<IPython.core.display.HTML object>"
            ]
          },
          "metadata": {}
        }
      ]
    },
    {
      "cell_type": "markdown",
      "metadata": {
        "id": "iXLtpj2BMvld"
      },
      "source": [
        "---"
      ]
    },
    {
      "cell_type": "markdown",
      "metadata": {
        "id": "uXL23kllsMn8"
      },
      "source": [
        "---"
      ]
    },
    {
      "cell_type": "markdown",
      "metadata": {
        "id": "rC593SxF473a"
      },
      "source": [
        "## CH get_jobs() general fn\n",
        "\n",
        "The main function find_jobs_from() adjusted to work for CH\n",
        "\n",
        "\n",
        "<font color='orange'>if customizing this code, you need to change this</font>"
      ]
    },
    {
      "cell_type": "code",
      "metadata": {
        "id": "6ujVfjl91mVh",
        "colab": {
          "base_uri": "https://localhost:8080/",
          "height": 0
        },
        "outputId": "7726d7cf-399a-47cd-9757-aebea141b842"
      },
      "source": [
        "from datetime import date\n",
        "import pprint as pp\n",
        "\n",
        "today = date.today()\n",
        "# Month abbreviation, day and year\t\n",
        "d4 = today.strftime(\"%b-%d-%Y\")\n",
        "\n",
        "default_filename = d4 + \"_[raw]_scraped_jobs_CH.xls\"\n",
        "\n",
        "def find_CHjobs_from(website, desired_characs, job_query, job_type=None, \n",
        "                   language=None, filename=default_filename, verbose=False):    \n",
        "    \"\"\"\n",
        "    This function extracts all the desired characteristics of all new job postings\n",
        "    of the title and location specified and returns them in single file.\n",
        "    The arguments it takes are:\n",
        "        - Website: to specify which website to search (options: 'indeed' or 'indeed_default')\n",
        "        - job_query: words that you want to narrow down the jobs to. for example 'data'\n",
        "        - job_type: 'internship' or 'fulltime' or 'permanent'\n",
        "        - language: 'en' or 'de' or leave blank\n",
        "        - Desired_characs: this is a list of the job characteristics of interest,\n",
        "            from titles, companies, links and date_listed.\n",
        "        - Filename: default is \"JS_test_results.xls\", can be changed to whatever \n",
        "    \"\"\"\n",
        "    \n",
        "    if website == 'indeed':\n",
        "        sp_search = load_indeed_jobs_CH(job_query, \n",
        "                                       job_type=job_type, language=language)\n",
        "        job_soup = sp_search.get(\"job_soup\")\n",
        "        URL_used = sp_search.get(\"query_URL\")\n",
        "\n",
        "        if verbose:\n",
        "            print(\"\\n The full HTML docs are: \\n\")\n",
        "            pp.pprint(job_soup, compact=True)\n",
        "        jobs_list, num_listings = extract_job_information_indeedCH(job_soup, \n",
        "                                                                   desired_characs,\n",
        "                                                                   uURL=URL_used)\n",
        "    elif website == 'indeed_default':\n",
        "        sp_search = load_indeed_jobs_CH(job_query, run_default=True)\n",
        "        job_soup = sp_search.get(\"job_soup\")\n",
        "        URL_used = sp_search.get(\"query_URL\")\n",
        "        if verbose:\n",
        "            print(\"\\n The full HTML docs are: \\n\")\n",
        "            pp.pprint(job_soup, compact=True)\n",
        "\n",
        "        jobs_list, num_listings = extract_job_information_indeedCH(job_soup, \n",
        "                                                                   desired_characs,\n",
        "                                                                   uURL=URL_used)\n",
        "\n",
        "    job_df = save_jobs_to_excel(jobs_list, filename)\n",
        " \n",
        "    print('{} new job postings retrieved from {}. Stored in {}.'.format(num_listings, \n",
        "                                                                          website, filename))\n",
        "    \n",
        "    return job_df\n",
        "        "
      ],
      "execution_count": 14,
      "outputs": [
        {
          "output_type": "display_data",
          "data": {
            "text/html": [
              "\n",
              "  <style>\n",
              "    pre {\n",
              "        white-space: pre-wrap;\n",
              "    }\n",
              "  </style>\n",
              "  "
            ],
            "text/plain": [
              "<IPython.core.display.HTML object>"
            ]
          },
          "metadata": {}
        }
      ]
    },
    {
      "cell_type": "markdown",
      "metadata": {
        "id": "OLwW1mEe2P9F"
      },
      "source": [
        "## Indeed-scraping\n",
        "\n",
        "<font color='orange'>if customizing this code, you *may* need to change these </font>"
      ]
    },
    {
      "cell_type": "markdown",
      "metadata": {
        "id": "WViuK5h3eDFc"
      },
      "source": [
        "### main job scraping fn\n",
        "\n",
        "\n",
        "links used for testing / figuring out URL structure\n",
        "\n",
        "```\n",
        "website = \"https://ch.indeed.com/Switzerland-English-Jobs\"\n",
        "base ->\n",
        "example search https://ch.indeed.com/Stellen?q=Switzerland+English&jt=internship\n",
        "data job, language = EN, no others: https://ch.indeed.com/Stellen?q=data&lang=en\n",
        "^ but internship https://ch.indeed.com/Stellen?q=data&jt=internship&lang=en\n",
        "```"
      ]
    },
    {
      "cell_type": "code",
      "metadata": {
        "id": "rNpH9i8awJNX",
        "colab": {
          "base_uri": "https://localhost:8080/",
          "height": 0
        },
        "outputId": "5301fb11-79ad-4e28-8713-15b70f2dd922"
      },
      "source": [
        "## added by Peter\n",
        "\n",
        "## indeed switzerland -------------------------------------------------------\n",
        "\n",
        "def load_indeed_jobs_CH(job_query, job_type=None, language=None, \n",
        "                        run_default=False):\n",
        "    i_website = \"https://ch.indeed.com/Stellen?\"\n",
        "    def_website = \"https://ch.indeed.com/Stellen?q=Switzerland+English&jt=internship\"\n",
        "    if run_default:\n",
        "        # switzerland has a unique page shown below, can run by default\n",
        "        # website = \"https://ch.indeed.com/Switzerland-English-Jobs\"\n",
        "\n",
        "        getVars = {'fromage' : 'last', \"limit\": '50', 'sort' : 'date'}\n",
        "\n",
        "        url = (def_website + urllib.parse.urlencode(getVars))\n",
        "        page = requests.get(url)\n",
        "        soup = BeautifulSoup(page.content, \"html.parser\")\n",
        "        job_soup = soup.find(id=\"resultsCol\")\n",
        "    else:\n",
        "        getVars = {'q' : job_query, 'jt' : job_type, 'lang' : language,\n",
        "                'fromage' : 'last', \"limit\": '50', 'sort' : 'date'}\n",
        "\n",
        "        # if values are not specified, then remove them from the dict (and URL)\n",
        "        if job_query is None:\n",
        "            del getVars['q']\n",
        "        if job_type is None:\n",
        "            del getVars['jt']\n",
        "        if language is None:\n",
        "            del getVars['lang']\n",
        "\n",
        "        url = (i_website + urllib.parse.urlencode(getVars))\n",
        "        page = requests.get(url)\n",
        "        soup = BeautifulSoup(page.content, \"html.parser\")\n",
        "        job_soup = soup.find(id=\"resultsCol\")\n",
        "\n",
        "    # return the job soup\n",
        "\n",
        "    soup_results = {\n",
        "        \"job_soup\": job_soup,\n",
        "        \"query_URL\": url\n",
        "\n",
        "    }\n",
        "    return soup_results\n",
        "\n",
        "\n"
      ],
      "execution_count": 15,
      "outputs": [
        {
          "output_type": "display_data",
          "data": {
            "text/html": [
              "\n",
              "  <style>\n",
              "    pre {\n",
              "        white-space: pre-wrap;\n",
              "    }\n",
              "  </style>\n",
              "  "
            ],
            "text/plain": [
              "<IPython.core.display.HTML object>"
            ]
          },
          "metadata": {}
        }
      ]
    },
    {
      "cell_type": "markdown",
      "metadata": {
        "id": "1JtsmHpceIly"
      },
      "source": [
        "### helper / parsing functions\n"
      ]
    },
    {
      "cell_type": "code",
      "metadata": {
        "id": "dCZ31s1R2RJ-",
        "colab": {
          "base_uri": "https://localhost:8080/",
          "height": 0
        },
        "outputId": "9b465655-7b41-415f-c922-4b4dd3d51263"
      },
      "source": [
        "import pprint as pp\n",
        "\n",
        "def_URL = \"https://ch.indeed.com/Stellen?\" + \"ADD_queries_here\" \n",
        "\n",
        "def extract_job_information_indeedCH(job_soup, desired_characs, uURL=def_URL, \n",
        "                                     verbose=False, print_all=False):\n",
        "    # job_elems = job_soup.find_all('div', class_='mosaic-zone-jobcards')\n",
        "    job_elems = job_soup.find_all('div', class_=\"job_seen_beacon\")\n",
        "\n",
        "    if print_all:\n",
        "        print(\"\\nAll found 'job elements' are as follows: \\n\")\n",
        "        pp.pprint(job_elems, compact=True)\n",
        "    \n",
        "    with open('job_elements.txt', 'w') as f:\n",
        "        # save to text file for investigation\n",
        "        print(job_elems, file=f)\n",
        "    \n",
        "    cols = []\n",
        "    extracted_info = []\n",
        "    \n",
        "    \n",
        "    if 'titles' in desired_characs:\n",
        "        titles = []\n",
        "        cols.append('titles')\n",
        "        for job_elem in job_elems:\n",
        "            titles.append(extract_job_title_indeed(job_elem,\n",
        "                                                   verbose=verbose))\n",
        "        extracted_info.append(titles)                    \n",
        "    \n",
        "    if 'companies' in desired_characs:\n",
        "        companies = []\n",
        "        cols.append('companies')\n",
        "        for job_elem in job_elems:\n",
        "            companies.append(extract_company_indeed(job_elem))\n",
        "        extracted_info.append(companies)\n",
        "    \n",
        "    if 'date_listed' in desired_characs:\n",
        "        dates = []\n",
        "        cols.append('date_listed')\n",
        "        for job_elem in job_elems:\n",
        "            dates.append(extract_date_indeed(job_elem))\n",
        "        extracted_info.append(dates)\n",
        "    \n",
        "    if 'summary' in desired_characs:\n",
        "        summaries = []\n",
        "        cols.append('summary')\n",
        "        for job_elem in job_elems:\n",
        "            summaries.append(extract_summary_indeed(job_elem))\n",
        "        extracted_info.append(summaries)\n",
        "\n",
        "    if 'links' in desired_characs:\n",
        "        links = []\n",
        "        cols.append('links')\n",
        "        for job_elem in job_elems:\n",
        "            links.append(extract_link_indeedCH(job_elem, uURL))\n",
        "        extracted_info.append(links)\n",
        "    \n",
        "    jobs_list = {}\n",
        "    \n",
        "    for j in range(len(cols)):\n",
        "        jobs_list[cols[j]] = extracted_info[j]\n",
        "    \n",
        "    num_listings = len(extracted_info[0])\n",
        "    \n",
        "    return jobs_list, num_listings\n",
        "\n",
        "\n",
        "def extract_job_title_indeed(job_elem, verbose=False):\n",
        "    title_elem = job_elem.select_one(\"span[title]\").text\n",
        "    if verbose: print(title_elem)\n",
        "    try:\n",
        "        title = title_elem.strip()\n",
        "    except:\n",
        "        title=\"no title\"\n",
        "    return title\n",
        "\n",
        "def extract_company_indeed(job_elem):\n",
        "    company_elem = job_elem.find('span', class_='companyName')\n",
        "    company = company_elem.text.strip()\n",
        "    return company\n",
        "\n",
        "def extract_link_indeedCH(job_elem, uURL):\n",
        "    # some manual shenanigans occur here\n",
        "    # working example https://ch.indeed.com/Stellen?q=data&jt=internship&lang=en&vjk=49ed864bd5e422fb\n",
        "\n",
        "    link = job_elem.find('a')['href']\n",
        "    uURL_list = uURL.split(\"&fromage=last\")\n",
        "    link = uURL_list[0] + \"&\" + link\n",
        "    # replace some text so that the link has a virtual job key. Found via trial and error\n",
        "    return link.replace(\"/rc/clk?jk=\", \"vjk=\")\n",
        "\n",
        "def extract_date_indeed(job_elem):\n",
        "    date_elem = job_elem.find('span', class_='date')\n",
        "    date = date_elem.text.strip()\n",
        "    return date\n",
        "\n",
        "def extract_summary_indeed(job_elem):\n",
        "    summary_elem = job_elem.find('div', class_='job-snippet')\n",
        "    summary = summary_elem.text.strip()\n",
        "    return summary\n",
        "\n"
      ],
      "execution_count": 16,
      "outputs": [
        {
          "output_type": "display_data",
          "data": {
            "text/html": [
              "\n",
              "  <style>\n",
              "    pre {\n",
              "        white-space: pre-wrap;\n",
              "    }\n",
              "  </style>\n",
              "  "
            ],
            "text/plain": [
              "<IPython.core.display.HTML object>"
            ]
          },
          "metadata": {}
        }
      ]
    },
    {
      "cell_type": "markdown",
      "metadata": {
        "id": "9x8_xHCyeMVy"
      },
      "source": [
        "### postprocess\n",
        "\n",
        "1. input dataframe of scraped jobs from indeed\n",
        "2. ???\n",
        "3. output sexy_df"
      ]
    },
    {
      "cell_type": "code",
      "metadata": {
        "id": "MKrodaoTeaRU",
        "colab": {
          "base_uri": "https://localhost:8080/",
          "height": 0
        },
        "outputId": "e324c84d-92ba-486b-c282-133bbab5da14"
      },
      "source": [
        "from google.colab import files\n",
        "from datetime import datetime\n",
        "\n",
        "def indeed_postprocess(i_df, query_term, query_jobtype, verbose=False,\n",
        "                       shorten_links=False, download_excel=False):\n",
        "    print(\"Starting postprocess - \", datetime.now())\n",
        "\n",
        "    # apply texthero cleaning\n",
        "    i_df[\"titles\"] = hero.clean(i_df[\"titles\"])\n",
        "    i_df[\"summary\"] = hero.clean(i_df[\"summary\"])\n",
        "\n",
        "    # use bit.ly to shorten links\n",
        "    if shorten_links:\n",
        "        try:\n",
        "            len(i_df[\"short_link\"])\n",
        "            print(\"found values for short_link, not-recreating\")\n",
        "        except:\n",
        "            print(\"no values exist for short_link, creating them now\")\n",
        "            # there is a random delay to not overload APIs, max rt is 5s * num_rows\n",
        "            i_df[\"short_link\"] = i_df[\"links\"].apply(shorten_URL_bitly) \n",
        "    else:\n",
        "        i_df[\"short_link\"] = \"not_created\"\n",
        "\n",
        "    # save file to excel\n",
        "    rn = datetime.now()\n",
        "    i_PP_date = rn.strftime(\"_%m.%d.%Y-%H-%M_\")\n",
        "    i_df[\"date_pulled\"] = rn.strftime(\"%m.%d.%Y\")\n",
        "    i_df[\"time_pulled\"] = rn.strftime(\"%H:%M:%S\")\n",
        "    out_name = \"JS_DB_\" + \"query=[term(s)=\" + query_term + \", type=\" + query_jobtype + \"]\" + i_PP_date + \".xlsx\"\n",
        "    i_df.to_excel(out_name)\n",
        "    if verbose: print(\"Saved {} - \".format(out_name), datetime.now())\n",
        "\n",
        "    # download if requested\n",
        "    if download_excel:\n",
        "        files.download(out_name)\n",
        "        if verbose: print(\"Downloaded {} - \".format(out_name), datetime.now())\n",
        "\n",
        "\n",
        "    return i_df"
      ],
      "execution_count": 17,
      "outputs": [
        {
          "output_type": "display_data",
          "data": {
            "text/html": [
              "\n",
              "  <style>\n",
              "    pre {\n",
              "        white-space: pre-wrap;\n",
              "    }\n",
              "  </style>\n",
              "  "
            ],
            "text/plain": [
              "<IPython.core.display.HTML object>"
            ]
          },
          "metadata": {}
        }
      ]
    },
    {
      "cell_type": "markdown",
      "metadata": {
        "id": "WEfJ6a8Plg4l"
      },
      "source": [
        "quick printout of the datatable"
      ]
    },
    {
      "cell_type": "code",
      "metadata": {
        "id": "3CzjUiTkikDa",
        "colab": {
          "base_uri": "https://localhost:8080/",
          "height": 0
        },
        "outputId": "1aef61a4-a91a-451d-b004-3b14650386c5"
      },
      "source": [
        "def indeed_datatable(i_df, count_what=\"companies\", freq_n=10):\n",
        "    # basically just wrote this to reduce code down below\n",
        "    # depends on the colab data_table.DataTable()\n",
        "    \n",
        "    print(\"Count of column '{}' appearances in search:\\n\".format(count_what))\n",
        "    comp_list_1 = i_df[count_what].value_counts()\n",
        "    pp.pprint(comp_list_1.head(freq_n), compact=True)  \n",
        "\n",
        "    i_df_disp = i_df.copy()\n",
        "    i_df_disp[\"summary_short\"] = i_df_disp[\"summary\"].apply(text_first_N)\n",
        "    i_df_disp.drop(columns=[\"links\", \"summary\"], inplace=True) # drop verbose columns\n",
        "\n",
        "    return i_df_disp \n",
        "\n",
        "    # i_df_disp for use inside \n",
        "    # data_table.DataTable(i_df_disp, \n",
        "                        #  include_index=False, num_rows_per_page=table_n)\n"
      ],
      "execution_count": 18,
      "outputs": [
        {
          "output_type": "display_data",
          "data": {
            "text/html": [
              "\n",
              "  <style>\n",
              "    pre {\n",
              "        white-space: pre-wrap;\n",
              "    }\n",
              "  </style>\n",
              "  "
            ],
            "text/plain": [
              "<IPython.core.display.HTML object>"
            ]
          },
          "metadata": {}
        }
      ]
    },
    {
      "cell_type": "markdown",
      "metadata": {
        "id": "GhZ8o2jrsTIQ"
      },
      "source": [
        "---"
      ]
    },
    {
      "cell_type": "markdown",
      "metadata": {
        "id": "hV_apCm-iUXu"
      },
      "source": [
        "# Main"
      ]
    },
    {
      "cell_type": "markdown",
      "metadata": {
        "id": "RHCmgk5Hm4yj"
      },
      "source": [
        "## parameters"
      ]
    },
    {
      "cell_type": "markdown",
      "metadata": {
        "id": "S7SI68Z0NEd7"
      },
      "source": [
        "## key settings"
      ]
    },
    {
      "cell_type": "code",
      "metadata": {
        "colab": {
          "base_uri": "https://localhost:8080/",
          "height": 17
        },
        "cellView": "form",
        "id": "ffVCiozMNEd7",
        "outputId": "b27051e6-4083-47b6-d997-fe3cfac46df0"
      },
      "source": [
        "# define whether or not to shorten links\n",
        "shorten_key = False #@param {type:\"boolean\"}\n",
        "# define whether or not to download excel versions of the files\n",
        "# download_key = for specific searches deemed relevant\n",
        "# download_all includes all searches\n",
        "download_key = True #@param {type:\"boolean\"}\n",
        "download_all = False #@param {type:\"boolean\"}\n",
        "\n",
        "# determines columns in output dataframe post-scraping\n",
        "desired_characs = ['titles', 'companies', 'links', \n",
        "                   'date_listed', 'summary']"
      ],
      "execution_count": 19,
      "outputs": [
        {
          "output_type": "display_data",
          "data": {
            "text/html": [
              "\n",
              "  <style>\n",
              "    pre {\n",
              "        white-space: pre-wrap;\n",
              "    }\n",
              "  </style>\n",
              "  "
            ],
            "text/plain": [
              "<IPython.core.display.HTML object>"
            ]
          },
          "metadata": {}
        }
      ]
    },
    {
      "cell_type": "markdown",
      "metadata": {
        "id": "G9d6yv2i8kHq"
      },
      "source": [
        "### set and load models"
      ]
    },
    {
      "cell_type": "code",
      "metadata": {
        "colab": {
          "base_uri": "https://localhost:8080/",
          "height": 34
        },
        "id": "G38bq8ab8kcx",
        "cellView": "form",
        "outputId": "04705cda-1aba-4a47-f05e-911fe33e00a0"
      },
      "source": [
        "using_google_USE = True #@param {type:\"boolean\"}\n",
        "using_gensim_w2v = False #@param {type:\"boolean\"}\n",
        "\n",
        "# only load models declared as used\n",
        "\n",
        "if using_google_USE:\n",
        "    meine_embeddings = load_google_USE()\n",
        "\n",
        "if using_gensim_w2v:\n",
        "    w2v_model = load_gensim_word2vec()"
      ],
      "execution_count": 20,
      "outputs": [
        {
          "output_type": "display_data",
          "data": {
            "text/html": [
              "\n",
              "  <style>\n",
              "    pre {\n",
              "        white-space: pre-wrap;\n",
              "    }\n",
              "  </style>\n",
              "  "
            ],
            "text/plain": [
              "<IPython.core.display.HTML object>"
            ]
          },
          "metadata": {}
        },
        {
          "output_type": "stream",
          "name": "stdout",
          "text": [
            "loaded google USE embeddings in 0.3 minutes\n"
          ]
        }
      ]
    },
    {
      "cell_type": "markdown",
      "metadata": {
        "id": "3IMX9kI95Awh"
      },
      "source": [
        "## Swiss Jobs - Indeed\n",
        "\n",
        "```\n",
        "This function extracts all the desired characteristics of all new job postings\n",
        "    of the title and location specified and returns them in single file.\n",
        "The arguments it takes are:\n",
        "\n",
        "    - Website: to specify which website to search \n",
        "        - (options: 'indeed' or 'indeed_default')\n",
        "    - job_query: words that you want to narrow down the jobs to. \n",
        "        - for example 'data'\n",
        "    - job_type: \n",
        "        - 'internship' or 'fulltime' or 'permanent'\n",
        "    - language: \n",
        "        - 'en' or 'de' or other languages.. 'fr'? ew\n",
        "    - Desired_characs: what columns of data do you want to extract? options are:\n",
        "        - 'titles', 'companies', 'links', 'date_listed', 'summary'\n",
        "    - Filename: default is \"JS_test_results.xls\", can be changed to whatever \n",
        "```\n"
      ]
    },
    {
      "cell_type": "markdown",
      "metadata": {
        "id": "h9RngcapfT9D"
      },
      "source": [
        "### query 1 - internship in \"data\""
      ]
    },
    {
      "cell_type": "code",
      "metadata": {
        "colab": {
          "base_uri": "https://localhost:8080/",
          "height": 17
        },
        "cellView": "form",
        "id": "VHv0KhDfNXQ9",
        "outputId": "df5c4ec6-cc17-4c61-e2bb-c05b7803b5d8"
      },
      "source": [
        "jq1 = \"data\" #@param {type:\"string\"}\n",
        "jt1 = \"internship\" #@param {type:\"string\"}\n",
        "lan = \"en\" #@param {type:\"string\"}\n"
      ],
      "execution_count": 21,
      "outputs": [
        {
          "output_type": "display_data",
          "data": {
            "text/html": [
              "\n",
              "  <style>\n",
              "    pre {\n",
              "        white-space: pre-wrap;\n",
              "    }\n",
              "  </style>\n",
              "  "
            ],
            "text/plain": [
              "<IPython.core.display.HTML object>"
            ]
          },
          "metadata": {}
        }
      ]
    },
    {
      "cell_type": "code",
      "metadata": {
        "id": "nLme2DE05A8J",
        "colab": {
          "base_uri": "https://localhost:8080/",
          "height": 1080
        },
        "outputId": "a2b75f7e-aed7-4563-e9a8-52d78bfebe84"
      },
      "source": [
        "from google.colab import data_table\n",
        "\n",
        "# variables for fn defined in form above\n",
        "\n",
        "chdf1 = find_CHjobs_from(website=\"indeed\", desired_characs=desired_characs, \n",
        "                         job_query=jq1, job_type=jt1, language=lan)\n",
        "\n",
        "q1_processed = indeed_postprocess(chdf1, query_term=jq1, query_jobtype=jt1,\n",
        "                       shorten_links=shorten_key, download_excel=download_key)\n",
        "\n",
        "data_table.DataTable(indeed_datatable(q1_processed), \n",
        "                     include_index=False, num_rows_per_page=20)"
      ],
      "execution_count": 22,
      "outputs": [
        {
          "output_type": "display_data",
          "data": {
            "text/html": [
              "\n",
              "  <style>\n",
              "    pre {\n",
              "        white-space: pre-wrap;\n",
              "    }\n",
              "  </style>\n",
              "  "
            ],
            "text/plain": [
              "<IPython.core.display.HTML object>"
            ]
          },
          "metadata": {}
        },
        {
          "output_type": "stream",
          "name": "stdout",
          "text": [
            "50 new job postings retrieved from indeed. Stored in Nov-14-2021_[raw]_scraped_jobs_CH.xls.\n",
            "Starting postprocess -  2021-11-14 17:56:28.350211\n"
          ]
        },
        {
          "output_type": "display_data",
          "data": {
            "application/javascript": [
              "\n",
              "    async function download(id, filename, size) {\n",
              "      if (!google.colab.kernel.accessAllowed) {\n",
              "        return;\n",
              "      }\n",
              "      const div = document.createElement('div');\n",
              "      const label = document.createElement('label');\n",
              "      label.textContent = `Downloading \"${filename}\": `;\n",
              "      div.appendChild(label);\n",
              "      const progress = document.createElement('progress');\n",
              "      progress.max = size;\n",
              "      div.appendChild(progress);\n",
              "      document.body.appendChild(div);\n",
              "\n",
              "      const buffers = [];\n",
              "      let downloaded = 0;\n",
              "\n",
              "      const channel = await google.colab.kernel.comms.open(id);\n",
              "      // Send a message to notify the kernel that we're ready.\n",
              "      channel.send({})\n",
              "\n",
              "      for await (const message of channel.messages) {\n",
              "        // Send a message to notify the kernel that we're ready.\n",
              "        channel.send({})\n",
              "        if (message.buffers) {\n",
              "          for (const buffer of message.buffers) {\n",
              "            buffers.push(buffer);\n",
              "            downloaded += buffer.byteLength;\n",
              "            progress.value = downloaded;\n",
              "          }\n",
              "        }\n",
              "      }\n",
              "      const blob = new Blob(buffers, {type: 'application/binary'});\n",
              "      const a = document.createElement('a');\n",
              "      a.href = window.URL.createObjectURL(blob);\n",
              "      a.download = filename;\n",
              "      div.appendChild(a);\n",
              "      a.click();\n",
              "      div.remove();\n",
              "    }\n",
              "  "
            ],
            "text/plain": [
              "<IPython.core.display.Javascript object>"
            ]
          },
          "metadata": {}
        },
        {
          "output_type": "display_data",
          "data": {
            "application/javascript": [
              "download(\"download_9d15931e-c645-4b66-90b6-5225ade6d8a1\", \"JS_DB_query=[term(s)=data, type=internship]_11.14.2021-17-56_.xlsx\", 10793)"
            ],
            "text/plain": [
              "<IPython.core.display.Javascript object>"
            ]
          },
          "metadata": {}
        },
        {
          "output_type": "stream",
          "name": "stdout",
          "text": [
            "Count of column 'companies' appearances in search:\n",
            "\n",
            "EY                             18\n",
            "Novartis                        6\n",
            "SCOTT SPORTS                    3\n",
            "Philip Morris International     2\n",
            "We make it                      1\n",
            "Sygnum Bank AG                  1\n",
            "Exnaton AG, ETH Spinoff         1\n",
            "Honeywell                       1\n",
            "Texas Instruments               1\n",
            "Siemens                         1\n",
            "Name: companies, dtype: int64\n"
          ]
        },
        {
          "output_type": "execute_result",
          "data": {
            "application/vnd.google.colaboratory.module+javascript": "\n      import \"https://ssl.gstatic.com/colaboratory/data_table/a6224c040fa35dcf/data_table.js\";\n\n      window.createDataTable({\n        data: [[\"intern environment affairs temporary\",\n\"United Nations\",\n\"vor 1 Tag\",\n\"not_created\",\n\"11.14.2021\",\n\"17:56:28\",\n\"knowledge risk unit gathers compiles ana..\"],\n [\"internship data analysis engineer\",\n\"greenTEG AG\",\n\"vor 1 Tag\",\n\"not_created\",\n\"11.14.2021\",\n\"17:56:28\",\n\"goals reliable actionable data intuitive..\"],\n [\"internship software engineer\",\n\"Second Spectrum\",\n\"vor 1 Tag\",\n\"not_created\",\n\"11.14.2021\",\n\"17:56:28\",\n\"work projects related development optimi..\"],\n [\"tm data science academy fellow\",\n\"Novartis\",\n\"vor 2 Tagen\",\n\"not_created\",\n\"11.14.2021\",\n\"17:56:28\",\n\"experience reproducible data science too..\"],\n [\"emea procurement manager internship procurement lea\",\n\"Johnson & Johnson Family of Companies\",\n\"vor 2 Tagen\",\n\"not_created\",\n\"11.14.2021\",\n\"17:56:28\",\n\"procurement leadership development progr..\"],\n [\"intern enabling business global agile projects\",\n\"Siemens\",\n\"vor 2 Tagen\",\n\"not_created\",\n\"11.14.2021\",\n\"17:56:28\",\n\"support po' project management tasks wit..\"],\n [\"internship digital innovation\",\n\"TotalEnergies\",\n\"vor 2 Tagen\",\n\"not_created\",\n\"11.14.2021\",\n\"17:56:28\",\n\"contribute improve data capture data ana..\"],\n [\"crm data scientist internship\",\n\"Tally Weijl\",\n\"vor 3 Tagen\",\n\"not_created\",\n\"11.14.2021\",\n\"17:56:28\",\n\"collaborate across services deliver data..\"],\n [\"postgraduate lv producer cell line engineering\",\n\"Novartis\",\n\"vor 3 Tagen\",\n\"not_created\",\n\"11.14.2021\",\n\"17:56:28\",\n\"collection analysis experimental data pr..\"],\n [\"field applications engineering intern switzerland\",\n\"Texas Instruments\",\n\"vor 3 Tagen\",\n\"not_created\",\n\"11.14.2021\",\n\"17:56:28\",\n\"knowledge understanding analog circuitry..\"],\n [\"senior manager learning transformation geneva basel\",\n\"EY\",\n\"vor 3 Tagen\",\n\"not_created\",\n\"11.14.2021\",\n\"17:56:28\",\n\"member learning change team working high..\"],\n [\"manager learning transformation geneva basel zuric\",\n\"EY\",\n\"vor 3 Tagen\",\n\"not_created\",\n\"11.14.2021\",\n\"17:56:28\",\n\"member learning change team working high..\"],\n [\"senior consultant learning transformation geneva base\",\n\"EY\",\n\"vor 3 Tagen\",\n\"not_created\",\n\"11.14.2021\",\n\"17:56:28\",\n\"member learning change team working high..\"],\n [\"senior consultant financial services risk w focus resili\",\n\"EY\",\n\"vor 3 Tagen\",\n\"not_created\",\n\"11.14.2021\",\n\"17:56:28\",\n\"support clients solutions identify asses..\"],\n [\"enterprise risk senior consultant zurich basel lausanne\",\n\"EY\",\n\"vor 4 Tagen\",\n\"not_created\",\n\"11.14.2021\",\n\"17:56:28\",\n\"part enterprise risk team zurich basel l..\"],\n [\"intern people talent months\",\n\"Sygnum Bank AG\",\n\"vor 4 Tagen\",\n\"not_created\",\n\"11.14.2021\",\n\"17:56:28\",\n\"beginning experience understanding human..\"],\n [\"intern covax strategic coordination office\",\n\"Gavi, the Vaccine Alliance Secretariat\",\n\"vor 5 Tagen\",\n\"not_created\",\n\"11.14.2021\",\n\"17:56:28\",\n\"experience developing evaluating quantit..\"],\n [\"research associate\",\n\"We make it\",\n\"vor 5 Tagen\",\n\"not_created\",\n\"11.14.2021\",\n\"17:56:28\",\n\"perform optimize analyze assay data usin..\"],\n [\"research intern full body capture reconstruction phd\",\n\"Meta\",\n\"vor 5 Tagen\",\n\"not_created\",\n\"11.14.2021\",\n\"17:56:28\",\n\"research topics virtual humans avatar cr..\"],\n [\"syncros marketing trainee\",\n\"SCOTT SPORTS\",\n\"vor 6 Tagen\",\n\"not_created\",\n\"11.14.2021\",\n\"17:56:28\",\n\"one goal coordinate data management cont..\"],\n [\"e bike marketing trainee\",\n\"SCOTT SPORTS\",\n\"vor 6 Tagen\",\n\"not_created\",\n\"11.14.2021\",\n\"17:56:28\",\n\"one goal coordinate data management cont..\"],\n [\"communication coordinator\",\n\"Freeride World Tour\",\n\"vor 6 Tagen\",\n\"not_created\",\n\"11.14.2021\",\n\"17:56:28\",\n\"manage data prepare communication report..\"],\n [\"research associate w\",\n\"Work Selection\",\n\"vor 6 Tagen\",\n\"not_created\",\n\"11.14.2021\",\n\"17:56:28\",\n\"perform optimize analyze assay data usin..\"],\n [\"student researcher\",\n\"Google\",\n\"vor 12 Tagen\",\n\"not_created\",\n\"11.14.2021\",\n\"17:56:28\",\n\"currently pursuing bachelor' master' phd..\"],\n [\"research innovation intern f\",\n\"SCOTT SPORTS\",\n\"vor 10 Tagen\",\n\"not_created\",\n\"11.14.2021\",\n\"17:56:28\",\n\"consolidate sports division team givisie..\"],\n [\"regional marketing internship\",\n\"Hill's Pet Nutrition\",\n\"vor 9 Tagen\",\n\"not_created\",\n\"11.14.2021\",\n\"17:56:28\",\n\"take responsibility product market compe..\"],\n [\"merchandising intern months\",\n\"Vorwerk International & Co. KmG\",\n\"vor 10 Tagen\",\n\"not_created\",\n\"11.14.2021\",\n\"17:56:28\",\n\"updating merchandising platform relevant..\"],\n [\"intern rrp tobacco processing equipment neuchatel switzerla\",\n\"Philip Morris International\",\n\"vor 12 Tagen\",\n\"not_created\",\n\"11.14.2021\",\n\"17:56:28\",\n\"support team analysing data prepare conc..\"],\n [\"forensics working student part time\",\n\"EY\",\n\"vor 7 Tagen\",\n\"not_created\",\n\"11.14.2021\",\n\"17:56:28\",\n\"assisting conducting interviews technolo..\"],\n [\"consumer profiling insights intern lausanne switzerland\",\n\"Philip Morris International\",\n\"vor 10 Tagen\",\n\"not_created\",\n\"11.14.2021\",\n\"17:56:28\",\n\"hands experience analysing large data se..\"],\n [\"intern cellular assay development\",\n\"Novartis\",\n\"vor 11 Tagen\",\n\"not_created\",\n\"11.14.2021\",\n\"17:56:28\",\n\"analyze collect experimental data presen..\"],\n [\"postgraduate aav producer cell line engineering\",\n\"Novartis\",\n\"vor 10 Tagen\",\n\"not_created\",\n\"11.14.2021\",\n\"17:56:28\",\n\"analyze collect experimental data presen..\"],\n [\"internship epm process expert\",\n\"Novartis\",\n\"vor 11 Tagen\",\n\"not_created\",\n\"11.14.2021\",\n\"17:56:28\",\n\"recent graduate bachelor master data sci..\"],\n [\"vertical marketing specialist internship\",\n\"Honeywell\",\n\"vor 9 Tagen\",\n\"not_created\",\n\"11.14.2021\",\n\"17:56:28\",\n\"support product portfolio managers ident..\"],\n [\"intern junior sales mark w\",\n\"Soci\\u00e9t\\u00e9 G\\u00e9n\\u00e9rale\",\n\"vor 10 Tagen\",\n\"not_created\",\n\"11.14.2021\",\n\"17:56:28\",\n\"managing various data bases keep track f..\"],\n [\"post doc biologics pharmaceutical development\",\n\"Novartis\",\n\"vor 10 Tagen\",\n\"not_created\",\n\"11.14.2021\",\n\"17:56:28\",\n\"consolidation evaluation data generated ..\"],\n [\"intern strategy transactions sat transaction dilig\",\n\"EY\",\n\"vor 7 Tagen\",\n\"not_created\",\n\"11.14.2021\",\n\"17:56:28\",\n\"advanced excel analytics competences rel..\"],\n [\"graduate job consultant strategy transactions transac\",\n\"EY\",\n\"vor 7 Tagen\",\n\"not_created\",\n\"11.14.2021\",\n\"17:56:28\",\n\"strategy transactions service line helps..\"],\n [\"senior consultant analytics data science technology\",\n\"EY\",\n\"vor 7 Tagen\",\n\"not_created\",\n\"11.14.2021\",\n\"17:56:28\",\n\"teams work collaboratively clients deliv..\"],\n [\"intern financial services consulting actuarial zurich\",\n\"EY\",\n\"vor 11 Tagen\",\n\"not_created\",\n\"11.14.2021\",\n\"17:56:28\",\n\"knowledge machine learning programming r..\"],\n [\"consultant emeia financial services strategy zurich st\",\n\"EY\",\n\"vor 11 Tagen\",\n\"not_created\",\n\"11.14.2021\",\n\"17:56:28\",\n\"supporting clients strategic decision ma..\"],\n [\"manager financial services risk emeia financial services\",\n\"EY\",\n\"vor 10 Tagen\",\n\"not_created\",\n\"11.14.2021\",\n\"17:56:28\",\n\"encouraged investigate new risk areas ex..\"],\n [\"senior manager leading ey switzerland blockchain di\",\n\"EY\",\n\"vor 7 Tagen\",\n\"not_created\",\n\"11.14.2021\",\n\"17:56:28\",\n\"lead development related offerings ongoi..\"],\n [\"senior consultant financial services consulting actuarial\",\n\"EY\",\n\"vor 11 Tagen\",\n\"not_created\",\n\"11.14.2021\",\n\"17:56:28\",\n\"knowledge machine learning programming r..\"],\n [\"cyber security senior manager\",\n\"EY\",\n\"vor 10 Tagen\",\n\"not_created\",\n\"11.14.2021\",\n\"17:56:28\",\n\"years proven experience delivering cyber..\"],\n [\"cyber security senior consultant\",\n\"EY\",\n\"vor 10 Tagen\",\n\"not_created\",\n\"11.14.2021\",\n\"17:56:28\",\n\"focus cyber security advisory services i..\"],\n [\"experienced consultant senior consultant emeia financial\",\n\"EY\",\n\"vor 11 Tagen\",\n\"not_created\",\n\"11.14.2021\",\n\"17:56:28\",\n\"support clients solutions identify asses..\"],\n [\"senior consultant sap agile business finance\",\n\"EY\",\n\"vor 13 Tagen\",\n\"not_created\",\n\"11.14.2021\",\n\"17:56:28\",\n\"part finance team business consulting su..\"],\n [\"biostatistics intern\",\n\"HEMEX AG\",\n\"vor 11 Tagen\",\n\"not_created\",\n\"11.14.2021\",\n\"17:56:28\",\n\"ability process computer data format gen..\"],\n [\"working student social media renewable energy startup\",\n\"Exnaton AG, ETH Spinoff\",\n\"vor 9 Tagen\",\n\"not_created\",\n\"11.14.2021\",\n\"17:56:28\",\n\"refining product company branding derive..\"]],\n        columns: [[\"string\", \"titles\"], [\"string\", \"companies\"], [\"string\", \"date_listed\"], [\"string\", \"short_link\"], [\"string\", \"date_pulled\"], [\"string\", \"time_pulled\"], [\"string\", \"summary_short\"]],\n        columnOptions: [],\n        rowsPerPage: 20,\n        helpUrl: \"https://colab.research.google.com/notebooks/data_table.ipynb\",\n        suppressOutputScrolling: true,\n        minimumWidth: undefined,\n      });\n    ",
            "text/plain": [
              "<google.colab.data_table.DataTable object>"
            ],
            "text/html": [
              "<div>\n",
              "<style scoped>\n",
              "    .dataframe tbody tr th:only-of-type {\n",
              "        vertical-align: middle;\n",
              "    }\n",
              "\n",
              "    .dataframe tbody tr th {\n",
              "        vertical-align: top;\n",
              "    }\n",
              "\n",
              "    .dataframe thead th {\n",
              "        text-align: right;\n",
              "    }\n",
              "</style>\n",
              "<table border=\"1\" class=\"dataframe\">\n",
              "  <thead>\n",
              "    <tr style=\"text-align: right;\">\n",
              "      <th></th>\n",
              "      <th>titles</th>\n",
              "      <th>companies</th>\n",
              "      <th>date_listed</th>\n",
              "      <th>short_link</th>\n",
              "      <th>date_pulled</th>\n",
              "      <th>time_pulled</th>\n",
              "      <th>summary_short</th>\n",
              "    </tr>\n",
              "  </thead>\n",
              "  <tbody>\n",
              "    <tr>\n",
              "      <th>0</th>\n",
              "      <td>intern environment affairs temporary</td>\n",
              "      <td>United Nations</td>\n",
              "      <td>vor 1 Tag</td>\n",
              "      <td>not_created</td>\n",
              "      <td>11.14.2021</td>\n",
              "      <td>17:56:28</td>\n",
              "      <td>knowledge risk unit gathers compiles ana..</td>\n",
              "    </tr>\n",
              "    <tr>\n",
              "      <th>1</th>\n",
              "      <td>internship data analysis engineer</td>\n",
              "      <td>greenTEG AG</td>\n",
              "      <td>vor 1 Tag</td>\n",
              "      <td>not_created</td>\n",
              "      <td>11.14.2021</td>\n",
              "      <td>17:56:28</td>\n",
              "      <td>goals reliable actionable data intuitive..</td>\n",
              "    </tr>\n",
              "    <tr>\n",
              "      <th>2</th>\n",
              "      <td>internship software engineer</td>\n",
              "      <td>Second Spectrum</td>\n",
              "      <td>vor 1 Tag</td>\n",
              "      <td>not_created</td>\n",
              "      <td>11.14.2021</td>\n",
              "      <td>17:56:28</td>\n",
              "      <td>work projects related development optimi..</td>\n",
              "    </tr>\n",
              "    <tr>\n",
              "      <th>3</th>\n",
              "      <td>tm data science academy fellow</td>\n",
              "      <td>Novartis</td>\n",
              "      <td>vor 2 Tagen</td>\n",
              "      <td>not_created</td>\n",
              "      <td>11.14.2021</td>\n",
              "      <td>17:56:28</td>\n",
              "      <td>experience reproducible data science too..</td>\n",
              "    </tr>\n",
              "    <tr>\n",
              "      <th>4</th>\n",
              "      <td>emea procurement manager internship procuremen...</td>\n",
              "      <td>Johnson &amp; Johnson Family of Companies</td>\n",
              "      <td>vor 2 Tagen</td>\n",
              "      <td>not_created</td>\n",
              "      <td>11.14.2021</td>\n",
              "      <td>17:56:28</td>\n",
              "      <td>procurement leadership development progr..</td>\n",
              "    </tr>\n",
              "    <tr>\n",
              "      <th>5</th>\n",
              "      <td>intern enabling business global agile projects</td>\n",
              "      <td>Siemens</td>\n",
              "      <td>vor 2 Tagen</td>\n",
              "      <td>not_created</td>\n",
              "      <td>11.14.2021</td>\n",
              "      <td>17:56:28</td>\n",
              "      <td>support po' project management tasks wit..</td>\n",
              "    </tr>\n",
              "    <tr>\n",
              "      <th>6</th>\n",
              "      <td>internship digital innovation</td>\n",
              "      <td>TotalEnergies</td>\n",
              "      <td>vor 2 Tagen</td>\n",
              "      <td>not_created</td>\n",
              "      <td>11.14.2021</td>\n",
              "      <td>17:56:28</td>\n",
              "      <td>contribute improve data capture data ana..</td>\n",
              "    </tr>\n",
              "    <tr>\n",
              "      <th>7</th>\n",
              "      <td>crm data scientist internship</td>\n",
              "      <td>Tally Weijl</td>\n",
              "      <td>vor 3 Tagen</td>\n",
              "      <td>not_created</td>\n",
              "      <td>11.14.2021</td>\n",
              "      <td>17:56:28</td>\n",
              "      <td>collaborate across services deliver data..</td>\n",
              "    </tr>\n",
              "    <tr>\n",
              "      <th>8</th>\n",
              "      <td>postgraduate lv producer cell line engineering</td>\n",
              "      <td>Novartis</td>\n",
              "      <td>vor 3 Tagen</td>\n",
              "      <td>not_created</td>\n",
              "      <td>11.14.2021</td>\n",
              "      <td>17:56:28</td>\n",
              "      <td>collection analysis experimental data pr..</td>\n",
              "    </tr>\n",
              "    <tr>\n",
              "      <th>9</th>\n",
              "      <td>field applications engineering intern switzerland</td>\n",
              "      <td>Texas Instruments</td>\n",
              "      <td>vor 3 Tagen</td>\n",
              "      <td>not_created</td>\n",
              "      <td>11.14.2021</td>\n",
              "      <td>17:56:28</td>\n",
              "      <td>knowledge understanding analog circuitry..</td>\n",
              "    </tr>\n",
              "    <tr>\n",
              "      <th>10</th>\n",
              "      <td>senior manager learning transformation geneva ...</td>\n",
              "      <td>EY</td>\n",
              "      <td>vor 3 Tagen</td>\n",
              "      <td>not_created</td>\n",
              "      <td>11.14.2021</td>\n",
              "      <td>17:56:28</td>\n",
              "      <td>member learning change team working high..</td>\n",
              "    </tr>\n",
              "    <tr>\n",
              "      <th>11</th>\n",
              "      <td>manager learning transformation geneva basel z...</td>\n",
              "      <td>EY</td>\n",
              "      <td>vor 3 Tagen</td>\n",
              "      <td>not_created</td>\n",
              "      <td>11.14.2021</td>\n",
              "      <td>17:56:28</td>\n",
              "      <td>member learning change team working high..</td>\n",
              "    </tr>\n",
              "    <tr>\n",
              "      <th>12</th>\n",
              "      <td>senior consultant learning transformation gene...</td>\n",
              "      <td>EY</td>\n",
              "      <td>vor 3 Tagen</td>\n",
              "      <td>not_created</td>\n",
              "      <td>11.14.2021</td>\n",
              "      <td>17:56:28</td>\n",
              "      <td>member learning change team working high..</td>\n",
              "    </tr>\n",
              "    <tr>\n",
              "      <th>13</th>\n",
              "      <td>senior consultant financial services risk w fo...</td>\n",
              "      <td>EY</td>\n",
              "      <td>vor 3 Tagen</td>\n",
              "      <td>not_created</td>\n",
              "      <td>11.14.2021</td>\n",
              "      <td>17:56:28</td>\n",
              "      <td>support clients solutions identify asses..</td>\n",
              "    </tr>\n",
              "    <tr>\n",
              "      <th>14</th>\n",
              "      <td>enterprise risk senior consultant zurich basel...</td>\n",
              "      <td>EY</td>\n",
              "      <td>vor 4 Tagen</td>\n",
              "      <td>not_created</td>\n",
              "      <td>11.14.2021</td>\n",
              "      <td>17:56:28</td>\n",
              "      <td>part enterprise risk team zurich basel l..</td>\n",
              "    </tr>\n",
              "    <tr>\n",
              "      <th>15</th>\n",
              "      <td>intern people talent months</td>\n",
              "      <td>Sygnum Bank AG</td>\n",
              "      <td>vor 4 Tagen</td>\n",
              "      <td>not_created</td>\n",
              "      <td>11.14.2021</td>\n",
              "      <td>17:56:28</td>\n",
              "      <td>beginning experience understanding human..</td>\n",
              "    </tr>\n",
              "    <tr>\n",
              "      <th>16</th>\n",
              "      <td>intern covax strategic coordination office</td>\n",
              "      <td>Gavi, the Vaccine Alliance Secretariat</td>\n",
              "      <td>vor 5 Tagen</td>\n",
              "      <td>not_created</td>\n",
              "      <td>11.14.2021</td>\n",
              "      <td>17:56:28</td>\n",
              "      <td>experience developing evaluating quantit..</td>\n",
              "    </tr>\n",
              "    <tr>\n",
              "      <th>17</th>\n",
              "      <td>research associate</td>\n",
              "      <td>We make it</td>\n",
              "      <td>vor 5 Tagen</td>\n",
              "      <td>not_created</td>\n",
              "      <td>11.14.2021</td>\n",
              "      <td>17:56:28</td>\n",
              "      <td>perform optimize analyze assay data usin..</td>\n",
              "    </tr>\n",
              "    <tr>\n",
              "      <th>18</th>\n",
              "      <td>research intern full body capture reconstructi...</td>\n",
              "      <td>Meta</td>\n",
              "      <td>vor 5 Tagen</td>\n",
              "      <td>not_created</td>\n",
              "      <td>11.14.2021</td>\n",
              "      <td>17:56:28</td>\n",
              "      <td>research topics virtual humans avatar cr..</td>\n",
              "    </tr>\n",
              "    <tr>\n",
              "      <th>19</th>\n",
              "      <td>syncros marketing trainee</td>\n",
              "      <td>SCOTT SPORTS</td>\n",
              "      <td>vor 6 Tagen</td>\n",
              "      <td>not_created</td>\n",
              "      <td>11.14.2021</td>\n",
              "      <td>17:56:28</td>\n",
              "      <td>one goal coordinate data management cont..</td>\n",
              "    </tr>\n",
              "    <tr>\n",
              "      <th>20</th>\n",
              "      <td>e bike marketing trainee</td>\n",
              "      <td>SCOTT SPORTS</td>\n",
              "      <td>vor 6 Tagen</td>\n",
              "      <td>not_created</td>\n",
              "      <td>11.14.2021</td>\n",
              "      <td>17:56:28</td>\n",
              "      <td>one goal coordinate data management cont..</td>\n",
              "    </tr>\n",
              "    <tr>\n",
              "      <th>21</th>\n",
              "      <td>communication coordinator</td>\n",
              "      <td>Freeride World Tour</td>\n",
              "      <td>vor 6 Tagen</td>\n",
              "      <td>not_created</td>\n",
              "      <td>11.14.2021</td>\n",
              "      <td>17:56:28</td>\n",
              "      <td>manage data prepare communication report..</td>\n",
              "    </tr>\n",
              "    <tr>\n",
              "      <th>22</th>\n",
              "      <td>research associate w</td>\n",
              "      <td>Work Selection</td>\n",
              "      <td>vor 6 Tagen</td>\n",
              "      <td>not_created</td>\n",
              "      <td>11.14.2021</td>\n",
              "      <td>17:56:28</td>\n",
              "      <td>perform optimize analyze assay data usin..</td>\n",
              "    </tr>\n",
              "    <tr>\n",
              "      <th>23</th>\n",
              "      <td>student researcher</td>\n",
              "      <td>Google</td>\n",
              "      <td>vor 12 Tagen</td>\n",
              "      <td>not_created</td>\n",
              "      <td>11.14.2021</td>\n",
              "      <td>17:56:28</td>\n",
              "      <td>currently pursuing bachelor' master' phd..</td>\n",
              "    </tr>\n",
              "    <tr>\n",
              "      <th>24</th>\n",
              "      <td>research innovation intern f</td>\n",
              "      <td>SCOTT SPORTS</td>\n",
              "      <td>vor 10 Tagen</td>\n",
              "      <td>not_created</td>\n",
              "      <td>11.14.2021</td>\n",
              "      <td>17:56:28</td>\n",
              "      <td>consolidate sports division team givisie..</td>\n",
              "    </tr>\n",
              "    <tr>\n",
              "      <th>25</th>\n",
              "      <td>regional marketing internship</td>\n",
              "      <td>Hill's Pet Nutrition</td>\n",
              "      <td>vor 9 Tagen</td>\n",
              "      <td>not_created</td>\n",
              "      <td>11.14.2021</td>\n",
              "      <td>17:56:28</td>\n",
              "      <td>take responsibility product market compe..</td>\n",
              "    </tr>\n",
              "    <tr>\n",
              "      <th>26</th>\n",
              "      <td>merchandising intern months</td>\n",
              "      <td>Vorwerk International &amp; Co. KmG</td>\n",
              "      <td>vor 10 Tagen</td>\n",
              "      <td>not_created</td>\n",
              "      <td>11.14.2021</td>\n",
              "      <td>17:56:28</td>\n",
              "      <td>updating merchandising platform relevant..</td>\n",
              "    </tr>\n",
              "    <tr>\n",
              "      <th>27</th>\n",
              "      <td>intern rrp tobacco processing equipment neucha...</td>\n",
              "      <td>Philip Morris International</td>\n",
              "      <td>vor 12 Tagen</td>\n",
              "      <td>not_created</td>\n",
              "      <td>11.14.2021</td>\n",
              "      <td>17:56:28</td>\n",
              "      <td>support team analysing data prepare conc..</td>\n",
              "    </tr>\n",
              "    <tr>\n",
              "      <th>28</th>\n",
              "      <td>forensics working student part time</td>\n",
              "      <td>EY</td>\n",
              "      <td>vor 7 Tagen</td>\n",
              "      <td>not_created</td>\n",
              "      <td>11.14.2021</td>\n",
              "      <td>17:56:28</td>\n",
              "      <td>assisting conducting interviews technolo..</td>\n",
              "    </tr>\n",
              "    <tr>\n",
              "      <th>29</th>\n",
              "      <td>consumer profiling insights intern lausanne sw...</td>\n",
              "      <td>Philip Morris International</td>\n",
              "      <td>vor 10 Tagen</td>\n",
              "      <td>not_created</td>\n",
              "      <td>11.14.2021</td>\n",
              "      <td>17:56:28</td>\n",
              "      <td>hands experience analysing large data se..</td>\n",
              "    </tr>\n",
              "    <tr>\n",
              "      <th>30</th>\n",
              "      <td>intern cellular assay development</td>\n",
              "      <td>Novartis</td>\n",
              "      <td>vor 11 Tagen</td>\n",
              "      <td>not_created</td>\n",
              "      <td>11.14.2021</td>\n",
              "      <td>17:56:28</td>\n",
              "      <td>analyze collect experimental data presen..</td>\n",
              "    </tr>\n",
              "    <tr>\n",
              "      <th>31</th>\n",
              "      <td>postgraduate aav producer cell line engineering</td>\n",
              "      <td>Novartis</td>\n",
              "      <td>vor 10 Tagen</td>\n",
              "      <td>not_created</td>\n",
              "      <td>11.14.2021</td>\n",
              "      <td>17:56:28</td>\n",
              "      <td>analyze collect experimental data presen..</td>\n",
              "    </tr>\n",
              "    <tr>\n",
              "      <th>32</th>\n",
              "      <td>internship epm process expert</td>\n",
              "      <td>Novartis</td>\n",
              "      <td>vor 11 Tagen</td>\n",
              "      <td>not_created</td>\n",
              "      <td>11.14.2021</td>\n",
              "      <td>17:56:28</td>\n",
              "      <td>recent graduate bachelor master data sci..</td>\n",
              "    </tr>\n",
              "    <tr>\n",
              "      <th>33</th>\n",
              "      <td>vertical marketing specialist internship</td>\n",
              "      <td>Honeywell</td>\n",
              "      <td>vor 9 Tagen</td>\n",
              "      <td>not_created</td>\n",
              "      <td>11.14.2021</td>\n",
              "      <td>17:56:28</td>\n",
              "      <td>support product portfolio managers ident..</td>\n",
              "    </tr>\n",
              "    <tr>\n",
              "      <th>34</th>\n",
              "      <td>intern junior sales mark w</td>\n",
              "      <td>Société Générale</td>\n",
              "      <td>vor 10 Tagen</td>\n",
              "      <td>not_created</td>\n",
              "      <td>11.14.2021</td>\n",
              "      <td>17:56:28</td>\n",
              "      <td>managing various data bases keep track f..</td>\n",
              "    </tr>\n",
              "    <tr>\n",
              "      <th>35</th>\n",
              "      <td>post doc biologics pharmaceutical development</td>\n",
              "      <td>Novartis</td>\n",
              "      <td>vor 10 Tagen</td>\n",
              "      <td>not_created</td>\n",
              "      <td>11.14.2021</td>\n",
              "      <td>17:56:28</td>\n",
              "      <td>consolidation evaluation data generated ..</td>\n",
              "    </tr>\n",
              "    <tr>\n",
              "      <th>36</th>\n",
              "      <td>intern strategy transactions sat transaction d...</td>\n",
              "      <td>EY</td>\n",
              "      <td>vor 7 Tagen</td>\n",
              "      <td>not_created</td>\n",
              "      <td>11.14.2021</td>\n",
              "      <td>17:56:28</td>\n",
              "      <td>advanced excel analytics competences rel..</td>\n",
              "    </tr>\n",
              "    <tr>\n",
              "      <th>37</th>\n",
              "      <td>graduate job consultant strategy transactions ...</td>\n",
              "      <td>EY</td>\n",
              "      <td>vor 7 Tagen</td>\n",
              "      <td>not_created</td>\n",
              "      <td>11.14.2021</td>\n",
              "      <td>17:56:28</td>\n",
              "      <td>strategy transactions service line helps..</td>\n",
              "    </tr>\n",
              "    <tr>\n",
              "      <th>38</th>\n",
              "      <td>senior consultant analytics data science techn...</td>\n",
              "      <td>EY</td>\n",
              "      <td>vor 7 Tagen</td>\n",
              "      <td>not_created</td>\n",
              "      <td>11.14.2021</td>\n",
              "      <td>17:56:28</td>\n",
              "      <td>teams work collaboratively clients deliv..</td>\n",
              "    </tr>\n",
              "    <tr>\n",
              "      <th>39</th>\n",
              "      <td>intern financial services consulting actuarial...</td>\n",
              "      <td>EY</td>\n",
              "      <td>vor 11 Tagen</td>\n",
              "      <td>not_created</td>\n",
              "      <td>11.14.2021</td>\n",
              "      <td>17:56:28</td>\n",
              "      <td>knowledge machine learning programming r..</td>\n",
              "    </tr>\n",
              "    <tr>\n",
              "      <th>40</th>\n",
              "      <td>consultant emeia financial services strategy z...</td>\n",
              "      <td>EY</td>\n",
              "      <td>vor 11 Tagen</td>\n",
              "      <td>not_created</td>\n",
              "      <td>11.14.2021</td>\n",
              "      <td>17:56:28</td>\n",
              "      <td>supporting clients strategic decision ma..</td>\n",
              "    </tr>\n",
              "    <tr>\n",
              "      <th>41</th>\n",
              "      <td>manager financial services risk emeia financia...</td>\n",
              "      <td>EY</td>\n",
              "      <td>vor 10 Tagen</td>\n",
              "      <td>not_created</td>\n",
              "      <td>11.14.2021</td>\n",
              "      <td>17:56:28</td>\n",
              "      <td>encouraged investigate new risk areas ex..</td>\n",
              "    </tr>\n",
              "    <tr>\n",
              "      <th>42</th>\n",
              "      <td>senior manager leading ey switzerland blockcha...</td>\n",
              "      <td>EY</td>\n",
              "      <td>vor 7 Tagen</td>\n",
              "      <td>not_created</td>\n",
              "      <td>11.14.2021</td>\n",
              "      <td>17:56:28</td>\n",
              "      <td>lead development related offerings ongoi..</td>\n",
              "    </tr>\n",
              "    <tr>\n",
              "      <th>43</th>\n",
              "      <td>senior consultant financial services consultin...</td>\n",
              "      <td>EY</td>\n",
              "      <td>vor 11 Tagen</td>\n",
              "      <td>not_created</td>\n",
              "      <td>11.14.2021</td>\n",
              "      <td>17:56:28</td>\n",
              "      <td>knowledge machine learning programming r..</td>\n",
              "    </tr>\n",
              "    <tr>\n",
              "      <th>44</th>\n",
              "      <td>cyber security senior manager</td>\n",
              "      <td>EY</td>\n",
              "      <td>vor 10 Tagen</td>\n",
              "      <td>not_created</td>\n",
              "      <td>11.14.2021</td>\n",
              "      <td>17:56:28</td>\n",
              "      <td>years proven experience delivering cyber..</td>\n",
              "    </tr>\n",
              "    <tr>\n",
              "      <th>45</th>\n",
              "      <td>cyber security senior consultant</td>\n",
              "      <td>EY</td>\n",
              "      <td>vor 10 Tagen</td>\n",
              "      <td>not_created</td>\n",
              "      <td>11.14.2021</td>\n",
              "      <td>17:56:28</td>\n",
              "      <td>focus cyber security advisory services i..</td>\n",
              "    </tr>\n",
              "    <tr>\n",
              "      <th>46</th>\n",
              "      <td>experienced consultant senior consultant emeia...</td>\n",
              "      <td>EY</td>\n",
              "      <td>vor 11 Tagen</td>\n",
              "      <td>not_created</td>\n",
              "      <td>11.14.2021</td>\n",
              "      <td>17:56:28</td>\n",
              "      <td>support clients solutions identify asses..</td>\n",
              "    </tr>\n",
              "    <tr>\n",
              "      <th>47</th>\n",
              "      <td>senior consultant sap agile business finance</td>\n",
              "      <td>EY</td>\n",
              "      <td>vor 13 Tagen</td>\n",
              "      <td>not_created</td>\n",
              "      <td>11.14.2021</td>\n",
              "      <td>17:56:28</td>\n",
              "      <td>part finance team business consulting su..</td>\n",
              "    </tr>\n",
              "    <tr>\n",
              "      <th>48</th>\n",
              "      <td>biostatistics intern</td>\n",
              "      <td>HEMEX AG</td>\n",
              "      <td>vor 11 Tagen</td>\n",
              "      <td>not_created</td>\n",
              "      <td>11.14.2021</td>\n",
              "      <td>17:56:28</td>\n",
              "      <td>ability process computer data format gen..</td>\n",
              "    </tr>\n",
              "    <tr>\n",
              "      <th>49</th>\n",
              "      <td>working student social media renewable energy ...</td>\n",
              "      <td>Exnaton AG, ETH Spinoff</td>\n",
              "      <td>vor 9 Tagen</td>\n",
              "      <td>not_created</td>\n",
              "      <td>11.14.2021</td>\n",
              "      <td>17:56:28</td>\n",
              "      <td>refining product company branding derive..</td>\n",
              "    </tr>\n",
              "  </tbody>\n",
              "</table>\n",
              "</div>"
            ]
          },
          "metadata": {},
          "execution_count": 22
        }
      ]
    },
    {
      "cell_type": "markdown",
      "metadata": {
        "id": "oly6RmkVvKkv"
      },
      "source": [
        "**Viz Query 1**"
      ]
    },
    {
      "cell_type": "code",
      "metadata": {
        "id": "D8g-Vivnvaso",
        "colab": {
          "base_uri": "https://localhost:8080/",
          "height": 1000
        },
        "outputId": "a745e48f-9064-41dc-f8c3-0283f0ae5c04"
      },
      "source": [
        "viz1_df = q1_processed.copy()\n",
        "viz1_df.drop(columns=[\"links\", \"short_link\"], inplace=True)\n",
        "\n",
        "if using_google_USE:\n",
        "\n",
        "    # general rule - if # of jobs returned > 25 may want to turn off text in \n",
        "    # one or both plots (summary text and title text)\n",
        "\n",
        "    vizjobs_googleUSE(viz1_df, \"summary\", meine_embeddings, \n",
        "                      save_plot=True, show_text=True,\n",
        "                        query_name=jt1 + \" in \" + jq1, viz_type=\"pca\")\n",
        "    \n",
        "    vizjobs_googleUSE(viz1_df, \"titles\", meine_embeddings, \n",
        "                      save_plot=True, show_text=False,\n",
        "                        query_name=jt1 + \" in \" + jq1, viz_type=\"pca\")\n",
        "else:\n",
        "    viz_job_data_word2vec(viz1_df, \"summary\", save_plot=True, h=720,\n",
        "                          query_name=jt1 + \" in \" + jq1, viz_type=\"pca\")\n",
        "    viz_job_data_word2vec(viz1_df, \"titles\", save_plot=True, h=720,\n",
        "                          query_name=jt1 + \" in \" + jq1, viz_type=\"pca\")\n",
        "\n"
      ],
      "execution_count": 23,
      "outputs": [
        {
          "output_type": "display_data",
          "data": {
            "text/html": [
              "\n",
              "  <style>\n",
              "    pre {\n",
              "        white-space: pre-wrap;\n",
              "    }\n",
              "  </style>\n",
              "  "
            ],
            "text/plain": [
              "<IPython.core.display.HTML object>"
            ]
          },
          "metadata": {}
        },
        {
          "output_type": "stream",
          "name": "stdout",
          "text": [
            "\n",
            "For google_USE-internship in data: opt. # of k-means clusters is 9 \n",
            "\n"
          ]
        },
        {
          "output_type": "display_data",
          "data": {
            "text/html": [
              "<html>\n",
              "<head><meta charset=\"utf-8\" /></head>\n",
              "<body>\n",
              "    <div>            <script src=\"https://cdnjs.cloudflare.com/ajax/libs/mathjax/2.7.5/MathJax.js?config=TeX-AMS-MML_SVG\"></script><script type=\"text/javascript\">if (window.MathJax) {MathJax.Hub.Config({SVG: {font: \"STIX-Web\"}});}</script>                <script type=\"text/javascript\">window.PlotlyConfig = {MathJaxConfig: 'local'};</script>\n",
              "        <script src=\"https://cdn.plot.ly/plotly-2.4.2.min.js\"></script>                <div id=\"8f2e3cad-f865-439e-8bec-48c6dbb92160\" class=\"plotly-graph-div\" style=\"height:720px; width:960px;\"></div>            <script type=\"text/javascript\">                                    window.PLOTLYENV=window.PLOTLYENV || {};                                    if (document.getElementById(\"8f2e3cad-f865-439e-8bec-48c6dbb92160\")) {                    Plotly.newPlot(                        \"8f2e3cad-f865-439e-8bec-48c6dbb92160\",                        [{\"customdata\":[[\"intern environment affairs temporary\",\"United Nations\",\"vor 1 Tag\",\"11.14.2021\",\"17:56:28\",\"4\"],[\"field applications engineering intern switzerland\",\"Texas Instruments\",\"vor 3 Tagen\",\"11.14.2021\",\"17:56:28\",\"4\"],[\"intern people talent months\",\"Sygnum Bank AG\",\"vor 4 Tagen\",\"11.14.2021\",\"17:56:28\",\"4\"],[\"communication coordinator\",\"Freeride World Tour\",\"vor 6 Tagen\",\"11.14.2021\",\"17:56:28\",\"4\"],[\"consumer profiling insights intern lausanne switzerland\",\"Philip Morris International\",\"vor 10 Tagen\",\"11.14.2021\",\"17:56:28\",\"4\"],[\"vertical marketing specialist internship\",\"Honeywell\",\"vor 9 Tagen\",\"11.14.2021\",\"17:56:28\",\"4\"],[\"intern junior sales mark w\",\"Soci\\u00e9t\\u00e9 G\\u00e9n\\u00e9rale\",\"vor 10 Tagen\",\"11.14.2021\",\"17:56:28\",\"4\"]],\"hovertemplate\":\"kmeans=%{customdata[5]}<br>pca_x=%{x}<br>pca_y=%{y}<br>companies_abbrev=%{text}<br>titles=%{customdata[0]}<br>companies=%{customdata[1]}<br>date_listed=%{customdata[2]}<br>date_pulled=%{customdata[3]}<br>time_pulled=%{customdata[4]}<extra></extra>\",\"legendgroup\":\"4\",\"marker\":{\"color\":\"#636efa\",\"symbol\":\"circle\"},\"mode\":\"markers+text\",\"name\":\"4\",\"orientation\":\"v\",\"showlegend\":true,\"text\":[\"United Nations\",\"Texas Instrumen..\",\"Sygnum Bank AG\",\"Freeride World ..\",\"Philip Morris I..\",\"Honeywell\",\"Soci\\u00e9t\\u00e9 G\\u00e9n\\u00e9ral..\"],\"type\":\"scatter\",\"x\":[-0.16148348440635021,-0.19149765743591227,-0.03794826222618189,0.03633572403401634,-0.2447478545925382,0.10614484964659598,0.04002229724321712],\"xaxis\":\"x\",\"y\":[0.14033274641371565,-0.308054992030706,-0.14087603812526509,0.052427482201897496,-0.13664678195312105,0.13346668555489166,-0.003146827188764303],\"yaxis\":\"y\"},{\"customdata\":[[\"internship data analysis engineer\",\"greenTEG AG\",\"vor 1 Tag\",\"11.14.2021\",\"17:56:28\",\"5\"],[\"research associate\",\"We make it\",\"vor 5 Tagen\",\"11.14.2021\",\"17:56:28\",\"5\"],[\"research intern full body capture reconstruction phd\",\"Meta\",\"vor 5 Tagen\",\"11.14.2021\",\"17:56:28\",\"5\"],[\"research associate w\",\"Work Selection\",\"vor 6 Tagen\",\"11.14.2021\",\"17:56:28\",\"5\"]],\"hovertemplate\":\"kmeans=%{customdata[5]}<br>pca_x=%{x}<br>pca_y=%{y}<br>companies_abbrev=%{text}<br>titles=%{customdata[0]}<br>companies=%{customdata[1]}<br>date_listed=%{customdata[2]}<br>date_pulled=%{customdata[3]}<br>time_pulled=%{customdata[4]}<extra></extra>\",\"legendgroup\":\"5\",\"marker\":{\"color\":\"#EF553B\",\"symbol\":\"circle\"},\"mode\":\"markers+text\",\"name\":\"5\",\"orientation\":\"v\",\"showlegend\":true,\"text\":[\"greenTEG AG\",\"We make it\",\"Meta\",\"Work Selection\"],\"type\":\"scatter\",\"x\":[-0.23700576792681158,-0.2893315374558844,0.008923620429042087,-0.2893315374558844],\"xaxis\":\"x\",\"y\":[-0.12059143973275444,0.017558059155523956,-0.44338444733634486,0.017558059155523956],\"yaxis\":\"y\"},{\"customdata\":[[\"internship software engineer\",\"Second Spectrum\",\"vor 1 Tag\",\"11.14.2021\",\"17:56:28\",\"3\"],[\"intern enabling business global agile projects\",\"Siemens\",\"vor 2 Tagen\",\"11.14.2021\",\"17:56:28\",\"3\"],[\"crm data scientist internship\",\"Tally Weijl\",\"vor 3 Tagen\",\"11.14.2021\",\"17:56:28\",\"3\"],[\"enterprise risk senior consultant zurich basel lausanne\",\"EY\",\"vor 4 Tagen\",\"11.14.2021\",\"17:56:28\",\"3\"],[\"regional marketing internship\",\"Hill's Pet Nutrition\",\"vor 9 Tagen\",\"11.14.2021\",\"17:56:28\",\"3\"],[\"merchandising intern months\",\"Vorwerk International & Co. KmG\",\"vor 10 Tagen\",\"11.14.2021\",\"17:56:28\",\"3\"],[\"post doc biologics pharmaceutical development\",\"Novartis\",\"vor 10 Tagen\",\"11.14.2021\",\"17:56:28\",\"3\"],[\"graduate job consultant strategy transactions transac\",\"EY\",\"vor 7 Tagen\",\"11.14.2021\",\"17:56:28\",\"3\"],[\"senior consultant analytics data science technology\",\"EY\",\"vor 7 Tagen\",\"11.14.2021\",\"17:56:28\",\"3\"],[\"consultant emeia financial services strategy zurich st\",\"EY\",\"vor 11 Tagen\",\"11.14.2021\",\"17:56:28\",\"3\"],[\"manager financial services risk emeia financial services\",\"EY\",\"vor 10 Tagen\",\"11.14.2021\",\"17:56:28\",\"3\"],[\"senior manager leading ey switzerland blockchain di\",\"EY\",\"vor 7 Tagen\",\"11.14.2021\",\"17:56:28\",\"3\"],[\"senior consultant sap agile business finance\",\"EY\",\"vor 13 Tagen\",\"11.14.2021\",\"17:56:28\",\"3\"],[\"working student social media renewable energy startup\",\"Exnaton AG, ETH Spinoff\",\"vor 9 Tagen\",\"11.14.2021\",\"17:56:28\",\"3\"]],\"hovertemplate\":\"kmeans=%{customdata[5]}<br>pca_x=%{x}<br>pca_y=%{y}<br>companies_abbrev=%{text}<br>titles=%{customdata[0]}<br>companies=%{customdata[1]}<br>date_listed=%{customdata[2]}<br>date_pulled=%{customdata[3]}<br>time_pulled=%{customdata[4]}<extra></extra>\",\"legendgroup\":\"3\",\"marker\":{\"color\":\"#00cc96\",\"symbol\":\"circle\"},\"mode\":\"markers+text\",\"name\":\"3\",\"orientation\":\"v\",\"showlegend\":true,\"text\":[\"Second Spectrum\",\"Siemens\",\"Tally Weijl\",\"EY\",\"Hill's Pet Nutr..\",\"Vorwerk Interna..\",\"Novartis\",\"EY\",\"EY\",\"EY\",\"EY\",\"EY\",\"EY\",\"Exnaton AG, ETH..\"],\"type\":\"scatter\",\"x\":[0.18544935898593282,0.32527504026587994,0.06235404860132238,0.16461932286133624,0.0781719456554268,0.13331761600979178,0.010299835958367969,0.33513912557529196,0.059287300752508765,0.35983183261051654,0.09315497422957462,0.2535163040295456,0.40538313619782684,0.20454375444597617],\"xaxis\":\"x\",\"y\":[-0.18916883745442817,-0.03432860641580628,0.1659489531520537,0.0508678247513722,0.18273725977135713,0.21171697249106755,-0.16010090883993913,0.2718333561893456,0.2285610436908305,0.20201584473724835,0.3893999276313396,0.04584586983916515,0.01843190671937696,0.1290413975923321],\"yaxis\":\"y\"},{\"customdata\":[[\"tm data science academy fellow\",\"Novartis\",\"vor 2 Tagen\",\"11.14.2021\",\"17:56:28\",\"1\"],[\"internship digital innovation\",\"TotalEnergies\",\"vor 2 Tagen\",\"11.14.2021\",\"17:56:28\",\"1\"],[\"postgraduate lv producer cell line engineering\",\"Novartis\",\"vor 3 Tagen\",\"11.14.2021\",\"17:56:28\",\"1\"],[\"intern covax strategic coordination office\",\"Gavi, the Vaccine Alliance Secretariat\",\"vor 5 Tagen\",\"11.14.2021\",\"17:56:28\",\"1\"],[\"intern rrp tobacco processing equipment neuchatel switzerla\",\"Philip Morris International\",\"vor 12 Tagen\",\"11.14.2021\",\"17:56:28\",\"1\"],[\"forensics working student part time\",\"EY\",\"vor 7 Tagen\",\"11.14.2021\",\"17:56:28\",\"1\"],[\"intern cellular assay development\",\"Novartis\",\"vor 11 Tagen\",\"11.14.2021\",\"17:56:28\",\"1\"],[\"postgraduate aav producer cell line engineering\",\"Novartis\",\"vor 10 Tagen\",\"11.14.2021\",\"17:56:28\",\"1\"],[\"intern strategy transactions sat transaction dilig\",\"EY\",\"vor 7 Tagen\",\"11.14.2021\",\"17:56:28\",\"1\"],[\"intern financial services consulting actuarial zurich\",\"EY\",\"vor 11 Tagen\",\"11.14.2021\",\"17:56:28\",\"1\"],[\"senior consultant financial services consulting actuarial\",\"EY\",\"vor 11 Tagen\",\"11.14.2021\",\"17:56:28\",\"1\"],[\"biostatistics intern\",\"HEMEX AG\",\"vor 11 Tagen\",\"11.14.2021\",\"17:56:28\",\"1\"]],\"hovertemplate\":\"kmeans=%{customdata[5]}<br>pca_x=%{x}<br>pca_y=%{y}<br>companies_abbrev=%{text}<br>titles=%{customdata[0]}<br>companies=%{customdata[1]}<br>date_listed=%{customdata[2]}<br>date_pulled=%{customdata[3]}<br>time_pulled=%{customdata[4]}<extra></extra>\",\"legendgroup\":\"1\",\"marker\":{\"color\":\"#ab63fa\",\"symbol\":\"circle\"},\"mode\":\"markers+text\",\"name\":\"1\",\"orientation\":\"v\",\"showlegend\":true,\"text\":[\"Novartis\",\"TotalEnergies\",\"Novartis\",\"Gavi, the Vacci..\",\"Philip Morris I..\",\"EY\",\"Novartis\",\"Novartis\",\"EY\",\"EY\",\"EY\",\"HEMEX AG\"],\"type\":\"scatter\",\"x\":[-0.37340856356064794,-0.3794958821901524,-0.27313961418130506,-0.15508249980682537,-0.21223731844205407,-0.14526893896317614,-0.4118047394812792,-0.40376959433462495,-0.2786609692333652,-0.29182120849493837,-0.20828221629724683,-0.3709175306176245],\"xaxis\":\"x\",\"y\":[-0.06378691972446834,0.10881164067021794,-0.015293826695611863,0.19526787042205365,0.06656913401554584,0.1694442138935406,0.025420241631032434,0.039707335253863364,0.01657271114920476,-0.1512616096959949,-0.11523265176314723,-0.04932743954320026],\"yaxis\":\"y\"},{\"customdata\":[[\"emea procurement manager internship procurement lea\",\"Johnson & Johnson Family of Companies\",\"vor 2 Tagen\",\"11.14.2021\",\"17:56:28\",\"2\"],[\"senior manager learning transformation geneva basel\",\"EY\",\"vor 3 Tagen\",\"11.14.2021\",\"17:56:28\",\"2\"],[\"manager learning transformation geneva basel zuric\",\"EY\",\"vor 3 Tagen\",\"11.14.2021\",\"17:56:28\",\"2\"],[\"senior consultant learning transformation geneva base\",\"EY\",\"vor 3 Tagen\",\"11.14.2021\",\"17:56:28\",\"2\"]],\"hovertemplate\":\"kmeans=%{customdata[5]}<br>pca_x=%{x}<br>pca_y=%{y}<br>companies_abbrev=%{text}<br>titles=%{customdata[0]}<br>companies=%{customdata[1]}<br>date_listed=%{customdata[2]}<br>date_pulled=%{customdata[3]}<br>time_pulled=%{customdata[4]}<extra></extra>\",\"legendgroup\":\"2\",\"marker\":{\"color\":\"#FFA15A\",\"symbol\":\"circle\"},\"mode\":\"markers+text\",\"name\":\"2\",\"orientation\":\"v\",\"showlegend\":true,\"text\":[\"Johnson & Johns..\",\"EY\",\"EY\",\"EY\"],\"type\":\"scatter\",\"x\":[0.18010995656105414,0.6510582831720946,0.6510582831720946,0.6510582831720946],\"xaxis\":\"x\",\"y\":[-0.26651842170764334,-0.42368310789997066,-0.42368310789997066,-0.42368310789997066],\"yaxis\":\"y\"},{\"customdata\":[[\"senior consultant financial services risk w focus resili\",\"EY\",\"vor 3 Tagen\",\"11.14.2021\",\"17:56:28\",\"8\"],[\"experienced consultant senior consultant emeia financial\",\"EY\",\"vor 11 Tagen\",\"11.14.2021\",\"17:56:28\",\"8\"]],\"hovertemplate\":\"kmeans=%{customdata[5]}<br>pca_x=%{x}<br>pca_y=%{y}<br>companies_abbrev=%{text}<br>titles=%{customdata[0]}<br>companies=%{customdata[1]}<br>date_listed=%{customdata[2]}<br>date_pulled=%{customdata[3]}<br>time_pulled=%{customdata[4]}<extra></extra>\",\"legendgroup\":\"8\",\"marker\":{\"color\":\"#19d3f3\",\"symbol\":\"circle\"},\"mode\":\"markers+text\",\"name\":\"8\",\"orientation\":\"v\",\"showlegend\":true,\"text\":[\"EY\",\"EY\"],\"type\":\"scatter\",\"x\":[0.3914090368480502,0.3914090368480502],\"xaxis\":\"x\",\"y\":[0.5504687217080534,0.5504687217080534],\"yaxis\":\"y\"},{\"customdata\":[[\"syncros marketing trainee\",\"SCOTT SPORTS\",\"vor 6 Tagen\",\"11.14.2021\",\"17:56:28\",\"6\"],[\"e bike marketing trainee\",\"SCOTT SPORTS\",\"vor 6 Tagen\",\"11.14.2021\",\"17:56:28\",\"6\"]],\"hovertemplate\":\"kmeans=%{customdata[5]}<br>pca_x=%{x}<br>pca_y=%{y}<br>companies_abbrev=%{text}<br>titles=%{customdata[0]}<br>companies=%{customdata[1]}<br>date_listed=%{customdata[2]}<br>date_pulled=%{customdata[3]}<br>time_pulled=%{customdata[4]}<extra></extra>\",\"legendgroup\":\"6\",\"marker\":{\"color\":\"#FF6692\",\"symbol\":\"circle\"},\"mode\":\"markers+text\",\"name\":\"6\",\"orientation\":\"v\",\"showlegend\":true,\"text\":[\"SCOTT SPORTS\",\"SCOTT SPORTS\"],\"type\":\"scatter\",\"x\":[-0.24255571539939055,-0.24255571539939055],\"xaxis\":\"x\",\"y\":[-0.16395034729629282,-0.16395034729629282],\"yaxis\":\"y\"},{\"customdata\":[[\"student researcher\",\"Google\",\"vor 12 Tagen\",\"11.14.2021\",\"17:56:28\",\"0\"],[\"research innovation intern f\",\"SCOTT SPORTS\",\"vor 10 Tagen\",\"11.14.2021\",\"17:56:28\",\"0\"],[\"internship epm process expert\",\"Novartis\",\"vor 11 Tagen\",\"11.14.2021\",\"17:56:28\",\"0\"]],\"hovertemplate\":\"kmeans=%{customdata[5]}<br>pca_x=%{x}<br>pca_y=%{y}<br>companies_abbrev=%{text}<br>titles=%{customdata[0]}<br>companies=%{customdata[1]}<br>date_listed=%{customdata[2]}<br>date_pulled=%{customdata[3]}<br>time_pulled=%{customdata[4]}<extra></extra>\",\"legendgroup\":\"0\",\"marker\":{\"color\":\"#B6E880\",\"symbol\":\"circle\"},\"mode\":\"markers+text\",\"name\":\"0\",\"orientation\":\"v\",\"showlegend\":true,\"text\":[\"Google\",\"SCOTT SPORTS\",\"Novartis\"],\"type\":\"scatter\",\"x\":[-0.11989462349878652,0.08327815669838724,-0.2033945820893509],\"xaxis\":\"x\",\"y\":[-0.16417026696736559,-0.14808292419292943,-0.08995938177420627],\"yaxis\":\"y\"},{\"customdata\":[[\"cyber security senior manager\",\"EY\",\"vor 10 Tagen\",\"11.14.2021\",\"17:56:28\",\"7\"],[\"cyber security senior consultant\",\"EY\",\"vor 10 Tagen\",\"11.14.2021\",\"17:56:28\",\"7\"]],\"hovertemplate\":\"kmeans=%{customdata[5]}<br>pca_x=%{x}<br>pca_y=%{y}<br>companies_abbrev=%{text}<br>titles=%{customdata[0]}<br>companies=%{customdata[1]}<br>date_listed=%{customdata[2]}<br>date_pulled=%{customdata[3]}<br>time_pulled=%{customdata[4]}<extra></extra>\",\"legendgroup\":\"7\",\"marker\":{\"color\":\"#FF97FF\",\"symbol\":\"circle\"},\"mode\":\"markers+text\",\"name\":\"7\",\"orientation\":\"v\",\"showlegend\":true,\"text\":[\"EY\",\"EY\"],\"type\":\"scatter\",\"x\":[-0.033907047223622803,-0.06360826329065224],\"xaxis\":\"x\",\"y\":[0.07922044042421283,0.139187919511373],\"yaxis\":\"y\"}],                        {\"height\":720,\"legend\":{\"title\":{\"text\":\"kmeans\"},\"tracegroupgap\":0},\"template\":{\"data\":{\"bar\":[{\"error_x\":{\"color\":\"#f2f5fa\"},\"error_y\":{\"color\":\"#f2f5fa\"},\"marker\":{\"line\":{\"color\":\"rgb(17,17,17)\",\"width\":0.5},\"pattern\":{\"fillmode\":\"overlay\",\"size\":10,\"solidity\":0.2}},\"type\":\"bar\"}],\"barpolar\":[{\"marker\":{\"line\":{\"color\":\"rgb(17,17,17)\",\"width\":0.5},\"pattern\":{\"fillmode\":\"overlay\",\"size\":10,\"solidity\":0.2}},\"type\":\"barpolar\"}],\"carpet\":[{\"aaxis\":{\"endlinecolor\":\"#A2B1C6\",\"gridcolor\":\"#506784\",\"linecolor\":\"#506784\",\"minorgridcolor\":\"#506784\",\"startlinecolor\":\"#A2B1C6\"},\"baxis\":{\"endlinecolor\":\"#A2B1C6\",\"gridcolor\":\"#506784\",\"linecolor\":\"#506784\",\"minorgridcolor\":\"#506784\",\"startlinecolor\":\"#A2B1C6\"},\"type\":\"carpet\"}],\"choropleth\":[{\"colorbar\":{\"outlinewidth\":0,\"ticks\":\"\"},\"type\":\"choropleth\"}],\"contour\":[{\"colorbar\":{\"outlinewidth\":0,\"ticks\":\"\"},\"colorscale\":[[0.0,\"#0d0887\"],[0.1111111111111111,\"#46039f\"],[0.2222222222222222,\"#7201a8\"],[0.3333333333333333,\"#9c179e\"],[0.4444444444444444,\"#bd3786\"],[0.5555555555555556,\"#d8576b\"],[0.6666666666666666,\"#ed7953\"],[0.7777777777777778,\"#fb9f3a\"],[0.8888888888888888,\"#fdca26\"],[1.0,\"#f0f921\"]],\"type\":\"contour\"}],\"contourcarpet\":[{\"colorbar\":{\"outlinewidth\":0,\"ticks\":\"\"},\"type\":\"contourcarpet\"}],\"heatmap\":[{\"colorbar\":{\"outlinewidth\":0,\"ticks\":\"\"},\"colorscale\":[[0.0,\"#0d0887\"],[0.1111111111111111,\"#46039f\"],[0.2222222222222222,\"#7201a8\"],[0.3333333333333333,\"#9c179e\"],[0.4444444444444444,\"#bd3786\"],[0.5555555555555556,\"#d8576b\"],[0.6666666666666666,\"#ed7953\"],[0.7777777777777778,\"#fb9f3a\"],[0.8888888888888888,\"#fdca26\"],[1.0,\"#f0f921\"]],\"type\":\"heatmap\"}],\"heatmapgl\":[{\"colorbar\":{\"outlinewidth\":0,\"ticks\":\"\"},\"colorscale\":[[0.0,\"#0d0887\"],[0.1111111111111111,\"#46039f\"],[0.2222222222222222,\"#7201a8\"],[0.3333333333333333,\"#9c179e\"],[0.4444444444444444,\"#bd3786\"],[0.5555555555555556,\"#d8576b\"],[0.6666666666666666,\"#ed7953\"],[0.7777777777777778,\"#fb9f3a\"],[0.8888888888888888,\"#fdca26\"],[1.0,\"#f0f921\"]],\"type\":\"heatmapgl\"}],\"histogram\":[{\"marker\":{\"pattern\":{\"fillmode\":\"overlay\",\"size\":10,\"solidity\":0.2}},\"type\":\"histogram\"}],\"histogram2d\":[{\"colorbar\":{\"outlinewidth\":0,\"ticks\":\"\"},\"colorscale\":[[0.0,\"#0d0887\"],[0.1111111111111111,\"#46039f\"],[0.2222222222222222,\"#7201a8\"],[0.3333333333333333,\"#9c179e\"],[0.4444444444444444,\"#bd3786\"],[0.5555555555555556,\"#d8576b\"],[0.6666666666666666,\"#ed7953\"],[0.7777777777777778,\"#fb9f3a\"],[0.8888888888888888,\"#fdca26\"],[1.0,\"#f0f921\"]],\"type\":\"histogram2d\"}],\"histogram2dcontour\":[{\"colorbar\":{\"outlinewidth\":0,\"ticks\":\"\"},\"colorscale\":[[0.0,\"#0d0887\"],[0.1111111111111111,\"#46039f\"],[0.2222222222222222,\"#7201a8\"],[0.3333333333333333,\"#9c179e\"],[0.4444444444444444,\"#bd3786\"],[0.5555555555555556,\"#d8576b\"],[0.6666666666666666,\"#ed7953\"],[0.7777777777777778,\"#fb9f3a\"],[0.8888888888888888,\"#fdca26\"],[1.0,\"#f0f921\"]],\"type\":\"histogram2dcontour\"}],\"mesh3d\":[{\"colorbar\":{\"outlinewidth\":0,\"ticks\":\"\"},\"type\":\"mesh3d\"}],\"parcoords\":[{\"line\":{\"colorbar\":{\"outlinewidth\":0,\"ticks\":\"\"}},\"type\":\"parcoords\"}],\"pie\":[{\"automargin\":true,\"type\":\"pie\"}],\"scatter\":[{\"marker\":{\"line\":{\"color\":\"#283442\"}},\"type\":\"scatter\"}],\"scatter3d\":[{\"line\":{\"colorbar\":{\"outlinewidth\":0,\"ticks\":\"\"}},\"marker\":{\"colorbar\":{\"outlinewidth\":0,\"ticks\":\"\"}},\"type\":\"scatter3d\"}],\"scattercarpet\":[{\"marker\":{\"colorbar\":{\"outlinewidth\":0,\"ticks\":\"\"}},\"type\":\"scattercarpet\"}],\"scattergeo\":[{\"marker\":{\"colorbar\":{\"outlinewidth\":0,\"ticks\":\"\"}},\"type\":\"scattergeo\"}],\"scattergl\":[{\"marker\":{\"line\":{\"color\":\"#283442\"}},\"type\":\"scattergl\"}],\"scattermapbox\":[{\"marker\":{\"colorbar\":{\"outlinewidth\":0,\"ticks\":\"\"}},\"type\":\"scattermapbox\"}],\"scatterpolar\":[{\"marker\":{\"colorbar\":{\"outlinewidth\":0,\"ticks\":\"\"}},\"type\":\"scatterpolar\"}],\"scatterpolargl\":[{\"marker\":{\"colorbar\":{\"outlinewidth\":0,\"ticks\":\"\"}},\"type\":\"scatterpolargl\"}],\"scatterternary\":[{\"marker\":{\"colorbar\":{\"outlinewidth\":0,\"ticks\":\"\"}},\"type\":\"scatterternary\"}],\"surface\":[{\"colorbar\":{\"outlinewidth\":0,\"ticks\":\"\"},\"colorscale\":[[0.0,\"#0d0887\"],[0.1111111111111111,\"#46039f\"],[0.2222222222222222,\"#7201a8\"],[0.3333333333333333,\"#9c179e\"],[0.4444444444444444,\"#bd3786\"],[0.5555555555555556,\"#d8576b\"],[0.6666666666666666,\"#ed7953\"],[0.7777777777777778,\"#fb9f3a\"],[0.8888888888888888,\"#fdca26\"],[1.0,\"#f0f921\"]],\"type\":\"surface\"}],\"table\":[{\"cells\":{\"fill\":{\"color\":\"#506784\"},\"line\":{\"color\":\"rgb(17,17,17)\"}},\"header\":{\"fill\":{\"color\":\"#2a3f5f\"},\"line\":{\"color\":\"rgb(17,17,17)\"}},\"type\":\"table\"}]},\"layout\":{\"annotationdefaults\":{\"arrowcolor\":\"#f2f5fa\",\"arrowhead\":0,\"arrowwidth\":1},\"autotypenumbers\":\"strict\",\"coloraxis\":{\"colorbar\":{\"outlinewidth\":0,\"ticks\":\"\"}},\"colorscale\":{\"diverging\":[[0,\"#8e0152\"],[0.1,\"#c51b7d\"],[0.2,\"#de77ae\"],[0.3,\"#f1b6da\"],[0.4,\"#fde0ef\"],[0.5,\"#f7f7f7\"],[0.6,\"#e6f5d0\"],[0.7,\"#b8e186\"],[0.8,\"#7fbc41\"],[0.9,\"#4d9221\"],[1,\"#276419\"]],\"sequential\":[[0.0,\"#0d0887\"],[0.1111111111111111,\"#46039f\"],[0.2222222222222222,\"#7201a8\"],[0.3333333333333333,\"#9c179e\"],[0.4444444444444444,\"#bd3786\"],[0.5555555555555556,\"#d8576b\"],[0.6666666666666666,\"#ed7953\"],[0.7777777777777778,\"#fb9f3a\"],[0.8888888888888888,\"#fdca26\"],[1.0,\"#f0f921\"]],\"sequentialminus\":[[0.0,\"#0d0887\"],[0.1111111111111111,\"#46039f\"],[0.2222222222222222,\"#7201a8\"],[0.3333333333333333,\"#9c179e\"],[0.4444444444444444,\"#bd3786\"],[0.5555555555555556,\"#d8576b\"],[0.6666666666666666,\"#ed7953\"],[0.7777777777777778,\"#fb9f3a\"],[0.8888888888888888,\"#fdca26\"],[1.0,\"#f0f921\"]]},\"colorway\":[\"#636efa\",\"#EF553B\",\"#00cc96\",\"#ab63fa\",\"#FFA15A\",\"#19d3f3\",\"#FF6692\",\"#B6E880\",\"#FF97FF\",\"#FECB52\"],\"font\":{\"color\":\"#f2f5fa\"},\"geo\":{\"bgcolor\":\"rgb(17,17,17)\",\"lakecolor\":\"rgb(17,17,17)\",\"landcolor\":\"rgb(17,17,17)\",\"showlakes\":true,\"showland\":true,\"subunitcolor\":\"#506784\"},\"hoverlabel\":{\"align\":\"left\"},\"hovermode\":\"closest\",\"mapbox\":{\"style\":\"dark\"},\"paper_bgcolor\":\"rgb(17,17,17)\",\"plot_bgcolor\":\"rgb(17,17,17)\",\"polar\":{\"angularaxis\":{\"gridcolor\":\"#506784\",\"linecolor\":\"#506784\",\"ticks\":\"\"},\"bgcolor\":\"rgb(17,17,17)\",\"radialaxis\":{\"gridcolor\":\"#506784\",\"linecolor\":\"#506784\",\"ticks\":\"\"}},\"scene\":{\"xaxis\":{\"backgroundcolor\":\"rgb(17,17,17)\",\"gridcolor\":\"#506784\",\"gridwidth\":2,\"linecolor\":\"#506784\",\"showbackground\":true,\"ticks\":\"\",\"zerolinecolor\":\"#C8D4E3\"},\"yaxis\":{\"backgroundcolor\":\"rgb(17,17,17)\",\"gridcolor\":\"#506784\",\"gridwidth\":2,\"linecolor\":\"#506784\",\"showbackground\":true,\"ticks\":\"\",\"zerolinecolor\":\"#C8D4E3\"},\"zaxis\":{\"backgroundcolor\":\"rgb(17,17,17)\",\"gridcolor\":\"#506784\",\"gridwidth\":2,\"linecolor\":\"#506784\",\"showbackground\":true,\"ticks\":\"\",\"zerolinecolor\":\"#C8D4E3\"}},\"shapedefaults\":{\"line\":{\"color\":\"#f2f5fa\"}},\"sliderdefaults\":{\"bgcolor\":\"#C8D4E3\",\"bordercolor\":\"rgb(17,17,17)\",\"borderwidth\":1,\"tickwidth\":0},\"ternary\":{\"aaxis\":{\"gridcolor\":\"#506784\",\"linecolor\":\"#506784\",\"ticks\":\"\"},\"baxis\":{\"gridcolor\":\"#506784\",\"linecolor\":\"#506784\",\"ticks\":\"\"},\"bgcolor\":\"rgb(17,17,17)\",\"caxis\":{\"gridcolor\":\"#506784\",\"linecolor\":\"#506784\",\"ticks\":\"\"}},\"title\":{\"x\":0.05},\"updatemenudefaults\":{\"bgcolor\":\"#506784\",\"borderwidth\":0},\"xaxis\":{\"automargin\":true,\"gridcolor\":\"#283442\",\"linecolor\":\"#506784\",\"ticks\":\"\",\"title\":{\"standoff\":15},\"zerolinecolor\":\"#283442\",\"zerolinewidth\":2},\"yaxis\":{\"automargin\":true,\"gridcolor\":\"#283442\",\"linecolor\":\"#506784\",\"ticks\":\"\",\"title\":{\"standoff\":15},\"zerolinecolor\":\"#283442\",\"zerolinewidth\":2}}},\"title\":{\"text\":\"Nov-14-2021 viz Jobs by 'summary' via google USE + pca | internship in data\"},\"width\":960,\"xaxis\":{\"anchor\":\"y\",\"domain\":[0.0,1.0],\"title\":{\"text\":\"pca_x\"}},\"yaxis\":{\"anchor\":\"x\",\"domain\":[0.0,1.0],\"title\":{\"text\":\"pca_y\"}}},                        {\"responsive\": true}                    ).then(function(){\n",
              "                            \n",
              "var gd = document.getElementById('8f2e3cad-f865-439e-8bec-48c6dbb92160');\n",
              "var x = new MutationObserver(function (mutations, observer) {{\n",
              "        var display = window.getComputedStyle(gd).display;\n",
              "        if (!display || display === 'none') {{\n",
              "            console.log([gd, 'removed!']);\n",
              "            Plotly.purge(gd);\n",
              "            observer.disconnect();\n",
              "        }}\n",
              "}});\n",
              "\n",
              "// Listen for the removal of the full notebook cells\n",
              "var notebookContainer = gd.closest('#notebook-container');\n",
              "if (notebookContainer) {{\n",
              "    x.observe(notebookContainer, {childList: true});\n",
              "}}\n",
              "\n",
              "// Listen for the clearing of the current output cell\n",
              "var outputEl = gd.closest('.output');\n",
              "if (outputEl) {{\n",
              "    x.observe(outputEl, {childList: true});\n",
              "}}\n",
              "\n",
              "                        })                };                            </script>        </div>\n",
              "</body>\n",
              "</html>"
            ]
          },
          "metadata": {}
        },
        {
          "output_type": "stream",
          "name": "stdout",
          "text": [
            "plot generated -  2021-11-14 17:56:32.311636\n",
            "\n",
            "For google_USE-internship in data: opt. # of k-means clusters is 6 \n",
            "\n"
          ]
        },
        {
          "output_type": "display_data",
          "data": {
            "text/html": [
              "<html>\n",
              "<head><meta charset=\"utf-8\" /></head>\n",
              "<body>\n",
              "    <div>            <script src=\"https://cdnjs.cloudflare.com/ajax/libs/mathjax/2.7.5/MathJax.js?config=TeX-AMS-MML_SVG\"></script><script type=\"text/javascript\">if (window.MathJax) {MathJax.Hub.Config({SVG: {font: \"STIX-Web\"}});}</script>                <script type=\"text/javascript\">window.PlotlyConfig = {MathJaxConfig: 'local'};</script>\n",
              "        <script src=\"https://cdn.plot.ly/plotly-2.4.2.min.js\"></script>                <div id=\"6392092f-3c89-4897-97a2-3f367e88f71d\" class=\"plotly-graph-div\" style=\"height:720px; width:960px;\"></div>            <script type=\"text/javascript\">                                    window.PLOTLYENV=window.PLOTLYENV || {};                                    if (document.getElementById(\"6392092f-3c89-4897-97a2-3f367e88f71d\")) {                    Plotly.newPlot(                        \"6392092f-3c89-4897-97a2-3f367e88f71d\",                        [{\"customdata\":[[\"intern environment affairs temporary\",\"United Nations\",\"vor 1 Tag\",\"11.14.2021\",\"17:56:28\",\"0\"],[\"emea procurement manager internship procurement lea\",\"Johnson & Johnson Family of Companies\",\"vor 2 Tagen\",\"11.14.2021\",\"17:56:28\",\"0\"],[\"intern covax strategic coordination office\",\"Gavi, the Vaccine Alliance Secretariat\",\"vor 5 Tagen\",\"11.14.2021\",\"17:56:28\",\"0\"],[\"syncros marketing trainee\",\"SCOTT SPORTS\",\"vor 6 Tagen\",\"11.14.2021\",\"17:56:28\",\"0\"],[\"e bike marketing trainee\",\"SCOTT SPORTS\",\"vor 6 Tagen\",\"11.14.2021\",\"17:56:28\",\"0\"],[\"regional marketing internship\",\"Hill's Pet Nutrition\",\"vor 9 Tagen\",\"11.14.2021\",\"17:56:28\",\"0\"],[\"merchandising intern months\",\"Vorwerk International & Co. KmG\",\"vor 10 Tagen\",\"11.14.2021\",\"17:56:28\",\"0\"],[\"internship epm process expert\",\"Novartis\",\"vor 11 Tagen\",\"11.14.2021\",\"17:56:28\",\"0\"],[\"vertical marketing specialist internship\",\"Honeywell\",\"vor 9 Tagen\",\"11.14.2021\",\"17:56:28\",\"0\"],[\"intern junior sales mark w\",\"Soci\\u00e9t\\u00e9 G\\u00e9n\\u00e9rale\",\"vor 10 Tagen\",\"11.14.2021\",\"17:56:28\",\"0\"]],\"hovertemplate\":\"kmeans=%{customdata[5]}<br>pca_x=%{x}<br>pca_y=%{y}<br>titles=%{customdata[0]}<br>companies=%{customdata[1]}<br>date_listed=%{customdata[2]}<br>date_pulled=%{customdata[3]}<br>time_pulled=%{customdata[4]}<extra></extra>\",\"legendgroup\":\"0\",\"marker\":{\"color\":\"#636efa\",\"symbol\":\"circle\"},\"mode\":\"markers\",\"name\":\"0\",\"orientation\":\"v\",\"showlegend\":true,\"type\":\"scatter\",\"x\":[-0.30119605923310233,-0.08550932907788325,0.003177286308118196,-0.3288388025957712,-0.3689200343806084,-0.3739332672323948,-0.3917414874308356,-0.19164699807765267,-0.25899542442751844,-0.18093865185032015],\"xaxis\":\"x\",\"y\":[-0.20541374865426276,-0.03711613584023215,0.05231277278423346,0.08066383742652847,0.12224299998780923,0.009936781575075508,-0.16679646613068813,-0.12591890480760393,-0.039226166773784175,0.01816014311343803],\"yaxis\":\"y\"},{\"customdata\":[[\"internship data analysis engineer\",\"greenTEG AG\",\"vor 1 Tag\",\"11.14.2021\",\"17:56:28\",\"5\"],[\"internship software engineer\",\"Second Spectrum\",\"vor 1 Tag\",\"11.14.2021\",\"17:56:28\",\"5\"],[\"intern enabling business global agile projects\",\"Siemens\",\"vor 2 Tagen\",\"11.14.2021\",\"17:56:28\",\"5\"],[\"internship digital innovation\",\"TotalEnergies\",\"vor 2 Tagen\",\"11.14.2021\",\"17:56:28\",\"5\"],[\"crm data scientist internship\",\"Tally Weijl\",\"vor 3 Tagen\",\"11.14.2021\",\"17:56:28\",\"5\"],[\"postgraduate lv producer cell line engineering\",\"Novartis\",\"vor 3 Tagen\",\"11.14.2021\",\"17:56:28\",\"5\"],[\"intern people talent months\",\"Sygnum Bank AG\",\"vor 4 Tagen\",\"11.14.2021\",\"17:56:28\",\"5\"],[\"research intern full body capture reconstruction phd\",\"Meta\",\"vor 5 Tagen\",\"11.14.2021\",\"17:56:28\",\"5\"],[\"intern rrp tobacco processing equipment neuchatel switzerla\",\"Philip Morris International\",\"vor 12 Tagen\",\"11.14.2021\",\"17:56:28\",\"5\"],[\"forensics working student part time\",\"EY\",\"vor 7 Tagen\",\"11.14.2021\",\"17:56:28\",\"5\"],[\"intern cellular assay development\",\"Novartis\",\"vor 11 Tagen\",\"11.14.2021\",\"17:56:28\",\"5\"],[\"postgraduate aav producer cell line engineering\",\"Novartis\",\"vor 10 Tagen\",\"11.14.2021\",\"17:56:28\",\"5\"],[\"post doc biologics pharmaceutical development\",\"Novartis\",\"vor 10 Tagen\",\"11.14.2021\",\"17:56:28\",\"5\"],[\"intern strategy transactions sat transaction dilig\",\"EY\",\"vor 7 Tagen\",\"11.14.2021\",\"17:56:28\",\"5\"],[\"biostatistics intern\",\"HEMEX AG\",\"vor 11 Tagen\",\"11.14.2021\",\"17:56:28\",\"5\"],[\"working student social media renewable energy startup\",\"Exnaton AG, ETH Spinoff\",\"vor 9 Tagen\",\"11.14.2021\",\"17:56:28\",\"5\"]],\"hovertemplate\":\"kmeans=%{customdata[5]}<br>pca_x=%{x}<br>pca_y=%{y}<br>titles=%{customdata[0]}<br>companies=%{customdata[1]}<br>date_listed=%{customdata[2]}<br>date_pulled=%{customdata[3]}<br>time_pulled=%{customdata[4]}<extra></extra>\",\"legendgroup\":\"5\",\"marker\":{\"color\":\"#EF553B\",\"symbol\":\"circle\"},\"mode\":\"markers\",\"name\":\"5\",\"orientation\":\"v\",\"showlegend\":true,\"type\":\"scatter\",\"x\":[-0.22646354305151334,-0.310998472396196,-0.1884266338348306,-0.4248614955511541,-0.13536258146118918,0.06763840149415094,-0.3603856265668764,-0.19383388225461698,-0.19215829919445546,-0.06227666451734573,-0.3312118307108007,0.01632003604305618,-0.07888330778821749,0.04908977484266416,-0.44599273178619414,-0.09673712429756032],\"xaxis\":\"x\",\"y\":[-0.08486985556390823,0.0025494695590641487,-0.27132684162916526,0.04457570898269874,-0.03682582487737307,-0.13887159286325257,-0.17590144410798533,0.041929450012341066,-0.2931252416776851,0.04707039807143983,-0.2103733109440626,-0.1322507079716399,0.027056998131808018,-0.30414594135630574,0.04406725861540864,0.17772784399456049],\"yaxis\":\"y\"},{\"customdata\":[[\"tm data science academy fellow\",\"Novartis\",\"vor 2 Tagen\",\"11.14.2021\",\"17:56:28\",\"4\"],[\"graduate job consultant strategy transactions transac\",\"EY\",\"vor 7 Tagen\",\"11.14.2021\",\"17:56:28\",\"4\"],[\"senior consultant analytics data science technology\",\"EY\",\"vor 7 Tagen\",\"11.14.2021\",\"17:56:28\",\"4\"],[\"senior manager leading ey switzerland blockchain di\",\"EY\",\"vor 7 Tagen\",\"11.14.2021\",\"17:56:28\",\"4\"],[\"cyber security senior manager\",\"EY\",\"vor 10 Tagen\",\"11.14.2021\",\"17:56:28\",\"4\"],[\"cyber security senior consultant\",\"EY\",\"vor 10 Tagen\",\"11.14.2021\",\"17:56:28\",\"4\"]],\"hovertemplate\":\"kmeans=%{customdata[5]}<br>pca_x=%{x}<br>pca_y=%{y}<br>titles=%{customdata[0]}<br>companies=%{customdata[1]}<br>date_listed=%{customdata[2]}<br>date_pulled=%{customdata[3]}<br>time_pulled=%{customdata[4]}<extra></extra>\",\"legendgroup\":\"4\",\"marker\":{\"color\":\"#00cc96\",\"symbol\":\"circle\"},\"mode\":\"markers\",\"name\":\"4\",\"orientation\":\"v\",\"showlegend\":true,\"type\":\"scatter\",\"x\":[-0.04695578047928955,0.3332230336216075,0.17271377133436255,0.45008209983253306,0.21226022711627363,0.2729312910983366],\"xaxis\":\"x\",\"y\":[0.07299302254199133,-0.11844165881315717,0.08584458951475882,0.04465465553851513,0.3644480387038571,0.3142120315123261],\"yaxis\":\"y\"},{\"customdata\":[[\"field applications engineering intern switzerland\",\"Texas Instruments\",\"vor 3 Tagen\",\"11.14.2021\",\"17:56:28\",\"3\"],[\"senior manager learning transformation geneva basel\",\"EY\",\"vor 3 Tagen\",\"11.14.2021\",\"17:56:28\",\"3\"],[\"manager learning transformation geneva basel zuric\",\"EY\",\"vor 3 Tagen\",\"11.14.2021\",\"17:56:28\",\"3\"],[\"senior consultant learning transformation geneva base\",\"EY\",\"vor 3 Tagen\",\"11.14.2021\",\"17:56:28\",\"3\"],[\"enterprise risk senior consultant zurich basel lausanne\",\"EY\",\"vor 4 Tagen\",\"11.14.2021\",\"17:56:28\",\"3\"],[\"consumer profiling insights intern lausanne switzerland\",\"Philip Morris International\",\"vor 10 Tagen\",\"11.14.2021\",\"17:56:28\",\"3\"]],\"hovertemplate\":\"kmeans=%{customdata[5]}<br>pca_x=%{x}<br>pca_y=%{y}<br>titles=%{customdata[0]}<br>companies=%{customdata[1]}<br>date_listed=%{customdata[2]}<br>date_pulled=%{customdata[3]}<br>time_pulled=%{customdata[4]}<extra></extra>\",\"legendgroup\":\"3\",\"marker\":{\"color\":\"#ab63fa\",\"symbol\":\"circle\"},\"mode\":\"markers\",\"name\":\"3\",\"orientation\":\"v\",\"showlegend\":true,\"type\":\"scatter\",\"x\":[-0.15933812435119565,0.2706018930923838,0.18580721105537268,0.274556449652662,0.4442408068783903,0.05978468607108161],\"xaxis\":\"x\",\"y\":[-0.24330656694640942,-0.2955272623402612,-0.3283174857992534,-0.1594029035431652,-0.2638728406094028,-0.36994859015410725],\"yaxis\":\"y\"},{\"customdata\":[[\"senior consultant financial services risk w focus resili\",\"EY\",\"vor 3 Tagen\",\"11.14.2021\",\"17:56:28\",\"1\"],[\"intern financial services consulting actuarial zurich\",\"EY\",\"vor 11 Tagen\",\"11.14.2021\",\"17:56:28\",\"1\"],[\"consultant emeia financial services strategy zurich st\",\"EY\",\"vor 11 Tagen\",\"11.14.2021\",\"17:56:28\",\"1\"],[\"manager financial services risk emeia financial services\",\"EY\",\"vor 10 Tagen\",\"11.14.2021\",\"17:56:28\",\"1\"],[\"senior consultant financial services consulting actuarial\",\"EY\",\"vor 11 Tagen\",\"11.14.2021\",\"17:56:28\",\"1\"],[\"experienced consultant senior consultant emeia financial\",\"EY\",\"vor 11 Tagen\",\"11.14.2021\",\"17:56:28\",\"1\"],[\"senior consultant sap agile business finance\",\"EY\",\"vor 13 Tagen\",\"11.14.2021\",\"17:56:28\",\"1\"]],\"hovertemplate\":\"kmeans=%{customdata[5]}<br>pca_x=%{x}<br>pca_y=%{y}<br>titles=%{customdata[0]}<br>companies=%{customdata[1]}<br>date_listed=%{customdata[2]}<br>date_pulled=%{customdata[3]}<br>time_pulled=%{customdata[4]}<extra></extra>\",\"legendgroup\":\"1\",\"marker\":{\"color\":\"#FFA15A\",\"symbol\":\"circle\"},\"mode\":\"markers\",\"name\":\"1\",\"orientation\":\"v\",\"showlegend\":true,\"type\":\"scatter\",\"x\":[0.566144085369335,0.2875066510312255,0.5959407693078215,0.5127576201718008,0.5397170554736717,0.49336891017529705,0.3710894676075415],\"xaxis\":\"x\",\"y\":[0.04104573673797914,-0.20434383544321483,-0.1466768282645447,0.06941186781533881,0.10760034391592896,0.08394476959528137,-0.04349990962654436],\"yaxis\":\"y\"},{\"customdata\":[[\"research associate\",\"We make it\",\"vor 5 Tagen\",\"11.14.2021\",\"17:56:28\",\"2\"],[\"communication coordinator\",\"Freeride World Tour\",\"vor 6 Tagen\",\"11.14.2021\",\"17:56:28\",\"2\"],[\"research associate w\",\"Work Selection\",\"vor 6 Tagen\",\"11.14.2021\",\"17:56:28\",\"2\"],[\"student researcher\",\"Google\",\"vor 12 Tagen\",\"11.14.2021\",\"17:56:28\",\"2\"],[\"research innovation intern f\",\"SCOTT SPORTS\",\"vor 10 Tagen\",\"11.14.2021\",\"17:56:28\",\"2\"]],\"hovertemplate\":\"kmeans=%{customdata[5]}<br>pca_x=%{x}<br>pca_y=%{y}<br>titles=%{customdata[0]}<br>companies=%{customdata[1]}<br>date_listed=%{customdata[2]}<br>date_pulled=%{customdata[3]}<br>time_pulled=%{customdata[4]}<extra></extra>\",\"legendgroup\":\"2\",\"marker\":{\"color\":\"#19d3f3\",\"symbol\":\"circle\"},\"mode\":\"markers\",\"name\":\"2\",\"orientation\":\"v\",\"showlegend\":true,\"type\":\"scatter\",\"x\":[-0.09507836759263379,0.12672901051764282,0.035796602894936906,-0.14209145076126178,-0.3687011700888469],\"xaxis\":\"x\",\"y\":[0.7352470071804367,0.4559133994529319,0.7289297161600296,0.4200193300707413,0.20294189374348784],\"yaxis\":\"y\"}],                        {\"height\":720,\"legend\":{\"title\":{\"text\":\"kmeans\"},\"tracegroupgap\":0},\"template\":{\"data\":{\"bar\":[{\"error_x\":{\"color\":\"#f2f5fa\"},\"error_y\":{\"color\":\"#f2f5fa\"},\"marker\":{\"line\":{\"color\":\"rgb(17,17,17)\",\"width\":0.5},\"pattern\":{\"fillmode\":\"overlay\",\"size\":10,\"solidity\":0.2}},\"type\":\"bar\"}],\"barpolar\":[{\"marker\":{\"line\":{\"color\":\"rgb(17,17,17)\",\"width\":0.5},\"pattern\":{\"fillmode\":\"overlay\",\"size\":10,\"solidity\":0.2}},\"type\":\"barpolar\"}],\"carpet\":[{\"aaxis\":{\"endlinecolor\":\"#A2B1C6\",\"gridcolor\":\"#506784\",\"linecolor\":\"#506784\",\"minorgridcolor\":\"#506784\",\"startlinecolor\":\"#A2B1C6\"},\"baxis\":{\"endlinecolor\":\"#A2B1C6\",\"gridcolor\":\"#506784\",\"linecolor\":\"#506784\",\"minorgridcolor\":\"#506784\",\"startlinecolor\":\"#A2B1C6\"},\"type\":\"carpet\"}],\"choropleth\":[{\"colorbar\":{\"outlinewidth\":0,\"ticks\":\"\"},\"type\":\"choropleth\"}],\"contour\":[{\"colorbar\":{\"outlinewidth\":0,\"ticks\":\"\"},\"colorscale\":[[0.0,\"#0d0887\"],[0.1111111111111111,\"#46039f\"],[0.2222222222222222,\"#7201a8\"],[0.3333333333333333,\"#9c179e\"],[0.4444444444444444,\"#bd3786\"],[0.5555555555555556,\"#d8576b\"],[0.6666666666666666,\"#ed7953\"],[0.7777777777777778,\"#fb9f3a\"],[0.8888888888888888,\"#fdca26\"],[1.0,\"#f0f921\"]],\"type\":\"contour\"}],\"contourcarpet\":[{\"colorbar\":{\"outlinewidth\":0,\"ticks\":\"\"},\"type\":\"contourcarpet\"}],\"heatmap\":[{\"colorbar\":{\"outlinewidth\":0,\"ticks\":\"\"},\"colorscale\":[[0.0,\"#0d0887\"],[0.1111111111111111,\"#46039f\"],[0.2222222222222222,\"#7201a8\"],[0.3333333333333333,\"#9c179e\"],[0.4444444444444444,\"#bd3786\"],[0.5555555555555556,\"#d8576b\"],[0.6666666666666666,\"#ed7953\"],[0.7777777777777778,\"#fb9f3a\"],[0.8888888888888888,\"#fdca26\"],[1.0,\"#f0f921\"]],\"type\":\"heatmap\"}],\"heatmapgl\":[{\"colorbar\":{\"outlinewidth\":0,\"ticks\":\"\"},\"colorscale\":[[0.0,\"#0d0887\"],[0.1111111111111111,\"#46039f\"],[0.2222222222222222,\"#7201a8\"],[0.3333333333333333,\"#9c179e\"],[0.4444444444444444,\"#bd3786\"],[0.5555555555555556,\"#d8576b\"],[0.6666666666666666,\"#ed7953\"],[0.7777777777777778,\"#fb9f3a\"],[0.8888888888888888,\"#fdca26\"],[1.0,\"#f0f921\"]],\"type\":\"heatmapgl\"}],\"histogram\":[{\"marker\":{\"pattern\":{\"fillmode\":\"overlay\",\"size\":10,\"solidity\":0.2}},\"type\":\"histogram\"}],\"histogram2d\":[{\"colorbar\":{\"outlinewidth\":0,\"ticks\":\"\"},\"colorscale\":[[0.0,\"#0d0887\"],[0.1111111111111111,\"#46039f\"],[0.2222222222222222,\"#7201a8\"],[0.3333333333333333,\"#9c179e\"],[0.4444444444444444,\"#bd3786\"],[0.5555555555555556,\"#d8576b\"],[0.6666666666666666,\"#ed7953\"],[0.7777777777777778,\"#fb9f3a\"],[0.8888888888888888,\"#fdca26\"],[1.0,\"#f0f921\"]],\"type\":\"histogram2d\"}],\"histogram2dcontour\":[{\"colorbar\":{\"outlinewidth\":0,\"ticks\":\"\"},\"colorscale\":[[0.0,\"#0d0887\"],[0.1111111111111111,\"#46039f\"],[0.2222222222222222,\"#7201a8\"],[0.3333333333333333,\"#9c179e\"],[0.4444444444444444,\"#bd3786\"],[0.5555555555555556,\"#d8576b\"],[0.6666666666666666,\"#ed7953\"],[0.7777777777777778,\"#fb9f3a\"],[0.8888888888888888,\"#fdca26\"],[1.0,\"#f0f921\"]],\"type\":\"histogram2dcontour\"}],\"mesh3d\":[{\"colorbar\":{\"outlinewidth\":0,\"ticks\":\"\"},\"type\":\"mesh3d\"}],\"parcoords\":[{\"line\":{\"colorbar\":{\"outlinewidth\":0,\"ticks\":\"\"}},\"type\":\"parcoords\"}],\"pie\":[{\"automargin\":true,\"type\":\"pie\"}],\"scatter\":[{\"marker\":{\"line\":{\"color\":\"#283442\"}},\"type\":\"scatter\"}],\"scatter3d\":[{\"line\":{\"colorbar\":{\"outlinewidth\":0,\"ticks\":\"\"}},\"marker\":{\"colorbar\":{\"outlinewidth\":0,\"ticks\":\"\"}},\"type\":\"scatter3d\"}],\"scattercarpet\":[{\"marker\":{\"colorbar\":{\"outlinewidth\":0,\"ticks\":\"\"}},\"type\":\"scattercarpet\"}],\"scattergeo\":[{\"marker\":{\"colorbar\":{\"outlinewidth\":0,\"ticks\":\"\"}},\"type\":\"scattergeo\"}],\"scattergl\":[{\"marker\":{\"line\":{\"color\":\"#283442\"}},\"type\":\"scattergl\"}],\"scattermapbox\":[{\"marker\":{\"colorbar\":{\"outlinewidth\":0,\"ticks\":\"\"}},\"type\":\"scattermapbox\"}],\"scatterpolar\":[{\"marker\":{\"colorbar\":{\"outlinewidth\":0,\"ticks\":\"\"}},\"type\":\"scatterpolar\"}],\"scatterpolargl\":[{\"marker\":{\"colorbar\":{\"outlinewidth\":0,\"ticks\":\"\"}},\"type\":\"scatterpolargl\"}],\"scatterternary\":[{\"marker\":{\"colorbar\":{\"outlinewidth\":0,\"ticks\":\"\"}},\"type\":\"scatterternary\"}],\"surface\":[{\"colorbar\":{\"outlinewidth\":0,\"ticks\":\"\"},\"colorscale\":[[0.0,\"#0d0887\"],[0.1111111111111111,\"#46039f\"],[0.2222222222222222,\"#7201a8\"],[0.3333333333333333,\"#9c179e\"],[0.4444444444444444,\"#bd3786\"],[0.5555555555555556,\"#d8576b\"],[0.6666666666666666,\"#ed7953\"],[0.7777777777777778,\"#fb9f3a\"],[0.8888888888888888,\"#fdca26\"],[1.0,\"#f0f921\"]],\"type\":\"surface\"}],\"table\":[{\"cells\":{\"fill\":{\"color\":\"#506784\"},\"line\":{\"color\":\"rgb(17,17,17)\"}},\"header\":{\"fill\":{\"color\":\"#2a3f5f\"},\"line\":{\"color\":\"rgb(17,17,17)\"}},\"type\":\"table\"}]},\"layout\":{\"annotationdefaults\":{\"arrowcolor\":\"#f2f5fa\",\"arrowhead\":0,\"arrowwidth\":1},\"autotypenumbers\":\"strict\",\"coloraxis\":{\"colorbar\":{\"outlinewidth\":0,\"ticks\":\"\"}},\"colorscale\":{\"diverging\":[[0,\"#8e0152\"],[0.1,\"#c51b7d\"],[0.2,\"#de77ae\"],[0.3,\"#f1b6da\"],[0.4,\"#fde0ef\"],[0.5,\"#f7f7f7\"],[0.6,\"#e6f5d0\"],[0.7,\"#b8e186\"],[0.8,\"#7fbc41\"],[0.9,\"#4d9221\"],[1,\"#276419\"]],\"sequential\":[[0.0,\"#0d0887\"],[0.1111111111111111,\"#46039f\"],[0.2222222222222222,\"#7201a8\"],[0.3333333333333333,\"#9c179e\"],[0.4444444444444444,\"#bd3786\"],[0.5555555555555556,\"#d8576b\"],[0.6666666666666666,\"#ed7953\"],[0.7777777777777778,\"#fb9f3a\"],[0.8888888888888888,\"#fdca26\"],[1.0,\"#f0f921\"]],\"sequentialminus\":[[0.0,\"#0d0887\"],[0.1111111111111111,\"#46039f\"],[0.2222222222222222,\"#7201a8\"],[0.3333333333333333,\"#9c179e\"],[0.4444444444444444,\"#bd3786\"],[0.5555555555555556,\"#d8576b\"],[0.6666666666666666,\"#ed7953\"],[0.7777777777777778,\"#fb9f3a\"],[0.8888888888888888,\"#fdca26\"],[1.0,\"#f0f921\"]]},\"colorway\":[\"#636efa\",\"#EF553B\",\"#00cc96\",\"#ab63fa\",\"#FFA15A\",\"#19d3f3\",\"#FF6692\",\"#B6E880\",\"#FF97FF\",\"#FECB52\"],\"font\":{\"color\":\"#f2f5fa\"},\"geo\":{\"bgcolor\":\"rgb(17,17,17)\",\"lakecolor\":\"rgb(17,17,17)\",\"landcolor\":\"rgb(17,17,17)\",\"showlakes\":true,\"showland\":true,\"subunitcolor\":\"#506784\"},\"hoverlabel\":{\"align\":\"left\"},\"hovermode\":\"closest\",\"mapbox\":{\"style\":\"dark\"},\"paper_bgcolor\":\"rgb(17,17,17)\",\"plot_bgcolor\":\"rgb(17,17,17)\",\"polar\":{\"angularaxis\":{\"gridcolor\":\"#506784\",\"linecolor\":\"#506784\",\"ticks\":\"\"},\"bgcolor\":\"rgb(17,17,17)\",\"radialaxis\":{\"gridcolor\":\"#506784\",\"linecolor\":\"#506784\",\"ticks\":\"\"}},\"scene\":{\"xaxis\":{\"backgroundcolor\":\"rgb(17,17,17)\",\"gridcolor\":\"#506784\",\"gridwidth\":2,\"linecolor\":\"#506784\",\"showbackground\":true,\"ticks\":\"\",\"zerolinecolor\":\"#C8D4E3\"},\"yaxis\":{\"backgroundcolor\":\"rgb(17,17,17)\",\"gridcolor\":\"#506784\",\"gridwidth\":2,\"linecolor\":\"#506784\",\"showbackground\":true,\"ticks\":\"\",\"zerolinecolor\":\"#C8D4E3\"},\"zaxis\":{\"backgroundcolor\":\"rgb(17,17,17)\",\"gridcolor\":\"#506784\",\"gridwidth\":2,\"linecolor\":\"#506784\",\"showbackground\":true,\"ticks\":\"\",\"zerolinecolor\":\"#C8D4E3\"}},\"shapedefaults\":{\"line\":{\"color\":\"#f2f5fa\"}},\"sliderdefaults\":{\"bgcolor\":\"#C8D4E3\",\"bordercolor\":\"rgb(17,17,17)\",\"borderwidth\":1,\"tickwidth\":0},\"ternary\":{\"aaxis\":{\"gridcolor\":\"#506784\",\"linecolor\":\"#506784\",\"ticks\":\"\"},\"baxis\":{\"gridcolor\":\"#506784\",\"linecolor\":\"#506784\",\"ticks\":\"\"},\"bgcolor\":\"rgb(17,17,17)\",\"caxis\":{\"gridcolor\":\"#506784\",\"linecolor\":\"#506784\",\"ticks\":\"\"}},\"title\":{\"x\":0.05},\"updatemenudefaults\":{\"bgcolor\":\"#506784\",\"borderwidth\":0},\"xaxis\":{\"automargin\":true,\"gridcolor\":\"#283442\",\"linecolor\":\"#506784\",\"ticks\":\"\",\"title\":{\"standoff\":15},\"zerolinecolor\":\"#283442\",\"zerolinewidth\":2},\"yaxis\":{\"automargin\":true,\"gridcolor\":\"#283442\",\"linecolor\":\"#506784\",\"ticks\":\"\",\"title\":{\"standoff\":15},\"zerolinecolor\":\"#283442\",\"zerolinewidth\":2}}},\"title\":{\"text\":\"Nov-14-2021 viz Jobs by 'titles' via google USE + pca | internship in data\"},\"width\":960,\"xaxis\":{\"anchor\":\"y\",\"domain\":[0.0,1.0],\"title\":{\"text\":\"pca_x\"}},\"yaxis\":{\"anchor\":\"x\",\"domain\":[0.0,1.0],\"title\":{\"text\":\"pca_y\"}}},                        {\"responsive\": true}                    ).then(function(){\n",
              "                            \n",
              "var gd = document.getElementById('6392092f-3c89-4897-97a2-3f367e88f71d');\n",
              "var x = new MutationObserver(function (mutations, observer) {{\n",
              "        var display = window.getComputedStyle(gd).display;\n",
              "        if (!display || display === 'none') {{\n",
              "            console.log([gd, 'removed!']);\n",
              "            Plotly.purge(gd);\n",
              "            observer.disconnect();\n",
              "        }}\n",
              "}});\n",
              "\n",
              "// Listen for the removal of the full notebook cells\n",
              "var notebookContainer = gd.closest('#notebook-container');\n",
              "if (notebookContainer) {{\n",
              "    x.observe(notebookContainer, {childList: true});\n",
              "}}\n",
              "\n",
              "// Listen for the clearing of the current output cell\n",
              "var outputEl = gd.closest('.output');\n",
              "if (outputEl) {{\n",
              "    x.observe(outputEl, {childList: true});\n",
              "}}\n",
              "\n",
              "                        })                };                            </script>        </div>\n",
              "</body>\n",
              "</html>"
            ]
          },
          "metadata": {}
        },
        {
          "output_type": "stream",
          "name": "stdout",
          "text": [
            "plot generated -  2021-11-14 17:56:33.990937\n"
          ]
        }
      ]
    },
    {
      "cell_type": "markdown",
      "metadata": {
        "id": "hl1s68pygQNa"
      },
      "source": [
        "### query 2 - all jobs in Switzerland for English Speakers\n",
        "\n",
        "*This is the special case where Indeed shows you all CH-English jobs and it doesn't follow standard search query logic / HTML (has its own page)*"
      ]
    },
    {
      "cell_type": "code",
      "metadata": {
        "id": "9abIK_KOgVqW",
        "colab": {
          "base_uri": "https://localhost:8080/",
          "height": 1080
        },
        "outputId": "63a3dfad-0ff1-4d84-ed3b-b5f13161e7c7"
      },
      "source": [
        "jq2 = \"indeed_default\" # passing this phrase in causes it to search for all en jobs\n",
        "jt2 = \"all\"\n",
        "# in the case of \"run the special case on Indeed\" query terms don't matter\n",
        "chdf2 = find_CHjobs_from(website=\"indeed_default\", job_query=\"gimme\", \n",
        "                         desired_characs=desired_characs)\n",
        "\n",
        "q2_processed = indeed_postprocess(chdf2, query_term=jq2, query_jobtype=jt2,\n",
        "                       shorten_links=False, download_excel=False)\n",
        "\n",
        "data_table.DataTable(indeed_datatable(q2_processed), \n",
        "                     include_index=False, num_rows_per_page=20)"
      ],
      "execution_count": 24,
      "outputs": [
        {
          "output_type": "display_data",
          "data": {
            "text/html": [
              "\n",
              "  <style>\n",
              "    pre {\n",
              "        white-space: pre-wrap;\n",
              "    }\n",
              "  </style>\n",
              "  "
            ],
            "text/plain": [
              "<IPython.core.display.HTML object>"
            ]
          },
          "metadata": {}
        },
        {
          "output_type": "stream",
          "name": "stdout",
          "text": [
            "50 new job postings retrieved from indeed_default. Stored in Nov-14-2021_[raw]_scraped_jobs_CH.xls.\n",
            "Starting postprocess -  2021-11-14 17:56:34.874777\n",
            "Count of column 'companies' appearances in search:\n",
            "\n",
            "Johnson & Johnson Family of Companies    5\n",
            "UBS                                      5\n",
            "H+O communications Ltd.                  4\n",
            "Credit Suisse                            4\n",
            "International Trade Center Intracen      3\n",
            "VF Corporation                           2\n",
            "Nespresso                                2\n",
            "Sony Europe BV, Switzerland Branch       1\n",
            "Robert Half                              1\n",
            "University of Lausanne                   1\n",
            "Name: companies, dtype: int64\n"
          ]
        },
        {
          "output_type": "execute_result",
          "data": {
            "application/vnd.google.colaboratory.module+javascript": "\n      import \"https://ssl.gstatic.com/colaboratory/data_table/a6224c040fa35dcf/data_table.js\";\n\n      window.createDataTable({\n        data: [[\"digital project coordinator\",\n\"H+O communications Ltd.\",\n\"Gerade geschaltet\",\n\"not_created\",\n\"11.14.2021\",\n\"17:56:34\",\n\"support initial digital concept implemen..\"],\n [\"internship - medical communications\",\n\"H+O communications Ltd.\",\n\"Gerade geschaltet\",\n\"not_created\",\n\"11.14.2021\",\n\"17:56:34\",\n\"medical communications pharmaceutical ma..\"],\n [\"web specialist\",\n\"H+O communications Ltd.\",\n\"Gerade geschaltet\",\n\"not_created\",\n\"11.14.2021\",\n\"17:56:34\",\n\"technically affinitive implementing new ..\"],\n [\"senior medical writer\",\n\"H+O communications Ltd.\",\n\"Gerade geschaltet\",\n\"not_created\",\n\"11.14.2021\",\n\"17:56:34\",\n\"full service medical communications agen..\"],\n [\"zimmermadchen roomboy w\",\n\"Precise Tale Seehof Davos\",\n\"Heute\",\n\"not_created\",\n\"11.14.2021\",\n\"17:56:34\",\n\"auf ihre bewerbung und darauf sie der pr..\"],\n [\"associate full professor translational cell immunolo\",\n\"University of Lausanne\",\n\"Heute\",\n\"not_created\",\n\"11.14.2021\",\n\"17:56:34\",\n\"associate full professor translational c..\"],\n [\"anti bribery corruption compliance officer\",\n\"Credit Suisse\",\n\"Heute\",\n\"not_created\",\n\"11.14.2021\",\n\"17:56:34\",\n\"join us anti bribery corruption abc comp..\"],\n [\"senior avaloq consultant\",\n\"philico\",\n\"Heute\",\n\"not_created\",\n\"11.14.2021\",\n\"17:56:34\",\n\"senior avaloq consultant work closely cl..\"],\n [\"team assistant\",\n\"Timberland\",\n\"vor 1 Tag\",\n\"not_created\",\n\"11.14.2021\",\n\"17:56:34\",\n\"role assist timberland global apparel vp..\"],\n [\"executive assistant\",\n\"Johnson & Johnson Family of Companies\",\n\"vor 1 Tag\",\n\"not_created\",\n\"11.14.2021\",\n\"17:56:34\",\n\"purpose role provide proactive professio..\"],\n [\"strategic recruiter wealth management switzerland\",\n\"UBS\",\n\"vor 1 Tag\",\n\"not_created\",\n\"11.14.2021\",\n\"17:56:34\",\n\"deliver exceptional talent acquisition e..\"],\n [\"information evidence officer\",\n\"United Nations\",\n\"vor 1 Tag\",\n\"not_created\",\n\"11.14.2021\",\n\"17:56:34\",\n\"conducts information evidence review ana..\"],\n [\"client manager italy international\",\n\"Credit Suisse\",\n\"vor 1 Tag\",\n\"not_created\",\n\"11.14.2021\",\n\"17:56:34\",\n\"support team relationship managers servi..\"],\n [\"demand planner footwear napapijri\",\n\"Napapijri\",\n\"vor 1 Tag\",\n\"not_created\",\n\"11.14.2021\",\n\"17:56:34\",\n\"coordinate planning activities deadlines..\"],\n [\"team assistant timberland global apparel\",\n\"VF Corporation\",\n\"vor 1 Tag\",\n\"not_created\",\n\"11.14.2021\",\n\"17:56:34\",\n\"role assist timberland global apparel vp..\"],\n [\"supply chain controller\",\n\"Nespresso\",\n\"vor 1 Tag\",\n\"not_created\",\n\"11.14.2021\",\n\"17:56:34\",\n\"type contact permanent contract supply c..\"],\n [\"vice president operations\",\n\"ACCOR\",\n\"vor 1 Tag\",\n\"not_created\",\n\"11.14.2021\",\n\"17:56:34\",\n\"northern europe operations leadership te..\"],\n [\"p associate statistician dmd tmi\",\n\"International Trade Center Intracen\",\n\"vor 1 Tag\",\n\"not_created\",\n\"11.14.2021\",\n\"17:56:34\",\n\"division market development dmd trade ma..\"],\n [\"p programme officer coordination dmd tmi\",\n\"International Trade Center Intracen\",\n\"vor 1 Tag\",\n\"not_created\",\n\"11.14.2021\",\n\"17:56:34\",\n\"division market development dmd trade ma..\"],\n [\"demand planner footwear napapijri\",\n\"VF Corporation\",\n\"vor 1 Tag\",\n\"not_created\",\n\"11.14.2021\",\n\"17:56:34\",\n\"coordinate planning activities deadlines..\"],\n [\"finance officer\",\n\"Dansk Flygtningehj\\u00e6lp\",\n\"vor 1 Tag\",\n\"not_created\",\n\"11.14.2021\",\n\"17:56:34\",\n\"finance officer forms part support servi..\"],\n [\"software quality engineer essential swiss medtech\",\n\"NonStop Consulting\",\n\"vor 1 Tag\",\n\"not_created\",\n\"11.14.2021\",\n\"17:56:34\",\n\"reporting qa manager software quality as..\"],\n [\"incident manager\",\n\"UBS\",\n\"vor 1 Tag\",\n\"not_created\",\n\"11.14.2021\",\n\"17:56:34\",\n\"provide production overview central poin..\"],\n [\"p programme officer capacity building dmd tmi\",\n\"International Trade Center Intracen\",\n\"vor 1 Tag\",\n\"not_created\",\n\"11.14.2021\",\n\"17:56:34\",\n\"division market development dmd trade ma..\"],\n [\"controlling specialist\",\n\"Nespresso\",\n\"vor 1 Tag\",\n\"not_created\",\n\"11.14.2021\",\n\"17:56:34\",\n\"type contact permanent contract controll..\"],\n [\"surveillance operational integrity officer\",\n\"Credit Suisse\",\n\"vor 1 Tag\",\n\"not_created\",\n\"11.14.2021\",\n\"17:56:34\",\n\"surveillance operational integrity team ..\"],\n [\"qc equipment specialist\",\n\"GSK\",\n\"vor 1 Tag\",\n\"not_created\",\n\"11.14.2021\",\n\"17:56:34\",\n\"qc equipment specialist role manage equi..\"],\n [\"r modelling specialist\",\n\"Nestl\\u00e9\",\n\"vor 1 Tag\",\n\"not_created\",\n\"11.14.2021\",\n\"17:56:34\",\n\"act rate full time act phd field physics..\"],\n [\"marketing campaign manager\",\n\"easyJet\",\n\"vor 1 Tag\",\n\"not_created\",\n\"11.14.2021\",\n\"17:56:34\",\n\"airline travel inspire ... role ' respon..\"],\n [\"associate specialist qa lmm\",\n\"Johnson & Johnson Family of Companies\",\n\"vor 1 Tag\",\n\"not_created\",\n\"11.14.2021\",\n\"17:56:34\",\n\"specialist performs activities required ..\"],\n [\"intern junior research scientist\",\n\"Sony Europe BV, Switzerland Branch\",\n\"vor 1 Tag\",\n\"not_created\",\n\"11.14.2021\",\n\"17:56:34\",\n\"junior research scientist focus robotics..\"],\n [\"finance manager jbs alliance management\",\n\"Johnson & Johnson Family of Companies\",\n\"vor 1 Tag\",\n\"not_created\",\n\"11.14.2021\",\n\"17:56:34\",\n\"role support broader controlling organis..\"],\n [\"talent sourcing specialist\",\n\"Synpulse\",\n\"vor 1 Tag\",\n\"not_created\",\n\"11.14.2021\",\n\"17:56:34\",\n\"dabei beraten wir namhafte international..\"],\n [\"senior vip travel manager\",\n\"FIFA\",\n\"vor 1 Tag\",\n\"not_created\",\n\"11.14.2021\",\n\"17:56:34\",\n\"fifa new operating model looking pro act..\"],\n [\"senior hr coordinator\",\n\"SGS\",\n\"vor 1 Tag\",\n\"not_created\",\n\"11.14.2021\",\n\"17:56:34\",\n\"part hr operations team role responsible..\"],\n [\"master production planner temporary months\",\n\"Johnson & Johnson Family of Companies\",\n\"vor 1 Tag\",\n\"not_created\",\n\"11.14.2021\",\n\"17:56:34\",\n\"master production planner f months tempo..\"],\n [\"manager audit industries geneva\",\n\"EY\",\n\"vor 1 Tag\",\n\"not_created\",\n\"11.14.2021\",\n\"17:56:34\",\n\"manage audits company ies headquartered ..\"],\n [\"securities specialist asset transfer focus funds\",\n\"UBS\",\n\"vor 1 Tag\",\n\"not_created\",\n\"11.14.2021\",\n\"17:56:34\",\n\"customer centric focused good record res..\"],\n [\"head quality erms risk change projects\",\n\"UBS\",\n\"vor 1 Tag\",\n\"not_created\",\n\"11.14.2021\",\n\"17:56:34\",\n\"define test strategy plan managing teams..\"],\n [\"scrum master business analyst\",\n\"Credit Suisse\",\n\"vor 1 Tag\",\n\"not_created\",\n\"11.14.2021\",\n\"17:56:34\",\n\"part truly agile cross functional team o..\"],\n [\"packaging project manager\",\n\"Persaga AG\",\n\"vor 1 Tag\",\n\"not_created\",\n\"11.14.2021\",\n\"17:56:34\",\n\"one clients international life science c..\"],\n [\"enterprise systems engineer\",\n\"Veeam\",\n\"vor 1 Tag\",\n\"not_created\",\n\"11.14.2021\",\n\"17:56:34\",\n\"veeam enterprise system engineers work c..\"],\n [\"head business intelligence applications f\",\n\"Alpiq\",\n\"vor 1 Tag\",\n\"not_created\",\n\"11.14.2021\",\n\"17:56:34\",\n\"plan implement alpiq business intelligen..\"],\n [\"team lead mes applications support\",\n\"SHL Group\",\n\"vor 1 Tag\",\n\"not_created\",\n\"11.14.2021\",\n\"17:56:34\",\n\"customers include top pharmaceutical bio..\"],\n [\"phd position genome assembly pangenome integration\",\n\"ETH Z\\u00fcrich\",\n\"vor 1 Tag\",\n\"not_created\",\n\"11.14.2021\",\n\"17:56:34\",\n\"group applies different state art techno..\"],\n [\"executive director product strategy\",\n\"Oracle\",\n\"vor 1 Tag\",\n\"not_created\",\n\"11.14.2021\",\n\"17:56:34\",\n\"applicants required read write speak fol..\"],\n [\"structurer weather commodity reinsurance f x\",\n\"Robert Half\",\n\"vor 1 Tag\",\n\"not_created\",\n\"11.14.2021\",\n\"17:56:34\",\n\"underwrite structure price weather commo..\"],\n [\"custody onboarding operational key account manager\",\n\"UBS\",\n\"vor 1 Tag\",\n\"not_created\",\n\"11.14.2021\",\n\"17:56:34\",\n\"coordinate boarding institutional wealth..\"],\n [\"team lead mes applications support\",\n\"SHL Medical AG\",\n\"vor 1 Tag\",\n\"not_created\",\n\"11.14.2021\",\n\"17:56:34\",\n\"november full time zug switzerland custo..\"],\n [\"senior specialist quality systems\",\n\"Johnson & Johnson Family of Companies\",\n\"vor 1 Tag\",\n\"not_created\",\n\"11.14.2021\",\n\"17:56:34\",\n\"senior specialist quality systems f act ..\"]],\n        columns: [[\"string\", \"titles\"], [\"string\", \"companies\"], [\"string\", \"date_listed\"], [\"string\", \"short_link\"], [\"string\", \"date_pulled\"], [\"string\", \"time_pulled\"], [\"string\", \"summary_short\"]],\n        columnOptions: [],\n        rowsPerPage: 20,\n        helpUrl: \"https://colab.research.google.com/notebooks/data_table.ipynb\",\n        suppressOutputScrolling: true,\n        minimumWidth: undefined,\n      });\n    ",
            "text/plain": [
              "<google.colab.data_table.DataTable object>"
            ],
            "text/html": [
              "<div>\n",
              "<style scoped>\n",
              "    .dataframe tbody tr th:only-of-type {\n",
              "        vertical-align: middle;\n",
              "    }\n",
              "\n",
              "    .dataframe tbody tr th {\n",
              "        vertical-align: top;\n",
              "    }\n",
              "\n",
              "    .dataframe thead th {\n",
              "        text-align: right;\n",
              "    }\n",
              "</style>\n",
              "<table border=\"1\" class=\"dataframe\">\n",
              "  <thead>\n",
              "    <tr style=\"text-align: right;\">\n",
              "      <th></th>\n",
              "      <th>titles</th>\n",
              "      <th>companies</th>\n",
              "      <th>date_listed</th>\n",
              "      <th>short_link</th>\n",
              "      <th>date_pulled</th>\n",
              "      <th>time_pulled</th>\n",
              "      <th>summary_short</th>\n",
              "    </tr>\n",
              "  </thead>\n",
              "  <tbody>\n",
              "    <tr>\n",
              "      <th>0</th>\n",
              "      <td>digital project coordinator</td>\n",
              "      <td>H+O communications Ltd.</td>\n",
              "      <td>Gerade geschaltet</td>\n",
              "      <td>not_created</td>\n",
              "      <td>11.14.2021</td>\n",
              "      <td>17:56:34</td>\n",
              "      <td>support initial digital concept implemen..</td>\n",
              "    </tr>\n",
              "    <tr>\n",
              "      <th>1</th>\n",
              "      <td>internship - medical communications</td>\n",
              "      <td>H+O communications Ltd.</td>\n",
              "      <td>Gerade geschaltet</td>\n",
              "      <td>not_created</td>\n",
              "      <td>11.14.2021</td>\n",
              "      <td>17:56:34</td>\n",
              "      <td>medical communications pharmaceutical ma..</td>\n",
              "    </tr>\n",
              "    <tr>\n",
              "      <th>2</th>\n",
              "      <td>web specialist</td>\n",
              "      <td>H+O communications Ltd.</td>\n",
              "      <td>Gerade geschaltet</td>\n",
              "      <td>not_created</td>\n",
              "      <td>11.14.2021</td>\n",
              "      <td>17:56:34</td>\n",
              "      <td>technically affinitive implementing new ..</td>\n",
              "    </tr>\n",
              "    <tr>\n",
              "      <th>3</th>\n",
              "      <td>senior medical writer</td>\n",
              "      <td>H+O communications Ltd.</td>\n",
              "      <td>Gerade geschaltet</td>\n",
              "      <td>not_created</td>\n",
              "      <td>11.14.2021</td>\n",
              "      <td>17:56:34</td>\n",
              "      <td>full service medical communications agen..</td>\n",
              "    </tr>\n",
              "    <tr>\n",
              "      <th>4</th>\n",
              "      <td>zimmermadchen roomboy w</td>\n",
              "      <td>Precise Tale Seehof Davos</td>\n",
              "      <td>Heute</td>\n",
              "      <td>not_created</td>\n",
              "      <td>11.14.2021</td>\n",
              "      <td>17:56:34</td>\n",
              "      <td>auf ihre bewerbung und darauf sie der pr..</td>\n",
              "    </tr>\n",
              "    <tr>\n",
              "      <th>5</th>\n",
              "      <td>associate full professor translational cell im...</td>\n",
              "      <td>University of Lausanne</td>\n",
              "      <td>Heute</td>\n",
              "      <td>not_created</td>\n",
              "      <td>11.14.2021</td>\n",
              "      <td>17:56:34</td>\n",
              "      <td>associate full professor translational c..</td>\n",
              "    </tr>\n",
              "    <tr>\n",
              "      <th>6</th>\n",
              "      <td>anti bribery corruption compliance officer</td>\n",
              "      <td>Credit Suisse</td>\n",
              "      <td>Heute</td>\n",
              "      <td>not_created</td>\n",
              "      <td>11.14.2021</td>\n",
              "      <td>17:56:34</td>\n",
              "      <td>join us anti bribery corruption abc comp..</td>\n",
              "    </tr>\n",
              "    <tr>\n",
              "      <th>7</th>\n",
              "      <td>senior avaloq consultant</td>\n",
              "      <td>philico</td>\n",
              "      <td>Heute</td>\n",
              "      <td>not_created</td>\n",
              "      <td>11.14.2021</td>\n",
              "      <td>17:56:34</td>\n",
              "      <td>senior avaloq consultant work closely cl..</td>\n",
              "    </tr>\n",
              "    <tr>\n",
              "      <th>8</th>\n",
              "      <td>team assistant</td>\n",
              "      <td>Timberland</td>\n",
              "      <td>vor 1 Tag</td>\n",
              "      <td>not_created</td>\n",
              "      <td>11.14.2021</td>\n",
              "      <td>17:56:34</td>\n",
              "      <td>role assist timberland global apparel vp..</td>\n",
              "    </tr>\n",
              "    <tr>\n",
              "      <th>9</th>\n",
              "      <td>executive assistant</td>\n",
              "      <td>Johnson &amp; Johnson Family of Companies</td>\n",
              "      <td>vor 1 Tag</td>\n",
              "      <td>not_created</td>\n",
              "      <td>11.14.2021</td>\n",
              "      <td>17:56:34</td>\n",
              "      <td>purpose role provide proactive professio..</td>\n",
              "    </tr>\n",
              "    <tr>\n",
              "      <th>10</th>\n",
              "      <td>strategic recruiter wealth management switzerland</td>\n",
              "      <td>UBS</td>\n",
              "      <td>vor 1 Tag</td>\n",
              "      <td>not_created</td>\n",
              "      <td>11.14.2021</td>\n",
              "      <td>17:56:34</td>\n",
              "      <td>deliver exceptional talent acquisition e..</td>\n",
              "    </tr>\n",
              "    <tr>\n",
              "      <th>11</th>\n",
              "      <td>information evidence officer</td>\n",
              "      <td>United Nations</td>\n",
              "      <td>vor 1 Tag</td>\n",
              "      <td>not_created</td>\n",
              "      <td>11.14.2021</td>\n",
              "      <td>17:56:34</td>\n",
              "      <td>conducts information evidence review ana..</td>\n",
              "    </tr>\n",
              "    <tr>\n",
              "      <th>12</th>\n",
              "      <td>client manager italy international</td>\n",
              "      <td>Credit Suisse</td>\n",
              "      <td>vor 1 Tag</td>\n",
              "      <td>not_created</td>\n",
              "      <td>11.14.2021</td>\n",
              "      <td>17:56:34</td>\n",
              "      <td>support team relationship managers servi..</td>\n",
              "    </tr>\n",
              "    <tr>\n",
              "      <th>13</th>\n",
              "      <td>demand planner footwear napapijri</td>\n",
              "      <td>Napapijri</td>\n",
              "      <td>vor 1 Tag</td>\n",
              "      <td>not_created</td>\n",
              "      <td>11.14.2021</td>\n",
              "      <td>17:56:34</td>\n",
              "      <td>coordinate planning activities deadlines..</td>\n",
              "    </tr>\n",
              "    <tr>\n",
              "      <th>14</th>\n",
              "      <td>team assistant timberland global apparel</td>\n",
              "      <td>VF Corporation</td>\n",
              "      <td>vor 1 Tag</td>\n",
              "      <td>not_created</td>\n",
              "      <td>11.14.2021</td>\n",
              "      <td>17:56:34</td>\n",
              "      <td>role assist timberland global apparel vp..</td>\n",
              "    </tr>\n",
              "    <tr>\n",
              "      <th>15</th>\n",
              "      <td>supply chain controller</td>\n",
              "      <td>Nespresso</td>\n",
              "      <td>vor 1 Tag</td>\n",
              "      <td>not_created</td>\n",
              "      <td>11.14.2021</td>\n",
              "      <td>17:56:34</td>\n",
              "      <td>type contact permanent contract supply c..</td>\n",
              "    </tr>\n",
              "    <tr>\n",
              "      <th>16</th>\n",
              "      <td>vice president operations</td>\n",
              "      <td>ACCOR</td>\n",
              "      <td>vor 1 Tag</td>\n",
              "      <td>not_created</td>\n",
              "      <td>11.14.2021</td>\n",
              "      <td>17:56:34</td>\n",
              "      <td>northern europe operations leadership te..</td>\n",
              "    </tr>\n",
              "    <tr>\n",
              "      <th>17</th>\n",
              "      <td>p associate statistician dmd tmi</td>\n",
              "      <td>International Trade Center Intracen</td>\n",
              "      <td>vor 1 Tag</td>\n",
              "      <td>not_created</td>\n",
              "      <td>11.14.2021</td>\n",
              "      <td>17:56:34</td>\n",
              "      <td>division market development dmd trade ma..</td>\n",
              "    </tr>\n",
              "    <tr>\n",
              "      <th>18</th>\n",
              "      <td>p programme officer coordination dmd tmi</td>\n",
              "      <td>International Trade Center Intracen</td>\n",
              "      <td>vor 1 Tag</td>\n",
              "      <td>not_created</td>\n",
              "      <td>11.14.2021</td>\n",
              "      <td>17:56:34</td>\n",
              "      <td>division market development dmd trade ma..</td>\n",
              "    </tr>\n",
              "    <tr>\n",
              "      <th>19</th>\n",
              "      <td>demand planner footwear napapijri</td>\n",
              "      <td>VF Corporation</td>\n",
              "      <td>vor 1 Tag</td>\n",
              "      <td>not_created</td>\n",
              "      <td>11.14.2021</td>\n",
              "      <td>17:56:34</td>\n",
              "      <td>coordinate planning activities deadlines..</td>\n",
              "    </tr>\n",
              "    <tr>\n",
              "      <th>20</th>\n",
              "      <td>finance officer</td>\n",
              "      <td>Dansk Flygtningehjælp</td>\n",
              "      <td>vor 1 Tag</td>\n",
              "      <td>not_created</td>\n",
              "      <td>11.14.2021</td>\n",
              "      <td>17:56:34</td>\n",
              "      <td>finance officer forms part support servi..</td>\n",
              "    </tr>\n",
              "    <tr>\n",
              "      <th>21</th>\n",
              "      <td>software quality engineer essential swiss medtech</td>\n",
              "      <td>NonStop Consulting</td>\n",
              "      <td>vor 1 Tag</td>\n",
              "      <td>not_created</td>\n",
              "      <td>11.14.2021</td>\n",
              "      <td>17:56:34</td>\n",
              "      <td>reporting qa manager software quality as..</td>\n",
              "    </tr>\n",
              "    <tr>\n",
              "      <th>22</th>\n",
              "      <td>incident manager</td>\n",
              "      <td>UBS</td>\n",
              "      <td>vor 1 Tag</td>\n",
              "      <td>not_created</td>\n",
              "      <td>11.14.2021</td>\n",
              "      <td>17:56:34</td>\n",
              "      <td>provide production overview central poin..</td>\n",
              "    </tr>\n",
              "    <tr>\n",
              "      <th>23</th>\n",
              "      <td>p programme officer capacity building dmd tmi</td>\n",
              "      <td>International Trade Center Intracen</td>\n",
              "      <td>vor 1 Tag</td>\n",
              "      <td>not_created</td>\n",
              "      <td>11.14.2021</td>\n",
              "      <td>17:56:34</td>\n",
              "      <td>division market development dmd trade ma..</td>\n",
              "    </tr>\n",
              "    <tr>\n",
              "      <th>24</th>\n",
              "      <td>controlling specialist</td>\n",
              "      <td>Nespresso</td>\n",
              "      <td>vor 1 Tag</td>\n",
              "      <td>not_created</td>\n",
              "      <td>11.14.2021</td>\n",
              "      <td>17:56:34</td>\n",
              "      <td>type contact permanent contract controll..</td>\n",
              "    </tr>\n",
              "    <tr>\n",
              "      <th>25</th>\n",
              "      <td>surveillance operational integrity officer</td>\n",
              "      <td>Credit Suisse</td>\n",
              "      <td>vor 1 Tag</td>\n",
              "      <td>not_created</td>\n",
              "      <td>11.14.2021</td>\n",
              "      <td>17:56:34</td>\n",
              "      <td>surveillance operational integrity team ..</td>\n",
              "    </tr>\n",
              "    <tr>\n",
              "      <th>26</th>\n",
              "      <td>qc equipment specialist</td>\n",
              "      <td>GSK</td>\n",
              "      <td>vor 1 Tag</td>\n",
              "      <td>not_created</td>\n",
              "      <td>11.14.2021</td>\n",
              "      <td>17:56:34</td>\n",
              "      <td>qc equipment specialist role manage equi..</td>\n",
              "    </tr>\n",
              "    <tr>\n",
              "      <th>27</th>\n",
              "      <td>r modelling specialist</td>\n",
              "      <td>Nestlé</td>\n",
              "      <td>vor 1 Tag</td>\n",
              "      <td>not_created</td>\n",
              "      <td>11.14.2021</td>\n",
              "      <td>17:56:34</td>\n",
              "      <td>act rate full time act phd field physics..</td>\n",
              "    </tr>\n",
              "    <tr>\n",
              "      <th>28</th>\n",
              "      <td>marketing campaign manager</td>\n",
              "      <td>easyJet</td>\n",
              "      <td>vor 1 Tag</td>\n",
              "      <td>not_created</td>\n",
              "      <td>11.14.2021</td>\n",
              "      <td>17:56:34</td>\n",
              "      <td>airline travel inspire ... role ' respon..</td>\n",
              "    </tr>\n",
              "    <tr>\n",
              "      <th>29</th>\n",
              "      <td>associate specialist qa lmm</td>\n",
              "      <td>Johnson &amp; Johnson Family of Companies</td>\n",
              "      <td>vor 1 Tag</td>\n",
              "      <td>not_created</td>\n",
              "      <td>11.14.2021</td>\n",
              "      <td>17:56:34</td>\n",
              "      <td>specialist performs activities required ..</td>\n",
              "    </tr>\n",
              "    <tr>\n",
              "      <th>30</th>\n",
              "      <td>intern junior research scientist</td>\n",
              "      <td>Sony Europe BV, Switzerland Branch</td>\n",
              "      <td>vor 1 Tag</td>\n",
              "      <td>not_created</td>\n",
              "      <td>11.14.2021</td>\n",
              "      <td>17:56:34</td>\n",
              "      <td>junior research scientist focus robotics..</td>\n",
              "    </tr>\n",
              "    <tr>\n",
              "      <th>31</th>\n",
              "      <td>finance manager jbs alliance management</td>\n",
              "      <td>Johnson &amp; Johnson Family of Companies</td>\n",
              "      <td>vor 1 Tag</td>\n",
              "      <td>not_created</td>\n",
              "      <td>11.14.2021</td>\n",
              "      <td>17:56:34</td>\n",
              "      <td>role support broader controlling organis..</td>\n",
              "    </tr>\n",
              "    <tr>\n",
              "      <th>32</th>\n",
              "      <td>talent sourcing specialist</td>\n",
              "      <td>Synpulse</td>\n",
              "      <td>vor 1 Tag</td>\n",
              "      <td>not_created</td>\n",
              "      <td>11.14.2021</td>\n",
              "      <td>17:56:34</td>\n",
              "      <td>dabei beraten wir namhafte international..</td>\n",
              "    </tr>\n",
              "    <tr>\n",
              "      <th>33</th>\n",
              "      <td>senior vip travel manager</td>\n",
              "      <td>FIFA</td>\n",
              "      <td>vor 1 Tag</td>\n",
              "      <td>not_created</td>\n",
              "      <td>11.14.2021</td>\n",
              "      <td>17:56:34</td>\n",
              "      <td>fifa new operating model looking pro act..</td>\n",
              "    </tr>\n",
              "    <tr>\n",
              "      <th>34</th>\n",
              "      <td>senior hr coordinator</td>\n",
              "      <td>SGS</td>\n",
              "      <td>vor 1 Tag</td>\n",
              "      <td>not_created</td>\n",
              "      <td>11.14.2021</td>\n",
              "      <td>17:56:34</td>\n",
              "      <td>part hr operations team role responsible..</td>\n",
              "    </tr>\n",
              "    <tr>\n",
              "      <th>35</th>\n",
              "      <td>master production planner temporary months</td>\n",
              "      <td>Johnson &amp; Johnson Family of Companies</td>\n",
              "      <td>vor 1 Tag</td>\n",
              "      <td>not_created</td>\n",
              "      <td>11.14.2021</td>\n",
              "      <td>17:56:34</td>\n",
              "      <td>master production planner f months tempo..</td>\n",
              "    </tr>\n",
              "    <tr>\n",
              "      <th>36</th>\n",
              "      <td>manager audit industries geneva</td>\n",
              "      <td>EY</td>\n",
              "      <td>vor 1 Tag</td>\n",
              "      <td>not_created</td>\n",
              "      <td>11.14.2021</td>\n",
              "      <td>17:56:34</td>\n",
              "      <td>manage audits company ies headquartered ..</td>\n",
              "    </tr>\n",
              "    <tr>\n",
              "      <th>37</th>\n",
              "      <td>securities specialist asset transfer focus funds</td>\n",
              "      <td>UBS</td>\n",
              "      <td>vor 1 Tag</td>\n",
              "      <td>not_created</td>\n",
              "      <td>11.14.2021</td>\n",
              "      <td>17:56:34</td>\n",
              "      <td>customer centric focused good record res..</td>\n",
              "    </tr>\n",
              "    <tr>\n",
              "      <th>38</th>\n",
              "      <td>head quality erms risk change projects</td>\n",
              "      <td>UBS</td>\n",
              "      <td>vor 1 Tag</td>\n",
              "      <td>not_created</td>\n",
              "      <td>11.14.2021</td>\n",
              "      <td>17:56:34</td>\n",
              "      <td>define test strategy plan managing teams..</td>\n",
              "    </tr>\n",
              "    <tr>\n",
              "      <th>39</th>\n",
              "      <td>scrum master business analyst</td>\n",
              "      <td>Credit Suisse</td>\n",
              "      <td>vor 1 Tag</td>\n",
              "      <td>not_created</td>\n",
              "      <td>11.14.2021</td>\n",
              "      <td>17:56:34</td>\n",
              "      <td>part truly agile cross functional team o..</td>\n",
              "    </tr>\n",
              "    <tr>\n",
              "      <th>40</th>\n",
              "      <td>packaging project manager</td>\n",
              "      <td>Persaga AG</td>\n",
              "      <td>vor 1 Tag</td>\n",
              "      <td>not_created</td>\n",
              "      <td>11.14.2021</td>\n",
              "      <td>17:56:34</td>\n",
              "      <td>one clients international life science c..</td>\n",
              "    </tr>\n",
              "    <tr>\n",
              "      <th>41</th>\n",
              "      <td>enterprise systems engineer</td>\n",
              "      <td>Veeam</td>\n",
              "      <td>vor 1 Tag</td>\n",
              "      <td>not_created</td>\n",
              "      <td>11.14.2021</td>\n",
              "      <td>17:56:34</td>\n",
              "      <td>veeam enterprise system engineers work c..</td>\n",
              "    </tr>\n",
              "    <tr>\n",
              "      <th>42</th>\n",
              "      <td>head business intelligence applications f</td>\n",
              "      <td>Alpiq</td>\n",
              "      <td>vor 1 Tag</td>\n",
              "      <td>not_created</td>\n",
              "      <td>11.14.2021</td>\n",
              "      <td>17:56:34</td>\n",
              "      <td>plan implement alpiq business intelligen..</td>\n",
              "    </tr>\n",
              "    <tr>\n",
              "      <th>43</th>\n",
              "      <td>team lead mes applications support</td>\n",
              "      <td>SHL Group</td>\n",
              "      <td>vor 1 Tag</td>\n",
              "      <td>not_created</td>\n",
              "      <td>11.14.2021</td>\n",
              "      <td>17:56:34</td>\n",
              "      <td>customers include top pharmaceutical bio..</td>\n",
              "    </tr>\n",
              "    <tr>\n",
              "      <th>44</th>\n",
              "      <td>phd position genome assembly pangenome integra...</td>\n",
              "      <td>ETH Zürich</td>\n",
              "      <td>vor 1 Tag</td>\n",
              "      <td>not_created</td>\n",
              "      <td>11.14.2021</td>\n",
              "      <td>17:56:34</td>\n",
              "      <td>group applies different state art techno..</td>\n",
              "    </tr>\n",
              "    <tr>\n",
              "      <th>45</th>\n",
              "      <td>executive director product strategy</td>\n",
              "      <td>Oracle</td>\n",
              "      <td>vor 1 Tag</td>\n",
              "      <td>not_created</td>\n",
              "      <td>11.14.2021</td>\n",
              "      <td>17:56:34</td>\n",
              "      <td>applicants required read write speak fol..</td>\n",
              "    </tr>\n",
              "    <tr>\n",
              "      <th>46</th>\n",
              "      <td>structurer weather commodity reinsurance f x</td>\n",
              "      <td>Robert Half</td>\n",
              "      <td>vor 1 Tag</td>\n",
              "      <td>not_created</td>\n",
              "      <td>11.14.2021</td>\n",
              "      <td>17:56:34</td>\n",
              "      <td>underwrite structure price weather commo..</td>\n",
              "    </tr>\n",
              "    <tr>\n",
              "      <th>47</th>\n",
              "      <td>custody onboarding operational key account man...</td>\n",
              "      <td>UBS</td>\n",
              "      <td>vor 1 Tag</td>\n",
              "      <td>not_created</td>\n",
              "      <td>11.14.2021</td>\n",
              "      <td>17:56:34</td>\n",
              "      <td>coordinate boarding institutional wealth..</td>\n",
              "    </tr>\n",
              "    <tr>\n",
              "      <th>48</th>\n",
              "      <td>team lead mes applications support</td>\n",
              "      <td>SHL Medical AG</td>\n",
              "      <td>vor 1 Tag</td>\n",
              "      <td>not_created</td>\n",
              "      <td>11.14.2021</td>\n",
              "      <td>17:56:34</td>\n",
              "      <td>november full time zug switzerland custo..</td>\n",
              "    </tr>\n",
              "    <tr>\n",
              "      <th>49</th>\n",
              "      <td>senior specialist quality systems</td>\n",
              "      <td>Johnson &amp; Johnson Family of Companies</td>\n",
              "      <td>vor 1 Tag</td>\n",
              "      <td>not_created</td>\n",
              "      <td>11.14.2021</td>\n",
              "      <td>17:56:34</td>\n",
              "      <td>senior specialist quality systems f act ..</td>\n",
              "    </tr>\n",
              "  </tbody>\n",
              "</table>\n",
              "</div>"
            ]
          },
          "metadata": {},
          "execution_count": 24
        }
      ]
    },
    {
      "cell_type": "markdown",
      "metadata": {
        "id": "8SOoPK-9uTcY"
      },
      "source": [
        "**Viz Query 2**"
      ]
    },
    {
      "cell_type": "code",
      "metadata": {
        "id": "3SB27BEB0yux",
        "colab": {
          "base_uri": "https://localhost:8080/",
          "height": 1000
        },
        "outputId": "e279cdc7-b2cf-4d00-a5b7-c376232842b6"
      },
      "source": [
        "viz_q2 = q2_processed.copy()\n",
        "viz_q2.drop(columns=\"links\", inplace=True)\n",
        "\n",
        "if using_google_USE:\n",
        "\n",
        "    # general rule - if # of jobs returned > 25 may want to turn off text in \n",
        "    # one or both plots (summary text and title text)\n",
        "\n",
        "    vizjobs_googleUSE(viz_q2, \"summary\", meine_embeddings, \n",
        "                      save_plot=True, show_text=True,\n",
        "                        query_name=\"all listings for CH eng. jobs\", viz_type=\"tsne\")\n",
        "    \n",
        "    vizjobs_googleUSE(viz_q2, \"titles\", meine_embeddings, \n",
        "                      save_plot=True, show_text=False,\n",
        "                        query_name=\"all listings for CH eng. jobs\", viz_type=\"tsne\")\n",
        "else:\n",
        "    viz_job_data_word2vec(viz_q2, \"summary\", save_plot=False, h=720,\n",
        "                          query_name=\"all listings for CH eng. jobs\", viz_type=\"tsne\")\n",
        "    viz_job_data_word2vec(viz_q2, \"titles\", save_plot=False, h=720,\n",
        "                          query_name=\"all listings for CH eng. jobs\", viz_type=\"tsne\")"
      ],
      "execution_count": 25,
      "outputs": [
        {
          "output_type": "display_data",
          "data": {
            "text/html": [
              "\n",
              "  <style>\n",
              "    pre {\n",
              "        white-space: pre-wrap;\n",
              "    }\n",
              "  </style>\n",
              "  "
            ],
            "text/plain": [
              "<IPython.core.display.HTML object>"
            ]
          },
          "metadata": {}
        },
        {
          "output_type": "stream",
          "name": "stderr",
          "text": [
            "/usr/local/lib/python3.7/dist-packages/kneed/knee_locator.py:304: UserWarning:\n",
            "\n",
            "No knee/elbow found\n",
            "\n"
          ]
        },
        {
          "output_type": "stream",
          "name": "stdout",
          "text": [
            "Warning - google_USE-all listings for CH eng. jobs has no solution for optimal k-means\n",
            "Returning # of clusters as max allowed ( 15 )\n"
          ]
        },
        {
          "output_type": "display_data",
          "data": {
            "text/html": [
              "<html>\n",
              "<head><meta charset=\"utf-8\" /></head>\n",
              "<body>\n",
              "    <div>            <script src=\"https://cdnjs.cloudflare.com/ajax/libs/mathjax/2.7.5/MathJax.js?config=TeX-AMS-MML_SVG\"></script><script type=\"text/javascript\">if (window.MathJax) {MathJax.Hub.Config({SVG: {font: \"STIX-Web\"}});}</script>                <script type=\"text/javascript\">window.PlotlyConfig = {MathJaxConfig: 'local'};</script>\n",
              "        <script src=\"https://cdn.plot.ly/plotly-2.4.2.min.js\"></script>                <div id=\"33ad673b-880d-4aaf-87a5-f7d4eecab1a1\" class=\"plotly-graph-div\" style=\"height:720px; width:960px;\"></div>            <script type=\"text/javascript\">                                    window.PLOTLYENV=window.PLOTLYENV || {};                                    if (document.getElementById(\"33ad673b-880d-4aaf-87a5-f7d4eecab1a1\")) {                    Plotly.newPlot(                        \"33ad673b-880d-4aaf-87a5-f7d4eecab1a1\",                        [{\"customdata\":[[\"digital project coordinator\",\"H+O communications Ltd.\",\"Gerade geschaltet\",\"not_created\",\"11.14.2021\",\"17:56:34\",\"4\"],[\"internship - medical communications\",\"H+O communications Ltd.\",\"Gerade geschaltet\",\"not_created\",\"11.14.2021\",\"17:56:34\",\"4\"],[\"web specialist\",\"H+O communications Ltd.\",\"Gerade geschaltet\",\"not_created\",\"11.14.2021\",\"17:56:34\",\"4\"],[\"senior medical writer\",\"H+O communications Ltd.\",\"Gerade geschaltet\",\"not_created\",\"11.14.2021\",\"17:56:34\",\"4\"],[\"marketing campaign manager\",\"easyJet\",\"vor 1 Tag\",\"not_created\",\"11.14.2021\",\"17:56:34\",\"4\"]],\"hovertemplate\":\"kmeans=%{customdata[6]}<br>tsne_x=%{x}<br>tsne_y=%{y}<br>companies_abbrev=%{text}<br>titles=%{customdata[0]}<br>companies=%{customdata[1]}<br>date_listed=%{customdata[2]}<br>short_link=%{customdata[3]}<br>date_pulled=%{customdata[4]}<br>time_pulled=%{customdata[5]}<extra></extra>\",\"legendgroup\":\"4\",\"marker\":{\"color\":\"#636efa\",\"symbol\":\"circle\"},\"mode\":\"markers+text\",\"name\":\"4\",\"orientation\":\"v\",\"showlegend\":true,\"text\":[\"H+O communicati..\",\"H+O communicati..\",\"H+O communicati..\",\"H+O communicati..\",\"easyJet\"],\"type\":\"scatter\",\"x\":[4.926259994506836,-31.241825103759766,-9.508536338806152,-52.237430572509766,25.71437644958496],\"xaxis\":\"x\",\"y\":[-81.62940216064453,-85.67054748535156,-97.5338363647461,-85.35674285888672,-51.92633056640625],\"yaxis\":\"y\"},{\"customdata\":[[\"zimmermadchen roomboy w\",\"Precise Tale Seehof Davos\",\"Heute\",\"not_created\",\"11.14.2021\",\"17:56:34\",\"11\"],[\"talent sourcing specialist\",\"Synpulse\",\"vor 1 Tag\",\"not_created\",\"11.14.2021\",\"17:56:34\",\"11\"]],\"hovertemplate\":\"kmeans=%{customdata[6]}<br>tsne_x=%{x}<br>tsne_y=%{y}<br>companies_abbrev=%{text}<br>titles=%{customdata[0]}<br>companies=%{customdata[1]}<br>date_listed=%{customdata[2]}<br>short_link=%{customdata[3]}<br>date_pulled=%{customdata[4]}<br>time_pulled=%{customdata[5]}<extra></extra>\",\"legendgroup\":\"11\",\"marker\":{\"color\":\"#EF553B\",\"symbol\":\"circle\"},\"mode\":\"markers+text\",\"name\":\"11\",\"orientation\":\"v\",\"showlegend\":true,\"text\":[\"Precise Tale Se..\",\"Synpulse\"],\"type\":\"scatter\",\"x\":[-121.06449890136719,-120.54487609863281],\"xaxis\":\"x\",\"y\":[9.208319664001465,-6.756529808044434],\"yaxis\":\"y\"},{\"customdata\":[[\"associate full professor translational cell immunolo\",\"University of Lausanne\",\"Heute\",\"not_created\",\"11.14.2021\",\"17:56:34\",\"5\"],[\"r modelling specialist\",\"Nestl\\u00e9\",\"vor 1 Tag\",\"not_created\",\"11.14.2021\",\"17:56:34\",\"5\"]],\"hovertemplate\":\"kmeans=%{customdata[6]}<br>tsne_x=%{x}<br>tsne_y=%{y}<br>companies_abbrev=%{text}<br>titles=%{customdata[0]}<br>companies=%{customdata[1]}<br>date_listed=%{customdata[2]}<br>short_link=%{customdata[3]}<br>date_pulled=%{customdata[4]}<br>time_pulled=%{customdata[5]}<extra></extra>\",\"legendgroup\":\"5\",\"marker\":{\"color\":\"#00cc96\",\"symbol\":\"circle\"},\"mode\":\"markers+text\",\"name\":\"5\",\"orientation\":\"v\",\"showlegend\":true,\"text\":[\"University of L..\",\"Nestl\\u00e9\"],\"type\":\"scatter\",\"x\":[-39.140174865722656,-60.560848236083984],\"xaxis\":\"x\",\"y\":[-62.66383743286133,-59.100067138671875],\"yaxis\":\"y\"},{\"customdata\":[[\"anti bribery corruption compliance officer\",\"Credit Suisse\",\"Heute\",\"not_created\",\"11.14.2021\",\"17:56:34\",\"9\"],[\"surveillance operational integrity officer\",\"Credit Suisse\",\"vor 1 Tag\",\"not_created\",\"11.14.2021\",\"17:56:34\",\"9\"],[\"manager audit industries geneva\",\"EY\",\"vor 1 Tag\",\"not_created\",\"11.14.2021\",\"17:56:34\",\"9\"]],\"hovertemplate\":\"kmeans=%{customdata[6]}<br>tsne_x=%{x}<br>tsne_y=%{y}<br>companies_abbrev=%{text}<br>titles=%{customdata[0]}<br>companies=%{customdata[1]}<br>date_listed=%{customdata[2]}<br>short_link=%{customdata[3]}<br>date_pulled=%{customdata[4]}<br>time_pulled=%{customdata[5]}<extra></extra>\",\"legendgroup\":\"9\",\"marker\":{\"color\":\"#ab63fa\",\"symbol\":\"circle\"},\"mode\":\"markers+text\",\"name\":\"9\",\"orientation\":\"v\",\"showlegend\":true,\"text\":[\"Credit Suisse\",\"Credit Suisse\",\"EY\"],\"type\":\"scatter\",\"x\":[76.9027328491211,41.579288482666016,-56.81827926635742],\"xaxis\":\"x\",\"y\":[-10.424912452697754,-5.667235851287842,79.41778564453125],\"yaxis\":\"y\"},{\"customdata\":[[\"senior avaloq consultant\",\"philico\",\"Heute\",\"not_created\",\"11.14.2021\",\"17:56:34\",\"10\"],[\"client manager italy international\",\"Credit Suisse\",\"vor 1 Tag\",\"not_created\",\"11.14.2021\",\"17:56:34\",\"10\"],[\"securities specialist asset transfer focus funds\",\"UBS\",\"vor 1 Tag\",\"not_created\",\"11.14.2021\",\"17:56:34\",\"10\"],[\"scrum master business analyst\",\"Credit Suisse\",\"vor 1 Tag\",\"not_created\",\"11.14.2021\",\"17:56:34\",\"10\"],[\"packaging project manager\",\"Persaga AG\",\"vor 1 Tag\",\"not_created\",\"11.14.2021\",\"17:56:34\",\"10\"],[\"custody onboarding operational key account manager\",\"UBS\",\"vor 1 Tag\",\"not_created\",\"11.14.2021\",\"17:56:34\",\"10\"]],\"hovertemplate\":\"kmeans=%{customdata[6]}<br>tsne_x=%{x}<br>tsne_y=%{y}<br>companies_abbrev=%{text}<br>titles=%{customdata[0]}<br>companies=%{customdata[1]}<br>date_listed=%{customdata[2]}<br>short_link=%{customdata[3]}<br>date_pulled=%{customdata[4]}<br>time_pulled=%{customdata[5]}<extra></extra>\",\"legendgroup\":\"10\",\"marker\":{\"color\":\"#FFA15A\",\"symbol\":\"circle\"},\"mode\":\"markers+text\",\"name\":\"10\",\"orientation\":\"v\",\"showlegend\":true,\"text\":[\"philico\",\"Credit Suisse\",\"UBS\",\"Credit Suisse\",\"Persaga AG\",\"UBS\"],\"type\":\"scatter\",\"x\":[-24.383079528808594,-23.801830291748047,-10.232705116271973,-3.454258441925049,-44.026206970214844,9.365665435791016],\"xaxis\":\"x\",\"y\":[68.1141128540039,45.36539840698242,83.66654968261719,56.42958068847656,53.05755615234375,85.7643814086914],\"yaxis\":\"y\"},{\"customdata\":[[\"team assistant\",\"Timberland\",\"vor 1 Tag\",\"not_created\",\"11.14.2021\",\"17:56:34\",\"1\"],[\"executive assistant\",\"Johnson & Johnson Family of Companies\",\"vor 1 Tag\",\"not_created\",\"11.14.2021\",\"17:56:34\",\"1\"],[\"team assistant timberland global apparel\",\"VF Corporation\",\"vor 1 Tag\",\"not_created\",\"11.14.2021\",\"17:56:34\",\"1\"],[\"vice president operations\",\"ACCOR\",\"vor 1 Tag\",\"not_created\",\"11.14.2021\",\"17:56:34\",\"1\"],[\"finance officer\",\"Dansk Flygtningehj\\u00e6lp\",\"vor 1 Tag\",\"not_created\",\"11.14.2021\",\"17:56:34\",\"1\"],[\"associate specialist qa lmm\",\"Johnson & Johnson Family of Companies\",\"vor 1 Tag\",\"not_created\",\"11.14.2021\",\"17:56:34\",\"1\"],[\"finance manager jbs alliance management\",\"Johnson & Johnson Family of Companies\",\"vor 1 Tag\",\"not_created\",\"11.14.2021\",\"17:56:34\",\"1\"],[\"senior vip travel manager\",\"FIFA\",\"vor 1 Tag\",\"not_created\",\"11.14.2021\",\"17:56:34\",\"1\"],[\"senior hr coordinator\",\"SGS\",\"vor 1 Tag\",\"not_created\",\"11.14.2021\",\"17:56:34\",\"1\"],[\"master production planner temporary months\",\"Johnson & Johnson Family of Companies\",\"vor 1 Tag\",\"not_created\",\"11.14.2021\",\"17:56:34\",\"1\"],[\"enterprise systems engineer\",\"Veeam\",\"vor 1 Tag\",\"not_created\",\"11.14.2021\",\"17:56:34\",\"1\"]],\"hovertemplate\":\"kmeans=%{customdata[6]}<br>tsne_x=%{x}<br>tsne_y=%{y}<br>companies_abbrev=%{text}<br>titles=%{customdata[0]}<br>companies=%{customdata[1]}<br>date_listed=%{customdata[2]}<br>short_link=%{customdata[3]}<br>date_pulled=%{customdata[4]}<br>time_pulled=%{customdata[5]}<extra></extra>\",\"legendgroup\":\"1\",\"marker\":{\"color\":\"#19d3f3\",\"symbol\":\"circle\"},\"mode\":\"markers+text\",\"name\":\"1\",\"orientation\":\"v\",\"showlegend\":true,\"text\":[\"Timberland\",\"Johnson & Johns..\",\"VF Corporation\",\"ACCOR\",\"Dansk Flygtning..\",\"Johnson & Johns..\",\"Johnson & Johns..\",\"FIFA\",\"SGS\",\"Johnson & Johns..\",\"Veeam\"],\"type\":\"scatter\",\"x\":[16.689598083496094,58.23045349121094,28.127111434936523,-5.292880535125732,64.12318420410156,21.077362060546875,39.43473434448242,-33.35354232788086,51.36798858642578,19.801877975463867,20.533082962036133],\"xaxis\":\"x\",\"y\":[32.36735153198242,53.08991241455078,23.112401962280273,30.298158645629883,9.619019508361816,4.359113693237305,44.05717849731445,25.7260799407959,26.473073959350586,-22.080978393554688,62.62441635131836],\"yaxis\":\"y\"},{\"customdata\":[[\"strategic recruiter wealth management switzerland\",\"UBS\",\"vor 1 Tag\",\"not_created\",\"11.14.2021\",\"17:56:34\",\"2\"],[\"p associate statistician dmd tmi\",\"International Trade Center Intracen\",\"vor 1 Tag\",\"not_created\",\"11.14.2021\",\"17:56:34\",\"2\"],[\"p programme officer coordination dmd tmi\",\"International Trade Center Intracen\",\"vor 1 Tag\",\"not_created\",\"11.14.2021\",\"17:56:34\",\"2\"],[\"p programme officer capacity building dmd tmi\",\"International Trade Center Intracen\",\"vor 1 Tag\",\"not_created\",\"11.14.2021\",\"17:56:34\",\"2\"]],\"hovertemplate\":\"kmeans=%{customdata[6]}<br>tsne_x=%{x}<br>tsne_y=%{y}<br>companies_abbrev=%{text}<br>titles=%{customdata[0]}<br>companies=%{customdata[1]}<br>date_listed=%{customdata[2]}<br>short_link=%{customdata[3]}<br>date_pulled=%{customdata[4]}<br>time_pulled=%{customdata[5]}<extra></extra>\",\"legendgroup\":\"2\",\"marker\":{\"color\":\"#FF6692\",\"symbol\":\"circle\"},\"mode\":\"markers+text\",\"name\":\"2\",\"orientation\":\"v\",\"showlegend\":true,\"text\":[\"UBS\",\"International T..\",\"International T..\",\"International T..\"],\"type\":\"scatter\",\"x\":[84.57331848144531,-80.04669952392578,-64.5400161743164,-63.06669235229492],\"xaxis\":\"x\",\"y\":[33.716835021972656,-1.5585722923278809,10.280182838439941,-8.023582458496094],\"yaxis\":\"y\"},{\"customdata\":[[\"information evidence officer\",\"United Nations\",\"vor 1 Tag\",\"not_created\",\"11.14.2021\",\"17:56:34\",\"13\"],[\"head quality erms risk change projects\",\"UBS\",\"vor 1 Tag\",\"not_created\",\"11.14.2021\",\"17:56:34\",\"13\"],[\"head business intelligence applications f\",\"Alpiq\",\"vor 1 Tag\",\"not_created\",\"11.14.2021\",\"17:56:34\",\"13\"]],\"hovertemplate\":\"kmeans=%{customdata[6]}<br>tsne_x=%{x}<br>tsne_y=%{y}<br>companies_abbrev=%{text}<br>titles=%{customdata[0]}<br>companies=%{customdata[1]}<br>date_listed=%{customdata[2]}<br>short_link=%{customdata[3]}<br>date_pulled=%{customdata[4]}<br>time_pulled=%{customdata[5]}<extra></extra>\",\"legendgroup\":\"13\",\"marker\":{\"color\":\"#B6E880\",\"symbol\":\"circle\"},\"mode\":\"markers+text\",\"name\":\"13\",\"orientation\":\"v\",\"showlegend\":true,\"text\":[\"United Nations\",\"UBS\",\"Alpiq\"],\"type\":\"scatter\",\"x\":[-37.847412109375,-20.446666717529297,-35.279541015625],\"xaxis\":\"x\",\"y\":[-29.029830932617188,-15.800111770629883,-3.4526820182800293],\"yaxis\":\"y\"},{\"customdata\":[[\"demand planner footwear napapijri\",\"Napapijri\",\"vor 1 Tag\",\"not_created\",\"11.14.2021\",\"17:56:34\",\"3\"],[\"demand planner footwear napapijri\",\"VF Corporation\",\"vor 1 Tag\",\"not_created\",\"11.14.2021\",\"17:56:34\",\"3\"]],\"hovertemplate\":\"kmeans=%{customdata[6]}<br>tsne_x=%{x}<br>tsne_y=%{y}<br>companies_abbrev=%{text}<br>titles=%{customdata[0]}<br>companies=%{customdata[1]}<br>date_listed=%{customdata[2]}<br>short_link=%{customdata[3]}<br>date_pulled=%{customdata[4]}<br>time_pulled=%{customdata[5]}<extra></extra>\",\"legendgroup\":\"3\",\"marker\":{\"color\":\"#FF97FF\",\"symbol\":\"circle\"},\"mode\":\"markers+text\",\"name\":\"3\",\"orientation\":\"v\",\"showlegend\":true,\"text\":[\"Napapijri\",\"VF Corporation\"],\"type\":\"scatter\",\"x\":[-11.926027297973633,-0.7824249267578125],\"xaxis\":\"x\",\"y\":[6.329664707183838,-3.4653642177581787],\"yaxis\":\"y\"},{\"customdata\":[[\"supply chain controller\",\"Nespresso\",\"vor 1 Tag\",\"not_created\",\"11.14.2021\",\"17:56:34\",\"6\"],[\"incident manager\",\"UBS\",\"vor 1 Tag\",\"not_created\",\"11.14.2021\",\"17:56:34\",\"6\"],[\"controlling specialist\",\"Nespresso\",\"vor 1 Tag\",\"not_created\",\"11.14.2021\",\"17:56:34\",\"6\"]],\"hovertemplate\":\"kmeans=%{customdata[6]}<br>tsne_x=%{x}<br>tsne_y=%{y}<br>companies_abbrev=%{text}<br>titles=%{customdata[0]}<br>companies=%{customdata[1]}<br>date_listed=%{customdata[2]}<br>short_link=%{customdata[3]}<br>date_pulled=%{customdata[4]}<br>time_pulled=%{customdata[5]}<extra></extra>\",\"legendgroup\":\"6\",\"marker\":{\"color\":\"#FECB52\",\"symbol\":\"circle\"},\"mode\":\"markers+text\",\"name\":\"6\",\"orientation\":\"v\",\"showlegend\":true,\"text\":[\"Nespresso\",\"UBS\",\"Nespresso\"],\"type\":\"scatter\",\"x\":[62.300785064697266,-3.4818334579467773,46.05146789550781],\"xaxis\":\"x\",\"y\":[-38.227176666259766,-28.807384490966797,-31.020816802978516],\"yaxis\":\"y\"},{\"customdata\":[[\"software quality engineer essential swiss medtech\",\"NonStop Consulting\",\"vor 1 Tag\",\"not_created\",\"11.14.2021\",\"17:56:34\",\"8\"],[\"qc equipment specialist\",\"GSK\",\"vor 1 Tag\",\"not_created\",\"11.14.2021\",\"17:56:34\",\"8\"],[\"senior specialist quality systems\",\"Johnson & Johnson Family of Companies\",\"vor 1 Tag\",\"not_created\",\"11.14.2021\",\"17:56:34\",\"8\"]],\"hovertemplate\":\"kmeans=%{customdata[6]}<br>tsne_x=%{x}<br>tsne_y=%{y}<br>companies_abbrev=%{text}<br>titles=%{customdata[0]}<br>companies=%{customdata[1]}<br>date_listed=%{customdata[2]}<br>short_link=%{customdata[3]}<br>date_pulled=%{customdata[4]}<br>time_pulled=%{customdata[5]}<extra></extra>\",\"legendgroup\":\"8\",\"marker\":{\"color\":\"#636efa\",\"symbol\":\"circle\"},\"mode\":\"markers+text\",\"name\":\"8\",\"orientation\":\"v\",\"showlegend\":true,\"text\":[\"NonStop Consult..\",\"GSK\",\"Johnson & Johns..\"],\"type\":\"scatter\",\"x\":[-19.8283634185791,52.27804946899414,0.3615051507949829],\"xaxis\":\"x\",\"y\":[-51.46039962768555,80.39920043945312,-51.553646087646484],\"yaxis\":\"y\"},{\"customdata\":[[\"intern junior research scientist\",\"Sony Europe BV, Switzerland Branch\",\"vor 1 Tag\",\"not_created\",\"11.14.2021\",\"17:56:34\",\"14\"],[\"phd position genome assembly pangenome integration\",\"ETH Z\\u00fcrich\",\"vor 1 Tag\",\"not_created\",\"11.14.2021\",\"17:56:34\",\"14\"]],\"hovertemplate\":\"kmeans=%{customdata[6]}<br>tsne_x=%{x}<br>tsne_y=%{y}<br>companies_abbrev=%{text}<br>titles=%{customdata[0]}<br>companies=%{customdata[1]}<br>date_listed=%{customdata[2]}<br>short_link=%{customdata[3]}<br>date_pulled=%{customdata[4]}<br>time_pulled=%{customdata[5]}<extra></extra>\",\"legendgroup\":\"14\",\"marker\":{\"color\":\"#EF553B\",\"symbol\":\"circle\"},\"mode\":\"markers+text\",\"name\":\"14\",\"orientation\":\"v\",\"showlegend\":true,\"text\":[\"Sony Europe BV,..\",\"ETH Z\\u00fcrich\"],\"type\":\"scatter\",\"x\":[-63.88019561767578,-89.79730224609375],\"xaxis\":\"x\",\"y\":[-36.79176330566406,-46.043060302734375],\"yaxis\":\"y\"},{\"customdata\":[[\"team lead mes applications support\",\"SHL Group\",\"vor 1 Tag\",\"not_created\",\"11.14.2021\",\"17:56:34\",\"7\"],[\"team lead mes applications support\",\"SHL Medical AG\",\"vor 1 Tag\",\"not_created\",\"11.14.2021\",\"17:56:34\",\"7\"]],\"hovertemplate\":\"kmeans=%{customdata[6]}<br>tsne_x=%{x}<br>tsne_y=%{y}<br>companies_abbrev=%{text}<br>titles=%{customdata[0]}<br>companies=%{customdata[1]}<br>date_listed=%{customdata[2]}<br>short_link=%{customdata[3]}<br>date_pulled=%{customdata[4]}<br>time_pulled=%{customdata[5]}<extra></extra>\",\"legendgroup\":\"7\",\"marker\":{\"color\":\"#00cc96\",\"symbol\":\"circle\"},\"mode\":\"markers+text\",\"name\":\"7\",\"orientation\":\"v\",\"showlegend\":true,\"text\":[\"SHL Group\",\"SHL Medical AG\"],\"type\":\"scatter\",\"x\":[-91.24591064453125,-79.37892150878906],\"xaxis\":\"x\",\"y\":[36.49135208129883,49.017066955566406],\"yaxis\":\"y\"},{\"customdata\":[[\"executive director product strategy\",\"Oracle\",\"vor 1 Tag\",\"not_created\",\"11.14.2021\",\"17:56:34\",\"12\"]],\"hovertemplate\":\"kmeans=%{customdata[6]}<br>tsne_x=%{x}<br>tsne_y=%{y}<br>companies_abbrev=%{text}<br>titles=%{customdata[0]}<br>companies=%{customdata[1]}<br>date_listed=%{customdata[2]}<br>short_link=%{customdata[3]}<br>date_pulled=%{customdata[4]}<br>time_pulled=%{customdata[5]}<extra></extra>\",\"legendgroup\":\"12\",\"marker\":{\"color\":\"#ab63fa\",\"symbol\":\"circle\"},\"mode\":\"markers+text\",\"name\":\"12\",\"orientation\":\"v\",\"showlegend\":true,\"text\":[\"Oracle\"],\"type\":\"scatter\",\"x\":[-82.74998474121094],\"xaxis\":\"x\",\"y\":[-73.42974090576172],\"yaxis\":\"y\"},{\"customdata\":[[\"structurer weather commodity reinsurance f x\",\"Robert Half\",\"vor 1 Tag\",\"not_created\",\"11.14.2021\",\"17:56:34\",\"0\"]],\"hovertemplate\":\"kmeans=%{customdata[6]}<br>tsne_x=%{x}<br>tsne_y=%{y}<br>companies_abbrev=%{text}<br>titles=%{customdata[0]}<br>companies=%{customdata[1]}<br>date_listed=%{customdata[2]}<br>short_link=%{customdata[3]}<br>date_pulled=%{customdata[4]}<br>time_pulled=%{customdata[5]}<extra></extra>\",\"legendgroup\":\"0\",\"marker\":{\"color\":\"#FFA15A\",\"symbol\":\"circle\"},\"mode\":\"markers+text\",\"name\":\"0\",\"orientation\":\"v\",\"showlegend\":true,\"text\":[\"Robert Half\"],\"type\":\"scatter\",\"x\":[48.79181671142578],\"xaxis\":\"x\",\"y\":[-70.2706069946289],\"yaxis\":\"y\"}],                        {\"height\":720,\"legend\":{\"title\":{\"text\":\"kmeans\"},\"tracegroupgap\":0},\"template\":{\"data\":{\"bar\":[{\"error_x\":{\"color\":\"#f2f5fa\"},\"error_y\":{\"color\":\"#f2f5fa\"},\"marker\":{\"line\":{\"color\":\"rgb(17,17,17)\",\"width\":0.5},\"pattern\":{\"fillmode\":\"overlay\",\"size\":10,\"solidity\":0.2}},\"type\":\"bar\"}],\"barpolar\":[{\"marker\":{\"line\":{\"color\":\"rgb(17,17,17)\",\"width\":0.5},\"pattern\":{\"fillmode\":\"overlay\",\"size\":10,\"solidity\":0.2}},\"type\":\"barpolar\"}],\"carpet\":[{\"aaxis\":{\"endlinecolor\":\"#A2B1C6\",\"gridcolor\":\"#506784\",\"linecolor\":\"#506784\",\"minorgridcolor\":\"#506784\",\"startlinecolor\":\"#A2B1C6\"},\"baxis\":{\"endlinecolor\":\"#A2B1C6\",\"gridcolor\":\"#506784\",\"linecolor\":\"#506784\",\"minorgridcolor\":\"#506784\",\"startlinecolor\":\"#A2B1C6\"},\"type\":\"carpet\"}],\"choropleth\":[{\"colorbar\":{\"outlinewidth\":0,\"ticks\":\"\"},\"type\":\"choropleth\"}],\"contour\":[{\"colorbar\":{\"outlinewidth\":0,\"ticks\":\"\"},\"colorscale\":[[0.0,\"#0d0887\"],[0.1111111111111111,\"#46039f\"],[0.2222222222222222,\"#7201a8\"],[0.3333333333333333,\"#9c179e\"],[0.4444444444444444,\"#bd3786\"],[0.5555555555555556,\"#d8576b\"],[0.6666666666666666,\"#ed7953\"],[0.7777777777777778,\"#fb9f3a\"],[0.8888888888888888,\"#fdca26\"],[1.0,\"#f0f921\"]],\"type\":\"contour\"}],\"contourcarpet\":[{\"colorbar\":{\"outlinewidth\":0,\"ticks\":\"\"},\"type\":\"contourcarpet\"}],\"heatmap\":[{\"colorbar\":{\"outlinewidth\":0,\"ticks\":\"\"},\"colorscale\":[[0.0,\"#0d0887\"],[0.1111111111111111,\"#46039f\"],[0.2222222222222222,\"#7201a8\"],[0.3333333333333333,\"#9c179e\"],[0.4444444444444444,\"#bd3786\"],[0.5555555555555556,\"#d8576b\"],[0.6666666666666666,\"#ed7953\"],[0.7777777777777778,\"#fb9f3a\"],[0.8888888888888888,\"#fdca26\"],[1.0,\"#f0f921\"]],\"type\":\"heatmap\"}],\"heatmapgl\":[{\"colorbar\":{\"outlinewidth\":0,\"ticks\":\"\"},\"colorscale\":[[0.0,\"#0d0887\"],[0.1111111111111111,\"#46039f\"],[0.2222222222222222,\"#7201a8\"],[0.3333333333333333,\"#9c179e\"],[0.4444444444444444,\"#bd3786\"],[0.5555555555555556,\"#d8576b\"],[0.6666666666666666,\"#ed7953\"],[0.7777777777777778,\"#fb9f3a\"],[0.8888888888888888,\"#fdca26\"],[1.0,\"#f0f921\"]],\"type\":\"heatmapgl\"}],\"histogram\":[{\"marker\":{\"pattern\":{\"fillmode\":\"overlay\",\"size\":10,\"solidity\":0.2}},\"type\":\"histogram\"}],\"histogram2d\":[{\"colorbar\":{\"outlinewidth\":0,\"ticks\":\"\"},\"colorscale\":[[0.0,\"#0d0887\"],[0.1111111111111111,\"#46039f\"],[0.2222222222222222,\"#7201a8\"],[0.3333333333333333,\"#9c179e\"],[0.4444444444444444,\"#bd3786\"],[0.5555555555555556,\"#d8576b\"],[0.6666666666666666,\"#ed7953\"],[0.7777777777777778,\"#fb9f3a\"],[0.8888888888888888,\"#fdca26\"],[1.0,\"#f0f921\"]],\"type\":\"histogram2d\"}],\"histogram2dcontour\":[{\"colorbar\":{\"outlinewidth\":0,\"ticks\":\"\"},\"colorscale\":[[0.0,\"#0d0887\"],[0.1111111111111111,\"#46039f\"],[0.2222222222222222,\"#7201a8\"],[0.3333333333333333,\"#9c179e\"],[0.4444444444444444,\"#bd3786\"],[0.5555555555555556,\"#d8576b\"],[0.6666666666666666,\"#ed7953\"],[0.7777777777777778,\"#fb9f3a\"],[0.8888888888888888,\"#fdca26\"],[1.0,\"#f0f921\"]],\"type\":\"histogram2dcontour\"}],\"mesh3d\":[{\"colorbar\":{\"outlinewidth\":0,\"ticks\":\"\"},\"type\":\"mesh3d\"}],\"parcoords\":[{\"line\":{\"colorbar\":{\"outlinewidth\":0,\"ticks\":\"\"}},\"type\":\"parcoords\"}],\"pie\":[{\"automargin\":true,\"type\":\"pie\"}],\"scatter\":[{\"marker\":{\"line\":{\"color\":\"#283442\"}},\"type\":\"scatter\"}],\"scatter3d\":[{\"line\":{\"colorbar\":{\"outlinewidth\":0,\"ticks\":\"\"}},\"marker\":{\"colorbar\":{\"outlinewidth\":0,\"ticks\":\"\"}},\"type\":\"scatter3d\"}],\"scattercarpet\":[{\"marker\":{\"colorbar\":{\"outlinewidth\":0,\"ticks\":\"\"}},\"type\":\"scattercarpet\"}],\"scattergeo\":[{\"marker\":{\"colorbar\":{\"outlinewidth\":0,\"ticks\":\"\"}},\"type\":\"scattergeo\"}],\"scattergl\":[{\"marker\":{\"line\":{\"color\":\"#283442\"}},\"type\":\"scattergl\"}],\"scattermapbox\":[{\"marker\":{\"colorbar\":{\"outlinewidth\":0,\"ticks\":\"\"}},\"type\":\"scattermapbox\"}],\"scatterpolar\":[{\"marker\":{\"colorbar\":{\"outlinewidth\":0,\"ticks\":\"\"}},\"type\":\"scatterpolar\"}],\"scatterpolargl\":[{\"marker\":{\"colorbar\":{\"outlinewidth\":0,\"ticks\":\"\"}},\"type\":\"scatterpolargl\"}],\"scatterternary\":[{\"marker\":{\"colorbar\":{\"outlinewidth\":0,\"ticks\":\"\"}},\"type\":\"scatterternary\"}],\"surface\":[{\"colorbar\":{\"outlinewidth\":0,\"ticks\":\"\"},\"colorscale\":[[0.0,\"#0d0887\"],[0.1111111111111111,\"#46039f\"],[0.2222222222222222,\"#7201a8\"],[0.3333333333333333,\"#9c179e\"],[0.4444444444444444,\"#bd3786\"],[0.5555555555555556,\"#d8576b\"],[0.6666666666666666,\"#ed7953\"],[0.7777777777777778,\"#fb9f3a\"],[0.8888888888888888,\"#fdca26\"],[1.0,\"#f0f921\"]],\"type\":\"surface\"}],\"table\":[{\"cells\":{\"fill\":{\"color\":\"#506784\"},\"line\":{\"color\":\"rgb(17,17,17)\"}},\"header\":{\"fill\":{\"color\":\"#2a3f5f\"},\"line\":{\"color\":\"rgb(17,17,17)\"}},\"type\":\"table\"}]},\"layout\":{\"annotationdefaults\":{\"arrowcolor\":\"#f2f5fa\",\"arrowhead\":0,\"arrowwidth\":1},\"autotypenumbers\":\"strict\",\"coloraxis\":{\"colorbar\":{\"outlinewidth\":0,\"ticks\":\"\"}},\"colorscale\":{\"diverging\":[[0,\"#8e0152\"],[0.1,\"#c51b7d\"],[0.2,\"#de77ae\"],[0.3,\"#f1b6da\"],[0.4,\"#fde0ef\"],[0.5,\"#f7f7f7\"],[0.6,\"#e6f5d0\"],[0.7,\"#b8e186\"],[0.8,\"#7fbc41\"],[0.9,\"#4d9221\"],[1,\"#276419\"]],\"sequential\":[[0.0,\"#0d0887\"],[0.1111111111111111,\"#46039f\"],[0.2222222222222222,\"#7201a8\"],[0.3333333333333333,\"#9c179e\"],[0.4444444444444444,\"#bd3786\"],[0.5555555555555556,\"#d8576b\"],[0.6666666666666666,\"#ed7953\"],[0.7777777777777778,\"#fb9f3a\"],[0.8888888888888888,\"#fdca26\"],[1.0,\"#f0f921\"]],\"sequentialminus\":[[0.0,\"#0d0887\"],[0.1111111111111111,\"#46039f\"],[0.2222222222222222,\"#7201a8\"],[0.3333333333333333,\"#9c179e\"],[0.4444444444444444,\"#bd3786\"],[0.5555555555555556,\"#d8576b\"],[0.6666666666666666,\"#ed7953\"],[0.7777777777777778,\"#fb9f3a\"],[0.8888888888888888,\"#fdca26\"],[1.0,\"#f0f921\"]]},\"colorway\":[\"#636efa\",\"#EF553B\",\"#00cc96\",\"#ab63fa\",\"#FFA15A\",\"#19d3f3\",\"#FF6692\",\"#B6E880\",\"#FF97FF\",\"#FECB52\"],\"font\":{\"color\":\"#f2f5fa\"},\"geo\":{\"bgcolor\":\"rgb(17,17,17)\",\"lakecolor\":\"rgb(17,17,17)\",\"landcolor\":\"rgb(17,17,17)\",\"showlakes\":true,\"showland\":true,\"subunitcolor\":\"#506784\"},\"hoverlabel\":{\"align\":\"left\"},\"hovermode\":\"closest\",\"mapbox\":{\"style\":\"dark\"},\"paper_bgcolor\":\"rgb(17,17,17)\",\"plot_bgcolor\":\"rgb(17,17,17)\",\"polar\":{\"angularaxis\":{\"gridcolor\":\"#506784\",\"linecolor\":\"#506784\",\"ticks\":\"\"},\"bgcolor\":\"rgb(17,17,17)\",\"radialaxis\":{\"gridcolor\":\"#506784\",\"linecolor\":\"#506784\",\"ticks\":\"\"}},\"scene\":{\"xaxis\":{\"backgroundcolor\":\"rgb(17,17,17)\",\"gridcolor\":\"#506784\",\"gridwidth\":2,\"linecolor\":\"#506784\",\"showbackground\":true,\"ticks\":\"\",\"zerolinecolor\":\"#C8D4E3\"},\"yaxis\":{\"backgroundcolor\":\"rgb(17,17,17)\",\"gridcolor\":\"#506784\",\"gridwidth\":2,\"linecolor\":\"#506784\",\"showbackground\":true,\"ticks\":\"\",\"zerolinecolor\":\"#C8D4E3\"},\"zaxis\":{\"backgroundcolor\":\"rgb(17,17,17)\",\"gridcolor\":\"#506784\",\"gridwidth\":2,\"linecolor\":\"#506784\",\"showbackground\":true,\"ticks\":\"\",\"zerolinecolor\":\"#C8D4E3\"}},\"shapedefaults\":{\"line\":{\"color\":\"#f2f5fa\"}},\"sliderdefaults\":{\"bgcolor\":\"#C8D4E3\",\"bordercolor\":\"rgb(17,17,17)\",\"borderwidth\":1,\"tickwidth\":0},\"ternary\":{\"aaxis\":{\"gridcolor\":\"#506784\",\"linecolor\":\"#506784\",\"ticks\":\"\"},\"baxis\":{\"gridcolor\":\"#506784\",\"linecolor\":\"#506784\",\"ticks\":\"\"},\"bgcolor\":\"rgb(17,17,17)\",\"caxis\":{\"gridcolor\":\"#506784\",\"linecolor\":\"#506784\",\"ticks\":\"\"}},\"title\":{\"x\":0.05},\"updatemenudefaults\":{\"bgcolor\":\"#506784\",\"borderwidth\":0},\"xaxis\":{\"automargin\":true,\"gridcolor\":\"#283442\",\"linecolor\":\"#506784\",\"ticks\":\"\",\"title\":{\"standoff\":15},\"zerolinecolor\":\"#283442\",\"zerolinewidth\":2},\"yaxis\":{\"automargin\":true,\"gridcolor\":\"#283442\",\"linecolor\":\"#506784\",\"ticks\":\"\",\"title\":{\"standoff\":15},\"zerolinecolor\":\"#283442\",\"zerolinewidth\":2}}},\"title\":{\"text\":\"Nov-14-2021 viz Jobs by 'summary' via google USE + tsne | all listings for CH eng. jobs\"},\"width\":960,\"xaxis\":{\"anchor\":\"y\",\"domain\":[0.0,1.0],\"title\":{\"text\":\"tsne_x\"}},\"yaxis\":{\"anchor\":\"x\",\"domain\":[0.0,1.0],\"title\":{\"text\":\"tsne_y\"}}},                        {\"responsive\": true}                    ).then(function(){\n",
              "                            \n",
              "var gd = document.getElementById('33ad673b-880d-4aaf-87a5-f7d4eecab1a1');\n",
              "var x = new MutationObserver(function (mutations, observer) {{\n",
              "        var display = window.getComputedStyle(gd).display;\n",
              "        if (!display || display === 'none') {{\n",
              "            console.log([gd, 'removed!']);\n",
              "            Plotly.purge(gd);\n",
              "            observer.disconnect();\n",
              "        }}\n",
              "}});\n",
              "\n",
              "// Listen for the removal of the full notebook cells\n",
              "var notebookContainer = gd.closest('#notebook-container');\n",
              "if (notebookContainer) {{\n",
              "    x.observe(notebookContainer, {childList: true});\n",
              "}}\n",
              "\n",
              "// Listen for the clearing of the current output cell\n",
              "var outputEl = gd.closest('.output');\n",
              "if (outputEl) {{\n",
              "    x.observe(outputEl, {childList: true});\n",
              "}}\n",
              "\n",
              "                        })                };                            </script>        </div>\n",
              "</body>\n",
              "</html>"
            ]
          },
          "metadata": {}
        },
        {
          "output_type": "stream",
          "name": "stdout",
          "text": [
            "plot generated -  2021-11-14 17:56:37.002699\n",
            "\n",
            "For google_USE-all listings for CH eng. jobs: opt. # of k-means clusters is 7 \n",
            "\n"
          ]
        },
        {
          "output_type": "display_data",
          "data": {
            "text/html": [
              "<html>\n",
              "<head><meta charset=\"utf-8\" /></head>\n",
              "<body>\n",
              "    <div>            <script src=\"https://cdnjs.cloudflare.com/ajax/libs/mathjax/2.7.5/MathJax.js?config=TeX-AMS-MML_SVG\"></script><script type=\"text/javascript\">if (window.MathJax) {MathJax.Hub.Config({SVG: {font: \"STIX-Web\"}});}</script>                <script type=\"text/javascript\">window.PlotlyConfig = {MathJaxConfig: 'local'};</script>\n",
              "        <script src=\"https://cdn.plot.ly/plotly-2.4.2.min.js\"></script>                <div id=\"883056bb-3f00-4972-829e-9ae788f78208\" class=\"plotly-graph-div\" style=\"height:720px; width:960px;\"></div>            <script type=\"text/javascript\">                                    window.PLOTLYENV=window.PLOTLYENV || {};                                    if (document.getElementById(\"883056bb-3f00-4972-829e-9ae788f78208\")) {                    Plotly.newPlot(                        \"883056bb-3f00-4972-829e-9ae788f78208\",                        [{\"customdata\":[[\"digital project coordinator\",\"H+O communications Ltd.\",\"Gerade geschaltet\",\"not_created\",\"11.14.2021\",\"17:56:34\",\"3\"],[\"zimmermadchen roomboy w\",\"Precise Tale Seehof Davos\",\"Heute\",\"not_created\",\"11.14.2021\",\"17:56:34\",\"3\"],[\"associate full professor translational cell immunolo\",\"University of Lausanne\",\"Heute\",\"not_created\",\"11.14.2021\",\"17:56:34\",\"3\"],[\"p associate statistician dmd tmi\",\"International Trade Center Intracen\",\"vor 1 Tag\",\"not_created\",\"11.14.2021\",\"17:56:34\",\"3\"],[\"p programme officer coordination dmd tmi\",\"International Trade Center Intracen\",\"vor 1 Tag\",\"not_created\",\"11.14.2021\",\"17:56:34\",\"3\"],[\"p programme officer capacity building dmd tmi\",\"International Trade Center Intracen\",\"vor 1 Tag\",\"not_created\",\"11.14.2021\",\"17:56:34\",\"3\"],[\"phd position genome assembly pangenome integration\",\"ETH Z\\u00fcrich\",\"vor 1 Tag\",\"not_created\",\"11.14.2021\",\"17:56:34\",\"3\"]],\"hovertemplate\":\"kmeans=%{customdata[6]}<br>tsne_x=%{x}<br>tsne_y=%{y}<br>titles=%{customdata[0]}<br>companies=%{customdata[1]}<br>date_listed=%{customdata[2]}<br>short_link=%{customdata[3]}<br>date_pulled=%{customdata[4]}<br>time_pulled=%{customdata[5]}<extra></extra>\",\"legendgroup\":\"3\",\"marker\":{\"color\":\"#636efa\",\"symbol\":\"circle\"},\"mode\":\"markers\",\"name\":\"3\",\"orientation\":\"v\",\"showlegend\":true,\"type\":\"scatter\",\"x\":[-18.270200729370117,69.96878051757812,-93.08380889892578,61.98109817504883,33.54021072387695,24.111848831176758,-119.13855743408203],\"xaxis\":\"x\",\"y\":[37.097591400146484,164.97000122070312,-65.61456298828125,127.37113189697266,123.56080627441406,145.6715087890625,-59.22874069213867],\"yaxis\":\"y\"},{\"customdata\":[[\"internship - medical communications\",\"H+O communications Ltd.\",\"Gerade geschaltet\",\"not_created\",\"11.14.2021\",\"17:56:34\",\"1\"],[\"web specialist\",\"H+O communications Ltd.\",\"Gerade geschaltet\",\"not_created\",\"11.14.2021\",\"17:56:34\",\"1\"],[\"software quality engineer essential swiss medtech\",\"NonStop Consulting\",\"vor 1 Tag\",\"not_created\",\"11.14.2021\",\"17:56:34\",\"1\"],[\"controlling specialist\",\"Nespresso\",\"vor 1 Tag\",\"not_created\",\"11.14.2021\",\"17:56:34\",\"1\"],[\"qc equipment specialist\",\"GSK\",\"vor 1 Tag\",\"not_created\",\"11.14.2021\",\"17:56:34\",\"1\"],[\"r modelling specialist\",\"Nestl\\u00e9\",\"vor 1 Tag\",\"not_created\",\"11.14.2021\",\"17:56:34\",\"1\"],[\"associate specialist qa lmm\",\"Johnson & Johnson Family of Companies\",\"vor 1 Tag\",\"not_created\",\"11.14.2021\",\"17:56:34\",\"1\"],[\"intern junior research scientist\",\"Sony Europe BV, Switzerland Branch\",\"vor 1 Tag\",\"not_created\",\"11.14.2021\",\"17:56:34\",\"1\"],[\"talent sourcing specialist\",\"Synpulse\",\"vor 1 Tag\",\"not_created\",\"11.14.2021\",\"17:56:34\",\"1\"],[\"scrum master business analyst\",\"Credit Suisse\",\"vor 1 Tag\",\"not_created\",\"11.14.2021\",\"17:56:34\",\"1\"],[\"enterprise systems engineer\",\"Veeam\",\"vor 1 Tag\",\"not_created\",\"11.14.2021\",\"17:56:34\",\"1\"],[\"senior specialist quality systems\",\"Johnson & Johnson Family of Companies\",\"vor 1 Tag\",\"not_created\",\"11.14.2021\",\"17:56:34\",\"1\"]],\"hovertemplate\":\"kmeans=%{customdata[6]}<br>tsne_x=%{x}<br>tsne_y=%{y}<br>titles=%{customdata[0]}<br>companies=%{customdata[1]}<br>date_listed=%{customdata[2]}<br>short_link=%{customdata[3]}<br>date_pulled=%{customdata[4]}<br>time_pulled=%{customdata[5]}<extra></extra>\",\"legendgroup\":\"1\",\"marker\":{\"color\":\"#EF553B\",\"symbol\":\"circle\"},\"mode\":\"markers\",\"name\":\"1\",\"orientation\":\"v\",\"showlegend\":true,\"type\":\"scatter\",\"x\":[68.073486328125,32.4857292175293,115.64884948730469,56.7730827331543,25.50037956237793,60.570091247558594,5.755331039428711,58.61361312866211,34.1377067565918,-52.95918273925781,87.13401794433594,0.6473864316940308],\"xaxis\":\"x\",\"y\":[6.5220746994018555,-73.22901916503906,-18.00296401977539,-61.85978317260742,-109.05661010742188,-94.2800521850586,-49.68454360961914,-18.45758819580078,-42.356380462646484,18.01719093322754,-39.81416702270508,-76.74430847167969],\"yaxis\":\"y\"},{\"customdata\":[[\"senior medical writer\",\"H+O communications Ltd.\",\"Gerade geschaltet\",\"not_created\",\"11.14.2021\",\"17:56:34\",\"0\"],[\"senior avaloq consultant\",\"philico\",\"Heute\",\"not_created\",\"11.14.2021\",\"17:56:34\",\"0\"],[\"executive assistant\",\"Johnson & Johnson Family of Companies\",\"vor 1 Tag\",\"not_created\",\"11.14.2021\",\"17:56:34\",\"0\"],[\"strategic recruiter wealth management switzerland\",\"UBS\",\"vor 1 Tag\",\"not_created\",\"11.14.2021\",\"17:56:34\",\"0\"],[\"client manager italy international\",\"Credit Suisse\",\"vor 1 Tag\",\"not_created\",\"11.14.2021\",\"17:56:34\",\"0\"],[\"finance officer\",\"Dansk Flygtningehj\\u00e6lp\",\"vor 1 Tag\",\"not_created\",\"11.14.2021\",\"17:56:34\",\"0\"],[\"incident manager\",\"UBS\",\"vor 1 Tag\",\"not_created\",\"11.14.2021\",\"17:56:34\",\"0\"],[\"marketing campaign manager\",\"easyJet\",\"vor 1 Tag\",\"not_created\",\"11.14.2021\",\"17:56:34\",\"0\"],[\"finance manager jbs alliance management\",\"Johnson & Johnson Family of Companies\",\"vor 1 Tag\",\"not_created\",\"11.14.2021\",\"17:56:34\",\"0\"],[\"senior vip travel manager\",\"FIFA\",\"vor 1 Tag\",\"not_created\",\"11.14.2021\",\"17:56:34\",\"0\"],[\"senior hr coordinator\",\"SGS\",\"vor 1 Tag\",\"not_created\",\"11.14.2021\",\"17:56:34\",\"0\"],[\"manager audit industries geneva\",\"EY\",\"vor 1 Tag\",\"not_created\",\"11.14.2021\",\"17:56:34\",\"0\"],[\"packaging project manager\",\"Persaga AG\",\"vor 1 Tag\",\"not_created\",\"11.14.2021\",\"17:56:34\",\"0\"],[\"executive director product strategy\",\"Oracle\",\"vor 1 Tag\",\"not_created\",\"11.14.2021\",\"17:56:34\",\"0\"]],\"hovertemplate\":\"kmeans=%{customdata[6]}<br>tsne_x=%{x}<br>tsne_y=%{y}<br>titles=%{customdata[0]}<br>companies=%{customdata[1]}<br>date_listed=%{customdata[2]}<br>short_link=%{customdata[3]}<br>date_pulled=%{customdata[4]}<br>time_pulled=%{customdata[5]}<extra></extra>\",\"legendgroup\":\"0\",\"marker\":{\"color\":\"#00cc96\",\"symbol\":\"circle\"},\"mode\":\"markers\",\"name\":\"0\",\"orientation\":\"v\",\"showlegend\":true,\"type\":\"scatter\",\"x\":[26.538257598876953,-0.39051613211631775,-30.64076042175293,-23.127334594726562,-33.31913757324219,53.87690353393555,15.110891342163086,-44.85722732543945,-28.7769775390625,18.117507934570312,-4.996878623962402,110.58539581298828,-16.756187438964844,-56.938724517822266],\"xaxis\":\"x\",\"y\":[-2.8290634155273438,-16.248144149780273,-4.303836822509766,126.04619598388672,-41.18324279785156,42.307308197021484,55.257293701171875,52.616615295410156,101.4681625366211,28.877548217773438,12.725709915161133,29.845287322998047,64.69677734375,79.00298309326172],\"yaxis\":\"y\"},{\"customdata\":[[\"anti bribery corruption compliance officer\",\"Credit Suisse\",\"Heute\",\"not_created\",\"11.14.2021\",\"17:56:34\",\"5\"],[\"information evidence officer\",\"United Nations\",\"vor 1 Tag\",\"not_created\",\"11.14.2021\",\"17:56:34\",\"5\"],[\"vice president operations\",\"ACCOR\",\"vor 1 Tag\",\"not_created\",\"11.14.2021\",\"17:56:34\",\"5\"],[\"surveillance operational integrity officer\",\"Credit Suisse\",\"vor 1 Tag\",\"not_created\",\"11.14.2021\",\"17:56:34\",\"5\"],[\"custody onboarding operational key account manager\",\"UBS\",\"vor 1 Tag\",\"not_created\",\"11.14.2021\",\"17:56:34\",\"5\"]],\"hovertemplate\":\"kmeans=%{customdata[6]}<br>tsne_x=%{x}<br>tsne_y=%{y}<br>titles=%{customdata[0]}<br>companies=%{customdata[1]}<br>date_listed=%{customdata[2]}<br>short_link=%{customdata[3]}<br>date_pulled=%{customdata[4]}<br>time_pulled=%{customdata[5]}<extra></extra>\",\"legendgroup\":\"5\",\"marker\":{\"color\":\"#ab63fa\",\"symbol\":\"circle\"},\"mode\":\"markers\",\"name\":\"5\",\"orientation\":\"v\",\"showlegend\":true,\"type\":\"scatter\",\"x\":[44.44776916503906,82.67103576660156,-98.8283462524414,-101.27212524414062,-72.48970794677734],\"xaxis\":\"x\",\"y\":[78.63482666015625,66.05191040039062,75.4039535522461,111.29069519042969,112.79977416992188],\"yaxis\":\"y\"},{\"customdata\":[[\"team assistant\",\"Timberland\",\"vor 1 Tag\",\"not_created\",\"11.14.2021\",\"17:56:34\",\"2\"],[\"team assistant timberland global apparel\",\"VF Corporation\",\"vor 1 Tag\",\"not_created\",\"11.14.2021\",\"17:56:34\",\"2\"],[\"head business intelligence applications f\",\"Alpiq\",\"vor 1 Tag\",\"not_created\",\"11.14.2021\",\"17:56:34\",\"2\"],[\"team lead mes applications support\",\"SHL Group\",\"vor 1 Tag\",\"not_created\",\"11.14.2021\",\"17:56:34\",\"2\"],[\"team lead mes applications support\",\"SHL Medical AG\",\"vor 1 Tag\",\"not_created\",\"11.14.2021\",\"17:56:34\",\"2\"]],\"hovertemplate\":\"kmeans=%{customdata[6]}<br>tsne_x=%{x}<br>tsne_y=%{y}<br>titles=%{customdata[0]}<br>companies=%{customdata[1]}<br>date_listed=%{customdata[2]}<br>short_link=%{customdata[3]}<br>date_pulled=%{customdata[4]}<br>time_pulled=%{customdata[5]}<extra></extra>\",\"legendgroup\":\"2\",\"marker\":{\"color\":\"#FFA15A\",\"symbol\":\"circle\"},\"mode\":\"markers\",\"name\":\"2\",\"orientation\":\"v\",\"showlegend\":true,\"type\":\"scatter\",\"x\":[-58.64593505859375,-82.92597961425781,-134.1448516845703,-133.99618530273438,-112.96540832519531],\"xaxis\":\"x\",\"y\":[-13.348660469055176,-25.90667152404785,34.255863189697266,-2.9100842475891113,4.761577606201172],\"yaxis\":\"y\"},{\"customdata\":[[\"demand planner footwear napapijri\",\"Napapijri\",\"vor 1 Tag\",\"not_created\",\"11.14.2021\",\"17:56:34\",\"6\"],[\"supply chain controller\",\"Nespresso\",\"vor 1 Tag\",\"not_created\",\"11.14.2021\",\"17:56:34\",\"6\"],[\"demand planner footwear napapijri\",\"VF Corporation\",\"vor 1 Tag\",\"not_created\",\"11.14.2021\",\"17:56:34\",\"6\"],[\"structurer weather commodity reinsurance f x\",\"Robert Half\",\"vor 1 Tag\",\"not_created\",\"11.14.2021\",\"17:56:34\",\"6\"]],\"hovertemplate\":\"kmeans=%{customdata[6]}<br>tsne_x=%{x}<br>tsne_y=%{y}<br>titles=%{customdata[0]}<br>companies=%{customdata[1]}<br>date_listed=%{customdata[2]}<br>short_link=%{customdata[3]}<br>date_pulled=%{customdata[4]}<br>time_pulled=%{customdata[5]}<extra></extra>\",\"legendgroup\":\"6\",\"marker\":{\"color\":\"#19d3f3\",\"symbol\":\"circle\"},\"mode\":\"markers\",\"name\":\"6\",\"orientation\":\"v\",\"showlegend\":true,\"type\":\"scatter\",\"x\":[-53.465206146240234,5.309701919555664,-40.2597770690918,107.5038833618164],\"xaxis\":\"x\",\"y\":[-101.47335052490234,89.07210540771484,-119.37783813476562,114.889892578125],\"yaxis\":\"y\"},{\"customdata\":[[\"master production planner temporary months\",\"Johnson & Johnson Family of Companies\",\"vor 1 Tag\",\"not_created\",\"11.14.2021\",\"17:56:34\",\"4\"],[\"securities specialist asset transfer focus funds\",\"UBS\",\"vor 1 Tag\",\"not_created\",\"11.14.2021\",\"17:56:34\",\"4\"],[\"head quality erms risk change projects\",\"UBS\",\"vor 1 Tag\",\"not_created\",\"11.14.2021\",\"17:56:34\",\"4\"]],\"hovertemplate\":\"kmeans=%{customdata[6]}<br>tsne_x=%{x}<br>tsne_y=%{y}<br>titles=%{customdata[0]}<br>companies=%{customdata[1]}<br>date_listed=%{customdata[2]}<br>short_link=%{customdata[3]}<br>date_pulled=%{customdata[4]}<br>time_pulled=%{customdata[5]}<extra></extra>\",\"legendgroup\":\"4\",\"marker\":{\"color\":\"#FF6692\",\"symbol\":\"circle\"},\"mode\":\"markers\",\"name\":\"4\",\"orientation\":\"v\",\"showlegend\":true,\"type\":\"scatter\",\"x\":[-80.3344955444336,-69.94203186035156,-39.08932876586914],\"xaxis\":\"x\",\"y\":[37.3968505859375,149.84176635742188,170.47695922851562],\"yaxis\":\"y\"}],                        {\"height\":720,\"legend\":{\"title\":{\"text\":\"kmeans\"},\"tracegroupgap\":0},\"template\":{\"data\":{\"bar\":[{\"error_x\":{\"color\":\"#f2f5fa\"},\"error_y\":{\"color\":\"#f2f5fa\"},\"marker\":{\"line\":{\"color\":\"rgb(17,17,17)\",\"width\":0.5},\"pattern\":{\"fillmode\":\"overlay\",\"size\":10,\"solidity\":0.2}},\"type\":\"bar\"}],\"barpolar\":[{\"marker\":{\"line\":{\"color\":\"rgb(17,17,17)\",\"width\":0.5},\"pattern\":{\"fillmode\":\"overlay\",\"size\":10,\"solidity\":0.2}},\"type\":\"barpolar\"}],\"carpet\":[{\"aaxis\":{\"endlinecolor\":\"#A2B1C6\",\"gridcolor\":\"#506784\",\"linecolor\":\"#506784\",\"minorgridcolor\":\"#506784\",\"startlinecolor\":\"#A2B1C6\"},\"baxis\":{\"endlinecolor\":\"#A2B1C6\",\"gridcolor\":\"#506784\",\"linecolor\":\"#506784\",\"minorgridcolor\":\"#506784\",\"startlinecolor\":\"#A2B1C6\"},\"type\":\"carpet\"}],\"choropleth\":[{\"colorbar\":{\"outlinewidth\":0,\"ticks\":\"\"},\"type\":\"choropleth\"}],\"contour\":[{\"colorbar\":{\"outlinewidth\":0,\"ticks\":\"\"},\"colorscale\":[[0.0,\"#0d0887\"],[0.1111111111111111,\"#46039f\"],[0.2222222222222222,\"#7201a8\"],[0.3333333333333333,\"#9c179e\"],[0.4444444444444444,\"#bd3786\"],[0.5555555555555556,\"#d8576b\"],[0.6666666666666666,\"#ed7953\"],[0.7777777777777778,\"#fb9f3a\"],[0.8888888888888888,\"#fdca26\"],[1.0,\"#f0f921\"]],\"type\":\"contour\"}],\"contourcarpet\":[{\"colorbar\":{\"outlinewidth\":0,\"ticks\":\"\"},\"type\":\"contourcarpet\"}],\"heatmap\":[{\"colorbar\":{\"outlinewidth\":0,\"ticks\":\"\"},\"colorscale\":[[0.0,\"#0d0887\"],[0.1111111111111111,\"#46039f\"],[0.2222222222222222,\"#7201a8\"],[0.3333333333333333,\"#9c179e\"],[0.4444444444444444,\"#bd3786\"],[0.5555555555555556,\"#d8576b\"],[0.6666666666666666,\"#ed7953\"],[0.7777777777777778,\"#fb9f3a\"],[0.8888888888888888,\"#fdca26\"],[1.0,\"#f0f921\"]],\"type\":\"heatmap\"}],\"heatmapgl\":[{\"colorbar\":{\"outlinewidth\":0,\"ticks\":\"\"},\"colorscale\":[[0.0,\"#0d0887\"],[0.1111111111111111,\"#46039f\"],[0.2222222222222222,\"#7201a8\"],[0.3333333333333333,\"#9c179e\"],[0.4444444444444444,\"#bd3786\"],[0.5555555555555556,\"#d8576b\"],[0.6666666666666666,\"#ed7953\"],[0.7777777777777778,\"#fb9f3a\"],[0.8888888888888888,\"#fdca26\"],[1.0,\"#f0f921\"]],\"type\":\"heatmapgl\"}],\"histogram\":[{\"marker\":{\"pattern\":{\"fillmode\":\"overlay\",\"size\":10,\"solidity\":0.2}},\"type\":\"histogram\"}],\"histogram2d\":[{\"colorbar\":{\"outlinewidth\":0,\"ticks\":\"\"},\"colorscale\":[[0.0,\"#0d0887\"],[0.1111111111111111,\"#46039f\"],[0.2222222222222222,\"#7201a8\"],[0.3333333333333333,\"#9c179e\"],[0.4444444444444444,\"#bd3786\"],[0.5555555555555556,\"#d8576b\"],[0.6666666666666666,\"#ed7953\"],[0.7777777777777778,\"#fb9f3a\"],[0.8888888888888888,\"#fdca26\"],[1.0,\"#f0f921\"]],\"type\":\"histogram2d\"}],\"histogram2dcontour\":[{\"colorbar\":{\"outlinewidth\":0,\"ticks\":\"\"},\"colorscale\":[[0.0,\"#0d0887\"],[0.1111111111111111,\"#46039f\"],[0.2222222222222222,\"#7201a8\"],[0.3333333333333333,\"#9c179e\"],[0.4444444444444444,\"#bd3786\"],[0.5555555555555556,\"#d8576b\"],[0.6666666666666666,\"#ed7953\"],[0.7777777777777778,\"#fb9f3a\"],[0.8888888888888888,\"#fdca26\"],[1.0,\"#f0f921\"]],\"type\":\"histogram2dcontour\"}],\"mesh3d\":[{\"colorbar\":{\"outlinewidth\":0,\"ticks\":\"\"},\"type\":\"mesh3d\"}],\"parcoords\":[{\"line\":{\"colorbar\":{\"outlinewidth\":0,\"ticks\":\"\"}},\"type\":\"parcoords\"}],\"pie\":[{\"automargin\":true,\"type\":\"pie\"}],\"scatter\":[{\"marker\":{\"line\":{\"color\":\"#283442\"}},\"type\":\"scatter\"}],\"scatter3d\":[{\"line\":{\"colorbar\":{\"outlinewidth\":0,\"ticks\":\"\"}},\"marker\":{\"colorbar\":{\"outlinewidth\":0,\"ticks\":\"\"}},\"type\":\"scatter3d\"}],\"scattercarpet\":[{\"marker\":{\"colorbar\":{\"outlinewidth\":0,\"ticks\":\"\"}},\"type\":\"scattercarpet\"}],\"scattergeo\":[{\"marker\":{\"colorbar\":{\"outlinewidth\":0,\"ticks\":\"\"}},\"type\":\"scattergeo\"}],\"scattergl\":[{\"marker\":{\"line\":{\"color\":\"#283442\"}},\"type\":\"scattergl\"}],\"scattermapbox\":[{\"marker\":{\"colorbar\":{\"outlinewidth\":0,\"ticks\":\"\"}},\"type\":\"scattermapbox\"}],\"scatterpolar\":[{\"marker\":{\"colorbar\":{\"outlinewidth\":0,\"ticks\":\"\"}},\"type\":\"scatterpolar\"}],\"scatterpolargl\":[{\"marker\":{\"colorbar\":{\"outlinewidth\":0,\"ticks\":\"\"}},\"type\":\"scatterpolargl\"}],\"scatterternary\":[{\"marker\":{\"colorbar\":{\"outlinewidth\":0,\"ticks\":\"\"}},\"type\":\"scatterternary\"}],\"surface\":[{\"colorbar\":{\"outlinewidth\":0,\"ticks\":\"\"},\"colorscale\":[[0.0,\"#0d0887\"],[0.1111111111111111,\"#46039f\"],[0.2222222222222222,\"#7201a8\"],[0.3333333333333333,\"#9c179e\"],[0.4444444444444444,\"#bd3786\"],[0.5555555555555556,\"#d8576b\"],[0.6666666666666666,\"#ed7953\"],[0.7777777777777778,\"#fb9f3a\"],[0.8888888888888888,\"#fdca26\"],[1.0,\"#f0f921\"]],\"type\":\"surface\"}],\"table\":[{\"cells\":{\"fill\":{\"color\":\"#506784\"},\"line\":{\"color\":\"rgb(17,17,17)\"}},\"header\":{\"fill\":{\"color\":\"#2a3f5f\"},\"line\":{\"color\":\"rgb(17,17,17)\"}},\"type\":\"table\"}]},\"layout\":{\"annotationdefaults\":{\"arrowcolor\":\"#f2f5fa\",\"arrowhead\":0,\"arrowwidth\":1},\"autotypenumbers\":\"strict\",\"coloraxis\":{\"colorbar\":{\"outlinewidth\":0,\"ticks\":\"\"}},\"colorscale\":{\"diverging\":[[0,\"#8e0152\"],[0.1,\"#c51b7d\"],[0.2,\"#de77ae\"],[0.3,\"#f1b6da\"],[0.4,\"#fde0ef\"],[0.5,\"#f7f7f7\"],[0.6,\"#e6f5d0\"],[0.7,\"#b8e186\"],[0.8,\"#7fbc41\"],[0.9,\"#4d9221\"],[1,\"#276419\"]],\"sequential\":[[0.0,\"#0d0887\"],[0.1111111111111111,\"#46039f\"],[0.2222222222222222,\"#7201a8\"],[0.3333333333333333,\"#9c179e\"],[0.4444444444444444,\"#bd3786\"],[0.5555555555555556,\"#d8576b\"],[0.6666666666666666,\"#ed7953\"],[0.7777777777777778,\"#fb9f3a\"],[0.8888888888888888,\"#fdca26\"],[1.0,\"#f0f921\"]],\"sequentialminus\":[[0.0,\"#0d0887\"],[0.1111111111111111,\"#46039f\"],[0.2222222222222222,\"#7201a8\"],[0.3333333333333333,\"#9c179e\"],[0.4444444444444444,\"#bd3786\"],[0.5555555555555556,\"#d8576b\"],[0.6666666666666666,\"#ed7953\"],[0.7777777777777778,\"#fb9f3a\"],[0.8888888888888888,\"#fdca26\"],[1.0,\"#f0f921\"]]},\"colorway\":[\"#636efa\",\"#EF553B\",\"#00cc96\",\"#ab63fa\",\"#FFA15A\",\"#19d3f3\",\"#FF6692\",\"#B6E880\",\"#FF97FF\",\"#FECB52\"],\"font\":{\"color\":\"#f2f5fa\"},\"geo\":{\"bgcolor\":\"rgb(17,17,17)\",\"lakecolor\":\"rgb(17,17,17)\",\"landcolor\":\"rgb(17,17,17)\",\"showlakes\":true,\"showland\":true,\"subunitcolor\":\"#506784\"},\"hoverlabel\":{\"align\":\"left\"},\"hovermode\":\"closest\",\"mapbox\":{\"style\":\"dark\"},\"paper_bgcolor\":\"rgb(17,17,17)\",\"plot_bgcolor\":\"rgb(17,17,17)\",\"polar\":{\"angularaxis\":{\"gridcolor\":\"#506784\",\"linecolor\":\"#506784\",\"ticks\":\"\"},\"bgcolor\":\"rgb(17,17,17)\",\"radialaxis\":{\"gridcolor\":\"#506784\",\"linecolor\":\"#506784\",\"ticks\":\"\"}},\"scene\":{\"xaxis\":{\"backgroundcolor\":\"rgb(17,17,17)\",\"gridcolor\":\"#506784\",\"gridwidth\":2,\"linecolor\":\"#506784\",\"showbackground\":true,\"ticks\":\"\",\"zerolinecolor\":\"#C8D4E3\"},\"yaxis\":{\"backgroundcolor\":\"rgb(17,17,17)\",\"gridcolor\":\"#506784\",\"gridwidth\":2,\"linecolor\":\"#506784\",\"showbackground\":true,\"ticks\":\"\",\"zerolinecolor\":\"#C8D4E3\"},\"zaxis\":{\"backgroundcolor\":\"rgb(17,17,17)\",\"gridcolor\":\"#506784\",\"gridwidth\":2,\"linecolor\":\"#506784\",\"showbackground\":true,\"ticks\":\"\",\"zerolinecolor\":\"#C8D4E3\"}},\"shapedefaults\":{\"line\":{\"color\":\"#f2f5fa\"}},\"sliderdefaults\":{\"bgcolor\":\"#C8D4E3\",\"bordercolor\":\"rgb(17,17,17)\",\"borderwidth\":1,\"tickwidth\":0},\"ternary\":{\"aaxis\":{\"gridcolor\":\"#506784\",\"linecolor\":\"#506784\",\"ticks\":\"\"},\"baxis\":{\"gridcolor\":\"#506784\",\"linecolor\":\"#506784\",\"ticks\":\"\"},\"bgcolor\":\"rgb(17,17,17)\",\"caxis\":{\"gridcolor\":\"#506784\",\"linecolor\":\"#506784\",\"ticks\":\"\"}},\"title\":{\"x\":0.05},\"updatemenudefaults\":{\"bgcolor\":\"#506784\",\"borderwidth\":0},\"xaxis\":{\"automargin\":true,\"gridcolor\":\"#283442\",\"linecolor\":\"#506784\",\"ticks\":\"\",\"title\":{\"standoff\":15},\"zerolinecolor\":\"#283442\",\"zerolinewidth\":2},\"yaxis\":{\"automargin\":true,\"gridcolor\":\"#283442\",\"linecolor\":\"#506784\",\"ticks\":\"\",\"title\":{\"standoff\":15},\"zerolinecolor\":\"#283442\",\"zerolinewidth\":2}}},\"title\":{\"text\":\"Nov-14-2021 viz Jobs by 'titles' via google USE + tsne | all listings for CH eng. jobs\"},\"width\":960,\"xaxis\":{\"anchor\":\"y\",\"domain\":[0.0,1.0],\"title\":{\"text\":\"tsne_x\"}},\"yaxis\":{\"anchor\":\"x\",\"domain\":[0.0,1.0],\"title\":{\"text\":\"tsne_y\"}}},                        {\"responsive\": true}                    ).then(function(){\n",
              "                            \n",
              "var gd = document.getElementById('883056bb-3f00-4972-829e-9ae788f78208');\n",
              "var x = new MutationObserver(function (mutations, observer) {{\n",
              "        var display = window.getComputedStyle(gd).display;\n",
              "        if (!display || display === 'none') {{\n",
              "            console.log([gd, 'removed!']);\n",
              "            Plotly.purge(gd);\n",
              "            observer.disconnect();\n",
              "        }}\n",
              "}});\n",
              "\n",
              "// Listen for the removal of the full notebook cells\n",
              "var notebookContainer = gd.closest('#notebook-container');\n",
              "if (notebookContainer) {{\n",
              "    x.observe(notebookContainer, {childList: true});\n",
              "}}\n",
              "\n",
              "// Listen for the clearing of the current output cell\n",
              "var outputEl = gd.closest('.output');\n",
              "if (outputEl) {{\n",
              "    x.observe(outputEl, {childList: true});\n",
              "}}\n",
              "\n",
              "                        })                };                            </script>        </div>\n",
              "</body>\n",
              "</html>"
            ]
          },
          "metadata": {}
        },
        {
          "output_type": "stream",
          "name": "stdout",
          "text": [
            "plot generated -  2021-11-14 17:56:39.225657\n"
          ]
        }
      ]
    }
  ]
}