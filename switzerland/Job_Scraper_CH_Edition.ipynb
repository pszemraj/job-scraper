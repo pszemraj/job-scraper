{
  "nbformat": 4,
  "nbformat_minor": 0,
  "metadata": {
    "kernelspec": {
      "display_name": "Python 3",
      "language": "python",
      "name": "python3"
    },
    "language_info": {
      "codemirror_mode": {
        "name": "ipython",
        "version": 3
      },
      "file_extension": ".py",
      "mimetype": "text/x-python",
      "name": "python",
      "nbconvert_exporter": "python",
      "pygments_lexer": "ipython3",
      "version": "3.7.3"
    },
    "colab": {
      "name": "Job Scraper Upgraded - CH Edition",
      "provenance": [],
      "collapsed_sections": [],
      "machine_shape": "hm",
      "include_colab_link": true
    }
  },
  "cells": [
    {
      "cell_type": "markdown",
      "metadata": {
        "id": "view-in-github",
        "colab_type": "text"
      },
      "source": [
        "<a href=\"https://colab.research.google.com/github/pszemraj/job-scraper/blob/master/switzerland/Job_Scraper_CH_Edition.ipynb\" target=\"_parent\"><img src=\"https://colab.research.google.com/assets/colab-badge.svg\" alt=\"Open In Colab\"/></a>"
      ]
    },
    {
      "cell_type": "markdown",
      "metadata": {
        "id": "-PjVjR8lmmQx"
      },
      "source": [
        "# Job Scraping + Viz: Modified for CH\n",
        "\n",
        "---\n",
        "Created by: [Peter Szemraj](https://peterszemraj.ch/)\n",
        "\n",
        "1. [link](https://github.com/pszemraj/job-scraper) to the repo of this project\n",
        "\n",
        "*Date 26.05.2021*\n",
        "\n",
        "---\n",
        "original code forked from [this article](https://towardsdatascience.com/automating-my-job-search-with-python-ee2b465c6a8f) on medium\n",
        "\n",
        "Key Features:\n",
        "1. connects to your google drive and saves the search files there\n",
        "2. clusters and visualizes job postings for faster \"find what I actually care about\"\n",
        "\n",
        "\n",
        "**Note**\n",
        "\n",
        "If you are editing this code / adapting to a different country/site for Indeed, sections that likely need to be changed are described with comments <font color='orange'>**in orange font**</font>\n",
        "\n",
        "---\n"
      ]
    },
    {
      "cell_type": "markdown",
      "metadata": {
        "id": "-Hhorcuihr-u"
      },
      "source": [
        "# Setup"
      ]
    },
    {
      "cell_type": "markdown",
      "metadata": {
        "id": "zEigMy50jJ4h"
      },
      "source": [
        "### Google Drive"
      ]
    },
    {
      "cell_type": "code",
      "metadata": {
        "id": "bIyU8N7fjKzV",
        "colab": {
          "base_uri": "https://localhost:8080/"
        },
        "outputId": "3463bb50-61a6-4a99-a786-9e88595a33a7"
      },
      "source": [
        "# create interface to upload / interact with google drive and video files\n",
        "from google.colab import files\n",
        "from google.colab import drive\n",
        "drive.mount('/content/drive')\n",
        "\n",
        "# after you allow the authentication, you can work using the path \"/content/drive/My Drive\"\n",
        "# if it works it will say \"Mounted at /content/drive\""
      ],
      "execution_count": 1,
      "outputs": [
        {
          "output_type": "stream",
          "text": [
            "Mounted at /content/drive\n"
          ],
          "name": "stdout"
        }
      ]
    },
    {
      "cell_type": "markdown",
      "metadata": {
        "id": "_yZvUCO1jj4Y"
      },
      "source": [
        "### Filepaths on Drive\n",
        "\n",
        "saves all runs to a folder in your google drive with today's date. Folder is created if it doesn't exist \n",
        "\n",
        "<font color='orange'> update the **directory** variable to a custom filepath if desired  </font>"
      ]
    },
    {
      "cell_type": "code",
      "metadata": {
        "id": "yXTiNdwKjdK5",
        "colab": {
          "base_uri": "https://localhost:8080/"
        },
        "outputId": "80ee95fb-81d4-4b27-fc20-b128d2a07631"
      },
      "source": [
        "from datetime import date\n",
        "import os\n",
        "from os.path import join, isdir\n",
        "today = date.today()\n",
        "# Month abbreviation, day and year\t\n",
        "td_date = today.strftime(\"%b-%d-%Y\")\n",
        "\n",
        "folder_name = \"job_search_results_\" + td_date\n",
        "directory = \"/content/drive/MyDrive/Career/job_search_repo\"\n",
        "\n",
        "# check if transcription folder exists. If not, create it\n",
        "output_folder_path = join(directory, folder_name)\n",
        "\n",
        "if not isdir(output_folder_path):\n",
        "    os.mkdir(output_folder_path)  # make a place to store outputs if one does not exist\n",
        "\n",
        "    print(\"needed to create the folder: {}. Its location is: \\n\".format(folder_name),\n",
        "          output_folder_path)\n",
        "\n",
        "\n",
        "os.chdir(output_folder_path)\n",
        "print(\"\\n\\n the current working directory is: \\n\", output_folder_path)"
      ],
      "execution_count": 3,
      "outputs": [
        {
          "output_type": "stream",
          "text": [
            "needed to create the folder: job_search_results_May-26-2021. Its location is: \n",
            " /content/drive/MyDrive/Career/job_search_repo/job_search_results_May-26-2021\n",
            "\n",
            "\n",
            " the current working directory is: \n",
            " /content/drive/MyDrive/Career/job_search_repo/job_search_results_May-26-2021\n"
          ],
          "name": "stdout"
        }
      ]
    },
    {
      "cell_type": "markdown",
      "metadata": {
        "id": "QDAk9c3TjKM0"
      },
      "source": [
        "### Install & Import\n"
      ]
    },
    {
      "cell_type": "code",
      "metadata": {
        "id": "tffFYWQPi-KF"
      },
      "source": [
        "%%capture\n",
        "\"\"\"\n",
        "libraries added / installed by Peter\n",
        "\n",
        "\"\"\"\n",
        "\n",
        "!pip install -U selenium\n",
        "!pip install -U bs4\n",
        "!pip install -U texthero\n",
        "!pip install -U plotly\n",
        "!pip install pyshorteners\n",
        "!pip install sister\n",
        "!pip install -U kneed\n",
        "\n",
        "from os.path import join\n",
        "from google.colab import data_table\n",
        "import texthero as hero\n",
        "import pprint as pp\n",
        "import sister\n",
        "\n",
        "%load_ext google.colab.data_table\n"
      ],
      "execution_count": 4,
      "outputs": []
    },
    {
      "cell_type": "code",
      "metadata": {
        "id": "L1Xu5tlXhpC8"
      },
      "source": [
        "\"\"\"\n",
        "libraries imported in the originally forked version of this code. \n",
        "\n",
        "Created on Tue Apr 28 11:35:04 2020\n",
        "@author: chrislovejoy\n",
        "\"\"\"\n",
        "import urllib\n",
        "import requests\n",
        "from bs4 import BeautifulSoup\n",
        "import selenium\n",
        "from selenium import webdriver\n",
        "from selenium.webdriver.support.ui import WebDriverWait\n",
        "import pandas as pd\n",
        "import os"
      ],
      "execution_count": 5,
      "outputs": []
    },
    {
      "cell_type": "markdown",
      "metadata": {
        "id": "2amAUOM5piqT"
      },
      "source": [
        "formats jupyter notebook / colab"
      ]
    },
    {
      "cell_type": "code",
      "metadata": {
        "id": "gFxtFF3Ql_4W"
      },
      "source": [
        "from IPython.display import HTML, display\n",
        "def set_css():\n",
        "  display(HTML('''\n",
        "  <style>\n",
        "    pre {\n",
        "        white-space: pre-wrap;\n",
        "    }\n",
        "  </style>\n",
        "  '''))\n",
        "get_ipython().events.register('pre_run_cell', set_css)"
      ],
      "execution_count": 6,
      "outputs": []
    },
    {
      "cell_type": "markdown",
      "metadata": {
        "id": "F3JHDcx3hrsR"
      },
      "source": [
        "# Job Search Functions\n"
      ]
    },
    {
      "cell_type": "markdown",
      "metadata": {
        "id": "dOvrznfs46rr"
      },
      "source": [
        "## generic\n",
        "\n",
        "cuttly [website](https://cutt.ly/edit)\n",
        "cuttly tutorial w/ Python [here](https://towardsdatascience.com/best-apis-for-url-shortening-using-python-2db09d1f86f0)\n",
        "\n",
        "\n",
        "pyshorteners [docs](https://pyshorteners.readthedocs.io/en/latest/)\n"
      ]
    },
    {
      "cell_type": "markdown",
      "metadata": {
        "id": "4Zpez9VIrXaL"
      },
      "source": [
        "### misc.\n",
        "\n",
        "<font color='orange'> add own API key for link shortening as needed</font>\n"
      ]
    },
    {
      "cell_type": "code",
      "metadata": {
        "id": "Mkf4LMbS2Ex6",
        "colab": {
          "base_uri": "https://localhost:8080/",
          "height": 17
        },
        "outputId": "1c1b94a3-7c40-48be-9eda-4a8d6ac190e3"
      },
      "source": [
        "import requests\n",
        "import time, random\n",
        "import pyshorteners\n",
        "\n",
        "def save_jobs_to_excel(jobs_list, filename, verbose=False):\n",
        "    # i have no idea what this function does\n",
        "    jobs = pd.DataFrame(jobs_list)\n",
        "    jobs.to_excel(filename)\n",
        "\n",
        "    if verbose:\n",
        "        print(\"saved the following to excel with filename {}: \\n\".format(filename))\n",
        "\n",
        "        print(jobs.info())\n",
        "    return jobs\n",
        "\n",
        "def shorten_URL_bitly(long_url, verbose=False):\n",
        "    # requires free account / API token. https://bitly.com/\n",
        "    # generate short URLs from the ones scraped \n",
        "\n",
        "    time.sleep(random.randint(1,5)) # don't overload API\n",
        "\n",
        "    ACCESS_TOKEN = \"hahah_get_ur_own\"\n",
        "\n",
        "    # Shorten long URL\n",
        "    try:\n",
        "        s = pyshorteners.Shortener(api_key=ACCESS_TOKEN)\n",
        "        short_url = s.bitly.short(long_url)\n",
        "\n",
        "        if verbose:\n",
        "            print (\"Short URL is {}\".format(short_url))\n",
        "    except:\n",
        "        print(\"Error accessing API for key {} and fn shorten_URL_bitly\".format(ACCESS_TOKEN))\n",
        "        print(\"Try updating API key / checking fn. Returning original url\")\n",
        "        short_url = long_url\n",
        "        \n",
        "    return short_url\n",
        "\n",
        "\n",
        "def text_first_N(text, num=40):\n",
        "    # returns the first N chars in text, i.e. for long job descriptions\n",
        "    # for use with Pandas .apply() function\n",
        "\n",
        "    text = str(text) #convert to string\n",
        "\n",
        "    if isinstance(text, list):\n",
        "        text = \" \".join(text)\n",
        "\n",
        "    if len(text) <= num:\n",
        "        return text\n",
        "    else:\n",
        "        short_text = text[:num]\n",
        "        return short_text + \"..\""
      ],
      "execution_count": 7,
      "outputs": [
        {
          "output_type": "display_data",
          "data": {
            "text/html": [
              "\n",
              "  <style>\n",
              "    pre {\n",
              "        white-space: pre-wrap;\n",
              "    }\n",
              "  </style>\n",
              "  "
            ],
            "text/plain": [
              "<IPython.core.display.HTML object>"
            ]
          },
          "metadata": {
            "tags": []
          }
        }
      ]
    },
    {
      "cell_type": "markdown",
      "metadata": {
        "id": "iKpVSo1HFMV-"
      },
      "source": [
        "### optimize k-means no.\n",
        "\n",
        "stole this snippet from a different project of mine - was written several months ago, don't judge the efficiency"
      ]
    },
    {
      "cell_type": "code",
      "metadata": {
        "id": "6FdgV9BNAF5n",
        "colab": {
          "base_uri": "https://localhost:8080/",
          "height": 17
        },
        "outputId": "eaea8e9e-6979-46bd-cba2-048979a949e2"
      },
      "source": [
        "from kneed import KneeLocator\n",
        "from sklearn.cluster import KMeans\n",
        "from sklearn.preprocessing import StandardScaler\n",
        "\n",
        "def optimal_num_clustas(input_matrix, d_title, top_end=11, show_plot=False,\n",
        "                        write_image=False):\n",
        "    # given 'input_matrix' as a pandas series containing a list / vector in each\n",
        "    # row, find the optimal number of k_means clusters to cluster them using \n",
        "    # the elbow method\n",
        "\n",
        "    # 'top_end' is the max number of clusters. If having issues, look at the plot\n",
        "    # and adjust accordingly\n",
        "\n",
        "    scaler = StandardScaler()\n",
        "    # texthero input data structure is weird.\n",
        "    #  stole the below if/else from the source code behind TH kmeans fn\n",
        "    # https://github.com/jbesomi/texthero/blob/master/texthero/representation.py\n",
        "\n",
        "    if isinstance(input_matrix, pd.DataFrame):\n",
        "        # fixes weird issues parsing a texthero edited text pd series\n",
        "        input_matrix_coo = input_matrix.sparse.to_coo()\n",
        "        input_matrix_for_vectorization = input_matrix_coo.astype(\"float64\")\n",
        "    else:\n",
        "        input_matrix_for_vectorization = list(input_matrix)\n",
        "\n",
        "    scaled_features = scaler.fit_transform(input_matrix_for_vectorization)\n",
        "    kmeans_kwargs = {\n",
        "        \"init\": \"random\",\n",
        "        \"n_init\": 30,\n",
        "        \"max_iter\": 300,\n",
        "        \"random_state\": 42\n",
        "    }\n",
        "    # A list holds the SSE values for each k\n",
        "    sse = []\n",
        "    for k in range(1, top_end):\n",
        "        kmeans = KMeans(n_clusters=k, **kmeans_kwargs)\n",
        "        kmeans.fit(scaled_features)\n",
        "        sse.append(kmeans.inertia_)\n",
        "\n",
        "    # plot to illustrate (viewing it is optional)\n",
        "    title_k = 'Optimal k-means for' + d_title\n",
        "    kmeans_opt_df = pd.DataFrame(list(zip(range(1, top_end), sse)), columns=['Number of Clusters', 'SSE'])\n",
        "    f_k = px.line(kmeans_opt_df, x='Number of Clusters', y='SSE', title=title_k)\n",
        "    # find optimum\n",
        "    kl = KneeLocator(range(1, top_end), sse, \n",
        "                     curve=\"convex\", direction=\"decreasing\")\n",
        "    onk = kl.elbow\n",
        "\n",
        "    if onk is None:\n",
        "        print(\"Warning - {} has no solution for optimal k-means\".format(d_title))\n",
        "        print(\"Returning # of clusters as max allowed ( {} )\".format(top_end))\n",
        "        return top_end\n",
        "\n",
        "    if onk == top_end:\n",
        "        print(\"Warning - {} opt. # equals max value searched ({})\".format(d_title,\n",
        "                                                                          top_end))\n",
        "\n",
        "    print(\"\\nFor {}: opt. # of k-means clusters is {} \\n\".format(d_title, onk))\n",
        "    f_k.add_vline(x=onk) # add vertical line to plotly \n",
        "\n",
        "    if show_plot:\n",
        "        f_k.show() \n",
        "\n",
        "    if write_image:\n",
        "        f_k.write_image(join(output_path_full, title_k + \".png\"))\n",
        "\n",
        "    return onk"
      ],
      "execution_count": 8,
      "outputs": [
        {
          "output_type": "display_data",
          "data": {
            "text/html": [
              "\n",
              "  <style>\n",
              "    pre {\n",
              "        white-space: pre-wrap;\n",
              "    }\n",
              "  </style>\n",
              "  "
            ],
            "text/plain": [
              "<IPython.core.display.HTML object>"
            ]
          },
          "metadata": {
            "tags": []
          }
        }
      ]
    },
    {
      "cell_type": "markdown",
      "metadata": {
        "id": "jNYJN5pwsP9z"
      },
      "source": [
        "---"
      ]
    },
    {
      "cell_type": "markdown",
      "metadata": {
        "id": "KBiXnF2jzou_"
      },
      "source": [
        "## visualization \n",
        "\n",
        "Use texthero built-in visualization methods and then plot them *explicitly* in Plotly because it has dark mode and TextHero's plotly wrapper function does not\n",
        "\n",
        "- texthero represendation [docs](https://texthero.org/docs/api-representation)\n",
        "\n",
        "- plotly [scatterplot overview](https://plotly.com/python/line-and-scatter/)\n",
        "    - px.scatter() detailed [documentation](https://plotly.com/python-api-reference/generated/plotly.express.scatter)\n",
        "\n",
        "### Options:\n",
        "1. ```viz_job_data(df)``` is the OG version, vectorizes text with TFIDF and plots with PCA. \n",
        "    - Uses k-means nclusters as 5\n",
        "2. ```viz_job_data_word2vec(df)``` vectorizes text with word2vec (*computing \"average\" 300-d vector*) and plots with PCA\n",
        "    - computes optimal # of kmeans clusters (max set to 15)\n",
        "\n",
        "---"
      ]
    },
    {
      "cell_type": "markdown",
      "metadata": {
        "id": "AyYd-hdx7YWb"
      },
      "source": [
        "### standard\n",
        "\n",
        "\n",
        "uses everything built-in to the texthero package:\n",
        "- keeps kmeans clusters @ 5\n",
        "- text is converted to vector based on tf-idf\n",
        "    - (anecdotally this doesn't seem to work well if your \"document\" is short like these job listings)"
      ]
    },
    {
      "cell_type": "code",
      "metadata": {
        "id": "nlpav-ahzo07",
        "colab": {
          "base_uri": "https://localhost:8080/",
          "height": 17
        },
        "outputId": "7b6e78bb-7e3a-4103-b794-c3f65592beab"
      },
      "source": [
        "from datetime import datetime, date\n",
        "import plotly.express as px\n",
        "\n",
        "plots_made = 0\n",
        "\n",
        "def viz_job_data(viz_df, text_col_name, save_plot=False, h=720):\n",
        "\n",
        "    today = date.today()\n",
        "    # Month abbreviation, day and year\t\n",
        "    td_str = today.strftime(\"%b-%d-%Y\")\n",
        "\n",
        "    viz_df['tfidf'] = (\n",
        "        viz_df[text_col_name]\n",
        "        .pipe(hero.clean)\n",
        "        .pipe(hero.tfidf)\n",
        "    )\n",
        "\n",
        "    viz_df['kmeans'] = (\n",
        "        viz_df['tfidf']\n",
        "        .pipe(hero.kmeans, n_clusters=5)\n",
        "        .astype(str)\n",
        "    )\n",
        "\n",
        "    viz_df['pca'] = (\n",
        "        viz_df['tfidf']\n",
        "        .pipe(hero.pca)\n",
        "    )\n",
        "\n",
        "    hv_list = list(viz_df.columns)\n",
        "    hv_list.remove('tfidf')\n",
        "    hv_list.remove('pca')\n",
        "    hv_list.remove('summary')\n",
        "\n",
        "    plot_title = td_str + \" Vizualize Companies by {} Data\".format(text_col_name)\n",
        "\n",
        "    # reformat data so don't have to use built-in plotting \n",
        "\n",
        "    df_split_pca = pd.DataFrame(viz_df[\"pca\"].to_list(), columns=['pca_x', 'pca_y'])\n",
        "    viz_df.drop(columns=\"pca\", inplace=True) # drop original PCA column\n",
        "    viz_df = pd.concat([viz_df, df_split_pca], axis=1) # merge dataframes\n",
        "\n",
        "    # plot pca data\n",
        "    # texthero also features pther ways to reduce dimensions besides pca, see docs\n",
        "\n",
        "    w = int(h * (4/3))\n",
        "\n",
        "    fig_s = px.scatter(viz_df, x= \"pca_x\", y=\"pca_y\", color=\"kmeans\", \n",
        "                     hover_data=hv_list, title=plot_title, height=h, width=w,\n",
        "                     template=\"plotly_dark\")\n",
        "    fig_s.show()\n",
        "\n",
        "    if save_plot:\n",
        "        plots_made += 1\n",
        "\n",
        "        fig.write_html(plot_title + str(plots_made) + \".html\", \n",
        "                       include_plotlyjs=True)\n",
        "\n",
        "    print(\"plot generated - \", datetime.now())"
      ],
      "execution_count": 9,
      "outputs": [
        {
          "output_type": "display_data",
          "data": {
            "text/html": [
              "\n",
              "  <style>\n",
              "    pre {\n",
              "        white-space: pre-wrap;\n",
              "    }\n",
              "  </style>\n",
              "  "
            ],
            "text/plain": [
              "<IPython.core.display.HTML object>"
            ]
          },
          "metadata": {
            "tags": []
          }
        }
      ]
    },
    {
      "cell_type": "markdown",
      "metadata": {
        "id": "Ywbr89TOwiRp"
      },
      "source": [
        "### word2vec viz\n",
        "\n",
        "- word2vec [explanation](https://towardsdatascience.com/introduction-to-word-embedding-and-word2vec-652d0c2060fa) for those uninitiated\n",
        "-gensim [link](https://radimrehurek.com/gensim/auto_examples/tutorials/run_doc2vec_lee.html)\n",
        "\n",
        "Re: using word2vec in a basic way for sentence embedding\n",
        "\n",
        "> With the Word2Vec model, we can calculate the vectors for each word in a document. But what if we want to calculate a vector for the entire document? We could average the vectors for each word in the document - while this is quick and crude, it can often be useful. However, there is a better way… \n",
        "> *goes on to discuss doc2vec which does not have pretrained models*\n",
        "\n",
        "---\n",
        "\n",
        "re: ^ I am not doing the better way. Load the word2vec-google-news-300 dataset from gensim, then iterate through all words in the input text, generate the vector for that word, then take the mean of those. Only words with length 3 or greater are considered. \n",
        "\n",
        "---\n",
        "<font color='orange'>**DISCLAIMER: IT TAKES A BIT TO DOWNLOAD THE GENSIM / GOOGLE MODEL**</font>\n",
        "- <font color='orange'>possible to save the model locally (on disk/gdrive) if desired</font>\n"
      ]
    },
    {
      "cell_type": "code",
      "metadata": {
        "id": "Uk4Pi_PFwhkL",
        "colab": {
          "base_uri": "https://localhost:8080/",
          "height": 171
        },
        "outputId": "7722b432-7e0e-43d9-94fc-990ed1d6a924"
      },
      "source": [
        "import gensim.downloader as api\n",
        "\n",
        "# model = api.load(\"word2vec-ruscorpora-300\")\n",
        "model = api.load(\"word2vec-google-news-300\")\n",
        "print(\"loaded data for word2vec - \", datetime.now())\n",
        "\n",
        "print(\"test the model\")\n",
        "test_string = \"computer\"\n",
        "vector = model.wv[test_string]\n",
        "\n",
        "print(\"The shape of string {} is: \\n {}\".format(test_string, vector.shape))\n",
        "pp.pprint(vector.shape, compact=True)"
      ],
      "execution_count": 10,
      "outputs": [
        {
          "output_type": "display_data",
          "data": {
            "text/html": [
              "\n",
              "  <style>\n",
              "    pre {\n",
              "        white-space: pre-wrap;\n",
              "    }\n",
              "  </style>\n",
              "  "
            ],
            "text/plain": [
              "<IPython.core.display.HTML object>"
            ]
          },
          "metadata": {
            "tags": []
          }
        },
        {
          "output_type": "stream",
          "text": [
            "[==================================================] 100.0% 1662.8/1662.8MB downloaded\n",
            "loaded data for word2vec -  2021-05-26 17:00:16.030781\n",
            "test the model\n",
            "The shape of string computer is: \n",
            " (300,)\n",
            "(300,)\n"
          ],
          "name": "stdout"
        },
        {
          "output_type": "stream",
          "text": [
            "/usr/local/lib/python3.7/dist-packages/ipykernel_launcher.py:9: DeprecationWarning: Call to deprecated `wv` (Attribute will be removed in 4.0.0, use self instead).\n",
            "  if __name__ == '__main__':\n"
          ],
          "name": "stderr"
        }
      ]
    },
    {
      "cell_type": "markdown",
      "metadata": {
        "id": "v9Ji5Lg9ELit"
      },
      "source": [
        "iterate through all words in the input text generate the word2vec vector for that word, then take the mean of those. Only words with length 3 or greater are considered.\n",
        "\n",
        "**note that if a word is not in the google news dataset, it is just skipped. If you think the graphs / representations are not good enough, you should check to ensure that a large amount of words (or fraction rather) are not being skipped)**\n",
        "* the verbose parameter helps with that"
      ]
    },
    {
      "cell_type": "code",
      "metadata": {
        "id": "Vn7CHPJZwhAv",
        "colab": {
          "base_uri": "https://localhost:8080/",
          "height": 17
        },
        "outputId": "850f27bc-6d62-4637-a4e6-c4e211b35298"
      },
      "source": [
        "import numpy as np\n",
        "\n",
        "def get_vector_freetext(input_text, verbose=0, cutoff=2):\n",
        "    # always uses locally initialized model, i.e. \"model\" variable (see above cells)\n",
        "\n",
        "    # verbose = 1 shows you how many words were skipped\n",
        "    # verbose = 2 tells you each individual skipped word and ^\n",
        "    # 'cutoff' removes all words with length N or less from the rep. vector\n",
        "\n",
        "    lower_it = input_text.lower()\n",
        "    input_words = lower_it.split(\" \") # yes, this is an assumption\n",
        "    usable_words = [word for word in input_words if len(word) > cutoff]\n",
        "\n",
        "    list_of_vectors = []\n",
        "    num_words_total = len(usable_words)\n",
        "    num_excluded = 0\n",
        "\n",
        "    for word in usable_words:\n",
        "        try:\n",
        "            this_vector = model.wv[word]\n",
        "            list_of_vectors.append(this_vector)\n",
        "        except:\n",
        "            num_excluded += 1\n",
        "            if verbose == 2:\n",
        "                print(\"\\nThe word/term {} is not in the model vocab.\".format(word))\n",
        "                print(\"Excluding from representative vector\")\n",
        "\n",
        "    rep_vec = np.mean(list_of_vectors, axis=0)\n",
        "\n",
        "    if verbose > 0:\n",
        "        print(\"Computed representative vector. Excluded {} words out of {}\".format(num_excluded,\n",
        "                                                                            num_words_total))\n",
        "\n",
        "    return rep_vec"
      ],
      "execution_count": 11,
      "outputs": [
        {
          "output_type": "display_data",
          "data": {
            "text/html": [
              "\n",
              "  <style>\n",
              "    pre {\n",
              "        white-space: pre-wrap;\n",
              "    }\n",
              "  </style>\n",
              "  "
            ],
            "text/plain": [
              "<IPython.core.display.HTML object>"
            ]
          },
          "metadata": {
            "tags": []
          }
        }
      ]
    },
    {
      "cell_type": "markdown",
      "metadata": {
        "id": "-8NdBrCiyAnt"
      },
      "source": [
        "#### Plotting function"
      ]
    },
    {
      "cell_type": "code",
      "metadata": {
        "id": "VinUUQ7uwFqZ",
        "colab": {
          "base_uri": "https://localhost:8080/",
          "height": 17
        },
        "outputId": "24a9bc06-f9da-4467-b74b-0ac84a9a9971"
      },
      "source": [
        "from datetime import datetime, date\n",
        "import plotly.express as px\n",
        "\n",
        "def viz_job_data_word2vec(viz_df, text_col_name, save_plot=False, h=720,\n",
        "                          query_name=\"\", show_text=False):\n",
        "\n",
        "    today = date.today()\n",
        "    # Month abbreviation, day and year\t\n",
        "    td_str = today.strftime(\"%b-%d-%Y\")\n",
        "\n",
        "    # compute word2vec avg vector for each row of text\n",
        "    viz_df['avg_vec'] = viz_df[text_col_name].apply(get_vector_freetext)\n",
        "\n",
        "    # get optimal number of kmeans. limit max to 15 for interpretability\n",
        "    max_clusters = 15\n",
        "    if len(viz_df['avg_vec']) < max_clusters: max_clusters = len(viz_df['avg_vec'])\n",
        "\n",
        "    kmeans_numC = optimal_num_clustas(viz_df['avg_vec'], \n",
        "                                      d_title='word2vec-' + query_name, \n",
        "                                      top_end=max_clusters)\n",
        "    \n",
        "    # complete k-means clustering + pca dim red. w/ avg_vec\n",
        "    if kmeans_numC is None:\n",
        "        kmeans_numC = 5 \n",
        "\n",
        "    viz_df['kmeans'] = (\n",
        "        viz_df['avg_vec']\n",
        "        .pipe(hero.kmeans, n_clusters=kmeans_numC, \n",
        "              algorithm=\"elkan\", random_state=42, n_init=30)\n",
        "        .astype(str)\n",
        "    )\n",
        "    # texthero has other algs to reduce dimensions besides pca, see docs\n",
        "    viz_df['pca'] = (\n",
        "        viz_df['avg_vec']\n",
        "        .pipe(hero.pca)\n",
        "    )\n",
        "\n",
        "    # generate list of column names for hover_data\n",
        "    hv_list = list(viz_df.columns)\n",
        "    hv_list.remove('avg_vec')\n",
        "    hv_list.remove('pca')\n",
        "    if \"tfidf\" in hv_list:\n",
        "        hv_list.remove('tfidf')\n",
        "    if \"summary\" in hv_list:\n",
        "        hv_list.remove('summary')\n",
        "\n",
        "    # reformat data so don't have to use texthero built-in plotting \n",
        "    df_split_pca = pd.DataFrame(viz_df[\"pca\"].to_list(), \n",
        "                                columns=['pca_x', 'pca_y'])\n",
        "    viz_df.drop(columns=\"pca\", inplace=True) # drop original PCA column\n",
        "    viz_df = pd.concat([viz_df, df_split_pca], axis=1) # merge dataframes\n",
        "\n",
        "    # set up plot pars (width, title, text)\n",
        "    w = int(h * (4/3))\n",
        "\n",
        "    if len(query_name) > 0:\n",
        "        # user provided query_name so include\n",
        "        plot_title = td_str + \" Vizualize Companies by {} text w word2vec\".format(text_col_name) + \" | \" + query_name\n",
        "    else:\n",
        "        plot_title = td_str + \" Vizualize Companies by {} text w word2vec\".format(text_col_name)\n",
        "\n",
        "    if show_text:\n",
        "        # adds company names to the plot if you want\n",
        "        viz_df[\"companies_abbrev\"] = viz_df[\"companies\"].apply(text_first_N, num=15)\n",
        "        graph_text_label = \"companies_abbrev\"\n",
        "    else:\n",
        "        graph_text_label = None\n",
        "    \n",
        "    # plot dimension-reduced data\n",
        "    fig_w2v = px.scatter(viz_df, x= \"pca_x\", y=\"pca_y\", color=\"kmeans\", \n",
        "                     hover_data=hv_list, title=plot_title, height=h, width=w,\n",
        "                     template=\"plotly_dark\", text=graph_text_label)\n",
        "    fig_w2v.show()\n",
        "\n",
        "    # save if requested \n",
        "    \n",
        "    if save_plot:\n",
        "        # saves the HTML file \n",
        "        # auto-saving as a static image is a lil difficult so just click on the interactive\n",
        "        # plot it generates \n",
        "        fig_w2v.write_html(plot_title + query_name + \"_\" + text_col_name + \".html\", \n",
        "                       include_plotlyjs=True)\n",
        "\n",
        "    print(\"plot generated - \", datetime.now())"
      ],
      "execution_count": 12,
      "outputs": [
        {
          "output_type": "display_data",
          "data": {
            "text/html": [
              "\n",
              "  <style>\n",
              "    pre {\n",
              "        white-space: pre-wrap;\n",
              "    }\n",
              "  </style>\n",
              "  "
            ],
            "text/plain": [
              "<IPython.core.display.HTML object>"
            ]
          },
          "metadata": {
            "tags": []
          }
        }
      ]
    },
    {
      "cell_type": "markdown",
      "metadata": {
        "id": "uXL23kllsMn8"
      },
      "source": [
        "---"
      ]
    },
    {
      "cell_type": "markdown",
      "metadata": {
        "id": "rC593SxF473a"
      },
      "source": [
        "## CH get_jobs() general fn\n",
        "\n",
        "The main function find_jobs_from() adjusted to work for CH\n",
        "\n",
        "\n",
        "<font color='orange'>if customizing this code, you need to change this</font>"
      ]
    },
    {
      "cell_type": "code",
      "metadata": {
        "id": "6ujVfjl91mVh",
        "colab": {
          "base_uri": "https://localhost:8080/",
          "height": 17
        },
        "outputId": "febbfc82-5e28-4fd7-e7e8-3162fbe26223"
      },
      "source": [
        "from datetime import date\n",
        "import pprint as pp\n",
        "\n",
        "today = date.today()\n",
        "# Month abbreviation, day and year\t\n",
        "d4 = today.strftime(\"%b-%d-%Y\")\n",
        "\n",
        "default_filename = d4 + \"_[raw]_scraped_jobs_CH.xls\"\n",
        "\n",
        "def find_CHjobs_from(website, desired_characs, job_query, job_type=None, \n",
        "                   language=None, filename=default_filename, verbose=False):    \n",
        "    \"\"\"\n",
        "    This function extracts all the desired characteristics of all new job postings\n",
        "    of the title and location specified and returns them in single file.\n",
        "    The arguments it takes are:\n",
        "        - Website: to specify which website to search (options: 'indeed' or 'indeed_default')\n",
        "        - job_query: words that you want to narrow down the jobs to. for example 'data'\n",
        "        - job_type: 'internship' or 'fulltime' or 'permanent'\n",
        "        - language: 'en' or 'de' or leave blank\n",
        "        - Desired_characs: this is a list of the job characteristics of interest,\n",
        "            from titles, companies, links and date_listed.\n",
        "        - Filename: default is \"JS_test_results.xls\", can be changed to whatever \n",
        "    \"\"\"\n",
        "    \n",
        "    if website == 'indeed':\n",
        "        sp_search = load_indeed_jobs_CH(job_query, \n",
        "                                       job_type=job_type, language=language)\n",
        "        job_soup = sp_search.get(\"job_soup\")\n",
        "        URL_used = sp_search.get(\"query_URL\")\n",
        "\n",
        "        if verbose:\n",
        "            print(\"\\n The full HTML docs are: \\n\")\n",
        "            pp.pprint(job_soup, compact=True)\n",
        "        jobs_list, num_listings = extract_job_information_indeedCH(job_soup, \n",
        "                                                                   desired_characs,\n",
        "                                                                   uURL=URL_used)\n",
        "    elif website == 'indeed_default':\n",
        "        sp_search = load_indeed_jobs_CH(job_query, run_default=True)\n",
        "        job_soup = sp_search.get(\"job_soup\")\n",
        "        URL_used = sp_search.get(\"query_URL\")\n",
        "        if verbose:\n",
        "            print(\"\\n The full HTML docs are: \\n\")\n",
        "            pp.pprint(job_soup, compact=True)\n",
        "\n",
        "        jobs_list, num_listings = extract_job_information_indeedCH(job_soup, \n",
        "                                                                   desired_characs,\n",
        "                                                                   uURL=URL_used)\n",
        "\n",
        "    job_df = save_jobs_to_excel(jobs_list, filename)\n",
        " \n",
        "    print('{} new job postings retrieved from {}. Stored in {}.'.format(num_listings, \n",
        "                                                                          website, filename))\n",
        "    \n",
        "    return job_df\n",
        "        "
      ],
      "execution_count": 13,
      "outputs": [
        {
          "output_type": "display_data",
          "data": {
            "text/html": [
              "\n",
              "  <style>\n",
              "    pre {\n",
              "        white-space: pre-wrap;\n",
              "    }\n",
              "  </style>\n",
              "  "
            ],
            "text/plain": [
              "<IPython.core.display.HTML object>"
            ]
          },
          "metadata": {
            "tags": []
          }
        }
      ]
    },
    {
      "cell_type": "markdown",
      "metadata": {
        "id": "OLwW1mEe2P9F"
      },
      "source": [
        "## Indeed-scraping\n",
        "\n",
        "<font color='orange'>if customizing this code, you *may* need to change these </font>"
      ]
    },
    {
      "cell_type": "markdown",
      "metadata": {
        "id": "WViuK5h3eDFc"
      },
      "source": [
        "### main job scraping fn\n",
        "\n",
        "\n",
        "links used for testing / figuring out URL structure\n",
        "\n",
        "```\n",
        "website = \"https://ch.indeed.com/Switzerland-English-Jobs\"\n",
        "base ->\n",
        "example search https://ch.indeed.com/Stellen?q=Switzerland+English&jt=internship\n",
        "data job, language = EN, no others: https://ch.indeed.com/Stellen?q=data&lang=en\n",
        "^ but internship https://ch.indeed.com/Stellen?q=data&jt=internship&lang=en\n",
        "```"
      ]
    },
    {
      "cell_type": "code",
      "metadata": {
        "id": "rNpH9i8awJNX",
        "colab": {
          "base_uri": "https://localhost:8080/",
          "height": 17
        },
        "outputId": "e93c2e68-d6d4-4a88-ec07-9e1410015f31"
      },
      "source": [
        "## added by Peter\n",
        "\n",
        "## indeed switzerland -------------------------------------------------------\n",
        "\n",
        "def load_indeed_jobs_CH(job_query, job_type=None, language=None, \n",
        "                        run_default=False):\n",
        "    i_website = \"https://ch.indeed.com/Stellen?\"\n",
        "    def_website = \"https://ch.indeed.com/Stellen?q=Switzerland+English&jt=internship\"\n",
        "    if run_default:\n",
        "        # switzerland has a unique page shown below, can run by default\n",
        "        # website = \"https://ch.indeed.com/Switzerland-English-Jobs\"\n",
        "\n",
        "        getVars = {'fromage' : 'last', \"limit\": '50', 'sort' : 'date'}\n",
        "\n",
        "        url = (def_website + urllib.parse.urlencode(getVars))\n",
        "        page = requests.get(url)\n",
        "        soup = BeautifulSoup(page.content, \"html.parser\")\n",
        "        job_soup = soup.find(id=\"resultsCol\")\n",
        "    else:\n",
        "        getVars = {'q' : job_query, 'jt' : job_type, 'lang' : language,\n",
        "                'fromage' : 'last', \"limit\": '50', 'sort' : 'date'}\n",
        "\n",
        "        # if values are not specified, then remove them from the dict (and URL)\n",
        "        if job_query is None:\n",
        "            del getVars['q']\n",
        "        if job_type is None:\n",
        "            del getVars['jt']\n",
        "        if language is None:\n",
        "            del getVars['lang']\n",
        "\n",
        "        url = (i_website + urllib.parse.urlencode(getVars))\n",
        "        page = requests.get(url)\n",
        "        soup = BeautifulSoup(page.content, \"html.parser\")\n",
        "        job_soup = soup.find(id=\"resultsCol\")\n",
        "\n",
        "    # return the job soup\n",
        "\n",
        "    soup_results = {\n",
        "        \"job_soup\": job_soup,\n",
        "        \"query_URL\": url\n",
        "\n",
        "    }\n",
        "    return soup_results\n",
        "\n",
        "\n"
      ],
      "execution_count": 14,
      "outputs": [
        {
          "output_type": "display_data",
          "data": {
            "text/html": [
              "\n",
              "  <style>\n",
              "    pre {\n",
              "        white-space: pre-wrap;\n",
              "    }\n",
              "  </style>\n",
              "  "
            ],
            "text/plain": [
              "<IPython.core.display.HTML object>"
            ]
          },
          "metadata": {
            "tags": []
          }
        }
      ]
    },
    {
      "cell_type": "markdown",
      "metadata": {
        "id": "1JtsmHpceIly"
      },
      "source": [
        "### helper / parsing functions\n"
      ]
    },
    {
      "cell_type": "code",
      "metadata": {
        "id": "dCZ31s1R2RJ-",
        "colab": {
          "base_uri": "https://localhost:8080/",
          "height": 17
        },
        "outputId": "385d716f-e24e-4323-a5b9-d076a63b78d6"
      },
      "source": [
        "import pprint as pp\n",
        "\n",
        "def_URL = \"https://ch.indeed.com/Stellen?\" + \"ADD_queries_here\" \n",
        "\n",
        "def extract_job_information_indeedCH(job_soup, desired_characs, uURL=def_URL, \n",
        "                                     verbose=False):\n",
        "    job_elems = job_soup.find_all('div', class_='jobsearch-SerpJobCard')\n",
        "\n",
        "    if verbose:\n",
        "        print(\"\\nAll found 'job elements' are as follows: \\n\")\n",
        "        pp.pprint(job_elems, compact=True)\n",
        "    \n",
        "    with open('job_elements.txt', 'w') as f:\n",
        "        # save to text file for investigation\n",
        "        print(job_elems, file=f)\n",
        "    \n",
        "    cols = []\n",
        "    extracted_info = []\n",
        "    \n",
        "    \n",
        "    if 'titles' in desired_characs:\n",
        "        titles = []\n",
        "        cols.append('titles')\n",
        "        for job_elem in job_elems:\n",
        "            titles.append(extract_job_title_indeed(job_elem))\n",
        "        extracted_info.append(titles)                    \n",
        "    \n",
        "    if 'companies' in desired_characs:\n",
        "        companies = []\n",
        "        cols.append('companies')\n",
        "        for job_elem in job_elems:\n",
        "            companies.append(extract_company_indeed(job_elem))\n",
        "        extracted_info.append(companies)\n",
        "    \n",
        "    if 'date_listed' in desired_characs:\n",
        "        dates = []\n",
        "        cols.append('date_listed')\n",
        "        for job_elem in job_elems:\n",
        "            dates.append(extract_date_indeed(job_elem))\n",
        "        extracted_info.append(dates)\n",
        "    \n",
        "    if 'summary' in desired_characs:\n",
        "        summaries = []\n",
        "        cols.append('summary')\n",
        "        for job_elem in job_elems:\n",
        "            summaries.append(extract_summary_indeed(job_elem))\n",
        "        extracted_info.append(summaries)\n",
        "\n",
        "    if 'links' in desired_characs:\n",
        "        links = []\n",
        "        cols.append('links')\n",
        "        for job_elem in job_elems:\n",
        "            links.append(extract_link_indeedCH(job_elem, uURL))\n",
        "        extracted_info.append(links)\n",
        "    \n",
        "    jobs_list = {}\n",
        "    \n",
        "    for j in range(len(cols)):\n",
        "        jobs_list[cols[j]] = extracted_info[j]\n",
        "    \n",
        "    num_listings = len(extracted_info[0])\n",
        "    \n",
        "    return jobs_list, num_listings\n",
        "\n",
        "\n",
        "def extract_job_title_indeed(job_elem):\n",
        "    title_elem = job_elem.find('h2', class_='title')\n",
        "    title = title_elem.text.strip()\n",
        "    return title\n",
        "\n",
        "def extract_company_indeed(job_elem):\n",
        "    company_elem = job_elem.find('span', class_='company')\n",
        "    company = company_elem.text.strip()\n",
        "    return company\n",
        "\n",
        "def extract_link_indeedCH(job_elem, uURL):\n",
        "    # some manual shenanigans occur here\n",
        "    # working example https://ch.indeed.com/Stellen?q=data&jt=internship&lang=en&vjk=49ed864bd5e422fb\n",
        "\n",
        "    link = job_elem.find('a')['href']\n",
        "    uURL_list = uURL.split(\"&fromage=last\")\n",
        "    link = uURL_list[0] + \"&\" + link\n",
        "    # replace some text so that the link has a virtual job key. Found via trial and error\n",
        "    return link.replace(\"/rc/clk?jk=\", \"vjk=\")\n",
        "\n",
        "def extract_date_indeed(job_elem):\n",
        "    date_elem = job_elem.find('span', class_='date')\n",
        "    date = date_elem.text.strip()\n",
        "    return date\n",
        "\n",
        "def extract_summary_indeed(job_elem):\n",
        "    summary_elem = job_elem.find('div', class_='summary')\n",
        "    summary = summary_elem.text.strip()\n",
        "    return summary\n",
        "\n"
      ],
      "execution_count": 15,
      "outputs": [
        {
          "output_type": "display_data",
          "data": {
            "text/html": [
              "\n",
              "  <style>\n",
              "    pre {\n",
              "        white-space: pre-wrap;\n",
              "    }\n",
              "  </style>\n",
              "  "
            ],
            "text/plain": [
              "<IPython.core.display.HTML object>"
            ]
          },
          "metadata": {
            "tags": []
          }
        }
      ]
    },
    {
      "cell_type": "markdown",
      "metadata": {
        "id": "9x8_xHCyeMVy"
      },
      "source": [
        "### postprocess\n",
        "\n",
        "1. input dataframe of scraped jobs from indeed\n",
        "2. ???\n",
        "3. output sexy_df"
      ]
    },
    {
      "cell_type": "code",
      "metadata": {
        "id": "MKrodaoTeaRU",
        "colab": {
          "base_uri": "https://localhost:8080/",
          "height": 17
        },
        "outputId": "c9ed00ba-0430-482b-8e7e-383e014d99dd"
      },
      "source": [
        "from google.colab import files\n",
        "from datetime import datetime\n",
        "\n",
        "def indeed_postprocess(i_df, query_term, query_jobtype, verbose=False,\n",
        "                       shorten_links=False, download_excel=False):\n",
        "    print(\"Starting postprocess - \", datetime.now())\n",
        "\n",
        "    # apply texthero cleaning\n",
        "    i_df[\"titles\"] = hero.clean(i_df[\"titles\"])\n",
        "    i_df[\"summary\"] = hero.clean(i_df[\"summary\"])\n",
        "\n",
        "    # use bit.ly to shorten links\n",
        "    if shorten_links:\n",
        "        try:\n",
        "            len(i_df[\"short_link\"])\n",
        "            print(\"found values for short_link, not-recreating\")\n",
        "        except:\n",
        "            print(\"no values exist for short_link, creating them now\")\n",
        "            # there is a random delay to not overload APIs, max rt is 5s * num_rows\n",
        "            i_df[\"short_link\"] = i_df[\"links\"].apply(shorten_URL_bitly) \n",
        "    else:\n",
        "        i_df[\"short_link\"] = \"not_created\"\n",
        "\n",
        "    # save file to excel\n",
        "    rn = datetime.now()\n",
        "    i_PP_date = rn.strftime(\"_%m.%d.%Y-%H-%M_\")\n",
        "    i_df[\"date_pulled\"] = rn.strftime(\"%m.%d.%Y\")\n",
        "    i_df[\"time_pulled\"] = rn.strftime(\"%H:%M:%S\")\n",
        "    out_name = \"JS_DB_\" + \"query=[term(s)=\" + query_term + \", type=\" + query_jobtype + \"]\" + i_PP_date + \".xlsx\"\n",
        "    i_df.to_excel(out_name)\n",
        "    if verbose: print(\"Saved {} - \".format(out_name), datetime.now())\n",
        "\n",
        "    # download if requested\n",
        "    if download_excel:\n",
        "        files.download(out_name)\n",
        "        if verbose: print(\"Downloaded {} - \".format(out_name), datetime.now())\n",
        "\n",
        "\n",
        "    return i_df"
      ],
      "execution_count": 16,
      "outputs": [
        {
          "output_type": "display_data",
          "data": {
            "text/html": [
              "\n",
              "  <style>\n",
              "    pre {\n",
              "        white-space: pre-wrap;\n",
              "    }\n",
              "  </style>\n",
              "  "
            ],
            "text/plain": [
              "<IPython.core.display.HTML object>"
            ]
          },
          "metadata": {
            "tags": []
          }
        }
      ]
    },
    {
      "cell_type": "markdown",
      "metadata": {
        "id": "WEfJ6a8Plg4l"
      },
      "source": [
        "quick printout of the datatable"
      ]
    },
    {
      "cell_type": "code",
      "metadata": {
        "id": "3CzjUiTkikDa",
        "colab": {
          "base_uri": "https://localhost:8080/",
          "height": 17
        },
        "outputId": "14986753-2630-441e-f82e-0a3bf9a9011a"
      },
      "source": [
        "def indeed_datatable(i_df, count_what=\"companies\", freq_n=10):\n",
        "    # basically just wrote this to reduce code down below\n",
        "    # depends on the colab data_table.DataTable()\n",
        "    \n",
        "    print(\"Count of column '{}' appearances in search:\\n\".format(count_what))\n",
        "    comp_list_1 = i_df[count_what].value_counts()\n",
        "    pp.pprint(comp_list_1.head(freq_n), compact=True)  \n",
        "\n",
        "    i_df_disp = i_df.copy()\n",
        "    i_df_disp[\"summary_short\"] = i_df_disp[\"summary\"].apply(text_first_N)\n",
        "    i_df_disp.drop(columns=[\"links\", \"summary\"], inplace=True) # drop verbose columns\n",
        "\n",
        "    return i_df_disp \n",
        "\n",
        "    # i_df_disp for use inside \n",
        "    # data_table.DataTable(i_df_disp, \n",
        "                        #  include_index=False, num_rows_per_page=table_n)\n"
      ],
      "execution_count": 17,
      "outputs": [
        {
          "output_type": "display_data",
          "data": {
            "text/html": [
              "\n",
              "  <style>\n",
              "    pre {\n",
              "        white-space: pre-wrap;\n",
              "    }\n",
              "  </style>\n",
              "  "
            ],
            "text/plain": [
              "<IPython.core.display.HTML object>"
            ]
          },
          "metadata": {
            "tags": []
          }
        }
      ]
    },
    {
      "cell_type": "markdown",
      "metadata": {
        "id": "GhZ8o2jrsTIQ"
      },
      "source": [
        "---"
      ]
    },
    {
      "cell_type": "markdown",
      "metadata": {
        "id": "hV_apCm-iUXu"
      },
      "source": [
        "# Main"
      ]
    },
    {
      "cell_type": "markdown",
      "metadata": {
        "id": "RHCmgk5Hm4yj"
      },
      "source": [
        "## parameters"
      ]
    },
    {
      "cell_type": "code",
      "metadata": {
        "id": "mWGKOn2qcXhY",
        "colab": {
          "base_uri": "https://localhost:8080/",
          "height": 17
        },
        "outputId": "44e4003d-989b-49df-cda4-c6b73f4c72ab"
      },
      "source": [
        "# determines columns in output dataframe post-scraping\n",
        "desired_characs = ['titles', 'companies', 'links', 'date_listed', 'summary']\n",
        "\n",
        "# TODO - add other parameters used in functions below here."
      ],
      "execution_count": 18,
      "outputs": [
        {
          "output_type": "display_data",
          "data": {
            "text/html": [
              "\n",
              "  <style>\n",
              "    pre {\n",
              "        white-space: pre-wrap;\n",
              "    }\n",
              "  </style>\n",
              "  "
            ],
            "text/plain": [
              "<IPython.core.display.HTML object>"
            ]
          },
          "metadata": {
            "tags": []
          }
        }
      ]
    },
    {
      "cell_type": "markdown",
      "metadata": {
        "id": "3IMX9kI95Awh"
      },
      "source": [
        "## Swiss Jobs - Indeed\n",
        "\n",
        "```\n",
        "This function extracts all the desired characteristics of all new job postings\n",
        "    of the title and location specified and returns them in single file.\n",
        "The arguments it takes are:\n",
        "\n",
        "    - Website: to specify which website to search \n",
        "        - (options: 'indeed' or 'indeed_default')\n",
        "    - job_query: words that you want to narrow down the jobs to. \n",
        "        - for example 'data'\n",
        "    - job_type: \n",
        "        - 'internship' or 'fulltime' or 'permanent'\n",
        "    - language: \n",
        "        - 'en' or 'de' or other languages.. 'fr'? ew\n",
        "    - Desired_characs: what columns of data do you want to extract? options are:\n",
        "        - 'titles', 'companies', 'links', 'date_listed', 'summary'\n",
        "    - Filename: default is \"JS_test_results.xls\", can be changed to whatever \n",
        "```\n"
      ]
    },
    {
      "cell_type": "markdown",
      "metadata": {
        "id": "h9RngcapfT9D"
      },
      "source": [
        "### query 1 - internship in \"data\""
      ]
    },
    {
      "cell_type": "code",
      "metadata": {
        "id": "nLme2DE05A8J",
        "colab": {
          "base_uri": "https://localhost:8080/",
          "height": 1086
        },
        "outputId": "488840a5-9579-48f0-d4b8-452f258c3337"
      },
      "source": [
        "\n",
        "from google.colab import data_table\n",
        "\n",
        "jq1=\"data\"\n",
        "jt1 = \"internship\"\n",
        "lan = \"en\"\n",
        "\n",
        "chdf1 = find_CHjobs_from(website=\"indeed\", desired_characs=desired_characs, \n",
        "                         job_query=jq1, job_type=jt1, language=lan)\n",
        "\n",
        "q1_processed = indeed_postprocess(chdf1, query_term=jq1, query_jobtype=jt1,\n",
        "                       shorten_links=False, download_excel=True)\n",
        "\n",
        "data_table.DataTable(indeed_datatable(q1_processed), \n",
        "                     include_index=False, num_rows_per_page=20)"
      ],
      "execution_count": 19,
      "outputs": [
        {
          "output_type": "display_data",
          "data": {
            "text/html": [
              "\n",
              "  <style>\n",
              "    pre {\n",
              "        white-space: pre-wrap;\n",
              "    }\n",
              "  </style>\n",
              "  "
            ],
            "text/plain": [
              "<IPython.core.display.HTML object>"
            ]
          },
          "metadata": {
            "tags": []
          }
        },
        {
          "output_type": "stream",
          "text": [
            "50 new job postings retrieved from indeed. Stored in May-26-2021_[raw]_scraped_jobs_CH.xls.\n",
            "Starting postprocess -  2021-05-26 17:00:17.266030\n"
          ],
          "name": "stdout"
        },
        {
          "output_type": "display_data",
          "data": {
            "application/javascript": [
              "\n",
              "    async function download(id, filename, size) {\n",
              "      if (!google.colab.kernel.accessAllowed) {\n",
              "        return;\n",
              "      }\n",
              "      const div = document.createElement('div');\n",
              "      const label = document.createElement('label');\n",
              "      label.textContent = `Downloading \"${filename}\": `;\n",
              "      div.appendChild(label);\n",
              "      const progress = document.createElement('progress');\n",
              "      progress.max = size;\n",
              "      div.appendChild(progress);\n",
              "      document.body.appendChild(div);\n",
              "\n",
              "      const buffers = [];\n",
              "      let downloaded = 0;\n",
              "\n",
              "      const channel = await google.colab.kernel.comms.open(id);\n",
              "      // Send a message to notify the kernel that we're ready.\n",
              "      channel.send({})\n",
              "\n",
              "      for await (const message of channel.messages) {\n",
              "        // Send a message to notify the kernel that we're ready.\n",
              "        channel.send({})\n",
              "        if (message.buffers) {\n",
              "          for (const buffer of message.buffers) {\n",
              "            buffers.push(buffer);\n",
              "            downloaded += buffer.byteLength;\n",
              "            progress.value = downloaded;\n",
              "          }\n",
              "        }\n",
              "      }\n",
              "      const blob = new Blob(buffers, {type: 'application/binary'});\n",
              "      const a = document.createElement('a');\n",
              "      a.href = window.URL.createObjectURL(blob);\n",
              "      a.download = filename;\n",
              "      div.appendChild(a);\n",
              "      a.click();\n",
              "      div.remove();\n",
              "    }\n",
              "  "
            ],
            "text/plain": [
              "<IPython.core.display.Javascript object>"
            ]
          },
          "metadata": {
            "tags": []
          }
        },
        {
          "output_type": "display_data",
          "data": {
            "application/javascript": [
              "download(\"download_a2233dcb-16b1-4419-aa6c-b1d1d29068f3\", \"JS_DB_query=[term(s)=data, type=internship]_05.26.2021-17-00_.xlsx\", 12144)"
            ],
            "text/plain": [
              "<IPython.core.display.Javascript object>"
            ]
          },
          "metadata": {
            "tags": []
          }
        },
        {
          "output_type": "stream",
          "text": [
            "Count of column 'companies' appearances in search:\n",
            "\n",
            "HILTI                   5\n",
            "United Nations          4\n",
            "Credit Suisse Campus    3\n",
            "Nestle                  3\n",
            "EY                      3\n",
            "Richemont               2\n",
            "Total                   2\n",
            "IBM Research Zurich     2\n",
            "AdNovum                 1\n",
            "WinJi                   1\n",
            "Name: companies, dtype: int64\n"
          ],
          "name": "stdout"
        },
        {
          "output_type": "execute_result",
          "data": {
            "application/vnd.google.colaboratory.module+javascript": "\n      import \"https://ssl.gstatic.com/colaboratory/data_table/a6224c040fa35dcf/data_table.js\";\n\n      window.createDataTable({\n        data: [[\"wholesale e commerce analyst intern neu\",\n\"Ralph Lauren\",\n\"Gerade ver\\u00f6ffentlicht\",\n\"not_created\",\n\"05.26.2021\",\n\"17:00:17\",\n\"analytical mindset proven ability manage..\"],\n [\"postgraduate digital pilot lab neu\",\n\"Novartis\",\n\"Gerade ver\\u00f6ffentlicht\",\n\"not_created\",\n\"05.26.2021\",\n\"17:00:17\",\n\"enabling automation routine tasks automa..\"],\n [\"operations intern neu\",\n\"Orderfox Schweiz AG\",\n\"Heute\",\n\"not_created\",\n\"05.26.2021\",\n\"17:00:17\",\n\"aid sales teams documenting compiling an..\"],\n [\"senior consultant financial services risk emeia financial neu\",\n\"EY\",\n\"Heute\",\n\"not_created\",\n\"05.26.2021\",\n\"17:00:17\",\n\"knowledge data security service continui..\"],\n [\"student intern neu\",\n\"Oracle\",\n\"Heute\",\n\"not_created\",\n\"05.26.2021\",\n\"17:00:17\",\n\"position work research early development..\"],\n [\"internship kof swiss economic institute neu\",\n\"ETH Z\\u00fcrich\",\n\"Heute\",\n\"not_created\",\n\"05.26.2021\",\n\"17:00:17\",\n\"experience data analysis data visualizat..\"],\n [\"legal intern neu\",\n\"Utopia Music\",\n\"vor 1 Tag\",\n\"not_created\",\n\"05.26.2021\",\n\"17:00:17\",\n\"legal intern assist departments utopia d..\"],\n [\"summer internship - junior controller credit suisse neu\",\n\"Credit Suisse Campus\",\n\"vor 1 Tag\",\n\"not_created\",\n\"05.26.2021\",\n\"17:00:17\",\n\"academic requirements recently completed..\"],\n [\"intern drone capturing 3d processing neu\",\n\"Nomoko\",\n\"vor 3 Tagen\",\n\"not_created\",\n\"05.26.2021\",\n\"17:00:17\",\n\"pilot uavs data acquisition processing d..\"],\n [\"nesternship sales controlling intern neu\",\n\"Nestle\",\n\"vor 4 Tagen\",\n\"not_created\",\n\"05.26.2021\",\n\"17:00:17\",\n\"please note position swiss nationals hol..\"],\n [\"back end engineering internship - months neu\",\n\"Sygnum Bank AG\",\n\"vor 4 Tagen\",\n\"not_created\",\n\"05.26.2021\",\n\"17:00:17\",\n\"support exploration future technologies ..\"],\n [\"consultant technology risk consulting services corporat neu\",\n\"EY\",\n\"vor 5 Tagen\",\n\"not_created\",\n\"05.26.2021\",\n\"17:00:17\",\n\"member interdisciplinary specialist team..\"],\n [\"senior consultant technology risk consulting corporate neu\",\n\"EY\",\n\"vor 5 Tagen\",\n\"not_created\",\n\"05.26.2021\",\n\"17:00:17\",\n\"member interdisciplinary specialist team..\"],\n [\"intern thesis student data science neu\",\n\"HILTI\",\n\"vor 6 Tagen\",\n\"not_created\",\n\"05.26.2021\",\n\"17:00:17\",\n\"identify data available relevant includi..\"],\n [\"database marketing working student neu\",\n\"BOARD International SA\",\n\"vor 6 Tagen\",\n\"not_created\",\n\"05.26.2021\",\n\"17:00:17\",\n\"data case deleted without unjustified de..\"],\n [\"intern customer insights neu\",\n\"HILTI\",\n\"vor 7 Tagen\",\n\"not_created\",\n\"05.26.2021\",\n\"17:00:17\",\n\"analytical skills working multiple data ..\"],\n [\"middle office analyst internship\",\n\"Total\",\n\"vor 13 Tagen\",\n\"not_created\",\n\"05.26.2021\",\n\"17:00:17\",\n\"analysis different trading activities cr..\"],\n [\"nesternship sustainability project management intern\",\n\"Nestle\",\n\"vor 11 Tagen\",\n\"not_created\",\n\"05.26.2021\",\n\"17:00:17\",\n\"analyze sustainability data bring insigh..\"],\n [\"internship quant neu\",\n\"Evooq\",\n\"vor 7 Tagen\",\n\"not_created\",\n\"05.26.2021\",\n\"17:00:17\",\n\"building database store access relevant ..\"],\n [\"intern information systems communication technology tem\",\n\"United Nations\",\n\"vor 8 Tagen\",\n\"not_created\",\n\"05.26.2021\",\n\"17:00:17\",\n\"provides support software development ma..\"],\n [\"intern market competition insights neu\",\n\"HILTI\",\n\"vor 7 Tagen\",\n\"not_created\",\n\"05.26.2021\",\n\"17:00:17\",\n\"analytical skills working multiple data ..\"],\n [\"internship - strategic business development switzerland f\",\n\"Viafintech\",\n\"vor 12 Tagen\",\n\"not_created\",\n\"05.26.2021\",\n\"17:00:17\",\n\"analyze internal company data identify n..\"],\n [\"summer internship - junior economist neu\",\n\"Credit Suisse Campus\",\n\"vor 7 Tagen\",\n\"not_created\",\n\"05.26.2021\",\n\"17:00:17\",\n\"good knowledge working data dedicated wi..\"],\n [\"internship embedded sw engineering\",\n\"Sonova\",\n\"vor 8 Tagen\",\n\"not_created\",\n\"05.26.2021\",\n\"17:00:17\",\n\"analyze data transfer via bluetooth low ..\"],\n [\"circular economy intern\",\n\"Lafarge\",\n\"vor 13 Tagen\",\n\"not_created\",\n\"05.26.2021\",\n\"17:00:17\",\n\"experience data reporting analysis drive..\"],\n [\"internship data analyst\",\n\"Tally Weijl\",\n\"vor 12 Tagen\",\n\"not_created\",\n\"05.26.2021\",\n\"17:00:17\",\n\"help lead perform depth analysis get und..\"],\n [\"impact research intern\",\n\"Yova AG\",\n\"vor 8 Tagen\",\n\"not_created\",\n\"05.26.2021\",\n\"17:00:17\",\n\"good numbers able analyse large data set..\"],\n [\"internship data scientist algorithm development core\",\n\"greenTEG AG\",\n\"vor 8 Tagen\",\n\"not_created\",\n\"05.26.2021\",\n\"17:00:17\",\n\"working physiological time series data d..\"],\n [\"diversity inclusion consultant intern months\",\n\"Alvicus AG\",\n\"vor 8 Tagen\",\n\"not_created\",\n\"05.26.2021\",\n\"17:00:17\",\n\"like analyse data basis making decisions..\"],\n [\"data intelligence automation intern richemont europe\",\n\"Richemont\",\n\"vor 14 Tagen\",\n\"not_created\",\n\"05.26.2021\",\n\"17:00:17\",\n\"part european strategy want support impl..\"],\n [\"internship human rights investigation support temporary\",\n\"United Nations\",\n\"vor 19 Tagen\",\n\"not_created\",\n\"05.26.2021\",\n\"17:00:17\",\n\"daily responsibilities human rights inve..\"],\n [\"intern battery technology\",\n\"HILTI\",\n\"vor 15 Tagen\",\n\"not_created\",\n\"05.26.2021\",\n\"17:00:17\",\n\"experience data analysis programming mat..\"],\n [\"master internship machine learning pixelation\",\n\"CSEM SA\",\n\"vor 19 Tagen\",\n\"not_created\",\n\"05.26.2021\",\n\"17:00:17\",\n\"use state art denoising techniques data ..\"],\n [\"intern werkstudent focus sql data pipelin\",\n\"WinJi\",\n\"vor 20 Tagen\",\n\"not_created\",\n\"05.26.2021\",\n\"17:00:17\",\n\"experience etl processes data processing..\"],\n [\"internship risk management\",\n\"Credit Suisse Campus\",\n\"vor 14 Tagen\",\n\"not_created\",\n\"05.26.2021\",\n\"17:00:17\",\n\"active involvement performing internal e..\"],\n [\"nesternship consumer insight trainee\",\n\"Nestle\",\n\"vor 20 Tagen\",\n\"not_created\",\n\"05.26.2021\",\n\"17:00:17\",\n\"analytical way thinking bringing data to..\"],\n [\"intern public information temporary\",\n\"United Nations\",\n\"vor 20 Tagen\",\n\"not_created\",\n\"05.26.2021\",\n\"17:00:17\",\n\"study existing data identify opportuniti..\"],\n [\"junior vmware administrator f\",\n\"Deutsche B\\u00f6rse\",\n\"vor 17 Tagen\",\n\"not_created\",\n\"05.26.2021\",\n\"17:00:17\",\n\"department infrastructure operations pro..\"],\n [\"intern software engineering f\",\n\"AdNovum\",\n\"vor 19 Tagen\",\n\"not_created\",\n\"05.26.2021\",\n\"17:00:17\",\n\"accompanied experienced professionals wo..\"],\n [\"intern product management direct fastening\",\n\"HILTI\",\n\"vor 19 Tagen\",\n\"not_created\",\n\"05.26.2021\",\n\"17:00:17\",\n\"advanced skills ms office particularly e..\"],\n [\"content community management field \\\"collaborativ\",\n\"digitalswitzerland\",\n\"vor 14 Tagen\",\n\"not_created\",\n\"05.26.2021\",\n\"17:00:17\",\n\"report key metrics quality budget data m..\"],\n [\"intern environment affairs temporary\",\n\"United Nations\",\n\"vor 15 Tagen\",\n\"not_created\",\n\"05.26.2021\",\n\"17:00:17\",\n\"identify assess collect categorize green..\"],\n [\"systems pharmacology internship\",\n\"LYO-X GmbH\",\n\"vor 15 Tagen\",\n\"not_created\",\n\"05.26.2021\",\n\"17:00:17\",\n\"digitize literature data build pharmacok..\"],\n [\"cloud microservices disaggregated fpgas\",\n\"IBM Research Zurich\",\n\"vor 14 Tagen\",\n\"not_created\",\n\"05.26.2021\",\n\"17:00:17\",\n\"build usable secure intuitive robust sca..\"],\n [\"serverless cloud fpgas\",\n\"IBM Research Zurich\",\n\"vor 19 Tagen\",\n\"not_created\",\n\"05.26.2021\",\n\"17:00:17\",\n\"depending candidate background prototype..\"],\n [\"strategy analyst internship\",\n\"VAY AG\",\n\"vor 20 Tagen\",\n\"not_created\",\n\"05.26.2021\",\n\"17:00:17\",\n\"help record keeping data management proj..\"],\n [\"internship confidential computing\",\n\"decentriq\",\n\"vor 17 Tagen\",\n\"not_created\",\n\"05.26.2021\",\n\"17:00:17\",\n\"cutting edge development cryptography tr..\"],\n [\"internship credit analyst\",\n\"Total\",\n\"vor 26 Tagen\",\n\"not_created\",\n\"05.26.2021\",\n\"17:00:17\",\n\"action collect analyze market intelligen..\"],\n [\"internship cash exposure analysis\",\n\"Axpo\",\n\"vor 27 Tagen\",\n\"not_created\",\n\"05.26.2021\",\n\"17:00:17\",\n\"analyzing understanding processed data c..\"],\n [\"industrial intelligence project manager intern\",\n\"Richemont\",\n\"vor 26 Tagen\",\n\"not_created\",\n\"05.26.2021\",\n\"17:00:17\",\n\"master student computational science eng..\"]],\n        columns: [[\"string\", \"titles\"], [\"string\", \"companies\"], [\"string\", \"date_listed\"], [\"string\", \"short_link\"], [\"string\", \"date_pulled\"], [\"string\", \"time_pulled\"], [\"string\", \"summary_short\"]],\n        columnOptions: [],\n        rowsPerPage: 20,\n        helpUrl: \"https://colab.research.google.com/notebooks/data_table.ipynb\",\n        suppressOutputScrolling: true,\n        minimumWidth: undefined,\n      });\n    ",
            "text/plain": [
              "<google.colab.data_table.DataTable object>"
            ],
            "text/html": [
              "<div>\n",
              "<style scoped>\n",
              "    .dataframe tbody tr th:only-of-type {\n",
              "        vertical-align: middle;\n",
              "    }\n",
              "\n",
              "    .dataframe tbody tr th {\n",
              "        vertical-align: top;\n",
              "    }\n",
              "\n",
              "    .dataframe thead th {\n",
              "        text-align: right;\n",
              "    }\n",
              "</style>\n",
              "<table border=\"1\" class=\"dataframe\">\n",
              "  <thead>\n",
              "    <tr style=\"text-align: right;\">\n",
              "      <th></th>\n",
              "      <th>titles</th>\n",
              "      <th>companies</th>\n",
              "      <th>date_listed</th>\n",
              "      <th>short_link</th>\n",
              "      <th>date_pulled</th>\n",
              "      <th>time_pulled</th>\n",
              "      <th>summary_short</th>\n",
              "    </tr>\n",
              "  </thead>\n",
              "  <tbody>\n",
              "    <tr>\n",
              "      <th>0</th>\n",
              "      <td>wholesale e commerce analyst intern neu</td>\n",
              "      <td>Ralph Lauren</td>\n",
              "      <td>Gerade veröffentlicht</td>\n",
              "      <td>not_created</td>\n",
              "      <td>05.26.2021</td>\n",
              "      <td>17:00:17</td>\n",
              "      <td>analytical mindset proven ability manage..</td>\n",
              "    </tr>\n",
              "    <tr>\n",
              "      <th>1</th>\n",
              "      <td>postgraduate digital pilot lab neu</td>\n",
              "      <td>Novartis</td>\n",
              "      <td>Gerade veröffentlicht</td>\n",
              "      <td>not_created</td>\n",
              "      <td>05.26.2021</td>\n",
              "      <td>17:00:17</td>\n",
              "      <td>enabling automation routine tasks automa..</td>\n",
              "    </tr>\n",
              "    <tr>\n",
              "      <th>2</th>\n",
              "      <td>operations intern neu</td>\n",
              "      <td>Orderfox Schweiz AG</td>\n",
              "      <td>Heute</td>\n",
              "      <td>not_created</td>\n",
              "      <td>05.26.2021</td>\n",
              "      <td>17:00:17</td>\n",
              "      <td>aid sales teams documenting compiling an..</td>\n",
              "    </tr>\n",
              "    <tr>\n",
              "      <th>3</th>\n",
              "      <td>senior consultant financial services risk emei...</td>\n",
              "      <td>EY</td>\n",
              "      <td>Heute</td>\n",
              "      <td>not_created</td>\n",
              "      <td>05.26.2021</td>\n",
              "      <td>17:00:17</td>\n",
              "      <td>knowledge data security service continui..</td>\n",
              "    </tr>\n",
              "    <tr>\n",
              "      <th>4</th>\n",
              "      <td>student intern neu</td>\n",
              "      <td>Oracle</td>\n",
              "      <td>Heute</td>\n",
              "      <td>not_created</td>\n",
              "      <td>05.26.2021</td>\n",
              "      <td>17:00:17</td>\n",
              "      <td>position work research early development..</td>\n",
              "    </tr>\n",
              "    <tr>\n",
              "      <th>5</th>\n",
              "      <td>internship kof swiss economic institute neu</td>\n",
              "      <td>ETH Zürich</td>\n",
              "      <td>Heute</td>\n",
              "      <td>not_created</td>\n",
              "      <td>05.26.2021</td>\n",
              "      <td>17:00:17</td>\n",
              "      <td>experience data analysis data visualizat..</td>\n",
              "    </tr>\n",
              "    <tr>\n",
              "      <th>6</th>\n",
              "      <td>legal intern neu</td>\n",
              "      <td>Utopia Music</td>\n",
              "      <td>vor 1 Tag</td>\n",
              "      <td>not_created</td>\n",
              "      <td>05.26.2021</td>\n",
              "      <td>17:00:17</td>\n",
              "      <td>legal intern assist departments utopia d..</td>\n",
              "    </tr>\n",
              "    <tr>\n",
              "      <th>7</th>\n",
              "      <td>summer internship - junior controller credit s...</td>\n",
              "      <td>Credit Suisse Campus</td>\n",
              "      <td>vor 1 Tag</td>\n",
              "      <td>not_created</td>\n",
              "      <td>05.26.2021</td>\n",
              "      <td>17:00:17</td>\n",
              "      <td>academic requirements recently completed..</td>\n",
              "    </tr>\n",
              "    <tr>\n",
              "      <th>8</th>\n",
              "      <td>intern drone capturing 3d processing neu</td>\n",
              "      <td>Nomoko</td>\n",
              "      <td>vor 3 Tagen</td>\n",
              "      <td>not_created</td>\n",
              "      <td>05.26.2021</td>\n",
              "      <td>17:00:17</td>\n",
              "      <td>pilot uavs data acquisition processing d..</td>\n",
              "    </tr>\n",
              "    <tr>\n",
              "      <th>9</th>\n",
              "      <td>nesternship sales controlling intern neu</td>\n",
              "      <td>Nestle</td>\n",
              "      <td>vor 4 Tagen</td>\n",
              "      <td>not_created</td>\n",
              "      <td>05.26.2021</td>\n",
              "      <td>17:00:17</td>\n",
              "      <td>please note position swiss nationals hol..</td>\n",
              "    </tr>\n",
              "    <tr>\n",
              "      <th>10</th>\n",
              "      <td>back end engineering internship - months neu</td>\n",
              "      <td>Sygnum Bank AG</td>\n",
              "      <td>vor 4 Tagen</td>\n",
              "      <td>not_created</td>\n",
              "      <td>05.26.2021</td>\n",
              "      <td>17:00:17</td>\n",
              "      <td>support exploration future technologies ..</td>\n",
              "    </tr>\n",
              "    <tr>\n",
              "      <th>11</th>\n",
              "      <td>consultant technology risk consulting services...</td>\n",
              "      <td>EY</td>\n",
              "      <td>vor 5 Tagen</td>\n",
              "      <td>not_created</td>\n",
              "      <td>05.26.2021</td>\n",
              "      <td>17:00:17</td>\n",
              "      <td>member interdisciplinary specialist team..</td>\n",
              "    </tr>\n",
              "    <tr>\n",
              "      <th>12</th>\n",
              "      <td>senior consultant technology risk consulting c...</td>\n",
              "      <td>EY</td>\n",
              "      <td>vor 5 Tagen</td>\n",
              "      <td>not_created</td>\n",
              "      <td>05.26.2021</td>\n",
              "      <td>17:00:17</td>\n",
              "      <td>member interdisciplinary specialist team..</td>\n",
              "    </tr>\n",
              "    <tr>\n",
              "      <th>13</th>\n",
              "      <td>intern thesis student data science neu</td>\n",
              "      <td>HILTI</td>\n",
              "      <td>vor 6 Tagen</td>\n",
              "      <td>not_created</td>\n",
              "      <td>05.26.2021</td>\n",
              "      <td>17:00:17</td>\n",
              "      <td>identify data available relevant includi..</td>\n",
              "    </tr>\n",
              "    <tr>\n",
              "      <th>14</th>\n",
              "      <td>database marketing working student neu</td>\n",
              "      <td>BOARD International SA</td>\n",
              "      <td>vor 6 Tagen</td>\n",
              "      <td>not_created</td>\n",
              "      <td>05.26.2021</td>\n",
              "      <td>17:00:17</td>\n",
              "      <td>data case deleted without unjustified de..</td>\n",
              "    </tr>\n",
              "    <tr>\n",
              "      <th>15</th>\n",
              "      <td>intern customer insights neu</td>\n",
              "      <td>HILTI</td>\n",
              "      <td>vor 7 Tagen</td>\n",
              "      <td>not_created</td>\n",
              "      <td>05.26.2021</td>\n",
              "      <td>17:00:17</td>\n",
              "      <td>analytical skills working multiple data ..</td>\n",
              "    </tr>\n",
              "    <tr>\n",
              "      <th>16</th>\n",
              "      <td>middle office analyst internship</td>\n",
              "      <td>Total</td>\n",
              "      <td>vor 13 Tagen</td>\n",
              "      <td>not_created</td>\n",
              "      <td>05.26.2021</td>\n",
              "      <td>17:00:17</td>\n",
              "      <td>analysis different trading activities cr..</td>\n",
              "    </tr>\n",
              "    <tr>\n",
              "      <th>17</th>\n",
              "      <td>nesternship sustainability project management ...</td>\n",
              "      <td>Nestle</td>\n",
              "      <td>vor 11 Tagen</td>\n",
              "      <td>not_created</td>\n",
              "      <td>05.26.2021</td>\n",
              "      <td>17:00:17</td>\n",
              "      <td>analyze sustainability data bring insigh..</td>\n",
              "    </tr>\n",
              "    <tr>\n",
              "      <th>18</th>\n",
              "      <td>internship quant neu</td>\n",
              "      <td>Evooq</td>\n",
              "      <td>vor 7 Tagen</td>\n",
              "      <td>not_created</td>\n",
              "      <td>05.26.2021</td>\n",
              "      <td>17:00:17</td>\n",
              "      <td>building database store access relevant ..</td>\n",
              "    </tr>\n",
              "    <tr>\n",
              "      <th>19</th>\n",
              "      <td>intern information systems communication techn...</td>\n",
              "      <td>United Nations</td>\n",
              "      <td>vor 8 Tagen</td>\n",
              "      <td>not_created</td>\n",
              "      <td>05.26.2021</td>\n",
              "      <td>17:00:17</td>\n",
              "      <td>provides support software development ma..</td>\n",
              "    </tr>\n",
              "    <tr>\n",
              "      <th>20</th>\n",
              "      <td>intern market competition insights neu</td>\n",
              "      <td>HILTI</td>\n",
              "      <td>vor 7 Tagen</td>\n",
              "      <td>not_created</td>\n",
              "      <td>05.26.2021</td>\n",
              "      <td>17:00:17</td>\n",
              "      <td>analytical skills working multiple data ..</td>\n",
              "    </tr>\n",
              "    <tr>\n",
              "      <th>21</th>\n",
              "      <td>internship - strategic business development sw...</td>\n",
              "      <td>Viafintech</td>\n",
              "      <td>vor 12 Tagen</td>\n",
              "      <td>not_created</td>\n",
              "      <td>05.26.2021</td>\n",
              "      <td>17:00:17</td>\n",
              "      <td>analyze internal company data identify n..</td>\n",
              "    </tr>\n",
              "    <tr>\n",
              "      <th>22</th>\n",
              "      <td>summer internship - junior economist neu</td>\n",
              "      <td>Credit Suisse Campus</td>\n",
              "      <td>vor 7 Tagen</td>\n",
              "      <td>not_created</td>\n",
              "      <td>05.26.2021</td>\n",
              "      <td>17:00:17</td>\n",
              "      <td>good knowledge working data dedicated wi..</td>\n",
              "    </tr>\n",
              "    <tr>\n",
              "      <th>23</th>\n",
              "      <td>internship embedded sw engineering</td>\n",
              "      <td>Sonova</td>\n",
              "      <td>vor 8 Tagen</td>\n",
              "      <td>not_created</td>\n",
              "      <td>05.26.2021</td>\n",
              "      <td>17:00:17</td>\n",
              "      <td>analyze data transfer via bluetooth low ..</td>\n",
              "    </tr>\n",
              "    <tr>\n",
              "      <th>24</th>\n",
              "      <td>circular economy intern</td>\n",
              "      <td>Lafarge</td>\n",
              "      <td>vor 13 Tagen</td>\n",
              "      <td>not_created</td>\n",
              "      <td>05.26.2021</td>\n",
              "      <td>17:00:17</td>\n",
              "      <td>experience data reporting analysis drive..</td>\n",
              "    </tr>\n",
              "    <tr>\n",
              "      <th>25</th>\n",
              "      <td>internship data analyst</td>\n",
              "      <td>Tally Weijl</td>\n",
              "      <td>vor 12 Tagen</td>\n",
              "      <td>not_created</td>\n",
              "      <td>05.26.2021</td>\n",
              "      <td>17:00:17</td>\n",
              "      <td>help lead perform depth analysis get und..</td>\n",
              "    </tr>\n",
              "    <tr>\n",
              "      <th>26</th>\n",
              "      <td>impact research intern</td>\n",
              "      <td>Yova AG</td>\n",
              "      <td>vor 8 Tagen</td>\n",
              "      <td>not_created</td>\n",
              "      <td>05.26.2021</td>\n",
              "      <td>17:00:17</td>\n",
              "      <td>good numbers able analyse large data set..</td>\n",
              "    </tr>\n",
              "    <tr>\n",
              "      <th>27</th>\n",
              "      <td>internship data scientist algorithm developmen...</td>\n",
              "      <td>greenTEG AG</td>\n",
              "      <td>vor 8 Tagen</td>\n",
              "      <td>not_created</td>\n",
              "      <td>05.26.2021</td>\n",
              "      <td>17:00:17</td>\n",
              "      <td>working physiological time series data d..</td>\n",
              "    </tr>\n",
              "    <tr>\n",
              "      <th>28</th>\n",
              "      <td>diversity inclusion consultant intern months</td>\n",
              "      <td>Alvicus AG</td>\n",
              "      <td>vor 8 Tagen</td>\n",
              "      <td>not_created</td>\n",
              "      <td>05.26.2021</td>\n",
              "      <td>17:00:17</td>\n",
              "      <td>like analyse data basis making decisions..</td>\n",
              "    </tr>\n",
              "    <tr>\n",
              "      <th>29</th>\n",
              "      <td>data intelligence automation intern richemont ...</td>\n",
              "      <td>Richemont</td>\n",
              "      <td>vor 14 Tagen</td>\n",
              "      <td>not_created</td>\n",
              "      <td>05.26.2021</td>\n",
              "      <td>17:00:17</td>\n",
              "      <td>part european strategy want support impl..</td>\n",
              "    </tr>\n",
              "    <tr>\n",
              "      <th>30</th>\n",
              "      <td>internship human rights investigation support ...</td>\n",
              "      <td>United Nations</td>\n",
              "      <td>vor 19 Tagen</td>\n",
              "      <td>not_created</td>\n",
              "      <td>05.26.2021</td>\n",
              "      <td>17:00:17</td>\n",
              "      <td>daily responsibilities human rights inve..</td>\n",
              "    </tr>\n",
              "    <tr>\n",
              "      <th>31</th>\n",
              "      <td>intern battery technology</td>\n",
              "      <td>HILTI</td>\n",
              "      <td>vor 15 Tagen</td>\n",
              "      <td>not_created</td>\n",
              "      <td>05.26.2021</td>\n",
              "      <td>17:00:17</td>\n",
              "      <td>experience data analysis programming mat..</td>\n",
              "    </tr>\n",
              "    <tr>\n",
              "      <th>32</th>\n",
              "      <td>master internship machine learning pixelation</td>\n",
              "      <td>CSEM SA</td>\n",
              "      <td>vor 19 Tagen</td>\n",
              "      <td>not_created</td>\n",
              "      <td>05.26.2021</td>\n",
              "      <td>17:00:17</td>\n",
              "      <td>use state art denoising techniques data ..</td>\n",
              "    </tr>\n",
              "    <tr>\n",
              "      <th>33</th>\n",
              "      <td>intern werkstudent focus sql data pipelin</td>\n",
              "      <td>WinJi</td>\n",
              "      <td>vor 20 Tagen</td>\n",
              "      <td>not_created</td>\n",
              "      <td>05.26.2021</td>\n",
              "      <td>17:00:17</td>\n",
              "      <td>experience etl processes data processing..</td>\n",
              "    </tr>\n",
              "    <tr>\n",
              "      <th>34</th>\n",
              "      <td>internship risk management</td>\n",
              "      <td>Credit Suisse Campus</td>\n",
              "      <td>vor 14 Tagen</td>\n",
              "      <td>not_created</td>\n",
              "      <td>05.26.2021</td>\n",
              "      <td>17:00:17</td>\n",
              "      <td>active involvement performing internal e..</td>\n",
              "    </tr>\n",
              "    <tr>\n",
              "      <th>35</th>\n",
              "      <td>nesternship consumer insight trainee</td>\n",
              "      <td>Nestle</td>\n",
              "      <td>vor 20 Tagen</td>\n",
              "      <td>not_created</td>\n",
              "      <td>05.26.2021</td>\n",
              "      <td>17:00:17</td>\n",
              "      <td>analytical way thinking bringing data to..</td>\n",
              "    </tr>\n",
              "    <tr>\n",
              "      <th>36</th>\n",
              "      <td>intern public information temporary</td>\n",
              "      <td>United Nations</td>\n",
              "      <td>vor 20 Tagen</td>\n",
              "      <td>not_created</td>\n",
              "      <td>05.26.2021</td>\n",
              "      <td>17:00:17</td>\n",
              "      <td>study existing data identify opportuniti..</td>\n",
              "    </tr>\n",
              "    <tr>\n",
              "      <th>37</th>\n",
              "      <td>junior vmware administrator f</td>\n",
              "      <td>Deutsche Börse</td>\n",
              "      <td>vor 17 Tagen</td>\n",
              "      <td>not_created</td>\n",
              "      <td>05.26.2021</td>\n",
              "      <td>17:00:17</td>\n",
              "      <td>department infrastructure operations pro..</td>\n",
              "    </tr>\n",
              "    <tr>\n",
              "      <th>38</th>\n",
              "      <td>intern software engineering f</td>\n",
              "      <td>AdNovum</td>\n",
              "      <td>vor 19 Tagen</td>\n",
              "      <td>not_created</td>\n",
              "      <td>05.26.2021</td>\n",
              "      <td>17:00:17</td>\n",
              "      <td>accompanied experienced professionals wo..</td>\n",
              "    </tr>\n",
              "    <tr>\n",
              "      <th>39</th>\n",
              "      <td>intern product management direct fastening</td>\n",
              "      <td>HILTI</td>\n",
              "      <td>vor 19 Tagen</td>\n",
              "      <td>not_created</td>\n",
              "      <td>05.26.2021</td>\n",
              "      <td>17:00:17</td>\n",
              "      <td>advanced skills ms office particularly e..</td>\n",
              "    </tr>\n",
              "    <tr>\n",
              "      <th>40</th>\n",
              "      <td>content community management field \"collaborativ</td>\n",
              "      <td>digitalswitzerland</td>\n",
              "      <td>vor 14 Tagen</td>\n",
              "      <td>not_created</td>\n",
              "      <td>05.26.2021</td>\n",
              "      <td>17:00:17</td>\n",
              "      <td>report key metrics quality budget data m..</td>\n",
              "    </tr>\n",
              "    <tr>\n",
              "      <th>41</th>\n",
              "      <td>intern environment affairs temporary</td>\n",
              "      <td>United Nations</td>\n",
              "      <td>vor 15 Tagen</td>\n",
              "      <td>not_created</td>\n",
              "      <td>05.26.2021</td>\n",
              "      <td>17:00:17</td>\n",
              "      <td>identify assess collect categorize green..</td>\n",
              "    </tr>\n",
              "    <tr>\n",
              "      <th>42</th>\n",
              "      <td>systems pharmacology internship</td>\n",
              "      <td>LYO-X GmbH</td>\n",
              "      <td>vor 15 Tagen</td>\n",
              "      <td>not_created</td>\n",
              "      <td>05.26.2021</td>\n",
              "      <td>17:00:17</td>\n",
              "      <td>digitize literature data build pharmacok..</td>\n",
              "    </tr>\n",
              "    <tr>\n",
              "      <th>43</th>\n",
              "      <td>cloud microservices disaggregated fpgas</td>\n",
              "      <td>IBM Research Zurich</td>\n",
              "      <td>vor 14 Tagen</td>\n",
              "      <td>not_created</td>\n",
              "      <td>05.26.2021</td>\n",
              "      <td>17:00:17</td>\n",
              "      <td>build usable secure intuitive robust sca..</td>\n",
              "    </tr>\n",
              "    <tr>\n",
              "      <th>44</th>\n",
              "      <td>serverless cloud fpgas</td>\n",
              "      <td>IBM Research Zurich</td>\n",
              "      <td>vor 19 Tagen</td>\n",
              "      <td>not_created</td>\n",
              "      <td>05.26.2021</td>\n",
              "      <td>17:00:17</td>\n",
              "      <td>depending candidate background prototype..</td>\n",
              "    </tr>\n",
              "    <tr>\n",
              "      <th>45</th>\n",
              "      <td>strategy analyst internship</td>\n",
              "      <td>VAY AG</td>\n",
              "      <td>vor 20 Tagen</td>\n",
              "      <td>not_created</td>\n",
              "      <td>05.26.2021</td>\n",
              "      <td>17:00:17</td>\n",
              "      <td>help record keeping data management proj..</td>\n",
              "    </tr>\n",
              "    <tr>\n",
              "      <th>46</th>\n",
              "      <td>internship confidential computing</td>\n",
              "      <td>decentriq</td>\n",
              "      <td>vor 17 Tagen</td>\n",
              "      <td>not_created</td>\n",
              "      <td>05.26.2021</td>\n",
              "      <td>17:00:17</td>\n",
              "      <td>cutting edge development cryptography tr..</td>\n",
              "    </tr>\n",
              "    <tr>\n",
              "      <th>47</th>\n",
              "      <td>internship credit analyst</td>\n",
              "      <td>Total</td>\n",
              "      <td>vor 26 Tagen</td>\n",
              "      <td>not_created</td>\n",
              "      <td>05.26.2021</td>\n",
              "      <td>17:00:17</td>\n",
              "      <td>action collect analyze market intelligen..</td>\n",
              "    </tr>\n",
              "    <tr>\n",
              "      <th>48</th>\n",
              "      <td>internship cash exposure analysis</td>\n",
              "      <td>Axpo</td>\n",
              "      <td>vor 27 Tagen</td>\n",
              "      <td>not_created</td>\n",
              "      <td>05.26.2021</td>\n",
              "      <td>17:00:17</td>\n",
              "      <td>analyzing understanding processed data c..</td>\n",
              "    </tr>\n",
              "    <tr>\n",
              "      <th>49</th>\n",
              "      <td>industrial intelligence project manager intern</td>\n",
              "      <td>Richemont</td>\n",
              "      <td>vor 26 Tagen</td>\n",
              "      <td>not_created</td>\n",
              "      <td>05.26.2021</td>\n",
              "      <td>17:00:17</td>\n",
              "      <td>master student computational science eng..</td>\n",
              "    </tr>\n",
              "  </tbody>\n",
              "</table>\n",
              "</div>"
            ]
          },
          "metadata": {
            "tags": []
          },
          "execution_count": 19
        }
      ]
    },
    {
      "cell_type": "markdown",
      "metadata": {
        "id": "oly6RmkVvKkv"
      },
      "source": [
        "**Viz Query 1**"
      ]
    },
    {
      "cell_type": "code",
      "metadata": {
        "id": "D8g-Vivnvaso",
        "colab": {
          "base_uri": "https://localhost:8080/",
          "height": 1000
        },
        "outputId": "2d6fd2b6-f714-4da7-8a41-e9392957e533"
      },
      "source": [
        "viz1 = q1_processed.copy()\n",
        "viz1.drop(columns=[\"links\", \"short_link\"], inplace=True)\n",
        "\n",
        "viz_job_data_word2vec(viz1, \"summary\", save_plot=True, show_text=True,\n",
        "                      query_name=jt1 + \" in \" + jq1)\n",
        "viz_job_data_word2vec(viz1, \"titles\", save_plot=True, show_text=False,\n",
        "                      query_name=\"internships in -data-\")"
      ],
      "execution_count": 20,
      "outputs": [
        {
          "output_type": "display_data",
          "data": {
            "text/html": [
              "\n",
              "  <style>\n",
              "    pre {\n",
              "        white-space: pre-wrap;\n",
              "    }\n",
              "  </style>\n",
              "  "
            ],
            "text/plain": [
              "<IPython.core.display.HTML object>"
            ]
          },
          "metadata": {
            "tags": []
          }
        },
        {
          "output_type": "stream",
          "text": [
            "/usr/local/lib/python3.7/dist-packages/ipykernel_launcher.py:20: DeprecationWarning: Call to deprecated `wv` (Attribute will be removed in 4.0.0, use self instead).\n"
          ],
          "name": "stderr"
        },
        {
          "output_type": "stream",
          "text": [
            "\n",
            "For word2vec-internship in data: opt. # of k-means clusters is 5 \n",
            "\n"
          ],
          "name": "stdout"
        },
        {
          "output_type": "display_data",
          "data": {
            "text/html": [
              "<html>\n",
              "<head><meta charset=\"utf-8\" /></head>\n",
              "<body>\n",
              "    <div>            <script src=\"https://cdnjs.cloudflare.com/ajax/libs/mathjax/2.7.5/MathJax.js?config=TeX-AMS-MML_SVG\"></script><script type=\"text/javascript\">if (window.MathJax) {MathJax.Hub.Config({SVG: {font: \"STIX-Web\"}});}</script>                <script type=\"text/javascript\">window.PlotlyConfig = {MathJaxConfig: 'local'};</script>\n",
              "        <script src=\"https://cdn.plot.ly/plotly-latest.min.js\"></script>                <div id=\"1b274354-155b-4bbb-9325-67747c4f7324\" class=\"plotly-graph-div\" style=\"height:720px; width:960px;\"></div>            <script type=\"text/javascript\">                                    window.PLOTLYENV=window.PLOTLYENV || {};                                    if (document.getElementById(\"1b274354-155b-4bbb-9325-67747c4f7324\")) {                    Plotly.newPlot(                        \"1b274354-155b-4bbb-9325-67747c4f7324\",                        [{\"customdata\": [[\"wholesale e commerce analyst intern neu\", \"Ralph Lauren\", \"Gerade ver\\u00f6ffentlicht\", \"05.26.2021\", \"17:00:17\", \"1\"], [\"senior consultant financial services risk emeia financial neu\", \"EY\", \"Heute\", \"05.26.2021\", \"17:00:17\", \"1\"], [\"back end engineering internship - months neu\", \"Sygnum Bank AG\", \"vor 4 Tagen\", \"05.26.2021\", \"17:00:17\", \"1\"], [\"middle office analyst internship\", \"Total\", \"vor 13 Tagen\", \"05.26.2021\", \"17:00:17\", \"1\"], [\"nesternship sustainability project management intern\", \"Nestle\", \"vor 11 Tagen\", \"05.26.2021\", \"17:00:17\", \"1\"], [\"internship quant neu\", \"Evooq\", \"vor 7 Tagen\", \"05.26.2021\", \"17:00:17\", \"1\"], [\"internship - strategic business development switzerland f\", \"Viafintech\", \"vor 12 Tagen\", \"05.26.2021\", \"17:00:17\", \"1\"], [\"summer internship - junior economist neu\", \"Credit Suisse Campus\", \"vor 7 Tagen\", \"05.26.2021\", \"17:00:17\", \"1\"], [\"circular economy intern\", \"Lafarge\", \"vor 13 Tagen\", \"05.26.2021\", \"17:00:17\", \"1\"], [\"internship data analyst\", \"Tally Weijl\", \"vor 12 Tagen\", \"05.26.2021\", \"17:00:17\", \"1\"], [\"impact research intern\", \"Yova AG\", \"vor 8 Tagen\", \"05.26.2021\", \"17:00:17\", \"1\"], [\"intern battery technology\", \"HILTI\", \"vor 15 Tagen\", \"05.26.2021\", \"17:00:17\", \"1\"], [\"internship risk management\", \"Credit Suisse Campus\", \"vor 14 Tagen\", \"05.26.2021\", \"17:00:17\", \"1\"], [\"nesternship consumer insight trainee\", \"Nestle\", \"vor 20 Tagen\", \"05.26.2021\", \"17:00:17\", \"1\"], [\"intern product management direct fastening\", \"HILTI\", \"vor 19 Tagen\", \"05.26.2021\", \"17:00:17\", \"1\"], [\"content community management field \\\"collaborativ\", \"digitalswitzerland\", \"vor 14 Tagen\", \"05.26.2021\", \"17:00:17\", \"1\"], [\"intern environment affairs temporary\", \"United Nations\", \"vor 15 Tagen\", \"05.26.2021\", \"17:00:17\", \"1\"], [\"internship credit analyst\", \"Total\", \"vor 26 Tagen\", \"05.26.2021\", \"17:00:17\", \"1\"]], \"hovertemplate\": \"kmeans=%{customdata[5]}<br>pca_x=%{x}<br>pca_y=%{y}<br>companies_abbrev=%{text}<br>titles=%{customdata[0]}<br>companies=%{customdata[1]}<br>date_listed=%{customdata[2]}<br>date_pulled=%{customdata[3]}<br>time_pulled=%{customdata[4]}<extra></extra>\", \"legendgroup\": \"1\", \"marker\": {\"color\": \"#636efa\", \"symbol\": \"circle\"}, \"mode\": \"markers+text\", \"name\": \"1\", \"orientation\": \"v\", \"showlegend\": true, \"text\": [\"Ralph Lauren\", \"EY\", \"Sygnum Bank AG\", \"Total\", \"Nestle\", \"Evooq\", \"Viafintech\", \"Credit Suisse C..\", \"Lafarge\", \"Tally Weijl\", \"Yova AG\", \"HILTI\", \"Credit Suisse C..\", \"Nestle\", \"HILTI\", \"digitalswitzerl..\", \"United Nations\", \"Total\"], \"type\": \"scatter\", \"x\": [-0.029674805980869162, 0.06816197687771017, -0.23718425576798752, -0.00200651042886423, 0.200166947059719, -0.1460915161807783, -0.012675846378421838, 0.17234198695241823, -0.14341388819457182, -0.08634555948400834, 0.09866601187497226, -0.0810942826536699, -0.1547006112777408, -0.06227381740298194, 0.061469746370414406, -0.10293475149737344, 0.04203044340816473, 0.1415640595915734], \"xaxis\": \"x\", \"y\": [-0.06282033801161709, 0.02662164843563081, 0.16076465574436685, -0.16370288852499873, -0.17120599608428155, -0.07700544978968692, -0.04066272666019734, -0.08400752459417388, -0.16691002820670947, -0.22160189289328402, -0.14183593390947447, 0.31947287518332745, -0.23916912227936712, -0.2681319726818265, 0.25926365494678266, -0.0773626040385714, -0.08791156577044013, -0.22137650470747794], \"yaxis\": \"y\"}, {\"customdata\": [[\"postgraduate digital pilot lab neu\", \"Novartis\", \"Gerade ver\\u00f6ffentlicht\", \"05.26.2021\", \"17:00:17\", \"3\"], [\"student intern neu\", \"Oracle\", \"Heute\", \"05.26.2021\", \"17:00:17\", \"3\"], [\"internship kof swiss economic institute neu\", \"ETH Z\\u00fcrich\", \"Heute\", \"05.26.2021\", \"17:00:17\", \"3\"], [\"intern drone capturing 3d processing neu\", \"Nomoko\", \"vor 3 Tagen\", \"05.26.2021\", \"17:00:17\", \"3\"], [\"intern thesis student data science neu\", \"HILTI\", \"vor 6 Tagen\", \"05.26.2021\", \"17:00:17\", \"3\"], [\"internship data scientist algorithm development core\", \"greenTEG AG\", \"vor 8 Tagen\", \"05.26.2021\", \"17:00:17\", \"3\"], [\"intern werkstudent focus sql data pipelin\", \"WinJi\", \"vor 20 Tagen\", \"05.26.2021\", \"17:00:17\", \"3\"], [\"systems pharmacology internship\", \"LYO-X GmbH\", \"vor 15 Tagen\", \"05.26.2021\", \"17:00:17\", \"3\"], [\"internship cash exposure analysis\", \"Axpo\", \"vor 27 Tagen\", \"05.26.2021\", \"17:00:17\", \"3\"]], \"hovertemplate\": \"kmeans=%{customdata[5]}<br>pca_x=%{x}<br>pca_y=%{y}<br>companies_abbrev=%{text}<br>titles=%{customdata[0]}<br>companies=%{customdata[1]}<br>date_listed=%{customdata[2]}<br>date_pulled=%{customdata[3]}<br>time_pulled=%{customdata[4]}<extra></extra>\", \"legendgroup\": \"3\", \"marker\": {\"color\": \"#EF553B\", \"symbol\": \"circle\"}, \"mode\": \"markers+text\", \"name\": \"3\", \"orientation\": \"v\", \"showlegend\": true, \"text\": [\"Novartis\", \"Oracle\", \"ETH Z\\u00fcrich\", \"Nomoko\", \"HILTI\", \"greenTEG AG\", \"WinJi\", \"LYO-X GmbH\", \"Axpo\"], \"type\": \"scatter\", \"x\": [-0.3171341224582444, -0.308314788595145, -0.4802889300633216, -0.23676815338242746, -0.46101848355496833, -0.41216861080300526, -0.6091448344344808, -0.4831563639499701, -0.3786636258316649], \"xaxis\": \"x\", \"y\": [0.21225779659701358, -0.09982944101458106, -0.2785506027551321, 0.045559733257233476, -0.19439367860103945, -0.17950039158265815, -0.06422360212452635, 0.0770784223326425, -0.2700549433883621], \"yaxis\": \"y\"}, {\"customdata\": [[\"operations intern neu\", \"Orderfox Schweiz AG\", \"Heute\", \"05.26.2021\", \"17:00:17\", \"0\"], [\"legal intern neu\", \"Utopia Music\", \"vor 1 Tag\", \"05.26.2021\", \"17:00:17\", \"0\"], [\"nesternship sales controlling intern neu\", \"Nestle\", \"vor 4 Tagen\", \"05.26.2021\", \"17:00:17\", \"0\"], [\"consultant technology risk consulting services corporat neu\", \"EY\", \"vor 5 Tagen\", \"05.26.2021\", \"17:00:17\", \"0\"], [\"senior consultant technology risk consulting corporate neu\", \"EY\", \"vor 5 Tagen\", \"05.26.2021\", \"17:00:17\", \"0\"], [\"database marketing working student neu\", \"BOARD International SA\", \"vor 6 Tagen\", \"05.26.2021\", \"17:00:17\", \"0\"], [\"intern customer insights neu\", \"HILTI\", \"vor 7 Tagen\", \"05.26.2021\", \"17:00:17\", \"0\"], [\"intern information systems communication technology tem\", \"United Nations\", \"vor 8 Tagen\", \"05.26.2021\", \"17:00:17\", \"0\"], [\"intern market competition insights neu\", \"HILTI\", \"vor 7 Tagen\", \"05.26.2021\", \"17:00:17\", \"0\"], [\"internship embedded sw engineering\", \"Sonova\", \"vor 8 Tagen\", \"05.26.2021\", \"17:00:17\", \"0\"], [\"diversity inclusion consultant intern months\", \"Alvicus AG\", \"vor 8 Tagen\", \"05.26.2021\", \"17:00:17\", \"0\"], [\"data intelligence automation intern richemont europe\", \"Richemont\", \"vor 14 Tagen\", \"05.26.2021\", \"17:00:17\", \"0\"], [\"internship human rights investigation support temporary\", \"United Nations\", \"vor 19 Tagen\", \"05.26.2021\", \"17:00:17\", \"0\"], [\"master internship machine learning pixelation\", \"CSEM SA\", \"vor 19 Tagen\", \"05.26.2021\", \"17:00:17\", \"0\"], [\"intern public information temporary\", \"United Nations\", \"vor 20 Tagen\", \"05.26.2021\", \"17:00:17\", \"0\"], [\"junior vmware administrator f\", \"Deutsche B\\u00f6rse\", \"vor 17 Tagen\", \"05.26.2021\", \"17:00:17\", \"0\"], [\"intern software engineering f\", \"AdNovum\", \"vor 19 Tagen\", \"05.26.2021\", \"17:00:17\", \"0\"], [\"serverless cloud fpgas\", \"IBM Research Zurich\", \"vor 19 Tagen\", \"05.26.2021\", \"17:00:17\", \"0\"], [\"strategy analyst internship\", \"VAY AG\", \"vor 20 Tagen\", \"05.26.2021\", \"17:00:17\", \"0\"], [\"internship confidential computing\", \"decentriq\", \"vor 17 Tagen\", \"05.26.2021\", \"17:00:17\", \"0\"]], \"hovertemplate\": \"kmeans=%{customdata[5]}<br>pca_x=%{x}<br>pca_y=%{y}<br>companies_abbrev=%{text}<br>titles=%{customdata[0]}<br>companies=%{customdata[1]}<br>date_listed=%{customdata[2]}<br>date_pulled=%{customdata[3]}<br>time_pulled=%{customdata[4]}<extra></extra>\", \"legendgroup\": \"0\", \"marker\": {\"color\": \"#00cc96\", \"symbol\": \"circle\"}, \"mode\": \"markers+text\", \"name\": \"0\", \"orientation\": \"v\", \"showlegend\": true, \"text\": [\"Orderfox Schwei..\", \"Utopia Music\", \"Nestle\", \"EY\", \"EY\", \"BOARD Internati..\", \"HILTI\", \"United Nations\", \"HILTI\", \"Sonova\", \"Alvicus AG\", \"Richemont\", \"United Nations\", \"CSEM SA\", \"United Nations\", \"Deutsche B\\u00f6rse\", \"AdNovum\", \"IBM Research Zu..\", \"VAY AG\", \"decentriq\"], \"type\": \"scatter\", \"x\": [-0.024642981203186847, 0.48338785432961234, 0.4943444078193269, 0.16268352006752282, 0.16268352006752282, 0.5613502209043867, 0.11862055400529505, 0.057342882814140655, 0.1950083371914232, -0.12588378625144364, 0.29376021083617626, -0.10728548524335986, 0.6225781032002353, 0.045222011466637416, -0.08542119567491246, 0.20294082983301884, 0.13124087245992785, 0.18888594451893062, -0.060092218852870964, -0.06629338092533434], \"xaxis\": \"x\", \"y\": [-0.247299269137603, -0.19007858231147945, 0.12106871063768641, -0.13163931858151443, -0.13163931858151445, -0.12088371806009462, -0.09096958917890843, 0.05507111653117444, -0.08810678137017791, 0.13052461148411548, -0.21947845025456236, 0.07286791115277377, -0.15237228994351776, 0.053425077035774406, 0.18457800479730083, 0.18965909648519141, 0.18026402343462775, 0.4882977960826429, 0.14122733961217526, 0.4187415339582083], \"yaxis\": \"y\"}, {\"customdata\": [[\"summer internship - junior controller credit suisse neu\", \"Credit Suisse Campus\", \"vor 1 Tag\", \"05.26.2021\", \"17:00:17\", \"4\"], [\"industrial intelligence project manager intern\", \"Richemont\", \"vor 26 Tagen\", \"05.26.2021\", \"17:00:17\", \"4\"]], \"hovertemplate\": \"kmeans=%{customdata[5]}<br>pca_x=%{x}<br>pca_y=%{y}<br>companies_abbrev=%{text}<br>titles=%{customdata[0]}<br>companies=%{customdata[1]}<br>date_listed=%{customdata[2]}<br>date_pulled=%{customdata[3]}<br>time_pulled=%{customdata[4]}<extra></extra>\", \"legendgroup\": \"4\", \"marker\": {\"color\": \"#ab63fa\", \"symbol\": \"circle\"}, \"mode\": \"markers+text\", \"name\": \"4\", \"orientation\": \"v\", \"showlegend\": true, \"text\": [\"Credit Suisse C..\", \"Richemont\"], \"type\": \"scatter\", \"x\": [0.7194262893050661, 0.24680957858659874], \"xaxis\": \"x\", \"y\": [0.19245712200460138, 0.13577409224605777], \"yaxis\": \"y\"}, {\"customdata\": [[\"cloud microservices disaggregated fpgas\", \"IBM Research Zurich\", \"vor 14 Tagen\", \"05.26.2021\", \"17:00:17\", \"2\"]], \"hovertemplate\": \"kmeans=%{customdata[5]}<br>pca_x=%{x}<br>pca_y=%{y}<br>companies_abbrev=%{text}<br>titles=%{customdata[0]}<br>companies=%{customdata[1]}<br>date_listed=%{customdata[2]}<br>date_pulled=%{customdata[3]}<br>time_pulled=%{customdata[4]}<extra></extra>\", \"legendgroup\": \"2\", \"marker\": {\"color\": \"#FFA15A\", \"symbol\": \"circle\"}, \"mode\": \"markers+text\", \"name\": \"2\", \"orientation\": \"v\", \"showlegend\": true, \"text\": [\"IBM Research Zu..\"], \"type\": \"scatter\", \"x\": [-0.25601350306918985], \"xaxis\": \"x\", \"y\": [1.017749303078448], \"yaxis\": \"y\"}],                        {\"height\": 720, \"legend\": {\"title\": {\"text\": \"kmeans\"}, \"tracegroupgap\": 0}, \"template\": {\"data\": {\"bar\": [{\"error_x\": {\"color\": \"#f2f5fa\"}, \"error_y\": {\"color\": \"#f2f5fa\"}, \"marker\": {\"line\": {\"color\": \"rgb(17,17,17)\", \"width\": 0.5}}, \"type\": \"bar\"}], \"barpolar\": [{\"marker\": {\"line\": {\"color\": \"rgb(17,17,17)\", \"width\": 0.5}}, \"type\": \"barpolar\"}], \"carpet\": [{\"aaxis\": {\"endlinecolor\": \"#A2B1C6\", \"gridcolor\": \"#506784\", \"linecolor\": \"#506784\", \"minorgridcolor\": \"#506784\", \"startlinecolor\": \"#A2B1C6\"}, \"baxis\": {\"endlinecolor\": \"#A2B1C6\", \"gridcolor\": \"#506784\", \"linecolor\": \"#506784\", \"minorgridcolor\": \"#506784\", \"startlinecolor\": \"#A2B1C6\"}, \"type\": \"carpet\"}], \"choropleth\": [{\"colorbar\": {\"outlinewidth\": 0, \"ticks\": \"\"}, \"type\": \"choropleth\"}], \"contour\": [{\"colorbar\": {\"outlinewidth\": 0, \"ticks\": \"\"}, \"colorscale\": [[0.0, \"#0d0887\"], [0.1111111111111111, \"#46039f\"], [0.2222222222222222, \"#7201a8\"], [0.3333333333333333, \"#9c179e\"], [0.4444444444444444, \"#bd3786\"], [0.5555555555555556, \"#d8576b\"], [0.6666666666666666, \"#ed7953\"], [0.7777777777777778, \"#fb9f3a\"], [0.8888888888888888, \"#fdca26\"], [1.0, \"#f0f921\"]], \"type\": \"contour\"}], \"contourcarpet\": [{\"colorbar\": {\"outlinewidth\": 0, \"ticks\": \"\"}, \"type\": \"contourcarpet\"}], \"heatmap\": [{\"colorbar\": {\"outlinewidth\": 0, \"ticks\": \"\"}, \"colorscale\": [[0.0, \"#0d0887\"], [0.1111111111111111, \"#46039f\"], [0.2222222222222222, \"#7201a8\"], [0.3333333333333333, \"#9c179e\"], [0.4444444444444444, \"#bd3786\"], [0.5555555555555556, \"#d8576b\"], [0.6666666666666666, \"#ed7953\"], [0.7777777777777778, \"#fb9f3a\"], [0.8888888888888888, \"#fdca26\"], [1.0, \"#f0f921\"]], \"type\": \"heatmap\"}], \"heatmapgl\": [{\"colorbar\": {\"outlinewidth\": 0, \"ticks\": \"\"}, \"colorscale\": [[0.0, \"#0d0887\"], [0.1111111111111111, \"#46039f\"], [0.2222222222222222, \"#7201a8\"], [0.3333333333333333, \"#9c179e\"], [0.4444444444444444, \"#bd3786\"], [0.5555555555555556, \"#d8576b\"], [0.6666666666666666, \"#ed7953\"], [0.7777777777777778, \"#fb9f3a\"], [0.8888888888888888, \"#fdca26\"], [1.0, \"#f0f921\"]], \"type\": \"heatmapgl\"}], \"histogram\": [{\"marker\": {\"colorbar\": {\"outlinewidth\": 0, \"ticks\": \"\"}}, \"type\": \"histogram\"}], \"histogram2d\": [{\"colorbar\": {\"outlinewidth\": 0, \"ticks\": \"\"}, \"colorscale\": [[0.0, \"#0d0887\"], [0.1111111111111111, \"#46039f\"], [0.2222222222222222, \"#7201a8\"], [0.3333333333333333, \"#9c179e\"], [0.4444444444444444, \"#bd3786\"], [0.5555555555555556, \"#d8576b\"], [0.6666666666666666, \"#ed7953\"], [0.7777777777777778, \"#fb9f3a\"], [0.8888888888888888, \"#fdca26\"], [1.0, \"#f0f921\"]], \"type\": \"histogram2d\"}], \"histogram2dcontour\": [{\"colorbar\": {\"outlinewidth\": 0, \"ticks\": \"\"}, \"colorscale\": [[0.0, \"#0d0887\"], [0.1111111111111111, \"#46039f\"], [0.2222222222222222, \"#7201a8\"], [0.3333333333333333, \"#9c179e\"], [0.4444444444444444, \"#bd3786\"], [0.5555555555555556, \"#d8576b\"], [0.6666666666666666, \"#ed7953\"], [0.7777777777777778, \"#fb9f3a\"], [0.8888888888888888, \"#fdca26\"], [1.0, \"#f0f921\"]], \"type\": \"histogram2dcontour\"}], \"mesh3d\": [{\"colorbar\": {\"outlinewidth\": 0, \"ticks\": \"\"}, \"type\": \"mesh3d\"}], \"parcoords\": [{\"line\": {\"colorbar\": {\"outlinewidth\": 0, \"ticks\": \"\"}}, \"type\": \"parcoords\"}], \"pie\": [{\"automargin\": true, \"type\": \"pie\"}], \"scatter\": [{\"marker\": {\"line\": {\"color\": \"#283442\"}}, \"type\": \"scatter\"}], \"scatter3d\": [{\"line\": {\"colorbar\": {\"outlinewidth\": 0, \"ticks\": \"\"}}, \"marker\": {\"colorbar\": {\"outlinewidth\": 0, \"ticks\": \"\"}}, \"type\": \"scatter3d\"}], \"scattercarpet\": [{\"marker\": {\"colorbar\": {\"outlinewidth\": 0, \"ticks\": \"\"}}, \"type\": \"scattercarpet\"}], \"scattergeo\": [{\"marker\": {\"colorbar\": {\"outlinewidth\": 0, \"ticks\": \"\"}}, \"type\": \"scattergeo\"}], \"scattergl\": [{\"marker\": {\"line\": {\"color\": \"#283442\"}}, \"type\": \"scattergl\"}], \"scattermapbox\": [{\"marker\": {\"colorbar\": {\"outlinewidth\": 0, \"ticks\": \"\"}}, \"type\": \"scattermapbox\"}], \"scatterpolar\": [{\"marker\": {\"colorbar\": {\"outlinewidth\": 0, \"ticks\": \"\"}}, \"type\": \"scatterpolar\"}], \"scatterpolargl\": [{\"marker\": {\"colorbar\": {\"outlinewidth\": 0, \"ticks\": \"\"}}, \"type\": \"scatterpolargl\"}], \"scatterternary\": [{\"marker\": {\"colorbar\": {\"outlinewidth\": 0, \"ticks\": \"\"}}, \"type\": \"scatterternary\"}], \"surface\": [{\"colorbar\": {\"outlinewidth\": 0, \"ticks\": \"\"}, \"colorscale\": [[0.0, \"#0d0887\"], [0.1111111111111111, \"#46039f\"], [0.2222222222222222, \"#7201a8\"], [0.3333333333333333, \"#9c179e\"], [0.4444444444444444, \"#bd3786\"], [0.5555555555555556, \"#d8576b\"], [0.6666666666666666, \"#ed7953\"], [0.7777777777777778, \"#fb9f3a\"], [0.8888888888888888, \"#fdca26\"], [1.0, \"#f0f921\"]], \"type\": \"surface\"}], \"table\": [{\"cells\": {\"fill\": {\"color\": \"#506784\"}, \"line\": {\"color\": \"rgb(17,17,17)\"}}, \"header\": {\"fill\": {\"color\": \"#2a3f5f\"}, \"line\": {\"color\": \"rgb(17,17,17)\"}}, \"type\": \"table\"}]}, \"layout\": {\"annotationdefaults\": {\"arrowcolor\": \"#f2f5fa\", \"arrowhead\": 0, \"arrowwidth\": 1}, \"autotypenumbers\": \"strict\", \"coloraxis\": {\"colorbar\": {\"outlinewidth\": 0, \"ticks\": \"\"}}, \"colorscale\": {\"diverging\": [[0, \"#8e0152\"], [0.1, \"#c51b7d\"], [0.2, \"#de77ae\"], [0.3, \"#f1b6da\"], [0.4, \"#fde0ef\"], [0.5, \"#f7f7f7\"], [0.6, \"#e6f5d0\"], [0.7, \"#b8e186\"], [0.8, \"#7fbc41\"], [0.9, \"#4d9221\"], [1, \"#276419\"]], \"sequential\": [[0.0, \"#0d0887\"], [0.1111111111111111, \"#46039f\"], [0.2222222222222222, \"#7201a8\"], [0.3333333333333333, \"#9c179e\"], [0.4444444444444444, \"#bd3786\"], [0.5555555555555556, \"#d8576b\"], [0.6666666666666666, \"#ed7953\"], [0.7777777777777778, \"#fb9f3a\"], [0.8888888888888888, \"#fdca26\"], [1.0, \"#f0f921\"]], \"sequentialminus\": [[0.0, \"#0d0887\"], [0.1111111111111111, \"#46039f\"], [0.2222222222222222, \"#7201a8\"], [0.3333333333333333, \"#9c179e\"], [0.4444444444444444, \"#bd3786\"], [0.5555555555555556, \"#d8576b\"], [0.6666666666666666, \"#ed7953\"], [0.7777777777777778, \"#fb9f3a\"], [0.8888888888888888, \"#fdca26\"], [1.0, \"#f0f921\"]]}, \"colorway\": [\"#636efa\", \"#EF553B\", \"#00cc96\", \"#ab63fa\", \"#FFA15A\", \"#19d3f3\", \"#FF6692\", \"#B6E880\", \"#FF97FF\", \"#FECB52\"], \"font\": {\"color\": \"#f2f5fa\"}, \"geo\": {\"bgcolor\": \"rgb(17,17,17)\", \"lakecolor\": \"rgb(17,17,17)\", \"landcolor\": \"rgb(17,17,17)\", \"showlakes\": true, \"showland\": true, \"subunitcolor\": \"#506784\"}, \"hoverlabel\": {\"align\": \"left\"}, \"hovermode\": \"closest\", \"mapbox\": {\"style\": \"dark\"}, \"paper_bgcolor\": \"rgb(17,17,17)\", \"plot_bgcolor\": \"rgb(17,17,17)\", \"polar\": {\"angularaxis\": {\"gridcolor\": \"#506784\", \"linecolor\": \"#506784\", \"ticks\": \"\"}, \"bgcolor\": \"rgb(17,17,17)\", \"radialaxis\": {\"gridcolor\": \"#506784\", \"linecolor\": \"#506784\", \"ticks\": \"\"}}, \"scene\": {\"xaxis\": {\"backgroundcolor\": \"rgb(17,17,17)\", \"gridcolor\": \"#506784\", \"gridwidth\": 2, \"linecolor\": \"#506784\", \"showbackground\": true, \"ticks\": \"\", \"zerolinecolor\": \"#C8D4E3\"}, \"yaxis\": {\"backgroundcolor\": \"rgb(17,17,17)\", \"gridcolor\": \"#506784\", \"gridwidth\": 2, \"linecolor\": \"#506784\", \"showbackground\": true, \"ticks\": \"\", \"zerolinecolor\": \"#C8D4E3\"}, \"zaxis\": {\"backgroundcolor\": \"rgb(17,17,17)\", \"gridcolor\": \"#506784\", \"gridwidth\": 2, \"linecolor\": \"#506784\", \"showbackground\": true, \"ticks\": \"\", \"zerolinecolor\": \"#C8D4E3\"}}, \"shapedefaults\": {\"line\": {\"color\": \"#f2f5fa\"}}, \"sliderdefaults\": {\"bgcolor\": \"#C8D4E3\", \"bordercolor\": \"rgb(17,17,17)\", \"borderwidth\": 1, \"tickwidth\": 0}, \"ternary\": {\"aaxis\": {\"gridcolor\": \"#506784\", \"linecolor\": \"#506784\", \"ticks\": \"\"}, \"baxis\": {\"gridcolor\": \"#506784\", \"linecolor\": \"#506784\", \"ticks\": \"\"}, \"bgcolor\": \"rgb(17,17,17)\", \"caxis\": {\"gridcolor\": \"#506784\", \"linecolor\": \"#506784\", \"ticks\": \"\"}}, \"title\": {\"x\": 0.05}, \"updatemenudefaults\": {\"bgcolor\": \"#506784\", \"borderwidth\": 0}, \"xaxis\": {\"automargin\": true, \"gridcolor\": \"#283442\", \"linecolor\": \"#506784\", \"ticks\": \"\", \"title\": {\"standoff\": 15}, \"zerolinecolor\": \"#283442\", \"zerolinewidth\": 2}, \"yaxis\": {\"automargin\": true, \"gridcolor\": \"#283442\", \"linecolor\": \"#506784\", \"ticks\": \"\", \"title\": {\"standoff\": 15}, \"zerolinecolor\": \"#283442\", \"zerolinewidth\": 2}}}, \"title\": {\"text\": \"May-26-2021 Vizualize Companies by summary text w word2vec | internship in data\"}, \"width\": 960, \"xaxis\": {\"anchor\": \"y\", \"domain\": [0.0, 1.0], \"title\": {\"text\": \"pca_x\"}}, \"yaxis\": {\"anchor\": \"x\", \"domain\": [0.0, 1.0], \"title\": {\"text\": \"pca_y\"}}},                        {\"responsive\": true}                    ).then(function(){\n",
              "                            \n",
              "var gd = document.getElementById('1b274354-155b-4bbb-9325-67747c4f7324');\n",
              "var x = new MutationObserver(function (mutations, observer) {{\n",
              "        var display = window.getComputedStyle(gd).display;\n",
              "        if (!display || display === 'none') {{\n",
              "            console.log([gd, 'removed!']);\n",
              "            Plotly.purge(gd);\n",
              "            observer.disconnect();\n",
              "        }}\n",
              "}});\n",
              "\n",
              "// Listen for the removal of the full notebook cells\n",
              "var notebookContainer = gd.closest('#notebook-container');\n",
              "if (notebookContainer) {{\n",
              "    x.observe(notebookContainer, {childList: true});\n",
              "}}\n",
              "\n",
              "// Listen for the clearing of the current output cell\n",
              "var outputEl = gd.closest('.output');\n",
              "if (outputEl) {{\n",
              "    x.observe(outputEl, {childList: true});\n",
              "}}\n",
              "\n",
              "                        })                };                            </script>        </div>\n",
              "</body>\n",
              "</html>"
            ]
          },
          "metadata": {
            "tags": []
          }
        },
        {
          "output_type": "stream",
          "text": [
            "plot generated -  2021-05-26 17:00:20.980447\n"
          ],
          "name": "stdout"
        },
        {
          "output_type": "stream",
          "text": [
            "/usr/local/lib/python3.7/dist-packages/ipykernel_launcher.py:20: DeprecationWarning:\n",
            "\n",
            "Call to deprecated `wv` (Attribute will be removed in 4.0.0, use self instead).\n",
            "\n"
          ],
          "name": "stderr"
        },
        {
          "output_type": "stream",
          "text": [
            "\n",
            "For word2vec-internships in -data-: opt. # of k-means clusters is 5 \n",
            "\n"
          ],
          "name": "stdout"
        },
        {
          "output_type": "display_data",
          "data": {
            "text/html": [
              "<html>\n",
              "<head><meta charset=\"utf-8\" /></head>\n",
              "<body>\n",
              "    <div>            <script src=\"https://cdnjs.cloudflare.com/ajax/libs/mathjax/2.7.5/MathJax.js?config=TeX-AMS-MML_SVG\"></script><script type=\"text/javascript\">if (window.MathJax) {MathJax.Hub.Config({SVG: {font: \"STIX-Web\"}});}</script>                <script type=\"text/javascript\">window.PlotlyConfig = {MathJaxConfig: 'local'};</script>\n",
              "        <script src=\"https://cdn.plot.ly/plotly-latest.min.js\"></script>                <div id=\"744d0292-e7b1-4d98-8686-bbf5c0289aaa\" class=\"plotly-graph-div\" style=\"height:720px; width:960px;\"></div>            <script type=\"text/javascript\">                                    window.PLOTLYENV=window.PLOTLYENV || {};                                    if (document.getElementById(\"744d0292-e7b1-4d98-8686-bbf5c0289aaa\")) {                    Plotly.newPlot(                        \"744d0292-e7b1-4d98-8686-bbf5c0289aaa\",                        [{\"customdata\": [[\"wholesale e commerce analyst intern neu\", \"Ralph Lauren\", \"Gerade ver\\u00f6ffentlicht\", \"05.26.2021\", \"17:00:17\", \"1\"], [\"postgraduate digital pilot lab neu\", \"Novartis\", \"Gerade ver\\u00f6ffentlicht\", \"05.26.2021\", \"17:00:17\", \"1\"], [\"operations intern neu\", \"Orderfox Schweiz AG\", \"Heute\", \"05.26.2021\", \"17:00:17\", \"1\"], [\"student intern neu\", \"Oracle\", \"Heute\", \"05.26.2021\", \"17:00:17\", \"1\"], [\"internship kof swiss economic institute neu\", \"ETH Z\\u00fcrich\", \"Heute\", \"05.26.2021\", \"17:00:17\", \"1\"], [\"legal intern neu\", \"Utopia Music\", \"vor 1 Tag\", \"05.26.2021\", \"17:00:17\", \"1\"], [\"summer internship - junior controller credit suisse neu\", \"Credit Suisse Campus\", \"vor 1 Tag\", \"05.26.2021\", \"17:00:17\", \"1\"], [\"intern drone capturing 3d processing neu\", \"Nomoko\", \"vor 3 Tagen\", \"05.26.2021\", \"17:00:17\", \"1\"], [\"nesternship sales controlling intern neu\", \"Nestle\", \"vor 4 Tagen\", \"05.26.2021\", \"17:00:17\", \"1\"], [\"back end engineering internship - months neu\", \"Sygnum Bank AG\", \"vor 4 Tagen\", \"05.26.2021\", \"17:00:17\", \"1\"], [\"intern thesis student data science neu\", \"HILTI\", \"vor 6 Tagen\", \"05.26.2021\", \"17:00:17\", \"1\"], [\"database marketing working student neu\", \"BOARD International SA\", \"vor 6 Tagen\", \"05.26.2021\", \"17:00:17\", \"1\"], [\"intern customer insights neu\", \"HILTI\", \"vor 7 Tagen\", \"05.26.2021\", \"17:00:17\", \"1\"], [\"internship quant neu\", \"Evooq\", \"vor 7 Tagen\", \"05.26.2021\", \"17:00:17\", \"1\"], [\"intern market competition insights neu\", \"HILTI\", \"vor 7 Tagen\", \"05.26.2021\", \"17:00:17\", \"1\"], [\"summer internship - junior economist neu\", \"Credit Suisse Campus\", \"vor 7 Tagen\", \"05.26.2021\", \"17:00:17\", \"1\"]], \"hovertemplate\": \"kmeans=%{customdata[5]}<br>pca_x=%{x}<br>pca_y=%{y}<br>titles=%{customdata[0]}<br>companies=%{customdata[1]}<br>date_listed=%{customdata[2]}<br>date_pulled=%{customdata[3]}<br>time_pulled=%{customdata[4]}<extra></extra>\", \"legendgroup\": \"1\", \"marker\": {\"color\": \"#636efa\", \"symbol\": \"circle\"}, \"mode\": \"markers\", \"name\": \"1\", \"orientation\": \"v\", \"showlegend\": true, \"type\": \"scatter\", \"x\": [0.12699908553399183, -0.3704175985993837, 0.01458622636989085, 0.022157659872422804, -0.05350012172821468, -0.08076030192085391, -0.03980349038768406, -0.4395372277259395, -0.20197858618483655, 0.022553243748406965, -0.049682429074352184, -0.43499101673539625, -0.14420473195808634, 0.2943258747078572, -0.13206226903212037, 0.47940804701123463], \"xaxis\": \"x\", \"y\": [0.2726947404446172, 0.38530209081979244, 0.8914636480466311, 1.0312826639023709, 0.400876689261268, 0.8742234268118121, 0.23222440733481953, 0.5035098867135768, 0.6117300487432786, 0.16936325962195375, 0.33689863464202074, 0.2544975948740803, 0.36549187622496926, 0.7474131291851196, 0.24187273242865867, 0.3757701347333449], \"yaxis\": \"y\"}, {\"customdata\": [[\"senior consultant financial services risk emeia financial neu\", \"EY\", \"Heute\", \"05.26.2021\", \"17:00:17\", \"4\"], [\"consultant technology risk consulting services corporat neu\", \"EY\", \"vor 5 Tagen\", \"05.26.2021\", \"17:00:17\", \"4\"], [\"senior consultant technology risk consulting corporate neu\", \"EY\", \"vor 5 Tagen\", \"05.26.2021\", \"17:00:17\", \"4\"], [\"cloud microservices disaggregated fpgas\", \"IBM Research Zurich\", \"vor 14 Tagen\", \"05.26.2021\", \"17:00:17\", \"4\"], [\"serverless cloud fpgas\", \"IBM Research Zurich\", \"vor 19 Tagen\", \"05.26.2021\", \"17:00:17\", \"4\"]], \"hovertemplate\": \"kmeans=%{customdata[5]}<br>pca_x=%{x}<br>pca_y=%{y}<br>titles=%{customdata[0]}<br>companies=%{customdata[1]}<br>date_listed=%{customdata[2]}<br>date_pulled=%{customdata[3]}<br>time_pulled=%{customdata[4]}<extra></extra>\", \"legendgroup\": \"4\", \"marker\": {\"color\": \"#EF553B\", \"symbol\": \"circle\"}, \"mode\": \"markers\", \"name\": \"4\", \"orientation\": \"v\", \"showlegend\": true, \"type\": \"scatter\", \"x\": [-0.2704454979975585, -0.36417343111565703, -0.30725235062426764, -1.158159195860311, -1.2175412756256918], \"xaxis\": \"x\", \"y\": [-0.05590727035137229, 0.009142338211151414, -0.002528946818732128, -0.9974148266491694, -0.8539918083274812], \"yaxis\": \"y\"}, {\"customdata\": [[\"middle office analyst internship\", \"Total\", \"vor 13 Tagen\", \"05.26.2021\", \"17:00:17\", \"2\"], [\"internship data analyst\", \"Tally Weijl\", \"vor 12 Tagen\", \"05.26.2021\", \"17:00:17\", \"2\"], [\"strategy analyst internship\", \"VAY AG\", \"vor 20 Tagen\", \"05.26.2021\", \"17:00:17\", \"2\"], [\"internship credit analyst\", \"Total\", \"vor 26 Tagen\", \"05.26.2021\", \"17:00:17\", \"2\"]], \"hovertemplate\": \"kmeans=%{customdata[5]}<br>pca_x=%{x}<br>pca_y=%{y}<br>titles=%{customdata[0]}<br>companies=%{customdata[1]}<br>date_listed=%{customdata[2]}<br>date_pulled=%{customdata[3]}<br>time_pulled=%{customdata[4]}<extra></extra>\", \"legendgroup\": \"2\", \"marker\": {\"color\": \"#00cc96\", \"symbol\": \"circle\"}, \"mode\": \"markers\", \"name\": \"2\", \"orientation\": \"v\", \"showlegend\": true, \"type\": \"scatter\", \"x\": [0.7853904779857068, 0.9550678736242174, 1.2051427116188198, 1.2541518233288909], \"xaxis\": \"x\", \"y\": [-0.28767469521930145, -0.5365830488360178, -0.33172623926786154, -0.40286075183334474], \"yaxis\": \"y\"}, {\"customdata\": [[\"nesternship sustainability project management intern\", \"Nestle\", \"vor 11 Tagen\", \"05.26.2021\", \"17:00:17\", \"0\"], [\"intern information systems communication technology tem\", \"United Nations\", \"vor 8 Tagen\", \"05.26.2021\", \"17:00:17\", \"0\"], [\"internship - strategic business development switzerland f\", \"Viafintech\", \"vor 12 Tagen\", \"05.26.2021\", \"17:00:17\", \"0\"], [\"internship embedded sw engineering\", \"Sonova\", \"vor 8 Tagen\", \"05.26.2021\", \"17:00:17\", \"0\"], [\"circular economy intern\", \"Lafarge\", \"vor 13 Tagen\", \"05.26.2021\", \"17:00:17\", \"0\"], [\"impact research intern\", \"Yova AG\", \"vor 8 Tagen\", \"05.26.2021\", \"17:00:17\", \"0\"], [\"internship data scientist algorithm development core\", \"greenTEG AG\", \"vor 8 Tagen\", \"05.26.2021\", \"17:00:17\", \"0\"], [\"diversity inclusion consultant intern months\", \"Alvicus AG\", \"vor 8 Tagen\", \"05.26.2021\", \"17:00:17\", \"0\"], [\"data intelligence automation intern richemont europe\", \"Richemont\", \"vor 14 Tagen\", \"05.26.2021\", \"17:00:17\", \"0\"], [\"internship human rights investigation support temporary\", \"United Nations\", \"vor 19 Tagen\", \"05.26.2021\", \"17:00:17\", \"0\"], [\"intern battery technology\", \"HILTI\", \"vor 15 Tagen\", \"05.26.2021\", \"17:00:17\", \"0\"], [\"master internship machine learning pixelation\", \"CSEM SA\", \"vor 19 Tagen\", \"05.26.2021\", \"17:00:17\", \"0\"], [\"intern werkstudent focus sql data pipelin\", \"WinJi\", \"vor 20 Tagen\", \"05.26.2021\", \"17:00:17\", \"0\"], [\"internship risk management\", \"Credit Suisse Campus\", \"vor 14 Tagen\", \"05.26.2021\", \"17:00:17\", \"0\"], [\"nesternship consumer insight trainee\", \"Nestle\", \"vor 20 Tagen\", \"05.26.2021\", \"17:00:17\", \"0\"], [\"intern public information temporary\", \"United Nations\", \"vor 20 Tagen\", \"05.26.2021\", \"17:00:17\", \"0\"], [\"intern software engineering f\", \"AdNovum\", \"vor 19 Tagen\", \"05.26.2021\", \"17:00:17\", \"0\"], [\"intern product management direct fastening\", \"HILTI\", \"vor 19 Tagen\", \"05.26.2021\", \"17:00:17\", \"0\"], [\"content community management field \\\"collaborativ\", \"digitalswitzerland\", \"vor 14 Tagen\", \"05.26.2021\", \"17:00:17\", \"0\"], [\"intern environment affairs temporary\", \"United Nations\", \"vor 15 Tagen\", \"05.26.2021\", \"17:00:17\", \"0\"], [\"systems pharmacology internship\", \"LYO-X GmbH\", \"vor 15 Tagen\", \"05.26.2021\", \"17:00:17\", \"0\"], [\"internship confidential computing\", \"decentriq\", \"vor 17 Tagen\", \"05.26.2021\", \"17:00:17\", \"0\"], [\"internship cash exposure analysis\", \"Axpo\", \"vor 27 Tagen\", \"05.26.2021\", \"17:00:17\", \"0\"], [\"industrial intelligence project manager intern\", \"Richemont\", \"vor 26 Tagen\", \"05.26.2021\", \"17:00:17\", \"0\"]], \"hovertemplate\": \"kmeans=%{customdata[5]}<br>pca_x=%{x}<br>pca_y=%{y}<br>titles=%{customdata[0]}<br>companies=%{customdata[1]}<br>date_listed=%{customdata[2]}<br>date_pulled=%{customdata[3]}<br>time_pulled=%{customdata[4]}<extra></extra>\", \"legendgroup\": \"0\", \"marker\": {\"color\": \"#ab63fa\", \"symbol\": \"circle\"}, \"mode\": \"markers\", \"name\": \"0\", \"orientation\": \"v\", \"showlegend\": true, \"type\": \"scatter\", \"x\": [0.12981291429561256, -0.3108082625962395, 0.09511549592369475, 0.46773943133078105, 0.09174129234247817, 0.4242307325583783, 0.05097840646131913, 0.1877011145584818, -0.4462258278448468, 0.08223080252708513, -0.07498315209896798, -0.06858414492314498, -0.4623625843848549, 0.4301049181690623, -0.11087761845811892, -0.07505168284859137, 0.10686130166389758, -0.2314390064704276, -0.5984176373829908, 0.20051406291415358, 0.43051399502856924, 0.29035575245766937, 0.4741042228471301, 5.23741304555454e-05], \"xaxis\": \"x\", \"y\": [-0.11932933703886482, -0.23943442513584665, -0.153935160472583, -0.1702374339886364, 0.03886686665715382, -0.008296489617140206, -0.2740916869657514, -0.020638879882095743, -0.19121995362898936, -0.2546956136283568, -0.0842370100316519, -0.04258066415210476, -0.1777120167922138, -0.3092613455105506, -0.43384879149362837, -0.1961865091940439, 0.032464372194294815, -0.1360839008495954, -0.44763417869956557, -0.04159107289215139, -0.012016871145344594, -0.7026161735481573, -0.3732881820162654, -0.09968949866810707], \"yaxis\": \"y\"}, {\"customdata\": [[\"junior vmware administrator f\", \"Deutsche B\\u00f6rse\", \"vor 17 Tagen\", \"05.26.2021\", \"17:00:17\", \"3\"]], \"hovertemplate\": \"kmeans=%{customdata[5]}<br>pca_x=%{x}<br>pca_y=%{y}<br>titles=%{customdata[0]}<br>companies=%{customdata[1]}<br>date_listed=%{customdata[2]}<br>date_pulled=%{customdata[3]}<br>time_pulled=%{customdata[4]}<extra></extra>\", \"legendgroup\": \"3\", \"marker\": {\"color\": \"#FFA15A\", \"symbol\": \"circle\"}, \"mode\": \"markers\", \"name\": \"3\", \"orientation\": \"v\", \"showlegend\": true, \"type\": \"scatter\", \"x\": [-0.9785803994316696], \"xaxis\": \"x\", \"y\": [0.18222424180401223], \"yaxis\": \"y\"}],                        {\"height\": 720, \"legend\": {\"title\": {\"text\": \"kmeans\"}, \"tracegroupgap\": 0}, \"template\": {\"data\": {\"bar\": [{\"error_x\": {\"color\": \"#f2f5fa\"}, \"error_y\": {\"color\": \"#f2f5fa\"}, \"marker\": {\"line\": {\"color\": \"rgb(17,17,17)\", \"width\": 0.5}}, \"type\": \"bar\"}], \"barpolar\": [{\"marker\": {\"line\": {\"color\": \"rgb(17,17,17)\", \"width\": 0.5}}, \"type\": \"barpolar\"}], \"carpet\": [{\"aaxis\": {\"endlinecolor\": \"#A2B1C6\", \"gridcolor\": \"#506784\", \"linecolor\": \"#506784\", \"minorgridcolor\": \"#506784\", \"startlinecolor\": \"#A2B1C6\"}, \"baxis\": {\"endlinecolor\": \"#A2B1C6\", \"gridcolor\": \"#506784\", \"linecolor\": \"#506784\", \"minorgridcolor\": \"#506784\", \"startlinecolor\": \"#A2B1C6\"}, \"type\": \"carpet\"}], \"choropleth\": [{\"colorbar\": {\"outlinewidth\": 0, \"ticks\": \"\"}, \"type\": \"choropleth\"}], \"contour\": [{\"colorbar\": {\"outlinewidth\": 0, \"ticks\": \"\"}, \"colorscale\": [[0.0, \"#0d0887\"], [0.1111111111111111, \"#46039f\"], [0.2222222222222222, \"#7201a8\"], [0.3333333333333333, \"#9c179e\"], [0.4444444444444444, \"#bd3786\"], [0.5555555555555556, \"#d8576b\"], [0.6666666666666666, \"#ed7953\"], [0.7777777777777778, \"#fb9f3a\"], [0.8888888888888888, \"#fdca26\"], [1.0, \"#f0f921\"]], \"type\": \"contour\"}], \"contourcarpet\": [{\"colorbar\": {\"outlinewidth\": 0, \"ticks\": \"\"}, \"type\": \"contourcarpet\"}], \"heatmap\": [{\"colorbar\": {\"outlinewidth\": 0, \"ticks\": \"\"}, \"colorscale\": [[0.0, \"#0d0887\"], [0.1111111111111111, \"#46039f\"], [0.2222222222222222, \"#7201a8\"], [0.3333333333333333, \"#9c179e\"], [0.4444444444444444, \"#bd3786\"], [0.5555555555555556, \"#d8576b\"], [0.6666666666666666, \"#ed7953\"], [0.7777777777777778, \"#fb9f3a\"], [0.8888888888888888, \"#fdca26\"], [1.0, \"#f0f921\"]], \"type\": \"heatmap\"}], \"heatmapgl\": [{\"colorbar\": {\"outlinewidth\": 0, \"ticks\": \"\"}, \"colorscale\": [[0.0, \"#0d0887\"], [0.1111111111111111, \"#46039f\"], [0.2222222222222222, \"#7201a8\"], [0.3333333333333333, \"#9c179e\"], [0.4444444444444444, \"#bd3786\"], [0.5555555555555556, \"#d8576b\"], [0.6666666666666666, \"#ed7953\"], [0.7777777777777778, \"#fb9f3a\"], [0.8888888888888888, \"#fdca26\"], [1.0, \"#f0f921\"]], \"type\": \"heatmapgl\"}], \"histogram\": [{\"marker\": {\"colorbar\": {\"outlinewidth\": 0, \"ticks\": \"\"}}, \"type\": \"histogram\"}], \"histogram2d\": [{\"colorbar\": {\"outlinewidth\": 0, \"ticks\": \"\"}, \"colorscale\": [[0.0, \"#0d0887\"], [0.1111111111111111, \"#46039f\"], [0.2222222222222222, \"#7201a8\"], [0.3333333333333333, \"#9c179e\"], [0.4444444444444444, \"#bd3786\"], [0.5555555555555556, \"#d8576b\"], [0.6666666666666666, \"#ed7953\"], [0.7777777777777778, \"#fb9f3a\"], [0.8888888888888888, \"#fdca26\"], [1.0, \"#f0f921\"]], \"type\": \"histogram2d\"}], \"histogram2dcontour\": [{\"colorbar\": {\"outlinewidth\": 0, \"ticks\": \"\"}, \"colorscale\": [[0.0, \"#0d0887\"], [0.1111111111111111, \"#46039f\"], [0.2222222222222222, \"#7201a8\"], [0.3333333333333333, \"#9c179e\"], [0.4444444444444444, \"#bd3786\"], [0.5555555555555556, \"#d8576b\"], [0.6666666666666666, \"#ed7953\"], [0.7777777777777778, \"#fb9f3a\"], [0.8888888888888888, \"#fdca26\"], [1.0, \"#f0f921\"]], \"type\": \"histogram2dcontour\"}], \"mesh3d\": [{\"colorbar\": {\"outlinewidth\": 0, \"ticks\": \"\"}, \"type\": \"mesh3d\"}], \"parcoords\": [{\"line\": {\"colorbar\": {\"outlinewidth\": 0, \"ticks\": \"\"}}, \"type\": \"parcoords\"}], \"pie\": [{\"automargin\": true, \"type\": \"pie\"}], \"scatter\": [{\"marker\": {\"line\": {\"color\": \"#283442\"}}, \"type\": \"scatter\"}], \"scatter3d\": [{\"line\": {\"colorbar\": {\"outlinewidth\": 0, \"ticks\": \"\"}}, \"marker\": {\"colorbar\": {\"outlinewidth\": 0, \"ticks\": \"\"}}, \"type\": \"scatter3d\"}], \"scattercarpet\": [{\"marker\": {\"colorbar\": {\"outlinewidth\": 0, \"ticks\": \"\"}}, \"type\": \"scattercarpet\"}], \"scattergeo\": [{\"marker\": {\"colorbar\": {\"outlinewidth\": 0, \"ticks\": \"\"}}, \"type\": \"scattergeo\"}], \"scattergl\": [{\"marker\": {\"line\": {\"color\": \"#283442\"}}, \"type\": \"scattergl\"}], \"scattermapbox\": [{\"marker\": {\"colorbar\": {\"outlinewidth\": 0, \"ticks\": \"\"}}, \"type\": \"scattermapbox\"}], \"scatterpolar\": [{\"marker\": {\"colorbar\": {\"outlinewidth\": 0, \"ticks\": \"\"}}, \"type\": \"scatterpolar\"}], \"scatterpolargl\": [{\"marker\": {\"colorbar\": {\"outlinewidth\": 0, \"ticks\": \"\"}}, \"type\": \"scatterpolargl\"}], \"scatterternary\": [{\"marker\": {\"colorbar\": {\"outlinewidth\": 0, \"ticks\": \"\"}}, \"type\": \"scatterternary\"}], \"surface\": [{\"colorbar\": {\"outlinewidth\": 0, \"ticks\": \"\"}, \"colorscale\": [[0.0, \"#0d0887\"], [0.1111111111111111, \"#46039f\"], [0.2222222222222222, \"#7201a8\"], [0.3333333333333333, \"#9c179e\"], [0.4444444444444444, \"#bd3786\"], [0.5555555555555556, \"#d8576b\"], [0.6666666666666666, \"#ed7953\"], [0.7777777777777778, \"#fb9f3a\"], [0.8888888888888888, \"#fdca26\"], [1.0, \"#f0f921\"]], \"type\": \"surface\"}], \"table\": [{\"cells\": {\"fill\": {\"color\": \"#506784\"}, \"line\": {\"color\": \"rgb(17,17,17)\"}}, \"header\": {\"fill\": {\"color\": \"#2a3f5f\"}, \"line\": {\"color\": \"rgb(17,17,17)\"}}, \"type\": \"table\"}]}, \"layout\": {\"annotationdefaults\": {\"arrowcolor\": \"#f2f5fa\", \"arrowhead\": 0, \"arrowwidth\": 1}, \"autotypenumbers\": \"strict\", \"coloraxis\": {\"colorbar\": {\"outlinewidth\": 0, \"ticks\": \"\"}}, \"colorscale\": {\"diverging\": [[0, \"#8e0152\"], [0.1, \"#c51b7d\"], [0.2, \"#de77ae\"], [0.3, \"#f1b6da\"], [0.4, \"#fde0ef\"], [0.5, \"#f7f7f7\"], [0.6, \"#e6f5d0\"], [0.7, \"#b8e186\"], [0.8, \"#7fbc41\"], [0.9, \"#4d9221\"], [1, \"#276419\"]], \"sequential\": [[0.0, \"#0d0887\"], [0.1111111111111111, \"#46039f\"], [0.2222222222222222, \"#7201a8\"], [0.3333333333333333, \"#9c179e\"], [0.4444444444444444, \"#bd3786\"], [0.5555555555555556, \"#d8576b\"], [0.6666666666666666, \"#ed7953\"], [0.7777777777777778, \"#fb9f3a\"], [0.8888888888888888, \"#fdca26\"], [1.0, \"#f0f921\"]], \"sequentialminus\": [[0.0, \"#0d0887\"], [0.1111111111111111, \"#46039f\"], [0.2222222222222222, \"#7201a8\"], [0.3333333333333333, \"#9c179e\"], [0.4444444444444444, \"#bd3786\"], [0.5555555555555556, \"#d8576b\"], [0.6666666666666666, \"#ed7953\"], [0.7777777777777778, \"#fb9f3a\"], [0.8888888888888888, \"#fdca26\"], [1.0, \"#f0f921\"]]}, \"colorway\": [\"#636efa\", \"#EF553B\", \"#00cc96\", \"#ab63fa\", \"#FFA15A\", \"#19d3f3\", \"#FF6692\", \"#B6E880\", \"#FF97FF\", \"#FECB52\"], \"font\": {\"color\": \"#f2f5fa\"}, \"geo\": {\"bgcolor\": \"rgb(17,17,17)\", \"lakecolor\": \"rgb(17,17,17)\", \"landcolor\": \"rgb(17,17,17)\", \"showlakes\": true, \"showland\": true, \"subunitcolor\": \"#506784\"}, \"hoverlabel\": {\"align\": \"left\"}, \"hovermode\": \"closest\", \"mapbox\": {\"style\": \"dark\"}, \"paper_bgcolor\": \"rgb(17,17,17)\", \"plot_bgcolor\": \"rgb(17,17,17)\", \"polar\": {\"angularaxis\": {\"gridcolor\": \"#506784\", \"linecolor\": \"#506784\", \"ticks\": \"\"}, \"bgcolor\": \"rgb(17,17,17)\", \"radialaxis\": {\"gridcolor\": \"#506784\", \"linecolor\": \"#506784\", \"ticks\": \"\"}}, \"scene\": {\"xaxis\": {\"backgroundcolor\": \"rgb(17,17,17)\", \"gridcolor\": \"#506784\", \"gridwidth\": 2, \"linecolor\": \"#506784\", \"showbackground\": true, \"ticks\": \"\", \"zerolinecolor\": \"#C8D4E3\"}, \"yaxis\": {\"backgroundcolor\": \"rgb(17,17,17)\", \"gridcolor\": \"#506784\", \"gridwidth\": 2, \"linecolor\": \"#506784\", \"showbackground\": true, \"ticks\": \"\", \"zerolinecolor\": \"#C8D4E3\"}, \"zaxis\": {\"backgroundcolor\": \"rgb(17,17,17)\", \"gridcolor\": \"#506784\", \"gridwidth\": 2, \"linecolor\": \"#506784\", \"showbackground\": true, \"ticks\": \"\", \"zerolinecolor\": \"#C8D4E3\"}}, \"shapedefaults\": {\"line\": {\"color\": \"#f2f5fa\"}}, \"sliderdefaults\": {\"bgcolor\": \"#C8D4E3\", \"bordercolor\": \"rgb(17,17,17)\", \"borderwidth\": 1, \"tickwidth\": 0}, \"ternary\": {\"aaxis\": {\"gridcolor\": \"#506784\", \"linecolor\": \"#506784\", \"ticks\": \"\"}, \"baxis\": {\"gridcolor\": \"#506784\", \"linecolor\": \"#506784\", \"ticks\": \"\"}, \"bgcolor\": \"rgb(17,17,17)\", \"caxis\": {\"gridcolor\": \"#506784\", \"linecolor\": \"#506784\", \"ticks\": \"\"}}, \"title\": {\"x\": 0.05}, \"updatemenudefaults\": {\"bgcolor\": \"#506784\", \"borderwidth\": 0}, \"xaxis\": {\"automargin\": true, \"gridcolor\": \"#283442\", \"linecolor\": \"#506784\", \"ticks\": \"\", \"title\": {\"standoff\": 15}, \"zerolinecolor\": \"#283442\", \"zerolinewidth\": 2}, \"yaxis\": {\"automargin\": true, \"gridcolor\": \"#283442\", \"linecolor\": \"#506784\", \"ticks\": \"\", \"title\": {\"standoff\": 15}, \"zerolinecolor\": \"#283442\", \"zerolinewidth\": 2}}}, \"title\": {\"text\": \"May-26-2021 Vizualize Companies by titles text w word2vec | internships in -data-\"}, \"width\": 960, \"xaxis\": {\"anchor\": \"y\", \"domain\": [0.0, 1.0], \"title\": {\"text\": \"pca_x\"}}, \"yaxis\": {\"anchor\": \"x\", \"domain\": [0.0, 1.0], \"title\": {\"text\": \"pca_y\"}}},                        {\"responsive\": true}                    ).then(function(){\n",
              "                            \n",
              "var gd = document.getElementById('744d0292-e7b1-4d98-8686-bbf5c0289aaa');\n",
              "var x = new MutationObserver(function (mutations, observer) {{\n",
              "        var display = window.getComputedStyle(gd).display;\n",
              "        if (!display || display === 'none') {{\n",
              "            console.log([gd, 'removed!']);\n",
              "            Plotly.purge(gd);\n",
              "            observer.disconnect();\n",
              "        }}\n",
              "}});\n",
              "\n",
              "// Listen for the removal of the full notebook cells\n",
              "var notebookContainer = gd.closest('#notebook-container');\n",
              "if (notebookContainer) {{\n",
              "    x.observe(notebookContainer, {childList: true});\n",
              "}}\n",
              "\n",
              "// Listen for the clearing of the current output cell\n",
              "var outputEl = gd.closest('.output');\n",
              "if (outputEl) {{\n",
              "    x.observe(outputEl, {childList: true});\n",
              "}}\n",
              "\n",
              "                        })                };                            </script>        </div>\n",
              "</body>\n",
              "</html>"
            ]
          },
          "metadata": {
            "tags": []
          }
        },
        {
          "output_type": "stream",
          "text": [
            "plot generated -  2021-05-26 17:00:22.255073\n"
          ],
          "name": "stdout"
        }
      ]
    },
    {
      "cell_type": "markdown",
      "metadata": {
        "id": "hl1s68pygQNa"
      },
      "source": [
        "### query 2 - all jobs in Switzerland for English Speakers\n",
        "\n",
        "*This is the special case where Indeed shows you all CH-English jobs and it doesn't follow standard search query logic / HTML (has its own page)*"
      ]
    },
    {
      "cell_type": "code",
      "metadata": {
        "id": "9abIK_KOgVqW",
        "colab": {
          "base_uri": "https://localhost:8080/",
          "height": 1278
        },
        "outputId": "1d803021-9778-48d3-a067-90057aaad617"
      },
      "source": [
        "jq2 = \"indeed_default\"\n",
        "jt2 = \"all\"\n",
        "# in the case of \"run the special case on Indeed\" query terms don't matter\n",
        "chdf2 = find_CHjobs_from(website=\"indeed_default\", job_query=\"gimme\", \n",
        "                         desired_characs=desired_characs)\n",
        "    \n",
        "jq2 = \"indeed_default\"\n",
        "jt2 = \"all\"\n",
        "\n",
        "q2_processed = indeed_postprocess(chdf2, query_term=jq2, query_jobtype=jt2,\n",
        "                       shorten_links=False, download_excel=False)\n",
        "\n",
        "data_table.DataTable(indeed_datatable(q2_processed), \n",
        "                     include_index=False, num_rows_per_page=20)"
      ],
      "execution_count": 21,
      "outputs": [
        {
          "output_type": "display_data",
          "data": {
            "text/html": [
              "\n",
              "  <style>\n",
              "    pre {\n",
              "        white-space: pre-wrap;\n",
              "    }\n",
              "  </style>\n",
              "  "
            ],
            "text/plain": [
              "<IPython.core.display.HTML object>"
            ]
          },
          "metadata": {
            "tags": []
          }
        },
        {
          "output_type": "stream",
          "text": [
            "50 new job postings retrieved from indeed_default. Stored in May-26-2021_[raw]_scraped_jobs_CH.xls.\n",
            "Starting postprocess -  2021-05-26 17:00:23.037810\n",
            "Count of column 'companies' appearances in search:\n",
            "\n",
            "Clintec                                  3\n",
            "HILTI                                    3\n",
            "ABB                                      3\n",
            "Crypto Finance AG                        2\n",
            "Lonza                                    2\n",
            "Ridgeline Discovery GmbH                 2\n",
            "Deloitte                                 2\n",
            "Johnson & Johnson Family of Companies    2\n",
            "World Health Organization                2\n",
            "UBS                                      2\n",
            "Name: companies, dtype: int64\n"
          ],
          "name": "stdout"
        },
        {
          "output_type": "execute_result",
          "data": {
            "application/vnd.google.colaboratory.module+javascript": "\n      import \"https://ssl.gstatic.com/colaboratory/data_table/a6224c040fa35dcf/data_table.js\";\n\n      window.createDataTable({\n        data: [[\"hr director central europe neu\",\n\"Louis Vuitton\",\n\"Gerade ver\\u00f6ffentlicht\",\n\"not_created\",\n\"05.26.2021\",\n\"17:00:23\",\n\"poste unique opening experienced innovat..\"],\n [\"common services assistant neu\",\n\"Canadian Embassy\",\n\"Gerade ver\\u00f6ffentlicht\",\n\"not_created\",\n\"05.26.2021\",\n\"17:00:23\",\n\"common services program responsible ensu..\"],\n [\"head financial crime compliance advisory credit suisse neu\",\n\"Credit Suisse\",\n\"Gerade ver\\u00f6ffentlicht\",\n\"not_created\",\n\"05.26.2021\",\n\"17:00:23\",\n\"field responsibility cover demanding adv..\"],\n [\"customer service representative switzerland lucerne neu\",\n\"Clintec\",\n\"Gerade ver\\u00f6ffentlicht\",\n\"not_created\",\n\"05.26.2021\",\n\"17:00:23\",\n\"lucerne switzerland looking become value..\"],\n [\"contract administrative assistant business operations neu\",\n\"Global Blood Therapeutics, Inc. (GBT)\",\n\"Gerade ver\\u00f6ffentlicht\",\n\"not_created\",\n\"05.26.2021\",\n\"17:00:23\",\n\"contractor administrative assistant busi..\"],\n [\"think tank societal researcher temporary neu\",\n\"UBS\",\n\"Gerade ver\\u00f6ffentlicht\",\n\"not_created\",\n\"05.26.2021\",\n\"17:00:23\",\n\"switzerland zurich information technolog..\"],\n [\"translation documentation specialist neu\",\n\"Lonza\",\n\"Gerade ver\\u00f6ffentlicht\",\n\"not_created\",\n\"05.26.2021\",\n\"17:00:23\",\n\"randstad switzerland ag looking speciali..\"],\n [\"compliance officer neu\",\n\"Crypto Finance AG\",\n\"Gerade ver\\u00f6ffentlicht\",\n\"not_created\",\n\"05.26.2021\",\n\"17:00:23\",\n\"beschreibung crypto finance group crypto..\"],\n [\"learning innovation designer neu\",\n\"IMD\",\n\"Gerade ver\\u00f6ffentlicht\",\n\"not_created\",\n\"05.26.2021\",\n\"17:00:23\",\n\"job' mission ensure imd scalable world c..\"],\n [\"specialist quality assurance pharmaceutical environment neu\",\n\"Clintec\",\n\"Gerade ver\\u00f6ffentlicht\",\n\"not_created\",\n\"05.26.2021\",\n\"17:00:23\",\n\"temporary contract end lucerne switzerla..\"],\n [\"hr business partner recruiter neu\",\n\"Sulzer\",\n\"Gerade ver\\u00f6ffentlicht\",\n\"not_created\",\n\"05.26.2021\",\n\"17:00:23\",\n\"hr business partner recruiter full time ..\"],\n [\"corporate website social media manager f x neu\",\n\"HILTI\",\n\"Gerade ver\\u00f6ffentlicht\",\n\"not_created\",\n\"05.26.2021\",\n\"17:00:23\",\n\"corporate website social media manager r..\"],\n [\"strategic buyer neu\",\n\"Besi Switzerland\",\n\"Gerade ver\\u00f6ffentlicht\",\n\"not_created\",\n\"05.26.2021\",\n\"17:00:23\",\n\"besi leading supplier semiconductor asse..\"],\n [\"external corporate communication manager f x neu\",\n\"HILTI\",\n\"Gerade ver\\u00f6ffentlicht\",\n\"not_created\",\n\"05.26.2021\",\n\"17:00:23\",\n\"role ambition strengthen hilti' visibili..\"],\n [\"working student marketing communications neu\",\n\"Siemens Schweiz AG, Smart Infrastructure, Global H...\",\n\"Gerade ver\\u00f6ffentlicht\",\n\"not_created\",\n\"05.26.2021\",\n\"17:00:23\",\n\"make real matters siemens smart infrastr..\"],\n [\"think tank designer temporary neu\",\n\"UBS\",\n\"Gerade ver\\u00f6ffentlicht\",\n\"not_created\",\n\"05.26.2021\",\n\"17:00:23\",\n\"switzerland zurich information technolog..\"],\n [\"research associate biology immunology neu\",\n\"Ridgeline Discovery GmbH\",\n\"Gerade ver\\u00f6ffentlicht\",\n\"not_created\",\n\"05.26.2021\",\n\"17:00:23\",\n\"matterhorn biosciences looking research ..\"],\n [\"member relations management neu\",\n\"digitalswitzerland\",\n\"Gerade ver\\u00f6ffentlicht\",\n\"not_created\",\n\"05.26.2021\",\n\"17:00:23\",\n\"digitalswitzerland swiss wide cross sect..\"],\n [\"client service manager neu\",\n\"Lombard Odier & Cie\",\n\"Gerade ver\\u00f6ffentlicht\",\n\"not_created\",\n\"05.26.2021\",\n\"17:00:23\",\n\"career lombard odier group something pro..\"],\n [\"risk officer neu\",\n\"Crypto Finance AG\",\n\"Gerade ver\\u00f6ffentlicht\",\n\"not_created\",\n\"05.26.2021\",\n\"17:00:23\",\n\"beschreibung crypto finance group crypto..\"],\n [\"consultant reducing harmful use alcohol neu\",\n\"World Health Organization\",\n\"Gerade ver\\u00f6ffentlicht\",\n\"not_created\",\n\"05.26.2021\",\n\"17:00:23\",\n\"contractual arrangement external consult..\"],\n [\"service sales engineer neu\",\n\"ABB\",\n\"Gerade ver\\u00f6ffentlicht\",\n\"not_created\",\n\"05.26.2021\",\n\"17:00:23\",\n\"basic info location lausanne vaud switze..\"],\n [\"sales specialist - neu\",\n\"ABB\",\n\"Gerade ver\\u00f6ffentlicht\",\n\"not_created\",\n\"05.26.2021\",\n\"17:00:23\",\n\"basic info location baden aargau switzer..\"],\n [\"project officer neu\",\n\"World Health Organization\",\n\"Gerade ver\\u00f6ffentlicht\",\n\"not_created\",\n\"05.26.2021\",\n\"17:00:23\",\n\"grade p3 contractual arrangement tempora..\"],\n [\"internal corporate communication manager f x neu\",\n\"HILTI\",\n\"Gerade ver\\u00f6ffentlicht\",\n\"not_created\",\n\"05.26.2021\",\n\"17:00:23\",\n\"looking internal communication manager p..\"],\n [\"manager group quality neu\",\n\"Emmi\",\n\"Gerade ver\\u00f6ffentlicht\",\n\"not_created\",\n\"05.26.2021\",\n\"17:00:23\",\n\"manager group quality emmen referenznumm..\"],\n [\"senior research associate crispr cell biology neu\",\n\"Ridgeline Discovery GmbH\",\n\"Gerade ver\\u00f6ffentlicht\",\n\"not_created\",\n\"05.26.2021\",\n\"17:00:23\",\n\"matterhorn biosciences looking senior re..\"],\n [\"senior manager logistics distribution neu\",\n\"Proclinical\",\n\"Gerade ver\\u00f6ffentlicht\",\n\"not_created\",\n\"05.26.2021\",\n\"17:00:23\",\n\"large biotech switzerland looking senior..\"],\n [\"data manager neu\",\n\"SIB Swiss Institute of Bioinformatics\",\n\"Gerade ver\\u00f6ffentlicht\",\n\"not_created\",\n\"05.26.2021\",\n\"17:00:23\",\n\"sib swiss institute bioinformatics inter..\"],\n [\"product owner psd2 neu\",\n\"Deloitte\",\n\"Gerade ver\\u00f6ffentlicht\",\n\"not_created\",\n\"05.26.2021\",\n\"17:00:23\",\n\"team payment team dynamic team software ..\"],\n [\"senior financial analyst neu\",\n\"Johnson & Johnson Family of Companies\",\n\"Gerade ver\\u00f6ffentlicht\",\n\"not_created\",\n\"05.26.2021\",\n\"17:00:23\",\n\"senior financial analyst - eu mdr caring..\"],\n [\"head consumer health commercial quality emea neu\",\n\"Johnson & Johnson Family of Companies\",\n\"Gerade ver\\u00f6ffentlicht\",\n\"not_created\",\n\"05.26.2021\",\n\"17:00:23\",\n\"position provides leadership oversight s..\"],\n [\"senior legal consultant counterterrorism sanctions neu\",\n\"International Federation of Red Cross and Red Cres...\",\n\"Gerade ver\\u00f6ffentlicht\",\n\"not_created\",\n\"05.26.2021\",\n\"17:00:23\",\n\"international federation red cross red c..\"],\n [\"senior program manager small molecules neu\",\n\"Lonza\",\n\"Gerade ver\\u00f6ffentlicht\",\n\"not_created\",\n\"05.26.2021\",\n\"17:00:23\",\n\"today lonza global leader life sciences ..\"],\n [\"client management private banking uhnwi greece cyprus neu\",\n\"Credit Suisse Campus\",\n\"Gerade ver\\u00f6ffentlicht\",\n\"not_created\",\n\"05.26.2021\",\n\"17:00:23\",\n\"career start program offers ideal platfo..\"],\n [\"software engineer neu\",\n\"Kudelski SA\",\n\"Gerade ver\\u00f6ffentlicht\",\n\"not_created\",\n\"05.26.2021\",\n\"17:00:23\",\n\"stimulating motivating challenging kudel..\"],\n [\"software engineer backend neu\",\n\"Deloitte\",\n\"Gerade ver\\u00f6ffentlicht\",\n\"not_created\",\n\"05.26.2021\",\n\"17:00:23\",\n\"cto division deliver highly scalable per..\"],\n [\"senior product manager services w neu\",\n\"UPC Schweiz GmbH\",\n\"Gerade ver\\u00f6ffentlicht\",\n\"not_created\",\n\"05.26.2021\",\n\"17:00:23\",\n\"thanks combination switzerland leading g..\"],\n [\"project manager integration specialist w neu\",\n\"AFRY\",\n\"Gerade ver\\u00f6ffentlicht\",\n\"not_created\",\n\"05.26.2021\",\n\"17:00:23\",\n\"project manager integration specialist w..\"],\n [\"senior director - global commercial cell gene therapy neu\",\n\"Novartis\",\n\"Gerade ver\\u00f6ffentlicht\",\n\"not_created\",\n\"05.26.2021\",\n\"17:00:23\",\n\"' number patients around world delivered..\"],\n [\"supply chain specialist ii - specialist product life cycle neu\",\n\"Clintec\",\n\"Gerade ver\\u00f6ffentlicht\",\n\"not_created\",\n\"05.26.2021\",\n\"17:00:23\",\n\"looking become valued member award winni..\"],\n [\"manager finance transformation trade industry consultin neu\",\n\"PwC\",\n\"Gerade ver\\u00f6ffentlicht\",\n\"not_created\",\n\"05.26.2021\",\n\"17:00:23\",\n\"line service advisory industry sector ap..\"],\n [\"global erp program manager management temporary fo neu\",\n\"ABB\",\n\"Gerade ver\\u00f6ffentlicht\",\n\"not_created\",\n\"05.26.2021\",\n\"17:00:23\",\n\"basic info location baden aargau switzer..\"],\n [\"junior senior r engineer wireless evaluation system neu\",\n\"Schmid & Partner Engineering\",\n\"Gerade ver\\u00f6ffentlicht\",\n\"not_created\",\n\"05.26.2021\",\n\"17:00:23\",\n\"participation research projects wireless..\"],\n [\"part time nanny housekeeper start august neu\",\n\"Good-People\",\n\"Gerade ver\\u00f6ffentlicht\",\n\"not_created\",\n\"05.26.2021\",\n\"17:00:23\",\n\"english french speaking family looking e..\"],\n [\"legal data protection officer dpo neu\",\n\"Yokoy Group AG\",\n\"Gerade ver\\u00f6ffentlicht\",\n\"not_created\",\n\"05.26.2021\",\n\"17:00:23\",\n\"yokoy swiss fintech company leverages ar..\"],\n [\"nanny part time months old baby boy neu\",\n\"Good-People\",\n\"Gerade ver\\u00f6ffentlicht\",\n\"not_created\",\n\"05.26.2021\",\n\"17:00:23\",\n\"dutch american family living central gen..\"],\n [\"sr backend engineer ruby neu\",\n\"Yova AG\",\n\"Gerade ver\\u00f6ffentlicht\",\n\"not_created\",\n\"05.26.2021\",\n\"17:00:23\",\n\"yova leading digital platform investing ..\"],\n [\"senior legal consultant counterterrorism sanctions neu\",\n\"IFRC\",\n\"Gerade ver\\u00f6ffentlicht\",\n\"not_created\",\n\"05.26.2021\",\n\"17:00:23\",\n\"job purpose provide legal services count..\"],\n [\"chief marketing office cmo neu\",\n\"Liiva\",\n\"Gerade ver\\u00f6ffentlicht\",\n\"not_created\",\n\"05.26.2021\",\n\"17:00:23\",\n\"liiva innovative new swiss proptech vent..\"]],\n        columns: [[\"string\", \"titles\"], [\"string\", \"companies\"], [\"string\", \"date_listed\"], [\"string\", \"short_link\"], [\"string\", \"date_pulled\"], [\"string\", \"time_pulled\"], [\"string\", \"summary_short\"]],\n        columnOptions: [],\n        rowsPerPage: 20,\n        helpUrl: \"https://colab.research.google.com/notebooks/data_table.ipynb\",\n        suppressOutputScrolling: true,\n        minimumWidth: undefined,\n      });\n    ",
            "text/plain": [
              "<google.colab.data_table.DataTable object>"
            ],
            "text/html": [
              "<div>\n",
              "<style scoped>\n",
              "    .dataframe tbody tr th:only-of-type {\n",
              "        vertical-align: middle;\n",
              "    }\n",
              "\n",
              "    .dataframe tbody tr th {\n",
              "        vertical-align: top;\n",
              "    }\n",
              "\n",
              "    .dataframe thead th {\n",
              "        text-align: right;\n",
              "    }\n",
              "</style>\n",
              "<table border=\"1\" class=\"dataframe\">\n",
              "  <thead>\n",
              "    <tr style=\"text-align: right;\">\n",
              "      <th></th>\n",
              "      <th>titles</th>\n",
              "      <th>companies</th>\n",
              "      <th>date_listed</th>\n",
              "      <th>short_link</th>\n",
              "      <th>date_pulled</th>\n",
              "      <th>time_pulled</th>\n",
              "      <th>summary_short</th>\n",
              "    </tr>\n",
              "  </thead>\n",
              "  <tbody>\n",
              "    <tr>\n",
              "      <th>0</th>\n",
              "      <td>hr director central europe neu</td>\n",
              "      <td>Louis Vuitton</td>\n",
              "      <td>Gerade veröffentlicht</td>\n",
              "      <td>not_created</td>\n",
              "      <td>05.26.2021</td>\n",
              "      <td>17:00:23</td>\n",
              "      <td>poste unique opening experienced innovat..</td>\n",
              "    </tr>\n",
              "    <tr>\n",
              "      <th>1</th>\n",
              "      <td>common services assistant neu</td>\n",
              "      <td>Canadian Embassy</td>\n",
              "      <td>Gerade veröffentlicht</td>\n",
              "      <td>not_created</td>\n",
              "      <td>05.26.2021</td>\n",
              "      <td>17:00:23</td>\n",
              "      <td>common services program responsible ensu..</td>\n",
              "    </tr>\n",
              "    <tr>\n",
              "      <th>2</th>\n",
              "      <td>head financial crime compliance advisory credi...</td>\n",
              "      <td>Credit Suisse</td>\n",
              "      <td>Gerade veröffentlicht</td>\n",
              "      <td>not_created</td>\n",
              "      <td>05.26.2021</td>\n",
              "      <td>17:00:23</td>\n",
              "      <td>field responsibility cover demanding adv..</td>\n",
              "    </tr>\n",
              "    <tr>\n",
              "      <th>3</th>\n",
              "      <td>customer service representative switzerland lu...</td>\n",
              "      <td>Clintec</td>\n",
              "      <td>Gerade veröffentlicht</td>\n",
              "      <td>not_created</td>\n",
              "      <td>05.26.2021</td>\n",
              "      <td>17:00:23</td>\n",
              "      <td>lucerne switzerland looking become value..</td>\n",
              "    </tr>\n",
              "    <tr>\n",
              "      <th>4</th>\n",
              "      <td>contract administrative assistant business ope...</td>\n",
              "      <td>Global Blood Therapeutics, Inc. (GBT)</td>\n",
              "      <td>Gerade veröffentlicht</td>\n",
              "      <td>not_created</td>\n",
              "      <td>05.26.2021</td>\n",
              "      <td>17:00:23</td>\n",
              "      <td>contractor administrative assistant busi..</td>\n",
              "    </tr>\n",
              "    <tr>\n",
              "      <th>5</th>\n",
              "      <td>think tank societal researcher temporary neu</td>\n",
              "      <td>UBS</td>\n",
              "      <td>Gerade veröffentlicht</td>\n",
              "      <td>not_created</td>\n",
              "      <td>05.26.2021</td>\n",
              "      <td>17:00:23</td>\n",
              "      <td>switzerland zurich information technolog..</td>\n",
              "    </tr>\n",
              "    <tr>\n",
              "      <th>6</th>\n",
              "      <td>translation documentation specialist neu</td>\n",
              "      <td>Lonza</td>\n",
              "      <td>Gerade veröffentlicht</td>\n",
              "      <td>not_created</td>\n",
              "      <td>05.26.2021</td>\n",
              "      <td>17:00:23</td>\n",
              "      <td>randstad switzerland ag looking speciali..</td>\n",
              "    </tr>\n",
              "    <tr>\n",
              "      <th>7</th>\n",
              "      <td>compliance officer neu</td>\n",
              "      <td>Crypto Finance AG</td>\n",
              "      <td>Gerade veröffentlicht</td>\n",
              "      <td>not_created</td>\n",
              "      <td>05.26.2021</td>\n",
              "      <td>17:00:23</td>\n",
              "      <td>beschreibung crypto finance group crypto..</td>\n",
              "    </tr>\n",
              "    <tr>\n",
              "      <th>8</th>\n",
              "      <td>learning innovation designer neu</td>\n",
              "      <td>IMD</td>\n",
              "      <td>Gerade veröffentlicht</td>\n",
              "      <td>not_created</td>\n",
              "      <td>05.26.2021</td>\n",
              "      <td>17:00:23</td>\n",
              "      <td>job' mission ensure imd scalable world c..</td>\n",
              "    </tr>\n",
              "    <tr>\n",
              "      <th>9</th>\n",
              "      <td>specialist quality assurance pharmaceutical en...</td>\n",
              "      <td>Clintec</td>\n",
              "      <td>Gerade veröffentlicht</td>\n",
              "      <td>not_created</td>\n",
              "      <td>05.26.2021</td>\n",
              "      <td>17:00:23</td>\n",
              "      <td>temporary contract end lucerne switzerla..</td>\n",
              "    </tr>\n",
              "    <tr>\n",
              "      <th>10</th>\n",
              "      <td>hr business partner recruiter neu</td>\n",
              "      <td>Sulzer</td>\n",
              "      <td>Gerade veröffentlicht</td>\n",
              "      <td>not_created</td>\n",
              "      <td>05.26.2021</td>\n",
              "      <td>17:00:23</td>\n",
              "      <td>hr business partner recruiter full time ..</td>\n",
              "    </tr>\n",
              "    <tr>\n",
              "      <th>11</th>\n",
              "      <td>corporate website social media manager f x neu</td>\n",
              "      <td>HILTI</td>\n",
              "      <td>Gerade veröffentlicht</td>\n",
              "      <td>not_created</td>\n",
              "      <td>05.26.2021</td>\n",
              "      <td>17:00:23</td>\n",
              "      <td>corporate website social media manager r..</td>\n",
              "    </tr>\n",
              "    <tr>\n",
              "      <th>12</th>\n",
              "      <td>strategic buyer neu</td>\n",
              "      <td>Besi Switzerland</td>\n",
              "      <td>Gerade veröffentlicht</td>\n",
              "      <td>not_created</td>\n",
              "      <td>05.26.2021</td>\n",
              "      <td>17:00:23</td>\n",
              "      <td>besi leading supplier semiconductor asse..</td>\n",
              "    </tr>\n",
              "    <tr>\n",
              "      <th>13</th>\n",
              "      <td>external corporate communication manager f x neu</td>\n",
              "      <td>HILTI</td>\n",
              "      <td>Gerade veröffentlicht</td>\n",
              "      <td>not_created</td>\n",
              "      <td>05.26.2021</td>\n",
              "      <td>17:00:23</td>\n",
              "      <td>role ambition strengthen hilti' visibili..</td>\n",
              "    </tr>\n",
              "    <tr>\n",
              "      <th>14</th>\n",
              "      <td>working student marketing communications neu</td>\n",
              "      <td>Siemens Schweiz AG, Smart Infrastructure, Glob...</td>\n",
              "      <td>Gerade veröffentlicht</td>\n",
              "      <td>not_created</td>\n",
              "      <td>05.26.2021</td>\n",
              "      <td>17:00:23</td>\n",
              "      <td>make real matters siemens smart infrastr..</td>\n",
              "    </tr>\n",
              "    <tr>\n",
              "      <th>15</th>\n",
              "      <td>think tank designer temporary neu</td>\n",
              "      <td>UBS</td>\n",
              "      <td>Gerade veröffentlicht</td>\n",
              "      <td>not_created</td>\n",
              "      <td>05.26.2021</td>\n",
              "      <td>17:00:23</td>\n",
              "      <td>switzerland zurich information technolog..</td>\n",
              "    </tr>\n",
              "    <tr>\n",
              "      <th>16</th>\n",
              "      <td>research associate biology immunology neu</td>\n",
              "      <td>Ridgeline Discovery GmbH</td>\n",
              "      <td>Gerade veröffentlicht</td>\n",
              "      <td>not_created</td>\n",
              "      <td>05.26.2021</td>\n",
              "      <td>17:00:23</td>\n",
              "      <td>matterhorn biosciences looking research ..</td>\n",
              "    </tr>\n",
              "    <tr>\n",
              "      <th>17</th>\n",
              "      <td>member relations management neu</td>\n",
              "      <td>digitalswitzerland</td>\n",
              "      <td>Gerade veröffentlicht</td>\n",
              "      <td>not_created</td>\n",
              "      <td>05.26.2021</td>\n",
              "      <td>17:00:23</td>\n",
              "      <td>digitalswitzerland swiss wide cross sect..</td>\n",
              "    </tr>\n",
              "    <tr>\n",
              "      <th>18</th>\n",
              "      <td>client service manager neu</td>\n",
              "      <td>Lombard Odier &amp; Cie</td>\n",
              "      <td>Gerade veröffentlicht</td>\n",
              "      <td>not_created</td>\n",
              "      <td>05.26.2021</td>\n",
              "      <td>17:00:23</td>\n",
              "      <td>career lombard odier group something pro..</td>\n",
              "    </tr>\n",
              "    <tr>\n",
              "      <th>19</th>\n",
              "      <td>risk officer neu</td>\n",
              "      <td>Crypto Finance AG</td>\n",
              "      <td>Gerade veröffentlicht</td>\n",
              "      <td>not_created</td>\n",
              "      <td>05.26.2021</td>\n",
              "      <td>17:00:23</td>\n",
              "      <td>beschreibung crypto finance group crypto..</td>\n",
              "    </tr>\n",
              "    <tr>\n",
              "      <th>20</th>\n",
              "      <td>consultant reducing harmful use alcohol neu</td>\n",
              "      <td>World Health Organization</td>\n",
              "      <td>Gerade veröffentlicht</td>\n",
              "      <td>not_created</td>\n",
              "      <td>05.26.2021</td>\n",
              "      <td>17:00:23</td>\n",
              "      <td>contractual arrangement external consult..</td>\n",
              "    </tr>\n",
              "    <tr>\n",
              "      <th>21</th>\n",
              "      <td>service sales engineer neu</td>\n",
              "      <td>ABB</td>\n",
              "      <td>Gerade veröffentlicht</td>\n",
              "      <td>not_created</td>\n",
              "      <td>05.26.2021</td>\n",
              "      <td>17:00:23</td>\n",
              "      <td>basic info location lausanne vaud switze..</td>\n",
              "    </tr>\n",
              "    <tr>\n",
              "      <th>22</th>\n",
              "      <td>sales specialist - neu</td>\n",
              "      <td>ABB</td>\n",
              "      <td>Gerade veröffentlicht</td>\n",
              "      <td>not_created</td>\n",
              "      <td>05.26.2021</td>\n",
              "      <td>17:00:23</td>\n",
              "      <td>basic info location baden aargau switzer..</td>\n",
              "    </tr>\n",
              "    <tr>\n",
              "      <th>23</th>\n",
              "      <td>project officer neu</td>\n",
              "      <td>World Health Organization</td>\n",
              "      <td>Gerade veröffentlicht</td>\n",
              "      <td>not_created</td>\n",
              "      <td>05.26.2021</td>\n",
              "      <td>17:00:23</td>\n",
              "      <td>grade p3 contractual arrangement tempora..</td>\n",
              "    </tr>\n",
              "    <tr>\n",
              "      <th>24</th>\n",
              "      <td>internal corporate communication manager f x neu</td>\n",
              "      <td>HILTI</td>\n",
              "      <td>Gerade veröffentlicht</td>\n",
              "      <td>not_created</td>\n",
              "      <td>05.26.2021</td>\n",
              "      <td>17:00:23</td>\n",
              "      <td>looking internal communication manager p..</td>\n",
              "    </tr>\n",
              "    <tr>\n",
              "      <th>25</th>\n",
              "      <td>manager group quality neu</td>\n",
              "      <td>Emmi</td>\n",
              "      <td>Gerade veröffentlicht</td>\n",
              "      <td>not_created</td>\n",
              "      <td>05.26.2021</td>\n",
              "      <td>17:00:23</td>\n",
              "      <td>manager group quality emmen referenznumm..</td>\n",
              "    </tr>\n",
              "    <tr>\n",
              "      <th>26</th>\n",
              "      <td>senior research associate crispr cell biology neu</td>\n",
              "      <td>Ridgeline Discovery GmbH</td>\n",
              "      <td>Gerade veröffentlicht</td>\n",
              "      <td>not_created</td>\n",
              "      <td>05.26.2021</td>\n",
              "      <td>17:00:23</td>\n",
              "      <td>matterhorn biosciences looking senior re..</td>\n",
              "    </tr>\n",
              "    <tr>\n",
              "      <th>27</th>\n",
              "      <td>senior manager logistics distribution neu</td>\n",
              "      <td>Proclinical</td>\n",
              "      <td>Gerade veröffentlicht</td>\n",
              "      <td>not_created</td>\n",
              "      <td>05.26.2021</td>\n",
              "      <td>17:00:23</td>\n",
              "      <td>large biotech switzerland looking senior..</td>\n",
              "    </tr>\n",
              "    <tr>\n",
              "      <th>28</th>\n",
              "      <td>data manager neu</td>\n",
              "      <td>SIB Swiss Institute of Bioinformatics</td>\n",
              "      <td>Gerade veröffentlicht</td>\n",
              "      <td>not_created</td>\n",
              "      <td>05.26.2021</td>\n",
              "      <td>17:00:23</td>\n",
              "      <td>sib swiss institute bioinformatics inter..</td>\n",
              "    </tr>\n",
              "    <tr>\n",
              "      <th>29</th>\n",
              "      <td>product owner psd2 neu</td>\n",
              "      <td>Deloitte</td>\n",
              "      <td>Gerade veröffentlicht</td>\n",
              "      <td>not_created</td>\n",
              "      <td>05.26.2021</td>\n",
              "      <td>17:00:23</td>\n",
              "      <td>team payment team dynamic team software ..</td>\n",
              "    </tr>\n",
              "    <tr>\n",
              "      <th>30</th>\n",
              "      <td>senior financial analyst neu</td>\n",
              "      <td>Johnson &amp; Johnson Family of Companies</td>\n",
              "      <td>Gerade veröffentlicht</td>\n",
              "      <td>not_created</td>\n",
              "      <td>05.26.2021</td>\n",
              "      <td>17:00:23</td>\n",
              "      <td>senior financial analyst - eu mdr caring..</td>\n",
              "    </tr>\n",
              "    <tr>\n",
              "      <th>31</th>\n",
              "      <td>head consumer health commercial quality emea neu</td>\n",
              "      <td>Johnson &amp; Johnson Family of Companies</td>\n",
              "      <td>Gerade veröffentlicht</td>\n",
              "      <td>not_created</td>\n",
              "      <td>05.26.2021</td>\n",
              "      <td>17:00:23</td>\n",
              "      <td>position provides leadership oversight s..</td>\n",
              "    </tr>\n",
              "    <tr>\n",
              "      <th>32</th>\n",
              "      <td>senior legal consultant counterterrorism sanct...</td>\n",
              "      <td>International Federation of Red Cross and Red ...</td>\n",
              "      <td>Gerade veröffentlicht</td>\n",
              "      <td>not_created</td>\n",
              "      <td>05.26.2021</td>\n",
              "      <td>17:00:23</td>\n",
              "      <td>international federation red cross red c..</td>\n",
              "    </tr>\n",
              "    <tr>\n",
              "      <th>33</th>\n",
              "      <td>senior program manager small molecules neu</td>\n",
              "      <td>Lonza</td>\n",
              "      <td>Gerade veröffentlicht</td>\n",
              "      <td>not_created</td>\n",
              "      <td>05.26.2021</td>\n",
              "      <td>17:00:23</td>\n",
              "      <td>today lonza global leader life sciences ..</td>\n",
              "    </tr>\n",
              "    <tr>\n",
              "      <th>34</th>\n",
              "      <td>client management private banking uhnwi greece...</td>\n",
              "      <td>Credit Suisse Campus</td>\n",
              "      <td>Gerade veröffentlicht</td>\n",
              "      <td>not_created</td>\n",
              "      <td>05.26.2021</td>\n",
              "      <td>17:00:23</td>\n",
              "      <td>career start program offers ideal platfo..</td>\n",
              "    </tr>\n",
              "    <tr>\n",
              "      <th>35</th>\n",
              "      <td>software engineer neu</td>\n",
              "      <td>Kudelski SA</td>\n",
              "      <td>Gerade veröffentlicht</td>\n",
              "      <td>not_created</td>\n",
              "      <td>05.26.2021</td>\n",
              "      <td>17:00:23</td>\n",
              "      <td>stimulating motivating challenging kudel..</td>\n",
              "    </tr>\n",
              "    <tr>\n",
              "      <th>36</th>\n",
              "      <td>software engineer backend neu</td>\n",
              "      <td>Deloitte</td>\n",
              "      <td>Gerade veröffentlicht</td>\n",
              "      <td>not_created</td>\n",
              "      <td>05.26.2021</td>\n",
              "      <td>17:00:23</td>\n",
              "      <td>cto division deliver highly scalable per..</td>\n",
              "    </tr>\n",
              "    <tr>\n",
              "      <th>37</th>\n",
              "      <td>senior product manager services w neu</td>\n",
              "      <td>UPC Schweiz GmbH</td>\n",
              "      <td>Gerade veröffentlicht</td>\n",
              "      <td>not_created</td>\n",
              "      <td>05.26.2021</td>\n",
              "      <td>17:00:23</td>\n",
              "      <td>thanks combination switzerland leading g..</td>\n",
              "    </tr>\n",
              "    <tr>\n",
              "      <th>38</th>\n",
              "      <td>project manager integration specialist w neu</td>\n",
              "      <td>AFRY</td>\n",
              "      <td>Gerade veröffentlicht</td>\n",
              "      <td>not_created</td>\n",
              "      <td>05.26.2021</td>\n",
              "      <td>17:00:23</td>\n",
              "      <td>project manager integration specialist w..</td>\n",
              "    </tr>\n",
              "    <tr>\n",
              "      <th>39</th>\n",
              "      <td>senior director - global commercial cell gene ...</td>\n",
              "      <td>Novartis</td>\n",
              "      <td>Gerade veröffentlicht</td>\n",
              "      <td>not_created</td>\n",
              "      <td>05.26.2021</td>\n",
              "      <td>17:00:23</td>\n",
              "      <td>' number patients around world delivered..</td>\n",
              "    </tr>\n",
              "    <tr>\n",
              "      <th>40</th>\n",
              "      <td>supply chain specialist ii - specialist produc...</td>\n",
              "      <td>Clintec</td>\n",
              "      <td>Gerade veröffentlicht</td>\n",
              "      <td>not_created</td>\n",
              "      <td>05.26.2021</td>\n",
              "      <td>17:00:23</td>\n",
              "      <td>looking become valued member award winni..</td>\n",
              "    </tr>\n",
              "    <tr>\n",
              "      <th>41</th>\n",
              "      <td>manager finance transformation trade industry ...</td>\n",
              "      <td>PwC</td>\n",
              "      <td>Gerade veröffentlicht</td>\n",
              "      <td>not_created</td>\n",
              "      <td>05.26.2021</td>\n",
              "      <td>17:00:23</td>\n",
              "      <td>line service advisory industry sector ap..</td>\n",
              "    </tr>\n",
              "    <tr>\n",
              "      <th>42</th>\n",
              "      <td>global erp program manager management temporar...</td>\n",
              "      <td>ABB</td>\n",
              "      <td>Gerade veröffentlicht</td>\n",
              "      <td>not_created</td>\n",
              "      <td>05.26.2021</td>\n",
              "      <td>17:00:23</td>\n",
              "      <td>basic info location baden aargau switzer..</td>\n",
              "    </tr>\n",
              "    <tr>\n",
              "      <th>43</th>\n",
              "      <td>junior senior r engineer wireless evaluation s...</td>\n",
              "      <td>Schmid &amp; Partner Engineering</td>\n",
              "      <td>Gerade veröffentlicht</td>\n",
              "      <td>not_created</td>\n",
              "      <td>05.26.2021</td>\n",
              "      <td>17:00:23</td>\n",
              "      <td>participation research projects wireless..</td>\n",
              "    </tr>\n",
              "    <tr>\n",
              "      <th>44</th>\n",
              "      <td>part time nanny housekeeper start august neu</td>\n",
              "      <td>Good-People</td>\n",
              "      <td>Gerade veröffentlicht</td>\n",
              "      <td>not_created</td>\n",
              "      <td>05.26.2021</td>\n",
              "      <td>17:00:23</td>\n",
              "      <td>english french speaking family looking e..</td>\n",
              "    </tr>\n",
              "    <tr>\n",
              "      <th>45</th>\n",
              "      <td>legal data protection officer dpo neu</td>\n",
              "      <td>Yokoy Group AG</td>\n",
              "      <td>Gerade veröffentlicht</td>\n",
              "      <td>not_created</td>\n",
              "      <td>05.26.2021</td>\n",
              "      <td>17:00:23</td>\n",
              "      <td>yokoy swiss fintech company leverages ar..</td>\n",
              "    </tr>\n",
              "    <tr>\n",
              "      <th>46</th>\n",
              "      <td>nanny part time months old baby boy neu</td>\n",
              "      <td>Good-People</td>\n",
              "      <td>Gerade veröffentlicht</td>\n",
              "      <td>not_created</td>\n",
              "      <td>05.26.2021</td>\n",
              "      <td>17:00:23</td>\n",
              "      <td>dutch american family living central gen..</td>\n",
              "    </tr>\n",
              "    <tr>\n",
              "      <th>47</th>\n",
              "      <td>sr backend engineer ruby neu</td>\n",
              "      <td>Yova AG</td>\n",
              "      <td>Gerade veröffentlicht</td>\n",
              "      <td>not_created</td>\n",
              "      <td>05.26.2021</td>\n",
              "      <td>17:00:23</td>\n",
              "      <td>yova leading digital platform investing ..</td>\n",
              "    </tr>\n",
              "    <tr>\n",
              "      <th>48</th>\n",
              "      <td>senior legal consultant counterterrorism sanct...</td>\n",
              "      <td>IFRC</td>\n",
              "      <td>Gerade veröffentlicht</td>\n",
              "      <td>not_created</td>\n",
              "      <td>05.26.2021</td>\n",
              "      <td>17:00:23</td>\n",
              "      <td>job purpose provide legal services count..</td>\n",
              "    </tr>\n",
              "    <tr>\n",
              "      <th>49</th>\n",
              "      <td>chief marketing office cmo neu</td>\n",
              "      <td>Liiva</td>\n",
              "      <td>Gerade veröffentlicht</td>\n",
              "      <td>not_created</td>\n",
              "      <td>05.26.2021</td>\n",
              "      <td>17:00:23</td>\n",
              "      <td>liiva innovative new swiss proptech vent..</td>\n",
              "    </tr>\n",
              "  </tbody>\n",
              "</table>\n",
              "</div>"
            ]
          },
          "metadata": {
            "tags": []
          },
          "execution_count": 21
        }
      ]
    },
    {
      "cell_type": "markdown",
      "metadata": {
        "id": "8SOoPK-9uTcY"
      },
      "source": [
        "**Viz Query 2**"
      ]
    },
    {
      "cell_type": "code",
      "metadata": {
        "id": "3SB27BEB0yux",
        "colab": {
          "base_uri": "https://localhost:8080/",
          "height": 1000
        },
        "outputId": "937080dd-c587-43e5-fb12-5cbd6a0ed756"
      },
      "source": [
        "viz_q2 = q2_processed.copy()\n",
        "viz_q2.drop(columns=\"links\", inplace=True)\n",
        "viz_job_data_word2vec(viz_q2, \"summary\", save_plot=False, show_text=True,\n",
        "                      query_name=\"all lan='en' jobs in CH\")\n",
        "viz_job_data_word2vec(viz_q2, \"titles\", save_plot=False, show_text=False,\n",
        "                      query_name=\"all lan='en' jobs in CH\")"
      ],
      "execution_count": 22,
      "outputs": [
        {
          "output_type": "display_data",
          "data": {
            "text/html": [
              "\n",
              "  <style>\n",
              "    pre {\n",
              "        white-space: pre-wrap;\n",
              "    }\n",
              "  </style>\n",
              "  "
            ],
            "text/plain": [
              "<IPython.core.display.HTML object>"
            ]
          },
          "metadata": {
            "tags": []
          }
        },
        {
          "output_type": "stream",
          "text": [
            "/usr/local/lib/python3.7/dist-packages/ipykernel_launcher.py:20: DeprecationWarning:\n",
            "\n",
            "Call to deprecated `wv` (Attribute will be removed in 4.0.0, use self instead).\n",
            "\n"
          ],
          "name": "stderr"
        },
        {
          "output_type": "stream",
          "text": [
            "\n",
            "For word2vec-all lan='en' jobs in CH: opt. # of k-means clusters is 4 \n",
            "\n"
          ],
          "name": "stdout"
        },
        {
          "output_type": "display_data",
          "data": {
            "text/html": [
              "<html>\n",
              "<head><meta charset=\"utf-8\" /></head>\n",
              "<body>\n",
              "    <div>            <script src=\"https://cdnjs.cloudflare.com/ajax/libs/mathjax/2.7.5/MathJax.js?config=TeX-AMS-MML_SVG\"></script><script type=\"text/javascript\">if (window.MathJax) {MathJax.Hub.Config({SVG: {font: \"STIX-Web\"}});}</script>                <script type=\"text/javascript\">window.PlotlyConfig = {MathJaxConfig: 'local'};</script>\n",
              "        <script src=\"https://cdn.plot.ly/plotly-latest.min.js\"></script>                <div id=\"c203df34-654c-404a-8187-f99573427996\" class=\"plotly-graph-div\" style=\"height:720px; width:960px;\"></div>            <script type=\"text/javascript\">                                    window.PLOTLYENV=window.PLOTLYENV || {};                                    if (document.getElementById(\"c203df34-654c-404a-8187-f99573427996\")) {                    Plotly.newPlot(                        \"c203df34-654c-404a-8187-f99573427996\",                        [{\"customdata\": [[\"hr director central europe neu\", \"Louis Vuitton\", \"Gerade ver\\u00f6ffentlicht\", \"not_created\", \"05.26.2021\", \"17:00:23\", \"3\"], [\"customer service representative switzerland lucerne neu\", \"Clintec\", \"Gerade ver\\u00f6ffentlicht\", \"not_created\", \"05.26.2021\", \"17:00:23\", \"3\"], [\"compliance officer neu\", \"Crypto Finance AG\", \"Gerade ver\\u00f6ffentlicht\", \"not_created\", \"05.26.2021\", \"17:00:23\", \"3\"], [\"specialist quality assurance pharmaceutical environment neu\", \"Clintec\", \"Gerade ver\\u00f6ffentlicht\", \"not_created\", \"05.26.2021\", \"17:00:23\", \"3\"], [\"hr business partner recruiter neu\", \"Sulzer\", \"Gerade ver\\u00f6ffentlicht\", \"not_created\", \"05.26.2021\", \"17:00:23\", \"3\"], [\"member relations management neu\", \"digitalswitzerland\", \"Gerade ver\\u00f6ffentlicht\", \"not_created\", \"05.26.2021\", \"17:00:23\", \"3\"], [\"client service manager neu\", \"Lombard Odier & Cie\", \"Gerade ver\\u00f6ffentlicht\", \"not_created\", \"05.26.2021\", \"17:00:23\", \"3\"], [\"risk officer neu\", \"Crypto Finance AG\", \"Gerade ver\\u00f6ffentlicht\", \"not_created\", \"05.26.2021\", \"17:00:23\", \"3\"], [\"data manager neu\", \"SIB Swiss Institute of Bioinformatics\", \"Gerade ver\\u00f6ffentlicht\", \"not_created\", \"05.26.2021\", \"17:00:23\", \"3\"], [\"senior financial analyst neu\", \"Johnson & Johnson Family of Companies\", \"Gerade ver\\u00f6ffentlicht\", \"not_created\", \"05.26.2021\", \"17:00:23\", \"3\"], [\"senior legal consultant counterterrorism sanctions neu\", \"International Federation of Red Cross and Red Cres...\", \"Gerade ver\\u00f6ffentlicht\", \"not_created\", \"05.26.2021\", \"17:00:23\", \"3\"], [\"senior program manager small molecules neu\", \"Lonza\", \"Gerade ver\\u00f6ffentlicht\", \"not_created\", \"05.26.2021\", \"17:00:23\", \"3\"], [\"software engineer neu\", \"Kudelski SA\", \"Gerade ver\\u00f6ffentlicht\", \"not_created\", \"05.26.2021\", \"17:00:23\", \"3\"], [\"senior product manager services w neu\", \"UPC Schweiz GmbH\", \"Gerade ver\\u00f6ffentlicht\", \"not_created\", \"05.26.2021\", \"17:00:23\", \"3\"], [\"senior director - global commercial cell gene therapy neu\", \"Novartis\", \"Gerade ver\\u00f6ffentlicht\", \"not_created\", \"05.26.2021\", \"17:00:23\", \"3\"], [\"supply chain specialist ii - specialist product life cycle neu\", \"Clintec\", \"Gerade ver\\u00f6ffentlicht\", \"not_created\", \"05.26.2021\", \"17:00:23\", \"3\"], [\"chief marketing office cmo neu\", \"Liiva\", \"Gerade ver\\u00f6ffentlicht\", \"not_created\", \"05.26.2021\", \"17:00:23\", \"3\"]], \"hovertemplate\": \"kmeans=%{customdata[6]}<br>pca_x=%{x}<br>pca_y=%{y}<br>companies_abbrev=%{text}<br>titles=%{customdata[0]}<br>companies=%{customdata[1]}<br>date_listed=%{customdata[2]}<br>short_link=%{customdata[3]}<br>date_pulled=%{customdata[4]}<br>time_pulled=%{customdata[5]}<extra></extra>\", \"legendgroup\": \"3\", \"marker\": {\"color\": \"#636efa\", \"symbol\": \"circle\"}, \"mode\": \"markers+text\", \"name\": \"3\", \"orientation\": \"v\", \"showlegend\": true, \"text\": [\"Louis Vuitton\", \"Clintec\", \"Crypto Finance ..\", \"Clintec\", \"Sulzer\", \"digitalswitzerl..\", \"Lombard Odier &..\", \"Crypto Finance ..\", \"SIB Swiss Insti..\", \"Johnson & Johns..\", \"International F..\", \"Lonza\", \"Kudelski SA\", \"UPC Schweiz Gmb..\", \"Novartis\", \"Clintec\", \"Liiva\"], \"type\": \"scatter\", \"x\": [-0.12318305149425156, 0.02541067163401718, -0.13556660500621429, 0.17888839205653842, -0.07658638580113956, -0.23882928710429258, 0.1891418741831552, -0.1355666050062142, -0.3590166180348414, 0.08849740566549631, 0.08261272249013761, -0.08639465571528136, -0.17138188445213284, -0.07973751295264038, -0.029419667417434896, 0.0015821524594703444, -0.18212488851466527], \"xaxis\": \"x\", \"y\": [-0.09324226289494411, 0.2272376312518179, 0.02067423393860462, 0.2108744041936132, -0.16700635425819066, -0.00572612101387464, -0.15176879529902132, 0.020674233938604635, 0.34438126305678, 0.1499855483690963, -0.029391500864559172, 0.04084341514899467, -0.1311051759429082, -0.049062709512027694, 0.45912330941909923, 0.1259203124184509, 0.05746402905587859], \"yaxis\": \"y\"}, {\"customdata\": [[\"common services assistant neu\", \"Canadian Embassy\", \"Gerade ver\\u00f6ffentlicht\", \"not_created\", \"05.26.2021\", \"17:00:23\", \"0\"], [\"contract administrative assistant business operations neu\", \"Global Blood Therapeutics, Inc. (GBT)\", \"Gerade ver\\u00f6ffentlicht\", \"not_created\", \"05.26.2021\", \"17:00:23\", \"0\"], [\"learning innovation designer neu\", \"IMD\", \"Gerade ver\\u00f6ffentlicht\", \"not_created\", \"05.26.2021\", \"17:00:23\", \"0\"], [\"corporate website social media manager f x neu\", \"HILTI\", \"Gerade ver\\u00f6ffentlicht\", \"not_created\", \"05.26.2021\", \"17:00:23\", \"0\"], [\"strategic buyer neu\", \"Besi Switzerland\", \"Gerade ver\\u00f6ffentlicht\", \"not_created\", \"05.26.2021\", \"17:00:23\", \"0\"], [\"external corporate communication manager f x neu\", \"HILTI\", \"Gerade ver\\u00f6ffentlicht\", \"not_created\", \"05.26.2021\", \"17:00:23\", \"0\"], [\"working student marketing communications neu\", \"Siemens Schweiz AG, Smart Infrastructure, Global H...\", \"Gerade ver\\u00f6ffentlicht\", \"not_created\", \"05.26.2021\", \"17:00:23\", \"0\"], [\"internal corporate communication manager f x neu\", \"HILTI\", \"Gerade ver\\u00f6ffentlicht\", \"not_created\", \"05.26.2021\", \"17:00:23\", \"0\"], [\"manager group quality neu\", \"Emmi\", \"Gerade ver\\u00f6ffentlicht\", \"not_created\", \"05.26.2021\", \"17:00:23\", \"0\"], [\"senior manager logistics distribution neu\", \"Proclinical\", \"Gerade ver\\u00f6ffentlicht\", \"not_created\", \"05.26.2021\", \"17:00:23\", \"0\"], [\"product owner psd2 neu\", \"Deloitte\", \"Gerade ver\\u00f6ffentlicht\", \"not_created\", \"05.26.2021\", \"17:00:23\", \"0\"], [\"head consumer health commercial quality emea neu\", \"Johnson & Johnson Family of Companies\", \"Gerade ver\\u00f6ffentlicht\", \"not_created\", \"05.26.2021\", \"17:00:23\", \"0\"], [\"software engineer backend neu\", \"Deloitte\", \"Gerade ver\\u00f6ffentlicht\", \"not_created\", \"05.26.2021\", \"17:00:23\", \"0\"], [\"project manager integration specialist w neu\", \"AFRY\", \"Gerade ver\\u00f6ffentlicht\", \"not_created\", \"05.26.2021\", \"17:00:23\", \"0\"], [\"manager finance transformation trade industry consultin neu\", \"PwC\", \"Gerade ver\\u00f6ffentlicht\", \"not_created\", \"05.26.2021\", \"17:00:23\", \"0\"], [\"junior senior r engineer wireless evaluation system neu\", \"Schmid & Partner Engineering\", \"Gerade ver\\u00f6ffentlicht\", \"not_created\", \"05.26.2021\", \"17:00:23\", \"0\"], [\"legal data protection officer dpo neu\", \"Yokoy Group AG\", \"Gerade ver\\u00f6ffentlicht\", \"not_created\", \"05.26.2021\", \"17:00:23\", \"0\"], [\"sr backend engineer ruby neu\", \"Yova AG\", \"Gerade ver\\u00f6ffentlicht\", \"not_created\", \"05.26.2021\", \"17:00:23\", \"0\"]], \"hovertemplate\": \"kmeans=%{customdata[6]}<br>pca_x=%{x}<br>pca_y=%{y}<br>companies_abbrev=%{text}<br>titles=%{customdata[0]}<br>companies=%{customdata[1]}<br>date_listed=%{customdata[2]}<br>short_link=%{customdata[3]}<br>date_pulled=%{customdata[4]}<br>time_pulled=%{customdata[5]}<extra></extra>\", \"legendgroup\": \"0\", \"marker\": {\"color\": \"#EF553B\", \"symbol\": \"circle\"}, \"mode\": \"markers+text\", \"name\": \"0\", \"orientation\": \"v\", \"showlegend\": true, \"text\": [\"Canadian Embass..\", \"Global Blood Th..\", \"IMD\", \"HILTI\", \"Besi Switzerlan..\", \"HILTI\", \"Siemens Schweiz..\", \"HILTI\", \"Emmi\", \"Proclinical\", \"Deloitte\", \"Johnson & Johns..\", \"Deloitte\", \"AFRY\", \"PwC\", \"Schmid & Partne..\", \"Yokoy Group AG\", \"Yova AG\"], \"type\": \"scatter\", \"x\": [-0.14647009589087565, -0.25834674375601535, -0.22758504542243493, -0.20092470907412768, -0.585388825600917, 0.05753049044758141, -0.23501467356294917, 0.009240022130373931, 0.08729409900204481, -0.06289337191205356, -0.1210080941771443, -0.08623565897541761, -0.38603411838658136, -0.36071000197797315, -0.0199073915782928, -0.1668024913754964, -0.10994474113503933, -0.36036972069722123], \"xaxis\": \"x\", \"y\": [-0.3457923205750398, 0.12866155154464612, -0.22904637700611571, -0.09255435950343559, -0.30328097018429867, -0.21753898300864197, -0.31985167626979905, -0.1386581167902492, -0.25437818646419014, 0.08639326174500105, -0.14180094379940048, -0.2527913297778331, -0.28112902081901286, -0.018222642611092247, -0.10245202344291847, -0.13006468905260515, -0.1934357810505641, -0.35730697511720627], \"yaxis\": \"y\"}, {\"customdata\": [[\"head financial crime compliance advisory credit suisse neu\", \"Credit Suisse\", \"Gerade ver\\u00f6ffentlicht\", \"not_created\", \"05.26.2021\", \"17:00:23\", \"1\"], [\"think tank societal researcher temporary neu\", \"UBS\", \"Gerade ver\\u00f6ffentlicht\", \"not_created\", \"05.26.2021\", \"17:00:23\", \"1\"], [\"translation documentation specialist neu\", \"Lonza\", \"Gerade ver\\u00f6ffentlicht\", \"not_created\", \"05.26.2021\", \"17:00:23\", \"1\"], [\"think tank designer temporary neu\", \"UBS\", \"Gerade ver\\u00f6ffentlicht\", \"not_created\", \"05.26.2021\", \"17:00:23\", \"1\"], [\"consultant reducing harmful use alcohol neu\", \"World Health Organization\", \"Gerade ver\\u00f6ffentlicht\", \"not_created\", \"05.26.2021\", \"17:00:23\", \"1\"], [\"service sales engineer neu\", \"ABB\", \"Gerade ver\\u00f6ffentlicht\", \"not_created\", \"05.26.2021\", \"17:00:23\", \"1\"], [\"sales specialist - neu\", \"ABB\", \"Gerade ver\\u00f6ffentlicht\", \"not_created\", \"05.26.2021\", \"17:00:23\", \"1\"], [\"project officer neu\", \"World Health Organization\", \"Gerade ver\\u00f6ffentlicht\", \"not_created\", \"05.26.2021\", \"17:00:23\", \"1\"], [\"client management private banking uhnwi greece cyprus neu\", \"Credit Suisse Campus\", \"Gerade ver\\u00f6ffentlicht\", \"not_created\", \"05.26.2021\", \"17:00:23\", \"1\"], [\"global erp program manager management temporary fo neu\", \"ABB\", \"Gerade ver\\u00f6ffentlicht\", \"not_created\", \"05.26.2021\", \"17:00:23\", \"1\"], [\"part time nanny housekeeper start august neu\", \"Good-People\", \"Gerade ver\\u00f6ffentlicht\", \"not_created\", \"05.26.2021\", \"17:00:23\", \"1\"], [\"nanny part time months old baby boy neu\", \"Good-People\", \"Gerade ver\\u00f6ffentlicht\", \"not_created\", \"05.26.2021\", \"17:00:23\", \"1\"], [\"senior legal consultant counterterrorism sanctions neu\", \"IFRC\", \"Gerade ver\\u00f6ffentlicht\", \"not_created\", \"05.26.2021\", \"17:00:23\", \"1\"]], \"hovertemplate\": \"kmeans=%{customdata[6]}<br>pca_x=%{x}<br>pca_y=%{y}<br>companies_abbrev=%{text}<br>titles=%{customdata[0]}<br>companies=%{customdata[1]}<br>date_listed=%{customdata[2]}<br>short_link=%{customdata[3]}<br>date_pulled=%{customdata[4]}<br>time_pulled=%{customdata[5]}<extra></extra>\", \"legendgroup\": \"1\", \"marker\": {\"color\": \"#00cc96\", \"symbol\": \"circle\"}, \"mode\": \"markers+text\", \"name\": \"1\", \"orientation\": \"v\", \"showlegend\": true, \"text\": [\"Credit Suisse\", \"UBS\", \"Lonza\", \"UBS\", \"World Health Or..\", \"ABB\", \"ABB\", \"World Health Or..\", \"Credit Suisse C..\", \"ABB\", \"Good-People\", \"Good-People\", \"IFRC\"], \"type\": \"scatter\", \"x\": [0.12065156380311325, 0.3171270100940475, 0.3362096449603345, 0.3171270100940476, 0.5997816062743457, 0.4468110654342937, 0.4468110654342938, 0.7132414666235123, 0.0862270578741086, 0.4468110654342938, 0.4740431498596894, 0.5166978290127989, 0.1348869133078748], \"xaxis\": \"x\", \"y\": [0.01042113535552319, -0.005564513307835588, 0.10512479955410041, -0.005564513307835565, 0.01205832476736162, 0.002194900616764272, 0.0021949006167642283, -0.018347894620609085, -0.1961812499753613, 0.00219490061676425, 0.1918187831800271, 0.18155127552018777, -0.1196172014970399], \"yaxis\": \"y\"}, {\"customdata\": [[\"research associate biology immunology neu\", \"Ridgeline Discovery GmbH\", \"Gerade ver\\u00f6ffentlicht\", \"not_created\", \"05.26.2021\", \"17:00:23\", \"2\"], [\"senior research associate crispr cell biology neu\", \"Ridgeline Discovery GmbH\", \"Gerade ver\\u00f6ffentlicht\", \"not_created\", \"05.26.2021\", \"17:00:23\", \"2\"]], \"hovertemplate\": \"kmeans=%{customdata[6]}<br>pca_x=%{x}<br>pca_y=%{y}<br>companies_abbrev=%{text}<br>titles=%{customdata[0]}<br>companies=%{customdata[1]}<br>date_listed=%{customdata[2]}<br>short_link=%{customdata[3]}<br>date_pulled=%{customdata[4]}<br>time_pulled=%{customdata[5]}<extra></extra>\", \"legendgroup\": \"2\", \"marker\": {\"color\": \"#ab63fa\", \"symbol\": \"circle\"}, \"mode\": \"markers+text\", \"name\": \"2\", \"orientation\": \"v\", \"showlegend\": true, \"text\": [\"Ridgeline Disco..\", \"Ridgeline Disco..\"], \"type\": \"scatter\", \"x\": [-0.41922711988541383, -0.3119543133685077], \"xaxis\": \"x\", \"y\": [1.074809639204704, 0.8962808344538263], \"yaxis\": \"y\"}],                        {\"height\": 720, \"legend\": {\"title\": {\"text\": \"kmeans\"}, \"tracegroupgap\": 0}, \"template\": {\"data\": {\"bar\": [{\"error_x\": {\"color\": \"#f2f5fa\"}, \"error_y\": {\"color\": \"#f2f5fa\"}, \"marker\": {\"line\": {\"color\": \"rgb(17,17,17)\", \"width\": 0.5}}, \"type\": \"bar\"}], \"barpolar\": [{\"marker\": {\"line\": {\"color\": \"rgb(17,17,17)\", \"width\": 0.5}}, \"type\": \"barpolar\"}], \"carpet\": [{\"aaxis\": {\"endlinecolor\": \"#A2B1C6\", \"gridcolor\": \"#506784\", \"linecolor\": \"#506784\", \"minorgridcolor\": \"#506784\", \"startlinecolor\": \"#A2B1C6\"}, \"baxis\": {\"endlinecolor\": \"#A2B1C6\", \"gridcolor\": \"#506784\", \"linecolor\": \"#506784\", \"minorgridcolor\": \"#506784\", \"startlinecolor\": \"#A2B1C6\"}, \"type\": \"carpet\"}], \"choropleth\": [{\"colorbar\": {\"outlinewidth\": 0, \"ticks\": \"\"}, \"type\": \"choropleth\"}], \"contour\": [{\"colorbar\": {\"outlinewidth\": 0, \"ticks\": \"\"}, \"colorscale\": [[0.0, \"#0d0887\"], [0.1111111111111111, \"#46039f\"], [0.2222222222222222, \"#7201a8\"], [0.3333333333333333, \"#9c179e\"], [0.4444444444444444, \"#bd3786\"], [0.5555555555555556, \"#d8576b\"], [0.6666666666666666, \"#ed7953\"], [0.7777777777777778, \"#fb9f3a\"], [0.8888888888888888, \"#fdca26\"], [1.0, \"#f0f921\"]], \"type\": \"contour\"}], \"contourcarpet\": [{\"colorbar\": {\"outlinewidth\": 0, \"ticks\": \"\"}, \"type\": \"contourcarpet\"}], \"heatmap\": [{\"colorbar\": {\"outlinewidth\": 0, \"ticks\": \"\"}, \"colorscale\": [[0.0, \"#0d0887\"], [0.1111111111111111, \"#46039f\"], [0.2222222222222222, \"#7201a8\"], [0.3333333333333333, \"#9c179e\"], [0.4444444444444444, \"#bd3786\"], [0.5555555555555556, \"#d8576b\"], [0.6666666666666666, \"#ed7953\"], [0.7777777777777778, \"#fb9f3a\"], [0.8888888888888888, \"#fdca26\"], [1.0, \"#f0f921\"]], \"type\": \"heatmap\"}], \"heatmapgl\": [{\"colorbar\": {\"outlinewidth\": 0, \"ticks\": \"\"}, \"colorscale\": [[0.0, \"#0d0887\"], [0.1111111111111111, \"#46039f\"], [0.2222222222222222, \"#7201a8\"], [0.3333333333333333, \"#9c179e\"], [0.4444444444444444, \"#bd3786\"], [0.5555555555555556, \"#d8576b\"], [0.6666666666666666, \"#ed7953\"], [0.7777777777777778, \"#fb9f3a\"], [0.8888888888888888, \"#fdca26\"], [1.0, \"#f0f921\"]], \"type\": \"heatmapgl\"}], \"histogram\": [{\"marker\": {\"colorbar\": {\"outlinewidth\": 0, \"ticks\": \"\"}}, \"type\": \"histogram\"}], \"histogram2d\": [{\"colorbar\": {\"outlinewidth\": 0, \"ticks\": \"\"}, \"colorscale\": [[0.0, \"#0d0887\"], [0.1111111111111111, \"#46039f\"], [0.2222222222222222, \"#7201a8\"], [0.3333333333333333, \"#9c179e\"], [0.4444444444444444, \"#bd3786\"], [0.5555555555555556, \"#d8576b\"], [0.6666666666666666, \"#ed7953\"], [0.7777777777777778, \"#fb9f3a\"], [0.8888888888888888, \"#fdca26\"], [1.0, \"#f0f921\"]], \"type\": \"histogram2d\"}], \"histogram2dcontour\": [{\"colorbar\": {\"outlinewidth\": 0, \"ticks\": \"\"}, \"colorscale\": [[0.0, \"#0d0887\"], [0.1111111111111111, \"#46039f\"], [0.2222222222222222, \"#7201a8\"], [0.3333333333333333, \"#9c179e\"], [0.4444444444444444, \"#bd3786\"], [0.5555555555555556, \"#d8576b\"], [0.6666666666666666, \"#ed7953\"], [0.7777777777777778, \"#fb9f3a\"], [0.8888888888888888, \"#fdca26\"], [1.0, \"#f0f921\"]], \"type\": \"histogram2dcontour\"}], \"mesh3d\": [{\"colorbar\": {\"outlinewidth\": 0, \"ticks\": \"\"}, \"type\": \"mesh3d\"}], \"parcoords\": [{\"line\": {\"colorbar\": {\"outlinewidth\": 0, \"ticks\": \"\"}}, \"type\": \"parcoords\"}], \"pie\": [{\"automargin\": true, \"type\": \"pie\"}], \"scatter\": [{\"marker\": {\"line\": {\"color\": \"#283442\"}}, \"type\": \"scatter\"}], \"scatter3d\": [{\"line\": {\"colorbar\": {\"outlinewidth\": 0, \"ticks\": \"\"}}, \"marker\": {\"colorbar\": {\"outlinewidth\": 0, \"ticks\": \"\"}}, \"type\": \"scatter3d\"}], \"scattercarpet\": [{\"marker\": {\"colorbar\": {\"outlinewidth\": 0, \"ticks\": \"\"}}, \"type\": \"scattercarpet\"}], \"scattergeo\": [{\"marker\": {\"colorbar\": {\"outlinewidth\": 0, \"ticks\": \"\"}}, \"type\": \"scattergeo\"}], \"scattergl\": [{\"marker\": {\"line\": {\"color\": \"#283442\"}}, \"type\": \"scattergl\"}], \"scattermapbox\": [{\"marker\": {\"colorbar\": {\"outlinewidth\": 0, \"ticks\": \"\"}}, \"type\": \"scattermapbox\"}], \"scatterpolar\": [{\"marker\": {\"colorbar\": {\"outlinewidth\": 0, \"ticks\": \"\"}}, \"type\": \"scatterpolar\"}], \"scatterpolargl\": [{\"marker\": {\"colorbar\": {\"outlinewidth\": 0, \"ticks\": \"\"}}, \"type\": \"scatterpolargl\"}], \"scatterternary\": [{\"marker\": {\"colorbar\": {\"outlinewidth\": 0, \"ticks\": \"\"}}, \"type\": \"scatterternary\"}], \"surface\": [{\"colorbar\": {\"outlinewidth\": 0, \"ticks\": \"\"}, \"colorscale\": [[0.0, \"#0d0887\"], [0.1111111111111111, \"#46039f\"], [0.2222222222222222, \"#7201a8\"], [0.3333333333333333, \"#9c179e\"], [0.4444444444444444, \"#bd3786\"], [0.5555555555555556, \"#d8576b\"], [0.6666666666666666, \"#ed7953\"], [0.7777777777777778, \"#fb9f3a\"], [0.8888888888888888, \"#fdca26\"], [1.0, \"#f0f921\"]], \"type\": \"surface\"}], \"table\": [{\"cells\": {\"fill\": {\"color\": \"#506784\"}, \"line\": {\"color\": \"rgb(17,17,17)\"}}, \"header\": {\"fill\": {\"color\": \"#2a3f5f\"}, \"line\": {\"color\": \"rgb(17,17,17)\"}}, \"type\": \"table\"}]}, \"layout\": {\"annotationdefaults\": {\"arrowcolor\": \"#f2f5fa\", \"arrowhead\": 0, \"arrowwidth\": 1}, \"autotypenumbers\": \"strict\", \"coloraxis\": {\"colorbar\": {\"outlinewidth\": 0, \"ticks\": \"\"}}, \"colorscale\": {\"diverging\": [[0, \"#8e0152\"], [0.1, \"#c51b7d\"], [0.2, \"#de77ae\"], [0.3, \"#f1b6da\"], [0.4, \"#fde0ef\"], [0.5, \"#f7f7f7\"], [0.6, \"#e6f5d0\"], [0.7, \"#b8e186\"], [0.8, \"#7fbc41\"], [0.9, \"#4d9221\"], [1, \"#276419\"]], \"sequential\": [[0.0, \"#0d0887\"], [0.1111111111111111, \"#46039f\"], [0.2222222222222222, \"#7201a8\"], [0.3333333333333333, \"#9c179e\"], [0.4444444444444444, \"#bd3786\"], [0.5555555555555556, \"#d8576b\"], [0.6666666666666666, \"#ed7953\"], [0.7777777777777778, \"#fb9f3a\"], [0.8888888888888888, \"#fdca26\"], [1.0, \"#f0f921\"]], \"sequentialminus\": [[0.0, \"#0d0887\"], [0.1111111111111111, \"#46039f\"], [0.2222222222222222, \"#7201a8\"], [0.3333333333333333, \"#9c179e\"], [0.4444444444444444, \"#bd3786\"], [0.5555555555555556, \"#d8576b\"], [0.6666666666666666, \"#ed7953\"], [0.7777777777777778, \"#fb9f3a\"], [0.8888888888888888, \"#fdca26\"], [1.0, \"#f0f921\"]]}, \"colorway\": [\"#636efa\", \"#EF553B\", \"#00cc96\", \"#ab63fa\", \"#FFA15A\", \"#19d3f3\", \"#FF6692\", \"#B6E880\", \"#FF97FF\", \"#FECB52\"], \"font\": {\"color\": \"#f2f5fa\"}, \"geo\": {\"bgcolor\": \"rgb(17,17,17)\", \"lakecolor\": \"rgb(17,17,17)\", \"landcolor\": \"rgb(17,17,17)\", \"showlakes\": true, \"showland\": true, \"subunitcolor\": \"#506784\"}, \"hoverlabel\": {\"align\": \"left\"}, \"hovermode\": \"closest\", \"mapbox\": {\"style\": \"dark\"}, \"paper_bgcolor\": \"rgb(17,17,17)\", \"plot_bgcolor\": \"rgb(17,17,17)\", \"polar\": {\"angularaxis\": {\"gridcolor\": \"#506784\", \"linecolor\": \"#506784\", \"ticks\": \"\"}, \"bgcolor\": \"rgb(17,17,17)\", \"radialaxis\": {\"gridcolor\": \"#506784\", \"linecolor\": \"#506784\", \"ticks\": \"\"}}, \"scene\": {\"xaxis\": {\"backgroundcolor\": \"rgb(17,17,17)\", \"gridcolor\": \"#506784\", \"gridwidth\": 2, \"linecolor\": \"#506784\", \"showbackground\": true, \"ticks\": \"\", \"zerolinecolor\": \"#C8D4E3\"}, \"yaxis\": {\"backgroundcolor\": \"rgb(17,17,17)\", \"gridcolor\": \"#506784\", \"gridwidth\": 2, \"linecolor\": \"#506784\", \"showbackground\": true, \"ticks\": \"\", \"zerolinecolor\": \"#C8D4E3\"}, \"zaxis\": {\"backgroundcolor\": \"rgb(17,17,17)\", \"gridcolor\": \"#506784\", \"gridwidth\": 2, \"linecolor\": \"#506784\", \"showbackground\": true, \"ticks\": \"\", \"zerolinecolor\": \"#C8D4E3\"}}, \"shapedefaults\": {\"line\": {\"color\": \"#f2f5fa\"}}, \"sliderdefaults\": {\"bgcolor\": \"#C8D4E3\", \"bordercolor\": \"rgb(17,17,17)\", \"borderwidth\": 1, \"tickwidth\": 0}, \"ternary\": {\"aaxis\": {\"gridcolor\": \"#506784\", \"linecolor\": \"#506784\", \"ticks\": \"\"}, \"baxis\": {\"gridcolor\": \"#506784\", \"linecolor\": \"#506784\", \"ticks\": \"\"}, \"bgcolor\": \"rgb(17,17,17)\", \"caxis\": {\"gridcolor\": \"#506784\", \"linecolor\": \"#506784\", \"ticks\": \"\"}}, \"title\": {\"x\": 0.05}, \"updatemenudefaults\": {\"bgcolor\": \"#506784\", \"borderwidth\": 0}, \"xaxis\": {\"automargin\": true, \"gridcolor\": \"#283442\", \"linecolor\": \"#506784\", \"ticks\": \"\", \"title\": {\"standoff\": 15}, \"zerolinecolor\": \"#283442\", \"zerolinewidth\": 2}, \"yaxis\": {\"automargin\": true, \"gridcolor\": \"#283442\", \"linecolor\": \"#506784\", \"ticks\": \"\", \"title\": {\"standoff\": 15}, \"zerolinecolor\": \"#283442\", \"zerolinewidth\": 2}}}, \"title\": {\"text\": \"May-26-2021 Vizualize Companies by summary text w word2vec | all lan='en' jobs in CH\"}, \"width\": 960, \"xaxis\": {\"anchor\": \"y\", \"domain\": [0.0, 1.0], \"title\": {\"text\": \"pca_x\"}}, \"yaxis\": {\"anchor\": \"x\", \"domain\": [0.0, 1.0], \"title\": {\"text\": \"pca_y\"}}},                        {\"responsive\": true}                    ).then(function(){\n",
              "                            \n",
              "var gd = document.getElementById('c203df34-654c-404a-8187-f99573427996');\n",
              "var x = new MutationObserver(function (mutations, observer) {{\n",
              "        var display = window.getComputedStyle(gd).display;\n",
              "        if (!display || display === 'none') {{\n",
              "            console.log([gd, 'removed!']);\n",
              "            Plotly.purge(gd);\n",
              "            observer.disconnect();\n",
              "        }}\n",
              "}});\n",
              "\n",
              "// Listen for the removal of the full notebook cells\n",
              "var notebookContainer = gd.closest('#notebook-container');\n",
              "if (notebookContainer) {{\n",
              "    x.observe(notebookContainer, {childList: true});\n",
              "}}\n",
              "\n",
              "// Listen for the clearing of the current output cell\n",
              "var outputEl = gd.closest('.output');\n",
              "if (outputEl) {{\n",
              "    x.observe(outputEl, {childList: true});\n",
              "}}\n",
              "\n",
              "                        })                };                            </script>        </div>\n",
              "</body>\n",
              "</html>"
            ]
          },
          "metadata": {
            "tags": []
          }
        },
        {
          "output_type": "stream",
          "text": [
            "plot generated -  2021-05-26 17:00:24.310042\n"
          ],
          "name": "stdout"
        },
        {
          "output_type": "stream",
          "text": [
            "/usr/local/lib/python3.7/dist-packages/ipykernel_launcher.py:20: DeprecationWarning:\n",
            "\n",
            "Call to deprecated `wv` (Attribute will be removed in 4.0.0, use self instead).\n",
            "\n"
          ],
          "name": "stderr"
        },
        {
          "output_type": "stream",
          "text": [
            "\n",
            "For word2vec-all lan='en' jobs in CH: opt. # of k-means clusters is 7 \n",
            "\n"
          ],
          "name": "stdout"
        },
        {
          "output_type": "display_data",
          "data": {
            "text/html": [
              "<html>\n",
              "<head><meta charset=\"utf-8\" /></head>\n",
              "<body>\n",
              "    <div>            <script src=\"https://cdnjs.cloudflare.com/ajax/libs/mathjax/2.7.5/MathJax.js?config=TeX-AMS-MML_SVG\"></script><script type=\"text/javascript\">if (window.MathJax) {MathJax.Hub.Config({SVG: {font: \"STIX-Web\"}});}</script>                <script type=\"text/javascript\">window.PlotlyConfig = {MathJaxConfig: 'local'};</script>\n",
              "        <script src=\"https://cdn.plot.ly/plotly-latest.min.js\"></script>                <div id=\"865f3d82-1c5d-4700-a941-bc877cdc8692\" class=\"plotly-graph-div\" style=\"height:720px; width:960px;\"></div>            <script type=\"text/javascript\">                                    window.PLOTLYENV=window.PLOTLYENV || {};                                    if (document.getElementById(\"865f3d82-1c5d-4700-a941-bc877cdc8692\")) {                    Plotly.newPlot(                        \"865f3d82-1c5d-4700-a941-bc877cdc8692\",                        [{\"customdata\": [[\"hr director central europe neu\", \"Louis Vuitton\", \"Gerade ver\\u00f6ffentlicht\", \"not_created\", \"05.26.2021\", \"17:00:23\", \"1\"], [\"customer service representative switzerland lucerne neu\", \"Clintec\", \"Gerade ver\\u00f6ffentlicht\", \"not_created\", \"05.26.2021\", \"17:00:23\", \"1\"], [\"translation documentation specialist neu\", \"Lonza\", \"Gerade ver\\u00f6ffentlicht\", \"not_created\", \"05.26.2021\", \"17:00:23\", \"1\"], [\"specialist quality assurance pharmaceutical environment neu\", \"Clintec\", \"Gerade ver\\u00f6ffentlicht\", \"not_created\", \"05.26.2021\", \"17:00:23\", \"1\"], [\"hr business partner recruiter neu\", \"Sulzer\", \"Gerade ver\\u00f6ffentlicht\", \"not_created\", \"05.26.2021\", \"17:00:23\", \"1\"], [\"corporate website social media manager f x neu\", \"HILTI\", \"Gerade ver\\u00f6ffentlicht\", \"not_created\", \"05.26.2021\", \"17:00:23\", \"1\"], [\"strategic buyer neu\", \"Besi Switzerland\", \"Gerade ver\\u00f6ffentlicht\", \"not_created\", \"05.26.2021\", \"17:00:23\", \"1\"], [\"external corporate communication manager f x neu\", \"HILTI\", \"Gerade ver\\u00f6ffentlicht\", \"not_created\", \"05.26.2021\", \"17:00:23\", \"1\"], [\"member relations management neu\", \"digitalswitzerland\", \"Gerade ver\\u00f6ffentlicht\", \"not_created\", \"05.26.2021\", \"17:00:23\", \"1\"], [\"client service manager neu\", \"Lombard Odier & Cie\", \"Gerade ver\\u00f6ffentlicht\", \"not_created\", \"05.26.2021\", \"17:00:23\", \"1\"], [\"sales specialist - neu\", \"ABB\", \"Gerade ver\\u00f6ffentlicht\", \"not_created\", \"05.26.2021\", \"17:00:23\", \"1\"], [\"internal corporate communication manager f x neu\", \"HILTI\", \"Gerade ver\\u00f6ffentlicht\", \"not_created\", \"05.26.2021\", \"17:00:23\", \"1\"], [\"manager group quality neu\", \"Emmi\", \"Gerade ver\\u00f6ffentlicht\", \"not_created\", \"05.26.2021\", \"17:00:23\", \"1\"], [\"senior manager logistics distribution neu\", \"Proclinical\", \"Gerade ver\\u00f6ffentlicht\", \"not_created\", \"05.26.2021\", \"17:00:23\", \"1\"], [\"data manager neu\", \"SIB Swiss Institute of Bioinformatics\", \"Gerade ver\\u00f6ffentlicht\", \"not_created\", \"05.26.2021\", \"17:00:23\", \"1\"], [\"product owner psd2 neu\", \"Deloitte\", \"Gerade ver\\u00f6ffentlicht\", \"not_created\", \"05.26.2021\", \"17:00:23\", \"1\"], [\"head consumer health commercial quality emea neu\", \"Johnson & Johnson Family of Companies\", \"Gerade ver\\u00f6ffentlicht\", \"not_created\", \"05.26.2021\", \"17:00:23\", \"1\"], [\"senior product manager services w neu\", \"UPC Schweiz GmbH\", \"Gerade ver\\u00f6ffentlicht\", \"not_created\", \"05.26.2021\", \"17:00:23\", \"1\"], [\"project manager integration specialist w neu\", \"AFRY\", \"Gerade ver\\u00f6ffentlicht\", \"not_created\", \"05.26.2021\", \"17:00:23\", \"1\"], [\"supply chain specialist ii - specialist product life cycle neu\", \"Clintec\", \"Gerade ver\\u00f6ffentlicht\", \"not_created\", \"05.26.2021\", \"17:00:23\", \"1\"], [\"manager finance transformation trade industry consultin neu\", \"PwC\", \"Gerade ver\\u00f6ffentlicht\", \"not_created\", \"05.26.2021\", \"17:00:23\", \"1\"], [\"global erp program manager management temporary fo neu\", \"ABB\", \"Gerade ver\\u00f6ffentlicht\", \"not_created\", \"05.26.2021\", \"17:00:23\", \"1\"], [\"chief marketing office cmo neu\", \"Liiva\", \"Gerade ver\\u00f6ffentlicht\", \"not_created\", \"05.26.2021\", \"17:00:23\", \"1\"]], \"hovertemplate\": \"kmeans=%{customdata[6]}<br>pca_x=%{x}<br>pca_y=%{y}<br>titles=%{customdata[0]}<br>companies=%{customdata[1]}<br>date_listed=%{customdata[2]}<br>short_link=%{customdata[3]}<br>date_pulled=%{customdata[4]}<br>time_pulled=%{customdata[5]}<extra></extra>\", \"legendgroup\": \"1\", \"marker\": {\"color\": \"#636efa\", \"symbol\": \"circle\"}, \"mode\": \"markers\", \"name\": \"1\", \"orientation\": \"v\", \"showlegend\": true, \"type\": \"scatter\", \"x\": [0.20988826640904445, 0.11302736167691628, 0.18966308970305773, -0.11161356539336302, 0.06732130623139905, -0.1814744452281709, 0.18660598805548057, -0.0435272398704759, -0.12939682649189976, 0.33708759531896576, 0.364332927198444, -0.04747952858986457, 0.15784418488027085, 0.012214864918517348, 0.4844520911373381, 0.44134862527683566, -0.21387867334672053, 0.13237303370027523, 0.28988063544153414, -0.12239844329343613, -0.13111711303944418, -0.06677787506804411, 0.005190766916029399], \"xaxis\": \"x\", \"y\": [-0.09694939099304964, -0.3395549310521704, 0.12859575516589847, -0.06895940156574308, -0.17654912736068779, -0.4382549951654878, -0.16704968969685646, -0.32350620233305, -0.2058181628505295, -0.4210826146993183, 0.025330343440976653, -0.31721261599055345, -0.2939156877759805, -0.21208876972243518, -0.0654870169663848, -0.2269105599192383, -0.22798508262161835, -0.1645449206751969, -0.05875030928020136, -0.08617755844870792, -0.31135330499832276, -0.26817477810408535, -0.07660840015530544], \"yaxis\": \"y\"}, {\"customdata\": [[\"common services assistant neu\", \"Canadian Embassy\", \"Gerade ver\\u00f6ffentlicht\", \"not_created\", \"05.26.2021\", \"17:00:23\", \"2\"], [\"head financial crime compliance advisory credit suisse neu\", \"Credit Suisse\", \"Gerade ver\\u00f6ffentlicht\", \"not_created\", \"05.26.2021\", \"17:00:23\", \"2\"], [\"contract administrative assistant business operations neu\", \"Global Blood Therapeutics, Inc. (GBT)\", \"Gerade ver\\u00f6ffentlicht\", \"not_created\", \"05.26.2021\", \"17:00:23\", \"2\"], [\"think tank societal researcher temporary neu\", \"UBS\", \"Gerade ver\\u00f6ffentlicht\", \"not_created\", \"05.26.2021\", \"17:00:23\", \"2\"], [\"learning innovation designer neu\", \"IMD\", \"Gerade ver\\u00f6ffentlicht\", \"not_created\", \"05.26.2021\", \"17:00:23\", \"2\"], [\"working student marketing communications neu\", \"Siemens Schweiz AG, Smart Infrastructure, Global H...\", \"Gerade ver\\u00f6ffentlicht\", \"not_created\", \"05.26.2021\", \"17:00:23\", \"2\"], [\"think tank designer temporary neu\", \"UBS\", \"Gerade ver\\u00f6ffentlicht\", \"not_created\", \"05.26.2021\", \"17:00:23\", \"2\"], [\"consultant reducing harmful use alcohol neu\", \"World Health Organization\", \"Gerade ver\\u00f6ffentlicht\", \"not_created\", \"05.26.2021\", \"17:00:23\", \"2\"], [\"senior financial analyst neu\", \"Johnson & Johnson Family of Companies\", \"Gerade ver\\u00f6ffentlicht\", \"not_created\", \"05.26.2021\", \"17:00:23\", \"2\"], [\"senior program manager small molecules neu\", \"Lonza\", \"Gerade ver\\u00f6ffentlicht\", \"not_created\", \"05.26.2021\", \"17:00:23\", \"2\"], [\"senior director - global commercial cell gene therapy neu\", \"Novartis\", \"Gerade ver\\u00f6ffentlicht\", \"not_created\", \"05.26.2021\", \"17:00:23\", \"2\"], [\"junior senior r engineer wireless evaluation system neu\", \"Schmid & Partner Engineering\", \"Gerade ver\\u00f6ffentlicht\", \"not_created\", \"05.26.2021\", \"17:00:23\", \"2\"]], \"hovertemplate\": \"kmeans=%{customdata[6]}<br>pca_x=%{x}<br>pca_y=%{y}<br>titles=%{customdata[0]}<br>companies=%{customdata[1]}<br>date_listed=%{customdata[2]}<br>short_link=%{customdata[3]}<br>date_pulled=%{customdata[4]}<br>time_pulled=%{customdata[5]}<extra></extra>\", \"legendgroup\": \"2\", \"marker\": {\"color\": \"#EF553B\", \"symbol\": \"circle\"}, \"mode\": \"markers\", \"name\": \"2\", \"orientation\": \"v\", \"showlegend\": true, \"type\": \"scatter\", \"x\": [-0.02071475341931831, -0.44238670843853795, -0.1269010084810193, -0.4795344207129632, 0.13086984597826934, -0.21392350808938207, -0.2509649894379194, -0.26586436388054135, -0.25080550817950337, -0.1572299388975024, -0.3369329372891436, -0.04037502070669517], \"xaxis\": \"x\", \"y\": [0.07283897227137184, -0.1438386858874283, -0.14274929883395196, 0.3018077555768337, 0.15867808537558017, -0.04693051800791283, 0.0728213454390724, 0.01588966270929013, 0.24993888625077268, 0.08212290120203085, 0.3159129426383967, 0.21661911495736075], \"yaxis\": \"y\"}, {\"customdata\": [[\"compliance officer neu\", \"Crypto Finance AG\", \"Gerade ver\\u00f6ffentlicht\", \"not_created\", \"05.26.2021\", \"17:00:23\", \"0\"], [\"risk officer neu\", \"Crypto Finance AG\", \"Gerade ver\\u00f6ffentlicht\", \"not_created\", \"05.26.2021\", \"17:00:23\", \"0\"], [\"project officer neu\", \"World Health Organization\", \"Gerade ver\\u00f6ffentlicht\", \"not_created\", \"05.26.2021\", \"17:00:23\", \"0\"], [\"legal data protection officer dpo neu\", \"Yokoy Group AG\", \"Gerade ver\\u00f6ffentlicht\", \"not_created\", \"05.26.2021\", \"17:00:23\", \"0\"]], \"hovertemplate\": \"kmeans=%{customdata[6]}<br>pca_x=%{x}<br>pca_y=%{y}<br>titles=%{customdata[0]}<br>companies=%{customdata[1]}<br>date_listed=%{customdata[2]}<br>short_link=%{customdata[3]}<br>date_pulled=%{customdata[4]}<br>time_pulled=%{customdata[5]}<extra></extra>\", \"legendgroup\": \"0\", \"marker\": {\"color\": \"#00cc96\", \"symbol\": \"circle\"}, \"mode\": \"markers\", \"name\": \"0\", \"orientation\": \"v\", \"showlegend\": true, \"type\": \"scatter\", \"x\": [0.25593337405466704, 0.18360305721976675, 0.3786858248119454, -0.12845924972389738], \"xaxis\": \"x\", \"y\": [0.23077882683386444, 0.3554511499653016, 0.3173499264546473, 0.1665501746076286], \"yaxis\": \"y\"}, {\"customdata\": [[\"research associate biology immunology neu\", \"Ridgeline Discovery GmbH\", \"Gerade ver\\u00f6ffentlicht\", \"not_created\", \"05.26.2021\", \"17:00:23\", \"3\"], [\"senior research associate crispr cell biology neu\", \"Ridgeline Discovery GmbH\", \"Gerade ver\\u00f6ffentlicht\", \"not_created\", \"05.26.2021\", \"17:00:23\", \"3\"]], \"hovertemplate\": \"kmeans=%{customdata[6]}<br>pca_x=%{x}<br>pca_y=%{y}<br>titles=%{customdata[0]}<br>companies=%{customdata[1]}<br>date_listed=%{customdata[2]}<br>short_link=%{customdata[3]}<br>date_pulled=%{customdata[4]}<br>time_pulled=%{customdata[5]}<extra></extra>\", \"legendgroup\": \"3\", \"marker\": {\"color\": \"#ab63fa\", \"symbol\": \"circle\"}, \"mode\": \"markers\", \"name\": \"3\", \"orientation\": \"v\", \"showlegend\": true, \"type\": \"scatter\", \"x\": [-0.26658134692004887, -0.37624195315566794], \"xaxis\": \"x\", \"y\": [1.0666258942800804, 0.7869577396846495], \"yaxis\": \"y\"}, {\"customdata\": [[\"service sales engineer neu\", \"ABB\", \"Gerade ver\\u00f6ffentlicht\", \"not_created\", \"05.26.2021\", \"17:00:23\", \"5\"], [\"software engineer neu\", \"Kudelski SA\", \"Gerade ver\\u00f6ffentlicht\", \"not_created\", \"05.26.2021\", \"17:00:23\", \"5\"], [\"software engineer backend neu\", \"Deloitte\", \"Gerade ver\\u00f6ffentlicht\", \"not_created\", \"05.26.2021\", \"17:00:23\", \"5\"], [\"sr backend engineer ruby neu\", \"Yova AG\", \"Gerade ver\\u00f6ffentlicht\", \"not_created\", \"05.26.2021\", \"17:00:23\", \"5\"]], \"hovertemplate\": \"kmeans=%{customdata[6]}<br>pca_x=%{x}<br>pca_y=%{y}<br>titles=%{customdata[0]}<br>companies=%{customdata[1]}<br>date_listed=%{customdata[2]}<br>short_link=%{customdata[3]}<br>date_pulled=%{customdata[4]}<br>time_pulled=%{customdata[5]}<extra></extra>\", \"legendgroup\": \"5\", \"marker\": {\"color\": \"#FFA15A\", \"symbol\": \"circle\"}, \"mode\": \"markers\", \"name\": \"5\", \"orientation\": \"v\", \"showlegend\": true, \"type\": \"scatter\", \"x\": [0.5441764933784621, 0.8875923532430543, 0.787371100887748, 0.6879919296904465], \"xaxis\": \"x\", \"y\": [0.0367917021402316, 0.4377172671130351, 0.2195349014256868, 0.210210673085762], \"yaxis\": \"y\"}, {\"customdata\": [[\"senior legal consultant counterterrorism sanctions neu\", \"International Federation of Red Cross and Red Cres...\", \"Gerade ver\\u00f6ffentlicht\", \"not_created\", \"05.26.2021\", \"17:00:23\", \"4\"], [\"senior legal consultant counterterrorism sanctions neu\", \"IFRC\", \"Gerade ver\\u00f6ffentlicht\", \"not_created\", \"05.26.2021\", \"17:00:23\", \"4\"]], \"hovertemplate\": \"kmeans=%{customdata[6]}<br>pca_x=%{x}<br>pca_y=%{y}<br>titles=%{customdata[0]}<br>companies=%{customdata[1]}<br>date_listed=%{customdata[2]}<br>short_link=%{customdata[3]}<br>date_pulled=%{customdata[4]}<br>time_pulled=%{customdata[5]}<extra></extra>\", \"legendgroup\": \"4\", \"marker\": {\"color\": \"#19d3f3\", \"symbol\": \"circle\"}, \"mode\": \"markers\", \"name\": \"4\", \"orientation\": \"v\", \"showlegend\": true, \"type\": \"scatter\", \"x\": [-0.6740157859546557, -0.6740157859546557], \"xaxis\": \"x\", \"y\": [0.251754128854954, 0.2517541288549541], \"yaxis\": \"y\"}, {\"customdata\": [[\"client management private banking uhnwi greece cyprus neu\", \"Credit Suisse Campus\", \"Gerade ver\\u00f6ffentlicht\", \"not_created\", \"05.26.2021\", \"17:00:23\", \"6\"], [\"part time nanny housekeeper start august neu\", \"Good-People\", \"Gerade ver\\u00f6ffentlicht\", \"not_created\", \"05.26.2021\", \"17:00:23\", \"6\"], [\"nanny part time months old baby boy neu\", \"Good-People\", \"Gerade ver\\u00f6ffentlicht\", \"not_created\", \"05.26.2021\", \"17:00:23\", \"6\"]], \"hovertemplate\": \"kmeans=%{customdata[6]}<br>pca_x=%{x}<br>pca_y=%{y}<br>titles=%{customdata[0]}<br>companies=%{customdata[1]}<br>date_listed=%{customdata[2]}<br>short_link=%{customdata[3]}<br>date_pulled=%{customdata[4]}<br>time_pulled=%{customdata[5]}<extra></extra>\", \"legendgroup\": \"6\", \"marker\": {\"color\": \"#FF6692\", \"symbol\": \"circle\"}, \"mode\": \"markers\", \"name\": \"6\", \"orientation\": \"v\", \"showlegend\": true, \"type\": \"scatter\", \"x\": [-0.13501214882430068, -0.4538317517522167, -0.5059998259890797], \"xaxis\": \"x\", \"y\": [-0.3948999285209099, -0.36532189545007004, -0.331358431253183], \"yaxis\": \"y\"}],                        {\"height\": 720, \"legend\": {\"title\": {\"text\": \"kmeans\"}, \"tracegroupgap\": 0}, \"template\": {\"data\": {\"bar\": [{\"error_x\": {\"color\": \"#f2f5fa\"}, \"error_y\": {\"color\": \"#f2f5fa\"}, \"marker\": {\"line\": {\"color\": \"rgb(17,17,17)\", \"width\": 0.5}}, \"type\": \"bar\"}], \"barpolar\": [{\"marker\": {\"line\": {\"color\": \"rgb(17,17,17)\", \"width\": 0.5}}, \"type\": \"barpolar\"}], \"carpet\": [{\"aaxis\": {\"endlinecolor\": \"#A2B1C6\", \"gridcolor\": \"#506784\", \"linecolor\": \"#506784\", \"minorgridcolor\": \"#506784\", \"startlinecolor\": \"#A2B1C6\"}, \"baxis\": {\"endlinecolor\": \"#A2B1C6\", \"gridcolor\": \"#506784\", \"linecolor\": \"#506784\", \"minorgridcolor\": \"#506784\", \"startlinecolor\": \"#A2B1C6\"}, \"type\": \"carpet\"}], \"choropleth\": [{\"colorbar\": {\"outlinewidth\": 0, \"ticks\": \"\"}, \"type\": \"choropleth\"}], \"contour\": [{\"colorbar\": {\"outlinewidth\": 0, \"ticks\": \"\"}, \"colorscale\": [[0.0, \"#0d0887\"], [0.1111111111111111, \"#46039f\"], [0.2222222222222222, \"#7201a8\"], [0.3333333333333333, \"#9c179e\"], [0.4444444444444444, \"#bd3786\"], [0.5555555555555556, \"#d8576b\"], [0.6666666666666666, \"#ed7953\"], [0.7777777777777778, \"#fb9f3a\"], [0.8888888888888888, \"#fdca26\"], [1.0, \"#f0f921\"]], \"type\": \"contour\"}], \"contourcarpet\": [{\"colorbar\": {\"outlinewidth\": 0, \"ticks\": \"\"}, \"type\": \"contourcarpet\"}], \"heatmap\": [{\"colorbar\": {\"outlinewidth\": 0, \"ticks\": \"\"}, \"colorscale\": [[0.0, \"#0d0887\"], [0.1111111111111111, \"#46039f\"], [0.2222222222222222, \"#7201a8\"], [0.3333333333333333, \"#9c179e\"], [0.4444444444444444, \"#bd3786\"], [0.5555555555555556, \"#d8576b\"], [0.6666666666666666, \"#ed7953\"], [0.7777777777777778, \"#fb9f3a\"], [0.8888888888888888, \"#fdca26\"], [1.0, \"#f0f921\"]], \"type\": \"heatmap\"}], \"heatmapgl\": [{\"colorbar\": {\"outlinewidth\": 0, \"ticks\": \"\"}, \"colorscale\": [[0.0, \"#0d0887\"], [0.1111111111111111, \"#46039f\"], [0.2222222222222222, \"#7201a8\"], [0.3333333333333333, \"#9c179e\"], [0.4444444444444444, \"#bd3786\"], [0.5555555555555556, \"#d8576b\"], [0.6666666666666666, \"#ed7953\"], [0.7777777777777778, \"#fb9f3a\"], [0.8888888888888888, \"#fdca26\"], [1.0, \"#f0f921\"]], \"type\": \"heatmapgl\"}], \"histogram\": [{\"marker\": {\"colorbar\": {\"outlinewidth\": 0, \"ticks\": \"\"}}, \"type\": \"histogram\"}], \"histogram2d\": [{\"colorbar\": {\"outlinewidth\": 0, \"ticks\": \"\"}, \"colorscale\": [[0.0, \"#0d0887\"], [0.1111111111111111, \"#46039f\"], [0.2222222222222222, \"#7201a8\"], [0.3333333333333333, \"#9c179e\"], [0.4444444444444444, \"#bd3786\"], [0.5555555555555556, \"#d8576b\"], [0.6666666666666666, \"#ed7953\"], [0.7777777777777778, \"#fb9f3a\"], [0.8888888888888888, \"#fdca26\"], [1.0, \"#f0f921\"]], \"type\": \"histogram2d\"}], \"histogram2dcontour\": [{\"colorbar\": {\"outlinewidth\": 0, \"ticks\": \"\"}, \"colorscale\": [[0.0, \"#0d0887\"], [0.1111111111111111, \"#46039f\"], [0.2222222222222222, \"#7201a8\"], [0.3333333333333333, \"#9c179e\"], [0.4444444444444444, \"#bd3786\"], [0.5555555555555556, \"#d8576b\"], [0.6666666666666666, \"#ed7953\"], [0.7777777777777778, \"#fb9f3a\"], [0.8888888888888888, \"#fdca26\"], [1.0, \"#f0f921\"]], \"type\": \"histogram2dcontour\"}], \"mesh3d\": [{\"colorbar\": {\"outlinewidth\": 0, \"ticks\": \"\"}, \"type\": \"mesh3d\"}], \"parcoords\": [{\"line\": {\"colorbar\": {\"outlinewidth\": 0, \"ticks\": \"\"}}, \"type\": \"parcoords\"}], \"pie\": [{\"automargin\": true, \"type\": \"pie\"}], \"scatter\": [{\"marker\": {\"line\": {\"color\": \"#283442\"}}, \"type\": \"scatter\"}], \"scatter3d\": [{\"line\": {\"colorbar\": {\"outlinewidth\": 0, \"ticks\": \"\"}}, \"marker\": {\"colorbar\": {\"outlinewidth\": 0, \"ticks\": \"\"}}, \"type\": \"scatter3d\"}], \"scattercarpet\": [{\"marker\": {\"colorbar\": {\"outlinewidth\": 0, \"ticks\": \"\"}}, \"type\": \"scattercarpet\"}], \"scattergeo\": [{\"marker\": {\"colorbar\": {\"outlinewidth\": 0, \"ticks\": \"\"}}, \"type\": \"scattergeo\"}], \"scattergl\": [{\"marker\": {\"line\": {\"color\": \"#283442\"}}, \"type\": \"scattergl\"}], \"scattermapbox\": [{\"marker\": {\"colorbar\": {\"outlinewidth\": 0, \"ticks\": \"\"}}, \"type\": \"scattermapbox\"}], \"scatterpolar\": [{\"marker\": {\"colorbar\": {\"outlinewidth\": 0, \"ticks\": \"\"}}, \"type\": \"scatterpolar\"}], \"scatterpolargl\": [{\"marker\": {\"colorbar\": {\"outlinewidth\": 0, \"ticks\": \"\"}}, \"type\": \"scatterpolargl\"}], \"scatterternary\": [{\"marker\": {\"colorbar\": {\"outlinewidth\": 0, \"ticks\": \"\"}}, \"type\": \"scatterternary\"}], \"surface\": [{\"colorbar\": {\"outlinewidth\": 0, \"ticks\": \"\"}, \"colorscale\": [[0.0, \"#0d0887\"], [0.1111111111111111, \"#46039f\"], [0.2222222222222222, \"#7201a8\"], [0.3333333333333333, \"#9c179e\"], [0.4444444444444444, \"#bd3786\"], [0.5555555555555556, \"#d8576b\"], [0.6666666666666666, \"#ed7953\"], [0.7777777777777778, \"#fb9f3a\"], [0.8888888888888888, \"#fdca26\"], [1.0, \"#f0f921\"]], \"type\": \"surface\"}], \"table\": [{\"cells\": {\"fill\": {\"color\": \"#506784\"}, \"line\": {\"color\": \"rgb(17,17,17)\"}}, \"header\": {\"fill\": {\"color\": \"#2a3f5f\"}, \"line\": {\"color\": \"rgb(17,17,17)\"}}, \"type\": \"table\"}]}, \"layout\": {\"annotationdefaults\": {\"arrowcolor\": \"#f2f5fa\", \"arrowhead\": 0, \"arrowwidth\": 1}, \"autotypenumbers\": \"strict\", \"coloraxis\": {\"colorbar\": {\"outlinewidth\": 0, \"ticks\": \"\"}}, \"colorscale\": {\"diverging\": [[0, \"#8e0152\"], [0.1, \"#c51b7d\"], [0.2, \"#de77ae\"], [0.3, \"#f1b6da\"], [0.4, \"#fde0ef\"], [0.5, \"#f7f7f7\"], [0.6, \"#e6f5d0\"], [0.7, \"#b8e186\"], [0.8, \"#7fbc41\"], [0.9, \"#4d9221\"], [1, \"#276419\"]], \"sequential\": [[0.0, \"#0d0887\"], [0.1111111111111111, \"#46039f\"], [0.2222222222222222, \"#7201a8\"], [0.3333333333333333, \"#9c179e\"], [0.4444444444444444, \"#bd3786\"], [0.5555555555555556, \"#d8576b\"], [0.6666666666666666, \"#ed7953\"], [0.7777777777777778, \"#fb9f3a\"], [0.8888888888888888, \"#fdca26\"], [1.0, \"#f0f921\"]], \"sequentialminus\": [[0.0, \"#0d0887\"], [0.1111111111111111, \"#46039f\"], [0.2222222222222222, \"#7201a8\"], [0.3333333333333333, \"#9c179e\"], [0.4444444444444444, \"#bd3786\"], [0.5555555555555556, \"#d8576b\"], [0.6666666666666666, \"#ed7953\"], [0.7777777777777778, \"#fb9f3a\"], [0.8888888888888888, \"#fdca26\"], [1.0, \"#f0f921\"]]}, \"colorway\": [\"#636efa\", \"#EF553B\", \"#00cc96\", \"#ab63fa\", \"#FFA15A\", \"#19d3f3\", \"#FF6692\", \"#B6E880\", \"#FF97FF\", \"#FECB52\"], \"font\": {\"color\": \"#f2f5fa\"}, \"geo\": {\"bgcolor\": \"rgb(17,17,17)\", \"lakecolor\": \"rgb(17,17,17)\", \"landcolor\": \"rgb(17,17,17)\", \"showlakes\": true, \"showland\": true, \"subunitcolor\": \"#506784\"}, \"hoverlabel\": {\"align\": \"left\"}, \"hovermode\": \"closest\", \"mapbox\": {\"style\": \"dark\"}, \"paper_bgcolor\": \"rgb(17,17,17)\", \"plot_bgcolor\": \"rgb(17,17,17)\", \"polar\": {\"angularaxis\": {\"gridcolor\": \"#506784\", \"linecolor\": \"#506784\", \"ticks\": \"\"}, \"bgcolor\": \"rgb(17,17,17)\", \"radialaxis\": {\"gridcolor\": \"#506784\", \"linecolor\": \"#506784\", \"ticks\": \"\"}}, \"scene\": {\"xaxis\": {\"backgroundcolor\": \"rgb(17,17,17)\", \"gridcolor\": \"#506784\", \"gridwidth\": 2, \"linecolor\": \"#506784\", \"showbackground\": true, \"ticks\": \"\", \"zerolinecolor\": \"#C8D4E3\"}, \"yaxis\": {\"backgroundcolor\": \"rgb(17,17,17)\", \"gridcolor\": \"#506784\", \"gridwidth\": 2, \"linecolor\": \"#506784\", \"showbackground\": true, \"ticks\": \"\", \"zerolinecolor\": \"#C8D4E3\"}, \"zaxis\": {\"backgroundcolor\": \"rgb(17,17,17)\", \"gridcolor\": \"#506784\", \"gridwidth\": 2, \"linecolor\": \"#506784\", \"showbackground\": true, \"ticks\": \"\", \"zerolinecolor\": \"#C8D4E3\"}}, \"shapedefaults\": {\"line\": {\"color\": \"#f2f5fa\"}}, \"sliderdefaults\": {\"bgcolor\": \"#C8D4E3\", \"bordercolor\": \"rgb(17,17,17)\", \"borderwidth\": 1, \"tickwidth\": 0}, \"ternary\": {\"aaxis\": {\"gridcolor\": \"#506784\", \"linecolor\": \"#506784\", \"ticks\": \"\"}, \"baxis\": {\"gridcolor\": \"#506784\", \"linecolor\": \"#506784\", \"ticks\": \"\"}, \"bgcolor\": \"rgb(17,17,17)\", \"caxis\": {\"gridcolor\": \"#506784\", \"linecolor\": \"#506784\", \"ticks\": \"\"}}, \"title\": {\"x\": 0.05}, \"updatemenudefaults\": {\"bgcolor\": \"#506784\", \"borderwidth\": 0}, \"xaxis\": {\"automargin\": true, \"gridcolor\": \"#283442\", \"linecolor\": \"#506784\", \"ticks\": \"\", \"title\": {\"standoff\": 15}, \"zerolinecolor\": \"#283442\", \"zerolinewidth\": 2}, \"yaxis\": {\"automargin\": true, \"gridcolor\": \"#283442\", \"linecolor\": \"#506784\", \"ticks\": \"\", \"title\": {\"standoff\": 15}, \"zerolinecolor\": \"#283442\", \"zerolinewidth\": 2}}}, \"title\": {\"text\": \"May-26-2021 Vizualize Companies by titles text w word2vec | all lan='en' jobs in CH\"}, \"width\": 960, \"xaxis\": {\"anchor\": \"y\", \"domain\": [0.0, 1.0], \"title\": {\"text\": \"pca_x\"}}, \"yaxis\": {\"anchor\": \"x\", \"domain\": [0.0, 1.0], \"title\": {\"text\": \"pca_y\"}}},                        {\"responsive\": true}                    ).then(function(){\n",
              "                            \n",
              "var gd = document.getElementById('865f3d82-1c5d-4700-a941-bc877cdc8692');\n",
              "var x = new MutationObserver(function (mutations, observer) {{\n",
              "        var display = window.getComputedStyle(gd).display;\n",
              "        if (!display || display === 'none') {{\n",
              "            console.log([gd, 'removed!']);\n",
              "            Plotly.purge(gd);\n",
              "            observer.disconnect();\n",
              "        }}\n",
              "}});\n",
              "\n",
              "// Listen for the removal of the full notebook cells\n",
              "var notebookContainer = gd.closest('#notebook-container');\n",
              "if (notebookContainer) {{\n",
              "    x.observe(notebookContainer, {childList: true});\n",
              "}}\n",
              "\n",
              "// Listen for the clearing of the current output cell\n",
              "var outputEl = gd.closest('.output');\n",
              "if (outputEl) {{\n",
              "    x.observe(outputEl, {childList: true});\n",
              "}}\n",
              "\n",
              "                        })                };                            </script>        </div>\n",
              "</body>\n",
              "</html>"
            ]
          },
          "metadata": {
            "tags": []
          }
        },
        {
          "output_type": "stream",
          "text": [
            "plot generated -  2021-05-26 17:00:25.508739\n"
          ],
          "name": "stdout"
        }
      ]
    }
  ]
}