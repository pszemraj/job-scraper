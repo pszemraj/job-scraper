{
  "nbformat": 4,
  "nbformat_minor": 0,
  "metadata": {
    "kernelspec": {
      "display_name": "Python 3",
      "language": "python",
      "name": "python3"
    },
    "language_info": {
      "codemirror_mode": {
        "name": "ipython",
        "version": 3
      },
      "file_extension": ".py",
      "mimetype": "text/x-python",
      "name": "python",
      "nbconvert_exporter": "python",
      "pygments_lexer": "ipython3",
      "version": "3.7.3"
    },
    "colab": {
      "name": "Job Scraper Upgraded - CH Edition",
      "provenance": [],
      "collapsed_sections": [
        "QDAk9c3TjKM0",
        "F3JHDcx3hrsR"
      ],
      "toc_visible": true,
      "machine_shape": "hm",
      "include_colab_link": true
    }
  },
  "cells": [
    {
      "cell_type": "markdown",
      "metadata": {
        "id": "view-in-github",
        "colab_type": "text"
      },
      "source": [
        "<a href=\"https://colab.research.google.com/github/pszemraj/job-scraper/blob/master/switzerland/Job_Scraper_CH_Edition.ipynb\" target=\"_parent\"><img src=\"https://colab.research.google.com/assets/colab-badge.svg\" alt=\"Open In Colab\"/></a>"
      ]
    },
    {
      "cell_type": "markdown",
      "metadata": {
        "id": "-PjVjR8lmmQx"
      },
      "source": [
        "# Job Scraping + Viz: Modified for CH\n",
        "\n",
        "---\n",
        "Created by: [Peter Szemraj](https://peterszemraj.ch/)\n",
        "\n",
        "1. [link](https://github.com/pszemraj/job-scraper) to the repo of this project\n",
        "\n",
        "*Date 07.07.2021*\n",
        "\n",
        "---\n",
        "original code forked from [this article](https://towardsdatascience.com/automating-my-job-search-with-python-ee2b465c6a8f) on medium\n",
        "\n",
        "Key Features:\n",
        "1. connects to your google drive and saves the search files there\n",
        "2. clusters and visualizes job postings for faster \"find what I actually care about\"\n",
        "\n",
        "\n",
        "**Note**\n",
        "\n",
        "If you are editing this code / adapting to a different country/site for Indeed, sections that likely need to be changed are described with comments <font color='orange'>**in orange font**</font>\n",
        "\n",
        "---\n"
      ]
    },
    {
      "cell_type": "markdown",
      "metadata": {
        "id": "-Hhorcuihr-u"
      },
      "source": [
        "# Setup"
      ]
    },
    {
      "cell_type": "markdown",
      "metadata": {
        "id": "zEigMy50jJ4h"
      },
      "source": [
        "### Google Drive\n",
        "\n",
        "- If you don't wish to use this part, you can skip it. The below should still work on the virtual machine local directory, but files will likely need to be downloaded manually\n",
        "- To manually download files, click on the folder on the left side of your colab window (in the navigation pane)\n"
      ]
    },
    {
      "cell_type": "code",
      "metadata": {
        "id": "IvjZxeerD-uV"
      },
      "source": [
        "from datetime import date\n",
        "from google.colab import files\n",
        "from google.colab import drive\n",
        "import os\n",
        "from os.path import join"
      ],
      "execution_count": 1,
      "outputs": []
    },
    {
      "cell_type": "markdown",
      "metadata": {
        "id": "_yZvUCO1jj4Y"
      },
      "source": [
        "### Filepaths on Drive\n",
        "\n",
        "saves all runs to a folder in your google drive with today's date. Folder is created if it doesn't exist (run cell below)\n",
        "\n",
        "<font color='orange'> update the **directory** variable to a custom filepath if desired (only relevant if using google drive) </font>"
      ]
    },
    {
      "cell_type": "code",
      "metadata": {
        "id": "bIyU8N7fjKzV",
        "colab": {
          "base_uri": "https://localhost:8080/"
        },
        "cellView": "form",
        "outputId": "722edec7-84e5-44d4-e734-a5fd0b3c05ff"
      },
      "source": [
        "use_google_drive = False #@param {type:\"boolean\"}\n",
        "gdrive_directory = \"/content/drive/MyDrive/Career/job_search_repo\" #@param {type:\"string\"}\n",
        "os.makedirs(gdrive_directory, exist_ok=True)\n",
        "today = date.today()\n",
        "# Month abbreviation, day and year\t\n",
        "td_date = today.strftime(\"_%b-%d-%Y_\")\n",
        "folder_name = \"job_search_results_\" + td_date\n",
        "\n",
        "output_folder_path = join(gdrive_directory, folder_name)\n",
        "\n",
        "# create interface to upload / interact with google drive and video files\n",
        "if use_google_drive:\n",
        "    drive.mount('/content/drive')\n",
        "    os.makedirs(gdrive_directory, exist_ok=True)\n",
        "    os.chdir(output_folder_path)\n",
        "else:\n",
        "    output_folder_path = os.getcwd()\n",
        "    print(\"Not using google drive. will save files to google colab VM at {}\".format(output_folder_path))\n",
        "# after you allow the authentication, you can work using the path \"/content/drive/My Drive\"\n",
        "# if it works it will say \"Mounted at /content/drive\""
      ],
      "execution_count": 2,
      "outputs": [
        {
          "output_type": "stream",
          "text": [
            "Not using google drive. will save files to google colab VM at /content\n"
          ],
          "name": "stdout"
        }
      ]
    },
    {
      "cell_type": "markdown",
      "metadata": {
        "id": "QDAk9c3TjKM0"
      },
      "source": [
        "### Install & Import\n"
      ]
    },
    {
      "cell_type": "code",
      "metadata": {
        "id": "tffFYWQPi-KF"
      },
      "source": [
        "%%capture\n",
        "\"\"\"\n",
        "libraries added / installed by Peter\n",
        "\n",
        "\"\"\"\n",
        "\n",
        "!pip install -U selenium\n",
        "!pip install -U bs4\n",
        "!pip install -U texthero\n",
        "!pip install -U plotly\n",
        "!pip install pyshorteners\n",
        "!pip install -U kneed\n",
        "!pip install -U tensorflow_hub\n",
        "\n",
        "from os.path import join\n",
        "from google.colab import data_table\n",
        "from datetime import datetime, date\n",
        "import plotly.express as px\n",
        "import texthero as hero\n",
        "import pprint as pp\n",
        "import time\n",
        "\n",
        "%load_ext google.colab.data_table\n"
      ],
      "execution_count": 3,
      "outputs": []
    },
    {
      "cell_type": "code",
      "metadata": {
        "id": "L1Xu5tlXhpC8"
      },
      "source": [
        "\"\"\"\n",
        "libraries imported in the originally forked version of this code. \n",
        "\n",
        "Created on Tue Apr 28 11:35:04 2020\n",
        "@author: chrislovejoy\n",
        "\"\"\"\n",
        "import urllib\n",
        "import requests\n",
        "from bs4 import BeautifulSoup\n",
        "import selenium\n",
        "from selenium import webdriver\n",
        "from selenium.webdriver.support.ui import WebDriverWait\n",
        "import pandas as pd\n",
        "import os"
      ],
      "execution_count": 4,
      "outputs": []
    },
    {
      "cell_type": "markdown",
      "metadata": {
        "id": "2amAUOM5piqT"
      },
      "source": [
        "formats jupyter notebook / colab"
      ]
    },
    {
      "cell_type": "code",
      "metadata": {
        "id": "gFxtFF3Ql_4W"
      },
      "source": [
        "from IPython.display import HTML, display\n",
        "def set_css():\n",
        "  display(HTML('''\n",
        "  <style>\n",
        "    pre {\n",
        "        white-space: pre-wrap;\n",
        "    }\n",
        "  </style>\n",
        "  '''))\n",
        "get_ipython().events.register('pre_run_cell', set_css)"
      ],
      "execution_count": 5,
      "outputs": []
    },
    {
      "cell_type": "markdown",
      "metadata": {
        "id": "F3JHDcx3hrsR"
      },
      "source": [
        "# Job Search Functions\n"
      ]
    },
    {
      "cell_type": "markdown",
      "metadata": {
        "id": "dOvrznfs46rr"
      },
      "source": [
        "## generic\n",
        "\n",
        "cuttly [website](https://cutt.ly/edit)\n",
        "cuttly tutorial w/ Python [here](https://towardsdatascience.com/best-apis-for-url-shortening-using-python-2db09d1f86f0)\n",
        "\n",
        "\n",
        "pyshorteners [docs](https://pyshorteners.readthedocs.io/en/latest/)\n"
      ]
    },
    {
      "cell_type": "markdown",
      "metadata": {
        "id": "4Zpez9VIrXaL"
      },
      "source": [
        "### misc.\n",
        "\n",
        "<font color='orange'> add own API key for link shortening as needed</font>\n"
      ]
    },
    {
      "cell_type": "code",
      "metadata": {
        "id": "Mkf4LMbS2Ex6",
        "colab": {
          "base_uri": "https://localhost:8080/",
          "height": 17
        },
        "outputId": "665560a5-e6f7-49a6-da5a-f3387595cd29"
      },
      "source": [
        "import requests\n",
        "import time, random\n",
        "import pyshorteners\n",
        "\n",
        "def save_jobs_to_excel(jobs_list, filename, verbose=False):\n",
        "    # i have no idea what this function does\n",
        "    jobs = pd.DataFrame(jobs_list)\n",
        "    jobs.to_excel(filename)\n",
        "\n",
        "    if verbose:\n",
        "        print(\"saved the following to excel with filename {}: \\n\".format(filename))\n",
        "\n",
        "        print(jobs.info())\n",
        "    return jobs\n",
        "\n",
        "def shorten_URL_bitly(long_url, verbose=False):\n",
        "    # requires free account / API token. https://bitly.com/\n",
        "    # generate short URLs from the ones scraped \n",
        "\n",
        "    time.sleep(random.randint(1,5)) # don't overload API\n",
        "\n",
        "    ACCESS_TOKEN = \"hahah_get_ur_own\"\n",
        "\n",
        "    # Shorten long URL\n",
        "    try:\n",
        "        s = pyshorteners.Shortener(api_key=ACCESS_TOKEN)\n",
        "        short_url = s.bitly.short(long_url)\n",
        "\n",
        "        if verbose:\n",
        "            print (\"Short URL is {}\".format(short_url))\n",
        "    except:\n",
        "        print(\"Error accessing API for key {} and fn shorten_URL_bitly\".format(ACCESS_TOKEN))\n",
        "        print(\"Try updating API key / checking fn. Returning original url\")\n",
        "        short_url = long_url\n",
        "        \n",
        "    return short_url\n",
        "\n",
        "\n",
        "def text_first_N(text, num=40):\n",
        "    # returns the first N chars in text, i.e. for long job descriptions\n",
        "    # for use with Pandas .apply() function\n",
        "\n",
        "    text = str(text) #convert to string\n",
        "\n",
        "    if isinstance(text, list):\n",
        "        text = \" \".join(text)\n",
        "\n",
        "    if len(text) <= num:\n",
        "        return text\n",
        "    else:\n",
        "        short_text = text[:num]\n",
        "        return short_text + \"..\""
      ],
      "execution_count": 6,
      "outputs": [
        {
          "output_type": "display_data",
          "data": {
            "text/html": [
              "\n",
              "  <style>\n",
              "    pre {\n",
              "        white-space: pre-wrap;\n",
              "    }\n",
              "  </style>\n",
              "  "
            ],
            "text/plain": [
              "<IPython.core.display.HTML object>"
            ]
          },
          "metadata": {
            "tags": []
          }
        }
      ]
    },
    {
      "cell_type": "markdown",
      "metadata": {
        "id": "iKpVSo1HFMV-"
      },
      "source": [
        "### optimize k-means no.\n",
        "\n",
        "stole this snippet from a different project of mine - was written several months ago, don't judge the efficiency"
      ]
    },
    {
      "cell_type": "code",
      "metadata": {
        "id": "6FdgV9BNAF5n",
        "colab": {
          "base_uri": "https://localhost:8080/",
          "height": 17
        },
        "outputId": "ef78f7f1-4e50-43c8-dd68-61b2c6e45733"
      },
      "source": [
        "from kneed import KneeLocator\n",
        "from sklearn.cluster import KMeans\n",
        "from sklearn.preprocessing import StandardScaler\n",
        "\n",
        "def optimal_num_clustas(input_matrix, d_title, top_end=11, show_plot=False,\n",
        "                        write_image=False):\n",
        "    # given 'input_matrix' as a pandas series containing a list / vector in each\n",
        "    # row, find the optimal number of k_means clusters to cluster them using \n",
        "    # the elbow method\n",
        "\n",
        "    # 'top_end' is the max number of clusters. If having issues, look at the plot\n",
        "    # and adjust accordingly\n",
        "\n",
        "    scaler = StandardScaler()\n",
        "    # texthero input data structure is weird.\n",
        "    #  stole the below if/else from the source code behind TH kmeans fn\n",
        "    # https://github.com/jbesomi/texthero/blob/master/texthero/representation.py\n",
        "\n",
        "    if isinstance(input_matrix, pd.DataFrame):\n",
        "        # fixes weird issues parsing a texthero edited text pd series\n",
        "        input_matrix_coo = input_matrix.sparse.to_coo()\n",
        "        input_matrix_for_vectorization = input_matrix_coo.astype(\"float64\")\n",
        "    else:\n",
        "        input_matrix_for_vectorization = list(input_matrix)\n",
        "\n",
        "    scaled_features = scaler.fit_transform(input_matrix_for_vectorization)\n",
        "    kmeans_kwargs = {\n",
        "        \"init\": \"random\",\n",
        "        \"n_init\": 30,\n",
        "        \"max_iter\": 300,\n",
        "        \"random_state\": 42\n",
        "    }\n",
        "    # A list holds the SSE values for each k\n",
        "    sse = []\n",
        "    for k in range(1, top_end):\n",
        "        kmeans = KMeans(n_clusters=k, **kmeans_kwargs)\n",
        "        kmeans.fit(scaled_features)\n",
        "        sse.append(kmeans.inertia_)\n",
        "\n",
        "    # plot to illustrate (viewing it is optional)\n",
        "    title_k = 'Optimal k-means for' + d_title\n",
        "    kmeans_opt_df = pd.DataFrame(list(zip(range(1, top_end), sse)), columns=['Number of Clusters', 'SSE'])\n",
        "    f_k = px.line(kmeans_opt_df, x='Number of Clusters', y='SSE', title=title_k)\n",
        "    # find optimum\n",
        "    kl = KneeLocator(range(1, top_end), sse, \n",
        "                     curve=\"convex\", direction=\"decreasing\")\n",
        "    onk = kl.elbow\n",
        "\n",
        "    if onk is None:\n",
        "        print(\"Warning - {} has no solution for optimal k-means\".format(d_title))\n",
        "        print(\"Returning # of clusters as max allowed ( {} )\".format(top_end))\n",
        "        return top_end\n",
        "\n",
        "    if onk == top_end:\n",
        "        print(\"Warning - {} opt. # equals max value searched ({})\".format(d_title,\n",
        "                                                                          top_end))\n",
        "\n",
        "    print(\"\\nFor {}: opt. # of k-means clusters is {} \\n\".format(d_title, onk))\n",
        "    f_k.add_vline(x=onk) # add vertical line to plotly \n",
        "\n",
        "    if show_plot:\n",
        "        f_k.show() \n",
        "\n",
        "    if write_image:\n",
        "        f_k.write_image(join(output_path_full, title_k + \".png\"))\n",
        "\n",
        "    return onk"
      ],
      "execution_count": 7,
      "outputs": [
        {
          "output_type": "display_data",
          "data": {
            "text/html": [
              "\n",
              "  <style>\n",
              "    pre {\n",
              "        white-space: pre-wrap;\n",
              "    }\n",
              "  </style>\n",
              "  "
            ],
            "text/plain": [
              "<IPython.core.display.HTML object>"
            ]
          },
          "metadata": {
            "tags": []
          }
        }
      ]
    },
    {
      "cell_type": "markdown",
      "metadata": {
        "id": "jNYJN5pwsP9z"
      },
      "source": [
        "---"
      ]
    },
    {
      "cell_type": "markdown",
      "metadata": {
        "id": "KBiXnF2jzou_"
      },
      "source": [
        "## visualization \n",
        "\n",
        "Use texthero built-in visualization methods and then plot them *explicitly* in Plotly because it has dark mode and TextHero's plotly wrapper function does not\n",
        "\n",
        "- texthero represendation [docs](https://texthero.org/docs/api-representation)\n",
        "\n",
        "- plotly [scatterplot overview](https://plotly.com/python/line-and-scatter/)\n",
        "    - px.scatter() detailed [documentation](https://plotly.com/python-api-reference/generated/plotly.express.scatter)\n",
        "\n",
        "### Options:\n",
        "1. ```viz_job_data(df)``` is the OG version, vectorizes text with TFIDF and plots with PCA. \n",
        "    - Uses k-means nclusters as 5\n",
        "2. ```viz_job_data_word2vec(df)``` vectorizes text with word2vec (*computing \"average\" 300-d vector*) and plots with PCA\n",
        "    - computes optimal # of kmeans clusters (max set to 15)\n",
        "\n",
        "---"
      ]
    },
    {
      "cell_type": "markdown",
      "metadata": {
        "id": "AyYd-hdx7YWb"
      },
      "source": [
        "### standard\n",
        "\n",
        "\n",
        "uses everything built-in to the texthero package:\n",
        "- keeps kmeans clusters @ 5\n",
        "- text is converted to vector based on tf-idf\n",
        "    - (anecdotally this doesn't seem to work well if your \"document\" is short like these job listings)"
      ]
    },
    {
      "cell_type": "code",
      "metadata": {
        "id": "nlpav-ahzo07",
        "colab": {
          "base_uri": "https://localhost:8080/",
          "height": 17
        },
        "outputId": "e7db289a-5ef2-4d11-f9b2-d07eaaf8a45f"
      },
      "source": [
        "from datetime import datetime, date\n",
        "import plotly.express as px\n",
        "\n",
        "plots_made = 0\n",
        "\n",
        "def viz_job_data(viz_df, text_col_name, save_plot=False, h=720):\n",
        "\n",
        "    today = date.today()\n",
        "    # Month abbreviation, day and year\t\n",
        "    td_str = today.strftime(\"%b-%d-%Y\")\n",
        "\n",
        "    viz_df['tfidf'] = (\n",
        "        viz_df[text_col_name]\n",
        "        .pipe(hero.clean)\n",
        "        .pipe(hero.tfidf)\n",
        "    )\n",
        "\n",
        "    viz_df['kmeans'] = (\n",
        "        viz_df['tfidf']\n",
        "        .pipe(hero.kmeans, n_clusters=5)\n",
        "        .astype(str)\n",
        "    )\n",
        "\n",
        "    viz_df['pca'] = (\n",
        "        viz_df['tfidf']\n",
        "        .pipe(hero.pca)\n",
        "    )\n",
        "\n",
        "    hv_list = list(viz_df.columns)\n",
        "    hv_list.remove('tfidf')\n",
        "    hv_list.remove('pca')\n",
        "    hv_list.remove('summary')\n",
        "\n",
        "    plot_title = td_str + \" Vizualize Companies by {} Data\".format(text_col_name)\n",
        "\n",
        "    # reformat data so don't have to use built-in plotting \n",
        "\n",
        "    df_split_pca = pd.DataFrame(viz_df[\"pca\"].to_list(), columns=['pca_x', 'pca_y'])\n",
        "    viz_df.drop(columns=\"pca\", inplace=True) # drop original PCA column\n",
        "    viz_df = pd.concat([viz_df, df_split_pca], axis=1) # merge dataframes\n",
        "\n",
        "    # plot pca data\n",
        "    # texthero also features pther ways to reduce dimensions besides pca, see docs\n",
        "\n",
        "    w = int(h * (4/3))\n",
        "\n",
        "    fig_s = px.scatter(viz_df, x= \"pca_x\", y=\"pca_y\", color=\"kmeans\", \n",
        "                     hover_data=hv_list, title=plot_title, height=h, width=w,\n",
        "                     template=\"plotly_dark\")\n",
        "    fig_s.show()\n",
        "\n",
        "    if save_plot:\n",
        "        plots_made += 1\n",
        "\n",
        "        fig.write_html(plot_title + str(plots_made) + \".html\", \n",
        "                       include_plotlyjs=True)\n",
        "\n",
        "    print(\"plot generated - \", datetime.now())"
      ],
      "execution_count": 8,
      "outputs": [
        {
          "output_type": "display_data",
          "data": {
            "text/html": [
              "\n",
              "  <style>\n",
              "    pre {\n",
              "        white-space: pre-wrap;\n",
              "    }\n",
              "  </style>\n",
              "  "
            ],
            "text/plain": [
              "<IPython.core.display.HTML object>"
            ]
          },
          "metadata": {
            "tags": []
          }
        }
      ]
    },
    {
      "cell_type": "markdown",
      "metadata": {
        "id": "Ywbr89TOwiRp"
      },
      "source": [
        "### word2vec viz\n",
        "\n",
        "- word2vec [explanation](https://towardsdatascience.com/introduction-to-word-embedding-and-word2vec-652d0c2060fa) for those uninitiated\n",
        "-gensim [link](https://radimrehurek.com/gensim/auto_examples/tutorials/run_doc2vec_lee.html)\n",
        "\n",
        "Re: using word2vec in a basic way for sentence embedding\n",
        "\n",
        "> With the Word2Vec model, we can calculate the vectors for each word in a document. But what if we want to calculate a vector for the entire document? We could average the vectors for each word in the document - while this is quick and crude, it can often be useful. However, there is a better way… \n",
        "> *goes on to discuss doc2vec which does not have pretrained models*\n",
        "\n",
        "---\n",
        "\n",
        "re: ^ I am not doing the better way. Load the word2vec-google-news-300 dataset from gensim, then iterate through all words in the input text, generate the vector for that word, then take the mean of those. Only words with length 3 or greater are considered. \n",
        "\n",
        "---\n",
        "<font color='orange'>**DISCLAIMER: IT TAKES A BIT TO DOWNLOAD THE GENSIM / GOOGLE MODEL**</font>\n",
        "- <font color='orange'>possible to save the model locally (on disk/gdrive) if desired</font>\n"
      ]
    },
    {
      "cell_type": "code",
      "metadata": {
        "id": "Uk4Pi_PFwhkL",
        "colab": {
          "base_uri": "https://localhost:8080/",
          "height": 17
        },
        "outputId": "a4eddcd6-2471-4881-b21b-c55d2933c138"
      },
      "source": [
        "import gensim.downloader as api\n",
        "\n",
        "def load_gensim_word2vec(wvmodel=\"word2vec-google-news-300\", verbose=False):\n",
        "    # another option is the smaller: api.load(\"word2vec-ruscorpora-300\")\n",
        "    loaded_model = api.load(wvmodel)\n",
        "\n",
        "    print(\"loaded data for word2vec - \", datetime.now())\n",
        "\n",
        "    if verbose:\n",
        "        # for more info or bug fixing\n",
        "        wrdvecs = pd.DataFrame(loaded_model.vectors, \n",
        "                               index=loaded_model.key_to_index)\n",
        "        print(\"created dataframe from word2vec data- \", datetime.now())\n",
        "        print('dimensions of the df: \\n', wrdvecs.shape)\n",
        "\n",
        "    print(\"testing gensim model...\")\n",
        "    test_string = \"computer\"\n",
        "    vector = loaded_model.wv[test_string]\n",
        "\n",
        "    print(\"The shape of string {} is: \\n {}\".format(test_string, vector.shape))\n",
        "    print(\"test complete - \", datetime.now())\n",
        "\n",
        "    return loaded_model\n"
      ],
      "execution_count": 9,
      "outputs": [
        {
          "output_type": "display_data",
          "data": {
            "text/html": [
              "\n",
              "  <style>\n",
              "    pre {\n",
              "        white-space: pre-wrap;\n",
              "    }\n",
              "  </style>\n",
              "  "
            ],
            "text/plain": [
              "<IPython.core.display.HTML object>"
            ]
          },
          "metadata": {
            "tags": []
          }
        }
      ]
    },
    {
      "cell_type": "markdown",
      "metadata": {
        "id": "v9Ji5Lg9ELit"
      },
      "source": [
        "iterate through all words in the input text generate the word2vec vector for that word, then take the mean of those. Only words with length 3 or greater are considered.\n",
        "\n",
        "**note that if a word is not in the google news dataset, it is just skipped. If you think the graphs / representations are not good enough, you should check to ensure that a large amount of words (or fraction rather) are not being skipped)**\n",
        "* the verbose parameter helps with that"
      ]
    },
    {
      "cell_type": "code",
      "metadata": {
        "id": "Vn7CHPJZwhAv",
        "colab": {
          "base_uri": "https://localhost:8080/",
          "height": 17
        },
        "outputId": "df956590-8d29-456f-be67-48533465d480"
      },
      "source": [
        "import numpy as np\n",
        "\n",
        "def get_vector_freetext(input_text, model, verbose=0, cutoff=2):\n",
        "\n",
        "    # verbose = 1 shows you how many words were skipped\n",
        "    # verbose = 2 tells you each individual skipped word and ^\n",
        "    # 'cutoff' removes all words with length N or less from the rep. vector\n",
        "\n",
        "    lower_it = input_text.lower()\n",
        "    input_words = lower_it.split(\" \") # yes, this is an assumption\n",
        "    usable_words = [word for word in input_words if len(word) > cutoff]\n",
        "\n",
        "    list_of_vectors = []\n",
        "    num_words_total = len(usable_words)\n",
        "    num_excluded = 0\n",
        "\n",
        "    for word in usable_words:\n",
        "        try:\n",
        "            this_vector = model.wv[word]\n",
        "            list_of_vectors.append(this_vector)\n",
        "        except:\n",
        "            num_excluded += 1\n",
        "            if verbose == 2:\n",
        "                print(\"\\nThe word/term {} is not in the model vocab.\".format(word))\n",
        "                print(\"Excluding from representative vector\")\n",
        "\n",
        "    rep_vec = np.mean(list_of_vectors, axis=0)\n",
        "\n",
        "    if verbose > 0:\n",
        "        print(\"Computed representative vector. Excluded {} words out of {}\".format(num_excluded,\n",
        "                                                                            num_words_total))\n",
        "\n",
        "    return rep_vec"
      ],
      "execution_count": 10,
      "outputs": [
        {
          "output_type": "display_data",
          "data": {
            "text/html": [
              "\n",
              "  <style>\n",
              "    pre {\n",
              "        white-space: pre-wrap;\n",
              "    }\n",
              "  </style>\n",
              "  "
            ],
            "text/plain": [
              "<IPython.core.display.HTML object>"
            ]
          },
          "metadata": {
            "tags": []
          }
        }
      ]
    },
    {
      "cell_type": "markdown",
      "metadata": {
        "id": "-8NdBrCiyAnt"
      },
      "source": [
        "#### Plotting function"
      ]
    },
    {
      "cell_type": "code",
      "metadata": {
        "id": "VinUUQ7uwFqZ",
        "colab": {
          "base_uri": "https://localhost:8080/",
          "height": 17
        },
        "outputId": "fefa0761-f4bb-48e2-b30f-87b5817b035b"
      },
      "source": [
        "\n",
        "def viz_job_data_word2vec(viz_df, text_col_name, save_plot=False, h=720,\n",
        "                          query_name=\"\", show_text=False):\n",
        "\n",
        "    today = date.today()\n",
        "    # Month abbreviation, day and year\t\n",
        "    td_str = today.strftime(\"%b-%d-%Y\")\n",
        "\n",
        "    # compute word2vec avg vector for each row of text\n",
        "    viz_df['avg_vec'] = viz_df[text_col_name].apply(get_vector_freetext, \n",
        "                                                    args=(w2v_model,))\n",
        "\n",
        "    # get optimal number of kmeans. limit max to 15 for interpretability\n",
        "    max_clusters = 15\n",
        "    if len(viz_df['avg_vec']) < max_clusters: max_clusters = len(viz_df['avg_vec'])\n",
        "\n",
        "    kmeans_numC = optimal_num_clustas(viz_df['avg_vec'], \n",
        "                                      d_title='word2vec-' + query_name, \n",
        "                                      top_end=max_clusters)\n",
        "    \n",
        "    # complete k-means clustering + pca dim red. w/ avg_vec\n",
        "    if kmeans_numC is None:\n",
        "        kmeans_numC = 5 \n",
        "\n",
        "    viz_df['kmeans'] = (\n",
        "        viz_df['avg_vec']\n",
        "        .pipe(hero.kmeans, n_clusters=kmeans_numC, \n",
        "              algorithm=\"elkan\", random_state=42, n_init=30)\n",
        "        .astype(str)\n",
        "    )\n",
        "    # texthero has other algs to reduce dimensions besides pca, see docs\n",
        "    viz_df['pca'] = (\n",
        "        viz_df['avg_vec']\n",
        "        .pipe(hero.pca)\n",
        "    )\n",
        "\n",
        "    # generate list of column names for hover_data\n",
        "    hv_list = list(viz_df.columns)\n",
        "    hv_list.remove('avg_vec')\n",
        "    hv_list.remove('pca')\n",
        "    if \"tfidf\" in hv_list:\n",
        "        hv_list.remove('tfidf')\n",
        "    if \"summary\" in hv_list:\n",
        "        hv_list.remove('summary')\n",
        "\n",
        "    # reformat data so don't have to use texthero built-in plotting \n",
        "    df_split_pca = pd.DataFrame(viz_df[\"pca\"].to_list(), \n",
        "                                columns=['pca_x', 'pca_y'])\n",
        "    viz_df.drop(columns=\"pca\", inplace=True) # drop original PCA column\n",
        "    viz_df = pd.concat([viz_df, df_split_pca], axis=1) # merge dataframes\n",
        "\n",
        "    # set up plot pars (width, title, text)\n",
        "    w = int(h * (4/3))\n",
        "\n",
        "    if len(query_name) > 0:\n",
        "        # user provided query_name so include\n",
        "        plot_title = td_str + \" viz Jobs by '{}' via word2vec + pca\".format(text_col_name) + \" | \" + query_name\n",
        "    else:\n",
        "        plot_title = td_str + \" viz Jobs by '{}' via word2vec + pca\".format(text_col_name)\n",
        "\n",
        "    if show_text:\n",
        "        # adds company names to the plot if you want\n",
        "        viz_df[\"companies_abbrev\"] = viz_df[\"companies\"].apply(text_first_N, num=15)\n",
        "        graph_text_label = \"companies_abbrev\"\n",
        "    else:\n",
        "        graph_text_label = None\n",
        "    \n",
        "    # plot dimension-reduced data\n",
        "    fig_w2v = px.scatter(viz_df, x= \"pca_x\", y=\"pca_y\", color=\"kmeans\", \n",
        "                     hover_data=hv_list, title=plot_title, height=h, width=w,\n",
        "                     template=\"plotly_dark\", text=graph_text_label)\n",
        "    fig_w2v.show()\n",
        "\n",
        "    # save if requested \n",
        "    \n",
        "    if save_plot:\n",
        "        # saves the HTML file \n",
        "        # auto-saving as a static image is a lil difficult so just click on the interactive\n",
        "        # plot it generates \n",
        "        fig_w2v.write_html(plot_title + query_name + \"_\" + text_col_name + \".html\", \n",
        "                       include_plotlyjs=True)\n",
        "\n",
        "    print(\"plot generated - \", datetime.now())"
      ],
      "execution_count": 11,
      "outputs": [
        {
          "output_type": "display_data",
          "data": {
            "text/html": [
              "\n",
              "  <style>\n",
              "    pre {\n",
              "        white-space: pre-wrap;\n",
              "    }\n",
              "  </style>\n",
              "  "
            ],
            "text/plain": [
              "<IPython.core.display.HTML object>"
            ]
          },
          "metadata": {
            "tags": []
          }
        }
      ]
    },
    {
      "cell_type": "markdown",
      "metadata": {
        "id": "QTUHe7MeqDK9"
      },
      "source": [
        "### google USE"
      ]
    },
    {
      "cell_type": "markdown",
      "metadata": {
        "id": "FPvdyB01rVIQ"
      },
      "source": [
        "**Google Universal Sentence Encoder**\n",
        "\n",
        "```\n",
        "# Load model from TensorFlow Site\n",
        "# embed = hub.load(\"https://tfhub.dev/google/universal-sentence-encoder-large/5\")  # Large\n",
        "# embed = hub.load(\"https://tfhub.dev/google/universal-sentence-encoder-lite/2\") # Lite\n",
        "```"
      ]
    },
    {
      "cell_type": "code",
      "metadata": {
        "id": "f1adbZYpqILk",
        "colab": {
          "base_uri": "https://localhost:8080/",
          "height": 17
        },
        "outputId": "6d81f411-7ccd-458e-fbb9-7a25f1841f3e"
      },
      "source": [
        "import tensorflow_hub as hub\n",
        " \n",
        "def load_google_USE():\n",
        "    st = time.time()\n",
        "    embed = hub.load(\"https://tfhub.dev/google/universal-sentence-encoder/4\")\n",
        "    rt = (time.time() - st) / 60\n",
        "    print(\"loaded google USE embeddings in {} minutes\".format(round(rt,2)))\n",
        "\n",
        "    return embed\n"
      ],
      "execution_count": 12,
      "outputs": [
        {
          "output_type": "display_data",
          "data": {
            "text/html": [
              "\n",
              "  <style>\n",
              "    pre {\n",
              "        white-space: pre-wrap;\n",
              "    }\n",
              "  </style>\n",
              "  "
            ],
            "text/plain": [
              "<IPython.core.display.HTML object>"
            ]
          },
          "metadata": {
            "tags": []
          }
        }
      ]
    },
    {
      "cell_type": "markdown",
      "metadata": {
        "id": "ftJt9auUxi8-"
      },
      "source": [
        "#### USE plotting fn"
      ]
    },
    {
      "cell_type": "code",
      "metadata": {
        "id": "WdstTTr5rdL5",
        "colab": {
          "base_uri": "https://localhost:8080/",
          "height": 17
        },
        "outputId": "b2193ca7-cf73-4e25-de71-589cbc13eda2"
      },
      "source": [
        "\n",
        "def vizjobs_googleUSE(viz_df, text_col_name, USE_embedding, save_plot=False, h=720,\n",
        "                          query_name=\"\", show_text=False, viz_type=\"TSNE\"):\n",
        "\n",
        "    today = date.today()\n",
        "    # Month abbreviation, day and year\t\n",
        "    td_str = today.strftime(\"%b-%d-%Y\")\n",
        "\n",
        "    # generate embeddings for google USE. USE_embedding MUST be passed in\n",
        "    embeddings = USE_embedding(viz_df[text_col_name])  # create list from np arrays\n",
        "    use = np.array(embeddings).tolist()  # add lists as dataframe column\n",
        "    viz_df['use_vec'] = use\n",
        "\n",
        "    # get optimal number of kmeans. limit max to 15 for interpretability\n",
        "    max_clusters = 15\n",
        "    if len(viz_df['use_vec']) < max_clusters: max_clusters = len(viz_df['use_vec'])\n",
        "\n",
        "    kmeans_numC = optimal_num_clustas(viz_df['use_vec'], \n",
        "                                      d_title='google_USE-' + query_name, \n",
        "                                      top_end=max_clusters)\n",
        "    \n",
        "    # complete k-means clustering + pca dim red. w/ use_vec\n",
        "    if kmeans_numC is None:\n",
        "        kmeans_numC = 5 \n",
        "\n",
        "    viz_df['kmeans'] = (\n",
        "        viz_df['use_vec']\n",
        "        .pipe(hero.kmeans, n_clusters=kmeans_numC, \n",
        "              algorithm=\"elkan\", random_state=42, n_init=30)\n",
        "        .astype(str)\n",
        "    )\n",
        "\n",
        "    # use the vector for dimensionality reduction\n",
        "\n",
        "    if viz_type.lower() == \"tsne\":\n",
        "        viz_df['TSNE'] = (\n",
        "                        viz_df['use_vec']\n",
        "                                        .pipe(hero.tsne, random_state=42)\n",
        "        )\n",
        "    else:\n",
        "        viz_df['pca'] = (\n",
        "                        viz_df['use_vec']\n",
        "                                        .pipe(hero.pca)\n",
        "        )\n",
        "\n",
        "\n",
        "    # generate list of column names for hover_data in the html plot\n",
        "\n",
        "    hv_list = list(viz_df.columns)\n",
        "    hv_list.remove('use_vec')\n",
        "\n",
        "    if \"tfidf\" in hv_list:\n",
        "        hv_list.remove('tfidf')\n",
        "    if \"pca\" in hv_list:\n",
        "        hv_list.remove('pca')\n",
        "    if \"TSNE\" in hv_list:\n",
        "        hv_list.remove('TSNE')\n",
        "    if \"summary\" in hv_list:\n",
        "        hv_list.remove('summary')\n",
        "\n",
        "    # reformat data so don't have to use texthero built-in plotting \n",
        "\n",
        "    if viz_type.lower() == \"tsne\":\n",
        "        # TSNE reformat\n",
        "        df_split_tsne = pd.DataFrame(viz_df[\"TSNE\"].to_list(), \n",
        "                                    columns=['tsne_x', 'tsne_y'])\n",
        "        viz_df.drop(columns=\"TSNE\", inplace=True) # drop original PCA column\n",
        "        viz_df = pd.concat([viz_df, df_split_tsne], axis=1) # merge dataframes\n",
        "    else:\n",
        "        # PCA reformat\n",
        "        df_split_pca = pd.DataFrame(viz_df[\"pca\"].to_list(), \n",
        "                                    columns=['pca_x', 'pca_y'])\n",
        "        viz_df.drop(columns=\"pca\", inplace=True) # drop original PCA column\n",
        "        viz_df = pd.concat([viz_df, df_split_pca], axis=1) # merge dataframes\n",
        "\n",
        "    # set up plot pars (width, title, text)\n",
        "    w = int(h * (4/3))\n",
        "\n",
        "    if len(query_name) > 0:\n",
        "        # user provided query_name so include\n",
        "        plot_title = td_str + \" viz Jobs by '{}' via google USE + {}\".format(text_col_name, \n",
        "                                                                              viz_type) + \" | \" + query_name\n",
        "    else:\n",
        "        plot_title = td_str + \" viz Jobs by '{}' via google USE {}\".format(text_col_name,\n",
        "                                                                              viz_type)\n",
        "    if show_text:\n",
        "        # adds company names to the plot if you want\n",
        "        viz_df[\"companies_abbrev\"] = viz_df[\"companies\"].apply(text_first_N, num=15)\n",
        "        graph_text_label = \"companies_abbrev\"\n",
        "    else:\n",
        "        graph_text_label = None\n",
        "\n",
        "    # setup labels (decides pca or tsne)\n",
        "    if viz_type.lower() == \"tsne\":\n",
        "        plt_coords = ['tsne_x', 'tsne_y']\n",
        "    else:\n",
        "        plt_coords = ['pca_x', 'pca_y']\n",
        "    \n",
        "    # plot dimension-reduced data\n",
        "\n",
        "    viz_df.dropna(inplace=True)\n",
        "\n",
        "    fig_use = px.scatter(viz_df, x= plt_coords[0], y=plt_coords[1], color=\"kmeans\", \n",
        "                     hover_data=hv_list, title=plot_title, height=h, width=w,\n",
        "                     template=\"plotly_dark\", text=graph_text_label)\n",
        "    fig_use.show()\n",
        "\n",
        "    # save if requested \n",
        "    \n",
        "    if save_plot:\n",
        "        # saves the HTML file \n",
        "        # auto-saving as a static image is a lil difficult so just click on the interactive\n",
        "        # plot it generates \n",
        "        fig_use.write_html(plot_title + query_name + \"_\" + text_col_name + \".html\", \n",
        "                       include_plotlyjs=True)\n",
        "\n",
        "    print(\"plot generated - \", datetime.now())"
      ],
      "execution_count": 13,
      "outputs": [
        {
          "output_type": "display_data",
          "data": {
            "text/html": [
              "\n",
              "  <style>\n",
              "    pre {\n",
              "        white-space: pre-wrap;\n",
              "    }\n",
              "  </style>\n",
              "  "
            ],
            "text/plain": [
              "<IPython.core.display.HTML object>"
            ]
          },
          "metadata": {
            "tags": []
          }
        }
      ]
    },
    {
      "cell_type": "markdown",
      "metadata": {
        "id": "iXLtpj2BMvld"
      },
      "source": [
        "---"
      ]
    },
    {
      "cell_type": "markdown",
      "metadata": {
        "id": "uXL23kllsMn8"
      },
      "source": [
        "---"
      ]
    },
    {
      "cell_type": "markdown",
      "metadata": {
        "id": "rC593SxF473a"
      },
      "source": [
        "## CH get_jobs() general fn\n",
        "\n",
        "The main function find_jobs_from() adjusted to work for CH\n",
        "\n",
        "\n",
        "<font color='orange'>if customizing this code, you need to change this</font>"
      ]
    },
    {
      "cell_type": "code",
      "metadata": {
        "id": "6ujVfjl91mVh",
        "colab": {
          "base_uri": "https://localhost:8080/",
          "height": 17
        },
        "outputId": "5491ddcc-8a70-4a59-a927-1898867bcff7"
      },
      "source": [
        "from datetime import date\n",
        "import pprint as pp\n",
        "\n",
        "today = date.today()\n",
        "# Month abbreviation, day and year\t\n",
        "d4 = today.strftime(\"%b-%d-%Y\")\n",
        "\n",
        "default_filename = d4 + \"_[raw]_scraped_jobs_CH.xls\"\n",
        "\n",
        "def find_CHjobs_from(website, desired_characs, job_query, job_type=None, \n",
        "                   language=None, filename=default_filename, verbose=False):    \n",
        "    \"\"\"\n",
        "    This function extracts all the desired characteristics of all new job postings\n",
        "    of the title and location specified and returns them in single file.\n",
        "    The arguments it takes are:\n",
        "        - Website: to specify which website to search (options: 'indeed' or 'indeed_default')\n",
        "        - job_query: words that you want to narrow down the jobs to. for example 'data'\n",
        "        - job_type: 'internship' or 'fulltime' or 'permanent'\n",
        "        - language: 'en' or 'de' or leave blank\n",
        "        - Desired_characs: this is a list of the job characteristics of interest,\n",
        "            from titles, companies, links and date_listed.\n",
        "        - Filename: default is \"JS_test_results.xls\", can be changed to whatever \n",
        "    \"\"\"\n",
        "    \n",
        "    if website == 'indeed':\n",
        "        sp_search = load_indeed_jobs_CH(job_query, \n",
        "                                       job_type=job_type, language=language)\n",
        "        job_soup = sp_search.get(\"job_soup\")\n",
        "        URL_used = sp_search.get(\"query_URL\")\n",
        "\n",
        "        if verbose:\n",
        "            print(\"\\n The full HTML docs are: \\n\")\n",
        "            pp.pprint(job_soup, compact=True)\n",
        "        jobs_list, num_listings = extract_job_information_indeedCH(job_soup, \n",
        "                                                                   desired_characs,\n",
        "                                                                   uURL=URL_used)\n",
        "    elif website == 'indeed_default':\n",
        "        sp_search = load_indeed_jobs_CH(job_query, run_default=True)\n",
        "        job_soup = sp_search.get(\"job_soup\")\n",
        "        URL_used = sp_search.get(\"query_URL\")\n",
        "        if verbose:\n",
        "            print(\"\\n The full HTML docs are: \\n\")\n",
        "            pp.pprint(job_soup, compact=True)\n",
        "\n",
        "        jobs_list, num_listings = extract_job_information_indeedCH(job_soup, \n",
        "                                                                   desired_characs,\n",
        "                                                                   uURL=URL_used)\n",
        "\n",
        "    job_df = save_jobs_to_excel(jobs_list, filename)\n",
        " \n",
        "    print('{} new job postings retrieved from {}. Stored in {}.'.format(num_listings, \n",
        "                                                                          website, filename))\n",
        "    \n",
        "    return job_df\n",
        "        "
      ],
      "execution_count": 14,
      "outputs": [
        {
          "output_type": "display_data",
          "data": {
            "text/html": [
              "\n",
              "  <style>\n",
              "    pre {\n",
              "        white-space: pre-wrap;\n",
              "    }\n",
              "  </style>\n",
              "  "
            ],
            "text/plain": [
              "<IPython.core.display.HTML object>"
            ]
          },
          "metadata": {
            "tags": []
          }
        }
      ]
    },
    {
      "cell_type": "markdown",
      "metadata": {
        "id": "OLwW1mEe2P9F"
      },
      "source": [
        "## Indeed-scraping\n",
        "\n",
        "<font color='orange'>if customizing this code, you *may* need to change these </font>"
      ]
    },
    {
      "cell_type": "markdown",
      "metadata": {
        "id": "WViuK5h3eDFc"
      },
      "source": [
        "### main job scraping fn\n",
        "\n",
        "\n",
        "links used for testing / figuring out URL structure\n",
        "\n",
        "```\n",
        "website = \"https://ch.indeed.com/Switzerland-English-Jobs\"\n",
        "base ->\n",
        "example search https://ch.indeed.com/Stellen?q=Switzerland+English&jt=internship\n",
        "data job, language = EN, no others: https://ch.indeed.com/Stellen?q=data&lang=en\n",
        "^ but internship https://ch.indeed.com/Stellen?q=data&jt=internship&lang=en\n",
        "```"
      ]
    },
    {
      "cell_type": "code",
      "metadata": {
        "id": "rNpH9i8awJNX",
        "colab": {
          "base_uri": "https://localhost:8080/",
          "height": 17
        },
        "outputId": "a2f6e067-192e-4491-8762-129b2c06cadf"
      },
      "source": [
        "## added by Peter\n",
        "\n",
        "## indeed switzerland -------------------------------------------------------\n",
        "\n",
        "def load_indeed_jobs_CH(job_query, job_type=None, language=None, \n",
        "                        run_default=False):\n",
        "    i_website = \"https://ch.indeed.com/Stellen?\"\n",
        "    def_website = \"https://ch.indeed.com/Stellen?q=Switzerland+English&jt=internship\"\n",
        "    if run_default:\n",
        "        # switzerland has a unique page shown below, can run by default\n",
        "        # website = \"https://ch.indeed.com/Switzerland-English-Jobs\"\n",
        "\n",
        "        getVars = {'fromage' : 'last', \"limit\": '50', 'sort' : 'date'}\n",
        "\n",
        "        url = (def_website + urllib.parse.urlencode(getVars))\n",
        "        page = requests.get(url)\n",
        "        soup = BeautifulSoup(page.content, \"html.parser\")\n",
        "        job_soup = soup.find(id=\"resultsCol\")\n",
        "    else:\n",
        "        getVars = {'q' : job_query, 'jt' : job_type, 'lang' : language,\n",
        "                'fromage' : 'last', \"limit\": '50', 'sort' : 'date'}\n",
        "\n",
        "        # if values are not specified, then remove them from the dict (and URL)\n",
        "        if job_query is None:\n",
        "            del getVars['q']\n",
        "        if job_type is None:\n",
        "            del getVars['jt']\n",
        "        if language is None:\n",
        "            del getVars['lang']\n",
        "\n",
        "        url = (i_website + urllib.parse.urlencode(getVars))\n",
        "        page = requests.get(url)\n",
        "        soup = BeautifulSoup(page.content, \"html.parser\")\n",
        "        job_soup = soup.find(id=\"resultsCol\")\n",
        "\n",
        "    # return the job soup\n",
        "\n",
        "    soup_results = {\n",
        "        \"job_soup\": job_soup,\n",
        "        \"query_URL\": url\n",
        "\n",
        "    }\n",
        "    return soup_results\n",
        "\n",
        "\n"
      ],
      "execution_count": 15,
      "outputs": [
        {
          "output_type": "display_data",
          "data": {
            "text/html": [
              "\n",
              "  <style>\n",
              "    pre {\n",
              "        white-space: pre-wrap;\n",
              "    }\n",
              "  </style>\n",
              "  "
            ],
            "text/plain": [
              "<IPython.core.display.HTML object>"
            ]
          },
          "metadata": {
            "tags": []
          }
        }
      ]
    },
    {
      "cell_type": "markdown",
      "metadata": {
        "id": "1JtsmHpceIly"
      },
      "source": [
        "### helper / parsing functions\n"
      ]
    },
    {
      "cell_type": "code",
      "metadata": {
        "id": "dCZ31s1R2RJ-",
        "colab": {
          "base_uri": "https://localhost:8080/",
          "height": 17
        },
        "outputId": "11da8790-b450-4bdd-cf33-5064b64de187"
      },
      "source": [
        "import pprint as pp\n",
        "\n",
        "def_URL = \"https://ch.indeed.com/Stellen?\" + \"ADD_queries_here\" \n",
        "\n",
        "def extract_job_information_indeedCH(job_soup, desired_characs, uURL=def_URL, \n",
        "                                     verbose=False, print_all=False):\n",
        "    # job_elems = job_soup.find_all('div', class_='mosaic-zone-jobcards')\n",
        "    job_elems = job_soup.find_all('div', class_=\"job_seen_beacon\")\n",
        "\n",
        "    if print_all:\n",
        "        print(\"\\nAll found 'job elements' are as follows: \\n\")\n",
        "        pp.pprint(job_elems, compact=True)\n",
        "    \n",
        "    with open('job_elements.txt', 'w') as f:\n",
        "        # save to text file for investigation\n",
        "        print(job_elems, file=f)\n",
        "    \n",
        "    cols = []\n",
        "    extracted_info = []\n",
        "    \n",
        "    \n",
        "    if 'titles' in desired_characs:\n",
        "        titles = []\n",
        "        cols.append('titles')\n",
        "        for job_elem in job_elems:\n",
        "            titles.append(extract_job_title_indeed(job_elem,\n",
        "                                                   verbose=verbose))\n",
        "        extracted_info.append(titles)                    \n",
        "    \n",
        "    if 'companies' in desired_characs:\n",
        "        companies = []\n",
        "        cols.append('companies')\n",
        "        for job_elem in job_elems:\n",
        "            companies.append(extract_company_indeed(job_elem))\n",
        "        extracted_info.append(companies)\n",
        "    \n",
        "    if 'date_listed' in desired_characs:\n",
        "        dates = []\n",
        "        cols.append('date_listed')\n",
        "        for job_elem in job_elems:\n",
        "            dates.append(extract_date_indeed(job_elem))\n",
        "        extracted_info.append(dates)\n",
        "    \n",
        "    if 'summary' in desired_characs:\n",
        "        summaries = []\n",
        "        cols.append('summary')\n",
        "        for job_elem in job_elems:\n",
        "            summaries.append(extract_summary_indeed(job_elem))\n",
        "        extracted_info.append(summaries)\n",
        "\n",
        "    if 'links' in desired_characs:\n",
        "        links = []\n",
        "        cols.append('links')\n",
        "        for job_elem in job_elems:\n",
        "            links.append(extract_link_indeedCH(job_elem, uURL))\n",
        "        extracted_info.append(links)\n",
        "    \n",
        "    jobs_list = {}\n",
        "    \n",
        "    for j in range(len(cols)):\n",
        "        jobs_list[cols[j]] = extracted_info[j]\n",
        "    \n",
        "    num_listings = len(extracted_info[0])\n",
        "    \n",
        "    return jobs_list, num_listings\n",
        "\n",
        "\n",
        "def extract_job_title_indeed(job_elem, verbose=False):\n",
        "    title_elem = job_elem.select_one(\"span[title]\").text\n",
        "    if verbose: print(title_elem)\n",
        "    try:\n",
        "        title = title_elem.strip()\n",
        "    except:\n",
        "        title=\"no title\"\n",
        "    return title\n",
        "\n",
        "def extract_company_indeed(job_elem):\n",
        "    company_elem = job_elem.find('span', class_='companyName')\n",
        "    company = company_elem.text.strip()\n",
        "    return company\n",
        "\n",
        "def extract_link_indeedCH(job_elem, uURL):\n",
        "    # some manual shenanigans occur here\n",
        "    # working example https://ch.indeed.com/Stellen?q=data&jt=internship&lang=en&vjk=49ed864bd5e422fb\n",
        "\n",
        "    link = job_elem.find('a')['href']\n",
        "    uURL_list = uURL.split(\"&fromage=last\")\n",
        "    link = uURL_list[0] + \"&\" + link\n",
        "    # replace some text so that the link has a virtual job key. Found via trial and error\n",
        "    return link.replace(\"/rc/clk?jk=\", \"vjk=\")\n",
        "\n",
        "def extract_date_indeed(job_elem):\n",
        "    date_elem = job_elem.find('span', class_='date')\n",
        "    date = date_elem.text.strip()\n",
        "    return date\n",
        "\n",
        "def extract_summary_indeed(job_elem):\n",
        "    summary_elem = job_elem.find('div', class_='job-snippet')\n",
        "    summary = summary_elem.text.strip()\n",
        "    return summary\n",
        "\n"
      ],
      "execution_count": 16,
      "outputs": [
        {
          "output_type": "display_data",
          "data": {
            "text/html": [
              "\n",
              "  <style>\n",
              "    pre {\n",
              "        white-space: pre-wrap;\n",
              "    }\n",
              "  </style>\n",
              "  "
            ],
            "text/plain": [
              "<IPython.core.display.HTML object>"
            ]
          },
          "metadata": {
            "tags": []
          }
        }
      ]
    },
    {
      "cell_type": "markdown",
      "metadata": {
        "id": "9x8_xHCyeMVy"
      },
      "source": [
        "### postprocess\n",
        "\n",
        "1. input dataframe of scraped jobs from indeed\n",
        "2. ???\n",
        "3. output sexy_df"
      ]
    },
    {
      "cell_type": "code",
      "metadata": {
        "id": "MKrodaoTeaRU",
        "colab": {
          "base_uri": "https://localhost:8080/",
          "height": 17
        },
        "outputId": "1c23116a-7ac6-4008-da08-c13e53cda858"
      },
      "source": [
        "from google.colab import files\n",
        "from datetime import datetime\n",
        "\n",
        "def indeed_postprocess(i_df, query_term, query_jobtype, verbose=False,\n",
        "                       shorten_links=False, download_excel=False):\n",
        "    print(\"Starting postprocess - \", datetime.now())\n",
        "\n",
        "    # apply texthero cleaning\n",
        "    i_df[\"titles\"] = hero.clean(i_df[\"titles\"])\n",
        "    i_df[\"summary\"] = hero.clean(i_df[\"summary\"])\n",
        "\n",
        "    # use bit.ly to shorten links\n",
        "    if shorten_links:\n",
        "        try:\n",
        "            len(i_df[\"short_link\"])\n",
        "            print(\"found values for short_link, not-recreating\")\n",
        "        except:\n",
        "            print(\"no values exist for short_link, creating them now\")\n",
        "            # there is a random delay to not overload APIs, max rt is 5s * num_rows\n",
        "            i_df[\"short_link\"] = i_df[\"links\"].apply(shorten_URL_bitly) \n",
        "    else:\n",
        "        i_df[\"short_link\"] = \"not_created\"\n",
        "\n",
        "    # save file to excel\n",
        "    rn = datetime.now()\n",
        "    i_PP_date = rn.strftime(\"_%m.%d.%Y-%H-%M_\")\n",
        "    i_df[\"date_pulled\"] = rn.strftime(\"%m.%d.%Y\")\n",
        "    i_df[\"time_pulled\"] = rn.strftime(\"%H:%M:%S\")\n",
        "    out_name = \"JS_DB_\" + \"query=[term(s)=\" + query_term + \", type=\" + query_jobtype + \"]\" + i_PP_date + \".xlsx\"\n",
        "    i_df.to_excel(out_name)\n",
        "    if verbose: print(\"Saved {} - \".format(out_name), datetime.now())\n",
        "\n",
        "    # download if requested\n",
        "    if download_excel:\n",
        "        files.download(out_name)\n",
        "        if verbose: print(\"Downloaded {} - \".format(out_name), datetime.now())\n",
        "\n",
        "\n",
        "    return i_df"
      ],
      "execution_count": 17,
      "outputs": [
        {
          "output_type": "display_data",
          "data": {
            "text/html": [
              "\n",
              "  <style>\n",
              "    pre {\n",
              "        white-space: pre-wrap;\n",
              "    }\n",
              "  </style>\n",
              "  "
            ],
            "text/plain": [
              "<IPython.core.display.HTML object>"
            ]
          },
          "metadata": {
            "tags": []
          }
        }
      ]
    },
    {
      "cell_type": "markdown",
      "metadata": {
        "id": "WEfJ6a8Plg4l"
      },
      "source": [
        "quick printout of the datatable"
      ]
    },
    {
      "cell_type": "code",
      "metadata": {
        "id": "3CzjUiTkikDa",
        "colab": {
          "base_uri": "https://localhost:8080/",
          "height": 17
        },
        "outputId": "5f9bdfdb-d06a-4d74-f84d-ac097cf7b5e8"
      },
      "source": [
        "def indeed_datatable(i_df, count_what=\"companies\", freq_n=10):\n",
        "    # basically just wrote this to reduce code down below\n",
        "    # depends on the colab data_table.DataTable()\n",
        "    \n",
        "    print(\"Count of column '{}' appearances in search:\\n\".format(count_what))\n",
        "    comp_list_1 = i_df[count_what].value_counts()\n",
        "    pp.pprint(comp_list_1.head(freq_n), compact=True)  \n",
        "\n",
        "    i_df_disp = i_df.copy()\n",
        "    i_df_disp[\"summary_short\"] = i_df_disp[\"summary\"].apply(text_first_N)\n",
        "    i_df_disp.drop(columns=[\"links\", \"summary\"], inplace=True) # drop verbose columns\n",
        "\n",
        "    return i_df_disp \n",
        "\n",
        "    # i_df_disp for use inside \n",
        "    # data_table.DataTable(i_df_disp, \n",
        "                        #  include_index=False, num_rows_per_page=table_n)\n"
      ],
      "execution_count": 18,
      "outputs": [
        {
          "output_type": "display_data",
          "data": {
            "text/html": [
              "\n",
              "  <style>\n",
              "    pre {\n",
              "        white-space: pre-wrap;\n",
              "    }\n",
              "  </style>\n",
              "  "
            ],
            "text/plain": [
              "<IPython.core.display.HTML object>"
            ]
          },
          "metadata": {
            "tags": []
          }
        }
      ]
    },
    {
      "cell_type": "markdown",
      "metadata": {
        "id": "GhZ8o2jrsTIQ"
      },
      "source": [
        "---"
      ]
    },
    {
      "cell_type": "markdown",
      "metadata": {
        "id": "hV_apCm-iUXu"
      },
      "source": [
        "# Main"
      ]
    },
    {
      "cell_type": "markdown",
      "metadata": {
        "id": "RHCmgk5Hm4yj"
      },
      "source": [
        "## parameters"
      ]
    },
    {
      "cell_type": "markdown",
      "metadata": {
        "id": "S7SI68Z0NEd7"
      },
      "source": [
        "## key settings"
      ]
    },
    {
      "cell_type": "code",
      "metadata": {
        "colab": {
          "base_uri": "https://localhost:8080/",
          "height": 17
        },
        "cellView": "form",
        "id": "ffVCiozMNEd7",
        "outputId": "3bd4e909-5c92-499d-c689-57bc2606619e"
      },
      "source": [
        "# define whether or not to shorten links\n",
        "shorten_key = False #@param {type:\"boolean\"}\n",
        "# define whether or not to download excel versions of the files\n",
        "# download_key = for specific searches deemed relevant\n",
        "# download_all includes all searches\n",
        "download_key = True #@param {type:\"boolean\"}\n",
        "download_all = False #@param {type:\"boolean\"}\n",
        "\n",
        "# determines columns in output dataframe post-scraping\n",
        "desired_characs = ['titles', 'companies', 'links', \n",
        "                   'date_listed', 'summary']"
      ],
      "execution_count": 19,
      "outputs": [
        {
          "output_type": "display_data",
          "data": {
            "text/html": [
              "\n",
              "  <style>\n",
              "    pre {\n",
              "        white-space: pre-wrap;\n",
              "    }\n",
              "  </style>\n",
              "  "
            ],
            "text/plain": [
              "<IPython.core.display.HTML object>"
            ]
          },
          "metadata": {
            "tags": []
          }
        }
      ]
    },
    {
      "cell_type": "markdown",
      "metadata": {
        "id": "G9d6yv2i8kHq"
      },
      "source": [
        "### set and load models"
      ]
    },
    {
      "cell_type": "code",
      "metadata": {
        "colab": {
          "base_uri": "https://localhost:8080/",
          "height": 35
        },
        "id": "G38bq8ab8kcx",
        "cellView": "form",
        "outputId": "677efd3b-3ce5-415f-9d27-4dfb604b85c5"
      },
      "source": [
        "using_google_USE = True #@param {type:\"boolean\"}\n",
        "using_gensim_w2v = False #@param {type:\"boolean\"}\n",
        "\n",
        "# only load models declared as used\n",
        "\n",
        "if using_google_USE:\n",
        "    meine_embeddings = load_google_USE()\n",
        "\n",
        "if using_gensim_w2v:\n",
        "    w2v_model = load_gensim_word2vec()"
      ],
      "execution_count": 20,
      "outputs": [
        {
          "output_type": "display_data",
          "data": {
            "text/html": [
              "\n",
              "  <style>\n",
              "    pre {\n",
              "        white-space: pre-wrap;\n",
              "    }\n",
              "  </style>\n",
              "  "
            ],
            "text/plain": [
              "<IPython.core.display.HTML object>"
            ]
          },
          "metadata": {
            "tags": []
          }
        },
        {
          "output_type": "stream",
          "text": [
            "loaded google USE embeddings in 0.45 minutes\n"
          ],
          "name": "stdout"
        }
      ]
    },
    {
      "cell_type": "markdown",
      "metadata": {
        "id": "3IMX9kI95Awh"
      },
      "source": [
        "## Swiss Jobs - Indeed\n",
        "\n",
        "```\n",
        "This function extracts all the desired characteristics of all new job postings\n",
        "    of the title and location specified and returns them in single file.\n",
        "The arguments it takes are:\n",
        "\n",
        "    - Website: to specify which website to search \n",
        "        - (options: 'indeed' or 'indeed_default')\n",
        "    - job_query: words that you want to narrow down the jobs to. \n",
        "        - for example 'data'\n",
        "    - job_type: \n",
        "        - 'internship' or 'fulltime' or 'permanent'\n",
        "    - language: \n",
        "        - 'en' or 'de' or other languages.. 'fr'? ew\n",
        "    - Desired_characs: what columns of data do you want to extract? options are:\n",
        "        - 'titles', 'companies', 'links', 'date_listed', 'summary'\n",
        "    - Filename: default is \"JS_test_results.xls\", can be changed to whatever \n",
        "```\n"
      ]
    },
    {
      "cell_type": "markdown",
      "metadata": {
        "id": "h9RngcapfT9D"
      },
      "source": [
        "### query 1 - internship in \"data\""
      ]
    },
    {
      "cell_type": "code",
      "metadata": {
        "colab": {
          "base_uri": "https://localhost:8080/",
          "height": 17
        },
        "cellView": "form",
        "id": "VHv0KhDfNXQ9",
        "outputId": "b70530c9-1b97-4bff-aa93-895aab90c99e"
      },
      "source": [
        "jq1 = \"data\" #@param {type:\"string\"}\n",
        "jt1 = \"internship\" #@param {type:\"string\"}\n",
        "lan = \"en\" #@param {type:\"string\"}\n"
      ],
      "execution_count": 21,
      "outputs": [
        {
          "output_type": "display_data",
          "data": {
            "text/html": [
              "\n",
              "  <style>\n",
              "    pre {\n",
              "        white-space: pre-wrap;\n",
              "    }\n",
              "  </style>\n",
              "  "
            ],
            "text/plain": [
              "<IPython.core.display.HTML object>"
            ]
          },
          "metadata": {
            "tags": []
          }
        }
      ]
    },
    {
      "cell_type": "code",
      "metadata": {
        "id": "nLme2DE05A8J",
        "colab": {
          "base_uri": "https://localhost:8080/",
          "height": 795
        },
        "outputId": "6c65be09-3e6d-406e-8432-e65824cc313b"
      },
      "source": [
        "from google.colab import data_table\n",
        "\n",
        "# variables for fn defined in form above\n",
        "\n",
        "chdf1 = find_CHjobs_from(website=\"indeed\", desired_characs=desired_characs, \n",
        "                         job_query=jq1, job_type=jt1, language=lan)\n",
        "\n",
        "q1_processed = indeed_postprocess(chdf1, query_term=jq1, query_jobtype=jt1,\n",
        "                       shorten_links=shorten_key, download_excel=download_key)\n",
        "\n",
        "data_table.DataTable(indeed_datatable(q1_processed), \n",
        "                     include_index=False, num_rows_per_page=20)"
      ],
      "execution_count": 22,
      "outputs": [
        {
          "output_type": "display_data",
          "data": {
            "text/html": [
              "\n",
              "  <style>\n",
              "    pre {\n",
              "        white-space: pre-wrap;\n",
              "    }\n",
              "  </style>\n",
              "  "
            ],
            "text/plain": [
              "<IPython.core.display.HTML object>"
            ]
          },
          "metadata": {
            "tags": []
          }
        },
        {
          "output_type": "stream",
          "text": [
            "50 new job postings retrieved from indeed. Stored in Jul-08-2021_[raw]_scraped_jobs_CH.xls.\n",
            "Starting postprocess -  2021-07-08 03:49:55.055999\n"
          ],
          "name": "stdout"
        },
        {
          "output_type": "display_data",
          "data": {
            "application/javascript": [
              "\n",
              "    async function download(id, filename, size) {\n",
              "      if (!google.colab.kernel.accessAllowed) {\n",
              "        return;\n",
              "      }\n",
              "      const div = document.createElement('div');\n",
              "      const label = document.createElement('label');\n",
              "      label.textContent = `Downloading \"${filename}\": `;\n",
              "      div.appendChild(label);\n",
              "      const progress = document.createElement('progress');\n",
              "      progress.max = size;\n",
              "      div.appendChild(progress);\n",
              "      document.body.appendChild(div);\n",
              "\n",
              "      const buffers = [];\n",
              "      let downloaded = 0;\n",
              "\n",
              "      const channel = await google.colab.kernel.comms.open(id);\n",
              "      // Send a message to notify the kernel that we're ready.\n",
              "      channel.send({})\n",
              "\n",
              "      for await (const message of channel.messages) {\n",
              "        // Send a message to notify the kernel that we're ready.\n",
              "        channel.send({})\n",
              "        if (message.buffers) {\n",
              "          for (const buffer of message.buffers) {\n",
              "            buffers.push(buffer);\n",
              "            downloaded += buffer.byteLength;\n",
              "            progress.value = downloaded;\n",
              "          }\n",
              "        }\n",
              "      }\n",
              "      const blob = new Blob(buffers, {type: 'application/binary'});\n",
              "      const a = document.createElement('a');\n",
              "      a.href = window.URL.createObjectURL(blob);\n",
              "      a.download = filename;\n",
              "      div.appendChild(a);\n",
              "      a.click();\n",
              "      div.remove();\n",
              "    }\n",
              "  "
            ],
            "text/plain": [
              "<IPython.core.display.Javascript object>"
            ]
          },
          "metadata": {
            "tags": []
          }
        },
        {
          "output_type": "display_data",
          "data": {
            "application/javascript": [
              "download(\"download_8c0aa7db-dc00-4ace-80ab-b4519ac34d6f\", \"JS_DB_query=[term(s)=data, type=internship]_07.08.2021-03-49_.xlsx\", 10967)"
            ],
            "text/plain": [
              "<IPython.core.display.Javascript object>"
            ]
          },
          "metadata": {
            "tags": []
          }
        },
        {
          "output_type": "stream",
          "text": [
            "Count of column 'companies' appearances in search:\n",
            "\n",
            "EY                                             6\n",
            "Ernst & Young                                  3\n",
            "United Nations                                 3\n",
            "Novartis                                       3\n",
            "IWC                                            3\n",
            "International Telecommunication Union (ITU)    2\n",
            "On AG                                          2\n",
            "HILTI                                          2\n",
            "Lunaphore Technologies                         2\n",
            "swisspuls                                      1\n",
            "Name: companies, dtype: int64\n"
          ],
          "name": "stdout"
        },
        {
          "output_type": "execute_result",
          "data": {
            "application/vnd.google.colaboratory.module+javascript": "\n      import \"https://ssl.gstatic.com/colaboratory/data_table/a6224c040fa35dcf/data_table.js\";\n\n      window.createDataTable({\n        data: [[\"manager financial services risk emeia financial services\",\n\"EY\",\n\"Gerade geschaltet\",\n\"not_created\",\n\"07.08.2021\",\n\"03:49:55\",\n\"encouraged investigate new risk areas ex..\"],\n [\"intern finance peopleops strategy crypto startup\",\n\"CasperLabs\",\n\"Gerade geschaltet\",\n\"not_created\",\n\"07.08.2021\",\n\"03:49:55\",\n\"compile financial operational data repor..\"],\n [\"intern production clothing men classic f\",\n\"Holy Fashion Group\",\n\"Heute\",\n\"not_created\",\n\"07.08.2021\",\n\"03:49:55\",\n\"fascinating role rounded preparing seaso..\"],\n [\"intern thesis student - mechatronic mechanical design bu\",\n\"HILTI\",\n\"Heute\",\n\"not_created\",\n\"07.08.2021\",\n\"03:49:55\",\n\"matlab c coding basics plotting data man..\"],\n [\"corporate finance analyst trainee permanent position\",\n\"CreditGate24/Advanon\",\n\"Heute\",\n\"not_created\",\n\"07.08.2021\",\n\"03:49:55\",\n\"support data analytics stream analyzing ..\"],\n [\"intern data scientist\",\n\"Swiss Re\",\n\"Heute\",\n\"not_created\",\n\"07.08.2021\",\n\"03:49:55\",\n\"support developing impactful exciting da..\"],\n [\"material intern apparel\",\n\"On AG\",\n\"Heute\",\n\"not_created\",\n\"07.08.2021\",\n\"03:49:55\",\n\"help collate information material specif..\"],\n [\"training interniship\",\n\"LVMH\",\n\"Heute\",\n\"not_created\",\n\"07.08.2021\",\n\"03:49:55\",\n\"new collaborators accounts creation data..\"],\n [\"career internship advisor\",\n\"Sommet Education\",\n\"Heute\",\n\"not_created\",\n\"07.08.2021\",\n\"03:49:55\",\n\"ad hoc administrative tasks data collect..\"],\n [\"legal trainee 6months\",\n\"Swissquote\",\n\"Heute\",\n\"not_created\",\n\"07.08.2021\",\n\"03:49:55\",\n\"supporting team number different tasks r..\"],\n [\"unpaid internship junior programme officer intern\",\n\"International Telecommunication Union (ITU)\",\n\"vor 1 Tag\",\n\"not_created\",\n\"07.08.2021\",\n\"03:49:55\",\n\"type appointment internship duty station..\"],\n [\"unpaid internship climate change circular economy inte\",\n\"International Telecommunication Union (ITU)\",\n\"vor 1 Tag\",\n\"not_created\",\n\"07.08.2021\",\n\"03:49:55\",\n\"support data gathering circular economy ..\"],\n [\"business intelligence management office intern\",\n\"Inyova\",\n\"vor 1 Tag\",\n\"not_created\",\n\"07.08.2021\",\n\"03:49:55\",\n\"strong affinity experience data business..\"],\n [\"consultant w centralized audit analytics - ey assurance\",\n\"EY\",\n\"vor 1 Tag\",\n\"not_created\",\n\"07.08.2021\",\n\"03:49:55\",\n\"good knowledge data analysis basic exper..\"],\n [\"intern industrial controlling f x\",\n\"IWC\",\n\"vor 1 Tag\",\n\"not_created\",\n\"07.08.2021\",\n\"03:49:55\",\n\"preparation performance data products de..\"],\n [\"outsourcing coordination intern months\",\n\"BNP Paribas\",\n\"vor 1 Tag\",\n\"not_created\",\n\"07.08.2021\",\n\"03:49:55\",\n\"ensure oar database enrichment tprm refe..\"],\n [\"business intelligence management office intern\",\n\"Inyova AG\",\n\"vor 1 Tag\",\n\"not_created\",\n\"07.08.2021\",\n\"03:49:55\",\n\"strong affinity experience data work und..\"],\n [\"material intern apparel\",\n\"On Running\",\n\"vor 1 Tag\",\n\"not_created\",\n\"07.08.2021\",\n\"03:49:55\",\n\"help collate information material specif..\"],\n [\"social media trainee\",\n\"EF Education First\",\n\"vor 2 Tagen\",\n\"not_created\",\n\"07.08.2021\",\n\"03:49:55\",\n\"collect analyze critical user data maxim..\"],\n [\"intern marketing printed material f x\",\n\"IWC\",\n\"vor 2 Tagen\",\n\"not_created\",\n\"07.08.2021\",\n\"03:49:55\",\n\"dam data asset management platform coord..\"],\n [\"consultant cybersecurity technology consulting team emei\",\n\"Ernst & Young\",\n\"vor 2 Tagen\",\n\"not_created\",\n\"07.08.2021\",\n\"03:49:55\",\n\"addition also perform risk assurance act..\"],\n [\"internship non financial risk asset management\",\n\"Credit Suisse Campus\",\n\"vor 2 Tagen\",\n\"not_created\",\n\"07.08.2021\",\n\"03:49:55\",\n\"opportunity participate conducting loss ..\"],\n [\"senior consultant cybersecurity technology consulting team\",\n\"Ernst & Young\",\n\"vor 2 Tagen\",\n\"not_created\",\n\"07.08.2021\",\n\"03:49:55\",\n\"addition also perform risk assurance act..\"],\n [\"internship talent acquisition f\",\n\"swisspuls\",\n\"vor 2 Tagen\",\n\"not_created\",\n\"07.08.2021\",\n\"03:49:55\",\n\"support projects focus processes service..\"],\n [\"intern environment affairs temporary\",\n\"United Nations\",\n\"vor 3 Tagen\",\n\"not_created\",\n\"07.08.2021\",\n\"03:49:55\",\n\"identifying assessing collecting categor..\"],\n [\"internship confidential computing\",\n\"Decentriq\",\n\"vor 3 Tagen\",\n\"not_created\",\n\"07.08.2021\",\n\"03:49:55\",\n\"cutting edge development cryptography tr..\"],\n [\"flavourist trainee\",\n\"Givaudan\",\n\"vor 4 Tagen\",\n\"not_created\",\n\"07.08.2021\",\n\"03:49:55\",\n\"enter retrieve data using database softw..\"],\n [\"student intern\",\n\"Oracle\",\n\"vor 5 Tagen\",\n\"not_created\",\n\"07.08.2021\",\n\"03:49:55\",\n\"position work research early development..\"],\n [\"intern swiss public economic affairs\",\n\"Novartis\",\n\"vor 5 Tagen\",\n\"not_created\",\n\"07.08.2021\",\n\"03:49:55\",\n\"proficient data analysis statistics econ..\"],\n [\"strategy ops intern\",\n\"Novartis\",\n\"vor 5 Tagen\",\n\"not_created\",\n\"07.08.2021\",\n\"03:49:55\",\n\"strong analytical numerical ability tech..\"],\n [\"internship manufacturing engineering\",\n\"Optotune\",\n\"vor 5 Tagen\",\n\"not_created\",\n\"07.08.2021\",\n\"03:49:55\",\n\"support drive lean six sigma activities ..\"],\n [\"senior consultant - workforce advisory zurich basel g\",\n\"EY\",\n\"vor 6 Tagen\",\n\"not_created\",\n\"07.08.2021\",\n\"03:49:55\",\n\"years relevant consulting industry exper..\"],\n [\"senior manager - workforce advisory zurich basel gene\",\n\"EY\",\n\"vor 6 Tagen\",\n\"not_created\",\n\"07.08.2021\",\n\"03:49:55\",\n\"relevant consulting industry experience ..\"],\n [\"r lab technician mass spectrometry permanent position\",\n\"Kelly Services\",\n\"vor 6 Tagen\",\n\"not_created\",\n\"07.08.2021\",\n\"03:49:55\",\n\"generate transform deliver data timely m..\"],\n [\"finance operations intern\",\n\"Novartis\",\n\"vor 9 Tagen\",\n\"not_created\",\n\"07.08.2021\",\n\"03:49:55\",\n\"experience data management data analytic..\"],\n [\"intern supply chain operational excellence\",\n\"HILTI\",\n\"vor 13 Tagen\",\n\"not_created\",\n\"07.08.2021\",\n\"03:49:55\",\n\"bringing operational excellence producti..\"],\n [\"data analyst intern inclusion diversity lausanne switze\",\n\"Philip Morris International\",\n\"vor 9 Tagen\",\n\"not_created\",\n\"07.08.2021\",\n\"03:49:55\",\n\"hands experience analysing large data se..\"],\n [\"supply planning intern\",\n\"On AG\",\n\"vor 8 Tagen\",\n\"not_created\",\n\"07.08.2021\",\n\"03:49:55\",\n\"bachelor master degree preferably supply..\"],\n [\"intern strategy transactions vme\",\n\"Ernst & Young\",\n\"vor 12 Tagen\",\n\"not_created\",\n\"07.08.2021\",\n\"03:49:55\",\n\"advanced excel analytics competences rel..\"],\n [\"internship global marketing business intelligence f\",\n\"Straumann Group\",\n\"vor 11 Tagen\",\n\"not_created\",\n\"07.08.2021\",\n\"03:49:55\",\n\"analytical mindset try support decisions..\"],\n [\"consultant epm business consulting finance\",\n\"EY\",\n\"vor 8 Tagen\",\n\"not_created\",\n\"07.08.2021\",\n\"03:49:55\",\n\"displayed interest data analytics financ..\"],\n [\"application development intern assay optimization\",\n\"Lunaphore Technologies\",\n\"vor 7 Tagen\",\n\"not_created\",\n\"07.08.2021\",\n\"03:49:55\",\n\"good knowledge data analysis image proce..\"],\n [\"application development intern marker validation\",\n\"Lunaphore Technologies\",\n\"vor 7 Tagen\",\n\"not_created\",\n\"07.08.2021\",\n\"03:49:55\",\n\"good knowledge image processing data ana..\"],\n [\"intership sim stabilization axis system movi\",\n\"Rheinmetall Air Defence AG\",\n\"vor 8 Tagen\",\n\"not_created\",\n\"07.08.2021\",\n\"03:49:55\",\n\"implementation general model simulation ..\"],\n [\"unctad remote internship policy capacity building sec\",\n\"United Nations\",\n\"vor 8 Tagen\",\n\"not_created\",\n\"07.08.2021\",\n\"03:49:55\",\n\"focus internship assist section work upd..\"],\n [\"public information assistant temporary job opening tempor\",\n\"United Nations\",\n\"vor 11 Tagen\",\n\"not_created\",\n\"07.08.2021\",\n\"03:49:55\",\n\"ability conduct data collection using va..\"],\n [\"senior consultant epm business consulting finance\",\n\"EY\",\n\"vor 8 Tagen\",\n\"not_created\",\n\"07.08.2021\",\n\"03:49:55\",\n\"insights one following epm business inte..\"],\n [\"product manager marketing f x\",\n\"IWC\",\n\"vor 13 Tagen\",\n\"not_created\",\n\"07.08.2021\",\n\"03:49:55\",\n\"lead interns dedicated capacities respon..\"],\n [\"logistic inventory control intern\",\n\"Guess Europe Sagl\",\n\"vor 9 Tagen\",\n\"not_created\",\n\"07.08.2021\",\n\"03:49:55\",\n\"support corporate social responsibility ..\"],\n [\"account intern client services\",\n\"Publicis Groupe\",\n\"vor 8 Tagen\",\n\"not_created\",\n\"07.08.2021\",\n\"03:49:55\",\n\"planning research category competitive d..\"]],\n        columns: [[\"string\", \"titles\"], [\"string\", \"companies\"], [\"string\", \"date_listed\"], [\"string\", \"short_link\"], [\"string\", \"date_pulled\"], [\"string\", \"time_pulled\"], [\"string\", \"summary_short\"]],\n        columnOptions: [],\n        rowsPerPage: 20,\n        helpUrl: \"https://colab.research.google.com/notebooks/data_table.ipynb\",\n        suppressOutputScrolling: true,\n        minimumWidth: undefined,\n      });\n    ",
            "text/plain": [
              "<google.colab.data_table.DataTable object>"
            ],
            "text/html": [
              "<div>\n",
              "<style scoped>\n",
              "    .dataframe tbody tr th:only-of-type {\n",
              "        vertical-align: middle;\n",
              "    }\n",
              "\n",
              "    .dataframe tbody tr th {\n",
              "        vertical-align: top;\n",
              "    }\n",
              "\n",
              "    .dataframe thead th {\n",
              "        text-align: right;\n",
              "    }\n",
              "</style>\n",
              "<table border=\"1\" class=\"dataframe\">\n",
              "  <thead>\n",
              "    <tr style=\"text-align: right;\">\n",
              "      <th></th>\n",
              "      <th>titles</th>\n",
              "      <th>companies</th>\n",
              "      <th>date_listed</th>\n",
              "      <th>short_link</th>\n",
              "      <th>date_pulled</th>\n",
              "      <th>time_pulled</th>\n",
              "      <th>summary_short</th>\n",
              "    </tr>\n",
              "  </thead>\n",
              "  <tbody>\n",
              "    <tr>\n",
              "      <th>0</th>\n",
              "      <td>manager financial services risk emeia financia...</td>\n",
              "      <td>EY</td>\n",
              "      <td>Gerade geschaltet</td>\n",
              "      <td>not_created</td>\n",
              "      <td>07.08.2021</td>\n",
              "      <td>03:49:55</td>\n",
              "      <td>encouraged investigate new risk areas ex..</td>\n",
              "    </tr>\n",
              "    <tr>\n",
              "      <th>1</th>\n",
              "      <td>intern finance peopleops strategy crypto startup</td>\n",
              "      <td>CasperLabs</td>\n",
              "      <td>Gerade geschaltet</td>\n",
              "      <td>not_created</td>\n",
              "      <td>07.08.2021</td>\n",
              "      <td>03:49:55</td>\n",
              "      <td>compile financial operational data repor..</td>\n",
              "    </tr>\n",
              "    <tr>\n",
              "      <th>2</th>\n",
              "      <td>intern production clothing men classic f</td>\n",
              "      <td>Holy Fashion Group</td>\n",
              "      <td>Heute</td>\n",
              "      <td>not_created</td>\n",
              "      <td>07.08.2021</td>\n",
              "      <td>03:49:55</td>\n",
              "      <td>fascinating role rounded preparing seaso..</td>\n",
              "    </tr>\n",
              "    <tr>\n",
              "      <th>3</th>\n",
              "      <td>intern thesis student - mechatronic mechanical...</td>\n",
              "      <td>HILTI</td>\n",
              "      <td>Heute</td>\n",
              "      <td>not_created</td>\n",
              "      <td>07.08.2021</td>\n",
              "      <td>03:49:55</td>\n",
              "      <td>matlab c coding basics plotting data man..</td>\n",
              "    </tr>\n",
              "    <tr>\n",
              "      <th>4</th>\n",
              "      <td>corporate finance analyst trainee permanent po...</td>\n",
              "      <td>CreditGate24/Advanon</td>\n",
              "      <td>Heute</td>\n",
              "      <td>not_created</td>\n",
              "      <td>07.08.2021</td>\n",
              "      <td>03:49:55</td>\n",
              "      <td>support data analytics stream analyzing ..</td>\n",
              "    </tr>\n",
              "    <tr>\n",
              "      <th>5</th>\n",
              "      <td>intern data scientist</td>\n",
              "      <td>Swiss Re</td>\n",
              "      <td>Heute</td>\n",
              "      <td>not_created</td>\n",
              "      <td>07.08.2021</td>\n",
              "      <td>03:49:55</td>\n",
              "      <td>support developing impactful exciting da..</td>\n",
              "    </tr>\n",
              "    <tr>\n",
              "      <th>6</th>\n",
              "      <td>material intern apparel</td>\n",
              "      <td>On AG</td>\n",
              "      <td>Heute</td>\n",
              "      <td>not_created</td>\n",
              "      <td>07.08.2021</td>\n",
              "      <td>03:49:55</td>\n",
              "      <td>help collate information material specif..</td>\n",
              "    </tr>\n",
              "    <tr>\n",
              "      <th>7</th>\n",
              "      <td>training interniship</td>\n",
              "      <td>LVMH</td>\n",
              "      <td>Heute</td>\n",
              "      <td>not_created</td>\n",
              "      <td>07.08.2021</td>\n",
              "      <td>03:49:55</td>\n",
              "      <td>new collaborators accounts creation data..</td>\n",
              "    </tr>\n",
              "    <tr>\n",
              "      <th>8</th>\n",
              "      <td>career internship advisor</td>\n",
              "      <td>Sommet Education</td>\n",
              "      <td>Heute</td>\n",
              "      <td>not_created</td>\n",
              "      <td>07.08.2021</td>\n",
              "      <td>03:49:55</td>\n",
              "      <td>ad hoc administrative tasks data collect..</td>\n",
              "    </tr>\n",
              "    <tr>\n",
              "      <th>9</th>\n",
              "      <td>legal trainee 6months</td>\n",
              "      <td>Swissquote</td>\n",
              "      <td>Heute</td>\n",
              "      <td>not_created</td>\n",
              "      <td>07.08.2021</td>\n",
              "      <td>03:49:55</td>\n",
              "      <td>supporting team number different tasks r..</td>\n",
              "    </tr>\n",
              "    <tr>\n",
              "      <th>10</th>\n",
              "      <td>unpaid internship junior programme officer intern</td>\n",
              "      <td>International Telecommunication Union (ITU)</td>\n",
              "      <td>vor 1 Tag</td>\n",
              "      <td>not_created</td>\n",
              "      <td>07.08.2021</td>\n",
              "      <td>03:49:55</td>\n",
              "      <td>type appointment internship duty station..</td>\n",
              "    </tr>\n",
              "    <tr>\n",
              "      <th>11</th>\n",
              "      <td>unpaid internship climate change circular econ...</td>\n",
              "      <td>International Telecommunication Union (ITU)</td>\n",
              "      <td>vor 1 Tag</td>\n",
              "      <td>not_created</td>\n",
              "      <td>07.08.2021</td>\n",
              "      <td>03:49:55</td>\n",
              "      <td>support data gathering circular economy ..</td>\n",
              "    </tr>\n",
              "    <tr>\n",
              "      <th>12</th>\n",
              "      <td>business intelligence management office intern</td>\n",
              "      <td>Inyova</td>\n",
              "      <td>vor 1 Tag</td>\n",
              "      <td>not_created</td>\n",
              "      <td>07.08.2021</td>\n",
              "      <td>03:49:55</td>\n",
              "      <td>strong affinity experience data business..</td>\n",
              "    </tr>\n",
              "    <tr>\n",
              "      <th>13</th>\n",
              "      <td>consultant w centralized audit analytics - ey ...</td>\n",
              "      <td>EY</td>\n",
              "      <td>vor 1 Tag</td>\n",
              "      <td>not_created</td>\n",
              "      <td>07.08.2021</td>\n",
              "      <td>03:49:55</td>\n",
              "      <td>good knowledge data analysis basic exper..</td>\n",
              "    </tr>\n",
              "    <tr>\n",
              "      <th>14</th>\n",
              "      <td>intern industrial controlling f x</td>\n",
              "      <td>IWC</td>\n",
              "      <td>vor 1 Tag</td>\n",
              "      <td>not_created</td>\n",
              "      <td>07.08.2021</td>\n",
              "      <td>03:49:55</td>\n",
              "      <td>preparation performance data products de..</td>\n",
              "    </tr>\n",
              "    <tr>\n",
              "      <th>15</th>\n",
              "      <td>outsourcing coordination intern months</td>\n",
              "      <td>BNP Paribas</td>\n",
              "      <td>vor 1 Tag</td>\n",
              "      <td>not_created</td>\n",
              "      <td>07.08.2021</td>\n",
              "      <td>03:49:55</td>\n",
              "      <td>ensure oar database enrichment tprm refe..</td>\n",
              "    </tr>\n",
              "    <tr>\n",
              "      <th>16</th>\n",
              "      <td>business intelligence management office intern</td>\n",
              "      <td>Inyova AG</td>\n",
              "      <td>vor 1 Tag</td>\n",
              "      <td>not_created</td>\n",
              "      <td>07.08.2021</td>\n",
              "      <td>03:49:55</td>\n",
              "      <td>strong affinity experience data work und..</td>\n",
              "    </tr>\n",
              "    <tr>\n",
              "      <th>17</th>\n",
              "      <td>material intern apparel</td>\n",
              "      <td>On Running</td>\n",
              "      <td>vor 1 Tag</td>\n",
              "      <td>not_created</td>\n",
              "      <td>07.08.2021</td>\n",
              "      <td>03:49:55</td>\n",
              "      <td>help collate information material specif..</td>\n",
              "    </tr>\n",
              "    <tr>\n",
              "      <th>18</th>\n",
              "      <td>social media trainee</td>\n",
              "      <td>EF Education First</td>\n",
              "      <td>vor 2 Tagen</td>\n",
              "      <td>not_created</td>\n",
              "      <td>07.08.2021</td>\n",
              "      <td>03:49:55</td>\n",
              "      <td>collect analyze critical user data maxim..</td>\n",
              "    </tr>\n",
              "    <tr>\n",
              "      <th>19</th>\n",
              "      <td>intern marketing printed material f x</td>\n",
              "      <td>IWC</td>\n",
              "      <td>vor 2 Tagen</td>\n",
              "      <td>not_created</td>\n",
              "      <td>07.08.2021</td>\n",
              "      <td>03:49:55</td>\n",
              "      <td>dam data asset management platform coord..</td>\n",
              "    </tr>\n",
              "    <tr>\n",
              "      <th>20</th>\n",
              "      <td>consultant cybersecurity technology consulting...</td>\n",
              "      <td>Ernst &amp; Young</td>\n",
              "      <td>vor 2 Tagen</td>\n",
              "      <td>not_created</td>\n",
              "      <td>07.08.2021</td>\n",
              "      <td>03:49:55</td>\n",
              "      <td>addition also perform risk assurance act..</td>\n",
              "    </tr>\n",
              "    <tr>\n",
              "      <th>21</th>\n",
              "      <td>internship non financial risk asset management</td>\n",
              "      <td>Credit Suisse Campus</td>\n",
              "      <td>vor 2 Tagen</td>\n",
              "      <td>not_created</td>\n",
              "      <td>07.08.2021</td>\n",
              "      <td>03:49:55</td>\n",
              "      <td>opportunity participate conducting loss ..</td>\n",
              "    </tr>\n",
              "    <tr>\n",
              "      <th>22</th>\n",
              "      <td>senior consultant cybersecurity technology con...</td>\n",
              "      <td>Ernst &amp; Young</td>\n",
              "      <td>vor 2 Tagen</td>\n",
              "      <td>not_created</td>\n",
              "      <td>07.08.2021</td>\n",
              "      <td>03:49:55</td>\n",
              "      <td>addition also perform risk assurance act..</td>\n",
              "    </tr>\n",
              "    <tr>\n",
              "      <th>23</th>\n",
              "      <td>internship talent acquisition f</td>\n",
              "      <td>swisspuls</td>\n",
              "      <td>vor 2 Tagen</td>\n",
              "      <td>not_created</td>\n",
              "      <td>07.08.2021</td>\n",
              "      <td>03:49:55</td>\n",
              "      <td>support projects focus processes service..</td>\n",
              "    </tr>\n",
              "    <tr>\n",
              "      <th>24</th>\n",
              "      <td>intern environment affairs temporary</td>\n",
              "      <td>United Nations</td>\n",
              "      <td>vor 3 Tagen</td>\n",
              "      <td>not_created</td>\n",
              "      <td>07.08.2021</td>\n",
              "      <td>03:49:55</td>\n",
              "      <td>identifying assessing collecting categor..</td>\n",
              "    </tr>\n",
              "    <tr>\n",
              "      <th>25</th>\n",
              "      <td>internship confidential computing</td>\n",
              "      <td>Decentriq</td>\n",
              "      <td>vor 3 Tagen</td>\n",
              "      <td>not_created</td>\n",
              "      <td>07.08.2021</td>\n",
              "      <td>03:49:55</td>\n",
              "      <td>cutting edge development cryptography tr..</td>\n",
              "    </tr>\n",
              "    <tr>\n",
              "      <th>26</th>\n",
              "      <td>flavourist trainee</td>\n",
              "      <td>Givaudan</td>\n",
              "      <td>vor 4 Tagen</td>\n",
              "      <td>not_created</td>\n",
              "      <td>07.08.2021</td>\n",
              "      <td>03:49:55</td>\n",
              "      <td>enter retrieve data using database softw..</td>\n",
              "    </tr>\n",
              "    <tr>\n",
              "      <th>27</th>\n",
              "      <td>student intern</td>\n",
              "      <td>Oracle</td>\n",
              "      <td>vor 5 Tagen</td>\n",
              "      <td>not_created</td>\n",
              "      <td>07.08.2021</td>\n",
              "      <td>03:49:55</td>\n",
              "      <td>position work research early development..</td>\n",
              "    </tr>\n",
              "    <tr>\n",
              "      <th>28</th>\n",
              "      <td>intern swiss public economic affairs</td>\n",
              "      <td>Novartis</td>\n",
              "      <td>vor 5 Tagen</td>\n",
              "      <td>not_created</td>\n",
              "      <td>07.08.2021</td>\n",
              "      <td>03:49:55</td>\n",
              "      <td>proficient data analysis statistics econ..</td>\n",
              "    </tr>\n",
              "    <tr>\n",
              "      <th>29</th>\n",
              "      <td>strategy ops intern</td>\n",
              "      <td>Novartis</td>\n",
              "      <td>vor 5 Tagen</td>\n",
              "      <td>not_created</td>\n",
              "      <td>07.08.2021</td>\n",
              "      <td>03:49:55</td>\n",
              "      <td>strong analytical numerical ability tech..</td>\n",
              "    </tr>\n",
              "    <tr>\n",
              "      <th>30</th>\n",
              "      <td>internship manufacturing engineering</td>\n",
              "      <td>Optotune</td>\n",
              "      <td>vor 5 Tagen</td>\n",
              "      <td>not_created</td>\n",
              "      <td>07.08.2021</td>\n",
              "      <td>03:49:55</td>\n",
              "      <td>support drive lean six sigma activities ..</td>\n",
              "    </tr>\n",
              "    <tr>\n",
              "      <th>31</th>\n",
              "      <td>senior consultant - workforce advisory zurich ...</td>\n",
              "      <td>EY</td>\n",
              "      <td>vor 6 Tagen</td>\n",
              "      <td>not_created</td>\n",
              "      <td>07.08.2021</td>\n",
              "      <td>03:49:55</td>\n",
              "      <td>years relevant consulting industry exper..</td>\n",
              "    </tr>\n",
              "    <tr>\n",
              "      <th>32</th>\n",
              "      <td>senior manager - workforce advisory zurich bas...</td>\n",
              "      <td>EY</td>\n",
              "      <td>vor 6 Tagen</td>\n",
              "      <td>not_created</td>\n",
              "      <td>07.08.2021</td>\n",
              "      <td>03:49:55</td>\n",
              "      <td>relevant consulting industry experience ..</td>\n",
              "    </tr>\n",
              "    <tr>\n",
              "      <th>33</th>\n",
              "      <td>r lab technician mass spectrometry permanent p...</td>\n",
              "      <td>Kelly Services</td>\n",
              "      <td>vor 6 Tagen</td>\n",
              "      <td>not_created</td>\n",
              "      <td>07.08.2021</td>\n",
              "      <td>03:49:55</td>\n",
              "      <td>generate transform deliver data timely m..</td>\n",
              "    </tr>\n",
              "    <tr>\n",
              "      <th>34</th>\n",
              "      <td>finance operations intern</td>\n",
              "      <td>Novartis</td>\n",
              "      <td>vor 9 Tagen</td>\n",
              "      <td>not_created</td>\n",
              "      <td>07.08.2021</td>\n",
              "      <td>03:49:55</td>\n",
              "      <td>experience data management data analytic..</td>\n",
              "    </tr>\n",
              "    <tr>\n",
              "      <th>35</th>\n",
              "      <td>intern supply chain operational excellence</td>\n",
              "      <td>HILTI</td>\n",
              "      <td>vor 13 Tagen</td>\n",
              "      <td>not_created</td>\n",
              "      <td>07.08.2021</td>\n",
              "      <td>03:49:55</td>\n",
              "      <td>bringing operational excellence producti..</td>\n",
              "    </tr>\n",
              "    <tr>\n",
              "      <th>36</th>\n",
              "      <td>data analyst intern inclusion diversity lausan...</td>\n",
              "      <td>Philip Morris International</td>\n",
              "      <td>vor 9 Tagen</td>\n",
              "      <td>not_created</td>\n",
              "      <td>07.08.2021</td>\n",
              "      <td>03:49:55</td>\n",
              "      <td>hands experience analysing large data se..</td>\n",
              "    </tr>\n",
              "    <tr>\n",
              "      <th>37</th>\n",
              "      <td>supply planning intern</td>\n",
              "      <td>On AG</td>\n",
              "      <td>vor 8 Tagen</td>\n",
              "      <td>not_created</td>\n",
              "      <td>07.08.2021</td>\n",
              "      <td>03:49:55</td>\n",
              "      <td>bachelor master degree preferably supply..</td>\n",
              "    </tr>\n",
              "    <tr>\n",
              "      <th>38</th>\n",
              "      <td>intern strategy transactions vme</td>\n",
              "      <td>Ernst &amp; Young</td>\n",
              "      <td>vor 12 Tagen</td>\n",
              "      <td>not_created</td>\n",
              "      <td>07.08.2021</td>\n",
              "      <td>03:49:55</td>\n",
              "      <td>advanced excel analytics competences rel..</td>\n",
              "    </tr>\n",
              "    <tr>\n",
              "      <th>39</th>\n",
              "      <td>internship global marketing business intellige...</td>\n",
              "      <td>Straumann Group</td>\n",
              "      <td>vor 11 Tagen</td>\n",
              "      <td>not_created</td>\n",
              "      <td>07.08.2021</td>\n",
              "      <td>03:49:55</td>\n",
              "      <td>analytical mindset try support decisions..</td>\n",
              "    </tr>\n",
              "    <tr>\n",
              "      <th>40</th>\n",
              "      <td>consultant epm business consulting finance</td>\n",
              "      <td>EY</td>\n",
              "      <td>vor 8 Tagen</td>\n",
              "      <td>not_created</td>\n",
              "      <td>07.08.2021</td>\n",
              "      <td>03:49:55</td>\n",
              "      <td>displayed interest data analytics financ..</td>\n",
              "    </tr>\n",
              "    <tr>\n",
              "      <th>41</th>\n",
              "      <td>application development intern assay optimization</td>\n",
              "      <td>Lunaphore Technologies</td>\n",
              "      <td>vor 7 Tagen</td>\n",
              "      <td>not_created</td>\n",
              "      <td>07.08.2021</td>\n",
              "      <td>03:49:55</td>\n",
              "      <td>good knowledge data analysis image proce..</td>\n",
              "    </tr>\n",
              "    <tr>\n",
              "      <th>42</th>\n",
              "      <td>application development intern marker validation</td>\n",
              "      <td>Lunaphore Technologies</td>\n",
              "      <td>vor 7 Tagen</td>\n",
              "      <td>not_created</td>\n",
              "      <td>07.08.2021</td>\n",
              "      <td>03:49:55</td>\n",
              "      <td>good knowledge image processing data ana..</td>\n",
              "    </tr>\n",
              "    <tr>\n",
              "      <th>43</th>\n",
              "      <td>intership sim stabilization axis system movi</td>\n",
              "      <td>Rheinmetall Air Defence AG</td>\n",
              "      <td>vor 8 Tagen</td>\n",
              "      <td>not_created</td>\n",
              "      <td>07.08.2021</td>\n",
              "      <td>03:49:55</td>\n",
              "      <td>implementation general model simulation ..</td>\n",
              "    </tr>\n",
              "    <tr>\n",
              "      <th>44</th>\n",
              "      <td>unctad remote internship policy capacity build...</td>\n",
              "      <td>United Nations</td>\n",
              "      <td>vor 8 Tagen</td>\n",
              "      <td>not_created</td>\n",
              "      <td>07.08.2021</td>\n",
              "      <td>03:49:55</td>\n",
              "      <td>focus internship assist section work upd..</td>\n",
              "    </tr>\n",
              "    <tr>\n",
              "      <th>45</th>\n",
              "      <td>public information assistant temporary job ope...</td>\n",
              "      <td>United Nations</td>\n",
              "      <td>vor 11 Tagen</td>\n",
              "      <td>not_created</td>\n",
              "      <td>07.08.2021</td>\n",
              "      <td>03:49:55</td>\n",
              "      <td>ability conduct data collection using va..</td>\n",
              "    </tr>\n",
              "    <tr>\n",
              "      <th>46</th>\n",
              "      <td>senior consultant epm business consulting finance</td>\n",
              "      <td>EY</td>\n",
              "      <td>vor 8 Tagen</td>\n",
              "      <td>not_created</td>\n",
              "      <td>07.08.2021</td>\n",
              "      <td>03:49:55</td>\n",
              "      <td>insights one following epm business inte..</td>\n",
              "    </tr>\n",
              "    <tr>\n",
              "      <th>47</th>\n",
              "      <td>product manager marketing f x</td>\n",
              "      <td>IWC</td>\n",
              "      <td>vor 13 Tagen</td>\n",
              "      <td>not_created</td>\n",
              "      <td>07.08.2021</td>\n",
              "      <td>03:49:55</td>\n",
              "      <td>lead interns dedicated capacities respon..</td>\n",
              "    </tr>\n",
              "    <tr>\n",
              "      <th>48</th>\n",
              "      <td>logistic inventory control intern</td>\n",
              "      <td>Guess Europe Sagl</td>\n",
              "      <td>vor 9 Tagen</td>\n",
              "      <td>not_created</td>\n",
              "      <td>07.08.2021</td>\n",
              "      <td>03:49:55</td>\n",
              "      <td>support corporate social responsibility ..</td>\n",
              "    </tr>\n",
              "    <tr>\n",
              "      <th>49</th>\n",
              "      <td>account intern client services</td>\n",
              "      <td>Publicis Groupe</td>\n",
              "      <td>vor 8 Tagen</td>\n",
              "      <td>not_created</td>\n",
              "      <td>07.08.2021</td>\n",
              "      <td>03:49:55</td>\n",
              "      <td>planning research category competitive d..</td>\n",
              "    </tr>\n",
              "  </tbody>\n",
              "</table>\n",
              "</div>"
            ]
          },
          "metadata": {
            "tags": []
          },
          "execution_count": 22
        }
      ]
    },
    {
      "cell_type": "markdown",
      "metadata": {
        "id": "oly6RmkVvKkv"
      },
      "source": [
        "**Viz Query 1**"
      ]
    },
    {
      "cell_type": "code",
      "metadata": {
        "id": "D8g-Vivnvaso",
        "colab": {
          "base_uri": "https://localhost:8080/",
          "height": 1000
        },
        "outputId": "c93dad64-cc22-4b2a-d98f-35367269f473"
      },
      "source": [
        "viz1_df = q1_processed.copy()\n",
        "viz1_df.drop(columns=[\"links\", \"short_link\"], inplace=True)\n",
        "\n",
        "if using_google_USE:\n",
        "\n",
        "    # general rule - if # of jobs returned > 25 may want to turn off text in \n",
        "    # one or both plots (summary text and title text)\n",
        "\n",
        "    vizjobs_googleUSE(viz1_df, \"summary\", meine_embeddings, \n",
        "                      save_plot=True, show_text=True,\n",
        "                        query_name=jt1 + \" in \" + jq1, viz_type=\"pca\")\n",
        "    \n",
        "    vizjobs_googleUSE(viz1_df, \"titles\", meine_embeddings, \n",
        "                      save_plot=True, show_text=False,\n",
        "                        query_name=jt1 + \" in \" + jq1, viz_type=\"pca\")\n",
        "else:\n",
        "    viz_job_data_word2vec(viz1_df, \"summary\", save_plot=True, h=720,\n",
        "                          query_name=jt1 + \" in \" + jq1, viz_type=\"pca\")\n",
        "    viz_job_data_word2vec(viz1_df, \"titles\", save_plot=True, h=720,\n",
        "                          query_name=jt1 + \" in \" + jq1, viz_type=\"pca\")\n",
        "\n"
      ],
      "execution_count": 23,
      "outputs": [
        {
          "output_type": "display_data",
          "data": {
            "text/html": [
              "\n",
              "  <style>\n",
              "    pre {\n",
              "        white-space: pre-wrap;\n",
              "    }\n",
              "  </style>\n",
              "  "
            ],
            "text/plain": [
              "<IPython.core.display.HTML object>"
            ]
          },
          "metadata": {
            "tags": []
          }
        },
        {
          "output_type": "stream",
          "text": [
            "\n",
            "For google_USE-internship in data: opt. # of k-means clusters is 9 \n",
            "\n"
          ],
          "name": "stdout"
        },
        {
          "output_type": "display_data",
          "data": {
            "text/html": [
              "<html>\n",
              "<head><meta charset=\"utf-8\" /></head>\n",
              "<body>\n",
              "    <div>            <script src=\"https://cdnjs.cloudflare.com/ajax/libs/mathjax/2.7.5/MathJax.js?config=TeX-AMS-MML_SVG\"></script><script type=\"text/javascript\">if (window.MathJax) {MathJax.Hub.Config({SVG: {font: \"STIX-Web\"}});}</script>                <script type=\"text/javascript\">window.PlotlyConfig = {MathJaxConfig: 'local'};</script>\n",
              "        <script src=\"https://cdn.plot.ly/plotly-2.2.0.min.js\"></script>                <div id=\"0977f480-7cd2-4824-ad42-d08d7f8c4658\" class=\"plotly-graph-div\" style=\"height:720px; width:960px;\"></div>            <script type=\"text/javascript\">                                    window.PLOTLYENV=window.PLOTLYENV || {};                                    if (document.getElementById(\"0977f480-7cd2-4824-ad42-d08d7f8c4658\")) {                    Plotly.newPlot(                        \"0977f480-7cd2-4824-ad42-d08d7f8c4658\",                        [{\"customdata\":[[\"manager financial services risk emeia financial services\",\"EY\",\"Gerade geschaltet\",\"07.08.2021\",\"03:49:55\",\"2\"],[\"internship non financial risk asset management\",\"Credit Suisse Campus\",\"vor 2 Tagen\",\"07.08.2021\",\"03:49:55\",\"2\"],[\"consultant epm business consulting finance\",\"EY\",\"vor 8 Tagen\",\"07.08.2021\",\"03:49:55\",\"2\"]],\"hovertemplate\":\"kmeans=%{customdata[5]}<br>pca_x=%{x}<br>pca_y=%{y}<br>companies_abbrev=%{text}<br>titles=%{customdata[0]}<br>companies=%{customdata[1]}<br>date_listed=%{customdata[2]}<br>date_pulled=%{customdata[3]}<br>time_pulled=%{customdata[4]}<extra></extra>\",\"legendgroup\":\"2\",\"marker\":{\"color\":\"#636efa\",\"symbol\":\"circle\"},\"mode\":\"markers+text\",\"name\":\"2\",\"orientation\":\"v\",\"showlegend\":true,\"text\":[\"EY\",\"Credit Suisse C..\",\"EY\"],\"type\":\"scatter\",\"x\":[-0.05122845134771207,-0.028706327569959673,-0.054830168416403716],\"xaxis\":\"x\",\"y\":[0.38632565614553627,0.31971350246939156,0.22359877512408088],\"yaxis\":\"y\"},{\"customdata\":[[\"intern finance peopleops strategy crypto startup\",\"CasperLabs\",\"Gerade geschaltet\",\"07.08.2021\",\"03:49:55\",\"7\"],[\"intern production clothing men classic f\",\"Holy Fashion Group\",\"Heute\",\"07.08.2021\",\"03:49:55\",\"7\"],[\"corporate finance analyst trainee permanent position\",\"CreditGate24/Advanon\",\"Heute\",\"07.08.2021\",\"03:49:55\",\"7\"],[\"legal trainee 6months\",\"Swissquote\",\"Heute\",\"07.08.2021\",\"03:49:55\",\"7\"],[\"unpaid internship climate change circular economy inte\",\"International Telecommunication Union (ITU)\",\"vor 1 Tag\",\"07.08.2021\",\"03:49:55\",\"7\"],[\"social media trainee\",\"EF Education First\",\"vor 2 Tagen\",\"07.08.2021\",\"03:49:55\",\"7\"],[\"intern marketing printed material f x\",\"IWC\",\"vor 2 Tagen\",\"07.08.2021\",\"03:49:55\",\"7\"],[\"intern swiss public economic affairs\",\"Novartis\",\"vor 5 Tagen\",\"07.08.2021\",\"03:49:55\",\"7\"],[\"data analyst intern inclusion diversity lausanne switze\",\"Philip Morris International\",\"vor 9 Tagen\",\"07.08.2021\",\"03:49:55\",\"7\"],[\"internship global marketing business intelligence f\",\"Straumann Group\",\"vor 11 Tagen\",\"07.08.2021\",\"03:49:55\",\"7\"],[\"intership sim stabilization axis system movi\",\"Rheinmetall Air Defence AG\",\"vor 8 Tagen\",\"07.08.2021\",\"03:49:55\",\"7\"],[\"public information assistant temporary job opening tempor\",\"United Nations\",\"vor 11 Tagen\",\"07.08.2021\",\"03:49:55\",\"7\"],[\"logistic inventory control intern\",\"Guess Europe Sagl\",\"vor 9 Tagen\",\"07.08.2021\",\"03:49:55\",\"7\"]],\"hovertemplate\":\"kmeans=%{customdata[5]}<br>pca_x=%{x}<br>pca_y=%{y}<br>companies_abbrev=%{text}<br>titles=%{customdata[0]}<br>companies=%{customdata[1]}<br>date_listed=%{customdata[2]}<br>date_pulled=%{customdata[3]}<br>time_pulled=%{customdata[4]}<extra></extra>\",\"legendgroup\":\"7\",\"marker\":{\"color\":\"#EF553B\",\"symbol\":\"circle\"},\"mode\":\"markers+text\",\"name\":\"7\",\"orientation\":\"v\",\"showlegend\":true,\"text\":[\"CasperLabs\",\"Holy Fashion Gr..\",\"CreditGate24/Ad..\",\"Swissquote\",\"International T..\",\"EF Education Fi..\",\"IWC\",\"Novartis\",\"Philip Morris I..\",\"Straumann Group\",\"Rheinmetall Air..\",\"United Nations\",\"Guess Europe Sa..\"],\"type\":\"scatter\",\"x\":[0.1276135147056717,-0.15671305290694287,-0.21707050962712363,0.16445557913969688,0.07394017581571495,0.01959413547726963,0.1575130241049049,-0.26976545394076706,-0.3732542714491977,0.03727238757714855,-0.010015862953956553,-0.01804158924572321,0.0003695326476899381],\"xaxis\":\"x\",\"y\":[-0.14453748674447645,-0.0390142462368495,0.2744085904631701,-0.03428700269411637,-0.16881999775661585,-0.02684049061040378,-0.13636751858007873,0.1576995983691337,-0.01858764541907,-0.03759104992344871,-0.052780609458909784,-0.10086875767040111,-0.10043403997242734],\"yaxis\":\"y\"},{\"customdata\":[[\"intern thesis student - mechatronic mechanical design bu\",\"HILTI\",\"Heute\",\"07.08.2021\",\"03:49:55\",\"0\"],[\"intern data scientist\",\"Swiss Re\",\"Heute\",\"07.08.2021\",\"03:49:55\",\"0\"],[\"consultant w centralized audit analytics - ey assurance\",\"EY\",\"vor 1 Tag\",\"07.08.2021\",\"03:49:55\",\"0\"],[\"student intern\",\"Oracle\",\"vor 5 Tagen\",\"07.08.2021\",\"03:49:55\",\"0\"],[\"r lab technician mass spectrometry permanent position\",\"Kelly Services\",\"vor 6 Tagen\",\"07.08.2021\",\"03:49:55\",\"0\"],[\"intern strategy transactions vme\",\"Ernst & Young\",\"vor 12 Tagen\",\"07.08.2021\",\"03:49:55\",\"0\"]],\"hovertemplate\":\"kmeans=%{customdata[5]}<br>pca_x=%{x}<br>pca_y=%{y}<br>companies_abbrev=%{text}<br>titles=%{customdata[0]}<br>companies=%{customdata[1]}<br>date_listed=%{customdata[2]}<br>date_pulled=%{customdata[3]}<br>time_pulled=%{customdata[4]}<extra></extra>\",\"legendgroup\":\"0\",\"marker\":{\"color\":\"#00cc96\",\"symbol\":\"circle\"},\"mode\":\"markers+text\",\"name\":\"0\",\"orientation\":\"v\",\"showlegend\":true,\"text\":[\"HILTI\",\"Swiss Re\",\"EY\",\"Oracle\",\"Kelly Services\",\"Ernst & Young\"],\"type\":\"scatter\",\"x\":[0.02663235060805088,-0.22507135222878438,-0.3334920576573972,-0.25541735673205634,-0.003626230991829668,-0.32864795711869],\"xaxis\":\"x\",\"y\":[-0.15853391994822136,0.012636865211789142,0.20502366658209728,0.21237671286375748,-0.008281219618905744,0.13152823772547795],\"yaxis\":\"y\"},{\"customdata\":[[\"material intern apparel\",\"On AG\",\"Heute\",\"07.08.2021\",\"03:49:55\",\"6\"],[\"material intern apparel\",\"On Running\",\"vor 1 Tag\",\"07.08.2021\",\"03:49:55\",\"6\"]],\"hovertemplate\":\"kmeans=%{customdata[5]}<br>pca_x=%{x}<br>pca_y=%{y}<br>companies_abbrev=%{text}<br>titles=%{customdata[0]}<br>companies=%{customdata[1]}<br>date_listed=%{customdata[2]}<br>date_pulled=%{customdata[3]}<br>time_pulled=%{customdata[4]}<extra></extra>\",\"legendgroup\":\"6\",\"marker\":{\"color\":\"#ab63fa\",\"symbol\":\"circle\"},\"mode\":\"markers+text\",\"name\":\"6\",\"orientation\":\"v\",\"showlegend\":true,\"text\":[\"On AG\",\"On Running\"],\"type\":\"scatter\",\"x\":[-0.16081179443059287,-0.16081179443059287],\"xaxis\":\"x\",\"y\":[-0.20197342861963324,-0.20197342861963324],\"yaxis\":\"y\"},{\"customdata\":[[\"training interniship\",\"LVMH\",\"Heute\",\"07.08.2021\",\"03:49:55\",\"3\"],[\"career internship advisor\",\"Sommet Education\",\"Heute\",\"07.08.2021\",\"03:49:55\",\"3\"],[\"business intelligence management office intern\",\"Inyova\",\"vor 1 Tag\",\"07.08.2021\",\"03:49:55\",\"3\"],[\"outsourcing coordination intern months\",\"BNP Paribas\",\"vor 1 Tag\",\"07.08.2021\",\"03:49:55\",\"3\"],[\"business intelligence management office intern\",\"Inyova AG\",\"vor 1 Tag\",\"07.08.2021\",\"03:49:55\",\"3\"],[\"internship confidential computing\",\"Decentriq\",\"vor 3 Tagen\",\"07.08.2021\",\"03:49:55\",\"3\"],[\"flavourist trainee\",\"Givaudan\",\"vor 4 Tagen\",\"07.08.2021\",\"03:49:55\",\"3\"],[\"strategy ops intern\",\"Novartis\",\"vor 5 Tagen\",\"07.08.2021\",\"03:49:55\",\"3\"],[\"supply planning intern\",\"On AG\",\"vor 8 Tagen\",\"07.08.2021\",\"03:49:55\",\"3\"],[\"senior consultant epm business consulting finance\",\"EY\",\"vor 8 Tagen\",\"07.08.2021\",\"03:49:55\",\"3\"],[\"product manager marketing f x\",\"IWC\",\"vor 13 Tagen\",\"07.08.2021\",\"03:49:55\",\"3\"]],\"hovertemplate\":\"kmeans=%{customdata[5]}<br>pca_x=%{x}<br>pca_y=%{y}<br>companies_abbrev=%{text}<br>titles=%{customdata[0]}<br>companies=%{customdata[1]}<br>date_listed=%{customdata[2]}<br>date_pulled=%{customdata[3]}<br>time_pulled=%{customdata[4]}<extra></extra>\",\"legendgroup\":\"3\",\"marker\":{\"color\":\"#FFA15A\",\"symbol\":\"circle\"},\"mode\":\"markers+text\",\"name\":\"3\",\"orientation\":\"v\",\"showlegend\":true,\"text\":[\"LVMH\",\"Sommet Educatio..\",\"Inyova\",\"BNP Paribas\",\"Inyova AG\",\"Decentriq\",\"Givaudan\",\"Novartis\",\"On AG\",\"EY\",\"IWC\"],\"type\":\"scatter\",\"x\":[-0.12182882677961587,0.1348270357773152,-0.07617183508956643,0.10538801453173578,-0.1381296202391707,0.1420468537521083,-0.06239952045742329,6.528255352465965e-05,0.11168501204458055,-0.029391952503903175,0.08086182901834871],\"xaxis\":\"x\",\"y\":[-0.15116076441837187,-0.31749104759716806,-0.11186069484194038,-0.1455752090190989,-0.14273292410650437,0.14487126431525035,-0.1435452693119388,-0.08221349448634445,-0.19309839195592485,-0.08644265238741887,-0.20346827553224897],\"yaxis\":\"y\"},{\"customdata\":[[\"unpaid internship junior programme officer intern\",\"International Telecommunication Union (ITU)\",\"vor 1 Tag\",\"07.08.2021\",\"03:49:55\",\"4\"],[\"unctad remote internship policy capacity building sec\",\"United Nations\",\"vor 8 Tagen\",\"07.08.2021\",\"03:49:55\",\"4\"],[\"account intern client services\",\"Publicis Groupe\",\"vor 8 Tagen\",\"07.08.2021\",\"03:49:55\",\"4\"]],\"hovertemplate\":\"kmeans=%{customdata[5]}<br>pca_x=%{x}<br>pca_y=%{y}<br>companies_abbrev=%{text}<br>titles=%{customdata[0]}<br>companies=%{customdata[1]}<br>date_listed=%{customdata[2]}<br>date_pulled=%{customdata[3]}<br>time_pulled=%{customdata[4]}<extra></extra>\",\"legendgroup\":\"4\",\"marker\":{\"color\":\"#19d3f3\",\"symbol\":\"circle\"},\"mode\":\"markers+text\",\"name\":\"4\",\"orientation\":\"v\",\"showlegend\":true,\"text\":[\"International T..\",\"United Nations\",\"Publicis Groupe\"],\"type\":\"scatter\",\"x\":[0.4475271521221455,0.013313305900604436,0.09946542025949047],\"xaxis\":\"x\",\"y\":[-0.3989844301329951,-0.33455651995353913,-0.1657008793458953],\"yaxis\":\"y\"},{\"customdata\":[[\"intern industrial controlling f x\",\"IWC\",\"vor 1 Tag\",\"07.08.2021\",\"03:49:55\",\"1\"],[\"internship talent acquisition f\",\"swisspuls\",\"vor 2 Tagen\",\"07.08.2021\",\"03:49:55\",\"1\"],[\"internship manufacturing engineering\",\"Optotune\",\"vor 5 Tagen\",\"07.08.2021\",\"03:49:55\",\"1\"],[\"senior consultant - workforce advisory zurich basel g\",\"EY\",\"vor 6 Tagen\",\"07.08.2021\",\"03:49:55\",\"1\"],[\"senior manager - workforce advisory zurich basel gene\",\"EY\",\"vor 6 Tagen\",\"07.08.2021\",\"03:49:55\",\"1\"],[\"intern supply chain operational excellence\",\"HILTI\",\"vor 13 Tagen\",\"07.08.2021\",\"03:49:55\",\"1\"]],\"hovertemplate\":\"kmeans=%{customdata[5]}<br>pca_x=%{x}<br>pca_y=%{y}<br>companies_abbrev=%{text}<br>titles=%{customdata[0]}<br>companies=%{customdata[1]}<br>date_listed=%{customdata[2]}<br>date_pulled=%{customdata[3]}<br>time_pulled=%{customdata[4]}<extra></extra>\",\"legendgroup\":\"1\",\"marker\":{\"color\":\"#FF6692\",\"symbol\":\"circle\"},\"mode\":\"markers+text\",\"name\":\"1\",\"orientation\":\"v\",\"showlegend\":true,\"text\":[\"IWC\",\"swisspuls\",\"Optotune\",\"EY\",\"EY\",\"HILTI\"],\"type\":\"scatter\",\"x\":[0.1694177526447131,0.17106883991405203,0.2553522727462022,0.04803370651192783,0.09110949497774253,0.2982941174042203],\"xaxis\":\"x\",\"y\":[-0.04383710712173478,-0.05150248618769643,-0.037267753641607754,0.1411088521214903,0.14717182257680672,-0.1982915517490029],\"yaxis\":\"y\"},{\"customdata\":[[\"consultant cybersecurity technology consulting team emei\",\"Ernst & Young\",\"vor 2 Tagen\",\"07.08.2021\",\"03:49:55\",\"5\"],[\"senior consultant cybersecurity technology consulting team\",\"Ernst & Young\",\"vor 2 Tagen\",\"07.08.2021\",\"03:49:55\",\"5\"]],\"hovertemplate\":\"kmeans=%{customdata[5]}<br>pca_x=%{x}<br>pca_y=%{y}<br>companies_abbrev=%{text}<br>titles=%{customdata[0]}<br>companies=%{customdata[1]}<br>date_listed=%{customdata[2]}<br>date_pulled=%{customdata[3]}<br>time_pulled=%{customdata[4]}<extra></extra>\",\"legendgroup\":\"5\",\"marker\":{\"color\":\"#B6E880\",\"symbol\":\"circle\"},\"mode\":\"markers+text\",\"name\":\"5\",\"orientation\":\"v\",\"showlegend\":true,\"text\":[\"Ernst & Young\",\"Ernst & Young\"],\"type\":\"scatter\",\"x\":[0.6886829392044743,0.6886829392044743],\"xaxis\":\"x\",\"y\":[0.601209327620571,0.601209327620571],\"yaxis\":\"y\"},{\"customdata\":[[\"intern environment affairs temporary\",\"United Nations\",\"vor 3 Tagen\",\"07.08.2021\",\"03:49:55\",\"8\"],[\"finance operations intern\",\"Novartis\",\"vor 9 Tagen\",\"07.08.2021\",\"03:49:55\",\"8\"],[\"application development intern assay optimization\",\"Lunaphore Technologies\",\"vor 7 Tagen\",\"07.08.2021\",\"03:49:55\",\"8\"],[\"application development intern marker validation\",\"Lunaphore Technologies\",\"vor 7 Tagen\",\"07.08.2021\",\"03:49:55\",\"8\"]],\"hovertemplate\":\"kmeans=%{customdata[5]}<br>pca_x=%{x}<br>pca_y=%{y}<br>companies_abbrev=%{text}<br>titles=%{customdata[0]}<br>companies=%{customdata[1]}<br>date_listed=%{customdata[2]}<br>date_pulled=%{customdata[3]}<br>time_pulled=%{customdata[4]}<extra></extra>\",\"legendgroup\":\"8\",\"marker\":{\"color\":\"#FF97FF\",\"symbol\":\"circle\"},\"mode\":\"markers+text\",\"name\":\"8\",\"orientation\":\"v\",\"showlegend\":true,\"text\":[\"United Nations\",\"Novartis\",\"Lunaphore Techn..\",\"Lunaphore Techn..\"],\"type\":\"scatter\",\"x\":[-0.2057071068039388,-0.12885616537321606,-0.34576605630578894,-0.39745735404345417],\"xaxis\":\"x\",\"y\":[-0.07375865541877837,0.06012200033750309,0.3404117798783165,0.35296296965645724],\"yaxis\":\"y\"}],                        {\"height\":720,\"legend\":{\"title\":{\"text\":\"kmeans\"},\"tracegroupgap\":0},\"template\":{\"data\":{\"bar\":[{\"error_x\":{\"color\":\"#f2f5fa\"},\"error_y\":{\"color\":\"#f2f5fa\"},\"marker\":{\"line\":{\"color\":\"rgb(17,17,17)\",\"width\":0.5},\"pattern\":{\"fillmode\":\"overlay\",\"size\":10,\"solidity\":0.2}},\"type\":\"bar\"}],\"barpolar\":[{\"marker\":{\"line\":{\"color\":\"rgb(17,17,17)\",\"width\":0.5},\"pattern\":{\"fillmode\":\"overlay\",\"size\":10,\"solidity\":0.2}},\"type\":\"barpolar\"}],\"carpet\":[{\"aaxis\":{\"endlinecolor\":\"#A2B1C6\",\"gridcolor\":\"#506784\",\"linecolor\":\"#506784\",\"minorgridcolor\":\"#506784\",\"startlinecolor\":\"#A2B1C6\"},\"baxis\":{\"endlinecolor\":\"#A2B1C6\",\"gridcolor\":\"#506784\",\"linecolor\":\"#506784\",\"minorgridcolor\":\"#506784\",\"startlinecolor\":\"#A2B1C6\"},\"type\":\"carpet\"}],\"choropleth\":[{\"colorbar\":{\"outlinewidth\":0,\"ticks\":\"\"},\"type\":\"choropleth\"}],\"contour\":[{\"colorbar\":{\"outlinewidth\":0,\"ticks\":\"\"},\"colorscale\":[[0.0,\"#0d0887\"],[0.1111111111111111,\"#46039f\"],[0.2222222222222222,\"#7201a8\"],[0.3333333333333333,\"#9c179e\"],[0.4444444444444444,\"#bd3786\"],[0.5555555555555556,\"#d8576b\"],[0.6666666666666666,\"#ed7953\"],[0.7777777777777778,\"#fb9f3a\"],[0.8888888888888888,\"#fdca26\"],[1.0,\"#f0f921\"]],\"type\":\"contour\"}],\"contourcarpet\":[{\"colorbar\":{\"outlinewidth\":0,\"ticks\":\"\"},\"type\":\"contourcarpet\"}],\"heatmap\":[{\"colorbar\":{\"outlinewidth\":0,\"ticks\":\"\"},\"colorscale\":[[0.0,\"#0d0887\"],[0.1111111111111111,\"#46039f\"],[0.2222222222222222,\"#7201a8\"],[0.3333333333333333,\"#9c179e\"],[0.4444444444444444,\"#bd3786\"],[0.5555555555555556,\"#d8576b\"],[0.6666666666666666,\"#ed7953\"],[0.7777777777777778,\"#fb9f3a\"],[0.8888888888888888,\"#fdca26\"],[1.0,\"#f0f921\"]],\"type\":\"heatmap\"}],\"heatmapgl\":[{\"colorbar\":{\"outlinewidth\":0,\"ticks\":\"\"},\"colorscale\":[[0.0,\"#0d0887\"],[0.1111111111111111,\"#46039f\"],[0.2222222222222222,\"#7201a8\"],[0.3333333333333333,\"#9c179e\"],[0.4444444444444444,\"#bd3786\"],[0.5555555555555556,\"#d8576b\"],[0.6666666666666666,\"#ed7953\"],[0.7777777777777778,\"#fb9f3a\"],[0.8888888888888888,\"#fdca26\"],[1.0,\"#f0f921\"]],\"type\":\"heatmapgl\"}],\"histogram\":[{\"marker\":{\"pattern\":{\"fillmode\":\"overlay\",\"size\":10,\"solidity\":0.2}},\"type\":\"histogram\"}],\"histogram2d\":[{\"colorbar\":{\"outlinewidth\":0,\"ticks\":\"\"},\"colorscale\":[[0.0,\"#0d0887\"],[0.1111111111111111,\"#46039f\"],[0.2222222222222222,\"#7201a8\"],[0.3333333333333333,\"#9c179e\"],[0.4444444444444444,\"#bd3786\"],[0.5555555555555556,\"#d8576b\"],[0.6666666666666666,\"#ed7953\"],[0.7777777777777778,\"#fb9f3a\"],[0.8888888888888888,\"#fdca26\"],[1.0,\"#f0f921\"]],\"type\":\"histogram2d\"}],\"histogram2dcontour\":[{\"colorbar\":{\"outlinewidth\":0,\"ticks\":\"\"},\"colorscale\":[[0.0,\"#0d0887\"],[0.1111111111111111,\"#46039f\"],[0.2222222222222222,\"#7201a8\"],[0.3333333333333333,\"#9c179e\"],[0.4444444444444444,\"#bd3786\"],[0.5555555555555556,\"#d8576b\"],[0.6666666666666666,\"#ed7953\"],[0.7777777777777778,\"#fb9f3a\"],[0.8888888888888888,\"#fdca26\"],[1.0,\"#f0f921\"]],\"type\":\"histogram2dcontour\"}],\"mesh3d\":[{\"colorbar\":{\"outlinewidth\":0,\"ticks\":\"\"},\"type\":\"mesh3d\"}],\"parcoords\":[{\"line\":{\"colorbar\":{\"outlinewidth\":0,\"ticks\":\"\"}},\"type\":\"parcoords\"}],\"pie\":[{\"automargin\":true,\"type\":\"pie\"}],\"scatter\":[{\"marker\":{\"line\":{\"color\":\"#283442\"}},\"type\":\"scatter\"}],\"scatter3d\":[{\"line\":{\"colorbar\":{\"outlinewidth\":0,\"ticks\":\"\"}},\"marker\":{\"colorbar\":{\"outlinewidth\":0,\"ticks\":\"\"}},\"type\":\"scatter3d\"}],\"scattercarpet\":[{\"marker\":{\"colorbar\":{\"outlinewidth\":0,\"ticks\":\"\"}},\"type\":\"scattercarpet\"}],\"scattergeo\":[{\"marker\":{\"colorbar\":{\"outlinewidth\":0,\"ticks\":\"\"}},\"type\":\"scattergeo\"}],\"scattergl\":[{\"marker\":{\"line\":{\"color\":\"#283442\"}},\"type\":\"scattergl\"}],\"scattermapbox\":[{\"marker\":{\"colorbar\":{\"outlinewidth\":0,\"ticks\":\"\"}},\"type\":\"scattermapbox\"}],\"scatterpolar\":[{\"marker\":{\"colorbar\":{\"outlinewidth\":0,\"ticks\":\"\"}},\"type\":\"scatterpolar\"}],\"scatterpolargl\":[{\"marker\":{\"colorbar\":{\"outlinewidth\":0,\"ticks\":\"\"}},\"type\":\"scatterpolargl\"}],\"scatterternary\":[{\"marker\":{\"colorbar\":{\"outlinewidth\":0,\"ticks\":\"\"}},\"type\":\"scatterternary\"}],\"surface\":[{\"colorbar\":{\"outlinewidth\":0,\"ticks\":\"\"},\"colorscale\":[[0.0,\"#0d0887\"],[0.1111111111111111,\"#46039f\"],[0.2222222222222222,\"#7201a8\"],[0.3333333333333333,\"#9c179e\"],[0.4444444444444444,\"#bd3786\"],[0.5555555555555556,\"#d8576b\"],[0.6666666666666666,\"#ed7953\"],[0.7777777777777778,\"#fb9f3a\"],[0.8888888888888888,\"#fdca26\"],[1.0,\"#f0f921\"]],\"type\":\"surface\"}],\"table\":[{\"cells\":{\"fill\":{\"color\":\"#506784\"},\"line\":{\"color\":\"rgb(17,17,17)\"}},\"header\":{\"fill\":{\"color\":\"#2a3f5f\"},\"line\":{\"color\":\"rgb(17,17,17)\"}},\"type\":\"table\"}]},\"layout\":{\"annotationdefaults\":{\"arrowcolor\":\"#f2f5fa\",\"arrowhead\":0,\"arrowwidth\":1},\"autotypenumbers\":\"strict\",\"coloraxis\":{\"colorbar\":{\"outlinewidth\":0,\"ticks\":\"\"}},\"colorscale\":{\"diverging\":[[0,\"#8e0152\"],[0.1,\"#c51b7d\"],[0.2,\"#de77ae\"],[0.3,\"#f1b6da\"],[0.4,\"#fde0ef\"],[0.5,\"#f7f7f7\"],[0.6,\"#e6f5d0\"],[0.7,\"#b8e186\"],[0.8,\"#7fbc41\"],[0.9,\"#4d9221\"],[1,\"#276419\"]],\"sequential\":[[0.0,\"#0d0887\"],[0.1111111111111111,\"#46039f\"],[0.2222222222222222,\"#7201a8\"],[0.3333333333333333,\"#9c179e\"],[0.4444444444444444,\"#bd3786\"],[0.5555555555555556,\"#d8576b\"],[0.6666666666666666,\"#ed7953\"],[0.7777777777777778,\"#fb9f3a\"],[0.8888888888888888,\"#fdca26\"],[1.0,\"#f0f921\"]],\"sequentialminus\":[[0.0,\"#0d0887\"],[0.1111111111111111,\"#46039f\"],[0.2222222222222222,\"#7201a8\"],[0.3333333333333333,\"#9c179e\"],[0.4444444444444444,\"#bd3786\"],[0.5555555555555556,\"#d8576b\"],[0.6666666666666666,\"#ed7953\"],[0.7777777777777778,\"#fb9f3a\"],[0.8888888888888888,\"#fdca26\"],[1.0,\"#f0f921\"]]},\"colorway\":[\"#636efa\",\"#EF553B\",\"#00cc96\",\"#ab63fa\",\"#FFA15A\",\"#19d3f3\",\"#FF6692\",\"#B6E880\",\"#FF97FF\",\"#FECB52\"],\"font\":{\"color\":\"#f2f5fa\"},\"geo\":{\"bgcolor\":\"rgb(17,17,17)\",\"lakecolor\":\"rgb(17,17,17)\",\"landcolor\":\"rgb(17,17,17)\",\"showlakes\":true,\"showland\":true,\"subunitcolor\":\"#506784\"},\"hoverlabel\":{\"align\":\"left\"},\"hovermode\":\"closest\",\"mapbox\":{\"style\":\"dark\"},\"paper_bgcolor\":\"rgb(17,17,17)\",\"plot_bgcolor\":\"rgb(17,17,17)\",\"polar\":{\"angularaxis\":{\"gridcolor\":\"#506784\",\"linecolor\":\"#506784\",\"ticks\":\"\"},\"bgcolor\":\"rgb(17,17,17)\",\"radialaxis\":{\"gridcolor\":\"#506784\",\"linecolor\":\"#506784\",\"ticks\":\"\"}},\"scene\":{\"xaxis\":{\"backgroundcolor\":\"rgb(17,17,17)\",\"gridcolor\":\"#506784\",\"gridwidth\":2,\"linecolor\":\"#506784\",\"showbackground\":true,\"ticks\":\"\",\"zerolinecolor\":\"#C8D4E3\"},\"yaxis\":{\"backgroundcolor\":\"rgb(17,17,17)\",\"gridcolor\":\"#506784\",\"gridwidth\":2,\"linecolor\":\"#506784\",\"showbackground\":true,\"ticks\":\"\",\"zerolinecolor\":\"#C8D4E3\"},\"zaxis\":{\"backgroundcolor\":\"rgb(17,17,17)\",\"gridcolor\":\"#506784\",\"gridwidth\":2,\"linecolor\":\"#506784\",\"showbackground\":true,\"ticks\":\"\",\"zerolinecolor\":\"#C8D4E3\"}},\"shapedefaults\":{\"line\":{\"color\":\"#f2f5fa\"}},\"sliderdefaults\":{\"bgcolor\":\"#C8D4E3\",\"bordercolor\":\"rgb(17,17,17)\",\"borderwidth\":1,\"tickwidth\":0},\"ternary\":{\"aaxis\":{\"gridcolor\":\"#506784\",\"linecolor\":\"#506784\",\"ticks\":\"\"},\"baxis\":{\"gridcolor\":\"#506784\",\"linecolor\":\"#506784\",\"ticks\":\"\"},\"bgcolor\":\"rgb(17,17,17)\",\"caxis\":{\"gridcolor\":\"#506784\",\"linecolor\":\"#506784\",\"ticks\":\"\"}},\"title\":{\"x\":0.05},\"updatemenudefaults\":{\"bgcolor\":\"#506784\",\"borderwidth\":0},\"xaxis\":{\"automargin\":true,\"gridcolor\":\"#283442\",\"linecolor\":\"#506784\",\"ticks\":\"\",\"title\":{\"standoff\":15},\"zerolinecolor\":\"#283442\",\"zerolinewidth\":2},\"yaxis\":{\"automargin\":true,\"gridcolor\":\"#283442\",\"linecolor\":\"#506784\",\"ticks\":\"\",\"title\":{\"standoff\":15},\"zerolinecolor\":\"#283442\",\"zerolinewidth\":2}}},\"title\":{\"text\":\"Jul-08-2021 viz Jobs by 'summary' via google USE + pca | internship in data\"},\"width\":960,\"xaxis\":{\"anchor\":\"y\",\"domain\":[0.0,1.0],\"title\":{\"text\":\"pca_x\"}},\"yaxis\":{\"anchor\":\"x\",\"domain\":[0.0,1.0],\"title\":{\"text\":\"pca_y\"}}},                        {\"responsive\": true}                    ).then(function(){\n",
              "                            \n",
              "var gd = document.getElementById('0977f480-7cd2-4824-ad42-d08d7f8c4658');\n",
              "var x = new MutationObserver(function (mutations, observer) {{\n",
              "        var display = window.getComputedStyle(gd).display;\n",
              "        if (!display || display === 'none') {{\n",
              "            console.log([gd, 'removed!']);\n",
              "            Plotly.purge(gd);\n",
              "            observer.disconnect();\n",
              "        }}\n",
              "}});\n",
              "\n",
              "// Listen for the removal of the full notebook cells\n",
              "var notebookContainer = gd.closest('#notebook-container');\n",
              "if (notebookContainer) {{\n",
              "    x.observe(notebookContainer, {childList: true});\n",
              "}}\n",
              "\n",
              "// Listen for the clearing of the current output cell\n",
              "var outputEl = gd.closest('.output');\n",
              "if (outputEl) {{\n",
              "    x.observe(outputEl, {childList: true});\n",
              "}}\n",
              "\n",
              "                        })                };                            </script>        </div>\n",
              "</body>\n",
              "</html>"
            ]
          },
          "metadata": {
            "tags": []
          }
        },
        {
          "output_type": "stream",
          "text": [
            "plot generated -  2021-07-08 03:49:59.667419\n",
            "\n",
            "For google_USE-internship in data: opt. # of k-means clusters is 10 \n",
            "\n"
          ],
          "name": "stdout"
        },
        {
          "output_type": "display_data",
          "data": {
            "text/html": [
              "<html>\n",
              "<head><meta charset=\"utf-8\" /></head>\n",
              "<body>\n",
              "    <div>            <script src=\"https://cdnjs.cloudflare.com/ajax/libs/mathjax/2.7.5/MathJax.js?config=TeX-AMS-MML_SVG\"></script><script type=\"text/javascript\">if (window.MathJax) {MathJax.Hub.Config({SVG: {font: \"STIX-Web\"}});}</script>                <script type=\"text/javascript\">window.PlotlyConfig = {MathJaxConfig: 'local'};</script>\n",
              "        <script src=\"https://cdn.plot.ly/plotly-2.2.0.min.js\"></script>                <div id=\"0cf97f82-3710-45bd-80b3-3905e99e90b2\" class=\"plotly-graph-div\" style=\"height:720px; width:960px;\"></div>            <script type=\"text/javascript\">                                    window.PLOTLYENV=window.PLOTLYENV || {};                                    if (document.getElementById(\"0cf97f82-3710-45bd-80b3-3905e99e90b2\")) {                    Plotly.newPlot(                        \"0cf97f82-3710-45bd-80b3-3905e99e90b2\",                        [{\"customdata\":[[\"manager financial services risk emeia financial services\",\"EY\",\"Gerade geschaltet\",\"07.08.2021\",\"03:49:55\",\"1\"],[\"corporate finance analyst trainee permanent position\",\"CreditGate24/Advanon\",\"Heute\",\"07.08.2021\",\"03:49:55\",\"1\"],[\"consultant w centralized audit analytics - ey assurance\",\"EY\",\"vor 1 Tag\",\"07.08.2021\",\"03:49:55\",\"1\"]],\"hovertemplate\":\"kmeans=%{customdata[5]}<br>pca_x=%{x}<br>pca_y=%{y}<br>titles=%{customdata[0]}<br>companies=%{customdata[1]}<br>date_listed=%{customdata[2]}<br>date_pulled=%{customdata[3]}<br>time_pulled=%{customdata[4]}<extra></extra>\",\"legendgroup\":\"1\",\"marker\":{\"color\":\"#636efa\",\"symbol\":\"circle\"},\"mode\":\"markers\",\"name\":\"1\",\"orientation\":\"v\",\"showlegend\":true,\"type\":\"scatter\",\"x\":[0.48557088991215974,0.21307410687951026,0.5598796082337341],\"xaxis\":\"x\",\"y\":[-0.17705439185929225,-0.13242108308964196,-0.1347430027678514],\"yaxis\":\"y\"},{\"customdata\":[[\"intern finance peopleops strategy crypto startup\",\"CasperLabs\",\"Gerade geschaltet\",\"07.08.2021\",\"03:49:55\",\"5\"],[\"strategy ops intern\",\"Novartis\",\"vor 5 Tagen\",\"07.08.2021\",\"03:49:55\",\"5\"],[\"finance operations intern\",\"Novartis\",\"vor 9 Tagen\",\"07.08.2021\",\"03:49:55\",\"5\"],[\"supply planning intern\",\"On AG\",\"vor 8 Tagen\",\"07.08.2021\",\"03:49:55\",\"5\"],[\"intern strategy transactions vme\",\"Ernst & Young\",\"vor 12 Tagen\",\"07.08.2021\",\"03:49:55\",\"5\"],[\"logistic inventory control intern\",\"Guess Europe Sagl\",\"vor 9 Tagen\",\"07.08.2021\",\"03:49:55\",\"5\"]],\"hovertemplate\":\"kmeans=%{customdata[5]}<br>pca_x=%{x}<br>pca_y=%{y}<br>titles=%{customdata[0]}<br>companies=%{customdata[1]}<br>date_listed=%{customdata[2]}<br>date_pulled=%{customdata[3]}<br>time_pulled=%{customdata[4]}<extra></extra>\",\"legendgroup\":\"5\",\"marker\":{\"color\":\"#EF553B\",\"symbol\":\"circle\"},\"mode\":\"markers\",\"name\":\"5\",\"orientation\":\"v\",\"showlegend\":true,\"type\":\"scatter\",\"x\":[0.17628695480314727,-0.12619897373438438,0.015116765788279947,-0.2975838922052426,0.04320421123659473,-0.10704136460079544],\"xaxis\":\"x\",\"y\":[0.03964427620604413,0.4269722931645895,0.18622914581811872,0.2847694476699992,0.07937431481952882,-0.04658788023429621],\"yaxis\":\"y\"},{\"customdata\":[[\"intern production clothing men classic f\",\"Holy Fashion Group\",\"Heute\",\"07.08.2021\",\"03:49:55\",\"4\"],[\"material intern apparel\",\"On AG\",\"Heute\",\"07.08.2021\",\"03:49:55\",\"4\"],[\"material intern apparel\",\"On Running\",\"vor 1 Tag\",\"07.08.2021\",\"03:49:55\",\"4\"],[\"intern marketing printed material f x\",\"IWC\",\"vor 2 Tagen\",\"07.08.2021\",\"03:49:55\",\"4\"]],\"hovertemplate\":\"kmeans=%{customdata[5]}<br>pca_x=%{x}<br>pca_y=%{y}<br>titles=%{customdata[0]}<br>companies=%{customdata[1]}<br>date_listed=%{customdata[2]}<br>date_pulled=%{customdata[3]}<br>time_pulled=%{customdata[4]}<extra></extra>\",\"legendgroup\":\"4\",\"marker\":{\"color\":\"#00cc96\",\"symbol\":\"circle\"},\"mode\":\"markers\",\"name\":\"4\",\"orientation\":\"v\",\"showlegend\":true,\"type\":\"scatter\",\"x\":[-0.22507754822407453,-0.39159096052302855,-0.39159096052302855,-0.25896620383266145],\"xaxis\":\"x\",\"y\":[-0.19588999813764849,0.23517483637661102,0.23517483637661102,-0.1412419252127455],\"yaxis\":\"y\"},{\"customdata\":[[\"intern thesis student - mechatronic mechanical design bu\",\"HILTI\",\"Heute\",\"07.08.2021\",\"03:49:55\",\"0\"],[\"intern data scientist\",\"Swiss Re\",\"Heute\",\"07.08.2021\",\"03:49:55\",\"0\"],[\"career internship advisor\",\"Sommet Education\",\"Heute\",\"07.08.2021\",\"03:49:55\",\"0\"],[\"unpaid internship junior programme officer intern\",\"International Telecommunication Union (ITU)\",\"vor 1 Tag\",\"07.08.2021\",\"03:49:55\",\"0\"],[\"outsourcing coordination intern months\",\"BNP Paribas\",\"vor 1 Tag\",\"07.08.2021\",\"03:49:55\",\"0\"],[\"intern environment affairs temporary\",\"United Nations\",\"vor 3 Tagen\",\"07.08.2021\",\"03:49:55\",\"0\"],[\"internship confidential computing\",\"Decentriq\",\"vor 3 Tagen\",\"07.08.2021\",\"03:49:55\",\"0\"],[\"student intern\",\"Oracle\",\"vor 5 Tagen\",\"07.08.2021\",\"03:49:55\",\"0\"],[\"intern swiss public economic affairs\",\"Novartis\",\"vor 5 Tagen\",\"07.08.2021\",\"03:49:55\",\"0\"],[\"internship manufacturing engineering\",\"Optotune\",\"vor 5 Tagen\",\"07.08.2021\",\"03:49:55\",\"0\"],[\"account intern client services\",\"Publicis Groupe\",\"vor 8 Tagen\",\"07.08.2021\",\"03:49:55\",\"0\"]],\"hovertemplate\":\"kmeans=%{customdata[5]}<br>pca_x=%{x}<br>pca_y=%{y}<br>titles=%{customdata[0]}<br>companies=%{customdata[1]}<br>date_listed=%{customdata[2]}<br>date_pulled=%{customdata[3]}<br>time_pulled=%{customdata[4]}<extra></extra>\",\"legendgroup\":\"0\",\"marker\":{\"color\":\"#ab63fa\",\"symbol\":\"circle\"},\"mode\":\"markers\",\"name\":\"0\",\"orientation\":\"v\",\"showlegend\":true,\"type\":\"scatter\",\"x\":[-0.09159683485768003,-0.07129937437520069,-0.10456698109180176,-0.18762803503331016,-0.05836489719879052,-0.1987474566685083,-0.20708036587054496,-0.29318494368851816,0.00963015073054622,-0.2819823412848138,0.06742233728741127],\"xaxis\":\"x\",\"y\":[-0.15601392662428767,0.12496405306927502,0.2397378379282792,0.03426957517972094,0.01622265479613921,-0.07380136656224395,0.11728843257203303,0.3249170728958863,-0.1310963212734077,0.08379656221607468,0.0345502041607897],\"yaxis\":\"y\"},{\"customdata\":[[\"training interniship\",\"LVMH\",\"Heute\",\"07.08.2021\",\"03:49:55\",\"7\"],[\"legal trainee 6months\",\"Swissquote\",\"Heute\",\"07.08.2021\",\"03:49:55\",\"7\"],[\"social media trainee\",\"EF Education First\",\"vor 2 Tagen\",\"07.08.2021\",\"03:49:55\",\"7\"],[\"flavourist trainee\",\"Givaudan\",\"vor 4 Tagen\",\"07.08.2021\",\"03:49:55\",\"7\"]],\"hovertemplate\":\"kmeans=%{customdata[5]}<br>pca_x=%{x}<br>pca_y=%{y}<br>titles=%{customdata[0]}<br>companies=%{customdata[1]}<br>date_listed=%{customdata[2]}<br>date_pulled=%{customdata[3]}<br>time_pulled=%{customdata[4]}<extra></extra>\",\"legendgroup\":\"7\",\"marker\":{\"color\":\"#FFA15A\",\"symbol\":\"circle\"},\"mode\":\"markers\",\"name\":\"7\",\"orientation\":\"v\",\"showlegend\":true,\"type\":\"scatter\",\"x\":[-0.3120296215820908,-0.16064163715783225,-0.28089058734658334,-0.2970741111180259],\"xaxis\":\"x\",\"y\":[0.07031238918908368,0.13299932862980432,0.33843931297014457,0.3348707275197482],\"yaxis\":\"y\"},{\"customdata\":[[\"unpaid internship climate change circular economy inte\",\"International Telecommunication Union (ITU)\",\"vor 1 Tag\",\"07.08.2021\",\"03:49:55\",\"2\"],[\"business intelligence management office intern\",\"Inyova\",\"vor 1 Tag\",\"07.08.2021\",\"03:49:55\",\"2\"],[\"intern industrial controlling f x\",\"IWC\",\"vor 1 Tag\",\"07.08.2021\",\"03:49:55\",\"2\"],[\"business intelligence management office intern\",\"Inyova AG\",\"vor 1 Tag\",\"07.08.2021\",\"03:49:55\",\"2\"],[\"internship non financial risk asset management\",\"Credit Suisse Campus\",\"vor 2 Tagen\",\"07.08.2021\",\"03:49:55\",\"2\"],[\"internship talent acquisition f\",\"swisspuls\",\"vor 2 Tagen\",\"07.08.2021\",\"03:49:55\",\"2\"],[\"intern supply chain operational excellence\",\"HILTI\",\"vor 13 Tagen\",\"07.08.2021\",\"03:49:55\",\"2\"],[\"data analyst intern inclusion diversity lausanne switze\",\"Philip Morris International\",\"vor 9 Tagen\",\"07.08.2021\",\"03:49:55\",\"2\"],[\"internship global marketing business intelligence f\",\"Straumann Group\",\"vor 11 Tagen\",\"07.08.2021\",\"03:49:55\",\"2\"],[\"public information assistant temporary job opening tempor\",\"United Nations\",\"vor 11 Tagen\",\"07.08.2021\",\"03:49:55\",\"2\"],[\"product manager marketing f x\",\"IWC\",\"vor 13 Tagen\",\"07.08.2021\",\"03:49:55\",\"2\"]],\"hovertemplate\":\"kmeans=%{customdata[5]}<br>pca_x=%{x}<br>pca_y=%{y}<br>titles=%{customdata[0]}<br>companies=%{customdata[1]}<br>date_listed=%{customdata[2]}<br>date_pulled=%{customdata[3]}<br>time_pulled=%{customdata[4]}<extra></extra>\",\"legendgroup\":\"2\",\"marker\":{\"color\":\"#19d3f3\",\"symbol\":\"circle\"},\"mode\":\"markers\",\"name\":\"2\",\"orientation\":\"v\",\"showlegend\":true,\"type\":\"scatter\",\"x\":[-0.07220706897933135,0.10786056655118144,-0.22468151071613374,0.10786056655118144,0.015620927630088549,-0.26504600395906636,-0.1618778574398021,0.159330865575779,-0.013141355697213182,0.06143162439481156,-0.01180165121493256],\"xaxis\":\"x\",\"y\":[-0.26097139754671156,-0.03637641296620582,-0.2820047686690945,-0.0363764129662058,-0.16437512451090344,-0.08831697615217196,-0.11447460887056413,-0.16262643921153572,-0.2365714888639887,-0.28531589979128325,-0.16046284486892146],\"yaxis\":\"y\"},{\"customdata\":[[\"consultant cybersecurity technology consulting team emei\",\"Ernst & Young\",\"vor 2 Tagen\",\"07.08.2021\",\"03:49:55\",\"3\"],[\"senior consultant cybersecurity technology consulting team\",\"Ernst & Young\",\"vor 2 Tagen\",\"07.08.2021\",\"03:49:55\",\"3\"],[\"consultant epm business consulting finance\",\"EY\",\"vor 8 Tagen\",\"07.08.2021\",\"03:49:55\",\"3\"],[\"senior consultant epm business consulting finance\",\"EY\",\"vor 8 Tagen\",\"07.08.2021\",\"03:49:55\",\"3\"]],\"hovertemplate\":\"kmeans=%{customdata[5]}<br>pca_x=%{x}<br>pca_y=%{y}<br>titles=%{customdata[0]}<br>companies=%{customdata[1]}<br>date_listed=%{customdata[2]}<br>date_pulled=%{customdata[3]}<br>time_pulled=%{customdata[4]}<extra></extra>\",\"legendgroup\":\"3\",\"marker\":{\"color\":\"#FF6692\",\"symbol\":\"circle\"},\"mode\":\"markers\",\"name\":\"3\",\"orientation\":\"v\",\"showlegend\":true,\"type\":\"scatter\",\"x\":[0.5385304907284094,0.5604586654922838,0.6011949282975352,0.6395072530756707],\"xaxis\":\"x\",\"y\":[0.2966833480134445,0.3611009465696957,0.3146533785132751,0.2790971629611444],\"yaxis\":\"y\"},{\"customdata\":[[\"senior consultant - workforce advisory zurich basel g\",\"EY\",\"vor 6 Tagen\",\"07.08.2021\",\"03:49:55\",\"9\"],[\"senior manager - workforce advisory zurich basel gene\",\"EY\",\"vor 6 Tagen\",\"07.08.2021\",\"03:49:55\",\"9\"]],\"hovertemplate\":\"kmeans=%{customdata[5]}<br>pca_x=%{x}<br>pca_y=%{y}<br>titles=%{customdata[0]}<br>companies=%{customdata[1]}<br>date_listed=%{customdata[2]}<br>date_pulled=%{customdata[3]}<br>time_pulled=%{customdata[4]}<extra></extra>\",\"legendgroup\":\"9\",\"marker\":{\"color\":\"#B6E880\",\"symbol\":\"circle\"},\"mode\":\"markers\",\"name\":\"9\",\"orientation\":\"v\",\"showlegend\":true,\"type\":\"scatter\",\"x\":[0.6301529543179677,0.4718512997025558],\"xaxis\":\"x\",\"y\":[0.0020310341029990144,-0.20174101505226547],\"yaxis\":\"y\"},{\"customdata\":[[\"r lab technician mass spectrometry permanent position\",\"Kelly Services\",\"vor 6 Tagen\",\"07.08.2021\",\"03:49:55\",\"8\"],[\"intership sim stabilization axis system movi\",\"Rheinmetall Air Defence AG\",\"vor 8 Tagen\",\"07.08.2021\",\"03:49:55\",\"8\"]],\"hovertemplate\":\"kmeans=%{customdata[5]}<br>pca_x=%{x}<br>pca_y=%{y}<br>titles=%{customdata[0]}<br>companies=%{customdata[1]}<br>date_listed=%{customdata[2]}<br>date_pulled=%{customdata[3]}<br>time_pulled=%{customdata[4]}<extra></extra>\",\"legendgroup\":\"8\",\"marker\":{\"color\":\"#FF97FF\",\"symbol\":\"circle\"},\"mode\":\"markers\",\"name\":\"8\",\"orientation\":\"v\",\"showlegend\":true,\"type\":\"scatter\",\"x\":[0.02065646387639345,-0.07707622234131205],\"xaxis\":\"x\",\"y\":[-0.3569884890332771,-0.38847245928287477],\"yaxis\":\"y\"},{\"customdata\":[[\"application development intern assay optimization\",\"Lunaphore Technologies\",\"vor 7 Tagen\",\"07.08.2021\",\"03:49:55\",\"6\"],[\"application development intern marker validation\",\"Lunaphore Technologies\",\"vor 7 Tagen\",\"07.08.2021\",\"03:49:55\",\"6\"],[\"unctad remote internship policy capacity building sec\",\"United Nations\",\"vor 8 Tagen\",\"07.08.2021\",\"03:49:55\",\"6\"]],\"hovertemplate\":\"kmeans=%{customdata[5]}<br>pca_x=%{x}<br>pca_y=%{y}<br>titles=%{customdata[0]}<br>companies=%{customdata[1]}<br>date_listed=%{customdata[2]}<br>date_pulled=%{customdata[3]}<br>time_pulled=%{customdata[4]}<extra></extra>\",\"legendgroup\":\"6\",\"marker\":{\"color\":\"#FECB52\",\"symbol\":\"circle\"},\"mode\":\"markers\",\"name\":\"6\",\"orientation\":\"v\",\"showlegend\":true,\"type\":\"scatter\",\"x\":[-0.09619545596381256,-0.16280047051891924,-0.056676943317801154],\"xaxis\":\"x\",\"y\":[-0.21897545727295467,-0.2622419391549296,-0.14813154174373805],\"yaxis\":\"y\"}],                        {\"height\":720,\"legend\":{\"title\":{\"text\":\"kmeans\"},\"tracegroupgap\":0},\"template\":{\"data\":{\"bar\":[{\"error_x\":{\"color\":\"#f2f5fa\"},\"error_y\":{\"color\":\"#f2f5fa\"},\"marker\":{\"line\":{\"color\":\"rgb(17,17,17)\",\"width\":0.5},\"pattern\":{\"fillmode\":\"overlay\",\"size\":10,\"solidity\":0.2}},\"type\":\"bar\"}],\"barpolar\":[{\"marker\":{\"line\":{\"color\":\"rgb(17,17,17)\",\"width\":0.5},\"pattern\":{\"fillmode\":\"overlay\",\"size\":10,\"solidity\":0.2}},\"type\":\"barpolar\"}],\"carpet\":[{\"aaxis\":{\"endlinecolor\":\"#A2B1C6\",\"gridcolor\":\"#506784\",\"linecolor\":\"#506784\",\"minorgridcolor\":\"#506784\",\"startlinecolor\":\"#A2B1C6\"},\"baxis\":{\"endlinecolor\":\"#A2B1C6\",\"gridcolor\":\"#506784\",\"linecolor\":\"#506784\",\"minorgridcolor\":\"#506784\",\"startlinecolor\":\"#A2B1C6\"},\"type\":\"carpet\"}],\"choropleth\":[{\"colorbar\":{\"outlinewidth\":0,\"ticks\":\"\"},\"type\":\"choropleth\"}],\"contour\":[{\"colorbar\":{\"outlinewidth\":0,\"ticks\":\"\"},\"colorscale\":[[0.0,\"#0d0887\"],[0.1111111111111111,\"#46039f\"],[0.2222222222222222,\"#7201a8\"],[0.3333333333333333,\"#9c179e\"],[0.4444444444444444,\"#bd3786\"],[0.5555555555555556,\"#d8576b\"],[0.6666666666666666,\"#ed7953\"],[0.7777777777777778,\"#fb9f3a\"],[0.8888888888888888,\"#fdca26\"],[1.0,\"#f0f921\"]],\"type\":\"contour\"}],\"contourcarpet\":[{\"colorbar\":{\"outlinewidth\":0,\"ticks\":\"\"},\"type\":\"contourcarpet\"}],\"heatmap\":[{\"colorbar\":{\"outlinewidth\":0,\"ticks\":\"\"},\"colorscale\":[[0.0,\"#0d0887\"],[0.1111111111111111,\"#46039f\"],[0.2222222222222222,\"#7201a8\"],[0.3333333333333333,\"#9c179e\"],[0.4444444444444444,\"#bd3786\"],[0.5555555555555556,\"#d8576b\"],[0.6666666666666666,\"#ed7953\"],[0.7777777777777778,\"#fb9f3a\"],[0.8888888888888888,\"#fdca26\"],[1.0,\"#f0f921\"]],\"type\":\"heatmap\"}],\"heatmapgl\":[{\"colorbar\":{\"outlinewidth\":0,\"ticks\":\"\"},\"colorscale\":[[0.0,\"#0d0887\"],[0.1111111111111111,\"#46039f\"],[0.2222222222222222,\"#7201a8\"],[0.3333333333333333,\"#9c179e\"],[0.4444444444444444,\"#bd3786\"],[0.5555555555555556,\"#d8576b\"],[0.6666666666666666,\"#ed7953\"],[0.7777777777777778,\"#fb9f3a\"],[0.8888888888888888,\"#fdca26\"],[1.0,\"#f0f921\"]],\"type\":\"heatmapgl\"}],\"histogram\":[{\"marker\":{\"pattern\":{\"fillmode\":\"overlay\",\"size\":10,\"solidity\":0.2}},\"type\":\"histogram\"}],\"histogram2d\":[{\"colorbar\":{\"outlinewidth\":0,\"ticks\":\"\"},\"colorscale\":[[0.0,\"#0d0887\"],[0.1111111111111111,\"#46039f\"],[0.2222222222222222,\"#7201a8\"],[0.3333333333333333,\"#9c179e\"],[0.4444444444444444,\"#bd3786\"],[0.5555555555555556,\"#d8576b\"],[0.6666666666666666,\"#ed7953\"],[0.7777777777777778,\"#fb9f3a\"],[0.8888888888888888,\"#fdca26\"],[1.0,\"#f0f921\"]],\"type\":\"histogram2d\"}],\"histogram2dcontour\":[{\"colorbar\":{\"outlinewidth\":0,\"ticks\":\"\"},\"colorscale\":[[0.0,\"#0d0887\"],[0.1111111111111111,\"#46039f\"],[0.2222222222222222,\"#7201a8\"],[0.3333333333333333,\"#9c179e\"],[0.4444444444444444,\"#bd3786\"],[0.5555555555555556,\"#d8576b\"],[0.6666666666666666,\"#ed7953\"],[0.7777777777777778,\"#fb9f3a\"],[0.8888888888888888,\"#fdca26\"],[1.0,\"#f0f921\"]],\"type\":\"histogram2dcontour\"}],\"mesh3d\":[{\"colorbar\":{\"outlinewidth\":0,\"ticks\":\"\"},\"type\":\"mesh3d\"}],\"parcoords\":[{\"line\":{\"colorbar\":{\"outlinewidth\":0,\"ticks\":\"\"}},\"type\":\"parcoords\"}],\"pie\":[{\"automargin\":true,\"type\":\"pie\"}],\"scatter\":[{\"marker\":{\"line\":{\"color\":\"#283442\"}},\"type\":\"scatter\"}],\"scatter3d\":[{\"line\":{\"colorbar\":{\"outlinewidth\":0,\"ticks\":\"\"}},\"marker\":{\"colorbar\":{\"outlinewidth\":0,\"ticks\":\"\"}},\"type\":\"scatter3d\"}],\"scattercarpet\":[{\"marker\":{\"colorbar\":{\"outlinewidth\":0,\"ticks\":\"\"}},\"type\":\"scattercarpet\"}],\"scattergeo\":[{\"marker\":{\"colorbar\":{\"outlinewidth\":0,\"ticks\":\"\"}},\"type\":\"scattergeo\"}],\"scattergl\":[{\"marker\":{\"line\":{\"color\":\"#283442\"}},\"type\":\"scattergl\"}],\"scattermapbox\":[{\"marker\":{\"colorbar\":{\"outlinewidth\":0,\"ticks\":\"\"}},\"type\":\"scattermapbox\"}],\"scatterpolar\":[{\"marker\":{\"colorbar\":{\"outlinewidth\":0,\"ticks\":\"\"}},\"type\":\"scatterpolar\"}],\"scatterpolargl\":[{\"marker\":{\"colorbar\":{\"outlinewidth\":0,\"ticks\":\"\"}},\"type\":\"scatterpolargl\"}],\"scatterternary\":[{\"marker\":{\"colorbar\":{\"outlinewidth\":0,\"ticks\":\"\"}},\"type\":\"scatterternary\"}],\"surface\":[{\"colorbar\":{\"outlinewidth\":0,\"ticks\":\"\"},\"colorscale\":[[0.0,\"#0d0887\"],[0.1111111111111111,\"#46039f\"],[0.2222222222222222,\"#7201a8\"],[0.3333333333333333,\"#9c179e\"],[0.4444444444444444,\"#bd3786\"],[0.5555555555555556,\"#d8576b\"],[0.6666666666666666,\"#ed7953\"],[0.7777777777777778,\"#fb9f3a\"],[0.8888888888888888,\"#fdca26\"],[1.0,\"#f0f921\"]],\"type\":\"surface\"}],\"table\":[{\"cells\":{\"fill\":{\"color\":\"#506784\"},\"line\":{\"color\":\"rgb(17,17,17)\"}},\"header\":{\"fill\":{\"color\":\"#2a3f5f\"},\"line\":{\"color\":\"rgb(17,17,17)\"}},\"type\":\"table\"}]},\"layout\":{\"annotationdefaults\":{\"arrowcolor\":\"#f2f5fa\",\"arrowhead\":0,\"arrowwidth\":1},\"autotypenumbers\":\"strict\",\"coloraxis\":{\"colorbar\":{\"outlinewidth\":0,\"ticks\":\"\"}},\"colorscale\":{\"diverging\":[[0,\"#8e0152\"],[0.1,\"#c51b7d\"],[0.2,\"#de77ae\"],[0.3,\"#f1b6da\"],[0.4,\"#fde0ef\"],[0.5,\"#f7f7f7\"],[0.6,\"#e6f5d0\"],[0.7,\"#b8e186\"],[0.8,\"#7fbc41\"],[0.9,\"#4d9221\"],[1,\"#276419\"]],\"sequential\":[[0.0,\"#0d0887\"],[0.1111111111111111,\"#46039f\"],[0.2222222222222222,\"#7201a8\"],[0.3333333333333333,\"#9c179e\"],[0.4444444444444444,\"#bd3786\"],[0.5555555555555556,\"#d8576b\"],[0.6666666666666666,\"#ed7953\"],[0.7777777777777778,\"#fb9f3a\"],[0.8888888888888888,\"#fdca26\"],[1.0,\"#f0f921\"]],\"sequentialminus\":[[0.0,\"#0d0887\"],[0.1111111111111111,\"#46039f\"],[0.2222222222222222,\"#7201a8\"],[0.3333333333333333,\"#9c179e\"],[0.4444444444444444,\"#bd3786\"],[0.5555555555555556,\"#d8576b\"],[0.6666666666666666,\"#ed7953\"],[0.7777777777777778,\"#fb9f3a\"],[0.8888888888888888,\"#fdca26\"],[1.0,\"#f0f921\"]]},\"colorway\":[\"#636efa\",\"#EF553B\",\"#00cc96\",\"#ab63fa\",\"#FFA15A\",\"#19d3f3\",\"#FF6692\",\"#B6E880\",\"#FF97FF\",\"#FECB52\"],\"font\":{\"color\":\"#f2f5fa\"},\"geo\":{\"bgcolor\":\"rgb(17,17,17)\",\"lakecolor\":\"rgb(17,17,17)\",\"landcolor\":\"rgb(17,17,17)\",\"showlakes\":true,\"showland\":true,\"subunitcolor\":\"#506784\"},\"hoverlabel\":{\"align\":\"left\"},\"hovermode\":\"closest\",\"mapbox\":{\"style\":\"dark\"},\"paper_bgcolor\":\"rgb(17,17,17)\",\"plot_bgcolor\":\"rgb(17,17,17)\",\"polar\":{\"angularaxis\":{\"gridcolor\":\"#506784\",\"linecolor\":\"#506784\",\"ticks\":\"\"},\"bgcolor\":\"rgb(17,17,17)\",\"radialaxis\":{\"gridcolor\":\"#506784\",\"linecolor\":\"#506784\",\"ticks\":\"\"}},\"scene\":{\"xaxis\":{\"backgroundcolor\":\"rgb(17,17,17)\",\"gridcolor\":\"#506784\",\"gridwidth\":2,\"linecolor\":\"#506784\",\"showbackground\":true,\"ticks\":\"\",\"zerolinecolor\":\"#C8D4E3\"},\"yaxis\":{\"backgroundcolor\":\"rgb(17,17,17)\",\"gridcolor\":\"#506784\",\"gridwidth\":2,\"linecolor\":\"#506784\",\"showbackground\":true,\"ticks\":\"\",\"zerolinecolor\":\"#C8D4E3\"},\"zaxis\":{\"backgroundcolor\":\"rgb(17,17,17)\",\"gridcolor\":\"#506784\",\"gridwidth\":2,\"linecolor\":\"#506784\",\"showbackground\":true,\"ticks\":\"\",\"zerolinecolor\":\"#C8D4E3\"}},\"shapedefaults\":{\"line\":{\"color\":\"#f2f5fa\"}},\"sliderdefaults\":{\"bgcolor\":\"#C8D4E3\",\"bordercolor\":\"rgb(17,17,17)\",\"borderwidth\":1,\"tickwidth\":0},\"ternary\":{\"aaxis\":{\"gridcolor\":\"#506784\",\"linecolor\":\"#506784\",\"ticks\":\"\"},\"baxis\":{\"gridcolor\":\"#506784\",\"linecolor\":\"#506784\",\"ticks\":\"\"},\"bgcolor\":\"rgb(17,17,17)\",\"caxis\":{\"gridcolor\":\"#506784\",\"linecolor\":\"#506784\",\"ticks\":\"\"}},\"title\":{\"x\":0.05},\"updatemenudefaults\":{\"bgcolor\":\"#506784\",\"borderwidth\":0},\"xaxis\":{\"automargin\":true,\"gridcolor\":\"#283442\",\"linecolor\":\"#506784\",\"ticks\":\"\",\"title\":{\"standoff\":15},\"zerolinecolor\":\"#283442\",\"zerolinewidth\":2},\"yaxis\":{\"automargin\":true,\"gridcolor\":\"#283442\",\"linecolor\":\"#506784\",\"ticks\":\"\",\"title\":{\"standoff\":15},\"zerolinecolor\":\"#283442\",\"zerolinewidth\":2}}},\"title\":{\"text\":\"Jul-08-2021 viz Jobs by 'titles' via google USE + pca | internship in data\"},\"width\":960,\"xaxis\":{\"anchor\":\"y\",\"domain\":[0.0,1.0],\"title\":{\"text\":\"pca_x\"}},\"yaxis\":{\"anchor\":\"x\",\"domain\":[0.0,1.0],\"title\":{\"text\":\"pca_y\"}}},                        {\"responsive\": true}                    ).then(function(){\n",
              "                            \n",
              "var gd = document.getElementById('0cf97f82-3710-45bd-80b3-3905e99e90b2');\n",
              "var x = new MutationObserver(function (mutations, observer) {{\n",
              "        var display = window.getComputedStyle(gd).display;\n",
              "        if (!display || display === 'none') {{\n",
              "            console.log([gd, 'removed!']);\n",
              "            Plotly.purge(gd);\n",
              "            observer.disconnect();\n",
              "        }}\n",
              "}});\n",
              "\n",
              "// Listen for the removal of the full notebook cells\n",
              "var notebookContainer = gd.closest('#notebook-container');\n",
              "if (notebookContainer) {{\n",
              "    x.observe(notebookContainer, {childList: true});\n",
              "}}\n",
              "\n",
              "// Listen for the clearing of the current output cell\n",
              "var outputEl = gd.closest('.output');\n",
              "if (outputEl) {{\n",
              "    x.observe(outputEl, {childList: true});\n",
              "}}\n",
              "\n",
              "                        })                };                            </script>        </div>\n",
              "</body>\n",
              "</html>"
            ]
          },
          "metadata": {
            "tags": []
          }
        },
        {
          "output_type": "stream",
          "text": [
            "plot generated -  2021-07-08 03:50:01.193124\n"
          ],
          "name": "stdout"
        }
      ]
    },
    {
      "cell_type": "markdown",
      "metadata": {
        "id": "hl1s68pygQNa"
      },
      "source": [
        "### query 2 - all jobs in Switzerland for English Speakers\n",
        "\n",
        "*This is the special case where Indeed shows you all CH-English jobs and it doesn't follow standard search query logic / HTML (has its own page)*"
      ]
    },
    {
      "cell_type": "code",
      "metadata": {
        "id": "9abIK_KOgVqW",
        "colab": {
          "base_uri": "https://localhost:8080/",
          "height": 795
        },
        "outputId": "80ec2e05-8642-4e3f-8cfc-bc64befe7217"
      },
      "source": [
        "jq2 = \"indeed_default\" # passing this phrase in causes it to search for all en jobs\n",
        "jt2 = \"all\"\n",
        "# in the case of \"run the special case on Indeed\" query terms don't matter\n",
        "chdf2 = find_CHjobs_from(website=\"indeed_default\", job_query=\"gimme\", \n",
        "                         desired_characs=desired_characs)\n",
        "\n",
        "q2_processed = indeed_postprocess(chdf2, query_term=jq2, query_jobtype=jt2,\n",
        "                       shorten_links=False, download_excel=False)\n",
        "\n",
        "data_table.DataTable(indeed_datatable(q2_processed), \n",
        "                     include_index=False, num_rows_per_page=20)"
      ],
      "execution_count": 24,
      "outputs": [
        {
          "output_type": "display_data",
          "data": {
            "text/html": [
              "\n",
              "  <style>\n",
              "    pre {\n",
              "        white-space: pre-wrap;\n",
              "    }\n",
              "  </style>\n",
              "  "
            ],
            "text/plain": [
              "<IPython.core.display.HTML object>"
            ]
          },
          "metadata": {
            "tags": []
          }
        },
        {
          "output_type": "stream",
          "text": [
            "50 new job postings retrieved from indeed_default. Stored in Jul-08-2021_[raw]_scraped_jobs_CH.xls.\n",
            "Starting postprocess -  2021-07-08 03:50:03.481620\n",
            "Count of column 'companies' appearances in search:\n",
            "\n",
            "MDPI AG                            4\n",
            "ABB                                4\n",
            "Philochem AG                       3\n",
            "H+O communications Ltd.            3\n",
            "Paul Scherrer Institut Villigen    2\n",
            "Randstad                           2\n",
            "World Health Organization          2\n",
            "digitalswitzerland                 1\n",
            "ITech Consult                      1\n",
            "Roche                              1\n",
            "Name: companies, dtype: int64\n"
          ],
          "name": "stdout"
        },
        {
          "output_type": "execute_result",
          "data": {
            "application/vnd.google.colaboratory.module+javascript": "\n      import \"https://ssl.gstatic.com/colaboratory/data_table/a6224c040fa35dcf/data_table.js\";\n\n      window.createDataTable({\n        data: [[\"client service executive\",\n\"BNY Mellon\",\n\"Gerade geschaltet\",\n\"not_created\",\n\"07.08.2021\",\n\"03:50:03\",\n\"fulfill administrative needs fund buying..\"],\n [\"sale associate landquart\",\n\"Groupe Rossignol\",\n\"Gerade geschaltet\",\n\"not_created\",\n\"07.08.2021\",\n\"03:50:03\",\n\"rossignol group looking sales associate ..\"],\n [\"ux ui designlead onelog\",\n\"TX Group\",\n\"Gerade geschaltet\",\n\"not_created\",\n\"07.08.2021\",\n\"03:50:03\",\n\"employment level location zurich mobile ..\"],\n [\"support training application specialist molecular poc\",\n\"Roche\",\n\"Gerade geschaltet\",\n\"not_created\",\n\"07.08.2021\",\n\"03:50:03\",\n\"global customer support global organizat..\"],\n [\"senior gl accountant temporary\",\n\"Exact Sciences Corporation\",\n\"Gerade geschaltet\",\n\"not_created\",\n\"07.08.2021\",\n\"03:50:03\",\n\"senior gl accountant sga directly respon..\"],\n [\"consultant methods standards projects\",\n\"World Health Organization\",\n\"Gerade geschaltet\",\n\"not_created\",\n\"07.08.2021\",\n\"03:50:03\",\n\"contract duration years months days mont..\"],\n [\"senior project manager renewable energy thermal power\",\n\"AFRY\",\n\"Gerade geschaltet\",\n\"not_created\",\n\"07.08.2021\",\n\"03:50:03\",\n\"develop commercially lead project execut..\"],\n [\"digital project coordinator\",\n\"H+O communications Ltd.\",\n\"Gerade geschaltet\",\n\"not_created\",\n\"07.08.2021\",\n\"03:50:03\",\n\"support initial digital concept implemen..\"],\n [\"multimedia producer web specialist\",\n\"H+O communications Ltd.\",\n\"Gerade geschaltet\",\n\"not_created\",\n\"07.08.2021\",\n\"03:50:03\",\n\"develop wide range printed online articl..\"],\n [\"internship - medical communications\",\n\"H+O communications Ltd.\",\n\"Gerade geschaltet\",\n\"not_created\",\n\"07.08.2021\",\n\"03:50:03\",\n\"medical communications pharmaceutical ma..\"],\n [\"member engagement manager\",\n\"digitalswitzerland\",\n\"Gerade geschaltet\",\n\"not_created\",\n\"07.08.2021\",\n\"03:50:03\",\n\"ability empathize various types organiza..\"],\n [\"legal officer asset management\",\n\"Bianchi&Partner AG\",\n\"Gerade geschaltet\",\n\"not_created\",\n\"07.08.2021\",\n\"03:50:03\",\n\"client asset management boutique stands ..\"],\n [\"area visual merchandising w\",\n\"Louis Vuitton\",\n\"Heute\",\n\"not_created\",\n\"07.08.2021\",\n\"03:50:03\",\n\"area visual merchandising ambassador bra..\"],\n [\"internship regulatory affairs\",\n\"Abbott Laboratories\",\n\"Heute\",\n\"not_created\",\n\"07.08.2021\",\n\"03:50:03\",\n\"internship fresh graduate opportunity me..\"],\n [\"contract procurement manager zurich remote switzerl\",\n\"Beekeeper\",\n\"Heute\",\n\"not_created\",\n\"07.08.2021\",\n\"03:50:03\",\n\"purpose role support legal finance teams..\"],\n [\"laboratory assistant philochem ag otelfingen switzerlan\",\n\"Philochem AG\",\n\"Heute\",\n\"not_created\",\n\"07.08.2021\",\n\"03:50:03\",\n\"main role would carry variety tasks crit..\"],\n [\"customer support manager\",\n\"Safran\",\n\"Heute\",\n\"not_created\",\n\"07.08.2021\",\n\"03:50:03\",\n\"point contact sales team intercompany pr..\"],\n [\"campaign manager operations planner\",\n\"Sulzer & Schmid Laboratories AG\",\n\"Heute\",\n\"not_created\",\n\"07.08.2021\",\n\"03:50:03\",\n\"plan inspection campaigns around world f..\"],\n [\"trader night shift\",\n\"SYZ GROUP\",\n\"Heute\",\n\"not_created\",\n\"07.08.2021\",\n\"03:50:03\",\n\"trader night shift reinforce trading tea..\"],\n [\"head global marketing f\",\n\"Kuehne+Nagel\",\n\"Heute\",\n\"not_created\",\n\"07.08.2021\",\n\"03:50:03\",\n\"develop annual overall global marketing ..\"],\n [\"internal communications manager\",\n\"Namics\",\n\"Heute\",\n\"not_created\",\n\"07.08.2021\",\n\"03:50:03\",\n\"full service data driven customer experi..\"],\n [\"research scientist antibody therapeutics\",\n\"Philochem AG\",\n\"Heute\",\n\"not_created\",\n\"07.08.2021\",\n\"03:50:03\",\n\"successful candidate design produce puri..\"],\n [\"laboratory technicians senior laboratory technicians\",\n\"Spectro | Jet-Care\",\n\"Heute\",\n\"not_created\",\n\"07.08.2021\",\n\"03:50:03\",\n\"temporary permanent full time positions ..\"],\n [\"php developer\",\n\"MDPI AG\",\n\"Heute\",\n\"not_created\",\n\"07.08.2021\",\n\"03:50:03\",\n\"position php developer full time permane..\"],\n [\"senior data analyst\",\n\"MDPI AG\",\n\"Heute\",\n\"not_created\",\n\"07.08.2021\",\n\"03:50:03\",\n\"position senior data analyst full time p..\"],\n [\"phd student index\",\n\"Paul Scherrer Institut Villigen\",\n\"Heute\",\n\"not_created\",\n\"07.08.2021\",\n\"03:50:03\",\n\"phd project focused understanding role w..\"],\n [\"procurement category manager production equipment europe\",\n\"CRH\",\n\"Heute\",\n\"not_created\",\n\"07.08.2021\",\n\"03:50:03\",\n\"' looking talented suitably qualified pe..\"],\n [\"research associate r chemistry\",\n\"Philochem AG\",\n\"Heute\",\n\"not_created\",\n\"07.08.2021\",\n\"03:50:03\",\n\"main role would carry maintenance organi..\"],\n [\"software architect mobile banking\",\n\"UBS\",\n\"Heute\",\n\"not_created\",\n\"07.08.2021\",\n\"03:50:03\",\n\"architect design develop scalable resili..\"],\n [\"automated cell operator\",\n\"ABB\",\n\"Heute\",\n\"not_created\",\n\"07.08.2021\",\n\"03:50:03\",\n\"role responsible operation complex autom..\"],\n [\"project manager\",\n\"MDPI AG\",\n\"Heute\",\n\"not_created\",\n\"07.08.2021\",\n\"03:50:03\",\n\"position project manager full time perma..\"],\n [\"linux system administrator\",\n\"MDPI AG\",\n\"Heute\",\n\"not_created\",\n\"07.08.2021\",\n\"03:50:03\",\n\"role ensure day day administration core ..\"],\n [\"scientist tenure track index\",\n\"Paul Scherrer Institut Villigen\",\n\"Heute\",\n\"not_created\",\n\"07.08.2021\",\n\"03:50:03\",\n\"development line photon diagnostics inst..\"],\n [\"sector head integrated flexible sensors\",\n\"CSEM SA\",\n\"Heute\",\n\"not_created\",\n\"07.08.2021\",\n\"03:50:03\",\n\"responsible defining communicating strat..\"],\n [\"financial consolidation ifrs specialist\",\n\"Nestl\\u00e9\",\n\"Heute\",\n\"not_created\",\n\"07.08.2021\",\n\"03:50:03\",\n\"type contact permanent contract master' ..\"],\n [\"technical officer risk management compliance\",\n\"World Health Organization\",\n\"Heute\",\n\"not_created\",\n\"07.08.2021\",\n\"03:50:03\",\n\"contractual arrangement temporary appoin..\"],\n [\"social security insurance expert\",\n\"ABB\",\n\"Heute\",\n\"not_created\",\n\"07.08.2021\",\n\"03:50:03\",\n\"main responsibility ensure abb' social s..\"],\n [\"sustainability manager\",\n\"ABB\",\n\"Heute\",\n\"not_created\",\n\"07.08.2021\",\n\"03:50:03\",\n\"ensure harmonized resource friendly impl..\"],\n [\"postdoctoral fellow f cheminformatics data scientist -\",\n\"Syngenta\",\n\"Heute\",\n\"not_created\",\n\"07.08.2021\",\n\"03:50:03\",\n\"work designing building informatics syst..\"],\n [\"phd student participatory research project hearing\",\n\"Universit\\u00e4t Bern\",\n\"Heute\",\n\"not_created\",\n\"07.08.2021\",\n\"03:50:03\",\n\"paediatric epidemiology research group c..\"],\n [\"senior software engineer\",\n\"ITech Consult\",\n\"Heute\",\n\"not_created\",\n\"07.08.2021\",\n\"03:50:03\",\n\"net core automated testing mocking frame..\"],\n [\"phd student participatory research project hearing\",\n\"Universit\\u00e4t Bern Universit\\u00e4t Bern\",\n\"Heute\",\n\"not_created\",\n\"07.08.2021\",\n\"03:50:03\",\n\"phd student participatory research proje..\"],\n [\"software license agreement manager\",\n\"Randstad\",\n\"Heute\",\n\"not_created\",\n\"07.08.2021\",\n\"03:50:03\",\n\"currently supporting client zurich searc..\"],\n [\"phd student computer science visual analytics data scie\",\n\"University of Z\\u00fcrich\",\n\"Heute\",\n\"not_created\",\n\"07.08.2021\",\n\"03:50:03\",\n\"open position phd student area multidime..\"],\n [\"senior devops engineer\",\n\"ABB\",\n\"Heute\",\n\"not_created\",\n\"07.08.2021\",\n\"03:50:03\",\n\"based experience many customer projects ..\"],\n [\"senior technology transfer lead\",\n\"Randstad\",\n\"Heute\",\n\"not_created\",\n\"07.08.2021\",\n\"03:50:03\",\n\"ensure activities performed according cu..\"],\n [\"salesforce developer f\",\n\"Next Force\",\n\"Heute\",\n\"not_created\",\n\"07.08.2021\",\n\"03:50:03\",\n\"company multiple salesforce instances ra..\"],\n [\"regulatory affairs specialist medtech pharma animal health\",\n\"HEMEX AG\",\n\"Heute\",\n\"not_created\",\n\"07.08.2021\",\n\"03:50:03\",\n\"act subject matter expert regarding regu..\"],\n [\"quality engineer uk ukraine\",\n\"Pexapark\",\n\"Heute\",\n\"not_created\",\n\"07.08.2021\",\n\"03:50:03\",\n\"quality engineer pexapark responsible en..\"],\n [\"european accounting manager nyon\",\n\"SCB\",\n\"Heute\",\n\"not_created\",\n\"07.08.2021\",\n\"03:50:03\",\n\"primary area responsibility prepare mont..\"]],\n        columns: [[\"string\", \"titles\"], [\"string\", \"companies\"], [\"string\", \"date_listed\"], [\"string\", \"short_link\"], [\"string\", \"date_pulled\"], [\"string\", \"time_pulled\"], [\"string\", \"summary_short\"]],\n        columnOptions: [],\n        rowsPerPage: 20,\n        helpUrl: \"https://colab.research.google.com/notebooks/data_table.ipynb\",\n        suppressOutputScrolling: true,\n        minimumWidth: undefined,\n      });\n    ",
            "text/plain": [
              "<google.colab.data_table.DataTable object>"
            ],
            "text/html": [
              "<div>\n",
              "<style scoped>\n",
              "    .dataframe tbody tr th:only-of-type {\n",
              "        vertical-align: middle;\n",
              "    }\n",
              "\n",
              "    .dataframe tbody tr th {\n",
              "        vertical-align: top;\n",
              "    }\n",
              "\n",
              "    .dataframe thead th {\n",
              "        text-align: right;\n",
              "    }\n",
              "</style>\n",
              "<table border=\"1\" class=\"dataframe\">\n",
              "  <thead>\n",
              "    <tr style=\"text-align: right;\">\n",
              "      <th></th>\n",
              "      <th>titles</th>\n",
              "      <th>companies</th>\n",
              "      <th>date_listed</th>\n",
              "      <th>short_link</th>\n",
              "      <th>date_pulled</th>\n",
              "      <th>time_pulled</th>\n",
              "      <th>summary_short</th>\n",
              "    </tr>\n",
              "  </thead>\n",
              "  <tbody>\n",
              "    <tr>\n",
              "      <th>0</th>\n",
              "      <td>client service executive</td>\n",
              "      <td>BNY Mellon</td>\n",
              "      <td>Gerade geschaltet</td>\n",
              "      <td>not_created</td>\n",
              "      <td>07.08.2021</td>\n",
              "      <td>03:50:03</td>\n",
              "      <td>fulfill administrative needs fund buying..</td>\n",
              "    </tr>\n",
              "    <tr>\n",
              "      <th>1</th>\n",
              "      <td>sale associate landquart</td>\n",
              "      <td>Groupe Rossignol</td>\n",
              "      <td>Gerade geschaltet</td>\n",
              "      <td>not_created</td>\n",
              "      <td>07.08.2021</td>\n",
              "      <td>03:50:03</td>\n",
              "      <td>rossignol group looking sales associate ..</td>\n",
              "    </tr>\n",
              "    <tr>\n",
              "      <th>2</th>\n",
              "      <td>ux ui designlead onelog</td>\n",
              "      <td>TX Group</td>\n",
              "      <td>Gerade geschaltet</td>\n",
              "      <td>not_created</td>\n",
              "      <td>07.08.2021</td>\n",
              "      <td>03:50:03</td>\n",
              "      <td>employment level location zurich mobile ..</td>\n",
              "    </tr>\n",
              "    <tr>\n",
              "      <th>3</th>\n",
              "      <td>support training application specialist molecu...</td>\n",
              "      <td>Roche</td>\n",
              "      <td>Gerade geschaltet</td>\n",
              "      <td>not_created</td>\n",
              "      <td>07.08.2021</td>\n",
              "      <td>03:50:03</td>\n",
              "      <td>global customer support global organizat..</td>\n",
              "    </tr>\n",
              "    <tr>\n",
              "      <th>4</th>\n",
              "      <td>senior gl accountant temporary</td>\n",
              "      <td>Exact Sciences Corporation</td>\n",
              "      <td>Gerade geschaltet</td>\n",
              "      <td>not_created</td>\n",
              "      <td>07.08.2021</td>\n",
              "      <td>03:50:03</td>\n",
              "      <td>senior gl accountant sga directly respon..</td>\n",
              "    </tr>\n",
              "    <tr>\n",
              "      <th>5</th>\n",
              "      <td>consultant methods standards projects</td>\n",
              "      <td>World Health Organization</td>\n",
              "      <td>Gerade geschaltet</td>\n",
              "      <td>not_created</td>\n",
              "      <td>07.08.2021</td>\n",
              "      <td>03:50:03</td>\n",
              "      <td>contract duration years months days mont..</td>\n",
              "    </tr>\n",
              "    <tr>\n",
              "      <th>6</th>\n",
              "      <td>senior project manager renewable energy therma...</td>\n",
              "      <td>AFRY</td>\n",
              "      <td>Gerade geschaltet</td>\n",
              "      <td>not_created</td>\n",
              "      <td>07.08.2021</td>\n",
              "      <td>03:50:03</td>\n",
              "      <td>develop commercially lead project execut..</td>\n",
              "    </tr>\n",
              "    <tr>\n",
              "      <th>7</th>\n",
              "      <td>digital project coordinator</td>\n",
              "      <td>H+O communications Ltd.</td>\n",
              "      <td>Gerade geschaltet</td>\n",
              "      <td>not_created</td>\n",
              "      <td>07.08.2021</td>\n",
              "      <td>03:50:03</td>\n",
              "      <td>support initial digital concept implemen..</td>\n",
              "    </tr>\n",
              "    <tr>\n",
              "      <th>8</th>\n",
              "      <td>multimedia producer web specialist</td>\n",
              "      <td>H+O communications Ltd.</td>\n",
              "      <td>Gerade geschaltet</td>\n",
              "      <td>not_created</td>\n",
              "      <td>07.08.2021</td>\n",
              "      <td>03:50:03</td>\n",
              "      <td>develop wide range printed online articl..</td>\n",
              "    </tr>\n",
              "    <tr>\n",
              "      <th>9</th>\n",
              "      <td>internship - medical communications</td>\n",
              "      <td>H+O communications Ltd.</td>\n",
              "      <td>Gerade geschaltet</td>\n",
              "      <td>not_created</td>\n",
              "      <td>07.08.2021</td>\n",
              "      <td>03:50:03</td>\n",
              "      <td>medical communications pharmaceutical ma..</td>\n",
              "    </tr>\n",
              "    <tr>\n",
              "      <th>10</th>\n",
              "      <td>member engagement manager</td>\n",
              "      <td>digitalswitzerland</td>\n",
              "      <td>Gerade geschaltet</td>\n",
              "      <td>not_created</td>\n",
              "      <td>07.08.2021</td>\n",
              "      <td>03:50:03</td>\n",
              "      <td>ability empathize various types organiza..</td>\n",
              "    </tr>\n",
              "    <tr>\n",
              "      <th>11</th>\n",
              "      <td>legal officer asset management</td>\n",
              "      <td>Bianchi&amp;Partner AG</td>\n",
              "      <td>Gerade geschaltet</td>\n",
              "      <td>not_created</td>\n",
              "      <td>07.08.2021</td>\n",
              "      <td>03:50:03</td>\n",
              "      <td>client asset management boutique stands ..</td>\n",
              "    </tr>\n",
              "    <tr>\n",
              "      <th>12</th>\n",
              "      <td>area visual merchandising w</td>\n",
              "      <td>Louis Vuitton</td>\n",
              "      <td>Heute</td>\n",
              "      <td>not_created</td>\n",
              "      <td>07.08.2021</td>\n",
              "      <td>03:50:03</td>\n",
              "      <td>area visual merchandising ambassador bra..</td>\n",
              "    </tr>\n",
              "    <tr>\n",
              "      <th>13</th>\n",
              "      <td>internship regulatory affairs</td>\n",
              "      <td>Abbott Laboratories</td>\n",
              "      <td>Heute</td>\n",
              "      <td>not_created</td>\n",
              "      <td>07.08.2021</td>\n",
              "      <td>03:50:03</td>\n",
              "      <td>internship fresh graduate opportunity me..</td>\n",
              "    </tr>\n",
              "    <tr>\n",
              "      <th>14</th>\n",
              "      <td>contract procurement manager zurich remote swi...</td>\n",
              "      <td>Beekeeper</td>\n",
              "      <td>Heute</td>\n",
              "      <td>not_created</td>\n",
              "      <td>07.08.2021</td>\n",
              "      <td>03:50:03</td>\n",
              "      <td>purpose role support legal finance teams..</td>\n",
              "    </tr>\n",
              "    <tr>\n",
              "      <th>15</th>\n",
              "      <td>laboratory assistant philochem ag otelfingen s...</td>\n",
              "      <td>Philochem AG</td>\n",
              "      <td>Heute</td>\n",
              "      <td>not_created</td>\n",
              "      <td>07.08.2021</td>\n",
              "      <td>03:50:03</td>\n",
              "      <td>main role would carry variety tasks crit..</td>\n",
              "    </tr>\n",
              "    <tr>\n",
              "      <th>16</th>\n",
              "      <td>customer support manager</td>\n",
              "      <td>Safran</td>\n",
              "      <td>Heute</td>\n",
              "      <td>not_created</td>\n",
              "      <td>07.08.2021</td>\n",
              "      <td>03:50:03</td>\n",
              "      <td>point contact sales team intercompany pr..</td>\n",
              "    </tr>\n",
              "    <tr>\n",
              "      <th>17</th>\n",
              "      <td>campaign manager operations planner</td>\n",
              "      <td>Sulzer &amp; Schmid Laboratories AG</td>\n",
              "      <td>Heute</td>\n",
              "      <td>not_created</td>\n",
              "      <td>07.08.2021</td>\n",
              "      <td>03:50:03</td>\n",
              "      <td>plan inspection campaigns around world f..</td>\n",
              "    </tr>\n",
              "    <tr>\n",
              "      <th>18</th>\n",
              "      <td>trader night shift</td>\n",
              "      <td>SYZ GROUP</td>\n",
              "      <td>Heute</td>\n",
              "      <td>not_created</td>\n",
              "      <td>07.08.2021</td>\n",
              "      <td>03:50:03</td>\n",
              "      <td>trader night shift reinforce trading tea..</td>\n",
              "    </tr>\n",
              "    <tr>\n",
              "      <th>19</th>\n",
              "      <td>head global marketing f</td>\n",
              "      <td>Kuehne+Nagel</td>\n",
              "      <td>Heute</td>\n",
              "      <td>not_created</td>\n",
              "      <td>07.08.2021</td>\n",
              "      <td>03:50:03</td>\n",
              "      <td>develop annual overall global marketing ..</td>\n",
              "    </tr>\n",
              "    <tr>\n",
              "      <th>20</th>\n",
              "      <td>internal communications manager</td>\n",
              "      <td>Namics</td>\n",
              "      <td>Heute</td>\n",
              "      <td>not_created</td>\n",
              "      <td>07.08.2021</td>\n",
              "      <td>03:50:03</td>\n",
              "      <td>full service data driven customer experi..</td>\n",
              "    </tr>\n",
              "    <tr>\n",
              "      <th>21</th>\n",
              "      <td>research scientist antibody therapeutics</td>\n",
              "      <td>Philochem AG</td>\n",
              "      <td>Heute</td>\n",
              "      <td>not_created</td>\n",
              "      <td>07.08.2021</td>\n",
              "      <td>03:50:03</td>\n",
              "      <td>successful candidate design produce puri..</td>\n",
              "    </tr>\n",
              "    <tr>\n",
              "      <th>22</th>\n",
              "      <td>laboratory technicians senior laboratory techn...</td>\n",
              "      <td>Spectro | Jet-Care</td>\n",
              "      <td>Heute</td>\n",
              "      <td>not_created</td>\n",
              "      <td>07.08.2021</td>\n",
              "      <td>03:50:03</td>\n",
              "      <td>temporary permanent full time positions ..</td>\n",
              "    </tr>\n",
              "    <tr>\n",
              "      <th>23</th>\n",
              "      <td>php developer</td>\n",
              "      <td>MDPI AG</td>\n",
              "      <td>Heute</td>\n",
              "      <td>not_created</td>\n",
              "      <td>07.08.2021</td>\n",
              "      <td>03:50:03</td>\n",
              "      <td>position php developer full time permane..</td>\n",
              "    </tr>\n",
              "    <tr>\n",
              "      <th>24</th>\n",
              "      <td>senior data analyst</td>\n",
              "      <td>MDPI AG</td>\n",
              "      <td>Heute</td>\n",
              "      <td>not_created</td>\n",
              "      <td>07.08.2021</td>\n",
              "      <td>03:50:03</td>\n",
              "      <td>position senior data analyst full time p..</td>\n",
              "    </tr>\n",
              "    <tr>\n",
              "      <th>25</th>\n",
              "      <td>phd student index</td>\n",
              "      <td>Paul Scherrer Institut Villigen</td>\n",
              "      <td>Heute</td>\n",
              "      <td>not_created</td>\n",
              "      <td>07.08.2021</td>\n",
              "      <td>03:50:03</td>\n",
              "      <td>phd project focused understanding role w..</td>\n",
              "    </tr>\n",
              "    <tr>\n",
              "      <th>26</th>\n",
              "      <td>procurement category manager production equipm...</td>\n",
              "      <td>CRH</td>\n",
              "      <td>Heute</td>\n",
              "      <td>not_created</td>\n",
              "      <td>07.08.2021</td>\n",
              "      <td>03:50:03</td>\n",
              "      <td>' looking talented suitably qualified pe..</td>\n",
              "    </tr>\n",
              "    <tr>\n",
              "      <th>27</th>\n",
              "      <td>research associate r chemistry</td>\n",
              "      <td>Philochem AG</td>\n",
              "      <td>Heute</td>\n",
              "      <td>not_created</td>\n",
              "      <td>07.08.2021</td>\n",
              "      <td>03:50:03</td>\n",
              "      <td>main role would carry maintenance organi..</td>\n",
              "    </tr>\n",
              "    <tr>\n",
              "      <th>28</th>\n",
              "      <td>software architect mobile banking</td>\n",
              "      <td>UBS</td>\n",
              "      <td>Heute</td>\n",
              "      <td>not_created</td>\n",
              "      <td>07.08.2021</td>\n",
              "      <td>03:50:03</td>\n",
              "      <td>architect design develop scalable resili..</td>\n",
              "    </tr>\n",
              "    <tr>\n",
              "      <th>29</th>\n",
              "      <td>automated cell operator</td>\n",
              "      <td>ABB</td>\n",
              "      <td>Heute</td>\n",
              "      <td>not_created</td>\n",
              "      <td>07.08.2021</td>\n",
              "      <td>03:50:03</td>\n",
              "      <td>role responsible operation complex autom..</td>\n",
              "    </tr>\n",
              "    <tr>\n",
              "      <th>30</th>\n",
              "      <td>project manager</td>\n",
              "      <td>MDPI AG</td>\n",
              "      <td>Heute</td>\n",
              "      <td>not_created</td>\n",
              "      <td>07.08.2021</td>\n",
              "      <td>03:50:03</td>\n",
              "      <td>position project manager full time perma..</td>\n",
              "    </tr>\n",
              "    <tr>\n",
              "      <th>31</th>\n",
              "      <td>linux system administrator</td>\n",
              "      <td>MDPI AG</td>\n",
              "      <td>Heute</td>\n",
              "      <td>not_created</td>\n",
              "      <td>07.08.2021</td>\n",
              "      <td>03:50:03</td>\n",
              "      <td>role ensure day day administration core ..</td>\n",
              "    </tr>\n",
              "    <tr>\n",
              "      <th>32</th>\n",
              "      <td>scientist tenure track index</td>\n",
              "      <td>Paul Scherrer Institut Villigen</td>\n",
              "      <td>Heute</td>\n",
              "      <td>not_created</td>\n",
              "      <td>07.08.2021</td>\n",
              "      <td>03:50:03</td>\n",
              "      <td>development line photon diagnostics inst..</td>\n",
              "    </tr>\n",
              "    <tr>\n",
              "      <th>33</th>\n",
              "      <td>sector head integrated flexible sensors</td>\n",
              "      <td>CSEM SA</td>\n",
              "      <td>Heute</td>\n",
              "      <td>not_created</td>\n",
              "      <td>07.08.2021</td>\n",
              "      <td>03:50:03</td>\n",
              "      <td>responsible defining communicating strat..</td>\n",
              "    </tr>\n",
              "    <tr>\n",
              "      <th>34</th>\n",
              "      <td>financial consolidation ifrs specialist</td>\n",
              "      <td>Nestlé</td>\n",
              "      <td>Heute</td>\n",
              "      <td>not_created</td>\n",
              "      <td>07.08.2021</td>\n",
              "      <td>03:50:03</td>\n",
              "      <td>type contact permanent contract master' ..</td>\n",
              "    </tr>\n",
              "    <tr>\n",
              "      <th>35</th>\n",
              "      <td>technical officer risk management compliance</td>\n",
              "      <td>World Health Organization</td>\n",
              "      <td>Heute</td>\n",
              "      <td>not_created</td>\n",
              "      <td>07.08.2021</td>\n",
              "      <td>03:50:03</td>\n",
              "      <td>contractual arrangement temporary appoin..</td>\n",
              "    </tr>\n",
              "    <tr>\n",
              "      <th>36</th>\n",
              "      <td>social security insurance expert</td>\n",
              "      <td>ABB</td>\n",
              "      <td>Heute</td>\n",
              "      <td>not_created</td>\n",
              "      <td>07.08.2021</td>\n",
              "      <td>03:50:03</td>\n",
              "      <td>main responsibility ensure abb' social s..</td>\n",
              "    </tr>\n",
              "    <tr>\n",
              "      <th>37</th>\n",
              "      <td>sustainability manager</td>\n",
              "      <td>ABB</td>\n",
              "      <td>Heute</td>\n",
              "      <td>not_created</td>\n",
              "      <td>07.08.2021</td>\n",
              "      <td>03:50:03</td>\n",
              "      <td>ensure harmonized resource friendly impl..</td>\n",
              "    </tr>\n",
              "    <tr>\n",
              "      <th>38</th>\n",
              "      <td>postdoctoral fellow f cheminformatics data sci...</td>\n",
              "      <td>Syngenta</td>\n",
              "      <td>Heute</td>\n",
              "      <td>not_created</td>\n",
              "      <td>07.08.2021</td>\n",
              "      <td>03:50:03</td>\n",
              "      <td>work designing building informatics syst..</td>\n",
              "    </tr>\n",
              "    <tr>\n",
              "      <th>39</th>\n",
              "      <td>phd student participatory research project hea...</td>\n",
              "      <td>Universität Bern</td>\n",
              "      <td>Heute</td>\n",
              "      <td>not_created</td>\n",
              "      <td>07.08.2021</td>\n",
              "      <td>03:50:03</td>\n",
              "      <td>paediatric epidemiology research group c..</td>\n",
              "    </tr>\n",
              "    <tr>\n",
              "      <th>40</th>\n",
              "      <td>senior software engineer</td>\n",
              "      <td>ITech Consult</td>\n",
              "      <td>Heute</td>\n",
              "      <td>not_created</td>\n",
              "      <td>07.08.2021</td>\n",
              "      <td>03:50:03</td>\n",
              "      <td>net core automated testing mocking frame..</td>\n",
              "    </tr>\n",
              "    <tr>\n",
              "      <th>41</th>\n",
              "      <td>phd student participatory research project hea...</td>\n",
              "      <td>Universität Bern Universität Bern</td>\n",
              "      <td>Heute</td>\n",
              "      <td>not_created</td>\n",
              "      <td>07.08.2021</td>\n",
              "      <td>03:50:03</td>\n",
              "      <td>phd student participatory research proje..</td>\n",
              "    </tr>\n",
              "    <tr>\n",
              "      <th>42</th>\n",
              "      <td>software license agreement manager</td>\n",
              "      <td>Randstad</td>\n",
              "      <td>Heute</td>\n",
              "      <td>not_created</td>\n",
              "      <td>07.08.2021</td>\n",
              "      <td>03:50:03</td>\n",
              "      <td>currently supporting client zurich searc..</td>\n",
              "    </tr>\n",
              "    <tr>\n",
              "      <th>43</th>\n",
              "      <td>phd student computer science visual analytics ...</td>\n",
              "      <td>University of Zürich</td>\n",
              "      <td>Heute</td>\n",
              "      <td>not_created</td>\n",
              "      <td>07.08.2021</td>\n",
              "      <td>03:50:03</td>\n",
              "      <td>open position phd student area multidime..</td>\n",
              "    </tr>\n",
              "    <tr>\n",
              "      <th>44</th>\n",
              "      <td>senior devops engineer</td>\n",
              "      <td>ABB</td>\n",
              "      <td>Heute</td>\n",
              "      <td>not_created</td>\n",
              "      <td>07.08.2021</td>\n",
              "      <td>03:50:03</td>\n",
              "      <td>based experience many customer projects ..</td>\n",
              "    </tr>\n",
              "    <tr>\n",
              "      <th>45</th>\n",
              "      <td>senior technology transfer lead</td>\n",
              "      <td>Randstad</td>\n",
              "      <td>Heute</td>\n",
              "      <td>not_created</td>\n",
              "      <td>07.08.2021</td>\n",
              "      <td>03:50:03</td>\n",
              "      <td>ensure activities performed according cu..</td>\n",
              "    </tr>\n",
              "    <tr>\n",
              "      <th>46</th>\n",
              "      <td>salesforce developer f</td>\n",
              "      <td>Next Force</td>\n",
              "      <td>Heute</td>\n",
              "      <td>not_created</td>\n",
              "      <td>07.08.2021</td>\n",
              "      <td>03:50:03</td>\n",
              "      <td>company multiple salesforce instances ra..</td>\n",
              "    </tr>\n",
              "    <tr>\n",
              "      <th>47</th>\n",
              "      <td>regulatory affairs specialist medtech pharma a...</td>\n",
              "      <td>HEMEX AG</td>\n",
              "      <td>Heute</td>\n",
              "      <td>not_created</td>\n",
              "      <td>07.08.2021</td>\n",
              "      <td>03:50:03</td>\n",
              "      <td>act subject matter expert regarding regu..</td>\n",
              "    </tr>\n",
              "    <tr>\n",
              "      <th>48</th>\n",
              "      <td>quality engineer uk ukraine</td>\n",
              "      <td>Pexapark</td>\n",
              "      <td>Heute</td>\n",
              "      <td>not_created</td>\n",
              "      <td>07.08.2021</td>\n",
              "      <td>03:50:03</td>\n",
              "      <td>quality engineer pexapark responsible en..</td>\n",
              "    </tr>\n",
              "    <tr>\n",
              "      <th>49</th>\n",
              "      <td>european accounting manager nyon</td>\n",
              "      <td>SCB</td>\n",
              "      <td>Heute</td>\n",
              "      <td>not_created</td>\n",
              "      <td>07.08.2021</td>\n",
              "      <td>03:50:03</td>\n",
              "      <td>primary area responsibility prepare mont..</td>\n",
              "    </tr>\n",
              "  </tbody>\n",
              "</table>\n",
              "</div>"
            ]
          },
          "metadata": {
            "tags": []
          },
          "execution_count": 24
        }
      ]
    },
    {
      "cell_type": "markdown",
      "metadata": {
        "id": "8SOoPK-9uTcY"
      },
      "source": [
        "**Viz Query 2**"
      ]
    },
    {
      "cell_type": "code",
      "metadata": {
        "id": "3SB27BEB0yux",
        "colab": {
          "base_uri": "https://localhost:8080/",
          "height": 1000
        },
        "outputId": "36fe7b32-92c5-4378-9de3-460d566eb022"
      },
      "source": [
        "viz_q2 = q2_processed.copy()\n",
        "viz_q2.drop(columns=\"links\", inplace=True)\n",
        "\n",
        "if using_google_USE:\n",
        "\n",
        "    # general rule - if # of jobs returned > 25 may want to turn off text in \n",
        "    # one or both plots (summary text and title text)\n",
        "\n",
        "    vizjobs_googleUSE(viz_q2, \"summary\", meine_embeddings, \n",
        "                      save_plot=True, show_text=True,\n",
        "                        query_name=\"all listings for CH eng. jobs\", viz_type=\"tsne\")\n",
        "    \n",
        "    vizjobs_googleUSE(viz_q2, \"titles\", meine_embeddings, \n",
        "                      save_plot=True, show_text=False,\n",
        "                        query_name=\"all listings for CH eng. jobs\", viz_type=\"tsne\")\n",
        "else:\n",
        "    viz_job_data_word2vec(viz_q2, \"summary\", save_plot=False, h=720,\n",
        "                          query_name=\"all listings for CH eng. jobs\", viz_type=\"tsne\")\n",
        "    viz_job_data_word2vec(viz_q2, \"titles\", save_plot=False, h=720,\n",
        "                          query_name=\"all listings for CH eng. jobs\", viz_type=\"tsne\")"
      ],
      "execution_count": 25,
      "outputs": [
        {
          "output_type": "display_data",
          "data": {
            "text/html": [
              "\n",
              "  <style>\n",
              "    pre {\n",
              "        white-space: pre-wrap;\n",
              "    }\n",
              "  </style>\n",
              "  "
            ],
            "text/plain": [
              "<IPython.core.display.HTML object>"
            ]
          },
          "metadata": {
            "tags": []
          }
        },
        {
          "output_type": "stream",
          "text": [
            "\n",
            "For google_USE-all listings for CH eng. jobs: opt. # of k-means clusters is 7 \n",
            "\n"
          ],
          "name": "stdout"
        },
        {
          "output_type": "display_data",
          "data": {
            "text/html": [
              "<html>\n",
              "<head><meta charset=\"utf-8\" /></head>\n",
              "<body>\n",
              "    <div>            <script src=\"https://cdnjs.cloudflare.com/ajax/libs/mathjax/2.7.5/MathJax.js?config=TeX-AMS-MML_SVG\"></script><script type=\"text/javascript\">if (window.MathJax) {MathJax.Hub.Config({SVG: {font: \"STIX-Web\"}});}</script>                <script type=\"text/javascript\">window.PlotlyConfig = {MathJaxConfig: 'local'};</script>\n",
              "        <script src=\"https://cdn.plot.ly/plotly-2.2.0.min.js\"></script>                <div id=\"11502893-d6b7-4da2-9a4e-60f5a11e38d3\" class=\"plotly-graph-div\" style=\"height:720px; width:960px;\"></div>            <script type=\"text/javascript\">                                    window.PLOTLYENV=window.PLOTLYENV || {};                                    if (document.getElementById(\"11502893-d6b7-4da2-9a4e-60f5a11e38d3\")) {                    Plotly.newPlot(                        \"11502893-d6b7-4da2-9a4e-60f5a11e38d3\",                        [{\"customdata\":[[\"client service executive\",\"BNY Mellon\",\"Gerade geschaltet\",\"not_created\",\"07.08.2021\",\"03:50:03\",\"0\"],[\"sale associate landquart\",\"Groupe Rossignol\",\"Gerade geschaltet\",\"not_created\",\"07.08.2021\",\"03:50:03\",\"0\"],[\"digital project coordinator\",\"H+O communications Ltd.\",\"Gerade geschaltet\",\"not_created\",\"07.08.2021\",\"03:50:03\",\"0\"],[\"multimedia producer web specialist\",\"H+O communications Ltd.\",\"Gerade geschaltet\",\"not_created\",\"07.08.2021\",\"03:50:03\",\"0\"],[\"internship - medical communications\",\"H+O communications Ltd.\",\"Gerade geschaltet\",\"not_created\",\"07.08.2021\",\"03:50:03\",\"0\"],[\"area visual merchandising w\",\"Louis Vuitton\",\"Heute\",\"not_created\",\"07.08.2021\",\"03:50:03\",\"0\"],[\"customer support manager\",\"Safran\",\"Heute\",\"not_created\",\"07.08.2021\",\"03:50:03\",\"0\"],[\"senior software engineer\",\"ITech Consult\",\"Heute\",\"not_created\",\"07.08.2021\",\"03:50:03\",\"0\"],[\"software license agreement manager\",\"Randstad\",\"Heute\",\"not_created\",\"07.08.2021\",\"03:50:03\",\"0\"],[\"salesforce developer f\",\"Next Force\",\"Heute\",\"not_created\",\"07.08.2021\",\"03:50:03\",\"0\"]],\"hovertemplate\":\"kmeans=%{customdata[6]}<br>tsne_x=%{x}<br>tsne_y=%{y}<br>companies_abbrev=%{text}<br>titles=%{customdata[0]}<br>companies=%{customdata[1]}<br>date_listed=%{customdata[2]}<br>short_link=%{customdata[3]}<br>date_pulled=%{customdata[4]}<br>time_pulled=%{customdata[5]}<extra></extra>\",\"legendgroup\":\"0\",\"marker\":{\"color\":\"#636efa\",\"symbol\":\"circle\"},\"mode\":\"markers+text\",\"name\":\"0\",\"orientation\":\"v\",\"showlegend\":true,\"text\":[\"BNY Mellon\",\"Groupe Rossigno..\",\"H+O communicati..\",\"H+O communicati..\",\"H+O communicati..\",\"Louis Vuitton\",\"Safran\",\"ITech Consult\",\"Randstad\",\"Next Force\"],\"type\":\"scatter\",\"x\":[-7.360383033752441,44.150482177734375,10.822317123413086,23.464717864990234,22.45395278930664,37.08156967163086,17.03400993347168,-1.9953255653381348,-13.346074104309082,5.718440532684326],\"xaxis\":\"x\",\"y\":[-56.37783432006836,-25.049358367919922,-37.842750549316406,-44.28548812866211,-32.52356719970703,-43.38071060180664,-55.80707550048828,-33.164024353027344,-44.045101165771484,-48.471092224121094],\"yaxis\":\"y\"},{\"customdata\":[[\"ux ui designlead onelog\",\"TX Group\",\"Gerade geschaltet\",\"not_created\",\"07.08.2021\",\"03:50:03\",\"1\"],[\"laboratory technicians senior laboratory technicians\",\"Spectro | Jet-Care\",\"Heute\",\"not_created\",\"07.08.2021\",\"03:50:03\",\"1\"],[\"php developer\",\"MDPI AG\",\"Heute\",\"not_created\",\"07.08.2021\",\"03:50:03\",\"1\"],[\"senior data analyst\",\"MDPI AG\",\"Heute\",\"not_created\",\"07.08.2021\",\"03:50:03\",\"1\"],[\"project manager\",\"MDPI AG\",\"Heute\",\"not_created\",\"07.08.2021\",\"03:50:03\",\"1\"],[\"linux system administrator\",\"MDPI AG\",\"Heute\",\"not_created\",\"07.08.2021\",\"03:50:03\",\"1\"],[\"phd student computer science visual analytics data scie\",\"University of Z\\u00fcrich\",\"Heute\",\"not_created\",\"07.08.2021\",\"03:50:03\",\"1\"]],\"hovertemplate\":\"kmeans=%{customdata[6]}<br>tsne_x=%{x}<br>tsne_y=%{y}<br>companies_abbrev=%{text}<br>titles=%{customdata[0]}<br>companies=%{customdata[1]}<br>date_listed=%{customdata[2]}<br>short_link=%{customdata[3]}<br>date_pulled=%{customdata[4]}<br>time_pulled=%{customdata[5]}<extra></extra>\",\"legendgroup\":\"1\",\"marker\":{\"color\":\"#EF553B\",\"symbol\":\"circle\"},\"mode\":\"markers+text\",\"name\":\"1\",\"orientation\":\"v\",\"showlegend\":true,\"text\":[\"TX Group\",\"Spectro | Jet-C..\",\"MDPI AG\",\"MDPI AG\",\"MDPI AG\",\"MDPI AG\",\"University of Z..\"],\"type\":\"scatter\",\"x\":[26.47269630432129,9.595809936523438,22.717348098754883,31.96776580810547,21.822813034057617,23.7681884765625,-24.061279296875],\"xaxis\":\"x\",\"y\":[-3.7262961864471436,29.006256103515625,7.827167987823486,17.062602996826172,19.162879943847656,33.1401252746582,26.943023681640625],\"yaxis\":\"y\"},{\"customdata\":[[\"support training application specialist molecular poc\",\"Roche\",\"Gerade geschaltet\",\"not_created\",\"07.08.2021\",\"03:50:03\",\"5\"],[\"laboratory assistant philochem ag otelfingen switzerlan\",\"Philochem AG\",\"Heute\",\"not_created\",\"07.08.2021\",\"03:50:03\",\"5\"],[\"head global marketing f\",\"Kuehne+Nagel\",\"Heute\",\"not_created\",\"07.08.2021\",\"03:50:03\",\"5\"],[\"internal communications manager\",\"Namics\",\"Heute\",\"not_created\",\"07.08.2021\",\"03:50:03\",\"5\"],[\"research associate r chemistry\",\"Philochem AG\",\"Heute\",\"not_created\",\"07.08.2021\",\"03:50:03\",\"5\"],[\"automated cell operator\",\"ABB\",\"Heute\",\"not_created\",\"07.08.2021\",\"03:50:03\",\"5\"]],\"hovertemplate\":\"kmeans=%{customdata[6]}<br>tsne_x=%{x}<br>tsne_y=%{y}<br>companies_abbrev=%{text}<br>titles=%{customdata[0]}<br>companies=%{customdata[1]}<br>date_listed=%{customdata[2]}<br>short_link=%{customdata[3]}<br>date_pulled=%{customdata[4]}<br>time_pulled=%{customdata[5]}<extra></extra>\",\"legendgroup\":\"5\",\"marker\":{\"color\":\"#00cc96\",\"symbol\":\"circle\"},\"mode\":\"markers+text\",\"name\":\"5\",\"orientation\":\"v\",\"showlegend\":true,\"text\":[\"Roche\",\"Philochem AG\",\"Kuehne+Nagel\",\"Namics\",\"Philochem AG\",\"ABB\"],\"type\":\"scatter\",\"x\":[-30.849498748779297,-26.696414947509766,-40.796852111816406,-25.998077392578125,-35.60221862792969,-14.230053901672363],\"xaxis\":\"x\",\"y\":[-35.664955139160156,-18.345130920410156,-43.41719055175781,-49.338539123535156,-19.552555084228516,-10.370635986328125],\"yaxis\":\"y\"},{\"customdata\":[[\"senior gl accountant temporary\",\"Exact Sciences Corporation\",\"Gerade geschaltet\",\"not_created\",\"07.08.2021\",\"03:50:03\",\"6\"],[\"financial consolidation ifrs specialist\",\"Nestl\\u00e9\",\"Heute\",\"not_created\",\"07.08.2021\",\"03:50:03\",\"6\"],[\"social security insurance expert\",\"ABB\",\"Heute\",\"not_created\",\"07.08.2021\",\"03:50:03\",\"6\"],[\"regulatory affairs specialist medtech pharma animal health\",\"HEMEX AG\",\"Heute\",\"not_created\",\"07.08.2021\",\"03:50:03\",\"6\"],[\"european accounting manager nyon\",\"SCB\",\"Heute\",\"not_created\",\"07.08.2021\",\"03:50:03\",\"6\"]],\"hovertemplate\":\"kmeans=%{customdata[6]}<br>tsne_x=%{x}<br>tsne_y=%{y}<br>companies_abbrev=%{text}<br>titles=%{customdata[0]}<br>companies=%{customdata[1]}<br>date_listed=%{customdata[2]}<br>short_link=%{customdata[3]}<br>date_pulled=%{customdata[4]}<br>time_pulled=%{customdata[5]}<extra></extra>\",\"legendgroup\":\"6\",\"marker\":{\"color\":\"#ab63fa\",\"symbol\":\"circle\"},\"mode\":\"markers+text\",\"name\":\"6\",\"orientation\":\"v\",\"showlegend\":true,\"text\":[\"Exact Sciences ..\",\"Nestl\\u00e9\",\"ABB\",\"HEMEX AG\",\"SCB\"],\"type\":\"scatter\",\"x\":[-11.048280715942383,-5.86707067489624,-57.579734802246094,-69.2701416015625,-31.10257339477539],\"xaxis\":\"x\",\"y\":[44.15886306762695,31.703941345214844,-52.52046585083008,-19.325435638427734,41.78484344482422],\"yaxis\":\"y\"},{\"customdata\":[[\"consultant methods standards projects\",\"World Health Organization\",\"Gerade geschaltet\",\"not_created\",\"07.08.2021\",\"03:50:03\",\"4\"],[\"senior project manager renewable energy thermal power\",\"AFRY\",\"Gerade geschaltet\",\"not_created\",\"07.08.2021\",\"03:50:03\",\"4\"],[\"internship regulatory affairs\",\"Abbott Laboratories\",\"Heute\",\"not_created\",\"07.08.2021\",\"03:50:03\",\"4\"],[\"contract procurement manager zurich remote switzerl\",\"Beekeeper\",\"Heute\",\"not_created\",\"07.08.2021\",\"03:50:03\",\"4\"],[\"trader night shift\",\"SYZ GROUP\",\"Heute\",\"not_created\",\"07.08.2021\",\"03:50:03\",\"4\"],[\"technical officer risk management compliance\",\"World Health Organization\",\"Heute\",\"not_created\",\"07.08.2021\",\"03:50:03\",\"4\"]],\"hovertemplate\":\"kmeans=%{customdata[6]}<br>tsne_x=%{x}<br>tsne_y=%{y}<br>companies_abbrev=%{text}<br>titles=%{customdata[0]}<br>companies=%{customdata[1]}<br>date_listed=%{customdata[2]}<br>short_link=%{customdata[3]}<br>date_pulled=%{customdata[4]}<br>time_pulled=%{customdata[5]}<extra></extra>\",\"legendgroup\":\"4\",\"marker\":{\"color\":\"#FFA15A\",\"symbol\":\"circle\"},\"mode\":\"markers+text\",\"name\":\"4\",\"orientation\":\"v\",\"showlegend\":true,\"text\":[\"World Health Or..\",\"AFRY\",\"Abbott Laborato..\",\"Beekeeper\",\"SYZ GROUP\",\"World Health Or..\"],\"type\":\"scatter\",\"x\":[2.0706419944763184,-13.693739891052246,-6.579193592071533,-16.338520050048828,45.470176696777344,6.422201156616211],\"xaxis\":\"x\",\"y\":[5.216045379638672,2.4617350101470947,19.762100219726562,-31.91202163696289,0.8717575073242188,13.514680862426758],\"yaxis\":\"y\"},{\"customdata\":[[\"member engagement manager\",\"digitalswitzerland\",\"Gerade geschaltet\",\"not_created\",\"07.08.2021\",\"03:50:03\",\"3\"],[\"phd student index\",\"Paul Scherrer Institut Villigen\",\"Heute\",\"not_created\",\"07.08.2021\",\"03:50:03\",\"3\"],[\"scientist tenure track index\",\"Paul Scherrer Institut Villigen\",\"Heute\",\"not_created\",\"07.08.2021\",\"03:50:03\",\"3\"],[\"sector head integrated flexible sensors\",\"CSEM SA\",\"Heute\",\"not_created\",\"07.08.2021\",\"03:50:03\",\"3\"],[\"postdoctoral fellow f cheminformatics data scientist -\",\"Syngenta\",\"Heute\",\"not_created\",\"07.08.2021\",\"03:50:03\",\"3\"],[\"phd student participatory research project hearing\",\"Universit\\u00e4t Bern\",\"Heute\",\"not_created\",\"07.08.2021\",\"03:50:03\",\"3\"],[\"phd student participatory research project hearing\",\"Universit\\u00e4t Bern Universit\\u00e4t Bern\",\"Heute\",\"not_created\",\"07.08.2021\",\"03:50:03\",\"3\"]],\"hovertemplate\":\"kmeans=%{customdata[6]}<br>tsne_x=%{x}<br>tsne_y=%{y}<br>companies_abbrev=%{text}<br>titles=%{customdata[0]}<br>companies=%{customdata[1]}<br>date_listed=%{customdata[2]}<br>short_link=%{customdata[3]}<br>date_pulled=%{customdata[4]}<br>time_pulled=%{customdata[5]}<extra></extra>\",\"legendgroup\":\"3\",\"marker\":{\"color\":\"#19d3f3\",\"symbol\":\"circle\"},\"mode\":\"markers+text\",\"name\":\"3\",\"orientation\":\"v\",\"showlegend\":true,\"text\":[\"digitalswitzerl..\",\"Paul Scherrer I..\",\"Paul Scherrer I..\",\"CSEM SA\",\"Syngenta\",\"Universit\\u00e4t Ber..\",\"Universit\\u00e4t Ber..\"],\"type\":\"scatter\",\"x\":[-51.227176666259766,-24.6485652923584,-37.420166015625,-53.682987213134766,-21.75627899169922,-39.99897766113281,-35.942806243896484],\"xaxis\":\"x\",\"y\":[-17.6242733001709,-1.3529101610183716,20.485498428344727,-4.175219535827637,15.042450904846191,-2.190380573272705,6.042038440704346],\"yaxis\":\"y\"},{\"customdata\":[[\"legal officer asset management\",\"Bianchi&Partner AG\",\"Gerade geschaltet\",\"not_created\",\"07.08.2021\",\"03:50:03\",\"2\"],[\"campaign manager operations planner\",\"Sulzer & Schmid Laboratories AG\",\"Heute\",\"not_created\",\"07.08.2021\",\"03:50:03\",\"2\"],[\"research scientist antibody therapeutics\",\"Philochem AG\",\"Heute\",\"not_created\",\"07.08.2021\",\"03:50:03\",\"2\"],[\"procurement category manager production equipment europe\",\"CRH\",\"Heute\",\"not_created\",\"07.08.2021\",\"03:50:03\",\"2\"],[\"software architect mobile banking\",\"UBS\",\"Heute\",\"not_created\",\"07.08.2021\",\"03:50:03\",\"2\"],[\"sustainability manager\",\"ABB\",\"Heute\",\"not_created\",\"07.08.2021\",\"03:50:03\",\"2\"],[\"senior devops engineer\",\"ABB\",\"Heute\",\"not_created\",\"07.08.2021\",\"03:50:03\",\"2\"],[\"senior technology transfer lead\",\"Randstad\",\"Heute\",\"not_created\",\"07.08.2021\",\"03:50:03\",\"2\"],[\"quality engineer uk ukraine\",\"Pexapark\",\"Heute\",\"not_created\",\"07.08.2021\",\"03:50:03\",\"2\"]],\"hovertemplate\":\"kmeans=%{customdata[6]}<br>tsne_x=%{x}<br>tsne_y=%{y}<br>companies_abbrev=%{text}<br>titles=%{customdata[0]}<br>companies=%{customdata[1]}<br>date_listed=%{customdata[2]}<br>short_link=%{customdata[3]}<br>date_pulled=%{customdata[4]}<br>time_pulled=%{customdata[5]}<extra></extra>\",\"legendgroup\":\"2\",\"marker\":{\"color\":\"#FF6692\",\"symbol\":\"circle\"},\"mode\":\"markers+text\",\"name\":\"2\",\"orientation\":\"v\",\"showlegend\":true,\"text\":[\"Bianchi&Partner..\",\"Sulzer & Schmid..\",\"Philochem AG\",\"CRH\",\"UBS\",\"ABB\",\"ABB\",\"Randstad\",\"Pexapark\"],\"type\":\"scatter\",\"x\":[-68.9000473022461,-52.71333312988281,-4.781983852386475,31.714303970336914,12.74632453918457,-51.36923599243164,9.847633361816406,-64.66548156738281,1.1041877269744873],\"xaxis\":\"x\",\"y\":[4.7507643699646,12.153709411621094,-19.340463638305664,-15.843647956848145,-9.692102432250977,-35.40618133544922,-21.537195205688477,-31.73944854736328,-7.8876190185546875],\"yaxis\":\"y\"}],                        {\"height\":720,\"legend\":{\"title\":{\"text\":\"kmeans\"},\"tracegroupgap\":0},\"template\":{\"data\":{\"bar\":[{\"error_x\":{\"color\":\"#f2f5fa\"},\"error_y\":{\"color\":\"#f2f5fa\"},\"marker\":{\"line\":{\"color\":\"rgb(17,17,17)\",\"width\":0.5},\"pattern\":{\"fillmode\":\"overlay\",\"size\":10,\"solidity\":0.2}},\"type\":\"bar\"}],\"barpolar\":[{\"marker\":{\"line\":{\"color\":\"rgb(17,17,17)\",\"width\":0.5},\"pattern\":{\"fillmode\":\"overlay\",\"size\":10,\"solidity\":0.2}},\"type\":\"barpolar\"}],\"carpet\":[{\"aaxis\":{\"endlinecolor\":\"#A2B1C6\",\"gridcolor\":\"#506784\",\"linecolor\":\"#506784\",\"minorgridcolor\":\"#506784\",\"startlinecolor\":\"#A2B1C6\"},\"baxis\":{\"endlinecolor\":\"#A2B1C6\",\"gridcolor\":\"#506784\",\"linecolor\":\"#506784\",\"minorgridcolor\":\"#506784\",\"startlinecolor\":\"#A2B1C6\"},\"type\":\"carpet\"}],\"choropleth\":[{\"colorbar\":{\"outlinewidth\":0,\"ticks\":\"\"},\"type\":\"choropleth\"}],\"contour\":[{\"colorbar\":{\"outlinewidth\":0,\"ticks\":\"\"},\"colorscale\":[[0.0,\"#0d0887\"],[0.1111111111111111,\"#46039f\"],[0.2222222222222222,\"#7201a8\"],[0.3333333333333333,\"#9c179e\"],[0.4444444444444444,\"#bd3786\"],[0.5555555555555556,\"#d8576b\"],[0.6666666666666666,\"#ed7953\"],[0.7777777777777778,\"#fb9f3a\"],[0.8888888888888888,\"#fdca26\"],[1.0,\"#f0f921\"]],\"type\":\"contour\"}],\"contourcarpet\":[{\"colorbar\":{\"outlinewidth\":0,\"ticks\":\"\"},\"type\":\"contourcarpet\"}],\"heatmap\":[{\"colorbar\":{\"outlinewidth\":0,\"ticks\":\"\"},\"colorscale\":[[0.0,\"#0d0887\"],[0.1111111111111111,\"#46039f\"],[0.2222222222222222,\"#7201a8\"],[0.3333333333333333,\"#9c179e\"],[0.4444444444444444,\"#bd3786\"],[0.5555555555555556,\"#d8576b\"],[0.6666666666666666,\"#ed7953\"],[0.7777777777777778,\"#fb9f3a\"],[0.8888888888888888,\"#fdca26\"],[1.0,\"#f0f921\"]],\"type\":\"heatmap\"}],\"heatmapgl\":[{\"colorbar\":{\"outlinewidth\":0,\"ticks\":\"\"},\"colorscale\":[[0.0,\"#0d0887\"],[0.1111111111111111,\"#46039f\"],[0.2222222222222222,\"#7201a8\"],[0.3333333333333333,\"#9c179e\"],[0.4444444444444444,\"#bd3786\"],[0.5555555555555556,\"#d8576b\"],[0.6666666666666666,\"#ed7953\"],[0.7777777777777778,\"#fb9f3a\"],[0.8888888888888888,\"#fdca26\"],[1.0,\"#f0f921\"]],\"type\":\"heatmapgl\"}],\"histogram\":[{\"marker\":{\"pattern\":{\"fillmode\":\"overlay\",\"size\":10,\"solidity\":0.2}},\"type\":\"histogram\"}],\"histogram2d\":[{\"colorbar\":{\"outlinewidth\":0,\"ticks\":\"\"},\"colorscale\":[[0.0,\"#0d0887\"],[0.1111111111111111,\"#46039f\"],[0.2222222222222222,\"#7201a8\"],[0.3333333333333333,\"#9c179e\"],[0.4444444444444444,\"#bd3786\"],[0.5555555555555556,\"#d8576b\"],[0.6666666666666666,\"#ed7953\"],[0.7777777777777778,\"#fb9f3a\"],[0.8888888888888888,\"#fdca26\"],[1.0,\"#f0f921\"]],\"type\":\"histogram2d\"}],\"histogram2dcontour\":[{\"colorbar\":{\"outlinewidth\":0,\"ticks\":\"\"},\"colorscale\":[[0.0,\"#0d0887\"],[0.1111111111111111,\"#46039f\"],[0.2222222222222222,\"#7201a8\"],[0.3333333333333333,\"#9c179e\"],[0.4444444444444444,\"#bd3786\"],[0.5555555555555556,\"#d8576b\"],[0.6666666666666666,\"#ed7953\"],[0.7777777777777778,\"#fb9f3a\"],[0.8888888888888888,\"#fdca26\"],[1.0,\"#f0f921\"]],\"type\":\"histogram2dcontour\"}],\"mesh3d\":[{\"colorbar\":{\"outlinewidth\":0,\"ticks\":\"\"},\"type\":\"mesh3d\"}],\"parcoords\":[{\"line\":{\"colorbar\":{\"outlinewidth\":0,\"ticks\":\"\"}},\"type\":\"parcoords\"}],\"pie\":[{\"automargin\":true,\"type\":\"pie\"}],\"scatter\":[{\"marker\":{\"line\":{\"color\":\"#283442\"}},\"type\":\"scatter\"}],\"scatter3d\":[{\"line\":{\"colorbar\":{\"outlinewidth\":0,\"ticks\":\"\"}},\"marker\":{\"colorbar\":{\"outlinewidth\":0,\"ticks\":\"\"}},\"type\":\"scatter3d\"}],\"scattercarpet\":[{\"marker\":{\"colorbar\":{\"outlinewidth\":0,\"ticks\":\"\"}},\"type\":\"scattercarpet\"}],\"scattergeo\":[{\"marker\":{\"colorbar\":{\"outlinewidth\":0,\"ticks\":\"\"}},\"type\":\"scattergeo\"}],\"scattergl\":[{\"marker\":{\"line\":{\"color\":\"#283442\"}},\"type\":\"scattergl\"}],\"scattermapbox\":[{\"marker\":{\"colorbar\":{\"outlinewidth\":0,\"ticks\":\"\"}},\"type\":\"scattermapbox\"}],\"scatterpolar\":[{\"marker\":{\"colorbar\":{\"outlinewidth\":0,\"ticks\":\"\"}},\"type\":\"scatterpolar\"}],\"scatterpolargl\":[{\"marker\":{\"colorbar\":{\"outlinewidth\":0,\"ticks\":\"\"}},\"type\":\"scatterpolargl\"}],\"scatterternary\":[{\"marker\":{\"colorbar\":{\"outlinewidth\":0,\"ticks\":\"\"}},\"type\":\"scatterternary\"}],\"surface\":[{\"colorbar\":{\"outlinewidth\":0,\"ticks\":\"\"},\"colorscale\":[[0.0,\"#0d0887\"],[0.1111111111111111,\"#46039f\"],[0.2222222222222222,\"#7201a8\"],[0.3333333333333333,\"#9c179e\"],[0.4444444444444444,\"#bd3786\"],[0.5555555555555556,\"#d8576b\"],[0.6666666666666666,\"#ed7953\"],[0.7777777777777778,\"#fb9f3a\"],[0.8888888888888888,\"#fdca26\"],[1.0,\"#f0f921\"]],\"type\":\"surface\"}],\"table\":[{\"cells\":{\"fill\":{\"color\":\"#506784\"},\"line\":{\"color\":\"rgb(17,17,17)\"}},\"header\":{\"fill\":{\"color\":\"#2a3f5f\"},\"line\":{\"color\":\"rgb(17,17,17)\"}},\"type\":\"table\"}]},\"layout\":{\"annotationdefaults\":{\"arrowcolor\":\"#f2f5fa\",\"arrowhead\":0,\"arrowwidth\":1},\"autotypenumbers\":\"strict\",\"coloraxis\":{\"colorbar\":{\"outlinewidth\":0,\"ticks\":\"\"}},\"colorscale\":{\"diverging\":[[0,\"#8e0152\"],[0.1,\"#c51b7d\"],[0.2,\"#de77ae\"],[0.3,\"#f1b6da\"],[0.4,\"#fde0ef\"],[0.5,\"#f7f7f7\"],[0.6,\"#e6f5d0\"],[0.7,\"#b8e186\"],[0.8,\"#7fbc41\"],[0.9,\"#4d9221\"],[1,\"#276419\"]],\"sequential\":[[0.0,\"#0d0887\"],[0.1111111111111111,\"#46039f\"],[0.2222222222222222,\"#7201a8\"],[0.3333333333333333,\"#9c179e\"],[0.4444444444444444,\"#bd3786\"],[0.5555555555555556,\"#d8576b\"],[0.6666666666666666,\"#ed7953\"],[0.7777777777777778,\"#fb9f3a\"],[0.8888888888888888,\"#fdca26\"],[1.0,\"#f0f921\"]],\"sequentialminus\":[[0.0,\"#0d0887\"],[0.1111111111111111,\"#46039f\"],[0.2222222222222222,\"#7201a8\"],[0.3333333333333333,\"#9c179e\"],[0.4444444444444444,\"#bd3786\"],[0.5555555555555556,\"#d8576b\"],[0.6666666666666666,\"#ed7953\"],[0.7777777777777778,\"#fb9f3a\"],[0.8888888888888888,\"#fdca26\"],[1.0,\"#f0f921\"]]},\"colorway\":[\"#636efa\",\"#EF553B\",\"#00cc96\",\"#ab63fa\",\"#FFA15A\",\"#19d3f3\",\"#FF6692\",\"#B6E880\",\"#FF97FF\",\"#FECB52\"],\"font\":{\"color\":\"#f2f5fa\"},\"geo\":{\"bgcolor\":\"rgb(17,17,17)\",\"lakecolor\":\"rgb(17,17,17)\",\"landcolor\":\"rgb(17,17,17)\",\"showlakes\":true,\"showland\":true,\"subunitcolor\":\"#506784\"},\"hoverlabel\":{\"align\":\"left\"},\"hovermode\":\"closest\",\"mapbox\":{\"style\":\"dark\"},\"paper_bgcolor\":\"rgb(17,17,17)\",\"plot_bgcolor\":\"rgb(17,17,17)\",\"polar\":{\"angularaxis\":{\"gridcolor\":\"#506784\",\"linecolor\":\"#506784\",\"ticks\":\"\"},\"bgcolor\":\"rgb(17,17,17)\",\"radialaxis\":{\"gridcolor\":\"#506784\",\"linecolor\":\"#506784\",\"ticks\":\"\"}},\"scene\":{\"xaxis\":{\"backgroundcolor\":\"rgb(17,17,17)\",\"gridcolor\":\"#506784\",\"gridwidth\":2,\"linecolor\":\"#506784\",\"showbackground\":true,\"ticks\":\"\",\"zerolinecolor\":\"#C8D4E3\"},\"yaxis\":{\"backgroundcolor\":\"rgb(17,17,17)\",\"gridcolor\":\"#506784\",\"gridwidth\":2,\"linecolor\":\"#506784\",\"showbackground\":true,\"ticks\":\"\",\"zerolinecolor\":\"#C8D4E3\"},\"zaxis\":{\"backgroundcolor\":\"rgb(17,17,17)\",\"gridcolor\":\"#506784\",\"gridwidth\":2,\"linecolor\":\"#506784\",\"showbackground\":true,\"ticks\":\"\",\"zerolinecolor\":\"#C8D4E3\"}},\"shapedefaults\":{\"line\":{\"color\":\"#f2f5fa\"}},\"sliderdefaults\":{\"bgcolor\":\"#C8D4E3\",\"bordercolor\":\"rgb(17,17,17)\",\"borderwidth\":1,\"tickwidth\":0},\"ternary\":{\"aaxis\":{\"gridcolor\":\"#506784\",\"linecolor\":\"#506784\",\"ticks\":\"\"},\"baxis\":{\"gridcolor\":\"#506784\",\"linecolor\":\"#506784\",\"ticks\":\"\"},\"bgcolor\":\"rgb(17,17,17)\",\"caxis\":{\"gridcolor\":\"#506784\",\"linecolor\":\"#506784\",\"ticks\":\"\"}},\"title\":{\"x\":0.05},\"updatemenudefaults\":{\"bgcolor\":\"#506784\",\"borderwidth\":0},\"xaxis\":{\"automargin\":true,\"gridcolor\":\"#283442\",\"linecolor\":\"#506784\",\"ticks\":\"\",\"title\":{\"standoff\":15},\"zerolinecolor\":\"#283442\",\"zerolinewidth\":2},\"yaxis\":{\"automargin\":true,\"gridcolor\":\"#283442\",\"linecolor\":\"#506784\",\"ticks\":\"\",\"title\":{\"standoff\":15},\"zerolinecolor\":\"#283442\",\"zerolinewidth\":2}}},\"title\":{\"text\":\"Jul-08-2021 viz Jobs by 'summary' via google USE + tsne | all listings for CH eng. jobs\"},\"width\":960,\"xaxis\":{\"anchor\":\"y\",\"domain\":[0.0,1.0],\"title\":{\"text\":\"tsne_x\"}},\"yaxis\":{\"anchor\":\"x\",\"domain\":[0.0,1.0],\"title\":{\"text\":\"tsne_y\"}}},                        {\"responsive\": true}                    ).then(function(){\n",
              "                            \n",
              "var gd = document.getElementById('11502893-d6b7-4da2-9a4e-60f5a11e38d3');\n",
              "var x = new MutationObserver(function (mutations, observer) {{\n",
              "        var display = window.getComputedStyle(gd).display;\n",
              "        if (!display || display === 'none') {{\n",
              "            console.log([gd, 'removed!']);\n",
              "            Plotly.purge(gd);\n",
              "            observer.disconnect();\n",
              "        }}\n",
              "}});\n",
              "\n",
              "// Listen for the removal of the full notebook cells\n",
              "var notebookContainer = gd.closest('#notebook-container');\n",
              "if (notebookContainer) {{\n",
              "    x.observe(notebookContainer, {childList: true});\n",
              "}}\n",
              "\n",
              "// Listen for the clearing of the current output cell\n",
              "var outputEl = gd.closest('.output');\n",
              "if (outputEl) {{\n",
              "    x.observe(outputEl, {childList: true});\n",
              "}}\n",
              "\n",
              "                        })                };                            </script>        </div>\n",
              "</body>\n",
              "</html>"
            ]
          },
          "metadata": {
            "tags": []
          }
        },
        {
          "output_type": "stream",
          "text": [
            "plot generated -  2021-07-08 03:50:05.180987\n"
          ],
          "name": "stdout"
        },
        {
          "output_type": "stream",
          "text": [
            "/usr/local/lib/python3.7/dist-packages/kneed/knee_locator.py:304: UserWarning:\n",
            "\n",
            "No knee/elbow found\n",
            "\n"
          ],
          "name": "stderr"
        },
        {
          "output_type": "stream",
          "text": [
            "Warning - google_USE-all listings for CH eng. jobs has no solution for optimal k-means\n",
            "Returning # of clusters as max allowed ( 15 )\n"
          ],
          "name": "stdout"
        },
        {
          "output_type": "display_data",
          "data": {
            "text/html": [
              "<html>\n",
              "<head><meta charset=\"utf-8\" /></head>\n",
              "<body>\n",
              "    <div>            <script src=\"https://cdnjs.cloudflare.com/ajax/libs/mathjax/2.7.5/MathJax.js?config=TeX-AMS-MML_SVG\"></script><script type=\"text/javascript\">if (window.MathJax) {MathJax.Hub.Config({SVG: {font: \"STIX-Web\"}});}</script>                <script type=\"text/javascript\">window.PlotlyConfig = {MathJaxConfig: 'local'};</script>\n",
              "        <script src=\"https://cdn.plot.ly/plotly-2.2.0.min.js\"></script>                <div id=\"37fada7a-408f-4671-80f9-65d8c3cc4229\" class=\"plotly-graph-div\" style=\"height:720px; width:960px;\"></div>            <script type=\"text/javascript\">                                    window.PLOTLYENV=window.PLOTLYENV || {};                                    if (document.getElementById(\"37fada7a-408f-4671-80f9-65d8c3cc4229\")) {                    Plotly.newPlot(                        \"37fada7a-408f-4671-80f9-65d8c3cc4229\",                        [{\"customdata\":[[\"client service executive\",\"BNY Mellon\",\"Gerade geschaltet\",\"not_created\",\"07.08.2021\",\"03:50:03\",\"7\"],[\"contract procurement manager zurich remote switzerl\",\"Beekeeper\",\"Heute\",\"not_created\",\"07.08.2021\",\"03:50:03\",\"7\"],[\"customer support manager\",\"Safran\",\"Heute\",\"not_created\",\"07.08.2021\",\"03:50:03\",\"7\"],[\"trader night shift\",\"SYZ GROUP\",\"Heute\",\"not_created\",\"07.08.2021\",\"03:50:03\",\"7\"],[\"internal communications manager\",\"Namics\",\"Heute\",\"not_created\",\"07.08.2021\",\"03:50:03\",\"7\"],[\"software license agreement manager\",\"Randstad\",\"Heute\",\"not_created\",\"07.08.2021\",\"03:50:03\",\"7\"]],\"hovertemplate\":\"kmeans=%{customdata[6]}<br>tsne_x=%{x}<br>tsne_y=%{y}<br>titles=%{customdata[0]}<br>companies=%{customdata[1]}<br>date_listed=%{customdata[2]}<br>short_link=%{customdata[3]}<br>date_pulled=%{customdata[4]}<br>time_pulled=%{customdata[5]}<extra></extra>\",\"legendgroup\":\"7\",\"marker\":{\"color\":\"#636efa\",\"symbol\":\"circle\"},\"mode\":\"markers\",\"name\":\"7\",\"orientation\":\"v\",\"showlegend\":true,\"type\":\"scatter\",\"x\":[-6.3022141456604,-29.64069366455078,2.1896655559539795,67.67879486083984,51.7912483215332,3.7778537273406982],\"xaxis\":\"x\",\"y\":[60.73250961303711,38.869537353515625,44.71299362182617,-24.8266544342041,65.72154235839844,20.952014923095703],\"yaxis\":\"y\"},{\"customdata\":[[\"sale associate landquart\",\"Groupe Rossignol\",\"Gerade geschaltet\",\"not_created\",\"07.08.2021\",\"03:50:03\",\"11\"],[\"area visual merchandising w\",\"Louis Vuitton\",\"Heute\",\"not_created\",\"07.08.2021\",\"03:50:03\",\"11\"]],\"hovertemplate\":\"kmeans=%{customdata[6]}<br>tsne_x=%{x}<br>tsne_y=%{y}<br>titles=%{customdata[0]}<br>companies=%{customdata[1]}<br>date_listed=%{customdata[2]}<br>short_link=%{customdata[3]}<br>date_pulled=%{customdata[4]}<br>time_pulled=%{customdata[5]}<extra></extra>\",\"legendgroup\":\"11\",\"marker\":{\"color\":\"#EF553B\",\"symbol\":\"circle\"},\"mode\":\"markers\",\"name\":\"11\",\"orientation\":\"v\",\"showlegend\":true,\"type\":\"scatter\",\"x\":[-70.20223999023438,-82.58811950683594],\"xaxis\":\"x\",\"y\":[-89.60869598388672,-63.82038879394531],\"yaxis\":\"y\"},{\"customdata\":[[\"ux ui designlead onelog\",\"TX Group\",\"Gerade geschaltet\",\"not_created\",\"07.08.2021\",\"03:50:03\",\"6\"],[\"php developer\",\"MDPI AG\",\"Heute\",\"not_created\",\"07.08.2021\",\"03:50:03\",\"6\"],[\"software architect mobile banking\",\"UBS\",\"Heute\",\"not_created\",\"07.08.2021\",\"03:50:03\",\"6\"],[\"automated cell operator\",\"ABB\",\"Heute\",\"not_created\",\"07.08.2021\",\"03:50:03\",\"6\"]],\"hovertemplate\":\"kmeans=%{customdata[6]}<br>tsne_x=%{x}<br>tsne_y=%{y}<br>titles=%{customdata[0]}<br>companies=%{customdata[1]}<br>date_listed=%{customdata[2]}<br>short_link=%{customdata[3]}<br>date_pulled=%{customdata[4]}<br>time_pulled=%{customdata[5]}<extra></extra>\",\"legendgroup\":\"6\",\"marker\":{\"color\":\"#00cc96\",\"symbol\":\"circle\"},\"mode\":\"markers\",\"name\":\"6\",\"orientation\":\"v\",\"showlegend\":true,\"type\":\"scatter\",\"x\":[-28.67058563232422,-36.6950569152832,-26.09317970275879,42.28917694091797],\"xaxis\":\"x\",\"y\":[-90.71647644042969,-63.22505187988281,-22.504568099975586,-19.432144165039062],\"yaxis\":\"y\"},{\"customdata\":[[\"support training application specialist molecular poc\",\"Roche\",\"Gerade geschaltet\",\"not_created\",\"07.08.2021\",\"03:50:03\",\"5\"],[\"research scientist antibody therapeutics\",\"Philochem AG\",\"Heute\",\"not_created\",\"07.08.2021\",\"03:50:03\",\"5\"],[\"research associate r chemistry\",\"Philochem AG\",\"Heute\",\"not_created\",\"07.08.2021\",\"03:50:03\",\"5\"],[\"phd student participatory research project hearing\",\"Universit\\u00e4t Bern\",\"Heute\",\"not_created\",\"07.08.2021\",\"03:50:03\",\"5\"],[\"phd student participatory research project hearing\",\"Universit\\u00e4t Bern Universit\\u00e4t Bern\",\"Heute\",\"not_created\",\"07.08.2021\",\"03:50:03\",\"5\"]],\"hovertemplate\":\"kmeans=%{customdata[6]}<br>tsne_x=%{x}<br>tsne_y=%{y}<br>titles=%{customdata[0]}<br>companies=%{customdata[1]}<br>date_listed=%{customdata[2]}<br>short_link=%{customdata[3]}<br>date_pulled=%{customdata[4]}<br>time_pulled=%{customdata[5]}<extra></extra>\",\"legendgroup\":\"5\",\"marker\":{\"color\":\"#ab63fa\",\"symbol\":\"circle\"},\"mode\":\"markers\",\"name\":\"5\",\"orientation\":\"v\",\"showlegend\":true,\"type\":\"scatter\",\"x\":[-89.63890838623047,49.16881561279297,66.88961791992188,104.05503845214844,87.7926025390625],\"xaxis\":\"x\",\"y\":[6.911918640136719,-83.60409545898438,-95.1906509399414,42.35846710205078,33.70509338378906],\"yaxis\":\"y\"},{\"customdata\":[[\"senior gl accountant temporary\",\"Exact Sciences Corporation\",\"Gerade geschaltet\",\"not_created\",\"07.08.2021\",\"03:50:03\",\"12\"],[\"procurement category manager production equipment europe\",\"CRH\",\"Heute\",\"not_created\",\"07.08.2021\",\"03:50:03\",\"12\"],[\"financial consolidation ifrs specialist\",\"Nestl\\u00e9\",\"Heute\",\"not_created\",\"07.08.2021\",\"03:50:03\",\"12\"],[\"european accounting manager nyon\",\"SCB\",\"Heute\",\"not_created\",\"07.08.2021\",\"03:50:03\",\"12\"]],\"hovertemplate\":\"kmeans=%{customdata[6]}<br>tsne_x=%{x}<br>tsne_y=%{y}<br>titles=%{customdata[0]}<br>companies=%{customdata[1]}<br>date_listed=%{customdata[2]}<br>short_link=%{customdata[3]}<br>date_pulled=%{customdata[4]}<br>time_pulled=%{customdata[5]}<extra></extra>\",\"legendgroup\":\"12\",\"marker\":{\"color\":\"#FFA15A\",\"symbol\":\"circle\"},\"mode\":\"markers\",\"name\":\"12\",\"orientation\":\"v\",\"showlegend\":true,\"type\":\"scatter\",\"x\":[-73.7636947631836,-49.35924530029297,-89.47866821289062,-34.02057647705078],\"xaxis\":\"x\",\"y\":[71.42603302001953,46.906620025634766,40.02303695678711,73.21200561523438],\"yaxis\":\"y\"},{\"customdata\":[[\"consultant methods standards projects\",\"World Health Organization\",\"Gerade geschaltet\",\"not_created\",\"07.08.2021\",\"03:50:03\",\"14\"],[\"digital project coordinator\",\"H+O communications Ltd.\",\"Gerade geschaltet\",\"not_created\",\"07.08.2021\",\"03:50:03\",\"14\"],[\"member engagement manager\",\"digitalswitzerland\",\"Gerade geschaltet\",\"not_created\",\"07.08.2021\",\"03:50:03\",\"14\"],[\"campaign manager operations planner\",\"Sulzer & Schmid Laboratories AG\",\"Heute\",\"not_created\",\"07.08.2021\",\"03:50:03\",\"14\"],[\"project manager\",\"MDPI AG\",\"Heute\",\"not_created\",\"07.08.2021\",\"03:50:03\",\"14\"],[\"sustainability manager\",\"ABB\",\"Heute\",\"not_created\",\"07.08.2021\",\"03:50:03\",\"14\"]],\"hovertemplate\":\"kmeans=%{customdata[6]}<br>tsne_x=%{x}<br>tsne_y=%{y}<br>titles=%{customdata[0]}<br>companies=%{customdata[1]}<br>date_listed=%{customdata[2]}<br>short_link=%{customdata[3]}<br>date_pulled=%{customdata[4]}<br>time_pulled=%{customdata[5]}<extra></extra>\",\"legendgroup\":\"14\",\"marker\":{\"color\":\"#19d3f3\",\"symbol\":\"circle\"},\"mode\":\"markers\",\"name\":\"14\",\"orientation\":\"v\",\"showlegend\":true,\"type\":\"scatter\",\"x\":[86.57562255859375,28.779438018798828,27.079303741455078,-20.409114837646484,25.33942413330078,5.842398643493652],\"xaxis\":\"x\",\"y\":[71.38076782226562,31.164382934570312,79.00978088378906,14.392220497131348,52.87159729003906,84.15499114990234],\"yaxis\":\"y\"},{\"customdata\":[[\"senior project manager renewable energy thermal power\",\"AFRY\",\"Gerade geschaltet\",\"not_created\",\"07.08.2021\",\"03:50:03\",\"2\"],[\"senior technology transfer lead\",\"Randstad\",\"Heute\",\"not_created\",\"07.08.2021\",\"03:50:03\",\"2\"]],\"hovertemplate\":\"kmeans=%{customdata[6]}<br>tsne_x=%{x}<br>tsne_y=%{y}<br>titles=%{customdata[0]}<br>companies=%{customdata[1]}<br>date_listed=%{customdata[2]}<br>short_link=%{customdata[3]}<br>date_pulled=%{customdata[4]}<br>time_pulled=%{customdata[5]}<extra></extra>\",\"legendgroup\":\"2\",\"marker\":{\"color\":\"#FF6692\",\"symbol\":\"circle\"},\"mode\":\"markers\",\"name\":\"2\",\"orientation\":\"v\",\"showlegend\":true,\"type\":\"scatter\",\"x\":[53.709510803222656,52.34563446044922],\"xaxis\":\"x\",\"y\":[32.51244354248047,9.586565971374512],\"yaxis\":\"y\"},{\"customdata\":[[\"multimedia producer web specialist\",\"H+O communications Ltd.\",\"Gerade geschaltet\",\"not_created\",\"07.08.2021\",\"03:50:03\",\"4\"],[\"linux system administrator\",\"MDPI AG\",\"Heute\",\"not_created\",\"07.08.2021\",\"03:50:03\",\"4\"],[\"senior software engineer\",\"ITech Consult\",\"Heute\",\"not_created\",\"07.08.2021\",\"03:50:03\",\"4\"],[\"senior devops engineer\",\"ABB\",\"Heute\",\"not_created\",\"07.08.2021\",\"03:50:03\",\"4\"],[\"quality engineer uk ukraine\",\"Pexapark\",\"Heute\",\"not_created\",\"07.08.2021\",\"03:50:03\",\"4\"]],\"hovertemplate\":\"kmeans=%{customdata[6]}<br>tsne_x=%{x}<br>tsne_y=%{y}<br>titles=%{customdata[0]}<br>companies=%{customdata[1]}<br>date_listed=%{customdata[2]}<br>short_link=%{customdata[3]}<br>date_pulled=%{customdata[4]}<br>time_pulled=%{customdata[5]}<extra></extra>\",\"legendgroup\":\"4\",\"marker\":{\"color\":\"#B6E880\",\"symbol\":\"circle\"},\"mode\":\"markers\",\"name\":\"4\",\"orientation\":\"v\",\"showlegend\":true,\"type\":\"scatter\",\"x\":[-51.44205093383789,19.98517608642578,-1.4738025665283203,-3.0315675735473633,-51.060829162597656],\"xaxis\":\"x\",\"y\":[-10.934562683105469,-0.24675172567367554,-25.88551902770996,-8.640203475952148,18.556055068969727],\"yaxis\":\"y\"},{\"customdata\":[[\"internship - medical communications\",\"H+O communications Ltd.\",\"Gerade geschaltet\",\"not_created\",\"07.08.2021\",\"03:50:03\",\"3\"],[\"internship regulatory affairs\",\"Abbott Laboratories\",\"Heute\",\"not_created\",\"07.08.2021\",\"03:50:03\",\"3\"]],\"hovertemplate\":\"kmeans=%{customdata[6]}<br>tsne_x=%{x}<br>tsne_y=%{y}<br>titles=%{customdata[0]}<br>companies=%{customdata[1]}<br>date_listed=%{customdata[2]}<br>short_link=%{customdata[3]}<br>date_pulled=%{customdata[4]}<br>time_pulled=%{customdata[5]}<extra></extra>\",\"legendgroup\":\"3\",\"marker\":{\"color\":\"#FF97FF\",\"symbol\":\"circle\"},\"mode\":\"markers\",\"name\":\"3\",\"orientation\":\"v\",\"showlegend\":true,\"type\":\"scatter\",\"x\":[96.33830261230469,108.33067321777344],\"xaxis\":\"x\",\"y\":[-1.473663330078125,-17.529590606689453],\"yaxis\":\"y\"},{\"customdata\":[[\"legal officer asset management\",\"Bianchi&Partner AG\",\"Gerade geschaltet\",\"not_created\",\"07.08.2021\",\"03:50:03\",\"9\"],[\"technical officer risk management compliance\",\"World Health Organization\",\"Heute\",\"not_created\",\"07.08.2021\",\"03:50:03\",\"9\"]],\"hovertemplate\":\"kmeans=%{customdata[6]}<br>tsne_x=%{x}<br>tsne_y=%{y}<br>titles=%{customdata[0]}<br>companies=%{customdata[1]}<br>date_listed=%{customdata[2]}<br>short_link=%{customdata[3]}<br>date_pulled=%{customdata[4]}<br>time_pulled=%{customdata[5]}<extra></extra>\",\"legendgroup\":\"9\",\"marker\":{\"color\":\"#FECB52\",\"symbol\":\"circle\"},\"mode\":\"markers\",\"name\":\"9\",\"orientation\":\"v\",\"showlegend\":true,\"type\":\"scatter\",\"x\":[-19.7130126953125,-41.29896545410156],\"xaxis\":\"x\",\"y\":[104.24551391601562,100.86625671386719],\"yaxis\":\"y\"},{\"customdata\":[[\"laboratory assistant philochem ag otelfingen switzerlan\",\"Philochem AG\",\"Heute\",\"not_created\",\"07.08.2021\",\"03:50:03\",\"10\"],[\"laboratory technicians senior laboratory technicians\",\"Spectro | Jet-Care\",\"Heute\",\"not_created\",\"07.08.2021\",\"03:50:03\",\"10\"]],\"hovertemplate\":\"kmeans=%{customdata[6]}<br>tsne_x=%{x}<br>tsne_y=%{y}<br>titles=%{customdata[0]}<br>companies=%{customdata[1]}<br>date_listed=%{customdata[2]}<br>short_link=%{customdata[3]}<br>date_pulled=%{customdata[4]}<br>time_pulled=%{customdata[5]}<extra></extra>\",\"legendgroup\":\"10\",\"marker\":{\"color\":\"#636efa\",\"symbol\":\"circle\"},\"mode\":\"markers\",\"name\":\"10\",\"orientation\":\"v\",\"showlegend\":true,\"type\":\"scatter\",\"x\":[16.86518096923828,32.51870346069336],\"xaxis\":\"x\",\"y\":[-98.70162963867188,-110.65550231933594],\"yaxis\":\"y\"},{\"customdata\":[[\"head global marketing f\",\"Kuehne+Nagel\",\"Heute\",\"not_created\",\"07.08.2021\",\"03:50:03\",\"8\"],[\"senior data analyst\",\"MDPI AG\",\"Heute\",\"not_created\",\"07.08.2021\",\"03:50:03\",\"8\"],[\"postdoctoral fellow f cheminformatics data scientist -\",\"Syngenta\",\"Heute\",\"not_created\",\"07.08.2021\",\"03:50:03\",\"8\"],[\"phd student computer science visual analytics data scie\",\"University of Z\\u00fcrich\",\"Heute\",\"not_created\",\"07.08.2021\",\"03:50:03\",\"8\"],[\"salesforce developer f\",\"Next Force\",\"Heute\",\"not_created\",\"07.08.2021\",\"03:50:03\",\"8\"],[\"regulatory affairs specialist medtech pharma animal health\",\"HEMEX AG\",\"Heute\",\"not_created\",\"07.08.2021\",\"03:50:03\",\"8\"]],\"hovertemplate\":\"kmeans=%{customdata[6]}<br>tsne_x=%{x}<br>tsne_y=%{y}<br>titles=%{customdata[0]}<br>companies=%{customdata[1]}<br>date_listed=%{customdata[2]}<br>short_link=%{customdata[3]}<br>date_pulled=%{customdata[4]}<br>time_pulled=%{customdata[5]}<extra></extra>\",\"legendgroup\":\"8\",\"marker\":{\"color\":\"#EF553B\",\"symbol\":\"circle\"},\"mode\":\"markers\",\"name\":\"8\",\"orientation\":\"v\",\"showlegend\":true,\"type\":\"scatter\",\"x\":[-59.95237731933594,19.193687438964844,17.456356048583984,-2.1432344913482666,-20.137157440185547,0.09961974620819092],\"xaxis\":\"x\",\"y\":[-43.909080505371094,-37.26820755004883,-63.37723922729492,-68.55840301513672,-48.048946380615234,-133.10618591308594],\"yaxis\":\"y\"},{\"customdata\":[[\"phd student index\",\"Paul Scherrer Institut Villigen\",\"Heute\",\"not_created\",\"07.08.2021\",\"03:50:03\",\"1\"],[\"scientist tenure track index\",\"Paul Scherrer Institut Villigen\",\"Heute\",\"not_created\",\"07.08.2021\",\"03:50:03\",\"1\"]],\"hovertemplate\":\"kmeans=%{customdata[6]}<br>tsne_x=%{x}<br>tsne_y=%{y}<br>titles=%{customdata[0]}<br>companies=%{customdata[1]}<br>date_listed=%{customdata[2]}<br>short_link=%{customdata[3]}<br>date_pulled=%{customdata[4]}<br>time_pulled=%{customdata[5]}<extra></extra>\",\"legendgroup\":\"1\",\"marker\":{\"color\":\"#00cc96\",\"symbol\":\"circle\"},\"mode\":\"markers\",\"name\":\"1\",\"orientation\":\"v\",\"showlegend\":true,\"type\":\"scatter\",\"x\":[46.80123519897461,63.722129821777344],\"xaxis\":\"x\",\"y\":[-50.514549255371094,-59.3743896484375],\"yaxis\":\"y\"},{\"customdata\":[[\"sector head integrated flexible sensors\",\"CSEM SA\",\"Heute\",\"not_created\",\"07.08.2021\",\"03:50:03\",\"13\"]],\"hovertemplate\":\"kmeans=%{customdata[6]}<br>tsne_x=%{x}<br>tsne_y=%{y}<br>titles=%{customdata[0]}<br>companies=%{customdata[1]}<br>date_listed=%{customdata[2]}<br>short_link=%{customdata[3]}<br>date_pulled=%{customdata[4]}<br>time_pulled=%{customdata[5]}<extra></extra>\",\"legendgroup\":\"13\",\"marker\":{\"color\":\"#ab63fa\",\"symbol\":\"circle\"},\"mode\":\"markers\",\"name\":\"13\",\"orientation\":\"v\",\"showlegend\":true,\"type\":\"scatter\",\"x\":[-92.93999481201172],\"xaxis\":\"x\",\"y\":[-26.141157150268555],\"yaxis\":\"y\"},{\"customdata\":[[\"social security insurance expert\",\"ABB\",\"Heute\",\"not_created\",\"07.08.2021\",\"03:50:03\",\"0\"]],\"hovertemplate\":\"kmeans=%{customdata[6]}<br>tsne_x=%{x}<br>tsne_y=%{y}<br>titles=%{customdata[0]}<br>companies=%{customdata[1]}<br>date_listed=%{customdata[2]}<br>short_link=%{customdata[3]}<br>date_pulled=%{customdata[4]}<br>time_pulled=%{customdata[5]}<extra></extra>\",\"legendgroup\":\"0\",\"marker\":{\"color\":\"#FFA15A\",\"symbol\":\"circle\"},\"mode\":\"markers\",\"name\":\"0\",\"orientation\":\"v\",\"showlegend\":true,\"type\":\"scatter\",\"x\":[97.86259460449219],\"xaxis\":\"x\",\"y\":[-63.065582275390625],\"yaxis\":\"y\"}],                        {\"height\":720,\"legend\":{\"title\":{\"text\":\"kmeans\"},\"tracegroupgap\":0},\"template\":{\"data\":{\"bar\":[{\"error_x\":{\"color\":\"#f2f5fa\"},\"error_y\":{\"color\":\"#f2f5fa\"},\"marker\":{\"line\":{\"color\":\"rgb(17,17,17)\",\"width\":0.5},\"pattern\":{\"fillmode\":\"overlay\",\"size\":10,\"solidity\":0.2}},\"type\":\"bar\"}],\"barpolar\":[{\"marker\":{\"line\":{\"color\":\"rgb(17,17,17)\",\"width\":0.5},\"pattern\":{\"fillmode\":\"overlay\",\"size\":10,\"solidity\":0.2}},\"type\":\"barpolar\"}],\"carpet\":[{\"aaxis\":{\"endlinecolor\":\"#A2B1C6\",\"gridcolor\":\"#506784\",\"linecolor\":\"#506784\",\"minorgridcolor\":\"#506784\",\"startlinecolor\":\"#A2B1C6\"},\"baxis\":{\"endlinecolor\":\"#A2B1C6\",\"gridcolor\":\"#506784\",\"linecolor\":\"#506784\",\"minorgridcolor\":\"#506784\",\"startlinecolor\":\"#A2B1C6\"},\"type\":\"carpet\"}],\"choropleth\":[{\"colorbar\":{\"outlinewidth\":0,\"ticks\":\"\"},\"type\":\"choropleth\"}],\"contour\":[{\"colorbar\":{\"outlinewidth\":0,\"ticks\":\"\"},\"colorscale\":[[0.0,\"#0d0887\"],[0.1111111111111111,\"#46039f\"],[0.2222222222222222,\"#7201a8\"],[0.3333333333333333,\"#9c179e\"],[0.4444444444444444,\"#bd3786\"],[0.5555555555555556,\"#d8576b\"],[0.6666666666666666,\"#ed7953\"],[0.7777777777777778,\"#fb9f3a\"],[0.8888888888888888,\"#fdca26\"],[1.0,\"#f0f921\"]],\"type\":\"contour\"}],\"contourcarpet\":[{\"colorbar\":{\"outlinewidth\":0,\"ticks\":\"\"},\"type\":\"contourcarpet\"}],\"heatmap\":[{\"colorbar\":{\"outlinewidth\":0,\"ticks\":\"\"},\"colorscale\":[[0.0,\"#0d0887\"],[0.1111111111111111,\"#46039f\"],[0.2222222222222222,\"#7201a8\"],[0.3333333333333333,\"#9c179e\"],[0.4444444444444444,\"#bd3786\"],[0.5555555555555556,\"#d8576b\"],[0.6666666666666666,\"#ed7953\"],[0.7777777777777778,\"#fb9f3a\"],[0.8888888888888888,\"#fdca26\"],[1.0,\"#f0f921\"]],\"type\":\"heatmap\"}],\"heatmapgl\":[{\"colorbar\":{\"outlinewidth\":0,\"ticks\":\"\"},\"colorscale\":[[0.0,\"#0d0887\"],[0.1111111111111111,\"#46039f\"],[0.2222222222222222,\"#7201a8\"],[0.3333333333333333,\"#9c179e\"],[0.4444444444444444,\"#bd3786\"],[0.5555555555555556,\"#d8576b\"],[0.6666666666666666,\"#ed7953\"],[0.7777777777777778,\"#fb9f3a\"],[0.8888888888888888,\"#fdca26\"],[1.0,\"#f0f921\"]],\"type\":\"heatmapgl\"}],\"histogram\":[{\"marker\":{\"pattern\":{\"fillmode\":\"overlay\",\"size\":10,\"solidity\":0.2}},\"type\":\"histogram\"}],\"histogram2d\":[{\"colorbar\":{\"outlinewidth\":0,\"ticks\":\"\"},\"colorscale\":[[0.0,\"#0d0887\"],[0.1111111111111111,\"#46039f\"],[0.2222222222222222,\"#7201a8\"],[0.3333333333333333,\"#9c179e\"],[0.4444444444444444,\"#bd3786\"],[0.5555555555555556,\"#d8576b\"],[0.6666666666666666,\"#ed7953\"],[0.7777777777777778,\"#fb9f3a\"],[0.8888888888888888,\"#fdca26\"],[1.0,\"#f0f921\"]],\"type\":\"histogram2d\"}],\"histogram2dcontour\":[{\"colorbar\":{\"outlinewidth\":0,\"ticks\":\"\"},\"colorscale\":[[0.0,\"#0d0887\"],[0.1111111111111111,\"#46039f\"],[0.2222222222222222,\"#7201a8\"],[0.3333333333333333,\"#9c179e\"],[0.4444444444444444,\"#bd3786\"],[0.5555555555555556,\"#d8576b\"],[0.6666666666666666,\"#ed7953\"],[0.7777777777777778,\"#fb9f3a\"],[0.8888888888888888,\"#fdca26\"],[1.0,\"#f0f921\"]],\"type\":\"histogram2dcontour\"}],\"mesh3d\":[{\"colorbar\":{\"outlinewidth\":0,\"ticks\":\"\"},\"type\":\"mesh3d\"}],\"parcoords\":[{\"line\":{\"colorbar\":{\"outlinewidth\":0,\"ticks\":\"\"}},\"type\":\"parcoords\"}],\"pie\":[{\"automargin\":true,\"type\":\"pie\"}],\"scatter\":[{\"marker\":{\"line\":{\"color\":\"#283442\"}},\"type\":\"scatter\"}],\"scatter3d\":[{\"line\":{\"colorbar\":{\"outlinewidth\":0,\"ticks\":\"\"}},\"marker\":{\"colorbar\":{\"outlinewidth\":0,\"ticks\":\"\"}},\"type\":\"scatter3d\"}],\"scattercarpet\":[{\"marker\":{\"colorbar\":{\"outlinewidth\":0,\"ticks\":\"\"}},\"type\":\"scattercarpet\"}],\"scattergeo\":[{\"marker\":{\"colorbar\":{\"outlinewidth\":0,\"ticks\":\"\"}},\"type\":\"scattergeo\"}],\"scattergl\":[{\"marker\":{\"line\":{\"color\":\"#283442\"}},\"type\":\"scattergl\"}],\"scattermapbox\":[{\"marker\":{\"colorbar\":{\"outlinewidth\":0,\"ticks\":\"\"}},\"type\":\"scattermapbox\"}],\"scatterpolar\":[{\"marker\":{\"colorbar\":{\"outlinewidth\":0,\"ticks\":\"\"}},\"type\":\"scatterpolar\"}],\"scatterpolargl\":[{\"marker\":{\"colorbar\":{\"outlinewidth\":0,\"ticks\":\"\"}},\"type\":\"scatterpolargl\"}],\"scatterternary\":[{\"marker\":{\"colorbar\":{\"outlinewidth\":0,\"ticks\":\"\"}},\"type\":\"scatterternary\"}],\"surface\":[{\"colorbar\":{\"outlinewidth\":0,\"ticks\":\"\"},\"colorscale\":[[0.0,\"#0d0887\"],[0.1111111111111111,\"#46039f\"],[0.2222222222222222,\"#7201a8\"],[0.3333333333333333,\"#9c179e\"],[0.4444444444444444,\"#bd3786\"],[0.5555555555555556,\"#d8576b\"],[0.6666666666666666,\"#ed7953\"],[0.7777777777777778,\"#fb9f3a\"],[0.8888888888888888,\"#fdca26\"],[1.0,\"#f0f921\"]],\"type\":\"surface\"}],\"table\":[{\"cells\":{\"fill\":{\"color\":\"#506784\"},\"line\":{\"color\":\"rgb(17,17,17)\"}},\"header\":{\"fill\":{\"color\":\"#2a3f5f\"},\"line\":{\"color\":\"rgb(17,17,17)\"}},\"type\":\"table\"}]},\"layout\":{\"annotationdefaults\":{\"arrowcolor\":\"#f2f5fa\",\"arrowhead\":0,\"arrowwidth\":1},\"autotypenumbers\":\"strict\",\"coloraxis\":{\"colorbar\":{\"outlinewidth\":0,\"ticks\":\"\"}},\"colorscale\":{\"diverging\":[[0,\"#8e0152\"],[0.1,\"#c51b7d\"],[0.2,\"#de77ae\"],[0.3,\"#f1b6da\"],[0.4,\"#fde0ef\"],[0.5,\"#f7f7f7\"],[0.6,\"#e6f5d0\"],[0.7,\"#b8e186\"],[0.8,\"#7fbc41\"],[0.9,\"#4d9221\"],[1,\"#276419\"]],\"sequential\":[[0.0,\"#0d0887\"],[0.1111111111111111,\"#46039f\"],[0.2222222222222222,\"#7201a8\"],[0.3333333333333333,\"#9c179e\"],[0.4444444444444444,\"#bd3786\"],[0.5555555555555556,\"#d8576b\"],[0.6666666666666666,\"#ed7953\"],[0.7777777777777778,\"#fb9f3a\"],[0.8888888888888888,\"#fdca26\"],[1.0,\"#f0f921\"]],\"sequentialminus\":[[0.0,\"#0d0887\"],[0.1111111111111111,\"#46039f\"],[0.2222222222222222,\"#7201a8\"],[0.3333333333333333,\"#9c179e\"],[0.4444444444444444,\"#bd3786\"],[0.5555555555555556,\"#d8576b\"],[0.6666666666666666,\"#ed7953\"],[0.7777777777777778,\"#fb9f3a\"],[0.8888888888888888,\"#fdca26\"],[1.0,\"#f0f921\"]]},\"colorway\":[\"#636efa\",\"#EF553B\",\"#00cc96\",\"#ab63fa\",\"#FFA15A\",\"#19d3f3\",\"#FF6692\",\"#B6E880\",\"#FF97FF\",\"#FECB52\"],\"font\":{\"color\":\"#f2f5fa\"},\"geo\":{\"bgcolor\":\"rgb(17,17,17)\",\"lakecolor\":\"rgb(17,17,17)\",\"landcolor\":\"rgb(17,17,17)\",\"showlakes\":true,\"showland\":true,\"subunitcolor\":\"#506784\"},\"hoverlabel\":{\"align\":\"left\"},\"hovermode\":\"closest\",\"mapbox\":{\"style\":\"dark\"},\"paper_bgcolor\":\"rgb(17,17,17)\",\"plot_bgcolor\":\"rgb(17,17,17)\",\"polar\":{\"angularaxis\":{\"gridcolor\":\"#506784\",\"linecolor\":\"#506784\",\"ticks\":\"\"},\"bgcolor\":\"rgb(17,17,17)\",\"radialaxis\":{\"gridcolor\":\"#506784\",\"linecolor\":\"#506784\",\"ticks\":\"\"}},\"scene\":{\"xaxis\":{\"backgroundcolor\":\"rgb(17,17,17)\",\"gridcolor\":\"#506784\",\"gridwidth\":2,\"linecolor\":\"#506784\",\"showbackground\":true,\"ticks\":\"\",\"zerolinecolor\":\"#C8D4E3\"},\"yaxis\":{\"backgroundcolor\":\"rgb(17,17,17)\",\"gridcolor\":\"#506784\",\"gridwidth\":2,\"linecolor\":\"#506784\",\"showbackground\":true,\"ticks\":\"\",\"zerolinecolor\":\"#C8D4E3\"},\"zaxis\":{\"backgroundcolor\":\"rgb(17,17,17)\",\"gridcolor\":\"#506784\",\"gridwidth\":2,\"linecolor\":\"#506784\",\"showbackground\":true,\"ticks\":\"\",\"zerolinecolor\":\"#C8D4E3\"}},\"shapedefaults\":{\"line\":{\"color\":\"#f2f5fa\"}},\"sliderdefaults\":{\"bgcolor\":\"#C8D4E3\",\"bordercolor\":\"rgb(17,17,17)\",\"borderwidth\":1,\"tickwidth\":0},\"ternary\":{\"aaxis\":{\"gridcolor\":\"#506784\",\"linecolor\":\"#506784\",\"ticks\":\"\"},\"baxis\":{\"gridcolor\":\"#506784\",\"linecolor\":\"#506784\",\"ticks\":\"\"},\"bgcolor\":\"rgb(17,17,17)\",\"caxis\":{\"gridcolor\":\"#506784\",\"linecolor\":\"#506784\",\"ticks\":\"\"}},\"title\":{\"x\":0.05},\"updatemenudefaults\":{\"bgcolor\":\"#506784\",\"borderwidth\":0},\"xaxis\":{\"automargin\":true,\"gridcolor\":\"#283442\",\"linecolor\":\"#506784\",\"ticks\":\"\",\"title\":{\"standoff\":15},\"zerolinecolor\":\"#283442\",\"zerolinewidth\":2},\"yaxis\":{\"automargin\":true,\"gridcolor\":\"#283442\",\"linecolor\":\"#506784\",\"ticks\":\"\",\"title\":{\"standoff\":15},\"zerolinecolor\":\"#283442\",\"zerolinewidth\":2}}},\"title\":{\"text\":\"Jul-08-2021 viz Jobs by 'titles' via google USE + tsne | all listings for CH eng. jobs\"},\"width\":960,\"xaxis\":{\"anchor\":\"y\",\"domain\":[0.0,1.0],\"title\":{\"text\":\"tsne_x\"}},\"yaxis\":{\"anchor\":\"x\",\"domain\":[0.0,1.0],\"title\":{\"text\":\"tsne_y\"}}},                        {\"responsive\": true}                    ).then(function(){\n",
              "                            \n",
              "var gd = document.getElementById('37fada7a-408f-4671-80f9-65d8c3cc4229');\n",
              "var x = new MutationObserver(function (mutations, observer) {{\n",
              "        var display = window.getComputedStyle(gd).display;\n",
              "        if (!display || display === 'none') {{\n",
              "            console.log([gd, 'removed!']);\n",
              "            Plotly.purge(gd);\n",
              "            observer.disconnect();\n",
              "        }}\n",
              "}});\n",
              "\n",
              "// Listen for the removal of the full notebook cells\n",
              "var notebookContainer = gd.closest('#notebook-container');\n",
              "if (notebookContainer) {{\n",
              "    x.observe(notebookContainer, {childList: true});\n",
              "}}\n",
              "\n",
              "// Listen for the clearing of the current output cell\n",
              "var outputEl = gd.closest('.output');\n",
              "if (outputEl) {{\n",
              "    x.observe(outputEl, {childList: true});\n",
              "}}\n",
              "\n",
              "                        })                };                            </script>        </div>\n",
              "</body>\n",
              "</html>"
            ]
          },
          "metadata": {
            "tags": []
          }
        },
        {
          "output_type": "stream",
          "text": [
            "plot generated -  2021-07-08 03:50:07.018735\n"
          ],
          "name": "stdout"
        }
      ]
    }
  ]
}