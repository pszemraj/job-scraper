{
  "nbformat": 4,
  "nbformat_minor": 0,
  "metadata": {
    "kernelspec": {
      "display_name": "Python 3",
      "language": "python",
      "name": "python3"
    },
    "language_info": {
      "codemirror_mode": {
        "name": "ipython",
        "version": 3
      },
      "file_extension": ".py",
      "mimetype": "text/x-python",
      "name": "python",
      "nbconvert_exporter": "python",
      "pygments_lexer": "ipython3",
      "version": "3.7.3"
    },
    "colab": {
      "name": "Job Scraper - CH Edition",
      "provenance": [],
      "collapsed_sections": [],
      "toc_visible": true,
      "include_colab_link": true
    }
  },
  "cells": [
    {
      "cell_type": "markdown",
      "metadata": {
        "id": "view-in-github",
        "colab_type": "text"
      },
      "source": [
        "<a href=\"https://colab.research.google.com/github/pszemraj/job-scraper/blob/master/switzerland/Job_Scraper_CH_Edition.ipynb\" target=\"_parent\"><img src=\"https://colab.research.google.com/assets/colab-badge.svg\" alt=\"Open In Colab\"/></a>"
      ]
    },
    {
      "cell_type": "markdown",
      "metadata": {
        "id": "-PjVjR8lmmQx"
      },
      "source": [
        "# job scraper (simple)\n",
        "\n",
        "from [this article](https://towardsdatascience.com/automating-my-job-search-with-python-ee2b465c6a8f) on medium\n",
        "\n"
      ]
    },
    {
      "cell_type": "markdown",
      "metadata": {
        "id": "-Hhorcuihr-u"
      },
      "source": [
        "# Set up"
      ]
    },
    {
      "cell_type": "code",
      "metadata": {
        "id": "tffFYWQPi-KF"
      },
      "source": [
        "%%capture\n",
        "\n",
        "!pip install -U selenium\n",
        "!pip install -U bs4\n",
        "\n",
        "from os.path import join\n",
        "from google.colab import data_table\n",
        "%load_ext google.colab.data_table\n"
      ],
      "execution_count": 2,
      "outputs": []
    },
    {
      "cell_type": "code",
      "metadata": {
        "id": "L1Xu5tlXhpC8"
      },
      "source": [
        "\"\"\"\n",
        "Created on Tue Apr 28 11:35:04 2020\n",
        "\n",
        "@author: chrislovejoy\n",
        "\"\"\"\n",
        "\n",
        "\n",
        "import urllib\n",
        "import requests\n",
        "from bs4 import BeautifulSoup\n",
        "import selenium\n",
        "from selenium import webdriver\n",
        "from selenium.webdriver.support.ui import WebDriverWait\n",
        "import pandas as pd\n",
        "import os\n"
      ],
      "execution_count": 3,
      "outputs": []
    },
    {
      "cell_type": "code",
      "metadata": {
        "id": "gFxtFF3Ql_4W"
      },
      "source": [
        "\n",
        "from IPython.display import HTML, display\n",
        "\n",
        "def set_css():\n",
        "  display(HTML('''\n",
        "  <style>\n",
        "    pre {\n",
        "        white-space: pre-wrap;\n",
        "    }\n",
        "  </style>\n",
        "  '''))\n",
        "get_ipython().events.register('pre_run_cell', set_css)"
      ],
      "execution_count": 4,
      "outputs": []
    },
    {
      "cell_type": "markdown",
      "metadata": {
        "id": "xYcIHh86mBci"
      },
      "source": [
        "## attempt to load driver\n",
        "\n",
        "this is just for the other website originally used. For the original job scraper, this file is supposed to be in your working directory.. I tried to store on dropbox and then load it but doesn't work. May look into a better solution for Colab in the future, but for now it is a TODO (eventually)"
      ]
    },
    {
      "cell_type": "code",
      "metadata": {
        "colab": {
          "base_uri": "https://localhost:8080/",
          "height": 34
        },
        "id": "Sw03_lVUkTBv",
        "outputId": "e67e8654-24f8-4d35-8adb-c9d6af079496"
      },
      "source": [
        "\n",
        "driver_url = \"https://www.dropbox.com/s/3e8kqk4c8hfcy83/chromedriver?dl=1\"\n",
        "r = requests.get(driver_url, allow_redirects=True)\n",
        "\n",
        "# names = getFilename_fromCd(r.headers.get('content-disposition'))\n",
        "# fixed_fnames = names.split(\";\") # split the multiple results\n",
        "# this_filename = URL_string_filter(fixed_fnames[0])\n",
        "this_filename = \"chromedriver\"\n",
        "storage_loc = os.getcwd()\n",
        "open(join(storage_loc, this_filename), 'wb').write(r.content)"
      ],
      "execution_count": 5,
      "outputs": [
        {
          "output_type": "display_data",
          "data": {
            "text/html": [
              "\n",
              "  <style>\n",
              "    pre {\n",
              "        white-space: pre-wrap;\n",
              "    }\n",
              "  </style>\n",
              "  "
            ],
            "text/plain": [
              "<IPython.core.display.HTML object>"
            ]
          },
          "metadata": {
            "tags": []
          }
        },
        {
          "output_type": "execute_result",
          "data": {
            "text/plain": [
              "14786468"
            ]
          },
          "metadata": {
            "tags": []
          },
          "execution_count": 5
        }
      ]
    },
    {
      "cell_type": "markdown",
      "metadata": {
        "id": "F3JHDcx3hrsR"
      },
      "source": [
        "# Job Search Functions\n"
      ]
    },
    {
      "cell_type": "markdown",
      "metadata": {
        "id": "dOvrznfs46rr"
      },
      "source": [
        "## generic"
      ]
    },
    {
      "cell_type": "code",
      "metadata": {
        "colab": {
          "base_uri": "https://localhost:8080/",
          "height": 17
        },
        "id": "Mkf4LMbS2Ex6",
        "outputId": "e76e611e-66c2-4112-9b97-0676d468de81"
      },
      "source": [
        "def save_jobs_to_excel(jobs_list, filename, verbose=False):\n",
        "    jobs = pd.DataFrame(jobs_list)\n",
        "    jobs.to_excel(filename)\n",
        "\n",
        "    if verbose:\n",
        "        print(\"saved the following to excel with filename {}: \\n\".format(filename))\n",
        "\n",
        "        print(jobs.info())\n",
        "    return jobs"
      ],
      "execution_count": 6,
      "outputs": [
        {
          "output_type": "display_data",
          "data": {
            "text/html": [
              "\n",
              "  <style>\n",
              "    pre {\n",
              "        white-space: pre-wrap;\n",
              "    }\n",
              "  </style>\n",
              "  "
            ],
            "text/plain": [
              "<IPython.core.display.HTML object>"
            ]
          },
          "metadata": {
            "tags": []
          }
        }
      ]
    },
    {
      "cell_type": "markdown",
      "metadata": {
        "id": "rC593SxF473a"
      },
      "source": [
        "## Swiss-specific"
      ]
    },
    {
      "cell_type": "code",
      "metadata": {
        "id": "rNpH9i8awJNX",
        "colab": {
          "base_uri": "https://localhost:8080/",
          "height": 17
        },
        "outputId": "410b3db0-e815-487a-8957-cae6190dba11"
      },
      "source": [
        "## added by Peter\n",
        "\n",
        "## indeed switzerland -------------------------------------------------------\n",
        "# website = \"https://ch.indeed.com/Switzerland-English-Jobs\"\n",
        "# base ->\n",
        "# example search https://ch.indeed.com/Stellen?q=Switzerland+English&jt=internship\n",
        "# data job, language = EN, no others: https://ch.indeed.com/Stellen?q=data&lang=en\n",
        "# ^ but internship https://ch.indeed.com/Stellen?q=data&jt=internship&lang=en\n",
        "\n",
        "def load_indeed_jobs_CH(job_query, job_type=None, language=None, \n",
        "                        run_default=False):\n",
        "    i_website = \"https://ch.indeed.com/Stellen?\"\n",
        "    def_website = \"https://ch.indeed.com/Stellen?q=Switzerland+English&jt=internship\"\n",
        "    if run_default:\n",
        "        # switzerland has a unique page shown below, can run by default\n",
        "        # website = \"https://ch.indeed.com/Switzerland-English-Jobs\"\n",
        "\n",
        "        url = def_website\n",
        "        page = requests.get(url)\n",
        "        soup = BeautifulSoup(page.content, \"html.parser\")\n",
        "        job_soup = soup.find(id=\"resultsCol\")\n",
        "    else:\n",
        "        getVars = {'q' : job_query, 'jt' : job_type, 'lang' : language,\n",
        "                'fromage' : 'last', 'sort' : 'date'}\n",
        "\n",
        "        # if values are not specified, then remove them from the dict (and URL)\n",
        "        if job_query is None:\n",
        "            del getVars['q']\n",
        "        if job_type is None:\n",
        "            del getVars['jt']\n",
        "        if language is None:\n",
        "            del getVars['lang']\n",
        "\n",
        "        url = (i_website + urllib.parse.urlencode(getVars))\n",
        "        page = requests.get(url)\n",
        "        soup = BeautifulSoup(page.content, \"html.parser\")\n",
        "        job_soup = soup.find(id=\"resultsCol\")\n",
        "\n",
        "    # return the job soup\n",
        "\n",
        "    soup_results = {\n",
        "        \"job_soup\": job_soup,\n",
        "        \"query_URL\": url\n",
        "\n",
        "    }\n",
        "    return soup_results\n",
        "\n",
        "\n"
      ],
      "execution_count": 7,
      "outputs": [
        {
          "output_type": "display_data",
          "data": {
            "text/html": [
              "\n",
              "  <style>\n",
              "    pre {\n",
              "        white-space: pre-wrap;\n",
              "    }\n",
              "  </style>\n",
              "  "
            ],
            "text/plain": [
              "<IPython.core.display.HTML object>"
            ]
          },
          "metadata": {
            "tags": []
          }
        }
      ]
    },
    {
      "cell_type": "code",
      "metadata": {
        "colab": {
          "base_uri": "https://localhost:8080/",
          "height": 17
        },
        "id": "6ujVfjl91mVh",
        "outputId": "ea9f0429-78f8-4086-9cc8-7ac423ceeda4"
      },
      "source": [
        "from datetime import date\n",
        "import pprint as pp\n",
        "\n",
        "today = date.today()\n",
        "# Month abbreviation, day and year\t\n",
        "d4 = today.strftime(\"%b-%d-%Y\")\n",
        "\n",
        "default_filename = d4 + \"JS_test_results.xls\"\n",
        "\n",
        "def find_CHjobs_from(website, desired_characs, job_query, job_type=None, \n",
        "                   language=None, filename=default_filename, verbose=False):    \n",
        "    \"\"\"\n",
        "    This function extracts all the desired characteristics of all new job postings\n",
        "    of the title and location specified and returns them in single file.\n",
        "    The arguments it takes are:\n",
        "        - Website: to specify which website to search (options: 'indeed' or 'indeed_default')\n",
        "        - job_query: words that you want to narrow down the jobs to. for example 'data'\n",
        "        - job_type: 'internship' or 'fulltime' or 'permanent'\n",
        "        - language: 'en' or 'de' or leave blank\n",
        "        - Desired_characs: this is a list of the job characteristics of interest,\n",
        "            from titles, companies, links and date_listed.\n",
        "        - Filename: default is \"JS_test_results.xls\", can be changed to whatever \n",
        "    \"\"\"\n",
        "    \n",
        "    if website == 'indeed':\n",
        "        sp_search = load_indeed_jobs_CH(job_query, \n",
        "                                       job_type=job_type, language=language)\n",
        "        job_soup = sp_search.get(\"job_soup\")\n",
        "        URL_used = sp_search.get(\"query_URL\")\n",
        "\n",
        "        if verbose:\n",
        "            print(\"\\n The full HTML docs are: \\n\")\n",
        "            pp.pprint(job_soup, compact=True)\n",
        "        jobs_list, num_listings = extract_job_information_indeedCH(job_soup, \n",
        "                                                                   desired_characs,\n",
        "                                                                   uURL=URL_used)\n",
        "    elif website == 'indeed_default':\n",
        "        job_soup = load_indeed_jobs_CH(job_query, run_default=True)\n",
        "        jobs_list, num_listings = extract_job_information_indeedCH(job_soup, desired_characs)\n",
        "\n",
        "    job_df = save_jobs_to_excel(jobs_list, filename)\n",
        " \n",
        "    print('{} new job postings retrieved from {}. Stored in {}.'.format(num_listings, \n",
        "                                                                          website, filename))\n",
        "    \n",
        "    return job_df\n",
        "        "
      ],
      "execution_count": 8,
      "outputs": [
        {
          "output_type": "display_data",
          "data": {
            "text/html": [
              "\n",
              "  <style>\n",
              "    pre {\n",
              "        white-space: pre-wrap;\n",
              "    }\n",
              "  </style>\n",
              "  "
            ],
            "text/plain": [
              "<IPython.core.display.HTML object>"
            ]
          },
          "metadata": {
            "tags": []
          }
        }
      ]
    },
    {
      "cell_type": "markdown",
      "metadata": {
        "id": "OLwW1mEe2P9F"
      },
      "source": [
        "## Indeed-specific"
      ]
    },
    {
      "cell_type": "code",
      "metadata": {
        "colab": {
          "base_uri": "https://localhost:8080/",
          "height": 17
        },
        "id": "dCZ31s1R2RJ-",
        "outputId": "f100f9bf-12c9-4335-b2a7-45b9e6d1f4eb"
      },
      "source": [
        "def_URL = \"https://ch.indeed.com/Stellen?\" + \"ADD_queries_here\" \n",
        "\n",
        "def extract_job_information_indeedCH(job_soup, desired_characs, uURL=def_URL):\n",
        "    job_elems = job_soup.find_all('div', class_='jobsearch-SerpJobCard')\n",
        "     \n",
        "    cols = []\n",
        "    extracted_info = []\n",
        "    \n",
        "    \n",
        "    if 'titles' in desired_characs:\n",
        "        titles = []\n",
        "        cols.append('titles')\n",
        "        for job_elem in job_elems:\n",
        "            titles.append(extract_job_title_indeed(job_elem))\n",
        "        extracted_info.append(titles)                    \n",
        "    \n",
        "    if 'companies' in desired_characs:\n",
        "        companies = []\n",
        "        cols.append('companies')\n",
        "        for job_elem in job_elems:\n",
        "            companies.append(extract_company_indeed(job_elem))\n",
        "        extracted_info.append(companies)\n",
        "    \n",
        "    if 'links' in desired_characs:\n",
        "        links = []\n",
        "        cols.append('links')\n",
        "        for job_elem in job_elems:\n",
        "            links.append(extract_link_indeedCH(job_elem, uURL))\n",
        "        extracted_info.append(links)\n",
        "    \n",
        "    if 'date_listed' in desired_characs:\n",
        "        dates = []\n",
        "        cols.append('date_listed')\n",
        "        for job_elem in job_elems:\n",
        "            dates.append(extract_date_indeed(job_elem))\n",
        "        extracted_info.append(dates)\n",
        "    \n",
        "    jobs_list = {}\n",
        "    \n",
        "    for j in range(len(cols)):\n",
        "        jobs_list[cols[j]] = extracted_info[j]\n",
        "    \n",
        "    num_listings = len(extracted_info[0])\n",
        "    \n",
        "    return jobs_list, num_listings\n",
        "\n",
        "\n",
        "def extract_job_title_indeed(job_elem):\n",
        "    title_elem = job_elem.find('h2', class_='title')\n",
        "    title = title_elem.text.strip()\n",
        "    return title\n",
        "\n",
        "def extract_company_indeed(job_elem):\n",
        "    company_elem = job_elem.find('span', class_='company')\n",
        "    company = company_elem.text.strip()\n",
        "    return company\n",
        "\n",
        "def extract_link_indeedCH(job_elem, uURL):\n",
        "    # working example https://ch.indeed.com/Stellen?q=data&jt=internship&lang=en&vjk=49ed864bd5e422fb\n",
        "\n",
        "    link = job_elem.find('a')['href']\n",
        "    uURL_list = uURL.split(\"&fromage=last\")\n",
        "    link = uURL_list[0] + \"&\" + link\n",
        "    return link.replace(\"/rc/clk?jk=\", \"vjk=\")\n",
        "\n",
        "def extract_date_indeed(job_elem):\n",
        "    date_elem = job_elem.find('span', class_='date')\n",
        "    date = date_elem.text.strip()\n",
        "    return date\n",
        "\n"
      ],
      "execution_count": 9,
      "outputs": [
        {
          "output_type": "display_data",
          "data": {
            "text/html": [
              "\n",
              "  <style>\n",
              "    pre {\n",
              "        white-space: pre-wrap;\n",
              "    }\n",
              "  </style>\n",
              "  "
            ],
            "text/plain": [
              "<IPython.core.display.HTML object>"
            ]
          },
          "metadata": {
            "tags": []
          }
        }
      ]
    },
    {
      "cell_type": "markdown",
      "metadata": {
        "id": "hV_apCm-iUXu"
      },
      "source": [
        "# Main"
      ]
    },
    {
      "cell_type": "markdown",
      "metadata": {
        "id": "RHCmgk5Hm4yj"
      },
      "source": [
        "## key settings"
      ]
    },
    {
      "cell_type": "code",
      "metadata": {
        "colab": {
          "base_uri": "https://localhost:8080/",
          "height": 17
        },
        "id": "mWGKOn2qcXhY",
        "outputId": "10d9a9cc-6af7-4fe4-942b-8640f8de1e18"
      },
      "source": [
        "desired_characs = ['titles', 'companies', 'links', 'date_listed']\n",
        "\n",
        "download_output = True"
      ],
      "execution_count": 10,
      "outputs": [
        {
          "output_type": "display_data",
          "data": {
            "text/html": [
              "\n",
              "  <style>\n",
              "    pre {\n",
              "        white-space: pre-wrap;\n",
              "    }\n",
              "  </style>\n",
              "  "
            ],
            "text/plain": [
              "<IPython.core.display.HTML object>"
            ]
          },
          "metadata": {
            "tags": []
          }
        }
      ]
    },
    {
      "cell_type": "markdown",
      "metadata": {
        "id": "3IMX9kI95Awh"
      },
      "source": [
        "## Swiss Jobs - Indeed\n",
        "\n",
        "```\n",
        "    This function extracts all the desired characteristics of all new job postings\n",
        "    of the title and location specified and returns them in single file.\n",
        "    The arguments it takes are:\n",
        "        - Website: to specify which website to search (options: 'indeed' or 'indeed_default')\n",
        "        - job_query: words that you want to narrow down the jobs to. for example 'data'\n",
        "        - job_type: 'internship' or 'fulltime' or 'permanent'\n",
        "        - language: 'en' or 'de' or leave blank\n",
        "        - Desired_characs: this is a list of the job characteristics of interest,\n",
        "            from titles, companies, links and date_listed.\n",
        "        - Filename: default is \"JS_test_results.xls\", can be changed to whatever \n",
        "```\n"
      ]
    },
    {
      "cell_type": "code",
      "metadata": {
        "colab": {
          "base_uri": "https://localhost:8080/",
          "height": 669
        },
        "id": "nLme2DE05A8J",
        "outputId": "e1721023-5700-4af7-9c3f-f87c0da25317"
      },
      "source": [
        "# website = \"https://ch.indeed.com/Switzerland-English-Jobs\"\n",
        "# base ->\n",
        "# example search https://ch.indeed.com/Stellen?q=Switzerland+English&jt=internship\n",
        "# data job, language = EN, no others: https://ch.indeed.com/Stellen?q=data&lang=en\n",
        "# ^ but internship https://ch.indeed.com/Stellen?q=data&jt=internship&lang=en\n",
        "# https://ch.indeed.com/Stellen?q=data&jt=internship&lang=en&vjk=2ffc5d47b54d9ed5\n",
        "    \n",
        "chdf1 = find_CHjobs_from(website=\"indeed\", desired_characs=desired_characs, \n",
        "                         job_query=\"data\", job_type=\"internship\", language=\"en\")\n",
        "    \n",
        "chdf1"
      ],
      "execution_count": 11,
      "outputs": [
        {
          "output_type": "display_data",
          "data": {
            "text/html": [
              "\n",
              "  <style>\n",
              "    pre {\n",
              "        white-space: pre-wrap;\n",
              "    }\n",
              "  </style>\n",
              "  "
            ],
            "text/plain": [
              "<IPython.core.display.HTML object>"
            ]
          },
          "metadata": {
            "tags": []
          }
        },
        {
          "output_type": "stream",
          "text": [
            "15 new job postings retrieved from indeed. Stored in May-13-2021JS_test_results.xls.\n"
          ],
          "name": "stdout"
        },
        {
          "output_type": "execute_result",
          "data": {
            "application/vnd.google.colaboratory.module+javascript": "\n      import \"https://ssl.gstatic.com/colaboratory/data_table/a6224c040fa35dcf/data_table.js\";\n\n      window.createDataTable({\n        data: [[{\n            'v': 0,\n            'f': \"0\",\n        },\n\"Circular Economy Intern (100%)\\nneu\",\n\"Lafarge\",\n\"https://ch.indeed.com/Stellen?q=data&jt=internship&lang=en&vjk=d6fd325360a73fc2&fccid=7618bab885a58aa7&vjs=3\",\n\"Heute\"],\n [{\n            'v': 1,\n            'f': \"1\",\n        },\n\"Middle Office Analyst - Internship\\nneu\",\n\"Total\",\n\"https://ch.indeed.com/Stellen?q=data&jt=internship&lang=en&vjk=7c8cfa69e09023da&fccid=43c5b67847a9226c&vjs=3\",\n\"vor 1 Tag\"],\n [{\n            'v': 2,\n            'f': \"2\",\n        },\n\"CONTENT & COMMUNITY MANAGEMENT in the field of \\u201cCOLLABORATIV...\\nneu\",\n\"digitalswitzerland\",\n\"https://ch.indeed.com/Stellen?q=data&jt=internship&lang=en&vjk=ebd0f933a0c54b1b&fccid=2231ddf477d55cda&vjs=3\",\n\"vor 1 Tag\"],\n [{\n            'v': 3,\n            'f': \"3\",\n        },\n\"R&D Internship - Product Development (Consumer Market)\\nneu\",\n\"Optotune\",\n\"https://ch.indeed.com/Stellen?q=data&jt=internship&lang=en&vjk=c08d55c42de26351&fccid=b8e7c2f0f4346bf5&vjs=3\",\n\"vor 1 Tag\"],\n [{\n            'v': 4,\n            'f': \"4\",\n        },\n\"Data Intelligence & Automation Intern - Richemont Europe\\nneu\",\n\"Richemont\",\n\"https://ch.indeed.com/Stellen?q=data&jt=internship&lang=en&vjk=49ed864bd5e422fb&fccid=8e2946f10f334da4&vjs=3\",\n\"vor 2 Tagen\"],\n [{\n            'v': 5,\n            'f': \"5\",\n        },\n\"Intern- Battery technology\\nneu\",\n\"HILTI\",\n\"https://ch.indeed.com/Stellen?q=data&jt=internship&lang=en&vjk=b4508647801ccf13&fccid=9a992a33fec815f4&vjs=3\",\n\"vor 2 Tagen\"],\n [{\n            'v': 6,\n            'f': \"6\",\n        },\n\"Student / Intern\\nneu\",\n\"Oracle\",\n\"https://ch.indeed.com/Stellen?q=data&jt=internship&lang=en&vjk=d7cb7aefb18f057b&fccid=cd22d01053af7669&vjs=3\",\n\"vor 2 Tagen\"],\n [{\n            'v': 7,\n            'f': \"7\",\n        },\n\"Internship Risk Management\\nneu\",\n\"Credit Suisse Campus\",\n\"https://ch.indeed.com/Stellen?q=data&jt=internship&lang=en&vjk=2b54cd4718eecd75&fccid=4fff4280b3334971&vjs=3\",\n\"vor 2 Tagen\"],\n [{\n            'v': 8,\n            'f': \"8\",\n        },\n\"Systems Pharmacology Internship\\nneu\",\n\"LYO-X GmbH\",\n\"https://ch.indeed.com/Stellen?q=data&jt=internship&lang=en&vjk=edb1613a98623a54&fccid=d9ede39d3f8e0d11&vjs=3\",\n\"vor 2 Tagen\"],\n [{\n            'v': 9,\n            'f': \"9\",\n        },\n\"INTERN - ENVIRONMENT AFFAIRS [Temporary]\\nneu\",\n\"United Nations\",\n\"https://ch.indeed.com/Stellen?q=data&jt=internship&lang=en&vjk=f8ad69ac2ad7345b&fccid=65ae769cb89830ec&vjs=3\",\n\"vor 2 Tagen\"],\n [{\n            'v': 10,\n            'f': \"10\",\n        },\n\"Internship in Financial Risk Management (40%-60%, up to 12 m...\\nneu\",\n\"Zurich Insurance\",\n\"https://ch.indeed.com/Stellen?q=data&jt=internship&lang=en&vjk=ca6fd366953a1dd4&fccid=34938366d45106af&vjs=3\",\n\"vor 3 Tagen\"],\n [{\n            'v': 11,\n            'f': \"11\",\n        },\n\"Junior VMware Administrator (f/m/d)\\nneu\",\n\"Deutsche B\\u00f6rse\",\n\"https://ch.indeed.com/Stellen?q=data&jt=internship&lang=en&vjk=bc4a4fc58ded3f4c&fccid=02c602903676a0a3&vjs=3\",\n\"vor 4 Tagen\"],\n [{\n            'v': 12,\n            'f': \"12\",\n        },\n\"Business Development Intern (100%)\\nneu\",\n\"9T Labs AG\",\n\"https://ch.indeed.com/Stellen?q=data&jt=internship&lang=en&vjk=4b4c792c3bea1c35&fccid=2f904f8473beda13&vjs=3\",\n\"vor 5 Tagen\"],\n [{\n            'v': 13,\n            'f': \"13\",\n        },\n\"Internship in Confidential Computing\\nneu\",\n\"decentriq\",\n\"https://ch.indeed.com/Stellen?q=data&jt=internship&lang=en&vjk=61c2306d046d9ee4&fccid=02a71afb27511e9b&vjs=3\",\n\"vor 5 Tagen\"],\n [{\n            'v': 14,\n            'f': \"14\",\n        },\n\"E-commerce Intern\\nneu\",\n\"Piaget\",\n\"https://ch.indeed.com/Stellen?q=data&jt=internship&lang=en&vjk=9798262db9d15752&fccid=3f3b1ff809b24322&vjs=3\",\n\"vor 6 Tagen\"]],\n        columns: [[\"number\", \"index\"], [\"string\", \"titles\"], [\"string\", \"companies\"], [\"string\", \"links\"], [\"string\", \"date_listed\"]],\n        columnOptions: [{\"width\": \"1px\", \"className\": \"index_column\"}],\n        rowsPerPage: 25,\n        helpUrl: \"https://colab.research.google.com/notebooks/data_table.ipynb\",\n        suppressOutputScrolling: true,\n        minimumWidth: undefined,\n      });\n    ",
            "text/html": [
              "<div>\n",
              "<style scoped>\n",
              "    .dataframe tbody tr th:only-of-type {\n",
              "        vertical-align: middle;\n",
              "    }\n",
              "\n",
              "    .dataframe tbody tr th {\n",
              "        vertical-align: top;\n",
              "    }\n",
              "\n",
              "    .dataframe thead th {\n",
              "        text-align: right;\n",
              "    }\n",
              "</style>\n",
              "<table border=\"1\" class=\"dataframe\">\n",
              "  <thead>\n",
              "    <tr style=\"text-align: right;\">\n",
              "      <th></th>\n",
              "      <th>titles</th>\n",
              "      <th>companies</th>\n",
              "      <th>links</th>\n",
              "      <th>date_listed</th>\n",
              "    </tr>\n",
              "  </thead>\n",
              "  <tbody>\n",
              "    <tr>\n",
              "      <th>0</th>\n",
              "      <td>Circular Economy Intern (100%)\\nneu</td>\n",
              "      <td>Lafarge</td>\n",
              "      <td>https://ch.indeed.com/Stellen?q=data&amp;jt=intern...</td>\n",
              "      <td>Heute</td>\n",
              "    </tr>\n",
              "    <tr>\n",
              "      <th>1</th>\n",
              "      <td>Middle Office Analyst - Internship\\nneu</td>\n",
              "      <td>Total</td>\n",
              "      <td>https://ch.indeed.com/Stellen?q=data&amp;jt=intern...</td>\n",
              "      <td>vor 1 Tag</td>\n",
              "    </tr>\n",
              "    <tr>\n",
              "      <th>2</th>\n",
              "      <td>CONTENT &amp; COMMUNITY MANAGEMENT in the field of...</td>\n",
              "      <td>digitalswitzerland</td>\n",
              "      <td>https://ch.indeed.com/Stellen?q=data&amp;jt=intern...</td>\n",
              "      <td>vor 1 Tag</td>\n",
              "    </tr>\n",
              "    <tr>\n",
              "      <th>3</th>\n",
              "      <td>R&amp;D Internship - Product Development (Consumer...</td>\n",
              "      <td>Optotune</td>\n",
              "      <td>https://ch.indeed.com/Stellen?q=data&amp;jt=intern...</td>\n",
              "      <td>vor 1 Tag</td>\n",
              "    </tr>\n",
              "    <tr>\n",
              "      <th>4</th>\n",
              "      <td>Data Intelligence &amp; Automation Intern - Richem...</td>\n",
              "      <td>Richemont</td>\n",
              "      <td>https://ch.indeed.com/Stellen?q=data&amp;jt=intern...</td>\n",
              "      <td>vor 2 Tagen</td>\n",
              "    </tr>\n",
              "    <tr>\n",
              "      <th>5</th>\n",
              "      <td>Intern- Battery technology\\nneu</td>\n",
              "      <td>HILTI</td>\n",
              "      <td>https://ch.indeed.com/Stellen?q=data&amp;jt=intern...</td>\n",
              "      <td>vor 2 Tagen</td>\n",
              "    </tr>\n",
              "    <tr>\n",
              "      <th>6</th>\n",
              "      <td>Student / Intern\\nneu</td>\n",
              "      <td>Oracle</td>\n",
              "      <td>https://ch.indeed.com/Stellen?q=data&amp;jt=intern...</td>\n",
              "      <td>vor 2 Tagen</td>\n",
              "    </tr>\n",
              "    <tr>\n",
              "      <th>7</th>\n",
              "      <td>Internship Risk Management\\nneu</td>\n",
              "      <td>Credit Suisse Campus</td>\n",
              "      <td>https://ch.indeed.com/Stellen?q=data&amp;jt=intern...</td>\n",
              "      <td>vor 2 Tagen</td>\n",
              "    </tr>\n",
              "    <tr>\n",
              "      <th>8</th>\n",
              "      <td>Systems Pharmacology Internship\\nneu</td>\n",
              "      <td>LYO-X GmbH</td>\n",
              "      <td>https://ch.indeed.com/Stellen?q=data&amp;jt=intern...</td>\n",
              "      <td>vor 2 Tagen</td>\n",
              "    </tr>\n",
              "    <tr>\n",
              "      <th>9</th>\n",
              "      <td>INTERN - ENVIRONMENT AFFAIRS [Temporary]\\nneu</td>\n",
              "      <td>United Nations</td>\n",
              "      <td>https://ch.indeed.com/Stellen?q=data&amp;jt=intern...</td>\n",
              "      <td>vor 2 Tagen</td>\n",
              "    </tr>\n",
              "    <tr>\n",
              "      <th>10</th>\n",
              "      <td>Internship in Financial Risk Management (40%-6...</td>\n",
              "      <td>Zurich Insurance</td>\n",
              "      <td>https://ch.indeed.com/Stellen?q=data&amp;jt=intern...</td>\n",
              "      <td>vor 3 Tagen</td>\n",
              "    </tr>\n",
              "    <tr>\n",
              "      <th>11</th>\n",
              "      <td>Junior VMware Administrator (f/m/d)\\nneu</td>\n",
              "      <td>Deutsche Börse</td>\n",
              "      <td>https://ch.indeed.com/Stellen?q=data&amp;jt=intern...</td>\n",
              "      <td>vor 4 Tagen</td>\n",
              "    </tr>\n",
              "    <tr>\n",
              "      <th>12</th>\n",
              "      <td>Business Development Intern (100%)\\nneu</td>\n",
              "      <td>9T Labs AG</td>\n",
              "      <td>https://ch.indeed.com/Stellen?q=data&amp;jt=intern...</td>\n",
              "      <td>vor 5 Tagen</td>\n",
              "    </tr>\n",
              "    <tr>\n",
              "      <th>13</th>\n",
              "      <td>Internship in Confidential Computing\\nneu</td>\n",
              "      <td>decentriq</td>\n",
              "      <td>https://ch.indeed.com/Stellen?q=data&amp;jt=intern...</td>\n",
              "      <td>vor 5 Tagen</td>\n",
              "    </tr>\n",
              "    <tr>\n",
              "      <th>14</th>\n",
              "      <td>E-commerce Intern\\nneu</td>\n",
              "      <td>Piaget</td>\n",
              "      <td>https://ch.indeed.com/Stellen?q=data&amp;jt=intern...</td>\n",
              "      <td>vor 6 Tagen</td>\n",
              "    </tr>\n",
              "  </tbody>\n",
              "</table>\n",
              "</div>"
            ],
            "text/plain": [
              "                                               titles  ...  date_listed\n",
              "0                 Circular Economy Intern (100%)\\nneu  ...        Heute\n",
              "1             Middle Office Analyst - Internship\\nneu  ...    vor 1 Tag\n",
              "2   CONTENT & COMMUNITY MANAGEMENT in the field of...  ...    vor 1 Tag\n",
              "3   R&D Internship - Product Development (Consumer...  ...    vor 1 Tag\n",
              "4   Data Intelligence & Automation Intern - Richem...  ...  vor 2 Tagen\n",
              "5                     Intern- Battery technology\\nneu  ...  vor 2 Tagen\n",
              "6                               Student / Intern\\nneu  ...  vor 2 Tagen\n",
              "7                     Internship Risk Management\\nneu  ...  vor 2 Tagen\n",
              "8                Systems Pharmacology Internship\\nneu  ...  vor 2 Tagen\n",
              "9       INTERN - ENVIRONMENT AFFAIRS [Temporary]\\nneu  ...  vor 2 Tagen\n",
              "10  Internship in Financial Risk Management (40%-6...  ...  vor 3 Tagen\n",
              "11           Junior VMware Administrator (f/m/d)\\nneu  ...  vor 4 Tagen\n",
              "12            Business Development Intern (100%)\\nneu  ...  vor 5 Tagen\n",
              "13          Internship in Confidential Computing\\nneu  ...  vor 5 Tagen\n",
              "14                             E-commerce Intern\\nneu  ...  vor 6 Tagen\n",
              "\n",
              "[15 rows x 4 columns]"
            ]
          },
          "metadata": {
            "tags": []
          },
          "execution_count": 11
        }
      ]
    },
    {
      "cell_type": "markdown",
      "metadata": {
        "id": "Effb7t5yddAg"
      },
      "source": [
        "## download excel"
      ]
    },
    {
      "cell_type": "code",
      "metadata": {
        "colab": {
          "base_uri": "https://localhost:8080/",
          "height": 17
        },
        "id": "FXPdwghBcFh-",
        "outputId": "8aeba359-2382-4fc2-ad7f-1a34eb6fc91a"
      },
      "source": [
        "from google.colab import files\n",
        "\n",
        "if download_output:\n",
        "    out_name = \"search1.xlsx\"\n",
        "    chdf1.to_excel(out_name)\n",
        "    files.download(out_name)"
      ],
      "execution_count": 13,
      "outputs": [
        {
          "output_type": "display_data",
          "data": {
            "text/html": [
              "\n",
              "  <style>\n",
              "    pre {\n",
              "        white-space: pre-wrap;\n",
              "    }\n",
              "  </style>\n",
              "  "
            ],
            "text/plain": [
              "<IPython.core.display.HTML object>"
            ]
          },
          "metadata": {
            "tags": []
          }
        },
        {
          "output_type": "display_data",
          "data": {
            "application/javascript": [
              "\n",
              "    async function download(id, filename, size) {\n",
              "      if (!google.colab.kernel.accessAllowed) {\n",
              "        return;\n",
              "      }\n",
              "      const div = document.createElement('div');\n",
              "      const label = document.createElement('label');\n",
              "      label.textContent = `Downloading \"${filename}\": `;\n",
              "      div.appendChild(label);\n",
              "      const progress = document.createElement('progress');\n",
              "      progress.max = size;\n",
              "      div.appendChild(progress);\n",
              "      document.body.appendChild(div);\n",
              "\n",
              "      const buffers = [];\n",
              "      let downloaded = 0;\n",
              "\n",
              "      const channel = await google.colab.kernel.comms.open(id);\n",
              "      // Send a message to notify the kernel that we're ready.\n",
              "      channel.send({})\n",
              "\n",
              "      for await (const message of channel.messages) {\n",
              "        // Send a message to notify the kernel that we're ready.\n",
              "        channel.send({})\n",
              "        if (message.buffers) {\n",
              "          for (const buffer of message.buffers) {\n",
              "            buffers.push(buffer);\n",
              "            downloaded += buffer.byteLength;\n",
              "            progress.value = downloaded;\n",
              "          }\n",
              "        }\n",
              "      }\n",
              "      const blob = new Blob(buffers, {type: 'application/binary'});\n",
              "      const a = document.createElement('a');\n",
              "      a.href = window.URL.createObjectURL(blob);\n",
              "      a.download = filename;\n",
              "      div.appendChild(a);\n",
              "      a.click();\n",
              "      div.remove();\n",
              "    }\n",
              "  "
            ],
            "text/plain": [
              "<IPython.core.display.Javascript object>"
            ]
          },
          "metadata": {
            "tags": []
          }
        },
        {
          "output_type": "display_data",
          "data": {
            "application/javascript": [
              "download(\"download_be2f4896-75a9-4ed1-ac8f-7ff31efb8f15\", \"search1.xlsx\", 6423)"
            ],
            "text/plain": [
              "<IPython.core.display.Javascript object>"
            ]
          },
          "metadata": {
            "tags": []
          }
        }
      ]
    }
  ]
}